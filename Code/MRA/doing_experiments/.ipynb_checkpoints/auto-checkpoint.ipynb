{
 "cells": [
  {
   "cell_type": "markdown",
   "id": "142c52d0-d442-4c3d-94a7-40d6eb980d3e",
   "metadata": {},
   "source": [
    "# Import packages"
   ]
  },
  {
   "cell_type": "markdown",
   "id": "be32a819-ee3d-4992-85c8-e25c20df77d6",
   "metadata": {
    "tags": []
   },
   "source": [
    "### Import python packages"
   ]
  },
  {
   "cell_type": "code",
   "execution_count": 1,
   "id": "29b6b0f5-36ce-435e-9af6-b9394bdff7fe",
   "metadata": {},
   "outputs": [],
   "source": [
    "import re,os,glob\n",
    "os.environ[\"CUDA_VISIBLE_DEVICES\"]=\"7\"\n",
    "import numpy as np\n",
    "import tensorflow as tf\n",
    "import matplotlib.pyplot as plt\n",
    "import matplotlib.patches as mpatches\n",
    "from IPython.display import clear_output\n",
    "import pandas as pd\n",
    "import math\n",
    "import random\n",
    "from datetime import datetime\n",
    "from scipy.stats import linregress\n",
    "from sklearn.decomposition import PCA\n",
    "from tqdm import trange, tqdm\n",
    "from mpl_toolkits.mplot3d import Axes3D\n",
    "import plotly.express as px\n",
    "import plotly.graph_objects as go\n",
    "from sklearn.manifold import TSNE\n",
    "import scipy\n",
    "from scipy import interpolate\n",
    "tfk = tf.keras\n",
    "tfkl = tf.keras.layers\n",
    "clear_output()\n",
    "from MRA_generate import MRA_generate\n",
    "from parameters import *\n",
    "import symae_core as symae\n",
    "from movie_redatum import movie_redatum "
   ]
  },
  {
   "cell_type": "markdown",
   "id": "5b0355f5-94ef-43ee-a301-ca3cfebda150",
   "metadata": {
    "tags": []
   },
   "source": [
    "# Generate dataset X"
   ]
  },
  {
   "cell_type": "markdown",
   "id": "0fec8f5a-8e67-406a-8e59-e5b9ab43e317",
   "metadata": {
    "tags": []
   },
   "source": [
    "### Define $n_\\varepsilon$ states"
   ]
  },
  {
   "cell_type": "code",
   "execution_count": 2,
   "id": "7851fe1a-ba40-4147-b9e7-cc8e4a680e49",
   "metadata": {},
   "outputs": [
    {
     "ename": "SyntaxError",
     "evalue": "invalid syntax (1563918363.py, line 23)",
     "output_type": "error",
     "traceback": [
      "\u001b[0;36m  Input \u001b[0;32mIn [2]\u001b[0;36m\u001b[0m\n\u001b[0;31m    if n=3:\u001b[0m\n\u001b[0m        ^\u001b[0m\n\u001b[0;31mSyntaxError\u001b[0m\u001b[0;31m:\u001b[0m invalid syntax\n"
     ]
    }
   ],
   "source": [
    "def g(n,x):\n",
    "    if n==0:\n",
    "        return int(x<0.5)\n",
    "    elif n==1:\n",
    "        return math.cos(2*math.pi*x)/2 + 0.5\n",
    "    elif n==2:\n",
    "        if x<0.5: \n",
    "            return 1-2*x\n",
    "        else:     \n",
    "            return 0\n",
    "    elif n==3:\n",
    "        return 2*int(x<0.5)-1\n",
    "    elif n==4:\n",
    "        return math.cos(2*math.pi*x)\n",
    "    elif n==5:\n",
    "        if x<0.5: \n",
    "            return 1-4*x\n",
    "        else:     \n",
    "            return -1\n",
    "def g(n,x):\n",
    "    if n<3:\n",
    "        return math.e**(-(n+1)*(x-0.5)**2)\n",
    "    if n==3:\n",
    "        return math.e**(-6*(x-0.5)**2)\n",
    "    if n==4:\n",
    "        return math.e**(-10*(x-0.5)**2)\n",
    "    if n==5:\n",
    "        return math.e**(-20*(x-0.5)**2)"
   ]
  },
  {
   "cell_type": "code",
   "execution_count": null,
   "id": "8d16303c-e0ee-4d79-a967-28ebd979ea8c",
   "metadata": {},
   "outputs": [],
   "source": [
    "fig, axs = plt.subplots(1, ne, sharex=True, sharey=True, figsize=(ne*4, 4))\n",
    "for i in range(ne):\n",
    "    axs[i].plot(range(d), [g(i,x/d) for x in range(d)])\n",
    "plt.suptitle('Show the shape of all $n_\\epsilon$ = %d states'%ne)"
   ]
  },
  {
   "cell_type": "markdown",
   "id": "142efc9f-3c05-4496-9616-6558f6db3963",
   "metadata": {
    "tags": []
   },
   "source": [
    "### Generate the dataset"
   ]
  },
  {
   "cell_type": "code",
   "execution_count": null,
   "id": "446a88b6-78b3-4bba-889f-6f9fc98be21e",
   "metadata": {},
   "outputs": [],
   "source": [
    "MRA_training = MRA_generate(d,nt,N,0,ne,g,replace=0,continuous=False)\n",
    "MRA_training.generate_default()\n",
    "X = MRA_training.X\n",
    "states = MRA_training.states\n",
    "shifts = MRA_training.shifts"
   ]
  },
  {
   "cell_type": "markdown",
   "id": "3a98a960-b55b-48ae-b3c1-d11578758dad",
   "metadata": {
    "tags": []
   },
   "source": [
    "### Print the structure of dataset X"
   ]
  },
  {
   "cell_type": "code",
   "execution_count": null,
   "id": "8bf13490-1320-43b9-86a7-06576be193aa",
   "metadata": {},
   "outputs": [],
   "source": [
    "select_times = MRA_training.select_times\n",
    "plt.figure(figsize=(5,5),dpi=100)\n",
    "plt.matshow(select_times.T, aspect='auto', fignum=1)\n",
    "plt.colorbar()\n",
    "plt.title('How many times has each block in D been selected by X?')\n",
    "plt.show()"
   ]
  },
  {
   "cell_type": "markdown",
   "id": "1ffcb044-d886-483e-947e-54a5e9ef56d3",
   "metadata": {
    "tags": []
   },
   "source": [
    "# Train SymAE"
   ]
  },
  {
   "cell_type": "markdown",
   "id": "be9f1b37-3a38-4fb7-9702-7577161e3fa8",
   "metadata": {
    "tags": []
   },
   "source": [
    "### Layer"
   ]
  },
  {
   "cell_type": "code",
   "execution_count": null,
   "id": "3c45c54c-4bde-450a-affe-533baef5332d",
   "metadata": {},
   "outputs": [],
   "source": [
    "class LatentCat(tf.keras.Model):\n",
    "    def __init__(self, alpha=0.5):\n",
    "        super(LatentCat, self).__init__(name = 'latentcat')\n",
    "        self.drop = tfkl.Dropout(alpha)\n",
    "    def call(self, zsym, znuisance, training=False):\n",
    "        znuisance = self.drop(znuisance, training=training)\n",
    "        znuisance = tfkl.Flatten()(znuisance)\n",
    "        z = tfkl.concatenate([zsym, znuisance])\n",
    "        return z"
   ]
  },
  {
   "cell_type": "code",
   "execution_count": null,
   "id": "dedb86c2-7a5c-45e5-b226-82fa181fa746",
   "metadata": {},
   "outputs": [],
   "source": [
    "class SymAE(tf.keras.Model):\n",
    "    def __init__(self, N, nt, d, p, q, r): \n",
    "        super(SymAE, self).__init__()\n",
    "        # Build symmetric encoder\n",
    "        sym_encoder = symae.SymmetricEncoder1D(p)\n",
    "        self.sym_encoder = sym_encoder\n",
    "        \n",
    "        # Build nuisance encoder\n",
    "        nui_encoder = symae.NuisanceEncoder1D(q)\n",
    "        self.nui_encoder = nui_encoder\n",
    "        \n",
    "        # Build distribute in decoder\n",
    "        distzsym = symae.DistributeZsym(nt, p, q)\n",
    "        self.distzsym = distzsym\n",
    "        \n",
    "        #Build mixer in decoder\n",
    "        mixer = symae.Mixer1D(d)\n",
    "        self.mixer = mixer\n",
    "        \n",
    "        # Build latentcat\n",
    "        latentcat = LatentCat(r)\n",
    "        self.latentcat = latentcat        \n",
    "        \n",
    "        # Build encoder\n",
    "        encoder_input = tfk.Input(shape=(nt,d,1), dtype='float32', name='encoder_input')\n",
    "        znuisance = nui_encoder(encoder_input)\n",
    "        zsym = sym_encoder(encoder_input)\n",
    "        encoder_output = latentcat(zsym,znuisance)\n",
    "        encoder = tfk.Model(encoder_input, encoder_output, name=\"encoder\")\n",
    "        self.encoder = encoder\n",
    "        \n",
    "        # Build decoder\n",
    "        decoder_input = tfk.Input(shape=(p+q*nt), name='latentcode')\n",
    "        decoder_output = mixer(distzsym(decoder_input))\n",
    "        decoder = tfk.Model(decoder_input,decoder_output, name=\"decoder\") \n",
    "        self.decoder = decoder\n",
    "        \n",
    "    def call(self, x):\n",
    "        sym_code = self.sym_encoder(x)\n",
    "        nui_code = self.nui_encoder(x)\n",
    "        z = self.latentcat(sym_code, nui_code)\n",
    "        dist = self.distzsym(z)\n",
    "        out = self.mixer(dist)\n",
    "        return out"
   ]
  },
  {
   "cell_type": "markdown",
   "id": "0a7bb053-92ed-4a2f-8ca4-2afbc4b26b72",
   "metadata": {
    "tags": []
   },
   "source": [
    "### Initialize SymAE and load weights"
   ]
  },
  {
   "cell_type": "code",
   "execution_count": null,
   "id": "bfba71e4-21f2-4ba0-82f3-a74bcc7e7a7d",
   "metadata": {},
   "outputs": [],
   "source": []
  },
  {
   "cell_type": "code",
   "execution_count": null,
   "id": "5c024503-8110-4b80-8d6b-dd0b1169459c",
   "metadata": {},
   "outputs": [],
   "source": [
    "my_list=[(5, 10, 0.5, 0)]"
   ]
  },
  {
   "cell_type": "code",
   "execution_count": null,
   "id": "db7e1c67-559e-4aea-b124-76ce667fbda3",
   "metadata": {},
   "outputs": [],
   "source": [
    "for (p,q,r,lam) in my_list:\n",
    "    path = './hom,p=%d,q=%d,r=%.1f,l=%.2f'%(p,q,r,lam)    \n",
    "    #import symae_model \n",
    "    model = SymAE(N,nt,d,p,q,r)\n",
    "    #model = symae_model.SymAE(N,nt,d,p,q,5,64,0.0)\n",
    "    clear_output()\n",
    "    try: \n",
    "        model.load_weights(path+'/checkpoint')\n",
    "        print(\"old\")    \n",
    "    except:\n",
    "        print(\"new\")\n",
    "    #model.latentcat.drop.rate = 0.0\n",
    "\n",
    "    optimizer = tf.keras.optimizers.Adam(0.001)\n",
    "    mse = tf.keras.losses.MeanSquaredError()\n",
    "\n",
    "    def reconstruction_loss(model, x, training=False):\n",
    "        x_hat = model(x, training=True)\n",
    "        return mse(x, x_hat)\n",
    "    def norm(x, ord=1.8, axis=-1):\n",
    "        if ord==1:\n",
    "            return tf.math.abs(x,axis=axis)\n",
    "        elif ord==2:\n",
    "            return tf.sqrt(tf.reduce_sum(tf.square(x), axis=axis) + 1.0e-12)\n",
    "        else:\n",
    "            return tf.math.pow((tf.reduce_sum(tf.square(x), axis=axis) + 1.0e-12),ord/2)\n",
    "    @tf.function\n",
    "    def set_distance(s1,s2):\n",
    "        ''' |s1|=N*|s2| '''\n",
    "        '''WARNING: this layer rely on broadcasting'''\n",
    "        s1_ = tf.expand_dims(s1, 0)\n",
    "        s1__ = tf.expand_dims(s1, 1)\n",
    "        s2_ = tf.expand_dims(s2, 0)\n",
    "        s2__ = tf.expand_dims(s2, 1)\n",
    "        s12 = tf.reduce_mean(norm(s1_-s2__, axis=-1))\n",
    "        s11 = tf.reduce_mean(norm(s1_-s1__, axis=-1))\n",
    "        s22 = tf.reduce_mean(norm(s2_-s2__, axis=-1))\n",
    "        s = s12-s11/2-s22/2\n",
    "        return s\n",
    "    def mutual_info_penalty(model, x, training=False):\n",
    "        z = model.encoder(x, training=False)\n",
    "        coherent_code = z[:,0:p]\n",
    "        nuisance_code = z[:,p:p+nt*q]\n",
    "        all_points = tf.reshape(nuisance_code,[-1,q])\n",
    "        std = tf.math.reduce_std(all_points, 0)\n",
    "        std = tf.ones_like(std)\n",
    "        s = 0.0\n",
    "        for i in trange(z.shape[0]):\n",
    "            s += set_distance(all_points, all_points[i*nt:(i+1)*nt,:])\n",
    "        return s\n",
    "    @tf.function\n",
    "    def train_step(model, x, training=True):\n",
    "        with tf.GradientTape() as tape:\n",
    "            loss_rec = reconstruction_loss(model, x, training)\n",
    "            loss_cor = mutual_info_penalty(model, x, training)*lam\n",
    "            loss = loss_rec + loss_cor\n",
    "        gradients = tape.gradient(loss, model.trainable_variables)\n",
    "        optimizer.apply_gradients(zip(gradients, model.trainable_variables))\n",
    "        return loss_rec, loss_cor\n",
    "\n",
    "    try:\n",
    "        os.mkdir(path)\n",
    "    except:\n",
    "        print('exists')\n",
    "\n",
    "    try:\n",
    "        epoch = int(re.findall(r\"\\d+\",glob.glob(path+'/*.epoch')[0])[-1])\n",
    "        print(epoch)\n",
    "    except:\n",
    "        epoch = 0\n",
    "        os.mkdir(path+'/0.epoch')\n",
    "\n",
    "    for i in range(10000):\n",
    "        epoch += 1\n",
    "        os.mkdir(path+'/%d.epoch'%epoch)\n",
    "        os.rmdir(path+'/%d.epoch'%(epoch-1))    \n",
    "        loss_rec, loss_cor = train_step(model, X)\n",
    "        print(\"For epoch {:d}, reconstruction loss is {:f}, correlation loss is {:f}.\"\n",
    "              .format(epoch, loss_rec, loss_cor))\n",
    "        clear_output(wait=True)\n",
    "\n",
    "    model.save_weights(path+'/checkpoint')\n",
    "    print(\"weights saved\")\n",
    "\n",
    "    fig = movie_redatum(g,model)\n",
    "    fig.savefig(path+\"/redatum.pdf\", format='pdf', dpi=200)\n",
    "\n",
    "    MRA_test = MRA_generate(d,nt,100,sigma,ne,g,replace=0,continuous=False)\n",
    "    MRA_test.generate_default()\n",
    "    clear_output()\n",
    "    N_code = model.nui_encoder.predict(MRA_test.X,verbose=0)\n",
    "    N_reshaped = N_code.reshape(-1,q)\n",
    "    N_states = np.repeat(MRA_test.states,nt)\n",
    "    N_shifts = MRA_test.shifts.reshape(-1,1)\n",
    "\n",
    "    pca_N = PCA(2).fit_transform(N_reshaped)\n",
    "    df = pd.DataFrame(pca_N, columns = ['first principal component','second principal component'])\n",
    "    df_states = pd.DataFrame(N_states,columns=['state']).astype('object')\n",
    "    df_shifts = pd.DataFrame(N_shifts,columns=['shift'])\n",
    "    df = pd.concat([df,df_states,df_shifts],axis=1)\n",
    "    df = df.sort_values(by=['state'])\n",
    "    fig = px.scatter(df, x='first principal component', y='second principal component', \n",
    "                     color='state', text='shift')\n",
    "    fig.update_layout(width=500, height=400, title=\"PCA of latent nuisance codes\")\n",
    "    fig.show()\n",
    "    fig.write_image(path+'/latent.pdf')"
   ]
  },
  {
   "cell_type": "code",
   "execution_count": null,
   "id": "8cdf1ec6-a332-4f2d-a8a8-8d31ee1a9d78",
   "metadata": {},
   "outputs": [],
   "source": [
    "movie_redatum(g,model)"
   ]
  },
  {
   "cell_type": "code",
   "execution_count": null,
   "id": "bface90f-c55b-4609-89eb-44340240e4a7",
   "metadata": {},
   "outputs": [],
   "source": []
  },
  {
   "cell_type": "code",
   "execution_count": null,
   "id": "f538afbd-c821-46d8-acad-dc02c8a24ca8",
   "metadata": {},
   "outputs": [],
   "source": []
  },
  {
   "cell_type": "code",
   "execution_count": null,
   "id": "b071ea44-98e8-406f-98be-ef89fe250160",
   "metadata": {},
   "outputs": [],
   "source": []
  }
 ],
 "metadata": {
  "kernelspec": {
   "display_name": "Python 3 (ipykernel)",
   "language": "python",
   "name": "python3"
  },
  "language_info": {
   "codemirror_mode": {
    "name": "ipython",
    "version": 3
   },
   "file_extension": ".py",
   "mimetype": "text/x-python",
   "name": "python",
   "nbconvert_exporter": "python",
   "pygments_lexer": "ipython3",
   "version": "3.9.12"
  }
 },
 "nbformat": 4,
 "nbformat_minor": 5
}
