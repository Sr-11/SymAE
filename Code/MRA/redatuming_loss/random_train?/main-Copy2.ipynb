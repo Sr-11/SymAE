{
 "cells": [
  {
   "cell_type": "markdown",
   "id": "142c52d0-d442-4c3d-94a7-40d6eb980d3e",
   "metadata": {},
   "source": [
    "# Import packages"
   ]
  },
  {
   "cell_type": "markdown",
   "id": "be32a819-ee3d-4992-85c8-e25c20df77d6",
   "metadata": {
    "tags": []
   },
   "source": [
    "### Import python packages"
   ]
  },
  {
   "cell_type": "code",
   "execution_count": 1,
   "id": "29b6b0f5-36ce-435e-9af6-b9394bdff7fe",
   "metadata": {},
   "outputs": [],
   "source": [
    "import re,os\n",
    "os.environ[\"CUDA_VISIBLE_DEVICES\"]=\"3\"\n",
    "import numpy as np\n",
    "import tensorflow as tf\n",
    "import matplotlib.pyplot as plt\n",
    "import matplotlib.patches as mpatches\n",
    "from IPython.display import clear_output\n",
    "import pandas as pd\n",
    "import math\n",
    "import random\n",
    "from datetime import datetime\n",
    "from scipy.stats import linregress\n",
    "from sklearn.decomposition import PCA\n",
    "from tqdm import trange, tqdm\n",
    "from mpl_toolkits.mplot3d import Axes3D\n",
    "import plotly.express as px\n",
    "import plotly.graph_objects as go\n",
    "from sklearn.manifold import TSNE\n",
    "import scipy\n",
    "from scipy import interpolate\n",
    "tfk = tf.keras\n",
    "tfkl = tf.keras.layers\n",
    "clear_output()"
   ]
  },
  {
   "cell_type": "markdown",
   "id": "9de24bc6-53dd-4662-848e-172b1c5cccd6",
   "metadata": {
    "tags": []
   },
   "source": [
    "### Import custom packages"
   ]
  },
  {
   "cell_type": "code",
   "execution_count": 2,
   "id": "dd50e50c-cd4a-4bce-bbbd-52c40895575b",
   "metadata": {},
   "outputs": [
    {
     "name": "stdout",
     "output_type": "stream",
     "text": [
      "Num GPUs Available:  1\n",
      "TensorFlow Version:  2.9.1\n"
     ]
    }
   ],
   "source": [
    "from MRA_generate import MRA_generate\n",
    "from symae_model import SymAE\n",
    "from parameters import *\n",
    "from redatuming import redatuming\n",
    "from latent import latent\n",
    "from plot_training import plot_training\n",
    "from plot_redatuming import plot_redatuming\n",
    "from plot_save import plot_save"
   ]
  },
  {
   "cell_type": "markdown",
   "id": "1ffcb044-d886-483e-947e-54a5e9ef56d3",
   "metadata": {
    "tags": []
   },
   "source": [
    "# Train SymAE"
   ]
  },
  {
   "cell_type": "markdown",
   "id": "0a7bb053-92ed-4a2f-8ca4-2afbc4b26b72",
   "metadata": {
    "tags": []
   },
   "source": [
    "### Initialize SymAE and load weights"
   ]
  },
  {
   "cell_type": "code",
   "execution_count": 32,
   "id": "f88526f1-9463-4e85-bf1b-cb0cbad1ea28",
   "metadata": {},
   "outputs": [],
   "source": [
    "model = SymAE(N,nt,d,p,q,kernel_size,filters,dropout_rate)\n",
    "#model.load_weights('./checkpoint/'+'p=%d,q=%d,ne=%d'%(p,q,ne))\n",
    "clear_output()"
   ]
  },
  {
   "cell_type": "code",
   "execution_count": 33,
   "id": "ebd32ce1-3f16-4b51-99b8-2d837aa83b16",
   "metadata": {},
   "outputs": [],
   "source": [
    "model.latentcat.drop.rate = 0.0\n",
    "model.latentcat.drop.stddev = 0.0"
   ]
  },
  {
   "cell_type": "markdown",
   "id": "8a1a48c9-eab9-4775-af0c-5b3181b52ae6",
   "metadata": {},
   "source": [
    "### Data"
   ]
  },
  {
   "cell_type": "code",
   "execution_count": 110,
   "id": "a29c8d8a-d2a0-4517-88b8-4ce009ec05ab",
   "metadata": {},
   "outputs": [],
   "source": [
    "n_datum = 10000\n",
    "n_basis = 2\n",
    "basis = np.array([np.cos(k*2*np.pi/d*np.arange(0,d,1)) for k in range(n_basis-1)], dtype=np.float32)\n",
    "basis = np.concatenate([basis, np.array([[1]*40+[-1]*60])], axis=0)\n",
    "all_instance = np.empty((n_datum, nt, d))\n",
    "all_state = np.empty((n_datum, d))\n",
    "all_shift = np.empty((n_datum, nt), dtype=int)\n",
    "for i in range(n_datum):\n",
    "    coef = tf.random.uniform((1,n_basis), -1, 1)\n",
    "    all_state[i,:] = coef@basis\n",
    "    all_shift[i,:] = np.random.randint(0, d, (nt))\n",
    "    for j in range(nt):\n",
    "        shift = all_shift[i,j]\n",
    "        all_instance[i,j,:] = np.roll(all_state[i,:], shift)"
   ]
  },
  {
   "cell_type": "code",
   "execution_count": 111,
   "id": "7ecf8a26-66b6-464c-b9cc-49db119fffcb",
   "metadata": {},
   "outputs": [],
   "source": [
    "train_dataset_single = tf.data.Dataset.from_tensor_slices((all_instance,all_state,all_shift)).batch(8)   "
   ]
  },
  {
   "cell_type": "code",
   "execution_count": 112,
   "id": "9b268e1e-9c8b-4ea3-a907-febe1fcd3ca6",
   "metadata": {},
   "outputs": [],
   "source": [
    "n_pair = 10000\n",
    "all_state_source = np.empty((n_pair, nt, d))\n",
    "all_shift_source =  np.empty((n_pair, nt, d), dtype=int)\n",
    "all_redatum = np.empty((n_pair, nt, d))\n",
    "for k in range(n_pair):\n",
    "    i = np.random.randint(0, n_datum)\n",
    "    if k<n_pair*0.8:\n",
    "        j = i\n",
    "    else:\n",
    "        j = np.random.randint(0, n_datum)\n",
    "    all_state_source[k,:,:] = all_instance[i,:,:]\n",
    "    all_shift_source[k,:,:] = all_instance[j,:,:]\n",
    "    for t in range(nt):\n",
    "        all_redatum[k,t,:] = np.roll(all_state[i,:], all_shift[j,t])"
   ]
  },
  {
   "cell_type": "code",
   "execution_count": 113,
   "id": "0b636828-abfd-46ec-a518-80a417cd06b9",
   "metadata": {},
   "outputs": [],
   "source": [
    "train_dataset_pair = tf.data.Dataset.from_tensor_slices((all_state_source,\n",
    "                                                         all_shift_source,\n",
    "                                                         all_redatum)).shuffle(512).batch(128)   "
   ]
  },
  {
   "cell_type": "code",
   "execution_count": null,
   "id": "a9f19d64-93a4-497b-91e5-60486a388a8f",
   "metadata": {},
   "outputs": [],
   "source": []
  },
  {
   "cell_type": "code",
   "execution_count": null,
   "id": "69557b9b-ec1a-425d-ae61-94a326b36b24",
   "metadata": {},
   "outputs": [],
   "source": []
  },
  {
   "cell_type": "markdown",
   "id": "e8f32979-f41f-4da9-80b1-2a91cac1d559",
   "metadata": {},
   "source": [
    "### PCA"
   ]
  },
  {
   "cell_type": "code",
   "execution_count": 114,
   "id": "69095748-85af-4321-bc41-836941e324b7",
   "metadata": {},
   "outputs": [
    {
     "data": {
      "text/plain": [
       "Text(0.5, 0.98, 'Show the shape of all $n_{test}$ = 5 states')"
      ]
     },
     "execution_count": 114,
     "metadata": {},
     "output_type": "execute_result"
    },
    {
     "data": {
      "image/png": "[encoded data removed]",
      "text/plain": [
       "<Figure size 1440x288 with 5 Axes>"
      ]
     },
     "metadata": {
      "needs_background": "light"
     },
     "output_type": "display_data"
    }
   ],
   "source": [
    "ne_test = 5\n",
    "repeat = d//nt\n",
    "nx = ne_test * repeat\n",
    "X_test = np.empty((nx,nt,d))\n",
    "states_sub = np.empty((ne_test, d))\n",
    "coef = tf.random.uniform((ne_test,n_basis), -1, 1)\n",
    "states_sub = tf.linalg.matmul(coef,basis)\n",
    "thetas_test = np.repeat(states_sub, repeat, axis=0)\n",
    "ls_test = np.tile(np.reshape(np.arange(d), (repeat, nt)), (ne_test, 1))\n",
    "for i in range(nx):\n",
    "    for j in range(nt):\n",
    "        X_test[i,j,:] = np.roll(thetas_test[i,:], ls_test[i,j])\n",
    "pca_cb = PCA(n_components=2)\n",
    "df_states = pd.DataFrame(np.repeat(range(ne_test), d),columns=['state'])\n",
    "df_shifts = pd.DataFrame(ls_test.reshape(-1, 1), columns=['shift'])\n",
    "clear_output()\n",
    "fig, axs = plt.subplots(1, ne_test, sharex=True, sharey=True, figsize=(ne_test*4, 4))\n",
    "for i in range(ne_test):\n",
    "    axs[i].plot(range(d), X_test[i*repeat,0,:])\n",
    "plt.suptitle('Show the shape of all $n_{test}$ = %d states'%ne_test)"
   ]
  },
  {
   "cell_type": "code",
   "execution_count": null,
   "id": "d6bfe3f1-8c1b-4c82-9171-7d399c186b2a",
   "metadata": {},
   "outputs": [],
   "source": []
  },
  {
   "cell_type": "markdown",
   "id": "901651e9-642c-47b8-b5fb-da4ccf629b34",
   "metadata": {
    "tags": []
   },
   "source": [
    "### Optimizer"
   ]
  },
  {
   "cell_type": "code",
   "execution_count": 115,
   "id": "7222a911-3810-4060-af02-2876d0f09c85",
   "metadata": {},
   "outputs": [],
   "source": [
    "optimizer = tf.keras.optimizers.Adam(0.001)"
   ]
  },
  {
   "cell_type": "markdown",
   "id": "ae1658a2-65d9-4d45-8002-f858f15cc26d",
   "metadata": {},
   "source": [
    "### Loss"
   ]
  },
  {
   "cell_type": "code",
   "execution_count": 116,
   "id": "e9590316-a8e4-4a3c-9e20-0f5598bd1810",
   "metadata": {},
   "outputs": [],
   "source": [
    "mse = tf.keras.losses.MeanSquaredError()\n",
    "def synthesize(theta, shifts):\n",
    "    output_list = []    \n",
    "    for i in range(nt):\n",
    "        shift = shifts[i]\n",
    "        output_list.append(tf.roll(theta, shift, axis=0))\n",
    "    synthetic = tf.stack(output_list)  \n",
    "    #synthetic = tf.expand_dims(synthetic, 0)\n",
    "    #synthetic = tf.expand_dims(synthetic, -1)\n",
    "    return synthetic\n",
    "\n",
    "def redatuming_loss(model, tem):\n",
    "    state_instance, shift_instance, redatum_instance = tem\n",
    "    latent_code_state = model.encoder(state_instance)\n",
    "    latent_code_shift = model.encoder(shift_instance)\n",
    "    latent_state = latent_code_state[:, 0:p]\n",
    "    latent_shift = latent_code_shift[:, p:p+q*nt]\n",
    "    merger = tf.concat([latent_state, latent_shift], axis=1)\n",
    "    redatum = model.decoder(merger)\n",
    "    synthetic = redatum_instance\n",
    "    return  mse(redatum, synthetic)\n",
    "\n",
    "@tf.function\n",
    "def train_step(model, tem):\n",
    "    with tf.GradientTape() as tape:\n",
    "        loss = redatuming_loss(model, tem)\n",
    "    gradients = tape.gradient(loss, model.trainable_variables)\n",
    "    optimizer.apply_gradients(zip(gradients, model.trainable_variables))\n",
    "    return loss"
   ]
  },
  {
   "cell_type": "code",
   "execution_count": null,
   "id": "1a97c9cf-6b1e-45af-848e-da2ce3b7d12e",
   "metadata": {},
   "outputs": [
    {
     "name": "stdout",
     "output_type": "stream",
     "text": [
      "1/1 [==============================] - 0s 38ms/step\n"
     ]
    },
    {
     "data": {
      "application/vnd.plotly.v1+json": {
       "config": {
        "plotlyServerURL": "https://plot.ly"
       },
       "data": [
        {
         "hovertemplate": "1st=%{x}<br>2nd=%{y}<br>shift=%{text}<br>state=%{marker.color}<extra></extra>",
         "legendgroup": "",
         "marker": {
          "color": [
           0,
           0,
           0,
           0,
           0,
           0,
           0,
           0,
           0,
           0,
           0,
           0,
           0,
           0,
           0,
           0,
           0,
           0,
           0,
           0,
           0,
           0,
           0,
           0,
           0,
           0,
           0,
           0,
           0,
           0,
           0,
           0,
           0,
           0,
           0,
           0,
           0,
           0,
           0,
           0,
           0,
           0,
           0,
           0,
           0,
           0,
           0,
           0,
           0,
           0,
           0,
           0,
           0,
           0,
           0,
           0,
           0,
           0,
           0,
           0,
           0,
           0,
           0,
           0,
           0,
           0,
           0,
           0,
           0,
           0,
           0,
           0,
           0,
           0,
           0,
           0,
           0,
           0,
           0,
           0,
           0,
           0,
           0,
           0,
           0,
           0,
           0,
           0,
           0,
           0,
           0,
           0,
           0,
           0,
           0,
           0,
           0,
           0,
           0,
           0,
           1,
           1,
           1,
           1,
           1,
           1,
           1,
           1,
           1,
           1,
           1,
           1,
           1,
           1,
           1,
           1,
           1,
           1,
           1,
           1,
           1,
           1,
           1,
           1,
           1,
           1,
           1,
           1,
           1,
           1,
           1,
           1,
           1,
           1,
           1,
           1,
           1,
           1,
           1,
           1,
           1,
           1,
           1,
           1,
           1,
           1,
           1,
           1,
           1,
           1,
           1,
           1,
           1,
           1,
           1,
           1,
           1,
           1,
           1,
           1,
           1,
           1,
           1,
           1,
           1,
           1,
           1,
           1,
           1,
           1,
           1,
           1,
           1,
           1,
           1,
           1,
           1,
           1,
           1,
           1,
           1,
           1,
           1,
           1,
           1,
           1,
           1,
           1,
           1,
           1,
           1,
           1,
           1,
           1,
           1,
           1,
           1,
           1,
           1,
           1,
           2,
           2,
           2,
           2,
           2,
           2,
           2,
           2,
           2,
           2,
           2,
           2,
           2,
           2,
           2,
           2,
           2,
           2,
           2,
           2,
           2,
           2,
           2,
           2,
           2,
           2,
           2,
           2,
           2,
           2,
           2,
           2,
           2,
           2,
           2,
           2,
           2,
           2,
           2,
           2,
           2,
           2,
           2,
           2,
           2,
           2,
           2,
           2,
           2,
           2,
           2,
           2,
           2,
           2,
           2,
           2,
           2,
           2,
           2,
           2,
           2,
           2,
           2,
           2,
           2,
           2,
           2,
           2,
           2,
           2,
           2,
           2,
           2,
           2,
           2,
           2,
           2,
           2,
           2,
           2,
           2,
           2,
           2,
           2,
           2,
           2,
           2,
           2,
           2,
           2,
           2,
           2,
           2,
           2,
           2,
           2,
           2,
           2,
           2,
           2,
           3,
           3,
           3,
           3,
           3,
           3,
           3,
           3,
           3,
           3,
           3,
           3,
           3,
           3,
           3,
           3,
           3,
           3,
           3,
           3,
           3,
           3,
           3,
           3,
           3,
           3,
           3,
           3,
           3,
           3,
           3,
           3,
           3,
           3,
           3,
           3,
           3,
           3,
           3,
           3,
           3,
           3,
           3,
           3,
           3,
           3,
           3,
           3,
           3,
           3,
           3,
           3,
           3,
           3,
           3,
           3,
           3,
           3,
           3,
           3,
           3,
           3,
           3,
           3,
           3,
           3,
           3,
           3,
           3,
           3,
           3,
           3,
           3,
           3,
           3,
           3,
           3,
           3,
           3,
           3,
           3,
           3,
           3,
           3,
           3,
           3,
           3,
           3,
           3,
           3,
           3,
           3,
           3,
           3,
           3,
           3,
           3,
           3,
           3,
           3,
           4,
           4,
           4,
           4,
           4,
           4,
           4,
           4,
           4,
           4,
           4,
           4,
           4,
           4,
           4,
           4,
           4,
           4,
           4,
           4,
           4,
           4,
           4,
           4,
           4,
           4,
           4,
           4,
           4,
           4,
           4,
           4,
           4,
           4,
           4,
           4,
           4,
           4,
           4,
           4,
           4,
           4,
           4,
           4,
           4,
           4,
           4,
           4,
           4,
           4,
           4,
           4,
           4,
           4,
           4,
           4,
           4,
           4,
           4,
           4,
           4,
           4,
           4,
           4,
           4,
           4,
           4,
           4,
           4,
           4,
           4,
           4,
           4,
           4,
           4,
           4,
           4,
           4,
           4,
           4,
           4,
           4,
           4,
           4,
           4,
           4,
           4,
           4,
           4,
           4,
           4,
           4,
           4,
           4,
           4,
           4,
           4,
           4,
           4,
           4
          ],
          "coloraxis": "coloraxis",
          "symbol": "circle"
         },
         "mode": "markers+text",
         "name": "",
         "orientation": "v",
         "showlegend": false,
         "text": [
          0,
          1,
          2,
          3,
          4,
          5,
          6,
          7,
          8,
          9,
          10,
          11,
          12,
          13,
          14,
          15,
          16,
          17,
          18,
          19,
          20,
          21,
          22,
          23,
          24,
          25,
          26,
          27,
          28,
          29,
          30,
          31,
          32,
          33,
          34,
          35,
          36,
          37,
          38,
          39,
          40,
          41,
          42,
          43,
          44,
          45,
          46,
          47,
          48,
          49,
          50,
          51,
          52,
          53,
          54,
          55,
          56,
          57,
          58,
          59,
          60,
          61,
          62,
          63,
          64,
          65,
          66,
          67,
          68,
          69,
          70,
          71,
          72,
          73,
          74,
          75,
          76,
          77,
          78,
          79,
          80,
          81,
          82,
          83,
          84,
          85,
          86,
          87,
          88,
          89,
          90,
          91,
          92,
          93,
          94,
          95,
          96,
          97,
          98,
          99,
          0,
          1,
          2,
          3,
          4,
          5,
          6,
          7,
          8,
          9,
          10,
          11,
          12,
          13,
          14,
          15,
          16,
          17,
          18,
          19,
          20,
          21,
          22,
          23,
          24,
          25,
          26,
          27,
          28,
          29,
          30,
          31,
          32,
          33,
          34,
          35,
          36,
          37,
          38,
          39,
          40,
          41,
          42,
          43,
          44,
          45,
          46,
          47,
          48,
          49,
          50,
          51,
          52,
          53,
          54,
          55,
          56,
          57,
          58,
          59,
          60,
          61,
          62,
          63,
          64,
          65,
          66,
          67,
          68,
          69,
          70,
          71,
          72,
          73,
          74,
          75,
          76,
          77,
          78,
          79,
          80,
          81,
          82,
          83,
          84,
          85,
          86,
          87,
          88,
          89,
          90,
          91,
          92,
          93,
          94,
          95,
          96,
          97,
          98,
          99,
          0,
          1,
          2,
          3,
          4,
          5,
          6,
          7,
          8,
          9,
          10,
          11,
          12,
          13,
          14,
          15,
          16,
          17,
          18,
          19,
          20,
          21,
          22,
          23,
          24,
          25,
          26,
          27,
          28,
          29,
          30,
          31,
          32,
          33,
          34,
          35,
          36,
          37,
          38,
          39,
          40,
          41,
          42,
          43,
          44,
          45,
          46,
          47,
          48,
          49,
          50,
          51,
          52,
          53,
          54,
          55,
          56,
          57,
          58,
          59,
          60,
          61,
          62,
          63,
          64,
          65,
          66,
          67,
          68,
          69,
          70,
          71,
          72,
          73,
          74,
          75,
          76,
          77,
          78,
          79,
          80,
          81,
          82,
          83,
          84,
          85,
          86,
          87,
          88,
          89,
          90,
          91,
          92,
          93,
          94,
          95,
          96,
          97,
          98,
          99,
          0,
          1,
          2,
          3,
          4,
          5,
          6,
          7,
          8,
          9,
          10,
          11,
          12,
          13,
          14,
          15,
          16,
          17,
          18,
          19,
          20,
          21,
          22,
          23,
          24,
          25,
          26,
          27,
          28,
          29,
          30,
          31,
          32,
          33,
          34,
          35,
          36,
          37,
          38,
          39,
          40,
          41,
          42,
          43,
          44,
          45,
          46,
          47,
          48,
          49,
          50,
          51,
          52,
          53,
          54,
          55,
          56,
          57,
          58,
          59,
          60,
          61,
          62,
          63,
          64,
          65,
          66,
          67,
          68,
          69,
          70,
          71,
          72,
          73,
          74,
          75,
          76,
          77,
          78,
          79,
          80,
          81,
          82,
          83,
          84,
          85,
          86,
          87,
          88,
          89,
          90,
          91,
          92,
          93,
          94,
          95,
          96,
          97,
          98,
          99,
          0,
          1,
          2,
          3,
          4,
          5,
          6,
          7,
          8,
          9,
          10,
          11,
          12,
          13,
          14,
          15,
          16,
          17,
          18,
          19,
          20,
          21,
          22,
          23,
          24,
          25,
          26,
          27,
          28,
          29,
          30,
          31,
          32,
          33,
          34,
          35,
          36,
          37,
          38,
          39,
          40,
          41,
          42,
          43,
          44,
          45,
          46,
          47,
          48,
          49,
          50,
          51,
          52,
          53,
          54,
          55,
          56,
          57,
          58,
          59,
          60,
          61,
          62,
          63,
          64,
          65,
          66,
          67,
          68,
          69,
          70,
          71,
          72,
          73,
          74,
          75,
          76,
          77,
          78,
          79,
          80,
          81,
          82,
          83,
          84,
          85,
          86,
          87,
          88,
          89,
          90,
          91,
          92,
          93,
          94,
          95,
          96,
          97,
          98,
          99
         ],
         "type": "scatter",
         "x": [
          -105.58490753173828,
          -100.43701934814453,
          -104.41776275634766,
          -113.74563598632812,
          -120.66737365722656,
          -128.0083465576172,
          -134.5723876953125,
          -149.42684936523438,
          -155.72654724121094,
          -126.47842407226562,
          -124.4001693725586,
          -112.48265075683594,
          -111.4995346069336,
          -75.15316009521484,
          -77.74169158935547,
          -76.35563659667969,
          -61.65470886230469,
          37.215919494628906,
          44.199039459228516,
          70.14185333251953,
          70.84809875488281,
          80.05725860595703,
          78.3854751586914,
          79.93854522705078,
          91.03054809570312,
          114.24939727783203,
          114.44855499267578,
          121.53974151611328,
          121.8355941772461,
          136.593505859375,
          141.772216796875,
          145.3089599609375,
          146.69219970703125,
          166.0238037109375,
          172.90386962890625,
          162.67559814453125,
          171.57479858398438,
          164.693359375,
          153.13613891601562,
          163.69894409179688,
          164.9125518798828,
          169.89891052246094,
          168.90310668945312,
          170.99513244628906,
          178.88998413085938,
          173.71231079101562,
          167.52578735351562,
          168.3849334716797,
          158.1714324951172,
          161.03314208984375,
          150.65997314453125,
          141.5755615234375,
          146.6709442138672,
          140.2132568359375,
          133.08218383789062,
          121.39430236816406,
          114.10263061523438,
          106.42472076416016,
          83.8507308959961,
          77.43000793457031,
          73.85615539550781,
          63.29541778564453,
          63.43037033081055,
          61.07655715942383,
          51.61930847167969,
          39.85554885864258,
          33.84744644165039,
          23.79490852355957,
          23.345836639404297,
          19.687461853027344,
          16.88459014892578,
          -13.044837951660156,
          -22.116390228271484,
          -28.09139633178711,
          -22.562822341918945,
          -29.07494354248047,
          -33.90544128417969,
          -39.91975021362305,
          -36.83595275878906,
          -46.421199798583984,
          -50.86008071899414,
          -55.60274124145508,
          -62.03377151489258,
          -58.74766159057617,
          -75.17328643798828,
          -53.600276947021484,
          -49.83613204956055,
          -72.34579467773438,
          -67.19898223876953,
          -76.3822250366211,
          -74.00411224365234,
          -82.18405151367188,
          -77.4403076171875,
          -126.78800964355469,
          -87.83329772949219,
          -97.84544372558594,
          -104.52010345458984,
          -103.58370971679688,
          -112.9680404663086,
          -116.93528747558594,
          -108.12327575683594,
          -109.7899169921875,
          -108.32073211669922,
          -125.75272369384766,
          -133.34950256347656,
          -133.27366638183594,
          -128.6851348876953,
          -144.65518188476562,
          -147.18746948242188,
          -145.05088806152344,
          -150.77383422851562,
          -148.68038940429688,
          -147.75286865234375,
          -151.4396514892578,
          -146.322509765625,
          -143.70497131347656,
          -146.94290161132812,
          -145.6785888671875,
          -138.97084045410156,
          29.685121536254883,
          84.05623626708984,
          88.29206848144531,
          89.45938873291016,
          97.31404876708984,
          105.77814483642578,
          107.61698150634766,
          115.16472625732422,
          128.09967041015625,
          131.10470581054688,
          136.8250732421875,
          139.95396423339844,
          136.4158935546875,
          150.54989624023438,
          151.3794708251953,
          156.80154418945312,
          164.96617126464844,
          162.2552490234375,
          159.38555908203125,
          167.73806762695312,
          169.34503173828125,
          166.62124633789062,
          167.67369079589844,
          169.41175842285156,
          177.4848175048828,
          172.9318084716797,
          174.64016723632812,
          172.2082061767578,
          178.715576171875,
          144.82342529296875,
          41.18806457519531,
          34.39946746826172,
          28.12591552734375,
          22.967323303222656,
          27.176639556884766,
          37.296958923339844,
          23.661346435546875,
          34.3870964050293,
          36.66797637939453,
          95.42020416259766,
          71.80152130126953,
          64.82980346679688,
          64.60543823242188,
          55.14152908325195,
          39.04094314575195,
          -12.255678176879883,
          -9.586637496948242,
          -4.389911651611328,
          -57.57326126098633,
          -59.23678970336914,
          -59.11155319213867,
          -60.54427719116211,
          -52.785709381103516,
          -48.283687591552734,
          -47.07769012451172,
          -50.23842239379883,
          -43.229209899902344,
          -39.14418411254883,
          -40.2976188659668,
          -38.90494918823242,
          -35.49046325683594,
          -31.77043342590332,
          -33.56550598144531,
          -28.29037094116211,
          -28.772010803222656,
          -24.192176818847656,
          -22.602123260498047,
          -18.569921493530273,
          -19.20812225341797,
          -12.196979522705078,
          -12.30523681640625,
          -6.982638359069824,
          -9.83998966217041,
          -6.318473815917969,
          -3.720689058303833,
          -0.05559271574020386,
          2.9280498027801514,
          3.2189743518829346,
          3.751028060913086,
          4.858604431152344,
          -102.4299087524414,
          -107.30160522460938,
          -112.69947052001953,
          -122.19729614257812,
          -120.33162689208984,
          -120.45893096923828,
          -124.0380630493164,
          -133.7486114501953,
          -135.4622344970703,
          -141.50904846191406,
          -146.78176879882812,
          -150.47959899902344,
          -137.42640686035156,
          -133.2926788330078,
          -138.39297485351562,
          -101.8956069946289,
          -120.8082275390625,
          -119.86675262451172,
          -124.40380096435547,
          -99.9572525024414,
          70.02628326416016,
          76.45336151123047,
          85.99048614501953,
          101.94966888427734,
          107.7645034790039,
          107.93236541748047,
          107.41964721679688,
          123.56324005126953,
          109.55657196044922,
          120.4404525756836,
          124.98180389404297,
          138.46722412109375,
          132.1505889892578,
          139.06103515625,
          141.12867736816406,
          143.6517333984375,
          145.62841796875,
          158.43408203125,
          161.38919067382812,
          161.35411071777344,
          160.6025390625,
          159.05386352539062,
          160.68801879882812,
          152.345947265625,
          134.39120483398438,
          127.98702239990234,
          152.443359375,
          127.9382095336914,
          122.2101821899414,
          94.16048431396484,
          50.592464447021484,
          37.5419807434082,
          55.970157623291016,
          62.12181854248047,
          63.65492630004883,
          60.265323638916016,
          55.24809646606445,
          51.89628982543945,
          56.71488952636719,
          50.47025680541992,
          52.647705078125,
          54.86207962036133,
          53.91360855102539,
          56.81081008911133,
          35.54123306274414,
          40.354434967041016,
          9.309993743896484,
          -0.623435914516449,
          -59.772796630859375,
          -61.71619415283203,
          -62.57259750366211,
          -61.214569091796875,
          -48.63273620605469,
          -57.533226013183594,
          -43.05350112915039,
          -41.84653091430664,
          -41.55870819091797,
          -38.670066833496094,
          -46.2675666809082,
          -46.424198150634766,
          -48.1078987121582,
          -48.65959930419922,
          -45.77739715576172,
          -33.377140045166016,
          -17.12473487854004,
          -17.671857833862305,
          -20.661924362182617,
          -14.415096282958984,
          -15.610904693603516,
          -12.410383224487305,
          -11.506601333618164,
          -10.900591850280762,
          -4.508569717407227,
          -7.921756267547607,
          -5.315674304962158,
          -8.228341102600098,
          -3.791645050048828,
          -4.335713863372803,
          -4.447274208068848,
          -3.2215142250061035,
          -105.65058135986328,
          -114.36434936523438,
          -117.64161682128906,
          -125.65478515625,
          -138.40518188476562,
          -142.0729217529297,
          -155.90769958496094,
          -156.79714965820312,
          -162.89234924316406,
          -160.572265625,
          -148.25267028808594,
          -149.21063232421875,
          -122.85060119628906,
          -127.2724380493164,
          -143.08909606933594,
          -135.57974243164062,
          -132.6548614501953,
          -100.85499572753906,
          4.117506980895996,
          43.27962875366211,
          51.920413970947266,
          66.23945617675781,
          67.22804260253906,
          76.09251403808594,
          80.96392059326172,
          81.56851196289062,
          89.23314666748047,
          91.8047866821289,
          117.26268768310547,
          119.94208526611328,
          124.8797836303711,
          133.4129638671875,
          136.78585815429688,
          137.22166442871094,
          145.6724395751953,
          148.0977783203125,
          149.681884765625,
          156.69546508789062,
          163.88035583496094,
          169.1754150390625,
          170.03143310546875,
          163.78936767578125,
          165.13839721679688,
          158.1645965576172,
          167.77545166015625,
          166.80694580078125,
          163.9104766845703,
          169.1562957763672,
          170.67657470703125,
          166.2770233154297,
          147.56292724609375,
          133.08615112304688,
          128.65785217285156,
          129.62338256835938,
          116.44551849365234,
          110.3607406616211,
          107.68017578125,
          110.97393035888672,
          84.29228210449219,
          74.69129180908203,
          68.0986328125,
          67.13909912109375,
          39.817543029785156,
          45.203250885009766,
          51.3455696105957,
          46.00196075439453,
          29.43563461303711,
          24.096027374267578,
          24.120424270629883,
          20.0301570892334,
          9.86614990234375,
          -0.1795787215232849,
          1.2448196411132812,
          0.3662644028663635,
          -47.675987243652344,
          -49.76661682128906,
          -43.79987716674805,
          -54.06848907470703,
          -67.93571472167969,
          -44.653480529785156,
          -34.38192367553711,
          -53.7359733581543,
          -55.514347076416016,
          -58.22493362426758,
          -62.15890884399414,
          -58.164306640625,
          -82.7065200805664,
          -81.9875717163086,
          -79.27355194091797,
          -77.95108795166016,
          -85.62642669677734,
          -87.02461242675781,
          -92.9443588256836,
          -92.66802215576172,
          -74.98472595214844,
          -82.34617614746094,
          -113.66443634033203,
          -108.84062194824219,
          -119.09331512451172,
          -99.0940933227539,
          -86.18376159667969,
          -84.91414642333984,
          -89.77872467041016,
          -98.78284454345703,
          -95.84968566894531,
          -98.16673278808594,
          -104.46154022216797,
          -130.72193908691406,
          -144.54104614257812,
          -136.723388671875,
          -149.49371337890625,
          -127.400634765625,
          -97.0309066772461,
          -111.41301727294922,
          -100.64260864257812,
          -116.64907836914062,
          -117.20581817626953,
          -115.81605529785156,
          -64.3974609375,
          20.783790588378906,
          50.06253433227539,
          56.32036590576172,
          62.420047760009766,
          72.235595703125,
          87.25908660888672,
          91.11629486083984,
          91.89801788330078,
          91.0352554321289,
          110.61568450927734,
          113.5800552368164,
          115.42424774169922,
          137.45213317871094,
          151.97076416015625,
          152.82223510742188,
          153.75787353515625,
          150.16575622558594,
          154.997314453125,
          158.6888427734375,
          157.33409118652344,
          159.55374145507812,
          180.4326934814453,
          183.64344787597656,
          178.539306640625,
          177.8094482421875,
          188.10101318359375,
          165.34652709960938,
          155.22360229492188,
          155.11192321777344,
          152.34425354003906,
          138.3159637451172,
          117.99964141845703,
          104.49295043945312,
          104.1535415649414,
          106.4574203491211,
          90.88008880615234,
          98.36958312988281,
          87.44083404541016,
          93.74298095703125,
          90.58789825439453,
          77.3486557006836,
          84.83055877685547,
          81.56786346435547,
          78.2099609375,
          57.39760971069336,
          63.41156768798828,
          55.962181091308594,
          52.40487289428711,
          33.56874084472656,
          16.126768112182617,
          8.951297760009766,
          -17.405933380126953,
          -26.163646697998047,
          -15.37214469909668,
          -20.49514389038086,
          -23.541757583618164,
          -24.754791259765625,
          -28.18630599975586,
          -31.20235824584961,
          -33.973541259765625,
          -39.90010452270508,
          -54.567630767822266,
          -48.78903579711914,
          -48.15113067626953,
          -42.24190902709961,
          -32.65208053588867,
          -30.11295509338379,
          -28.391725540161133,
          -29.36280059814453,
          -53.627899169921875,
          -55.3731689453125,
          -47.4813346862793,
          -47.98402786254883,
          -62.16812515258789,
          -62.3040657043457,
          -62.78424835205078,
          -76.2778091430664,
          -82.11141204833984,
          -76.6853256225586,
          -80.35694122314453,
          -87.93841552734375,
          -86.29319763183594
         ],
         "xaxis": "x",
         "y": [
          7.313213348388672,
          3.163909673690796,
          3.458188772201538,
          -5.756160736083984,
          -9.999435424804688,
          -21.72870445251465,
          -26.522911071777344,
          -30.88450813293457,
          -38.320411682128906,
          -43.59775161743164,
          -51.3776969909668,
          -56.56454849243164,
          -53.76617431640625,
          -73.89427947998047,
          -71.61386108398438,
          -84.36341094970703,
          -96.92821502685547,
          -145.78445434570312,
          -146.13705444335938,
          -149.2703399658203,
          -141.4402618408203,
          -136.98158264160156,
          -127.2598648071289,
          -122.4477310180664,
          -117.1639175415039,
          -124.70045471191406,
          -117.42803192138672,
          -113.09130859375,
          -103.8161849975586,
          -103.63652801513672,
          -93.79894256591797,
          -89.91283416748047,
          -81.19084930419922,
          -77.78318786621094,
          -74.26283264160156,
          -57.73204803466797,
          -57.810794830322266,
          -53.39631652832031,
          -45.73450469970703,
          -42.80915069580078,
          -34.764888763427734,
          -28.983102798461914,
          -18.654409408569336,
          -17.314533233642578,
          -11.189165115356445,
          -2.029796838760376,
          2.288870096206665,
          17.460519790649414,
          22.57162857055664,
          32.138038635253906,
          40.57811737060547,
          49.1020393371582,
          54.404876708984375,
          62.307281494140625,
          66.63925170898438,
          95.01322937011719,
          103.96188354492188,
          108.90534973144531,
          107.0284194946289,
          110.28113555908203,
          117.29876708984375,
          119.70589447021484,
          118.60477447509766,
          124.7055435180664,
          127.15225219726562,
          117.11578369140625,
          113.90251159667969,
          113.62157440185547,
          116.59673309326172,
          114.10763549804688,
          112.01091003417969,
          67.79290771484375,
          64.68448638916016,
          60.69749069213867,
          58.32646942138672,
          55.853702545166016,
          53.781166076660156,
          57.17973327636719,
          54.94851303100586,
          45.57594299316406,
          47.17638397216797,
          44.709197998046875,
          44.200706481933594,
          49.79401397705078,
          57.72141647338867,
          43.51529312133789,
          41.0316276550293,
          46.564422607421875,
          40.742122650146484,
          44.74108123779297,
          42.804443359375,
          30.557153701782227,
          32.6603889465332,
          53.20159912109375,
          23.47590446472168,
          23.294370651245117,
          14.470460891723633,
          21.01253890991211,
          17.00179672241211,
          20.422481536865234,
          2.914823293685913,
          -3.8717119693756104,
          -14.281515121459961,
          -17.003414154052734,
          -19.972431182861328,
          -21.030305862426758,
          -27.553800582885742,
          -37.713687896728516,
          -40.456607818603516,
          -48.99061584472656,
          -55.54674530029297,
          -59.88724899291992,
          -64.14767456054688,
          -59.85231018066406,
          -71.27484130859375,
          -81.53367614746094,
          -83.31022644042969,
          -85.39002227783203,
          -98.52800750732422,
          -143.13720703125,
          -143.06715393066406,
          -141.20510864257812,
          -136.42990112304688,
          -133.87307739257812,
          -131.1210479736328,
          -130.07852172851562,
          -124.92443084716797,
          -116.32811737060547,
          -107.12225341796875,
          -100.95780181884766,
          -90.82572174072266,
          -86.20072174072266,
          -78.4420166015625,
          -72.36447143554688,
          -65.42682647705078,
          -59.47421646118164,
          -53.06118392944336,
          -47.57597351074219,
          -44.108245849609375,
          -41.50227355957031,
          -36.81131362915039,
          -30.07955551147461,
          -29.12214469909668,
          -20.78338050842285,
          -9.562572479248047,
          -6.0890398025512695,
          -4.832887649536133,
          0.746667742729187,
          21.303634643554688,
          14.872631072998047,
          17.228086471557617,
          20.241666793823242,
          25.687522888183594,
          26.09010887145996,
          32.901153564453125,
          27.196701049804688,
          46.51343536376953,
          64.19285583496094,
          111.91959381103516,
          103.82984924316406,
          107.52564239501953,
          117.78150177001953,
          112.14966583251953,
          99.48453521728516,
          53.6343994140625,
          61.91716384887695,
          61.61267852783203,
          -38.217376708984375,
          -45.950225830078125,
          -45.805355072021484,
          -41.77532196044922,
          -41.19353485107422,
          -44.12214279174805,
          -44.41648864746094,
          -46.932037353515625,
          -47.277809143066406,
          -42.497802734375,
          -47.544593811035156,
          -44.662208557128906,
          -48.09947967529297,
          -48.07569885253906,
          -50.815025329589844,
          -48.65802001953125,
          -48.693504333496094,
          -49.17106628417969,
          -50.64173126220703,
          -49.15602111816406,
          -47.532928466796875,
          -50.852752685546875,
          -46.82902526855469,
          -46.76764678955078,
          -46.11827850341797,
          -46.58454132080078,
          -48.413665771484375,
          -47.53114700317383,
          -46.10948181152344,
          -50.31666946411133,
          -55.00844955444336,
          -52.544532775878906,
          7.4369707107543945,
          -0.7440396547317505,
          -2.4216158390045166,
          -8.387126922607422,
          -13.174079895019531,
          -13.687301635742188,
          -12.154840469360352,
          -16.559030532836914,
          -30.188371658325195,
          -40.89982223510742,
          -40.548831939697266,
          -53.377994537353516,
          -60.35731506347656,
          -53.055625915527344,
          -65.12356567382812,
          -60.63874053955078,
          -82.2837142944336,
          -85.30513763427734,
          -92.66311645507812,
          -103.03277587890625,
          -136.14407348632812,
          -132.92796325683594,
          -140.75506591796875,
          -139.1352081298828,
          -126.50675201416016,
          -120.24199676513672,
          -118.90435028076172,
          -106.70984649658203,
          -94.970458984375,
          -92.90271759033203,
          -93.46389770507812,
          -77.06148529052734,
          -66.77639770507812,
          -68.1958236694336,
          -74.61897277832031,
          -63.14818572998047,
          -61.17584991455078,
          -54.43455505371094,
          -57.21217346191406,
          -38.88923263549805,
          -32.45341491699219,
          -21.90561294555664,
          -17.56513786315918,
          0.951400637626648,
          12.017313003540039,
          11.798616409301758,
          11.862167358398438,
          29.903770446777344,
          22.2276554107666,
          27.308143615722656,
          30.6180362701416,
          31.74455451965332,
          34.40380859375,
          45.021339416503906,
          44.665035247802734,
          64.14356231689453,
          70.1883316040039,
          73.08544158935547,
          85.3338394165039,
          111.40013122558594,
          113.94781494140625,
          121.86971282958984,
          127.60346221923828,
          130.52810668945312,
          107.27466583251953,
          128.60145568847656,
          91.8065414428711,
          82.57994842529297,
          -27.93517303466797,
          -35.60322570800781,
          -37.564964294433594,
          -38.64529800415039,
          -36.299041748046875,
          -36.20968246459961,
          -40.46826934814453,
          -40.26087951660156,
          -48.75096130371094,
          -45.97596740722656,
          -47.93992233276367,
          -40.973140716552734,
          -41.57448959350586,
          -35.6063232421875,
          -39.777015686035156,
          -43.27742385864258,
          -46.43558883666992,
          -49.020904541015625,
          -45.38759994506836,
          -48.49168014526367,
          -46.700469970703125,
          -50.2210693359375,
          -54.426509857177734,
          -49.37882995605469,
          -43.35973358154297,
          -39.95860290527344,
          -39.78511428833008,
          -41.545684814453125,
          -38.95768356323242,
          -41.576595306396484,
          -45.79685974121094,
          -43.909507751464844,
          3.8255879878997803,
          22.96058464050293,
          19.881332397460938,
          18.140575408935547,
          8.925882339477539,
          0.6925352811813354,
          -9.55660629272461,
          -17.839111328125,
          -27.2813663482666,
          -38.95157241821289,
          -46.885929107666016,
          -43.69099426269531,
          -53.8619384765625,
          -61.558067321777344,
          -65.91439056396484,
          -76.41275787353516,
          -83.9407730102539,
          -91.87934112548828,
          -126.3739242553711,
          -140.67147827148438,
          -144.51339721679688,
          -138.619140625,
          -123.82805633544922,
          -121.14387512207031,
          -122.96817779541016,
          -115.9515609741211,
          -105.0624771118164,
          -107.5047836303711,
          -109.87934112548828,
          -102.8547592163086,
          -88.42774200439453,
          -92.29386138916016,
          -85.74280548095703,
          -75.89569854736328,
          -77.5681381225586,
          -74.79930877685547,
          -69.8743667602539,
          -64.31428527832031,
          -62.63484191894531,
          -54.39191818237305,
          -50.10639953613281,
          -39.0947380065918,
          -35.39958953857422,
          -30.23764419555664,
          -18.326995849609375,
          -13.025978088378906,
          -1.6947423219680786,
          1.379576325416565,
          2.3482377529144287,
          10.112667083740234,
          24.01280403137207,
          26.254104614257812,
          45.75922393798828,
          42.74075698852539,
          58.53432846069336,
          76.25052642822266,
          79.740966796875,
          91.68193817138672,
          104.69102478027344,
          105.54850769042969,
          101.02909851074219,
          104.69237518310547,
          96.77363586425781,
          106.3989028930664,
          106.9048843383789,
          114.2892837524414,
          110.67066192626953,
          109.11927032470703,
          107.96530151367188,
          110.07212829589844,
          106.58100128173828,
          120.3136215209961,
          115.64839935302734,
          97.76821899414062,
          93.20648956298828,
          62.142704010009766,
          55.8471565246582,
          55.35533142089844,
          63.65007781982422,
          58.700340270996094,
          57.528873443603516,
          59.62601089477539,
          62.854957580566406,
          59.28978729248047,
          57.95757293701172,
          50.054481506347656,
          59.15245056152344,
          61.69518280029297,
          69.10810089111328,
          45.362430572509766,
          60.91140365600586,
          58.82144546508789,
          50.38117599487305,
          44.24528884887695,
          19.99796485900879,
          30.86246681213379,
          42.18042755126953,
          32.77568817138672,
          32.222225189208984,
          18.28297233581543,
          -6.047294616699219,
          28.539602279663086,
          12.632671356201172,
          10.211199760437012,
          3.781564474105835,
          -3.0578558444976807,
          -2.050550699234009,
          -11.312641143798828,
          -25.364606857299805,
          -27.49871826171875,
          -33.75300598144531,
          -44.15678024291992,
          -52.633628845214844,
          -51.57350158691406,
          -53.46879577636719,
          -62.922401428222656,
          -70.16707611083984,
          -75.48407745361328,
          -85.88771057128906,
          -102.92642974853516,
          -115.2619400024414,
          -114.84528350830078,
          -118.3552474975586,
          -124.39485931396484,
          -118.0855712890625,
          -119.0483169555664,
          -109.22417449951172,
          -100.123046875,
          -102.59634399414062,
          -93.12390899658203,
          -91.07930755615234,
          -84.01134490966797,
          -81.02532196044922,
          -70.4115982055664,
          -66.5068359375,
          -61.55322265625,
          -57.86087417602539,
          -51.745689392089844,
          -54.51275634765625,
          -40.91755294799805,
          -38.62275314331055,
          -31.915372848510742,
          -23.81312370300293,
          -14.569802284240723,
          -7.646963119506836,
          2.8983943462371826,
          9.743375778198242,
          24.823945999145508,
          30.98380470275879,
          31.445669174194336,
          31.757036209106445,
          31.750761032104492,
          35.91975402832031,
          54.20710754394531,
          57.825592041015625,
          70.36641693115234,
          77.11930084228516,
          80.25028991699219,
          95.58805847167969,
          99.60919952392578,
          106.0008773803711,
          111.77918243408203,
          114.04488372802734,
          118.7961196899414,
          122.71021270751953,
          122.74994659423828,
          127.54174041748047,
          106.39115905761719,
          92.68816375732422,
          79.97700500488281,
          32.12424087524414,
          13.84283447265625,
          41.25747299194336,
          38.86006164550781,
          29.444408416748047,
          24.118026733398438,
          22.559598922729492,
          15.931039810180664,
          13.365472793579102,
          1.4845589399337769,
          23.863401412963867,
          18.9541015625,
          21.34446144104004,
          31.86909294128418,
          24.11259651184082,
          20.67056655883789,
          13.114843368530273,
          -4.401960372924805,
          33.739898681640625,
          34.86802291870117,
          27.785371780395508,
          33.04560470581055,
          30.057592391967773,
          25.555965423583984,
          22.211244583129883,
          9.651443481445312,
          19.018136978149414,
          4.670549392700195,
          5.766935348510742,
          23.16734504699707,
          22.323543548583984
         ],
         "yaxis": "y"
        }
       ],
       "layout": {
        "coloraxis": {
         "colorbar": {
          "title": {
           "text": "state"
          }
         },
         "colorscale": [
          [
           0,
           "#440154"
          ],
          [
           0.1111111111111111,
           "#482878"
          ],
          [
           0.2222222222222222,
           "#3e4989"
          ],
          [
           0.3333333333333333,
           "#31688e"
          ],
          [
           0.4444444444444444,
           "#26828e"
          ],
          [
           0.5555555555555556,
           "#1f9e89"
          ],
          [
           0.6666666666666666,
           "#35b779"
          ],
          [
           0.7777777777777778,
           "#6ece58"
          ],
          [
           0.8888888888888888,
           "#b5de2b"
          ],
          [
           1,
           "#fde725"
          ]
         ]
        },
        "height": 500,
        "legend": {
         "tracegroupgap": 0
        },
        "template": {
         "data": {
          "bar": [
           {
            "error_x": {
             "color": "#2a3f5f"
            },
            "error_y": {
             "color": "#2a3f5f"
            },
            "marker": {
             "line": {
              "color": "#E5ECF6",
              "width": 0.5
             },
             "pattern": {
              "fillmode": "overlay",
              "size": 10,
              "solidity": 0.2
             }
            },
            "type": "bar"
           }
          ],
          "barpolar": [
           {
            "marker": {
             "line": {
              "color": "#E5ECF6",
              "width": 0.5
             },
             "pattern": {
              "fillmode": "overlay",
              "size": 10,
              "solidity": 0.2
             }
            },
            "type": "barpolar"
           }
          ],
          "carpet": [
           {
            "aaxis": {
             "endlinecolor": "#2a3f5f",
             "gridcolor": "white",
             "linecolor": "white",
             "minorgridcolor": "white",
             "startlinecolor": "#2a3f5f"
            },
            "baxis": {
             "endlinecolor": "#2a3f5f",
             "gridcolor": "white",
             "linecolor": "white",
             "minorgridcolor": "white",
             "startlinecolor": "#2a3f5f"
            },
            "type": "carpet"
           }
          ],
          "choropleth": [
           {
            "colorbar": {
             "outlinewidth": 0,
             "ticks": ""
            },
            "type": "choropleth"
           }
          ],
          "contour": [
           {
            "colorbar": {
             "outlinewidth": 0,
             "ticks": ""
            },
            "colorscale": [
             [
              0,
              "#0d0887"
             ],
             [
              0.1111111111111111,
              "#46039f"
             ],
             [
              0.2222222222222222,
              "#7201a8"
             ],
             [
              0.3333333333333333,
              "#9c179e"
             ],
             [
              0.4444444444444444,
              "#bd3786"
             ],
             [
              0.5555555555555556,
              "#d8576b"
             ],
             [
              0.6666666666666666,
              "#ed7953"
             ],
             [
              0.7777777777777778,
              "#fb9f3a"
             ],
             [
              0.8888888888888888,
              "#fdca26"
             ],
             [
              1,
              "#f0f921"
             ]
            ],
            "type": "contour"
           }
          ],
          "contourcarpet": [
           {
            "colorbar": {
             "outlinewidth": 0,
             "ticks": ""
            },
            "type": "contourcarpet"
           }
          ],
          "heatmap": [
           {
            "colorbar": {
             "outlinewidth": 0,
             "ticks": ""
            },
            "colorscale": [
             [
              0,
              "#0d0887"
             ],
             [
              0.1111111111111111,
              "#46039f"
             ],
             [
              0.2222222222222222,
              "#7201a8"
             ],
             [
              0.3333333333333333,
              "#9c179e"
             ],
             [
              0.4444444444444444,
              "#bd3786"
             ],
             [
              0.5555555555555556,
              "#d8576b"
             ],
             [
              0.6666666666666666,
              "#ed7953"
             ],
             [
              0.7777777777777778,
              "#fb9f3a"
             ],
             [
              0.8888888888888888,
              "#fdca26"
             ],
             [
              1,
              "#f0f921"
             ]
            ],
            "type": "heatmap"
           }
          ],
          "heatmapgl": [
           {
            "colorbar": {
             "outlinewidth": 0,
             "ticks": ""
            },
            "colorscale": [
             [
              0,
              "#0d0887"
             ],
             [
              0.1111111111111111,
              "#46039f"
             ],
             [
              0.2222222222222222,
              "#7201a8"
             ],
             [
              0.3333333333333333,
              "#9c179e"
             ],
             [
              0.4444444444444444,
              "#bd3786"
             ],
             [
              0.5555555555555556,
              "#d8576b"
             ],
             [
              0.6666666666666666,
              "#ed7953"
             ],
             [
              0.7777777777777778,
              "#fb9f3a"
             ],
             [
              0.8888888888888888,
              "#fdca26"
             ],
             [
              1,
              "#f0f921"
             ]
            ],
            "type": "heatmapgl"
           }
          ],
          "histogram": [
           {
            "marker": {
             "pattern": {
              "fillmode": "overlay",
              "size": 10,
              "solidity": 0.2
             }
            },
            "type": "histogram"
           }
          ],
          "histogram2d": [
           {
            "colorbar": {
             "outlinewidth": 0,
             "ticks": ""
            },
            "colorscale": [
             [
              0,
              "#0d0887"
             ],
             [
              0.1111111111111111,
              "#46039f"
             ],
             [
              0.2222222222222222,
              "#7201a8"
             ],
             [
              0.3333333333333333,
              "#9c179e"
             ],
             [
              0.4444444444444444,
              "#bd3786"
             ],
             [
              0.5555555555555556,
              "#d8576b"
             ],
             [
              0.6666666666666666,
              "#ed7953"
             ],
             [
              0.7777777777777778,
              "#fb9f3a"
             ],
             [
              0.8888888888888888,
              "#fdca26"
             ],
             [
              1,
              "#f0f921"
             ]
            ],
            "type": "histogram2d"
           }
          ],
          "histogram2dcontour": [
           {
            "colorbar": {
             "outlinewidth": 0,
             "ticks": ""
            },
            "colorscale": [
             [
              0,
              "#0d0887"
             ],
             [
              0.1111111111111111,
              "#46039f"
             ],
             [
              0.2222222222222222,
              "#7201a8"
             ],
             [
              0.3333333333333333,
              "#9c179e"
             ],
             [
              0.4444444444444444,
              "#bd3786"
             ],
             [
              0.5555555555555556,
              "#d8576b"
             ],
             [
              0.6666666666666666,
              "#ed7953"
             ],
             [
              0.7777777777777778,
              "#fb9f3a"
             ],
             [
              0.8888888888888888,
              "#fdca26"
             ],
             [
              1,
              "#f0f921"
             ]
            ],
            "type": "histogram2dcontour"
           }
          ],
          "mesh3d": [
           {
            "colorbar": {
             "outlinewidth": 0,
             "ticks": ""
            },
            "type": "mesh3d"
           }
          ],
          "parcoords": [
           {
            "line": {
             "colorbar": {
              "outlinewidth": 0,
              "ticks": ""
             }
            },
            "type": "parcoords"
           }
          ],
          "pie": [
           {
            "automargin": true,
            "type": "pie"
           }
          ],
          "scatter": [
           {
            "fillpattern": {
             "fillmode": "overlay",
             "size": 10,
             "solidity": 0.2
            },
            "type": "scatter"
           }
          ],
          "scatter3d": [
           {
            "line": {
             "colorbar": {
              "outlinewidth": 0,
              "ticks": ""
             }
            },
            "marker": {
             "colorbar": {
              "outlinewidth": 0,
              "ticks": ""
             }
            },
            "type": "scatter3d"
           }
          ],
          "scattercarpet": [
           {
            "marker": {
             "colorbar": {
              "outlinewidth": 0,
              "ticks": ""
             }
            },
            "type": "scattercarpet"
           }
          ],
          "scattergeo": [
           {
            "marker": {
             "colorbar": {
              "outlinewidth": 0,
              "ticks": ""
             }
            },
            "type": "scattergeo"
           }
          ],
          "scattergl": [
           {
            "marker": {
             "colorbar": {
              "outlinewidth": 0,
              "ticks": ""
             }
            },
            "type": "scattergl"
           }
          ],
          "scattermapbox": [
           {
            "marker": {
             "colorbar": {
              "outlinewidth": 0,
              "ticks": ""
             }
            },
            "type": "scattermapbox"
           }
          ],
          "scatterpolar": [
           {
            "marker": {
             "colorbar": {
              "outlinewidth": 0,
              "ticks": ""
             }
            },
            "type": "scatterpolar"
           }
          ],
          "scatterpolargl": [
           {
            "marker": {
             "colorbar": {
              "outlinewidth": 0,
              "ticks": ""
             }
            },
            "type": "scatterpolargl"
           }
          ],
          "scatterternary": [
           {
            "marker": {
             "colorbar": {
              "outlinewidth": 0,
              "ticks": ""
             }
            },
            "type": "scatterternary"
           }
          ],
          "surface": [
           {
            "colorbar": {
             "outlinewidth": 0,
             "ticks": ""
            },
            "colorscale": [
             [
              0,
              "#0d0887"
             ],
             [
              0.1111111111111111,
              "#46039f"
             ],
             [
              0.2222222222222222,
              "#7201a8"
             ],
             [
              0.3333333333333333,
              "#9c179e"
             ],
             [
              0.4444444444444444,
              "#bd3786"
             ],
             [
              0.5555555555555556,
              "#d8576b"
             ],
             [
              0.6666666666666666,
              "#ed7953"
             ],
             [
              0.7777777777777778,
              "#fb9f3a"
             ],
             [
              0.8888888888888888,
              "#fdca26"
             ],
             [
              1,
              "#f0f921"
             ]
            ],
            "type": "surface"
           }
          ],
          "table": [
           {
            "cells": {
             "fill": {
              "color": "#EBF0F8"
             },
             "line": {
              "color": "white"
             }
            },
            "header": {
             "fill": {
              "color": "#C8D4E3"
             },
             "line": {
              "color": "white"
             }
            },
            "type": "table"
           }
          ]
         },
         "layout": {
          "annotationdefaults": {
           "arrowcolor": "#2a3f5f",
           "arrowhead": 0,
           "arrowwidth": 1
          },
          "autotypenumbers": "strict",
          "coloraxis": {
           "colorbar": {
            "outlinewidth": 0,
            "ticks": ""
           }
          },
          "colorscale": {
           "diverging": [
            [
             0,
             "#8e0152"
            ],
            [
             0.1,
             "#c51b7d"
            ],
            [
             0.2,
             "#de77ae"
            ],
            [
             0.3,
             "#f1b6da"
            ],
            [
             0.4,
             "#fde0ef"
            ],
            [
             0.5,
             "#f7f7f7"
            ],
            [
             0.6,
             "#e6f5d0"
            ],
            [
             0.7,
             "#b8e186"
            ],
            [
             0.8,
             "#7fbc41"
            ],
            [
             0.9,
             "#4d9221"
            ],
            [
             1,
             "#276419"
            ]
           ],
           "sequential": [
            [
             0,
             "#0d0887"
            ],
            [
             0.1111111111111111,
             "#46039f"
            ],
            [
             0.2222222222222222,
             "#7201a8"
            ],
            [
             0.3333333333333333,
             "#9c179e"
            ],
            [
             0.4444444444444444,
             "#bd3786"
            ],
            [
             0.5555555555555556,
             "#d8576b"
            ],
            [
             0.6666666666666666,
             "#ed7953"
            ],
            [
             0.7777777777777778,
             "#fb9f3a"
            ],
            [
             0.8888888888888888,
             "#fdca26"
            ],
            [
             1,
             "#f0f921"
            ]
           ],
           "sequentialminus": [
            [
             0,
             "#0d0887"
            ],
            [
             0.1111111111111111,
             "#46039f"
            ],
            [
             0.2222222222222222,
             "#7201a8"
            ],
            [
             0.3333333333333333,
             "#9c179e"
            ],
            [
             0.4444444444444444,
             "#bd3786"
            ],
            [
             0.5555555555555556,
             "#d8576b"
            ],
            [
             0.6666666666666666,
             "#ed7953"
            ],
            [
             0.7777777777777778,
             "#fb9f3a"
            ],
            [
             0.8888888888888888,
             "#fdca26"
            ],
            [
             1,
             "#f0f921"
            ]
           ]
          },
          "colorway": [
           "#636efa",
           "#EF553B",
           "#00cc96",
           "#ab63fa",
           "#FFA15A",
           "#19d3f3",
           "#FF6692",
           "#B6E880",
           "#FF97FF",
           "#FECB52"
          ],
          "font": {
           "color": "#2a3f5f"
          },
          "geo": {
           "bgcolor": "white",
           "lakecolor": "white",
           "landcolor": "#E5ECF6",
           "showlakes": true,
           "showland": true,
           "subunitcolor": "white"
          },
          "hoverlabel": {
           "align": "left"
          },
          "hovermode": "closest",
          "mapbox": {
           "style": "light"
          },
          "paper_bgcolor": "white",
          "plot_bgcolor": "#E5ECF6",
          "polar": {
           "angularaxis": {
            "gridcolor": "white",
            "linecolor": "white",
            "ticks": ""
           },
           "bgcolor": "#E5ECF6",
           "radialaxis": {
            "gridcolor": "white",
            "linecolor": "white",
            "ticks": ""
           }
          },
          "scene": {
           "xaxis": {
            "backgroundcolor": "#E5ECF6",
            "gridcolor": "white",
            "gridwidth": 2,
            "linecolor": "white",
            "showbackground": true,
            "ticks": "",
            "zerolinecolor": "white"
           },
           "yaxis": {
            "backgroundcolor": "#E5ECF6",
            "gridcolor": "white",
            "gridwidth": 2,
            "linecolor": "white",
            "showbackground": true,
            "ticks": "",
            "zerolinecolor": "white"
           },
           "zaxis": {
            "backgroundcolor": "#E5ECF6",
            "gridcolor": "white",
            "gridwidth": 2,
            "linecolor": "white",
            "showbackground": true,
            "ticks": "",
            "zerolinecolor": "white"
           }
          },
          "shapedefaults": {
           "line": {
            "color": "#2a3f5f"
           }
          },
          "ternary": {
           "aaxis": {
            "gridcolor": "white",
            "linecolor": "white",
            "ticks": ""
           },
           "baxis": {
            "gridcolor": "white",
            "linecolor": "white",
            "ticks": ""
           },
           "bgcolor": "#E5ECF6",
           "caxis": {
            "gridcolor": "white",
            "linecolor": "white",
            "ticks": ""
           }
          },
          "title": {
           "x": 0.05
          },
          "xaxis": {
           "automargin": true,
           "gridcolor": "white",
           "linecolor": "white",
           "ticks": "",
           "title": {
            "standoff": 15
           },
           "zerolinecolor": "white",
           "zerolinewidth": 2
          },
          "yaxis": {
           "automargin": true,
           "gridcolor": "white",
           "linecolor": "white",
           "ticks": "",
           "title": {
            "standoff": 15
           },
           "zerolinecolor": "white",
           "zerolinewidth": 2
          }
         }
        },
        "title": {
         "text": "q=2,loss=0.194397"
        },
        "xaxis": {
         "anchor": "y",
         "autorange": true,
         "domain": [
          0,
          1
         ],
         "range": [
          -185.24447189429267,
          210.45313583472236
         ],
         "title": {
          "text": "1st"
         },
         "type": "linear"
        },
        "yaxis": {
         "anchor": "x",
         "autorange": true,
         "domain": [
          0,
          1
         ],
         "range": [
          -168.97094360732353,
          150.22871033095635
         ],
         "title": {
          "text": "2nd"
         },
         "type": "linear"
        }
       }
      },
      "image/png": "[encoded data removed]",
      "text/html": [
       "<div>                            <div id=\"edf7cb06-823f-4061-b221-f765843c0898\" class=\"plotly-graph-div\" style=\"height:500px; width:100%;\"></div>            <script type=\"text/javascript\">                require([\"plotly\"], function(Plotly) {                    window.PLOTLYENV=window.PLOTLYENV || {};                                    if (document.getElementById(\"edf7cb06-823f-4061-b221-f765843c0898\")) {                    Plotly.newPlot(                        \"edf7cb06-823f-4061-b221-f765843c0898\",                        [{\"hovertemplate\":\"1st=%{x}<br>2nd=%{y}<br>shift=%{text}<br>state=%{marker.color}<extra></extra>\",\"legendgroup\":\"\",\"marker\":{\"color\":[0,0,0,0,0,0,0,0,0,0,0,0,0,0,0,0,0,0,0,0,0,0,0,0,0,0,0,0,0,0,0,0,0,0,0,0,0,0,0,0,0,0,0,0,0,0,0,0,0,0,0,0,0,0,0,0,0,0,0,0,0,0,0,0,0,0,0,0,0,0,0,0,0,0,0,0,0,0,0,0,0,0,0,0,0,0,0,0,0,0,0,0,0,0,0,0,0,0,0,0,1,1,1,1,1,1,1,1,1,1,1,1,1,1,1,1,1,1,1,1,1,1,1,1,1,1,1,1,1,1,1,1,1,1,1,1,1,1,1,1,1,1,1,1,1,1,1,1,1,1,1,1,1,1,1,1,1,1,1,1,1,1,1,1,1,1,1,1,1,1,1,1,1,1,1,1,1,1,1,1,1,1,1,1,1,1,1,1,1,1,1,1,1,1,1,1,1,1,1,1,2,2,2,2,2,2,2,2,2,2,2,2,2,2,2,2,2,2,2,2,2,2,2,2,2,2,2,2,2,2,2,2,2,2,2,2,2,2,2,2,2,2,2,2,2,2,2,2,2,2,2,2,2,2,2,2,2,2,2,2,2,2,2,2,2,2,2,2,2,2,2,2,2,2,2,2,2,2,2,2,2,2,2,2,2,2,2,2,2,2,2,2,2,2,2,2,2,2,2,2,3,3,3,3,3,3,3,3,3,3,3,3,3,3,3,3,3,3,3,3,3,3,3,3,3,3,3,3,3,3,3,3,3,3,3,3,3,3,3,3,3,3,3,3,3,3,3,3,3,3,3,3,3,3,3,3,3,3,3,3,3,3,3,3,3,3,3,3,3,3,3,3,3,3,3,3,3,3,3,3,3,3,3,3,3,3,3,3,3,3,3,3,3,3,3,3,3,3,3,3,4,4,4,4,4,4,4,4,4,4,4,4,4,4,4,4,4,4,4,4,4,4,4,4,4,4,4,4,4,4,4,4,4,4,4,4,4,4,4,4,4,4,4,4,4,4,4,4,4,4,4,4,4,4,4,4,4,4,4,4,4,4,4,4,4,4,4,4,4,4,4,4,4,4,4,4,4,4,4,4,4,4,4,4,4,4,4,4,4,4,4,4,4,4,4,4,4,4,4,4],\"coloraxis\":\"coloraxis\",\"symbol\":\"circle\"},\"mode\":\"markers+text\",\"name\":\"\",\"orientation\":\"v\",\"showlegend\":false,\"text\":[0.0,1.0,2.0,3.0,4.0,5.0,6.0,7.0,8.0,9.0,10.0,11.0,12.0,13.0,14.0,15.0,16.0,17.0,18.0,19.0,20.0,21.0,22.0,23.0,24.0,25.0,26.0,27.0,28.0,29.0,30.0,31.0,32.0,33.0,34.0,35.0,36.0,37.0,38.0,39.0,40.0,41.0,42.0,43.0,44.0,45.0,46.0,47.0,48.0,49.0,50.0,51.0,52.0,53.0,54.0,55.0,56.0,57.0,58.0,59.0,60.0,61.0,62.0,63.0,64.0,65.0,66.0,67.0,68.0,69.0,70.0,71.0,72.0,73.0,74.0,75.0,76.0,77.0,78.0,79.0,80.0,81.0,82.0,83.0,84.0,85.0,86.0,87.0,88.0,89.0,90.0,91.0,92.0,93.0,94.0,95.0,96.0,97.0,98.0,99.0,0.0,1.0,2.0,3.0,4.0,5.0,6.0,7.0,8.0,9.0,10.0,11.0,12.0,13.0,14.0,15.0,16.0,17.0,18.0,19.0,20.0,21.0,22.0,23.0,24.0,25.0,26.0,27.0,28.0,29.0,30.0,31.0,32.0,33.0,34.0,35.0,36.0,37.0,38.0,39.0,40.0,41.0,42.0,43.0,44.0,45.0,46.0,47.0,48.0,49.0,50.0,51.0,52.0,53.0,54.0,55.0,56.0,57.0,58.0,59.0,60.0,61.0,62.0,63.0,64.0,65.0,66.0,67.0,68.0,69.0,70.0,71.0,72.0,73.0,74.0,75.0,76.0,77.0,78.0,79.0,80.0,81.0,82.0,83.0,84.0,85.0,86.0,87.0,88.0,89.0,90.0,91.0,92.0,93.0,94.0,95.0,96.0,97.0,98.0,99.0,0.0,1.0,2.0,3.0,4.0,5.0,6.0,7.0,8.0,9.0,10.0,11.0,12.0,13.0,14.0,15.0,16.0,17.0,18.0,19.0,20.0,21.0,22.0,23.0,24.0,25.0,26.0,27.0,28.0,29.0,30.0,31.0,32.0,33.0,34.0,35.0,36.0,37.0,38.0,39.0,40.0,41.0,42.0,43.0,44.0,45.0,46.0,47.0,48.0,49.0,50.0,51.0,52.0,53.0,54.0,55.0,56.0,57.0,58.0,59.0,60.0,61.0,62.0,63.0,64.0,65.0,66.0,67.0,68.0,69.0,70.0,71.0,72.0,73.0,74.0,75.0,76.0,77.0,78.0,79.0,80.0,81.0,82.0,83.0,84.0,85.0,86.0,87.0,88.0,89.0,90.0,91.0,92.0,93.0,94.0,95.0,96.0,97.0,98.0,99.0,0.0,1.0,2.0,3.0,4.0,5.0,6.0,7.0,8.0,9.0,10.0,11.0,12.0,13.0,14.0,15.0,16.0,17.0,18.0,19.0,20.0,21.0,22.0,23.0,24.0,25.0,26.0,27.0,28.0,29.0,30.0,31.0,32.0,33.0,34.0,35.0,36.0,37.0,38.0,39.0,40.0,41.0,42.0,43.0,44.0,45.0,46.0,47.0,48.0,49.0,50.0,51.0,52.0,53.0,54.0,55.0,56.0,57.0,58.0,59.0,60.0,61.0,62.0,63.0,64.0,65.0,66.0,67.0,68.0,69.0,70.0,71.0,72.0,73.0,74.0,75.0,76.0,77.0,78.0,79.0,80.0,81.0,82.0,83.0,84.0,85.0,86.0,87.0,88.0,89.0,90.0,91.0,92.0,93.0,94.0,95.0,96.0,97.0,98.0,99.0,0.0,1.0,2.0,3.0,4.0,5.0,6.0,7.0,8.0,9.0,10.0,11.0,12.0,13.0,14.0,15.0,16.0,17.0,18.0,19.0,20.0,21.0,22.0,23.0,24.0,25.0,26.0,27.0,28.0,29.0,30.0,31.0,32.0,33.0,34.0,35.0,36.0,37.0,38.0,39.0,40.0,41.0,42.0,43.0,44.0,45.0,46.0,47.0,48.0,49.0,50.0,51.0,52.0,53.0,54.0,55.0,56.0,57.0,58.0,59.0,60.0,61.0,62.0,63.0,64.0,65.0,66.0,67.0,68.0,69.0,70.0,71.0,72.0,73.0,74.0,75.0,76.0,77.0,78.0,79.0,80.0,81.0,82.0,83.0,84.0,85.0,86.0,87.0,88.0,89.0,90.0,91.0,92.0,93.0,94.0,95.0,96.0,97.0,98.0,99.0],\"x\":[-105.58490753173828,-100.43701934814453,-104.41776275634766,-113.74563598632812,-120.66737365722656,-128.0083465576172,-134.5723876953125,-149.42684936523438,-155.72654724121094,-126.47842407226562,-124.4001693725586,-112.48265075683594,-111.4995346069336,-75.15316009521484,-77.74169158935547,-76.35563659667969,-61.65470886230469,37.215919494628906,44.199039459228516,70.14185333251953,70.84809875488281,80.05725860595703,78.3854751586914,79.93854522705078,91.03054809570312,114.24939727783203,114.44855499267578,121.53974151611328,121.8355941772461,136.593505859375,141.772216796875,145.3089599609375,146.69219970703125,166.0238037109375,172.90386962890625,162.67559814453125,171.57479858398438,164.693359375,153.13613891601562,163.69894409179688,164.9125518798828,169.89891052246094,168.90310668945312,170.99513244628906,178.88998413085938,173.71231079101562,167.52578735351562,168.3849334716797,158.1714324951172,161.03314208984375,150.65997314453125,141.5755615234375,146.6709442138672,140.2132568359375,133.08218383789062,121.39430236816406,114.10263061523438,106.42472076416016,83.8507308959961,77.43000793457031,73.85615539550781,63.29541778564453,63.43037033081055,61.07655715942383,51.61930847167969,39.85554885864258,33.84744644165039,23.79490852355957,23.345836639404297,19.687461853027344,16.88459014892578,-13.044837951660156,-22.116390228271484,-28.09139633178711,-22.562822341918945,-29.07494354248047,-33.90544128417969,-39.91975021362305,-36.83595275878906,-46.421199798583984,-50.86008071899414,-55.60274124145508,-62.03377151489258,-58.74766159057617,-75.17328643798828,-53.600276947021484,-49.83613204956055,-72.34579467773438,-67.19898223876953,-76.3822250366211,-74.00411224365234,-82.18405151367188,-77.4403076171875,-126.78800964355469,-87.83329772949219,-97.84544372558594,-104.52010345458984,-103.58370971679688,-112.9680404663086,-116.93528747558594,-108.12327575683594,-109.7899169921875,-108.32073211669922,-125.75272369384766,-133.34950256347656,-133.27366638183594,-128.6851348876953,-144.65518188476562,-147.18746948242188,-145.05088806152344,-150.77383422851562,-148.68038940429688,-147.75286865234375,-151.4396514892578,-146.322509765625,-143.70497131347656,-146.94290161132812,-145.6785888671875,-138.97084045410156,29.685121536254883,84.05623626708984,88.29206848144531,89.45938873291016,97.31404876708984,105.77814483642578,107.61698150634766,115.16472625732422,128.09967041015625,131.10470581054688,136.8250732421875,139.95396423339844,136.4158935546875,150.54989624023438,151.3794708251953,156.80154418945312,164.96617126464844,162.2552490234375,159.38555908203125,167.73806762695312,169.34503173828125,166.62124633789062,167.67369079589844,169.41175842285156,177.4848175048828,172.9318084716797,174.64016723632812,172.2082061767578,178.715576171875,144.82342529296875,41.18806457519531,34.39946746826172,28.12591552734375,22.967323303222656,27.176639556884766,37.296958923339844,23.661346435546875,34.3870964050293,36.66797637939453,95.42020416259766,71.80152130126953,64.82980346679688,64.60543823242188,55.14152908325195,39.04094314575195,-12.255678176879883,-9.586637496948242,-4.389911651611328,-57.57326126098633,-59.23678970336914,-59.11155319213867,-60.54427719116211,-52.785709381103516,-48.283687591552734,-47.07769012451172,-50.23842239379883,-43.229209899902344,-39.14418411254883,-40.2976188659668,-38.90494918823242,-35.49046325683594,-31.77043342590332,-33.56550598144531,-28.29037094116211,-28.772010803222656,-24.192176818847656,-22.602123260498047,-18.569921493530273,-19.20812225341797,-12.196979522705078,-12.30523681640625,-6.982638359069824,-9.83998966217041,-6.318473815917969,-3.720689058303833,-0.05559271574020386,2.9280498027801514,3.2189743518829346,3.751028060913086,4.858604431152344,-102.4299087524414,-107.30160522460938,-112.69947052001953,-122.19729614257812,-120.33162689208984,-120.45893096923828,-124.0380630493164,-133.7486114501953,-135.4622344970703,-141.50904846191406,-146.78176879882812,-150.47959899902344,-137.42640686035156,-133.2926788330078,-138.39297485351562,-101.8956069946289,-120.8082275390625,-119.86675262451172,-124.40380096435547,-99.9572525024414,70.02628326416016,76.45336151123047,85.99048614501953,101.94966888427734,107.7645034790039,107.93236541748047,107.41964721679688,123.56324005126953,109.55657196044922,120.4404525756836,124.98180389404297,138.46722412109375,132.1505889892578,139.06103515625,141.12867736816406,143.6517333984375,145.62841796875,158.43408203125,161.38919067382812,161.35411071777344,160.6025390625,159.05386352539062,160.68801879882812,152.345947265625,134.39120483398438,127.98702239990234,152.443359375,127.9382095336914,122.2101821899414,94.16048431396484,50.592464447021484,37.5419807434082,55.970157623291016,62.12181854248047,63.65492630004883,60.265323638916016,55.24809646606445,51.89628982543945,56.71488952636719,50.47025680541992,52.647705078125,54.86207962036133,53.91360855102539,56.81081008911133,35.54123306274414,40.354434967041016,9.309993743896484,-0.623435914516449,-59.772796630859375,-61.71619415283203,-62.57259750366211,-61.214569091796875,-48.63273620605469,-57.533226013183594,-43.05350112915039,-41.84653091430664,-41.55870819091797,-38.670066833496094,-46.2675666809082,-46.424198150634766,-48.1078987121582,-48.65959930419922,-45.77739715576172,-33.377140045166016,-17.12473487854004,-17.671857833862305,-20.661924362182617,-14.415096282958984,-15.610904693603516,-12.410383224487305,-11.506601333618164,-10.900591850280762,-4.508569717407227,-7.921756267547607,-5.315674304962158,-8.228341102600098,-3.791645050048828,-4.335713863372803,-4.447274208068848,-3.2215142250061035,-105.65058135986328,-114.36434936523438,-117.64161682128906,-125.65478515625,-138.40518188476562,-142.0729217529297,-155.90769958496094,-156.79714965820312,-162.89234924316406,-160.572265625,-148.25267028808594,-149.21063232421875,-122.85060119628906,-127.2724380493164,-143.08909606933594,-135.57974243164062,-132.6548614501953,-100.85499572753906,4.117506980895996,43.27962875366211,51.920413970947266,66.23945617675781,67.22804260253906,76.09251403808594,80.96392059326172,81.56851196289062,89.23314666748047,91.8047866821289,117.26268768310547,119.94208526611328,124.8797836303711,133.4129638671875,136.78585815429688,137.22166442871094,145.6724395751953,148.0977783203125,149.681884765625,156.69546508789062,163.88035583496094,169.1754150390625,170.03143310546875,163.78936767578125,165.13839721679688,158.1645965576172,167.77545166015625,166.80694580078125,163.9104766845703,169.1562957763672,170.67657470703125,166.2770233154297,147.56292724609375,133.08615112304688,128.65785217285156,129.62338256835938,116.44551849365234,110.3607406616211,107.68017578125,110.97393035888672,84.29228210449219,74.69129180908203,68.0986328125,67.13909912109375,39.817543029785156,45.203250885009766,51.3455696105957,46.00196075439453,29.43563461303711,24.096027374267578,24.120424270629883,20.0301570892334,9.86614990234375,-0.1795787215232849,1.2448196411132812,0.3662644028663635,-47.675987243652344,-49.76661682128906,-43.79987716674805,-54.06848907470703,-67.93571472167969,-44.653480529785156,-34.38192367553711,-53.7359733581543,-55.514347076416016,-58.22493362426758,-62.15890884399414,-58.164306640625,-82.7065200805664,-81.9875717163086,-79.27355194091797,-77.95108795166016,-85.62642669677734,-87.02461242675781,-92.9443588256836,-92.66802215576172,-74.98472595214844,-82.34617614746094,-113.66443634033203,-108.84062194824219,-119.09331512451172,-99.0940933227539,-86.18376159667969,-84.91414642333984,-89.77872467041016,-98.78284454345703,-95.84968566894531,-98.16673278808594,-104.46154022216797,-130.72193908691406,-144.54104614257812,-136.723388671875,-149.49371337890625,-127.400634765625,-97.0309066772461,-111.41301727294922,-100.64260864257812,-116.64907836914062,-117.20581817626953,-115.81605529785156,-64.3974609375,20.783790588378906,50.06253433227539,56.32036590576172,62.420047760009766,72.235595703125,87.25908660888672,91.11629486083984,91.89801788330078,91.0352554321289,110.61568450927734,113.5800552368164,115.42424774169922,137.45213317871094,151.97076416015625,152.82223510742188,153.75787353515625,150.16575622558594,154.997314453125,158.6888427734375,157.33409118652344,159.55374145507812,180.4326934814453,183.64344787597656,178.539306640625,177.8094482421875,188.10101318359375,165.34652709960938,155.22360229492188,155.11192321777344,152.34425354003906,138.3159637451172,117.99964141845703,104.49295043945312,104.1535415649414,106.4574203491211,90.88008880615234,98.36958312988281,87.44083404541016,93.74298095703125,90.58789825439453,77.3486557006836,84.83055877685547,81.56786346435547,78.2099609375,57.39760971069336,63.41156768798828,55.962181091308594,52.40487289428711,33.56874084472656,16.126768112182617,8.951297760009766,-17.405933380126953,-26.163646697998047,-15.37214469909668,-20.49514389038086,-23.541757583618164,-24.754791259765625,-28.18630599975586,-31.20235824584961,-33.973541259765625,-39.90010452270508,-54.567630767822266,-48.78903579711914,-48.15113067626953,-42.24190902709961,-32.65208053588867,-30.11295509338379,-28.391725540161133,-29.36280059814453,-53.627899169921875,-55.3731689453125,-47.4813346862793,-47.98402786254883,-62.16812515258789,-62.3040657043457,-62.78424835205078,-76.2778091430664,-82.11141204833984,-76.6853256225586,-80.35694122314453,-87.93841552734375,-86.29319763183594],\"xaxis\":\"x\",\"y\":[7.313213348388672,3.163909673690796,3.458188772201538,-5.756160736083984,-9.999435424804688,-21.72870445251465,-26.522911071777344,-30.88450813293457,-38.320411682128906,-43.59775161743164,-51.3776969909668,-56.56454849243164,-53.76617431640625,-73.89427947998047,-71.61386108398438,-84.36341094970703,-96.92821502685547,-145.78445434570312,-146.13705444335938,-149.2703399658203,-141.4402618408203,-136.98158264160156,-127.2598648071289,-122.4477310180664,-117.1639175415039,-124.70045471191406,-117.42803192138672,-113.09130859375,-103.8161849975586,-103.63652801513672,-93.79894256591797,-89.91283416748047,-81.19084930419922,-77.78318786621094,-74.26283264160156,-57.73204803466797,-57.810794830322266,-53.39631652832031,-45.73450469970703,-42.80915069580078,-34.764888763427734,-28.983102798461914,-18.654409408569336,-17.314533233642578,-11.189165115356445,-2.029796838760376,2.288870096206665,17.460519790649414,22.57162857055664,32.138038635253906,40.57811737060547,49.1020393371582,54.404876708984375,62.307281494140625,66.63925170898438,95.01322937011719,103.96188354492188,108.90534973144531,107.0284194946289,110.28113555908203,117.29876708984375,119.70589447021484,118.60477447509766,124.7055435180664,127.15225219726562,117.11578369140625,113.90251159667969,113.62157440185547,116.59673309326172,114.10763549804688,112.01091003417969,67.79290771484375,64.68448638916016,60.69749069213867,58.32646942138672,55.853702545166016,53.781166076660156,57.17973327636719,54.94851303100586,45.57594299316406,47.17638397216797,44.709197998046875,44.200706481933594,49.79401397705078,57.72141647338867,43.51529312133789,41.0316276550293,46.564422607421875,40.742122650146484,44.74108123779297,42.804443359375,30.557153701782227,32.6603889465332,53.20159912109375,23.47590446472168,23.294370651245117,14.470460891723633,21.01253890991211,17.00179672241211,20.422481536865234,2.914823293685913,-3.8717119693756104,-14.281515121459961,-17.003414154052734,-19.972431182861328,-21.030305862426758,-27.553800582885742,-37.713687896728516,-40.456607818603516,-48.99061584472656,-55.54674530029297,-59.88724899291992,-64.14767456054688,-59.85231018066406,-71.27484130859375,-81.53367614746094,-83.31022644042969,-85.39002227783203,-98.52800750732422,-143.13720703125,-143.06715393066406,-141.20510864257812,-136.42990112304688,-133.87307739257812,-131.1210479736328,-130.07852172851562,-124.92443084716797,-116.32811737060547,-107.12225341796875,-100.95780181884766,-90.82572174072266,-86.20072174072266,-78.4420166015625,-72.36447143554688,-65.42682647705078,-59.47421646118164,-53.06118392944336,-47.57597351074219,-44.108245849609375,-41.50227355957031,-36.81131362915039,-30.07955551147461,-29.12214469909668,-20.78338050842285,-9.562572479248047,-6.0890398025512695,-4.832887649536133,0.746667742729187,21.303634643554688,14.872631072998047,17.228086471557617,20.241666793823242,25.687522888183594,26.09010887145996,32.901153564453125,27.196701049804688,46.51343536376953,64.19285583496094,111.91959381103516,103.82984924316406,107.52564239501953,117.78150177001953,112.14966583251953,99.48453521728516,53.6343994140625,61.91716384887695,61.61267852783203,-38.217376708984375,-45.950225830078125,-45.805355072021484,-41.77532196044922,-41.19353485107422,-44.12214279174805,-44.41648864746094,-46.932037353515625,-47.277809143066406,-42.497802734375,-47.544593811035156,-44.662208557128906,-48.09947967529297,-48.07569885253906,-50.815025329589844,-48.65802001953125,-48.693504333496094,-49.17106628417969,-50.64173126220703,-49.15602111816406,-47.532928466796875,-50.852752685546875,-46.82902526855469,-46.76764678955078,-46.11827850341797,-46.58454132080078,-48.413665771484375,-47.53114700317383,-46.10948181152344,-50.31666946411133,-55.00844955444336,-52.544532775878906,7.4369707107543945,-0.7440396547317505,-2.4216158390045166,-8.387126922607422,-13.174079895019531,-13.687301635742188,-12.154840469360352,-16.559030532836914,-30.188371658325195,-40.89982223510742,-40.548831939697266,-53.377994537353516,-60.35731506347656,-53.055625915527344,-65.12356567382812,-60.63874053955078,-82.2837142944336,-85.30513763427734,-92.66311645507812,-103.03277587890625,-136.14407348632812,-132.92796325683594,-140.75506591796875,-139.1352081298828,-126.50675201416016,-120.24199676513672,-118.90435028076172,-106.70984649658203,-94.970458984375,-92.90271759033203,-93.46389770507812,-77.06148529052734,-66.77639770507812,-68.1958236694336,-74.61897277832031,-63.14818572998047,-61.17584991455078,-54.43455505371094,-57.21217346191406,-38.88923263549805,-32.45341491699219,-21.90561294555664,-17.56513786315918,0.951400637626648,12.017313003540039,11.798616409301758,11.862167358398438,29.903770446777344,22.2276554107666,27.308143615722656,30.6180362701416,31.74455451965332,34.40380859375,45.021339416503906,44.665035247802734,64.14356231689453,70.1883316040039,73.08544158935547,85.3338394165039,111.40013122558594,113.94781494140625,121.86971282958984,127.60346221923828,130.52810668945312,107.27466583251953,128.60145568847656,91.8065414428711,82.57994842529297,-27.93517303466797,-35.60322570800781,-37.564964294433594,-38.64529800415039,-36.299041748046875,-36.20968246459961,-40.46826934814453,-40.26087951660156,-48.75096130371094,-45.97596740722656,-47.93992233276367,-40.973140716552734,-41.57448959350586,-35.6063232421875,-39.777015686035156,-43.27742385864258,-46.43558883666992,-49.020904541015625,-45.38759994506836,-48.49168014526367,-46.700469970703125,-50.2210693359375,-54.426509857177734,-49.37882995605469,-43.35973358154297,-39.95860290527344,-39.78511428833008,-41.545684814453125,-38.95768356323242,-41.576595306396484,-45.79685974121094,-43.909507751464844,3.8255879878997803,22.96058464050293,19.881332397460938,18.140575408935547,8.925882339477539,0.6925352811813354,-9.55660629272461,-17.839111328125,-27.2813663482666,-38.95157241821289,-46.885929107666016,-43.69099426269531,-53.8619384765625,-61.558067321777344,-65.91439056396484,-76.41275787353516,-83.9407730102539,-91.87934112548828,-126.3739242553711,-140.67147827148438,-144.51339721679688,-138.619140625,-123.82805633544922,-121.14387512207031,-122.96817779541016,-115.9515609741211,-105.0624771118164,-107.5047836303711,-109.87934112548828,-102.8547592163086,-88.42774200439453,-92.29386138916016,-85.74280548095703,-75.89569854736328,-77.5681381225586,-74.79930877685547,-69.8743667602539,-64.31428527832031,-62.63484191894531,-54.39191818237305,-50.10639953613281,-39.0947380065918,-35.39958953857422,-30.23764419555664,-18.326995849609375,-13.025978088378906,-1.6947423219680786,1.379576325416565,2.3482377529144287,10.112667083740234,24.01280403137207,26.254104614257812,45.75922393798828,42.74075698852539,58.53432846069336,76.25052642822266,79.740966796875,91.68193817138672,104.69102478027344,105.54850769042969,101.02909851074219,104.69237518310547,96.77363586425781,106.3989028930664,106.9048843383789,114.2892837524414,110.67066192626953,109.11927032470703,107.96530151367188,110.07212829589844,106.58100128173828,120.3136215209961,115.64839935302734,97.76821899414062,93.20648956298828,62.142704010009766,55.8471565246582,55.35533142089844,63.65007781982422,58.700340270996094,57.528873443603516,59.62601089477539,62.854957580566406,59.28978729248047,57.95757293701172,50.054481506347656,59.15245056152344,61.69518280029297,69.10810089111328,45.362430572509766,60.91140365600586,58.82144546508789,50.38117599487305,44.24528884887695,19.99796485900879,30.86246681213379,42.18042755126953,32.77568817138672,32.222225189208984,18.28297233581543,-6.047294616699219,28.539602279663086,12.632671356201172,10.211199760437012,3.781564474105835,-3.0578558444976807,-2.050550699234009,-11.312641143798828,-25.364606857299805,-27.49871826171875,-33.75300598144531,-44.15678024291992,-52.633628845214844,-51.57350158691406,-53.46879577636719,-62.922401428222656,-70.16707611083984,-75.48407745361328,-85.88771057128906,-102.92642974853516,-115.2619400024414,-114.84528350830078,-118.3552474975586,-124.39485931396484,-118.0855712890625,-119.0483169555664,-109.22417449951172,-100.123046875,-102.59634399414062,-93.12390899658203,-91.07930755615234,-84.01134490966797,-81.02532196044922,-70.4115982055664,-66.5068359375,-61.55322265625,-57.86087417602539,-51.745689392089844,-54.51275634765625,-40.91755294799805,-38.62275314331055,-31.915372848510742,-23.81312370300293,-14.569802284240723,-7.646963119506836,2.8983943462371826,9.743375778198242,24.823945999145508,30.98380470275879,31.445669174194336,31.757036209106445,31.750761032104492,35.91975402832031,54.20710754394531,57.825592041015625,70.36641693115234,77.11930084228516,80.25028991699219,95.58805847167969,99.60919952392578,106.0008773803711,111.77918243408203,114.04488372802734,118.7961196899414,122.71021270751953,122.74994659423828,127.54174041748047,106.39115905761719,92.68816375732422,79.97700500488281,32.12424087524414,13.84283447265625,41.25747299194336,38.86006164550781,29.444408416748047,24.118026733398438,22.559598922729492,15.931039810180664,13.365472793579102,1.4845589399337769,23.863401412963867,18.9541015625,21.34446144104004,31.86909294128418,24.11259651184082,20.67056655883789,13.114843368530273,-4.401960372924805,33.739898681640625,34.86802291870117,27.785371780395508,33.04560470581055,30.057592391967773,25.555965423583984,22.211244583129883,9.651443481445312,19.018136978149414,4.670549392700195,5.766935348510742,23.16734504699707,22.323543548583984],\"yaxis\":\"y\",\"type\":\"scatter\"}],                        {\"template\":{\"data\":{\"histogram2dcontour\":[{\"type\":\"histogram2dcontour\",\"colorbar\":{\"outlinewidth\":0,\"ticks\":\"\"},\"colorscale\":[[0.0,\"#0d0887\"],[0.1111111111111111,\"#46039f\"],[0.2222222222222222,\"#7201a8\"],[0.3333333333333333,\"#9c179e\"],[0.4444444444444444,\"#bd3786\"],[0.5555555555555556,\"#d8576b\"],[0.6666666666666666,\"#ed7953\"],[0.7777777777777778,\"#fb9f3a\"],[0.8888888888888888,\"#fdca26\"],[1.0,\"#f0f921\"]]}],\"choropleth\":[{\"type\":\"choropleth\",\"colorbar\":{\"outlinewidth\":0,\"ticks\":\"\"}}],\"histogram2d\":[{\"type\":\"histogram2d\",\"colorbar\":{\"outlinewidth\":0,\"ticks\":\"\"},\"colorscale\":[[0.0,\"#0d0887\"],[0.1111111111111111,\"#46039f\"],[0.2222222222222222,\"#7201a8\"],[0.3333333333333333,\"#9c179e\"],[0.4444444444444444,\"#bd3786\"],[0.5555555555555556,\"#d8576b\"],[0.6666666666666666,\"#ed7953\"],[0.7777777777777778,\"#fb9f3a\"],[0.8888888888888888,\"#fdca26\"],[1.0,\"#f0f921\"]]}],\"heatmap\":[{\"type\":\"heatmap\",\"colorbar\":{\"outlinewidth\":0,\"ticks\":\"\"},\"colorscale\":[[0.0,\"#0d0887\"],[0.1111111111111111,\"#46039f\"],[0.2222222222222222,\"#7201a8\"],[0.3333333333333333,\"#9c179e\"],[0.4444444444444444,\"#bd3786\"],[0.5555555555555556,\"#d8576b\"],[0.6666666666666666,\"#ed7953\"],[0.7777777777777778,\"#fb9f3a\"],[0.8888888888888888,\"#fdca26\"],[1.0,\"#f0f921\"]]}],\"heatmapgl\":[{\"type\":\"heatmapgl\",\"colorbar\":{\"outlinewidth\":0,\"ticks\":\"\"},\"colorscale\":[[0.0,\"#0d0887\"],[0.1111111111111111,\"#46039f\"],[0.2222222222222222,\"#7201a8\"],[0.3333333333333333,\"#9c179e\"],[0.4444444444444444,\"#bd3786\"],[0.5555555555555556,\"#d8576b\"],[0.6666666666666666,\"#ed7953\"],[0.7777777777777778,\"#fb9f3a\"],[0.8888888888888888,\"#fdca26\"],[1.0,\"#f0f921\"]]}],\"contourcarpet\":[{\"type\":\"contourcarpet\",\"colorbar\":{\"outlinewidth\":0,\"ticks\":\"\"}}],\"contour\":[{\"type\":\"contour\",\"colorbar\":{\"outlinewidth\":0,\"ticks\":\"\"},\"colorscale\":[[0.0,\"#0d0887\"],[0.1111111111111111,\"#46039f\"],[0.2222222222222222,\"#7201a8\"],[0.3333333333333333,\"#9c179e\"],[0.4444444444444444,\"#bd3786\"],[0.5555555555555556,\"#d8576b\"],[0.6666666666666666,\"#ed7953\"],[0.7777777777777778,\"#fb9f3a\"],[0.8888888888888888,\"#fdca26\"],[1.0,\"#f0f921\"]]}],\"surface\":[{\"type\":\"surface\",\"colorbar\":{\"outlinewidth\":0,\"ticks\":\"\"},\"colorscale\":[[0.0,\"#0d0887\"],[0.1111111111111111,\"#46039f\"],[0.2222222222222222,\"#7201a8\"],[0.3333333333333333,\"#9c179e\"],[0.4444444444444444,\"#bd3786\"],[0.5555555555555556,\"#d8576b\"],[0.6666666666666666,\"#ed7953\"],[0.7777777777777778,\"#fb9f3a\"],[0.8888888888888888,\"#fdca26\"],[1.0,\"#f0f921\"]]}],\"mesh3d\":[{\"type\":\"mesh3d\",\"colorbar\":{\"outlinewidth\":0,\"ticks\":\"\"}}],\"scatter\":[{\"fillpattern\":{\"fillmode\":\"overlay\",\"size\":10,\"solidity\":0.2},\"type\":\"scatter\"}],\"parcoords\":[{\"type\":\"parcoords\",\"line\":{\"colorbar\":{\"outlinewidth\":0,\"ticks\":\"\"}}}],\"scatterpolargl\":[{\"type\":\"scatterpolargl\",\"marker\":{\"colorbar\":{\"outlinewidth\":0,\"ticks\":\"\"}}}],\"bar\":[{\"error_x\":{\"color\":\"#2a3f5f\"},\"error_y\":{\"color\":\"#2a3f5f\"},\"marker\":{\"line\":{\"color\":\"#E5ECF6\",\"width\":0.5},\"pattern\":{\"fillmode\":\"overlay\",\"size\":10,\"solidity\":0.2}},\"type\":\"bar\"}],\"scattergeo\":[{\"type\":\"scattergeo\",\"marker\":{\"colorbar\":{\"outlinewidth\":0,\"ticks\":\"\"}}}],\"scatterpolar\":[{\"type\":\"scatterpolar\",\"marker\":{\"colorbar\":{\"outlinewidth\":0,\"ticks\":\"\"}}}],\"histogram\":[{\"marker\":{\"pattern\":{\"fillmode\":\"overlay\",\"size\":10,\"solidity\":0.2}},\"type\":\"histogram\"}],\"scattergl\":[{\"type\":\"scattergl\",\"marker\":{\"colorbar\":{\"outlinewidth\":0,\"ticks\":\"\"}}}],\"scatter3d\":[{\"type\":\"scatter3d\",\"line\":{\"colorbar\":{\"outlinewidth\":0,\"ticks\":\"\"}},\"marker\":{\"colorbar\":{\"outlinewidth\":0,\"ticks\":\"\"}}}],\"scattermapbox\":[{\"type\":\"scattermapbox\",\"marker\":{\"colorbar\":{\"outlinewidth\":0,\"ticks\":\"\"}}}],\"scatterternary\":[{\"type\":\"scatterternary\",\"marker\":{\"colorbar\":{\"outlinewidth\":0,\"ticks\":\"\"}}}],\"scattercarpet\":[{\"type\":\"scattercarpet\",\"marker\":{\"colorbar\":{\"outlinewidth\":0,\"ticks\":\"\"}}}],\"carpet\":[{\"aaxis\":{\"endlinecolor\":\"#2a3f5f\",\"gridcolor\":\"white\",\"linecolor\":\"white\",\"minorgridcolor\":\"white\",\"startlinecolor\":\"#2a3f5f\"},\"baxis\":{\"endlinecolor\":\"#2a3f5f\",\"gridcolor\":\"white\",\"linecolor\":\"white\",\"minorgridcolor\":\"white\",\"startlinecolor\":\"#2a3f5f\"},\"type\":\"carpet\"}],\"table\":[{\"cells\":{\"fill\":{\"color\":\"#EBF0F8\"},\"line\":{\"color\":\"white\"}},\"header\":{\"fill\":{\"color\":\"#C8D4E3\"},\"line\":{\"color\":\"white\"}},\"type\":\"table\"}],\"barpolar\":[{\"marker\":{\"line\":{\"color\":\"#E5ECF6\",\"width\":0.5},\"pattern\":{\"fillmode\":\"overlay\",\"size\":10,\"solidity\":0.2}},\"type\":\"barpolar\"}],\"pie\":[{\"automargin\":true,\"type\":\"pie\"}]},\"layout\":{\"autotypenumbers\":\"strict\",\"colorway\":[\"#636efa\",\"#EF553B\",\"#00cc96\",\"#ab63fa\",\"#FFA15A\",\"#19d3f3\",\"#FF6692\",\"#B6E880\",\"#FF97FF\",\"#FECB52\"],\"font\":{\"color\":\"#2a3f5f\"},\"hovermode\":\"closest\",\"hoverlabel\":{\"align\":\"left\"},\"paper_bgcolor\":\"white\",\"plot_bgcolor\":\"#E5ECF6\",\"polar\":{\"bgcolor\":\"#E5ECF6\",\"angularaxis\":{\"gridcolor\":\"white\",\"linecolor\":\"white\",\"ticks\":\"\"},\"radialaxis\":{\"gridcolor\":\"white\",\"linecolor\":\"white\",\"ticks\":\"\"}},\"ternary\":{\"bgcolor\":\"#E5ECF6\",\"aaxis\":{\"gridcolor\":\"white\",\"linecolor\":\"white\",\"ticks\":\"\"},\"baxis\":{\"gridcolor\":\"white\",\"linecolor\":\"white\",\"ticks\":\"\"},\"caxis\":{\"gridcolor\":\"white\",\"linecolor\":\"white\",\"ticks\":\"\"}},\"coloraxis\":{\"colorbar\":{\"outlinewidth\":0,\"ticks\":\"\"}},\"colorscale\":{\"sequential\":[[0.0,\"#0d0887\"],[0.1111111111111111,\"#46039f\"],[0.2222222222222222,\"#7201a8\"],[0.3333333333333333,\"#9c179e\"],[0.4444444444444444,\"#bd3786\"],[0.5555555555555556,\"#d8576b\"],[0.6666666666666666,\"#ed7953\"],[0.7777777777777778,\"#fb9f3a\"],[0.8888888888888888,\"#fdca26\"],[1.0,\"#f0f921\"]],\"sequentialminus\":[[0.0,\"#0d0887\"],[0.1111111111111111,\"#46039f\"],[0.2222222222222222,\"#7201a8\"],[0.3333333333333333,\"#9c179e\"],[0.4444444444444444,\"#bd3786\"],[0.5555555555555556,\"#d8576b\"],[0.6666666666666666,\"#ed7953\"],[0.7777777777777778,\"#fb9f3a\"],[0.8888888888888888,\"#fdca26\"],[1.0,\"#f0f921\"]],\"diverging\":[[0,\"#8e0152\"],[0.1,\"#c51b7d\"],[0.2,\"#de77ae\"],[0.3,\"#f1b6da\"],[0.4,\"#fde0ef\"],[0.5,\"#f7f7f7\"],[0.6,\"#e6f5d0\"],[0.7,\"#b8e186\"],[0.8,\"#7fbc41\"],[0.9,\"#4d9221\"],[1,\"#276419\"]]},\"xaxis\":{\"gridcolor\":\"white\",\"linecolor\":\"white\",\"ticks\":\"\",\"title\":{\"standoff\":15},\"zerolinecolor\":\"white\",\"automargin\":true,\"zerolinewidth\":2},\"yaxis\":{\"gridcolor\":\"white\",\"linecolor\":\"white\",\"ticks\":\"\",\"title\":{\"standoff\":15},\"zerolinecolor\":\"white\",\"automargin\":true,\"zerolinewidth\":2},\"scene\":{\"xaxis\":{\"backgroundcolor\":\"#E5ECF6\",\"gridcolor\":\"white\",\"linecolor\":\"white\",\"showbackground\":true,\"ticks\":\"\",\"zerolinecolor\":\"white\",\"gridwidth\":2},\"yaxis\":{\"backgroundcolor\":\"#E5ECF6\",\"gridcolor\":\"white\",\"linecolor\":\"white\",\"showbackground\":true,\"ticks\":\"\",\"zerolinecolor\":\"white\",\"gridwidth\":2},\"zaxis\":{\"backgroundcolor\":\"#E5ECF6\",\"gridcolor\":\"white\",\"linecolor\":\"white\",\"showbackground\":true,\"ticks\":\"\",\"zerolinecolor\":\"white\",\"gridwidth\":2}},\"shapedefaults\":{\"line\":{\"color\":\"#2a3f5f\"}},\"annotationdefaults\":{\"arrowcolor\":\"#2a3f5f\",\"arrowhead\":0,\"arrowwidth\":1},\"geo\":{\"bgcolor\":\"white\",\"landcolor\":\"#E5ECF6\",\"subunitcolor\":\"white\",\"showland\":true,\"showlakes\":true,\"lakecolor\":\"white\"},\"title\":{\"x\":0.05},\"mapbox\":{\"style\":\"light\"}}},\"xaxis\":{\"anchor\":\"y\",\"domain\":[0.0,1.0],\"title\":{\"text\":\"1st\"}},\"yaxis\":{\"anchor\":\"x\",\"domain\":[0.0,1.0],\"title\":{\"text\":\"2nd\"}},\"coloraxis\":{\"colorbar\":{\"title\":{\"text\":\"state\"}},\"colorscale\":[[0.0,\"#440154\"],[0.1111111111111111,\"#482878\"],[0.2222222222222222,\"#3e4989\"],[0.3333333333333333,\"#31688e\"],[0.4444444444444444,\"#26828e\"],[0.5555555555555556,\"#1f9e89\"],[0.6666666666666666,\"#35b779\"],[0.7777777777777778,\"#6ece58\"],[0.8888888888888888,\"#b5de2b\"],[1.0,\"#fde725\"]]},\"legend\":{\"tracegroupgap\":0},\"title\":{\"text\":\"q=2,loss=0.194397\"},\"height\":500},                        {\"responsive\": true}                    ).then(function(){\n",
       "                            \n",
       "var gd = document.getElementById('edf7cb06-823f-4061-b221-f765843c0898');\n",
       "var x = new MutationObserver(function (mutations, observer) {{\n",
       "        var display = window.getComputedStyle(gd).display;\n",
       "        if (!display || display === 'none') {{\n",
       "            console.log([gd, 'removed!']);\n",
       "            Plotly.purge(gd);\n",
       "            observer.disconnect();\n",
       "        }}\n",
       "}});\n",
       "\n",
       "// Listen for the removal of the full notebook cells\n",
       "var notebookContainer = gd.closest('#notebook-container');\n",
       "if (notebookContainer) {{\n",
       "    x.observe(notebookContainer, {childList: true});\n",
       "}}\n",
       "\n",
       "// Listen for the clearing of the current output cell\n",
       "var outputEl = gd.closest('.output');\n",
       "if (outputEl) {{\n",
       "    x.observe(outputEl, {childList: true});\n",
       "}}\n",
       "\n",
       "                        })                };                });            </script>        </div>"
      ]
     },
     "metadata": {},
     "output_type": "display_data"
    },
    {
     "name": "stdout",
     "output_type": "stream",
     "text": [
      "For epoch 1261, loss is 0.111583.\n",
      "For epoch 1262, loss is 0.137986.\n",
      "For epoch 1263, loss is 0.194231.\n",
      "For epoch 1264, loss is 0.169021.\n",
      "For epoch 1265, loss is 0.159406.\n",
      "For epoch 1266, loss is 0.184191.\n",
      "For epoch 1267, loss is 0.167269.\n"
     ]
    }
   ],
   "source": [
    "for epoch in range(10000):\n",
    "    for batch,tem in enumerate(train_dataset_pair):\n",
    "        loss = train_step(model, tem)\n",
    "        #clear_output(wait=True)\n",
    "        #print(\"For epoch {:d}, batch {:d}, loss is {:f}.\".format(epoch, batch, loss))\n",
    "    print(\"For epoch {:d}, loss is {:f}.\".format(epoch, loss))\n",
    "    if epoch % 10 == 0:\n",
    "        clear_output(wait = True)\n",
    "        Ns = model.encoder.predict(X_test)[:, p:p+q*nt]\n",
    "        N_reshaped = Ns.reshape(-1, q)\n",
    "        if q==2:\n",
    "            pca_N = N_reshaped\n",
    "        else:\n",
    "            pca_N = pca_cb.fit_transform(N_reshaped)\n",
    "        df = pd.DataFrame(pca_N, columns = ['1st','2nd'])\n",
    "        df = pd.concat([df,df_states,df_shifts],axis=1)\n",
    "        fig = px.scatter(df, x='1st', y='2nd', color='state', \n",
    "                         text='shift', title='q=%d,loss=%f'%(q,loss), \n",
    "                         color_continuous_scale=px.colors.sequential.Viridis)\n",
    "        fig.update_layout(height=500)\n",
    "        fig.show()"
   ]
  },
  {
   "cell_type": "markdown",
   "id": "f9f6c3e1-f83e-4e7f-9fae-ac422ecb0757",
   "metadata": {
    "tags": []
   },
   "source": [
    "### Save weights"
   ]
  },
  {
   "cell_type": "code",
   "execution_count": 59,
   "id": "6f923375-bf69-46dd-a290-f247ecb0207e",
   "metadata": {},
   "outputs": [
    {
     "name": "stdout",
     "output_type": "stream",
     "text": [
      "weights saved\n"
     ]
    }
   ],
   "source": [
    "#model.save_weights('./checkpoint/'+datetime.now().strftime(\"%B%d\"))\n",
    "model.save_weights('./checkpoint/'+'p=%d,q=%d,predata'%(p,q))\n",
    "print(\"weights saved\")"
   ]
  },
  {
   "cell_type": "markdown",
   "id": "7571a373-3fba-49fa-a2ec-5a6c018da202",
   "metadata": {
    "tags": []
   },
   "source": [
    "### Save plot"
   ]
  },
  {
   "cell_type": "code",
   "execution_count": null,
   "id": "866c297a-01ae-4f33-9090-632f0ed38dd1",
   "metadata": {},
   "outputs": [],
   "source": [
    "#plot_save(fig,ID=-1)"
   ]
  },
  {
   "cell_type": "code",
   "execution_count": null,
   "id": "35a93b4f-0274-476d-9971-c6ee606ab7c0",
   "metadata": {},
   "outputs": [],
   "source": []
  },
  {
   "cell_type": "markdown",
   "id": "a043c4df-b1e5-4c42-8ef1-e2ccb07cd552",
   "metadata": {},
   "source": [
    "# PCA"
   ]
  },
  {
   "cell_type": "code",
   "execution_count": null,
   "id": "da57b2e9-68ac-4a96-983f-d8b326ef7be0",
   "metadata": {},
   "outputs": [],
   "source": [
    "ne_test = 10\n",
    "repeat = d//nt\n",
    "nx = ne_test * repeat\n",
    "X_test = np.empty((nx,nt,d))\n",
    "states_sub = np.empty((ne_test, d))\n",
    "for i in range(ne_test):\n",
    "    thetas = tf.random.uniform((1, d), -1, 1)\n",
    "    thetas = tf.nn.conv1d(tf.expand_dims(thetas, -1), tf.ones((20, 1, 1)), \n",
    "                          stride=1, padding='SAME')[:,:,0]\n",
    "    states_sub[i, :] = thetas\n",
    "thetas_test = np.repeat(states_sub, repeat, axis=0)\n",
    "ls_test = np.tile(np.reshape(np.arange(d), (repeat, nt)), (ne_test, 1))\n",
    "for i in range(nx):\n",
    "    for j in range(nt):\n",
    "        X_test[i,j,:] = np.roll(thetas_test[i,:], ls_test[i,j])\n",
    "pca_cb = PCA(n_components=2)\n",
    "df_states = pd.DataFrame(np.repeat(range(ne_test), d),columns=['state'])\n",
    "df_shifts = pd.DataFrame(ls_test.reshape(-1, 1), columns=['shift'])\n",
    "clear_output()"
   ]
  },
  {
   "cell_type": "code",
   "execution_count": null,
   "id": "b7b56cf8-5620-4f1e-9a25-dbe9f09a5d70",
   "metadata": {},
   "outputs": [],
   "source": [
    "Ns = model.encoder.predict(X_test)[:, p:p+q*nt]\n",
    "N_reshaped = Ns.reshape(-1, q)\n",
    "if q==2:\n",
    "    pca_N = N_reshaped\n",
    "else:\n",
    "    pca_N = pca_cb.fit_transform(N_reshaped)\n",
    "df = pd.DataFrame(pca_N, columns = ['1st','2nd'])\n",
    "df = pd.concat([df,df_states,df_shifts],axis=1)\n",
    "fig = px.scatter(df, x='1st', y='2nd', color='state', \n",
    "                 text='shift', title='q=%d,loss=%f'%(q,loss), \n",
    "                 color_continuous_scale=px.colors.sequential.Viridis)\n",
    "fig.update_layout(height=500)"
   ]
  },
  {
   "cell_type": "code",
   "execution_count": null,
   "id": "876559d0-42ef-4ac7-9e02-298b06c100f2",
   "metadata": {},
   "outputs": [],
   "source": []
  },
  {
   "cell_type": "code",
   "execution_count": null,
   "id": "ca5fbf56-4c23-4e13-b154-8d2c45186f97",
   "metadata": {},
   "outputs": [],
   "source": []
  },
  {
   "cell_type": "markdown",
   "id": "462e4883-c204-43d9-8418-5f9fce087660",
   "metadata": {
    "tags": []
   },
   "source": [
    "# Redatuming"
   ]
  },
  {
   "cell_type": "code",
   "execution_count": 62,
   "id": "f245cdea-fa17-4356-9760-8c76a14a3d5b",
   "metadata": {},
   "outputs": [],
   "source": [
    "coef = tf.random.uniform((N,3), -1, 1)\n",
    "thetas = tf.linalg.matmul(coef,cos)\n",
    "def g(n,x):\n",
    "    return thetas[n,int(x*d)]\n",
    "def find(state,nuisance):\n",
    "    MRA_data = MRA_generate(d,nt,1,sigma,ne,g,replace=1)\n",
    "    for i in range(1000):\n",
    "        MRA_data.generate_default()\n",
    "        if MRA_data.states[0] != state:\n",
    "            continue\n",
    "        for j in range(nt):\n",
    "            if MRA_data.shifts[0][j] == nuisance:\n",
    "                return MRA_data, j"
   ]
  },
  {
   "cell_type": "markdown",
   "id": "def6fc28-2b18-4cf0-bd6d-fed5d39825fb",
   "metadata": {
    "tags": []
   },
   "source": [
    "### Choose which 2 states and shifts you want to redatum "
   ]
  },
  {
   "cell_type": "code",
   "execution_count": 63,
   "id": "aeb03a24-731a-4e8d-af04-37e3bb3c0c90",
   "metadata": {},
   "outputs": [],
   "source": [
    "MRA1, t1 = find(0,0)\n",
    "MRA2, t2 = find(1,36)"
   ]
  },
  {
   "cell_type": "markdown",
   "id": "cfcecc72-0ce1-4be3-9b9b-6f377b1ad810",
   "metadata": {
    "tags": []
   },
   "source": [
    "### Redatuming and the visualize it"
   ]
  },
  {
   "cell_type": "code",
   "execution_count": 64,
   "id": "de1f4247-e33f-4987-9329-7c2b20ac57ee",
   "metadata": {},
   "outputs": [
    {
     "name": "stdout",
     "output_type": "stream",
     "text": [
      "The MSE of C1N2 is: 0.411483\n",
      "The MSE of C2N1 is: 0.928181\n"
     ]
    },
    {
     "data": {
      "image/png": "[encoded data removed]",
      "text/plain": [
       "<Figure size 1152x864 with 4 Axes>"
      ]
     },
     "metadata": {
      "needs_background": "light"
     },
     "output_type": "display_data"
    }
   ],
   "source": [
    "redatum = redatuming(model,MRA1,MRA2,t1,t2)\n",
    "MSE_C1_N2, MSE_C2_N1 = redatum.MSE()\n",
    "fig = plot_redatuming(redatum)\n",
    "clear_output()\n",
    "print('The MSE of C1N2 is: %f'%MSE_C1_N2)\n",
    "print('The MSE of C2N1 is: %f'%MSE_C2_N1)"
   ]
  },
  {
   "cell_type": "markdown",
   "id": "b7f78f88-c21c-433a-afd9-ec1e6f3402a1",
   "metadata": {
    "jp-MarkdownHeadingCollapsed": true,
    "tags": []
   },
   "source": [
    "### Save redatuming plot"
   ]
  },
  {
   "cell_type": "code",
   "execution_count": null,
   "id": "dcedbd55-0c90-4aea-90e6-6bea5296eb95",
   "metadata": {},
   "outputs": [],
   "source": [
    "plot_save(fig,ID=-1)"
   ]
  },
  {
   "cell_type": "markdown",
   "id": "0fadff9b-6233-4afe-bd5b-2e55154338ef",
   "metadata": {
    "jp-MarkdownHeadingCollapsed": true,
    "tags": []
   },
   "source": [
    "### List many redatuming"
   ]
  },
  {
   "cell_type": "code",
   "execution_count": null,
   "id": "c59ca1d6-980f-4f53-a2e1-87a54019917e",
   "metadata": {},
   "outputs": [],
   "source": [
    "def dec(latent_code):\n",
    "    tem = latent_code[np.newaxis, np.newaxis, :]\n",
    "    tem = np.repeat(tem, nt, axis=1)\n",
    "    tem = model.mixer.predict(tem, verbose=0)\n",
    "    return tem[0,0,:]\n",
    "def enc(state, shift):\n",
    "    tem = np.array( [g(state, ((k+shift)%d)/d) for k in range(d)] )\n",
    "    tem = tem[np.newaxis, np.newaxis, :, np.newaxis]\n",
    "    tem = np.repeat(tem, nt, axis=1)\n",
    "    tem = model.encoder.predict(tem, verbose=0)\n",
    "    return tem[0][0:p+q]"
   ]
  },
  {
   "cell_type": "code",
   "execution_count": null,
   "id": "b1399151-ed42-4d13-8f7d-180fbb492d31",
   "metadata": {},
   "outputs": [],
   "source": [
    "state_source = 0\n",
    "nuisance_source = 40\n",
    "fig, axs = plt.subplots(1, d, sharex=True, sharey=True, figsize=(4*d,4), dpi=40)\n",
    "for i in trange(d):\n",
    "    coherent_code = enc(state_source, 0)[0: p]\n",
    "    nuisance_code = enc(nuisance_source, i)[p: p+q]\n",
    "    latent_code = np.concatenate([coherent_code, nuisance_code], axis=0)\n",
    "    axs[i].plot(range(d), dec(latent_code))\n",
    "    axs[i].set_title('%d'%i)\n",
    "plt.suptitle('$\\hat{X}_{s=%d \\mapsto s=%d}$'%(nuisance_source, state_source), fontsize=50)\n",
    "plt.subplots_adjust(top=0.6)\n",
    "plt.show()\n",
    "#fig.savefig('./plots/%dto%d'%(nuisance_source, state_source))"
   ]
  },
  {
   "cell_type": "markdown",
   "id": "fa27b26c-d23f-42f5-9f32-49e66bda6c42",
   "metadata": {
    "tags": []
   },
   "source": [
    "# Interpolation"
   ]
  },
  {
   "cell_type": "code",
   "execution_count": null,
   "id": "f7e56385-4c7a-43da-8358-a053cd8caad8",
   "metadata": {},
   "outputs": [],
   "source": [
    "def dec(latent_code):\n",
    "    tem = latent_code[np.newaxis, np.newaxis, :]\n",
    "    tem = np.repeat(tem, nt, axis=1)\n",
    "    tem = model.mixer.predict(tem, verbose=0)\n",
    "    return tem[0,0,:]\n",
    "def enc(state, shift):\n",
    "    tem = np.array( [g(state, ((k+shift)%d)/d) for k in range(d)] )\n",
    "    tem = tem[np.newaxis, np.newaxis, :, np.newaxis]\n",
    "    tem = np.repeat(tem, nt, axis=1)\n",
    "    tem = model.encoder.predict(tem, verbose=0)\n",
    "    return tem[0][0:p+q]"
   ]
  },
  {
   "cell_type": "markdown",
   "id": "afc0d3bb-3a8f-4cee-bad2-13ad49fa2d5f",
   "metadata": {
    "tags": []
   },
   "source": [
    "### Set endpoints"
   ]
  },
  {
   "cell_type": "code",
   "execution_count": null,
   "id": "7b42bbca-f3de-4957-a8ed-65efb3e5992c",
   "metadata": {},
   "outputs": [],
   "source": [
    "state = -1\n",
    "shift1 = 0\n",
    "shift2 = 30"
   ]
  },
  {
   "cell_type": "code",
   "execution_count": null,
   "id": "e6ae32fe-abe6-4b94-9207-5ec15f105184",
   "metadata": {},
   "outputs": [],
   "source": [
    "def g(n,x):\n",
    "    if n==-1:\n",
    "        return int(x<0.5)\n",
    "    return np.exp(-math.sqrt(n+1)*(x-0.5)**2)"
   ]
  },
  {
   "cell_type": "markdown",
   "id": "802db79a-98f8-4d44-a35f-1a645536ea1a",
   "metadata": {
    "tags": []
   },
   "source": [
    "### Linear"
   ]
  },
  {
   "cell_type": "code",
   "execution_count": null,
   "id": "7d28ac42-db74-43f4-a467-b7ea66bc2f9a",
   "metadata": {},
   "outputs": [],
   "source": [
    "interpolation_number = L = 10\n",
    "interpolation = np.empty((L,d))\n",
    "for i, alpha in enumerate(range(L)):\n",
    "    alpha = alpha / L\n",
    "    code1 = enc(state, shift1)\n",
    "    code2 = enc(state, shift2)\n",
    "    code = alpha*code1 + (1-alpha)*code2\n",
    "    interpolation[i:i+1,:] = dec(code).T\n",
    "fig = plt.figure(figsize=(10,6))\n",
    "for i, alpha in enumerate(range(L)):\n",
    "    alpha = alpha / L\n",
    "    plt.plot(range(d),interpolation[i,:], color=(alpha,0,1-alpha))\n",
    "plt.grid()"
   ]
  },
  {
   "cell_type": "markdown",
   "id": "2f7e0953-26a7-47fe-8f26-7e6fe4571820",
   "metadata": {},
   "source": [
    "### Cubic Spline"
   ]
  },
  {
   "cell_type": "code",
   "execution_count": null,
   "id": "a3cc8629-baa6-466a-9990-cd0a4c9fe31e",
   "metadata": {},
   "outputs": [],
   "source": [
    "class spline():\n",
    "    def __init__(self, state):\n",
    "        self.state = state\n",
    "        self.x = np.arange(0, d, 1)\n",
    "        self.y = np.empty((q, len(self.x)))\n",
    "        self.tck = []\n",
    "        self.center = enc(state, 0)[0:p]\n",
    "        for j in trange(len(self.x)):\n",
    "            l = self.x[j]\n",
    "            latent_code = enc(state, l)\n",
    "            for i in range(q):\n",
    "                self.y[i,j] = latent_code[p+i]\n",
    "        for i in range(q):\n",
    "            self.tck.append(interpolate.splrep(self.x, self.y[i,:], per=True))\n",
    "    def call(self, shift):\n",
    "        return np.array([interpolate.splev(shift, self.tck[i], der=0) for i in range(q)])\n",
    "    def call_batch(self, shifts):\n",
    "        return np.array([[interpolate.splev(shift, self.tck[i], der=0) for i in range(q)] for shift in shifts])\n",
    "    def decode(self, shift):\n",
    "        return dec(np.hstack([self.center, self.call(shift)]))\n",
    "    def decode_batch(self, shifts):\n",
    "        return np.array([self.decode(shift) for shift in tqdm(shifts)])"
   ]
  },
  {
   "cell_type": "code",
   "execution_count": null,
   "id": "6f9b6c3c-b728-41b1-bb0f-5854e6c0d8b0",
   "metadata": {},
   "outputs": [],
   "source": [
    "spline_obj = spline(state)"
   ]
  },
  {
   "cell_type": "code",
   "execution_count": null,
   "id": "35ba1175-5715-4bb2-843e-1a3594e34684",
   "metadata": {},
   "outputs": [],
   "source": [
    "spline_obj.decode_batch([5,6]).shape"
   ]
  },
  {
   "cell_type": "code",
   "execution_count": null,
   "id": "16f7dbd7-0a7b-4083-b7c8-b9dfa035ee92",
   "metadata": {},
   "outputs": [],
   "source": [
    "plt.plot(range(d), spline_obj.decode(5))"
   ]
  },
  {
   "cell_type": "markdown",
   "id": "ad25efec-66a2-46e8-ab17-b9783c6ac220",
   "metadata": {
    "tags": []
   },
   "source": [
    "### By hand"
   ]
  },
  {
   "cell_type": "code",
   "execution_count": null,
   "id": "044d6216-d73d-494e-94c0-1043a93dbb4c",
   "metadata": {},
   "outputs": [],
   "source": [
    "code1 = enc(state, shift1)\n",
    "code2 = enc(state, shift2)\n",
    "code = 0.5*code1 + 0.5*code2 + 1.0\n",
    "interpolation = dec(code)\n",
    "fig = plt.figure(figsize=(10,6))\n",
    "plt.plot(range(d), [g(state, ((k+shift1)%d)/d) for k in range(d)], color=(1,0,0))\n",
    "plt.plot(range(d), [g(state, ((k+shift2)%d)/d) for k in range(d)], color=(0,0,1))\n",
    "plt.plot(range(d),interpolation, color=(1,0,1))\n",
    "plt.grid()"
   ]
  },
  {
   "cell_type": "markdown",
   "id": "d8caf59d-76f5-4338-89bc-60fcfc29152d",
   "metadata": {},
   "source": [
    "### PCA"
   ]
  },
  {
   "cell_type": "code",
   "execution_count": null,
   "id": "bb85891b-e64e-4d60-a9ea-52e226ba281a",
   "metadata": {},
   "outputs": [],
   "source": [
    "pca = PCA(2)\n",
    "Ns = np.empty((100,q))\n",
    "for i in trange(100):\n",
    "    shift = i\n",
    "    Ns[i,:] = enc(state, shift)[p:p+q]"
   ]
  },
  {
   "cell_type": "code",
   "execution_count": null,
   "id": "a1018ba4-bcfc-4418-bdd9-b521febc4290",
   "metadata": {},
   "outputs": [],
   "source": [
    "pca_N = pca.fit_transform(Ns)\n",
    "pca_N1 = pca.transform(code1[np.newaxis, p:p+q])\n",
    "pca_N2 = pca.transform(code2[np.newaxis, p:p+q])\n",
    "pca_N_hand = pca.transform(code[np.newaxis, p:p+q])\n",
    "pca_N_spline = pca.transform(spline_obj.call_batch(np.arange(0,100,0.1)))"
   ]
  },
  {
   "cell_type": "code",
   "execution_count": null,
   "id": "c4fa7a97-22db-4fe3-9acb-7fc8638dd18f",
   "metadata": {},
   "outputs": [],
   "source": [
    "data0 = go.Scatter(x=pca_N[:,0], y=pca_N[:,1], mode='markers', name='dataset')\n",
    "data1 = go.Scatter(x=pca_N1[:,0], y=pca_N1[:,1], mode='markers', marker=dict(color='rgb(255, 0, 0)'), name='endpoint1')\n",
    "data2 = go.Scatter(x=pca_N2[:,0], y=pca_N2[:,1], mode='markers', marker=dict(color='rgb(255, 0, 0)'), name='endpoint2')\n",
    "data_line = go.Scatter(x=[pca_N1[0,0],pca_N2[0,0]], y=[pca_N1[0,1],pca_N2[0,1]], marker=dict(color='rgb(255, 200, 0)'), name='line')\n",
    "data_hand = go.Scatter(x=pca_N_hand[:,0], y=pca_N_hand[:,1], mode='markers', marker=dict(color='rgb(150, 255, 150)'), name='hand')\n",
    "data_spline = go.Scatter(x=pca_N_spline[:,0], y=pca_N_spline[:,1], marker=dict(color='rgb(200, 50, 200)'), name='spline')\n",
    "fig = go.Figure(data=[data0,data_line,data1,data2,data_hand,data_spline])\n",
    "fig.update_layout(height=600)\n",
    "fig.show()"
   ]
  },
  {
   "cell_type": "code",
   "execution_count": null,
   "id": "edcf3f97-ea36-497b-892e-7edbe3cfb421",
   "metadata": {},
   "outputs": [],
   "source": []
  },
  {
   "cell_type": "code",
   "execution_count": null,
   "id": "0c5831b3-f3f1-4336-81f4-90e2fd25c127",
   "metadata": {},
   "outputs": [],
   "source": []
  },
  {
   "cell_type": "code",
   "execution_count": null,
   "id": "8c6299ce-b587-4029-a5be-8067d357d794",
   "metadata": {},
   "outputs": [],
   "source": [
    "pca = PCA(n_components=3)\n",
    "MRA_pca = MRA_generate(d,nt,1000,sigma,ne,g,replace=1)\n",
    "MRA_pca.generate_default()\n",
    "Cs,Ns = latent(model,MRA_pca)"
   ]
  },
  {
   "cell_type": "code",
   "execution_count": null,
   "id": "22ce11ac-2fa1-4ff3-88d0-52d3e8bdbcba",
   "metadata": {},
   "outputs": [],
   "source": [
    "pca.fit(Cs)\n",
    "pca_C = pca.fit_transform(Cs)\n",
    "df = pd.DataFrame(pca_C, columns = ['1st','2nd','3rd'])\n",
    "tem = pd.DataFrame(MRA_pca.states,columns=['state']).astype('object')\n",
    "df = pd.concat([df,tem],axis=1)\n",
    "fig = px.scatter_3d(df, x='1st', y='2nd', z='3rd', color='state')\n",
    "fig.show()"
   ]
  },
  {
   "cell_type": "code",
   "execution_count": null,
   "id": "e73668d8-3263-4e16-ae6d-a90db5374be2",
   "metadata": {},
   "outputs": [],
   "source": [
    "state = 0\n",
    "N_reshaped = Ns[MRA_pca.states==state,:].reshape(-1,q) \n",
    "N_shifts = MRA_pca.shifts[MRA_pca.states==state,:].reshape(-1,1)\n",
    "pca = PCA(n_components=3)\n",
    "pca.fit(N_reshaped)\n",
    "pca_N = pca.fit_transform(N_reshaped)\n",
    "df = pd.DataFrame(pca_N, columns = ['1st','2nd','3rd'])\n",
    "tem = pd.DataFrame(N_shifts,columns=['shift'])\n",
    "df = pd.concat([df,tem],axis=1)\n",
    "fig = px.scatter_3d(df, x='1st', y='2nd', z='3rd', color='shift')\n",
    "fig.show()"
   ]
  },
  {
   "cell_type": "markdown",
   "id": "fca22726-544a-4085-809b-e437d0077a4c",
   "metadata": {},
   "source": [
    "p-space is another name of the latent coherent space"
   ]
  },
  {
   "cell_type": "code",
   "execution_count": null,
   "id": "17db248c-9543-4c19-b522-baa4564c9ad7",
   "metadata": {},
   "outputs": [],
   "source": [
    "pca_C = pca.fit_transform(Cs)\n",
    "center = np.empty((ne,2))\n",
    "fig = plt.figure(figsize=(5,4),dpi=100)\n",
    "for i in range(ne):\n",
    "    center[i,:] = sum(pca_C[MRA_pca.states==i,:])/sum(MRA_pca.states==i)\n",
    "    plt.text(center[i,0],center[i,1],\"state=%d\"%i,fontsize=15)\n",
    "for i in trange(1000):\n",
    "    plt.scatter(pca_C[i,0],pca_C[i,1],color='C%d'%(MRA_pca.states[i]))\n",
    "plt.title('PCA of p-space',fontsize=15)\n",
    "plt.tick_params(labelsize=15)\n",
    "plt.tight_layout()"
   ]
  },
  {
   "cell_type": "code",
   "execution_count": null,
   "id": "f1364c68-422d-4fe1-8a12-fda6fec4da4c",
   "metadata": {},
   "outputs": [],
   "source": []
  },
  {
   "cell_type": "code",
   "execution_count": null,
   "id": "e5538bf4-4bda-4b69-ac35-80e3ba493ff8",
   "metadata": {},
   "outputs": [],
   "source": []
  }
 ],
 "metadata": {
  "kernelspec": {
   "display_name": "Python 3 (ipykernel)",
   "language": "python",
   "name": "python3"
  },
  "language_info": {
   "codemirror_mode": {
    "name": "ipython",
    "version": 3
   },
   "file_extension": ".py",
   "mimetype": "text/x-python",
   "name": "python",
   "nbconvert_exporter": "python",
   "pygments_lexer": "ipython3",
   "version": "3.9.12"
  }
 },
 "nbformat": 4,
 "nbformat_minor": 5
}
