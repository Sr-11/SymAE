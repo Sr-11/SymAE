{
 "cells": [
  {
   "cell_type": "markdown",
   "id": "653c0a99-d178-4121-b9ce-ede762fdd228",
   "metadata": {
    "tags": []
   },
   "source": [
    "# Rank-1 Introduction"
   ]
  },
  {
   "cell_type": "markdown",
   "id": "be705430-ca48-4b06-b2e7-e45f376e4c1b",
   "metadata": {
    "tags": []
   },
   "source": [
    "# Import packages"
   ]
  },
  {
   "cell_type": "code",
   "execution_count": null,
   "id": "79464c78-90d9-4773-9e3b-b9e4f822c9dc",
   "metadata": {},
   "outputs": [],
   "source": [
    "import re,os\n",
    "import numpy as np\n",
    "import tensorflow as tf\n",
    "import matplotlib.pyplot as plt\n",
    "from IPython.display import clear_output\n",
    "import pandas as pd\n",
    "import math\n",
    "import random\n",
    "from tqdm import trange, tqdm\n",
    "import matplotlib.colors as mcolors\n",
    "from sklearn.decomposition import PCA\n",
    "import plotly.express as px\n",
    "import plotly.graph_objects as go\n",
    "import imageio\n",
    "from matplotlib.backends.backend_agg import FigureCanvasAgg\n",
    "from matplotlib.figure import Figure\n",
    "tfk = tf.keras\n",
    "tfkl = tf.keras.layers\n",
    "tfkltd= tf.keras.layers.TimeDistributed\n",
    "clear_output()\n",
    "os.environ[\"CUDA_VISIBLE_DEVICES\"]=\"6\""
   ]
  },
  {
   "cell_type": "code",
   "execution_count": null,
   "id": "5a9569cb-864b-4866-b919-9cf38655a7cc",
   "metadata": {},
   "outputs": [],
   "source": [
    "p = 1\n",
    "q = 2\n",
    "w = 100"
   ]
  },
  {
   "cell_type": "markdown",
   "id": "331a3efd-bbec-4b17-9959-29a0230b8c90",
   "metadata": {
    "tags": []
   },
   "source": [
    "# Generate the Dataset"
   ]
  },
  {
   "cell_type": "markdown",
   "id": "7058abe7-f44b-4ac2-9094-e3eade1dd0b3",
   "metadata": {
    "tags": []
   },
   "source": [
    "### Set parameters"
   ]
  },
  {
   "cell_type": "code",
   "execution_count": null,
   "id": "d22a959b-8479-4d61-87fb-018bc497ac18",
   "metadata": {},
   "outputs": [],
   "source": [
    "n1 = 10\n",
    "n2 = 20\n",
    "N = n1*n2\n",
    "states = np.arange(n1, dtype=float)\n",
    "nuisances = np.arange(n2, dtype=float)"
   ]
  },
  {
   "cell_type": "markdown",
   "id": "a71de487-0b37-4ab8-afc8-a6799c01bfd0",
   "metadata": {
    "tags": []
   },
   "source": [
    "### Generate X"
   ]
  },
  {
   "cell_type": "code",
   "execution_count": null,
   "id": "246ee958-8cc2-44f2-a17f-e4fbcc36433c",
   "metadata": {},
   "outputs": [],
   "source": [
    "X = np.empty((N,2))\n",
    "for i in range(N):\n",
    "    #s = np.random.choice(states)\n",
    "    #l = np.random.choice(nuisances)\n",
    "    s = i//n2\n",
    "    l = i%n2\n",
    "    s = states[s]\n",
    "    l = nuisances[l]\n",
    "    X[i,0] = s    \n",
    "    X[i,1] = l"
   ]
  },
  {
   "cell_type": "code",
   "execution_count": null,
   "id": "3966bf73-ef51-42a4-ac79-0f4331c3eba7",
   "metadata": {},
   "outputs": [
    {
     "data": {
      "text/plain": [
       "<matplotlib.image.AxesImage at 0x7f37b2406b50>"
      ]
     },
     "execution_count": 5,
     "metadata": {},
     "output_type": "execute_result"
    },
    {
     "data": {
      "image/png": "[encoded data removed]",
      "text/plain": [
       "<Figure size 1152x144 with 1 Axes>"
      ]
     },
     "metadata": {
      "needs_background": "light"
     },
     "output_type": "display_data"
    }
   ],
   "source": [
    "plt.matshow(X.T)"
   ]
  },
  {
   "cell_type": "markdown",
   "id": "d06811a0-65cb-4021-86c9-ab0a3a52f03d",
   "metadata": {
    "tags": []
   },
   "source": [
    "# Set SymAE"
   ]
  },
  {
   "cell_type": "markdown",
   "id": "690debcf-bcae-47ea-9dae-78cc7ab90105",
   "metadata": {
    "tags": []
   },
   "source": [
    "### Set CENc, NEnc, Dec"
   ]
  },
  {
   "cell_type": "code",
   "execution_count": null,
   "id": "28f9da29-6361-42d5-be5e-ca01ba728a42",
   "metadata": {},
   "outputs": [],
   "source": [
    "class CEnc(tf.keras.Model):\n",
    "    def __init__(self, p, w):\n",
    "        super(CEnc, self).__init__(name='sym_encoder')\n",
    "    def call(self, x):\n",
    "        return x[:,0:1]\n",
    "    \n",
    "# 你是在让 nuisance encoder 记住states\n",
    "class NEnc(tf.keras.Model):\n",
    "    def __init__(self, q, w):\n",
    "        super(NEnc, self).__init__(name='nui_encoder')\n",
    "        self.d1=tfkl.Dense(1, use_bias=False,\n",
    "                           kernel_initializer='zeros')\n",
    "        self.r1 = tf.keras.layers.RepeatVector(q)\n",
    "        self.f1 = tf.keras.layers.Flatten()\n",
    "    def call(self, x):\n",
    "        x=self.d1(x)\n",
    "        #x=tf.reduce_sum(x, axis=-1, keepdims=True)\n",
    "        x=self.r1(x)\n",
    "        x=self.f1(x)\n",
    "        return x\n",
    "    \n",
    "class Dec(tf.keras.Model):\n",
    "    def __init__(self, w):\n",
    "        super(Dec, self).__init__(name='dec')\n",
    "        self.d1=tfkl.Dense(w, activation=tf.keras.layers.LeakyReLU(), use_bias=False)#tf.keras.layers.LeakyReLU())\n",
    "        self.d2=tfkl.Dense(1, use_bias=False)\n",
    "    def call(self, x):\n",
    "        x=self.d1(x)\n",
    "        #x=self.d2(x)\n",
    "        x=tf.reduce_sum(x, axis=-1, keepdims=True)/10\n",
    "        return x"
   ]
  },
  {
   "cell_type": "markdown",
   "id": "3e42028c-b175-4484-a10b-595e0f575c01",
   "metadata": {
    "tags": []
   },
   "source": [
    "### Dropout"
   ]
  },
  {
   "cell_type": "code",
   "execution_count": null,
   "id": "b424056b-e527-4be5-ac3c-ca46107d3d85",
   "metadata": {},
   "outputs": [],
   "source": [
    "class LatentCat(tf.keras.Model):\n",
    "    def __init__(self):\n",
    "        super(LatentCat, self).__init__(name='latentcat')\n",
    "    def call(self, zsym, znui, mask=1):\n",
    "        znui = znui*mask\n",
    "        z = tfkl.concatenate([zsym, znui])\n",
    "        return z"
   ]
  },
  {
   "cell_type": "markdown",
   "id": "a71e81c4-51e1-4626-aa1d-5584e59e2cc5",
   "metadata": {
    "tags": []
   },
   "source": [
    "### model"
   ]
  },
  {
   "cell_type": "code",
   "execution_count": null,
   "id": "565f6d94-06b3-476a-8898-0b22d2d93401",
   "metadata": {},
   "outputs": [],
   "source": [
    "class SymAE(tf.keras.Model):\n",
    "    def __init__(self, p, q, w): \n",
    "        super(SymAE, self).__init__()\n",
    "        # Build symmetric encoder\n",
    "        sym_encoder = CEnc(p, w)\n",
    "        self.sym_encoder=sym_encoder\n",
    "        \n",
    "        # Build nuisance encoder\n",
    "        nui_encoder = NEnc(q, w)\n",
    "        self.nui_encoder = nui_encoder\n",
    "        \n",
    "        #Build latentcat\n",
    "        latentcat = LatentCat()\n",
    "        self.latentcat = latentcat  \n",
    "        \n",
    "        #Build dec in decoder\n",
    "        dec = Dec(w)\n",
    "        self.dec = dec\n",
    "        \n",
    "        # Build encoder\n",
    "        encoder_input = tfk.Input(shape=(2), dtype='float32', name='encoder_input')\n",
    "        znui = nui_encoder(encoder_input); zsym = sym_encoder(encoder_input)\n",
    "        encoder_output = latentcat(zsym, znui)\n",
    "        encoder = tfk.Model(encoder_input, encoder_output, name=\"encoder\")\n",
    "        self.encoder=encoder\n",
    "        \n",
    "        # Build decoder\n",
    "        decoder_input = tfk.Input(shape=(1+q), name='latentcode')\n",
    "        decoder_output = dec(decoder_input)\n",
    "        decoder=tfk.Model(decoder_input,decoder_output, name=\"decoder\") \n",
    "        self.decoder=decoder\n",
    "        \n",
    "    def call(self, x, mask=1):\n",
    "        zsym = self.sym_encoder(x)\n",
    "        znui = self.nui_encoder(x)\n",
    "        z = self.latentcat(zsym, znui, mask)\n",
    "        x_hat = self.dec(z)\n",
    "        return x_hat\n",
    "    \n",
    "    def redatum(self, X1, X2):\n",
    "        return model.decoder(\n",
    "            model.latentcat(\n",
    "                model.sym_encoder(X1), \n",
    "                model.nui_encoder(X2)))"
   ]
  },
  {
   "cell_type": "code",
   "execution_count": null,
   "id": "f4e0de16-70cf-4fe6-90c4-dd797471d9b5",
   "metadata": {},
   "outputs": [],
   "source": [
    "#model(X)"
   ]
  },
  {
   "cell_type": "markdown",
   "id": "ef994434-2a26-48a6-9afe-fdfd50d78eea",
   "metadata": {
    "tags": []
   },
   "source": [
    "### Initialize SymAE"
   ]
  },
  {
   "cell_type": "code",
   "execution_count": null,
   "id": "34b2d7ce-0130-4236-a618-1bf22b325251",
   "metadata": {},
   "outputs": [],
   "source": [
    "model = SymAE(p,q,w)\n",
    "# Please directly modify My_Dropout to change dropout rate\n",
    "path = './p=%d,q=%d,w=%d'%(p,q,w)\n",
    "clear_output()"
   ]
  },
  {
   "cell_type": "code",
   "execution_count": null,
   "id": "6f72a76f-04d2-4280-bfd6-dcfca905f782",
   "metadata": {},
   "outputs": [
    {
     "name": "stdout",
     "output_type": "stream",
     "text": [
      "weight exists\n"
     ]
    }
   ],
   "source": [
    "try:\n",
    "    #model.load_weights(path+'/checkpoint')\n",
    "    print(\"weight exists\")\n",
    "except:\n",
    "    print(\"weight doesn't exist\")"
   ]
  },
  {
   "cell_type": "markdown",
   "id": "6a81f827-25f5-4801-9ae7-2b81e857c0eb",
   "metadata": {
    "tags": []
   },
   "source": [
    "\n",
    "### Select optimizer"
   ]
  },
  {
   "cell_type": "code",
   "execution_count": null,
   "id": "c25761b5-cfc5-4881-b4ae-7f6c3cab9a25",
   "metadata": {},
   "outputs": [],
   "source": [
    "mse = tf.keras.losses.MeanSquaredError()\n",
    "optimizer = tf.keras.optimizers.SGD(learning_rate=0.001)\n",
    "clear_output()"
   ]
  },
  {
   "cell_type": "markdown",
   "id": "291f5d0d-d0f3-461f-990f-6dc418e0348c",
   "metadata": {},
   "source": [
    "# Train"
   ]
  },
  {
   "cell_type": "code",
   "execution_count": null,
   "id": "f376a2ab-5458-4cdd-9848-cddb1f7188c6",
   "metadata": {},
   "outputs": [],
   "source": [
    "mask_list=[]\n",
    "for a in range(2**10):\n",
    "    if a==0:\n",
    "        continue\n",
    "    cur = []\n",
    "    for i in range(10):\n",
    "        cur.append(a%2)\n",
    "        a=a//2\n",
    "    mask_list.append(cur)"
   ]
  },
  {
   "cell_type": "code",
   "execution_count": null,
   "id": "87243ca3-3218-4d79-8de1-d0d4c46ac3e2",
   "metadata": {},
   "outputs": [],
   "source": [
    "mask_list=[(1,1),(1,0),(0,1)]"
   ]
  },
  {
   "cell_type": "markdown",
   "id": "807b82d3-85bc-4923-af21-62e549e5a5d1",
   "metadata": {},
   "source": [
    "### Define loss"
   ]
  },
  {
   "cell_type": "code",
   "execution_count": null,
   "id": "ad610d5b-e413-4d4f-b169-1c5375611e1e",
   "metadata": {
    "tags": []
   },
   "outputs": [],
   "source": [
    "X1 = np.empty((N,2))\n",
    "X2 = np.empty((N,2))\n",
    "for i in range(N):\n",
    "    X1[i,0] = np.random.choice(states)    \n",
    "    X1[i,1] = np.random.choice(nuisances)\n",
    "    X2[i,0] = np.random.choice(states)    \n",
    "    X2[i,1] = np.random.choice(nuisances)\n",
    "def redatum_loss():\n",
    "    redata = model.redatum(X1,X2)\n",
    "    origin = np.empty((N,2))\n",
    "    origin[:,0] = X1[:,0]\n",
    "    origin[:,1] = X2[:,1]\n",
    "    return mse(redata, origin[:,1:2])\n",
    "\n",
    "def loss_rec(model, x):\n",
    "    y = x[:,1:2]\n",
    "    s=0\n",
    "    for mask in mask_list:\n",
    "        x_hat_1 = model(x, mask=mask)\n",
    "        s += mse(y, x_hat_1)\n",
    "    return s\n",
    "\n",
    "@tf.function\n",
    "def train_step(model, X):\n",
    "    with tf.GradientTape() as tape:\n",
    "        loss = loss_rec(model, X)\n",
    "    gradients = tape.gradient(loss, model.trainable_variables)\n",
    "    optimizer.apply_gradients(zip(gradients, model.trainable_variables))\n",
    "    return loss"
   ]
  },
  {
   "cell_type": "markdown",
   "id": "eed94cbf-8c79-40af-ad29-a1aa4dfc3932",
   "metadata": {},
   "source": [
    "### Plot NEnc: R^2->R^2, Dec: R^3->R^2"
   ]
  },
  {
   "cell_type": "code",
   "execution_count": null,
   "id": "4e360d5f-de8a-4d05-bac0-1fd7a18b0bd7",
   "metadata": {},
   "outputs": [],
   "source": [
    "def plot_nenc():\n",
    "    Z = model.nui_encoder(X).numpy().reshape(n1,n2,2)\n",
    "    fig, axs = plt.subplots(1, 2, sharex=True, sharey=True, figsize=(10,5), dpi=144)\n",
    "    levels = np.linspace(np.min(Z), np.max(Z), 10)\n",
    "    cont0 = axs[0].contourf(states, nuisances, Z[:,:,0].T, levels=levels)\n",
    "    axs[0].set_xlabel('state')\n",
    "    axs[0].set_ylabel('nuisance')\n",
    "    axs[0].set_title('1st latent nuisance')\n",
    "    im = axs[1].contourf(states, nuisances, Z[:,:,1].T, levels=levels)\n",
    "    axs[1].set_xlabel('state')\n",
    "    axs[1].set_ylabel('nuisance')\n",
    "    axs[1].set_title('2nd latent nuisance')\n",
    "    fig.colorbar(im, ax=axs.ravel().tolist())\n",
    "    return fig"
   ]
  },
  {
   "cell_type": "code",
   "execution_count": null,
   "id": "4da461bc-45d1-4770-8531-26d9d07d6e04",
   "metadata": {},
   "outputs": [],
   "source": []
  },
  {
   "cell_type": "markdown",
   "id": "f80a2fe8-450e-47c9-9771-4429fd75977b",
   "metadata": {},
   "source": [
    "### Train"
   ]
  },
  {
   "cell_type": "code",
   "execution_count": null,
   "id": "007d5574-bc6d-496e-8834-6e94ddfa66f8",
   "metadata": {},
   "outputs": [],
   "source": [
    "# model.nui_encoder.d1.trainable = True\n",
    "# W = np.array([[0.1],[0.1]])\n",
    "# model.nui_encoder.d1.set_weights([W])"
   ]
  },
  {
   "cell_type": "code",
   "execution_count": null,
   "id": "e34eff0c-b24b-4045-a3a1-095e9238dfdb",
   "metadata": {},
   "outputs": [],
   "source": [
    "# model.nui_encoder.d1.get_weights()"
   ]
  },
  {
   "cell_type": "code",
   "execution_count": null,
   "id": "e4a7bf4f-6256-4d9d-81e7-b66a4736e521",
   "metadata": {},
   "outputs": [
    {
     "name": "stdout",
     "output_type": "stream",
     "text": [
      "9999 tf.Tensor(22.157063, shape=(), dtype=float32)\n"
     ]
    }
   ],
   "source": [
    "losses=[]\n",
    "redata=[]\n",
    "theta=[]\n",
    "conserve=[]\n",
    "model.nui_encoder.d1.trainable = True\n",
    "writer = imageio.get_writer(path+'/NEnc.gif', fps=20)\n",
    "for epoch in range(10000):\n",
    "    loss_rec = train_step(model, X)\n",
    "    losses.append(loss_rec)\n",
    "    redata.append(redatum_loss())\n",
    "    \n",
    "    T = np.empty((w,3))\n",
    "    T[:,0:3] = model.dec.d1.weights[0].numpy().T\n",
    "    df = pd.DataFrame(T, columns=['b','c','d'])\n",
    "    W = model.nui_encoder.weights[0].numpy().T\n",
    "    theta.append([model.nui_encoder.weights[0].numpy(),\n",
    "                  model.dec.d1.weights[0].numpy()])\n",
    "    conserve.append( np.sum(T[:,1:3]**2) - np.sum(W**2) )\n",
    "    print(epoch, loss_rec,'\\n', W)\n",
    "    print(mse(X[:,1:2], model(X, mask=[1,1])))\n",
    "    print(mse(X[:,1:2], model(X, mask=[1,0])))\n",
    "    print(mse(X[:,1:2], model(X, mask=[0,1])))\n",
    "    if epoch%100==-1:\n",
    "        # fig = plot_nenc()\n",
    "        # fig.suptitle('Epoch {:d}, loss {:f}, redatum {:f}'\n",
    "        #              .format(epoch,loss_rec,redata[epoch]))\n",
    "        # canvas = FigureCanvasAgg(fig)\n",
    "        # canvas.draw()\n",
    "        # buf = canvas.buffer_rgba()\n",
    "        # im = np.asarray(buf)\n",
    "        # writer.append_data(im)\n",
    "        # plt.show()\n",
    "        t1 = go.Scatter(x=df['c'], y=df['d'], mode='markers')\n",
    "        # t2 = go.Scatter3d(x=df['a'], y=df['w1'], z=df['w2'], mode='markers')\n",
    "        # t3 = go.Scatter3d(x=df['a'], y=df['w1'], z=df['w3'], mode='markers')\n",
    "        fig = go.Figure(data=[t1])\n",
    "        fig.update_layout(margin=dict(l=0, r=0, b=0, t=0))\n",
    "        fig.show()\n",
    "    clear_output(wait=True)\n",
    "writer.close()  "
   ]
  },
  {
   "cell_type": "code",
   "execution_count": null,
   "id": "53b2c31f-e568-4107-8bf9-c2755bd4b90d",
   "metadata": {},
   "outputs": [],
   "source": []
  },
  {
   "cell_type": "markdown",
   "id": "20516808-4ee3-48c4-aeb8-07b94b35f70c",
   "metadata": {
    "tags": []
   },
   "source": [
    "### Save weights"
   ]
  },
  {
   "cell_type": "code",
   "execution_count": null,
   "id": "a187e4f4-629d-4b71-93fc-a980a3d2a1fb",
   "metadata": {},
   "outputs": [
    {
     "name": "stdout",
     "output_type": "stream",
     "text": [
      "weights saved\n"
     ]
    }
   ],
   "source": [
    "#model.save_weights('./checkpoint/'+datetime.now().strftime(\"%B%d\"))\n",
    "model.save_weights(path+'/checkpoint')\n",
    "print(\"weights saved\")"
   ]
  },
  {
   "cell_type": "markdown",
   "id": "339c3ef1-6123-4d3b-8071-63c08375c3de",
   "metadata": {
    "tags": []
   },
   "source": [
    "### Loss-epoch graph"
   ]
  },
  {
   "cell_type": "code",
   "execution_count": null,
   "id": "b524add1-6c48-42dd-bb86-59dad136ba9b",
   "metadata": {},
   "outputs": [
    {
     "data": {
      "image/png": "[encoded data removed]",
      "text/plain": [
       "<Figure size 432x288 with 2 Axes>"
      ]
     },
     "metadata": {
      "needs_background": "light"
     },
     "output_type": "display_data"
    }
   ],
   "source": [
    "fig, ax1 = plt.subplots()\n",
    "ax2 = ax1.twinx()\n",
    "ax1.plot(range(len(losses)),losses,'C0')\n",
    "ax2.plot(range(len(redata)),redata,'C1')\n",
    "ax1.set_xlabel('epoch')\n",
    "ax1.set_ylabel('loss', color='C0')\n",
    "ax2.set_ylabel('redatum loss', color='C1')\n",
    "plt.savefig(path+'/train.pdf', format='pdf', bbox_inches='tight')\n",
    "plt.show()"
   ]
  },
  {
   "cell_type": "code",
   "execution_count": null,
   "id": "d94d5dda-1f34-4ccd-92ab-787fedf6483e",
   "metadata": {},
   "outputs": [
    {
     "data": {
      "text/plain": [
       "[<matplotlib.lines.Line2D at 0x7f373c1678e0>]"
      ]
     },
     "execution_count": 22,
     "metadata": {},
     "output_type": "execute_result"
    },
    {
     "data": {
      "image/png": "[encoded data removed]",
      "text/plain": [
       "<Figure size 432x288 with 1 Axes>"
      ]
     },
     "metadata": {
      "needs_background": "light"
     },
     "output_type": "display_data"
    }
   ],
   "source": [
    "L=len(theta)\n",
    "L=3000\n",
    "plt.plot(range(len(conserve)),conserve)"
   ]
  },
  {
   "cell_type": "code",
   "execution_count": null,
   "id": "813b9034-ac9e-4165-b71c-691b690ca0e6",
   "metadata": {},
   "outputs": [
    {
     "ename": "IndexError",
     "evalue": "list index out of range",
     "output_type": "error",
     "traceback": [
      "\u001b[0;31m---------------------------------------------------------------------------\u001b[0m",
      "\u001b[0;31mIndexError\u001b[0m                                Traceback (most recent call last)",
      "Input \u001b[0;32mIn [23]\u001b[0m, in \u001b[0;36m<cell line: 1>\u001b[0;34m()\u001b[0m\n\u001b[1;32m      1\u001b[0m \u001b[38;5;28;01mfor\u001b[39;00m j \u001b[38;5;129;01min\u001b[39;00m \u001b[38;5;28mrange\u001b[39m(w):\n\u001b[0;32m----> 2\u001b[0m     plt\u001b[38;5;241m.\u001b[39mplot(\u001b[38;5;28mrange\u001b[39m(L),[theta[i][\u001b[38;5;241m1\u001b[39m][\u001b[38;5;241m2\u001b[39m,j] \u001b[38;5;28;01mfor\u001b[39;00m i \u001b[38;5;129;01min\u001b[39;00m \u001b[38;5;28mrange\u001b[39m(L)])\n",
      "Input \u001b[0;32mIn [23]\u001b[0m, in \u001b[0;36m<listcomp>\u001b[0;34m(.0)\u001b[0m\n\u001b[1;32m      1\u001b[0m \u001b[38;5;28;01mfor\u001b[39;00m j \u001b[38;5;129;01min\u001b[39;00m \u001b[38;5;28mrange\u001b[39m(w):\n\u001b[0;32m----> 2\u001b[0m     plt\u001b[38;5;241m.\u001b[39mplot(\u001b[38;5;28mrange\u001b[39m(L),[\u001b[43mtheta\u001b[49m\u001b[43m[\u001b[49m\u001b[43mi\u001b[49m\u001b[43m]\u001b[49m[\u001b[38;5;241m1\u001b[39m][\u001b[38;5;241m2\u001b[39m,j] \u001b[38;5;28;01mfor\u001b[39;00m i \u001b[38;5;129;01min\u001b[39;00m \u001b[38;5;28mrange\u001b[39m(L)])\n",
      "\u001b[0;31mIndexError\u001b[0m: list index out of range"
     ]
    }
   ],
   "source": [
    "for j in range(w):\n",
    "    plt.plot(range(L),[theta[i][1][2,j] for i in range(L)])"
   ]
  },
  {
   "cell_type": "markdown",
   "id": "ceee184d-2805-4ee6-9b70-14cf842cbeef",
   "metadata": {
    "tags": []
   },
   "source": [
    "# Visualize training loss"
   ]
  },
  {
   "cell_type": "markdown",
   "id": "f9d0f6dd-1351-43fa-967f-9a6feab99383",
   "metadata": {
    "tags": []
   },
   "source": [
    "### Plot D and SymAE(X)"
   ]
  },
  {
   "cell_type": "code",
   "execution_count": null,
   "id": "49da7f28-8575-4bc3-a2c7-660c4cdabd94",
   "metadata": {},
   "outputs": [],
   "source": [
    "fig, axs = plt.subplots(2, 1, sharex=True, sharey=True, figsize=(20,2))\n",
    "axs[0].matshow(X.T)\n",
    "axs[1].matshow(model(X).numpy().T)"
   ]
  },
  {
   "cell_type": "markdown",
   "id": "d6ce226c-c525-41c1-97ac-7b3d5ae11ba5",
   "metadata": {
    "tags": []
   },
   "source": [
    "# PCA"
   ]
  },
  {
   "cell_type": "markdown",
   "id": "a9a562b1-28ee-48da-ab85-d5da707dadd2",
   "metadata": {},
   "source": [
    "### q space (latent nuisance space)"
   ]
  },
  {
   "cell_type": "code",
   "execution_count": null,
   "id": "3a137aaf-614c-426a-a85d-3b7b0bd97e55",
   "metadata": {},
   "outputs": [],
   "source": [
    "Ns = model.nui_encoder(X)\n",
    "df = pd.DataFrame(Ns, columns = np.arange(q))\n",
    "df_nui = pd.DataFrame(X[:,1], columns=['nuisance'])\n",
    "df_sta = pd.DataFrame(X[:,0], columns=['state'])\n",
    "df = pd.concat([df,df_nui,df_sta], axis=1)\n",
    "from plotly.subplots import make_subplots\n",
    "fig = make_subplots(rows=q, cols=1, \n",
    "                    shared_xaxes=True,\n",
    "                    vertical_spacing=0.01)\n",
    "for i in trange(q):\n",
    "    fig.add_trace(\n",
    "        go.Scatter(x=df['nuisance'], \n",
    "                   y=df[i], \n",
    "                   marker=dict(color=df['state']),\n",
    "                   mode='markers'\n",
    "                  ), \n",
    "        row=i+1, col=1\n",
    "        )\n",
    "#fig = px.scatter(df, x='nuisance', y=4, color='state')\n",
    "fig.update_layout(title_text=\"q-space PCA, x:real nuisance, \\\n",
    "y:latent code, color:state\")\n",
    "#fig.update_traces(textposition='top center')\n",
    "fig.update_layout(height=q*200, width=600)\n",
    "fig.update_layout(showlegend=False)\n",
    "fig.write_image(path+'/latent_q.pdf')\n",
    "fig.show()"
   ]
  },
  {
   "cell_type": "markdown",
   "id": "7e732d0e-7583-44b9-a405-124da1625964",
   "metadata": {},
   "source": [
    "### 5-dim gas"
   ]
  },
  {
   "cell_type": "code",
   "execution_count": null,
   "id": "99ffeaf0-4e88-4ff9-ab56-9e5fe7c917f3",
   "metadata": {},
   "outputs": [],
   "source": [
    "T = np.empty((w,3))\n",
    "T[:,0:3] = model.dec.d1.weights[0].numpy().T\n",
    "df = pd.DataFrame(T, columns=['b','c','d'])\n",
    "W = model.nui_encoder.weights[0].numpy().T"
   ]
  },
  {
   "cell_type": "code",
   "execution_count": null,
   "id": "5c04e851-77ab-459c-a562-db579096497b",
   "metadata": {},
   "outputs": [],
   "source": [
    "df = df.sort_values(by=['b'])\n",
    "df = df.reset_index(drop=True)"
   ]
  },
  {
   "cell_type": "code",
   "execution_count": null,
   "id": "80f3bcb6-8021-418d-a842-067fa3f0c80f",
   "metadata": {
    "tags": []
   },
   "outputs": [],
   "source": [
    "px.scatter(df)\n",
    "# t1 = go.Scatter3d(x=df['a'], y=df['w1'], z=df['w2+w3'], mode='markers')\n",
    "# t2 = go.Scatter3d(x=df['a'], y=df['w1'], z=df['w2'], mode='markers')\n",
    "# t3 = go.Scatter3d(x=df['a'], y=df['w1'], z=df['w3'], mode='markers')\n",
    "# fig = go.Figure(data=[t1,t2,t3])\n",
    "# fig.update_layout(margin=dict(l=0, r=0, b=0, t=0))\n",
    "# fig.update_traces(marker={'size': 2, 'opacity':0.8})\n",
    "# fig"
   ]
  },
  {
   "cell_type": "code",
   "execution_count": null,
   "id": "4f8416a6-3df4-491e-ab78-24aaaf807705",
   "metadata": {},
   "outputs": [],
   "source": [
    "W = model.nui_encoder.weights[0].numpy().T"
   ]
  },
  {
   "cell_type": "code",
   "execution_count": null,
   "id": "88352a83-434c-430f-8210-336baaa63605",
   "metadata": {},
   "outputs": [],
   "source": [
    "W"
   ]
  },
  {
   "cell_type": "code",
   "execution_count": null,
   "id": "c59c3841-2a03-4295-83a9-75af75ab1748",
   "metadata": {},
   "outputs": [],
   "source": []
  },
  {
   "cell_type": "code",
   "execution_count": null,
   "id": "fc1c4369-3551-49b9-bb64-43b185fc8af3",
   "metadata": {},
   "outputs": [],
   "source": []
  },
  {
   "cell_type": "code",
   "execution_count": null,
   "id": "f91be62c-a068-4dcc-b082-10651c1b76cc",
   "metadata": {},
   "outputs": [],
   "source": []
  },
  {
   "cell_type": "code",
   "execution_count": null,
   "id": "9209da5c-fe26-4ff0-a094-5fb63f90d709",
   "metadata": {},
   "outputs": [],
   "source": []
  }
 ],
 "metadata": {
  "kernelspec": {
   "display_name": "Python 3 (ipykernel)",
   "language": "python",
   "name": "python3"
  },
  "language_info": {
   "codemirror_mode": {
    "name": "ipython",
    "version": 3
   },
   "file_extension": ".py",
   "mimetype": "text/x-python",
   "name": "python",
   "nbconvert_exporter": "python",
   "pygments_lexer": "ipython3",
   "version": "3.9.12"
  }
 },
 "nbformat": 4,
 "nbformat_minor": 5
}
