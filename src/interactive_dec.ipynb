{
 "cells": [
  {
   "cell_type": "markdown",
   "id": "c2e1454b-5584-4ff4-b922-76e9e675b09a",
   "metadata": {
    "jp-MarkdownHeadingCollapsed": true,
    "tags": []
   },
   "source": [
    "# Import packages"
   ]
  },
  {
   "cell_type": "code",
   "execution_count": 1,
   "id": "26ab6fb9-d56e-4e10-92b5-0eecbe2bbf89",
   "metadata": {},
   "outputs": [
    {
     "name": "stderr",
     "output_type": "stream",
     "text": [
      "2022-06-22 15:48:07.415467: I tensorflow/core/util/util.cc:169] oneDNN custom operations are on. You may see slightly different numerical results due to floating-point round-off errors from different computation orders. To turn them off, set the environment variable `TF_ENABLE_ONEDNN_OPTS=0`.\n"
     ]
    },
    {
     "name": "stdout",
     "output_type": "stream",
     "text": [
      "Num GPUs Available:  2\n",
      "TensorFlow Version:  2.9.1\n"
     ]
    }
   ],
   "source": [
    "import ipywidgets as widgets\n",
    "import numpy as np\n",
    "import tensorflow as tf\n",
    "from datetime import datetime\n",
    "from IPython.display import clear_output\n",
    "import math\n",
    "import os\n",
    "from sklearn.decomposition import PCA\n",
    "import plotly.graph_objects as go\n",
    "import pandas as pd\n",
    "\n",
    "from parameters import *\n",
    "from symae_model import SymAE\n",
    "from MRA_generate import MRA_generate\n",
    "from latent import latent"
   ]
  },
  {
   "cell_type": "markdown",
   "id": "00199243-2df6-4d71-8738-694d87c7c4ae",
   "metadata": {
    "jp-MarkdownHeadingCollapsed": true,
    "tags": []
   },
   "source": [
    "# Initialize SymAE and PCA"
   ]
  },
  {
   "cell_type": "code",
   "execution_count": 2,
   "id": "e092344f-d356-42da-8f4e-1604ebf5641a",
   "metadata": {},
   "outputs": [
    {
     "name": "stderr",
     "output_type": "stream",
     "text": [
      "2022-06-22 15:48:28.855471: I tensorflow/stream_executor/cuda/cuda_dnn.cc:384] Loaded cuDNN version 8302\n",
      "2022-06-22 15:48:30.334752: W tensorflow/stream_executor/gpu/asm_compiler.cc:111] *** WARNING *** You are using ptxas 10.1.243, which is older than 11.1. ptxas before 11.1 is known to miscompile XLA code, leading to incorrect results or invalid-address errors.\n",
      "\n",
      "You may not need to update to CUDA 11.1; cherry-picking the ptxas binary is often sufficient.\n",
      "2022-06-22 15:48:30.336252: W tensorflow/stream_executor/gpu/asm_compiler.cc:230] Falling back to the CUDA driver for PTX compilation; ptxas does not support CC 8.6\n",
      "2022-06-22 15:48:30.336295: W tensorflow/stream_executor/gpu/asm_compiler.cc:233] Used ptxas at ptxas\n",
      "2022-06-22 15:48:30.336359: W tensorflow/stream_executor/gpu/redzone_allocator.cc:314] UNIMPLEMENTED: ptxas ptxas too old. Falling back to the driver to compile.\n",
      "Relying on driver to perform ptx compilation. \n",
      "Modify $PATH to customize ptxas location.\n",
      "This message will be only logged once.\n",
      "2022-06-22 15:48:30.417716: I tensorflow/stream_executor/cuda/cuda_blas.cc:1786] TensorFloat-32 will be used for the matrix multiplication. This will only be logged once.\n"
     ]
    }
   ],
   "source": [
    "def g(n,x):\n",
    "    if n==0:\n",
    "        return math.e**(-9*x**2)\n",
    "    elif n==1:\n",
    "        return int(x<0.5)\n",
    "    elif n==2:\n",
    "        if x<0.3:\n",
    "            return x\n",
    "        elif x<0.6:\n",
    "            return 0.6-x\n",
    "        else:\n",
    "            return 0\n",
    "    elif n==3:\n",
    "        return math.cos(2*math.pi*x)\n",
    "    elif n==4:\n",
    "        return math.e**(-30*(x-0.5)**2)\n",
    "    else:\n",
    "        return np.inf\n",
    "model = SymAE(N,nt,d,p,q,kernel_size,filters,dropout_rate)\n",
    "model.load_weights('./checkpoint/'+datetime.now().strftime(\"%B%d\"))\n",
    "clear_output()\n",
    "MRA = MRA_generate(d,nt,1000,sigma,ne,g,replace=False,outer_replace=True)\n",
    "MRA.generate_default()\n",
    "Cs, Ns = latent(model,MRA)\n",
    "Ns = Ns.reshape(-1,q)\n",
    "coherent_pca = PCA(n_components=2)\n",
    "nuisance_pca = PCA(n_components=2)\n",
    "pca_C = coherent_pca.fit_transform(Cs)\n",
    "pca_N = nuisance_pca.fit_transform(Ns)\n",
    "coherent_centers = np.empty((ne,2))\n",
    "for i in range(ne):\n",
    "    coherent_centers[i,:] = sum(pca_C[MRA.states==i,:])/sum(MRA.states==i)\n",
    "df = pd.DataFrame(pca_N, columns = ['1st','2nd'])\n",
    "df_states = pd.DataFrame(np.repeat(MRA.states,nt),columns=['state']).astype('object')\n",
    "df = pd.concat([df,df_states],axis=1)\n",
    "\n",
    "def dec(latent_code):\n",
    "    tem = latent_code[np.newaxis, np.newaxis, :]\n",
    "    tem = np.repeat(tem, nt, axis=1)\n",
    "    tem = model.mixer.predict(tem, verbose=0)\n",
    "    return tem[0,0,:,0]\n",
    "def pca_dec(pca_latent_coherent_code, pca_latent_nuisance_code):\n",
    "    latent_coherent_code = coherent_pca.inverse_transform(pca_latent_coherent_code)\n",
    "    latent_nuisance_code = nuisance_pca.inverse_transform(pca_latent_nuisance_code)\n",
    "    return dec(np.concatenate([latent_coherent_code,latent_nuisance_code],axis=0))"
   ]
  },
  {
   "cell_type": "markdown",
   "id": "3a534052-1cad-4027-8ee2-5a138bcaeec7",
   "metadata": {
    "tags": []
   },
   "source": [
    "# Initialize plotly and widget"
   ]
  },
  {
   "cell_type": "code",
   "execution_count": 48,
   "id": "08eb2ead-b8f7-41bc-87b8-4583ac961abe",
   "metadata": {},
   "outputs": [],
   "source": [
    "pca_latent_coherent_code_1st = widgets.FloatSlider(min=-12.0, \n",
    "                                                 max=12.0, \n",
    "                                                 step=0.1,\n",
    "                                                 description='c-1st:', \n",
    "                                                 continuous_update=False,\n",
    "                                                 readout_format='.1f',\n",
    "                                                 disabled=False,\n",
    "                                                 value=0.0)\n",
    "pca_latent_coherent_code_2nd = widgets.FloatSlider(min=-6.0, \n",
    "                                                 max=6.0, \n",
    "                                                 step=0.1,\n",
    "                                                 description='c-2nd:', \n",
    "                                                 continuous_update=False,\n",
    "                                                 orientation='vertical',\n",
    "                                                 readout_format='.1f',\n",
    "                                                 layout=widgets.Layout(width='40px',\n",
    "                                                                      height='160px'),\n",
    "                                                 disabled=False,\n",
    "                                                 value=0.0)\n",
    "pca_latent_nuisance_code_1st = widgets.FloatSlider(min=-60.0, \n",
    "                                                 max=60.0, \n",
    "                                                 step=0.1,\n",
    "                                                 description='n-1st:', \n",
    "                                                 continuous_update=False,\n",
    "                                                 readout_format='.1f',\n",
    "                                                 disabled=False,\n",
    "                                                 value=0.0)\n",
    "pca_latent_nuisance_code_2nd = widgets.FloatSlider(min=-60.0, \n",
    "                                                 max=60.0, \n",
    "                                                 step=0.1,\n",
    "                                                 description='n-2nd:', \n",
    "                                                 continuous_update=False,\n",
    "                                                 orientation='vertical',\n",
    "                                                 readout_format='.1f',\n",
    "                                                 layout=widgets.Layout(width='40px',\n",
    "                                                                      height='160px'),\n",
    "                                                 disabled=False,\n",
    "                                                 value=0.0)\n",
    "signal_output_fig = go.FigureWidget()\n",
    "signal_output_fig.add_scatter(y=list(range(d)))\n",
    "\n",
    "\n",
    "latent_coherent_space = go.FigureWidget()\n",
    "for i in range(ne):\n",
    "    latent_coherent_space.add_trace(go.Scatter(x=[coherent_centers[i,0]], \n",
    "                                               y=[coherent_centers[i,1]],\n",
    "                                               mode='markers',\n",
    "                                               marker=dict(size=8)))\n",
    "coherent_varible_data = go.Scatter(x=np.array([0.0]), y=np.array([0.0]), \n",
    "                                   mode='markers', marker=dict(size=12))\n",
    "latent_coherent_space.add_trace(coherent_varible_data)\n",
    "    \n",
    "latent_nuisance_space = go.FigureWidget()\n",
    "for i in range(ne):\n",
    "    latent_nuisance_space.add_trace(go.Scatter(x=df['1st'][df['state']==i], \n",
    "                                               y=df['2nd'][df['state']==i],\n",
    "                                               mode='markers',\n",
    "                                               marker=dict(size=4)))\n",
    "latent_nuisance_space.add_trace(go.Scatter(x=np.array([0.0]), y=np.array([0.0]), \n",
    "                                           mode='markers',\n",
    "                                           marker=dict(size=12)))\n",
    "    \n",
    "latent_coherent_space.update_layout(width=250, height=150, \n",
    "                                    margin=dict(l=0,r=0,b=0,t=0,pad=0))\n",
    "latent_nuisance_space.update_layout(width=250, height=150, \n",
    "                                    margin=dict(l=0,r=0,b=0,t=0,pad=0))\n",
    "signal_output_fig.update_layout(width=450, height=400, \n",
    "                                margin=dict(l=0,r=1,b=0,t=0,pad=0))\n",
    "def response(change):\n",
    "    pca_latent_coherent_code = [pca_latent_coherent_code_1st.value, pca_latent_coherent_code_2nd.value]\n",
    "    pca_latent_nuisance_code = [pca_latent_nuisance_code_1st.value, pca_latent_nuisance_code_2nd.value]\n",
    "    signal_reconstruct = pca_dec(pca_latent_coherent_code, pca_latent_nuisance_code)\n",
    "    with latent_coherent_space.batch_update():\n",
    "        latent_coherent_space.data[ne].x = np.array(pca_latent_coherent_code[0])\n",
    "        latent_coherent_space.data[ne].y = np.array(pca_latent_coherent_code[1])\n",
    "    with latent_nuisance_space.batch_update():\n",
    "        latent_nuisance_space.data[ne].x = np.array(pca_latent_nuisance_code[0])\n",
    "        latent_nuisance_space.data[ne].y = np.array(pca_latent_nuisance_code[1]) \n",
    "    with signal_output_fig.batch_update():\n",
    "        signal_output_fig.data[0].y = signal_reconstruct\n",
    "pca_latent_coherent_code_1st.observe(response)\n",
    "pca_latent_coherent_code_2nd.observe(response)\n",
    "pca_latent_nuisance_code_1st.observe(response)\n",
    "pca_latent_nuisance_code_2nd.observe(response)\n",
    "container_coherent = widgets.VBox([pca_latent_coherent_code_1st,\n",
    "                                  widgets.HBox([pca_latent_coherent_code_2nd, \n",
    "                                                 latent_coherent_space])])\n",
    "container_nuisance = widgets.VBox([pca_latent_nuisance_code_1st,\n",
    "                                  widgets.HBox([pca_latent_nuisance_code_2nd, \n",
    "                                                 latent_nuisance_space])])\n",
    "container_varibles = widgets.VBox([container_coherent, container_nuisance])\n",
    "fig = widgets.HBox([container_varibles, signal_output_fig])"
   ]
  },
  {
   "cell_type": "markdown",
   "id": "0bb456ed-6597-477e-96bb-36068c3c1457",
   "metadata": {},
   "source": [
    "# Create New View for Output"
   ]
  },
  {
   "cell_type": "code",
   "execution_count": 49,
   "id": "476d8c8a-1d98-49f1-8683-bc24e5001070",
   "metadata": {},
   "outputs": [
    {
     "data": {
      "application/vnd.jupyter.widget-view+json": {
       "model_id": "ecae2e8258be444d87629c2781ed5f5a",
       "version_major": 2,
       "version_minor": 0
      },
      "text/plain": [
       "HBox(children=(VBox(children=(VBox(children=(FloatSlider(value=0.0, continuous_update=False, description='c-1s…"
      ]
     },
     "metadata": {},
     "output_type": "display_data"
    }
   ],
   "source": [
    "fig"
   ]
  },
  {
   "cell_type": "code",
   "execution_count": null,
   "id": "5e29b38e-7511-4dae-87d8-ed9255da33bf",
   "metadata": {},
   "outputs": [],
   "source": []
  },
  {
   "cell_type": "code",
   "execution_count": null,
   "id": "697207d9-8ca0-4261-805b-aefc16a53768",
   "metadata": {},
   "outputs": [],
   "source": []
  },
  {
   "cell_type": "code",
   "execution_count": null,
   "id": "dd5f79dd-f9a8-45db-b0bb-38f7b96ef259",
   "metadata": {},
   "outputs": [],
   "source": []
  },
  {
   "cell_type": "code",
   "execution_count": null,
   "id": "f9826160-dc83-4385-a081-765e18c3fbc5",
   "metadata": {},
   "outputs": [],
   "source": []
  },
  {
   "cell_type": "code",
   "execution_count": null,
   "id": "2ff03188-8162-43e5-92c9-4a91e0656835",
   "metadata": {},
   "outputs": [],
   "source": []
  },
  {
   "cell_type": "code",
   "execution_count": null,
   "id": "05f02e4c-d942-48e2-83f0-1e3cc8d6abb0",
   "metadata": {},
   "outputs": [],
   "source": []
  },
  {
   "cell_type": "code",
   "execution_count": null,
   "id": "b45ae909-5bdc-446c-b490-b377cc8da7c5",
   "metadata": {},
   "outputs": [],
   "source": []
  },
  {
   "cell_type": "code",
   "execution_count": null,
   "id": "284653f6-5b3c-4fd9-a029-53bffe436de9",
   "metadata": {},
   "outputs": [],
   "source": []
  }
 ],
 "metadata": {
  "kernelspec": {
   "display_name": "Python 3 (ipykernel)",
   "language": "python",
   "name": "python3"
  },
  "language_info": {
   "codemirror_mode": {
    "name": "ipython",
    "version": 3
   },
   "file_extension": ".py",
   "mimetype": "text/x-python",
   "name": "python",
   "nbconvert_exporter": "python",
   "pygments_lexer": "ipython3",
   "version": "3.9.12"
  }
 },
 "nbformat": 4,
 "nbformat_minor": 5
}
