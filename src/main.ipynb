{
 "cells": [
  {
   "cell_type": "code",
   "execution_count": 5,
   "id": "5e843467-ccea-4c17-ab02-9b9bdc034a48",
   "metadata": {},
   "outputs": [],
   "source": [
    "import generate\n",
    "import symae\n",
    "import os\n",
    "os.environ['TF_XLA_FLAGS'] = '--tf_xla_enable_xla_devices'"
   ]
  },
  {
   "cell_type": "code",
   "execution_count": 6,
   "id": "63528e1b-0c04-496c-879d-75a94fc49ee3",
   "metadata": {},
   "outputs": [
    {
     "name": "stdout",
     "output_type": "stream",
     "text": [
      "Num GPUs Available:  0\n"
     ]
    }
   ],
   "source": [
    "import tensorflow as tf\n",
    "gpus = tf.config.experimental.list_physical_devices('GPU')\n",
    "print(\"Num GPUs Available: \", len(gpus))"
   ]
  },
  {
   "cell_type": "code",
   "execution_count": 3,
   "id": "a123b485-4128-4248-9530-4e624248d1ed",
   "metadata": {},
   "outputs": [],
   "source": [
    "# Ok, What's in symae?\n",
    "# Downsampler, DownsamplerDense, NuisanceEncoder, NuisanceEncoder1D, NuisanceEncoderDense1D, \n",
    "# SymmetricEncoder,SymmetricEncoder1D,SymmetricEncoderDense1D,DistributeZsym,LatentCat,DroppedLatentCat, \n",
    "# Mixer, Mixer1D, MixerDense1D, Upsampler, UpsamplerDense\n",
    "# They are all Neural Nets. But where is the SymAE?"
   ]
  },
  {
   "cell_type": "code",
   "execution_count": null,
   "id": "fe923b9b-41d4-4b07-8cf4-3203f55a8fef",
   "metadata": {},
   "outputs": [],
   "source": [
    "encoder_input=tfk.Input(shape=(ntau,n1,n2,1), dtype='float32', name='encoder_input') #input shape => 10, 50, 410 = ntau,n1,n2 ###NONE\n",
    "kernel_size=(5,5)\n",
    "nfilt=64 #64\n",
    "nz0=8 #symmetric encoder latent dimensions\n",
    "nzi=22 #nuisance encoder latent dimensions. \n",
    "\n",
    "\n",
    "symencoder1=SymmetricEncoder(kernel_size,nfilt,[2,2,2,2],[2,2,2,2],nz0, [1,1,1]) #initialize model\n",
    "xz0=symencoder1(encoder_input)\n",
    "z0=tfkl.Flatten()(xz0)\n",
    "nz0=z0.get_shape().as_list()[1]\n",
    "symencoder=tfk.Model(encoder_input, z0, name='symencoder')\n",
    "symencoder.summary()\n",
    "\n",
    "nencoder1=NuisanceEncoder(kernel_size,nfilt,[2,2,2,2],[2,2,2,2],[1,1,1],nzi) #initialize model\n",
    "xzi=nencoder1(encoder_input)\n",
    "zi=tfkl.Flatten()(xzi)\n",
    "nencoder=tfk.Model(encoder_input, zi, name='nencoder')\n",
    "nencoder.summary()\n",
    "\n",
    "decoder_input = tfk.Input(shape=(nzi*ntau+nz0), name='latentcode') #shape=(nzi*ntau+nz0) ###NONE\n",
    "\n",
    "distzsym1=DistributeZsym(ntau, nz0, nzi) #initialize model\n",
    "xdhat=distzsym1(decoder_input)\n",
    "distzsym = tfk.Model(decoder_input, xdhat, name='distzsym')\n",
    "distzsym.summary()\n",
    "\n",
    "\n",
    "mixer_input = tfk.Input(shape=(ntau,nzi+nz0), name='mixer_input') #DOES FUSING OF COHERENT INFORMATION WITH EACH INSTANCE OF THE NUISANCE INFORMATION.just a placeholder for mixer1. shape=(ntau,nzi+nz0) ###NONE\n",
    "\n",
    "mixer1=Mixer(kernel_size,nfilt,(10,10),n2,n1,[1,1,1]) #initialize model\n",
    "xhat=mixer1(xdhat) #mixer_input #xdhat\n",
    "mixer = tfk.Model(xdhat, xhat, name='mixer') #(mixer_input, xhat) #xdhat\n",
    "mixer.summary()\n",
    "\n",
    "znuisance=nencoder(encoder_input)\n",
    "zsym=symencoder(encoder_input)\n",
    "#xdist = distzsym(decoder_input)\n",
    "#xpredict = mixer(xdhat)\n",
    "\n",
    "#     report(upsampler,\"upsampler\")\n",
    "\n"
   ]
  }
 ],
 "metadata": {
  "kernelspec": {
   "display_name": "Python 3 (ipykernel)",
   "language": "python",
   "name": "python3"
  },
  "language_info": {
   "codemirror_mode": {
    "name": "ipython",
    "version": 3
   },
   "file_extension": ".py",
   "mimetype": "text/x-python",
   "name": "python",
   "nbconvert_exporter": "python",
   "pygments_lexer": "ipython3",
   "version": "3.9.12"
  }
 },
 "nbformat": 4,
 "nbformat_minor": 5
}
