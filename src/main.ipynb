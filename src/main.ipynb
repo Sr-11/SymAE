{
 "cells": [
  {
   "cell_type": "code",
   "execution_count": 16,
   "id": "5e843467-ccea-4c17-ab02-9b9bdc034a48",
   "metadata": {},
   "outputs": [],
   "source": [
    "import generate\n",
    "import symae\n",
    "import os\n",
    "import numpy as np\n",
    "os.environ['TF_XLA_FLAGS'] = '--tf_xla_enable_xla_devices'\n",
    "os.environ['TF_ENABLE_ONEDNN_OPTS'] = '0'"
   ]
  },
  {
   "cell_type": "code",
   "execution_count": 3,
   "id": "63528e1b-0c04-496c-879d-75a94fc49ee3",
   "metadata": {},
   "outputs": [
    {
     "name": "stdout",
     "output_type": "stream",
     "text": [
      "Num GPUs Available:  2\n",
      "2.9.1\n"
     ]
    }
   ],
   "source": [
    "import tensorflow as tf\n",
    "tfk = tf.keras\n",
    "tfkl = tf.keras.layers\n",
    "tfkltd= tf.keras.layers.TimeDistributed\n",
    "gpus = tf.config.experimental.list_physical_devices('GPU')\n",
    "print(\"Num GPUs Available: \", len(gpus))\n",
    "print(tf.__version__)"
   ]
  },
  {
   "cell_type": "code",
   "execution_count": 4,
   "id": "a123b485-4128-4248-9530-4e624248d1ed",
   "metadata": {},
   "outputs": [],
   "source": [
    "# Ok, What's in symae?\n",
    "# Downsampler, DownsamplerDense, NuisanceEncoder, NuisanceEncoder1D, NuisanceEncoderDense1D, \n",
    "# SymmetricEncoder,SymmetricEncoder1D,SymmetricEncoderDense1D,DistributeZsym,LatentCat,DroppedLatentCat, \n",
    "# Mixer, Mixer1D, MixerDense1D, Upsampler, UpsamplerDense\n",
    "# They are all Neural Nets. But where is the SymAE?\n",
    "#####\n",
    "# SymmetricEncoder: n, ntau, nr, nt, nc = input_tensor.get_shape()\n",
    "# Consider a batch of 32 video samples, \n",
    "# where each sample is a 128x128 RGB image with channels_last data format, across 10 timesteps. \n",
    "# The batch input shape is (32, 10, 128, 128, 3).\n",
    "#####\n",
    "# NuisanceEncoder: n, ntau, nr, nt, nc = input_tensor.get_shape()\n",
    "#####\n",
    "# Let's Clarifying Notations Now!!!!!"
   ]
  },
  {
   "cell_type": "code",
   "execution_count": 5,
   "id": "751d7abb-e462-4f2f-bca7-1739acbe1d05",
   "metadata": {},
   "outputs": [],
   "source": [
    "# Parameters related to data itself\n",
    "N=1000 # N is the Cardinality of the data set X, say n_X in the paper\n",
    "nt=20 # nt is the number of instances in each X_i, say n_tau in the paper (Xi[1]...Xi[nt])\n",
    "d=100 # d is the dimensions of each \"fundamental\" data, say d=dim Xi[j] (e.g. d=28*28 for mnist)\n",
    "\n",
    "# Parameters related to SymAE\n",
    "p=8 # symmetric encoder latent dimensions, p=dim Ci (Coherent Code)\n",
    "q=22 # nuisance encoder latent dimensions, q=dim Ni[j] (Dissimilar Code)\n",
    "\n",
    "# Parameters related to NeuralNets\n",
    "kernel_size=5 # How to convolute, the size of the kernel\n",
    "filters=64 # How many filters in each convolution layer\n",
    "\n",
    "# Parameters related to my specific algorithm of generating MRA data\n",
    "ne=10 # Only use g0,g1...g9\n",
    "sigma=0.1 # The intensity of the noise"
   ]
  },
  {
   "cell_type": "code",
   "execution_count": 6,
   "id": "fe923b9b-41d4-4b07-8cf4-3203f55a8fef",
   "metadata": {},
   "outputs": [
    {
     "name": "stderr",
     "output_type": "stream",
     "text": [
      "2022-06-02 13:21:42.105326: I tensorflow/core/platform/cpu_feature_guard.cc:193] This TensorFlow binary is optimized with oneAPI Deep Neural Network Library (oneDNN) to use the following CPU instructions in performance-critical operations:  AVX2 AVX512F AVX512_VNNI FMA\n",
      "To enable them in other operations, rebuild TensorFlow with the appropriate compiler flags.\n",
      "2022-06-02 13:21:43.243272: I tensorflow/core/common_runtime/gpu/gpu_device.cc:1532] Created device /job:localhost/replica:0/task:0/device:GPU:0 with 13348 MB memory:  -> device: 0, name: NVIDIA RTX A4000, pci bus id: 0000:1a:00.0, compute capability: 8.6\n",
      "2022-06-02 13:21:43.244091: I tensorflow/core/common_runtime/gpu/gpu_device.cc:1532] Created device /job:localhost/replica:0/task:0/device:GPU:1 with 14254 MB memory:  -> device: 1, name: NVIDIA RTX A4000, pci bus id: 0000:1b:00.0, compute capability: 8.6\n"
     ]
    },
    {
     "name": "stdout",
     "output_type": "stream",
     "text": [
      "Model: \"sym_encoder\"\n",
      "_________________________________________________________________\n",
      " Layer (type)                Output Shape              Param #   \n",
      "=================================================================\n",
      " sym_enc_input (InputLayer)  [(None, 20, 100, 1)]      0         \n",
      "                                                                 \n",
      "  (SymmetricEncoder1D)       (None, 8)                 53512     \n",
      "                                                                 \n",
      "=================================================================\n",
      "Total params: 53,512\n",
      "Trainable params: 53,448\n",
      "Non-trainable params: 64\n",
      "_________________________________________________________________\n"
     ]
    }
   ],
   "source": [
    "# Build symmetric encoder\n",
    "sym_enc_input=tfk.Input(shape=(nt,d,1), dtype='float32', name='sym_enc_input')\n",
    "sym_enc_output=symae.SymmetricEncoder1D(kernel_size,filters,[2,2,2,2],[2,2,2,2],p)(sym_enc_input)\n",
    "sym_encoder=tfk.Model(sym_enc_input, sym_enc_output, name='sym_encoder')\n",
    "sym_encoder.summary()"
   ]
  },
  {
   "cell_type": "code",
   "execution_count": 7,
   "id": "737ede01-b0a2-43eb-87ca-e76f692b7b54",
   "metadata": {},
   "outputs": [
    {
     "name": "stdout",
     "output_type": "stream",
     "text": [
      "Model: \"nui_encoder\"\n",
      "_________________________________________________________________\n",
      " Layer (type)                Output Shape              Param #   \n",
      "=================================================================\n",
      " sym_enc_input (InputLayer)  [(None, 20, 100, 1)]      0         \n",
      "                                                                 \n",
      "  (NuisanceEncoder1D)        (None, 20, 22)            61334     \n",
      "                                                                 \n",
      " flatten_2 (Flatten)         (None, 440)               0         \n",
      "                                                                 \n",
      "=================================================================\n",
      "Total params: 61,334\n",
      "Trainable params: 61,270\n",
      "Non-trainable params: 64\n",
      "_________________________________________________________________\n"
     ]
    }
   ],
   "source": [
    "# Build nuisance encoder\n",
    "nui_enc_input=tfk.Input(shape=(nt,d,1), dtype='float32', name='sym_enc_input')\n",
    "nui_enc_output=symae.NuisanceEncoder1D(kernel_size,filters,[2,2,2],[2,2,2,2],q)(nui_enc_input)\n",
    "nui_enc_flatten=tfkl.Flatten()(nui_enc_output)\n",
    "nui_encoder=tfk.Model(nui_enc_input, nui_enc_flatten, name='nui_encoder')\n",
    "nui_encoder.summary()"
   ]
  },
  {
   "cell_type": "code",
   "execution_count": 8,
   "id": "fbfbdc84-011d-480c-9e95-e813707dde79",
   "metadata": {},
   "outputs": [
    {
     "name": "stdout",
     "output_type": "stream",
     "text": [
      "Model: \"distzsym\"\n",
      "_________________________________________________________________\n",
      " Layer (type)                Output Shape              Param #   \n",
      "=================================================================\n",
      " latentcode (InputLayer)     [(None, 448)]             0         \n",
      "                                                                 \n",
      "  (DistributeZsym)           (None, 20, 30)            0         \n",
      "                                                                 \n",
      "=================================================================\n",
      "Total params: 0\n",
      "Trainable params: 0\n",
      "Non-trainable params: 0\n",
      "_________________________________________________________________\n"
     ]
    }
   ],
   "source": [
    "# Build distribute in decoder\n",
    "distribute_input = tfk.Input(shape=(p+q*nt), name='latentcode')\n",
    "distribute_output=symae.DistributeZsym(nt, p, q)(distribute_input)\n",
    "distzsym = tfk.Model(distribute_input, distribute_output, name='distzsym')\n",
    "distzsym.summary()"
   ]
  },
  {
   "cell_type": "code",
   "execution_count": 9,
   "id": "a7c57df2-a527-4f03-bd16-7168da4aca91",
   "metadata": {},
   "outputs": [
    {
     "name": "stdout",
     "output_type": "stream",
     "text": [
      "Model: \"mixer\"\n",
      "_________________________________________________________________\n",
      " Layer (type)                Output Shape              Param #   \n",
      "=================================================================\n",
      " mixer_input (InputLayer)    [(None, 20, 30)]          0         \n",
      "                                                                 \n",
      "  (Mixer1D)                  (None, 20, 100, 1)        83447     \n",
      "                                                                 \n",
      "=================================================================\n",
      "Total params: 83,447\n",
      "Trainable params: 83,319\n",
      "Non-trainable params: 128\n",
      "_________________________________________________________________\n"
     ]
    }
   ],
   "source": [
    "#Build mixer in decoder\n",
    "mixer_input = tfk.Input(shape=(nt,p+q), name='mixer_input')\n",
    "mixer_output=symae.Mixer1D(kernel_size,filters,10,d)(mixer_input)\n",
    "mixer = tfk.Model(mixer_input, mixer_output, name='mixer') \n",
    "mixer.summary()"
   ]
  },
  {
   "cell_type": "code",
   "execution_count": 10,
   "id": "0b219dc9-1f49-48f0-99db-6c74f3def0cb",
   "metadata": {},
   "outputs": [
    {
     "name": "stdout",
     "output_type": "stream",
     "text": [
      "Model: \"encoder\"\n",
      "__________________________________________________________________________________________________\n",
      " Layer (type)                   Output Shape         Param #     Connected to                     \n",
      "==================================================================================================\n",
      " encoder_input (InputLayer)     [(None, 20, 100, 1)  0           []                               \n",
      "                                ]                                                                 \n",
      "                                                                                                  \n",
      " sym_encoder (Functional)       (None, 8)            53512       ['encoder_input[0][0]']          \n",
      "                                                                                                  \n",
      " nui_encoder (Functional)       (None, 440)          61334       ['encoder_input[0][0]']          \n",
      "                                                                                                  \n",
      "  (LatentCat)                   (None, 448)          0           ['sym_encoder[0][0]',            \n",
      "                                                                  'nui_encoder[0][0]']            \n",
      "                                                                                                  \n",
      "==================================================================================================\n",
      "Total params: 114,846\n",
      "Trainable params: 114,718\n",
      "Non-trainable params: 128\n",
      "__________________________________________________________________________________________________\n"
     ]
    }
   ],
   "source": [
    "# Build encoder\n",
    "encoder_input=tfk.Input(shape=(nt,d,1), dtype='float32', name='encoder_input')\n",
    "znuisance=nui_encoder(encoder_input)\n",
    "zsym=sym_encoder(encoder_input)\n",
    "latentcat=symae.LatentCat(0.65) #0.4 droupout\n",
    "encoder_output=latentcat(zsym,znuisance)\n",
    "encoder=tfk.Model(encoder_input, encoder_output, name=\"encoder\")\n",
    "encoder.summary()"
   ]
  },
  {
   "cell_type": "code",
   "execution_count": 11,
   "id": "c41bf1eb-1eab-42c1-9b35-965f4c5b998d",
   "metadata": {},
   "outputs": [
    {
     "name": "stdout",
     "output_type": "stream",
     "text": [
      "Model: \"decoder\"\n",
      "_________________________________________________________________\n",
      " Layer (type)                Output Shape              Param #   \n",
      "=================================================================\n",
      " latentcode (InputLayer)     [(None, 448)]             0         \n",
      "                                                                 \n",
      " distzsym (Functional)       (None, 20, 30)            0         \n",
      "                                                                 \n",
      " mixer (Functional)          (None, 20, 100, 1)        83447     \n",
      "                                                                 \n",
      "=================================================================\n",
      "Total params: 83,447\n",
      "Trainable params: 83,319\n",
      "Non-trainable params: 128\n",
      "_________________________________________________________________\n"
     ]
    }
   ],
   "source": [
    "# Build decoder\n",
    "decoder_input = tfk.Input(shape=(p+q*nt), name='latentcode')\n",
    "decoder_output=mixer(distzsym(decoder_input))\n",
    "decoder=tfk.Model(decoder_input,decoder_output, name=\"decoder\") \n",
    "decoder.summary()"
   ]
  },
  {
   "cell_type": "code",
   "execution_count": 12,
   "id": "98b77f78-10e5-4952-8674-c7784225df1c",
   "metadata": {},
   "outputs": [
    {
     "name": "stdout",
     "output_type": "stream",
     "text": [
      "Model: \"autoencoder_clone\"\n",
      "__________________________________________________________________________________________________\n",
      " Layer (type)                   Output Shape         Param #     Connected to                     \n",
      "==================================================================================================\n",
      " encoder_input (InputLayer)     [(None, 20, 100, 1)  0           []                               \n",
      "                                ]                                                                 \n",
      "                                                                                                  \n",
      " sym_encoder (Functional)       (None, 8)            53512       ['encoder_input[0][0]']          \n",
      "                                                                                                  \n",
      " nui_encoder (Functional)       (None, 440)          61334       ['encoder_input[0][0]']          \n",
      "                                                                                                  \n",
      "  (LatentCat)                   (None, 448)          0           ['sym_encoder[0][0]',            \n",
      "                                                                  'nui_encoder[0][0]']            \n",
      "                                                                                                  \n",
      " decoder (Functional)           (None, 20, 100, 1)   83447       ['[0][0]']                       \n",
      "                                                                                                  \n",
      "==================================================================================================\n",
      "Total params: 198,293\n",
      "Trainable params: 198,037\n",
      "Non-trainable params: 256\n",
      "__________________________________________________________________________________________________\n"
     ]
    }
   ],
   "source": [
    "#Build SymAE\n",
    "model=tf.keras.Model(encoder_input, decoder(encoder_output) , name='autoencoder_clone')\n",
    "model.summary()"
   ]
  },
  {
   "cell_type": "code",
   "execution_count": 13,
   "id": "83f5fd66-23d8-41db-86b9-a0f0c8aa346e",
   "metadata": {},
   "outputs": [],
   "source": [
    "model.compile(optimizer='adam', loss='mse')"
   ]
  },
  {
   "cell_type": "code",
   "execution_count": 14,
   "id": "1329e516-fb92-4730-b1e4-407457f968de",
   "metadata": {},
   "outputs": [],
   "source": [
    "X=generate.generate_smooth(d,nt,N,ne,sigma)"
   ]
  },
  {
   "cell_type": "code",
   "execution_count": 15,
   "id": "fda318d9-e0de-4897-aeef-c9a988db19c2",
   "metadata": {},
   "outputs": [
    {
     "data": {
      "image/png": "[encoded data removed]",
      "text/plain": [
       "<Figure size 432x288 with 1 Axes>"
      ]
     },
     "metadata": {
      "needs_background": "light"
     },
     "output_type": "display_data"
    }
   ],
   "source": [
    "import matplotlib.pyplot as plt\n",
    "for j in range(5):\n",
    "    plt.plot(range(100),X[0,j,:],label='%d'%j)\n",
    "plt.legend()\n",
    "plt.show()"
   ]
  },
  {
   "cell_type": "code",
   "execution_count": 18,
   "id": "88f3e93a-bab6-4af5-9042-0218f0e6e51a",
   "metadata": {},
   "outputs": [
    {
     "name": "stdout",
     "output_type": "stream",
     "text": [
      "Epoch 1/50\n",
      "32/32 [==============================] - 1s 29ms/step - loss: 0.0526\n",
      "Epoch 2/50\n",
      "32/32 [==============================] - 1s 28ms/step - loss: 0.0522\n",
      "Epoch 3/50\n",
      "32/32 [==============================] - 1s 30ms/step - loss: 0.0500\n",
      "Epoch 4/50\n",
      "32/32 [==============================] - 1s 29ms/step - loss: 0.0489\n",
      "Epoch 5/50\n",
      "32/32 [==============================] - 1s 29ms/step - loss: 0.0486\n",
      "Epoch 6/50\n",
      "32/32 [==============================] - 1s 29ms/step - loss: 0.0468\n",
      "Epoch 7/50\n",
      "32/32 [==============================] - 1s 29ms/step - loss: 0.0464\n",
      "Epoch 8/50\n",
      "32/32 [==============================] - 1s 29ms/step - loss: 0.0451\n",
      "Epoch 9/50\n",
      "32/32 [==============================] - 1s 30ms/step - loss: 0.0442\n",
      "Epoch 10/50\n",
      "32/32 [==============================] - 1s 30ms/step - loss: 0.0450\n",
      "Epoch 11/50\n",
      "32/32 [==============================] - 1s 30ms/step - loss: 0.0446\n",
      "Epoch 12/50\n",
      "32/32 [==============================] - 1s 29ms/step - loss: 0.0425\n",
      "Epoch 13/50\n",
      "32/32 [==============================] - 1s 27ms/step - loss: 0.0430\n",
      "Epoch 14/50\n",
      "32/32 [==============================] - 1s 28ms/step - loss: 0.0430\n",
      "Epoch 15/50\n",
      "32/32 [==============================] - 1s 29ms/step - loss: 0.0418\n",
      "Epoch 16/50\n",
      "32/32 [==============================] - 1s 28ms/step - loss: 0.0409\n",
      "Epoch 17/50\n",
      "32/32 [==============================] - 1s 30ms/step - loss: 0.0409\n",
      "Epoch 18/50\n",
      "32/32 [==============================] - 1s 29ms/step - loss: 0.0403\n",
      "Epoch 19/50\n",
      "32/32 [==============================] - 1s 28ms/step - loss: 0.0398\n",
      "Epoch 20/50\n",
      "32/32 [==============================] - 1s 29ms/step - loss: 0.0393\n",
      "Epoch 21/50\n",
      "32/32 [==============================] - 1s 28ms/step - loss: 0.0387\n",
      "Epoch 22/50\n",
      "32/32 [==============================] - 1s 30ms/step - loss: 0.0381\n",
      "Epoch 23/50\n",
      "32/32 [==============================] - 1s 30ms/step - loss: 0.0398\n",
      "Epoch 24/50\n",
      "32/32 [==============================] - 1s 31ms/step - loss: 0.0374\n",
      "Epoch 25/50\n",
      "32/32 [==============================] - 1s 30ms/step - loss: 0.0370\n",
      "Epoch 26/50\n",
      "32/32 [==============================] - 1s 29ms/step - loss: 0.0367\n",
      "Epoch 27/50\n",
      "32/32 [==============================] - 1s 30ms/step - loss: 0.0357\n",
      "Epoch 28/50\n",
      "32/32 [==============================] - 1s 30ms/step - loss: 0.0350\n",
      "Epoch 29/50\n",
      "32/32 [==============================] - 1s 29ms/step - loss: 0.0346\n",
      "Epoch 30/50\n",
      "32/32 [==============================] - 1s 28ms/step - loss: 0.0343\n",
      "Epoch 31/50\n",
      "32/32 [==============================] - 1s 27ms/step - loss: 0.0354\n",
      "Epoch 32/50\n",
      "32/32 [==============================] - 1s 28ms/step - loss: 0.0340\n",
      "Epoch 33/50\n",
      "32/32 [==============================] - 1s 27ms/step - loss: 0.0346\n",
      "Epoch 34/50\n",
      "32/32 [==============================] - 1s 27ms/step - loss: 0.0339\n",
      "Epoch 35/50\n",
      "32/32 [==============================] - 1s 27ms/step - loss: 0.0332\n",
      "Epoch 36/50\n",
      "32/32 [==============================] - 1s 30ms/step - loss: 0.0330\n",
      "Epoch 37/50\n",
      "32/32 [==============================] - 1s 30ms/step - loss: 0.0330\n",
      "Epoch 38/50\n",
      "32/32 [==============================] - 1s 30ms/step - loss: 0.0318\n",
      "Epoch 39/50\n",
      "32/32 [==============================] - 1s 29ms/step - loss: 0.0322\n",
      "Epoch 40/50\n",
      "32/32 [==============================] - 1s 29ms/step - loss: 0.0319\n",
      "Epoch 41/50\n",
      "32/32 [==============================] - 1s 29ms/step - loss: 0.0315\n",
      "Epoch 42/50\n",
      "32/32 [==============================] - 1s 28ms/step - loss: 0.0314\n",
      "Epoch 43/50\n",
      "32/32 [==============================] - 1s 29ms/step - loss: 0.0310\n",
      "Epoch 44/50\n",
      "32/32 [==============================] - 1s 29ms/step - loss: 0.0313\n",
      "Epoch 45/50\n",
      "32/32 [==============================] - 1s 29ms/step - loss: 0.0319\n",
      "Epoch 46/50\n",
      "32/32 [==============================] - 1s 31ms/step - loss: 0.0298\n",
      "Epoch 47/50\n",
      "32/32 [==============================] - 1s 29ms/step - loss: 0.0300\n",
      "Epoch 48/50\n",
      "32/32 [==============================] - 1s 29ms/step - loss: 0.0306\n",
      "Epoch 49/50\n",
      "32/32 [==============================] - 1s 28ms/step - loss: 0.0302\n",
      "Epoch 50/50\n",
      "32/32 [==============================] - 1s 29ms/step - loss: 0.0306\n"
     ]
    }
   ],
   "source": [
    "history=model.fit(X,X,epochs=50,shuffle=True)"
   ]
  },
  {
   "cell_type": "code",
   "execution_count": null,
   "id": "026dcd64-7c8c-477d-ad41-d54a073268d3",
   "metadata": {},
   "outputs": [],
   "source": []
  },
  {
   "cell_type": "code",
   "execution_count": null,
   "id": "0d5adc3e-2cc4-40f4-a9e0-62baa633923c",
   "metadata": {},
   "outputs": [],
   "source": []
  }
 ],
 "metadata": {
  "kernelspec": {
   "display_name": "Python 3 (ipykernel)",
   "language": "python",
   "name": "python3"
  },
  "language_info": {
   "codemirror_mode": {
    "name": "ipython",
    "version": 3
   },
   "file_extension": ".py",
   "mimetype": "text/x-python",
   "name": "python",
   "nbconvert_exporter": "python",
   "pygments_lexer": "ipython3",
   "version": "3.9.12"
  }
 },
 "nbformat": 4,
 "nbformat_minor": 5
}
