{
 "cells": [
  {
   "cell_type": "code",
   "execution_count": 1,
   "id": "7d088ea4-53aa-489e-8ac7-02f8576fb9f5",
   "metadata": {},
   "outputs": [
    {
     "name": "stdout",
     "output_type": "stream",
     "text": [
      "Num GPUs Available:  2\n",
      "TensorFlow Version:  2.9.1\n"
     ]
    }
   ],
   "source": [
    "# import packages\n",
    "import re,os\n",
    "import numpy as np\n",
    "import tensorflow as tf\n",
    "import matplotlib.pyplot as plt\n",
    "import matplotlib.patches as mpatches\n",
    "from IPython.display import clear_output\n",
    "import pandas as pd\n",
    "import math\n",
    "import random\n",
    "from datetime import datetime\n",
    "tfk = tf.keras\n",
    "tfkl = tf.keras.layers\n",
    "clear_output()\n",
    "# import my files\n",
    "from MRA_generate import MRA_generate\n",
    "from symae_model import SymAE\n",
    "from parameters import *\n",
    "from plot_training import plot_training\n",
    "from plot_redatuming import plot_redatuming\n",
    "from plot_save import plot_save\n",
    "from CustomCallback import CustomCallback\n",
    "from redatuming import redatuming\n",
    "from latent import latent"
   ]
  },
  {
   "cell_type": "code",
   "execution_count": 2,
   "id": "d22a959b-8479-4d61-87fb-018bc497ac18",
   "metadata": {},
   "outputs": [
    {
     "name": "stdout",
     "output_type": "stream",
     "text": [
      "Numbers of States:\n"
     ]
    },
    {
     "data": {
      "text/plain": [
       "0    274\n",
       "1    258\n",
       "3    237\n",
       "2    231\n",
       "dtype: int64"
      ]
     },
     "execution_count": 2,
     "metadata": {},
     "output_type": "execute_result"
    }
   ],
   "source": [
    "# Generate the Dataset\n",
    "ne=4\n",
    "def g(n,x):\n",
    "    if n==0:\n",
    "        return math.cos(2*math.pi*x)\n",
    "    elif n==1:\n",
    "        if x<0.5:\n",
    "            return 1\n",
    "        else:\n",
    "            return 0\n",
    "    elif n==2:\n",
    "        return math.e**(-9*x**2)\n",
    "    elif n==3:\n",
    "        return math.cos(8*math.pi*x)\n",
    "    else:\n",
    "        return np.inf\n",
    "MRA_data=MRA_generate(d,nt,N,sigma,ne,g)\n",
    "X=MRA_data.X\n",
    "print(\"Numbers of States:\")\n",
    "pd.DataFrame(MRA_data.states).value_counts()"
   ]
  },
  {
   "cell_type": "code",
   "execution_count": 3,
   "id": "f88526f1-9463-4e85-bf1b-cb0cbad1ea28",
   "metadata": {},
   "outputs": [
    {
     "name": "stderr",
     "output_type": "stream",
     "text": [
      "2022-06-16 15:01:10.811008: I tensorflow/core/platform/cpu_feature_guard.cc:193] This TensorFlow binary is optimized with oneAPI Deep Neural Network Library (oneDNN) to use the following CPU instructions in performance-critical operations:  AVX2 AVX512F AVX512_VNNI FMA\n",
      "To enable them in other operations, rebuild TensorFlow with the appropriate compiler flags.\n",
      "2022-06-16 15:01:11.883896: I tensorflow/core/common_runtime/gpu/gpu_device.cc:1532] Created device /job:localhost/replica:0/task:0/device:GPU:0 with 14254 MB memory:  -> device: 0, name: NVIDIA RTX A4000, pci bus id: 0000:b1:00.0, compute capability: 8.6\n",
      "2022-06-16 15:01:11.884886: I tensorflow/core/common_runtime/gpu/gpu_device.cc:1532] Created device /job:localhost/replica:0/task:0/device:GPU:1 with 14254 MB memory:  -> device: 1, name: NVIDIA RTX A4000, pci bus id: 0000:b2:00.0, compute capability: 8.6\n"
     ]
    },
    {
     "data": {
      "text/plain": [
       "<tensorflow.python.training.tracking.util.CheckpointLoadStatus at 0x7fa0b043a490>"
      ]
     },
     "execution_count": 3,
     "metadata": {},
     "output_type": "execute_result"
    }
   ],
   "source": [
    "# Initialize SymAE\n",
    "model=SymAE(N,nt,d,p,q,kernel_size,filters,dropout_rate)\n",
    "Adam=tf.keras.optimizers.Adam(learning_rate=0.001,beta_1=0.9,beta_2=0.999,epsilon=1e-07)\n",
    "SGD=tf.keras.optimizers.SGD(learning_rate=0.01,momentum=0.9,nesterov=True)\n",
    "model.compile(loss='mse',optimizer=SGD)\n",
    "model.load_weights('./checkpoints/'+datetime.now().strftime(\"%B%d\"))\n",
    "#clear_output()"
   ]
  },
  {
   "cell_type": "code",
   "execution_count": null,
   "id": "0b49e2d4-8e17-48e8-98f3-a7edca05ccc3",
   "metadata": {},
   "outputs": [
    {
     "name": "stdout",
     "output_type": "stream",
     "text": [
      "For epoch 2, loss is 0.026078.\n"
     ]
    }
   ],
   "source": [
    "# Train the NeuralNet\n",
    "M=50\n",
    "epochs=range(M)\n",
    "losses=[0.0]*M\n",
    "class CustomCallback(tf.keras.callbacks.Callback):\n",
    "    def on_epoch_end(self, epoch, logs=None):\n",
    "        clear_output(wait=True)\n",
    "        losses[epoch]=logs[\"loss\"]\n",
    "        print(\"For epoch {:d}, loss is {:f}.\".format(epoch, logs[\"loss\"]))\n",
    "history=model.fit(X,X,epochs=M,verbose=0,callbacks=[CustomCallback()])"
   ]
  },
  {
   "cell_type": "code",
   "execution_count": null,
   "id": "b524add1-6c48-42dd-bb86-59dad136ba9b",
   "metadata": {},
   "outputs": [],
   "source": [
    "plt.plot(epochs,losses)\n",
    "plt.xlabel('epoch')\n",
    "plt.ylabel('loss')\n",
    "plt.show()"
   ]
  },
  {
   "cell_type": "code",
   "execution_count": null,
   "id": "1142a313-123b-4bde-99c4-506242945e77",
   "metadata": {},
   "outputs": [],
   "source": [
    "# Plot the result\n",
    "def find_state(state):\n",
    "    MRA_data=MRA_generate(d,nt,1,sigma,ne,g)\n",
    "    for i in range(100):\n",
    "        MRA_data.generate_default()\n",
    "        if MRA_data.states[0]==state:\n",
    "            return MRA_data\n",
    "test_X=find_state(1).X\n",
    "fig=plot_training(model,test_X)"
   ]
  },
  {
   "cell_type": "code",
   "execution_count": null,
   "id": "a187e4f4-629d-4b71-93fc-a980a3d2a1fb",
   "metadata": {},
   "outputs": [],
   "source": [
    "# Save weights\n",
    "model.save_weights('./checkpoints/'+datetime.now().strftime(\"%B%d\"))\n",
    "print(\"weights saved\")"
   ]
  },
  {
   "cell_type": "code",
   "execution_count": null,
   "id": "c21c9740-bcc3-4e91-b96c-c96397a852e4",
   "metadata": {},
   "outputs": [],
   "source": [
    "# Save plot\n",
    "plot_save(fig,ID=-1)"
   ]
  },
  {
   "cell_type": "code",
   "execution_count": null,
   "id": "de1f4247-e33f-4987-9329-7c2b20ac57ee",
   "metadata": {},
   "outputs": [],
   "source": [
    "# Redatuming\n",
    "MRA1=find_state(1)\n",
    "MRA2=find_state(3)\n",
    "t=1\n",
    "redatum=redatuming(model,MRA1,MRA2,t)\n",
    "MSE_C1_N2,MSE_C2_N1=redatum.MSE()\n",
    "fig=plot_redatuming(redatum)\n",
    "clear_output()\n",
    "print('The MSE of C1N2 is: %f'%MSE_C1_N2)\n",
    "print('The MSE of C2N1 is: %f'%MSE_C2_N1)"
   ]
  },
  {
   "cell_type": "code",
   "execution_count": null,
   "id": "dcedbd55-0c90-4aea-90e6-6bea5296eb95",
   "metadata": {},
   "outputs": [],
   "source": [
    "# Save plot\n",
    "plot_save(fig,ID=-1)"
   ]
  },
  {
   "cell_type": "code",
   "execution_count": null,
   "id": "9c473ea7-daaf-4766-96fc-6fc17a3d9286",
   "metadata": {},
   "outputs": [],
   "source": [
    "# What's the information in latent space?\n",
    "fig=plt.figure(figsize=(15, 10), dpi=80)\n",
    "plt.xlabel('coherent code',fontsize=20)\n",
    "plt.ylabel('nuisance code',fontsize=20)\n",
    "plt.title('latent space',fontdict = {'fontsize' : 25})\n",
    "for s in list(range(ne))*3:\n",
    "    MRA=find_state(s)\n",
    "    C,N=latent(model,MRA)\n",
    "    for i in range(nt):\n",
    "        plt.scatter(C[0],N[i])\n",
    "        plt.text(C[0],N[i],\"s=%d,l=%d\"%(MRA.states[0],MRA.shifts[0,i]),fontsize=15)\n",
    "#plt.xlim([-10,8])\n",
    "#plt.ylim([-1,1])\n",
    "clear_output()\n",
    "plt.tight_layout()"
   ]
  },
  {
   "cell_type": "code",
   "execution_count": null,
   "id": "17c45d08-d26f-4e22-911a-ca41dfba0015",
   "metadata": {},
   "outputs": [],
   "source": [
    "# Save plot\n",
    "plot_save(fig,ID=-1)"
   ]
  },
  {
   "cell_type": "code",
   "execution_count": null,
   "id": "0a57cac9-dea9-4f30-a79c-6251769c8819",
   "metadata": {},
   "outputs": [],
   "source": []
  },
  {
   "cell_type": "code",
   "execution_count": null,
   "id": "8ca06c0e-a653-4803-b1c6-2d8225e761b5",
   "metadata": {},
   "outputs": [],
   "source": []
  },
  {
   "cell_type": "code",
   "execution_count": null,
   "id": "1a897677-7099-40f2-b567-e1e73a6a573c",
   "metadata": {},
   "outputs": [],
   "source": []
  }
 ],
 "metadata": {
  "kernelspec": {
   "display_name": "Python 3 (ipykernel)",
   "language": "python",
   "name": "python3"
  },
  "language_info": {
   "codemirror_mode": {
    "name": "ipython",
    "version": 3
   },
   "file_extension": ".py",
   "mimetype": "text/x-python",
   "name": "python",
   "nbconvert_exporter": "python",
   "pygments_lexer": "ipython3",
   "version": "3.9.12"
  }
 },
 "nbformat": 4,
 "nbformat_minor": 5
}
