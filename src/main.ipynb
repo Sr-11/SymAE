{
 "cells": [
  {
   "cell_type": "code",
   "execution_count": 8,
   "id": "5e843467-ccea-4c17-ab02-9b9bdc034a48",
   "metadata": {},
   "outputs": [
    {
     "name": "stdout",
     "output_type": "stream",
     "text": [
      "Num GPUs Available:  0\n",
      "2.4.1\n"
     ]
    },
    {
     "name": "stderr",
     "output_type": "stream",
     "text": [
      "2022-06-02 11:06:50.388359: I tensorflow/compiler/jit/xla_cpu_device.cc:41] Not creating XLA devices, tf_xla_enable_xla_devices not set\n"
     ]
    }
   ],
   "source": [
    "import generate\n",
    "import symae\n",
    "import os\n",
    "import numpy as np\n",
    "os.environ['TF_XLA_FLAGS'] = '--tf_xla_enable_xla_devices'"
   ]
  },
  {
   "cell_type": "code",
   "execution_count": 3,
   "id": "63528e1b-0c04-496c-879d-75a94fc49ee3",
   "metadata": {},
   "outputs": [
    {
     "name": "stdout",
     "output_type": "stream",
     "text": [
      "Num GPUs Available:  0\n",
      "2.4.1\n"
     ]
    }
   ],
   "source": [
    "import tensorflow as tf\n",
    "tfk = tf.keras\n",
    "tfkl = tf.keras.layers\n",
    "tfkltd= tf.keras.layers.TimeDistributed\n",
    "gpus = tf.config.experimental.list_physical_devices('GPU')\n",
    "print(\"Num GPUs Available: \", len(gpus))\n",
    "print(tf.__version__)"
   ]
  },
  {
   "cell_type": "code",
   "execution_count": 3,
   "id": "a123b485-4128-4248-9530-4e624248d1ed",
   "metadata": {},
   "outputs": [],
   "source": [
    "# Ok, What's in symae?\n",
    "# Downsampler, DownsamplerDense, NuisanceEncoder, NuisanceEncoder1D, NuisanceEncoderDense1D, \n",
    "# SymmetricEncoder,SymmetricEncoder1D,SymmetricEncoderDense1D,DistributeZsym,LatentCat,DroppedLatentCat, \n",
    "# Mixer, Mixer1D, MixerDense1D, Upsampler, UpsamplerDense\n",
    "# They are all Neural Nets. But where is the SymAE?\n",
    "#####\n",
    "# SymmetricEncoder: n, ntau, nr, nt, nc = input_tensor.get_shape()\n",
    "# Consider a batch of 32 video samples, \n",
    "# where each sample is a 128x128 RGB image with channels_last data format, across 10 timesteps. \n",
    "# The batch input shape is (32, 10, 128, 128, 3).\n",
    "#####\n",
    "# NuisanceEncoder: n, ntau, nr, nt, nc = input_tensor.get_shape()\n",
    "#####\n",
    "# Let's Clarifying Notations Now!!!!!"
   ]
  },
  {
   "cell_type": "code",
   "execution_count": 14,
   "id": "751d7abb-e462-4f2f-bca7-1739acbe1d05",
   "metadata": {},
   "outputs": [],
   "source": [
    "# Parameters related to data itself\n",
    "N=1000 # N is the Cardinality of the data set X, say n_X in the paper\n",
    "nt=20 # nt is the number of instances in each X_i, say n_tau in the paper (Xi[1]...Xi[nt])\n",
    "d=100 # d is the dimensions of each \"fundamental\" data, say d=dim Xi[j] (e.g. d=28*28 for mnist)\n",
    "\n",
    "# Parameters related to SymAE\n",
    "p=8 # symmetric encoder latent dimensions, p=dim Ci (Coherent Code)\n",
    "q=22 # nuisance encoder latent dimensions, q=dim Ni[j] (Dissimilar Code)\n",
    "\n",
    "# Parameters related to NeuralNets\n",
    "kernel_size=5 # How to convolute, the size of the kernel\n",
    "nfilters=64 # How many filters in each convolution layer\n",
    "\n",
    "# Parameters related to my specific algorithm of generating MRA data\n",
    "ne=10 # Only use g0,g1...g9\n",
    "sigma=0.1 # The intensity of the noise\n",
    "\n"
   ]
  },
  {
   "cell_type": "code",
   "execution_count": 28,
   "id": "fe923b9b-41d4-4b07-8cf4-3203f55a8fef",
   "metadata": {},
   "outputs": [
    {
     "name": "stdout",
     "output_type": "stream",
     "text": [
      "Model: \"sym_encoder\"\n",
      "_________________________________________________________________\n",
      "Layer (type)                 Output Shape              Param #   \n",
      "=================================================================\n",
      "sym_enc_input (InputLayer)   [(None, 20, 100, 1)]      0         \n",
      "=================================================================\n",
      "Total params: 0\n",
      "Trainable params: 0\n",
      "Non-trainable params: 0\n",
      "_________________________________________________________________\n"
     ]
    }
   ],
   "source": [
    "sym_enc_input=tfk.Input(shape=(nt,d,1), dtype='float32', name='sym_enc_input')\n",
    "sym_enc_output=symae.SymmetricEncoder1D(kernel_size,nfilters,[2,2,2,2],[2,2,2,2],p)(sym_enc_input)\n",
    "sym_encoder=tfk.Model(sym_enc_input, sym_enc_input, name='sym_encoder')\n",
    "sym_encoder.summary()"
   ]
  },
  {
   "cell_type": "code",
   "execution_count": 29,
   "id": "737ede01-b0a2-43eb-87ca-e76f692b7b54",
   "metadata": {},
   "outputs": [
    {
     "name": "stdout",
     "output_type": "stream",
     "text": [
      "Model: \"nui_encoder\"\n",
      "_________________________________________________________________\n",
      "Layer (type)                 Output Shape              Param #   \n",
      "=================================================================\n",
      "sym_enc_input (InputLayer)   [(None, 20, 100, 1)]      0         \n",
      "=================================================================\n",
      "Total params: 0\n",
      "Trainable params: 0\n",
      "Non-trainable params: 0\n",
      "_________________________________________________________________\n"
     ]
    }
   ],
   "source": [
    "nui_enc_input=tfk.Input(shape=(nt,d,1), dtype='float32', name='sym_enc_input')\n",
    "nui_enc_output=symae.SymmetricEncoder1D(kernel_size,nfilters,[2,2,2,2],[2,2,2,2],p)(nui_enc_input)\n",
    "nui_encoder=tfk.Model(nui_enc_input, nui_enc_input, name='nui_encoder')\n",
    "nui_encoder.summary()"
   ]
  },
  {
   "cell_type": "code",
   "execution_count": 42,
   "id": "fbfbdc84-011d-480c-9e95-e813707dde79",
   "metadata": {},
   "outputs": [
    {
     "name": "stdout",
     "output_type": "stream",
     "text": [
      "Model: \"distzsym\"\n",
      "_________________________________________________________________\n",
      "Layer (type)                 Output Shape              Param #   \n",
      "=================================================================\n",
      "latentcode (InputLayer)      [(None, 448)]             0         \n",
      "_________________________________________________________________\n",
      "distribute_zsym_2 (Distribut (None, 20, 30)            0         \n",
      "=================================================================\n",
      "Total params: 0\n",
      "Trainable params: 0\n",
      "Non-trainable params: 0\n",
      "_________________________________________________________________\n"
     ]
    }
   ],
   "source": [
    "decoder_input = tfk.Input(shape=(p+q*nt), name='latentcode')\n",
    "distribute_output=symae.DistributeZsym(nt, p, q)(decoder_input)\n",
    "distzsym = tfk.Model(decoder_input, distribute_output, name='distzsym')\n",
    "distzsym.summary()"
   ]
  },
  {
   "cell_type": "code",
   "execution_count": 58,
   "id": "a7c57df2-a527-4f03-bd16-7168da4aca91",
   "metadata": {},
   "outputs": [
    {
     "name": "stdout",
     "output_type": "stream",
     "text": [
      "Model: \"mixer\"\n",
      "_________________________________________________________________\n",
      "Layer (type)                 Output Shape              Param #   \n",
      "=================================================================\n",
      "mixer_input (InputLayer)     [(None, 20, 30)]          0         \n",
      "_________________________________________________________________\n",
      "mixer1d_7 (Mixer1D)          (None, 20, 20, 1)         83199     \n",
      "=================================================================\n",
      "Total params: 83,199\n",
      "Trainable params: 83,071\n",
      "Non-trainable params: 128\n",
      "_________________________________________________________________\n"
     ]
    }
   ],
   "source": [
    "mixer_input = tfk.Input(shape=(nt,p+q), name='mixer_input')\n",
    "mixer_output=symae.Mixer1D(kernel_size,nfilters,10,nt)(mixer_input)\n",
    "mixer = tfk.Model(mixer_input, mixer_output, name='mixer') \n",
    "#mixer_input.shape=distribute_output.shape\n",
    "mixer.summary()"
   ]
  },
  {
   "cell_type": "code",
   "execution_count": 46,
   "id": "0b219dc9-1f49-48f0-99db-6c74f3def0cb",
   "metadata": {},
   "outputs": [
    {
     "data": {
      "text/plain": [
       "TensorShape([None, 20, 30])"
      ]
     },
     "execution_count": 49,
     "metadata": {},
     "output_type": "execute_result"
    }
   ],
   "source": []
  },
  {
   "cell_type": "code",
   "execution_count": 54,
   "id": "c41bf1eb-1eab-42c1-9b35-965f4c5b998d",
   "metadata": {},
   "outputs": [
    {
     "name": "stdout",
     "output_type": "stream",
     "text": [
      "Model: \"encoder\"\n",
      "__________________________________________________________________________________________________\n",
      "Layer (type)                    Output Shape         Param #     Connected to                     \n",
      "==================================================================================================\n",
      "encoder_input (InputLayer)      [(None, 20, 100, 1)] 0                                            \n",
      "__________________________________________________________________________________________________\n",
      "sym_encoder (Functional)        (None, 20, 100, 1)   0           encoder_input[0][0]              \n",
      "__________________________________________________________________________________________________\n",
      "nui_encoder (Functional)        (None, 20, 100, 1)   0           encoder_input[0][0]              \n",
      "__________________________________________________________________________________________________\n",
      "latent_cat_1 (LatentCat)        (None, 20, 100, 2)   0           sym_encoder[3][0]                \n",
      "                                                                 nui_encoder[3][0]                \n",
      "==================================================================================================\n",
      "Total params: 0\n",
      "Trainable params: 0\n",
      "Non-trainable params: 0\n",
      "__________________________________________________________________________________________________\n"
     ]
    }
   ],
   "source": [
    "encoder_input=tfk.Input(shape=(nt,d,1), dtype='float32', name='encoder_input')\n",
    "znuisance=nui_encoder(encoder_input)\n",
    "zsym=sym_encoder(encoder_input)\n",
    "latentcat=symae.LatentCat(0.65) #0.4 droupout\n",
    "encoder=tfk.Model(encoder_input, latentcat(zsym,znuisance), name=\"encoder\") #latentcat(zsym,znuisance)\n",
    "encoder.summary()"
   ]
  },
  {
   "cell_type": "code",
   "execution_count": 56,
   "id": "98b77f78-10e5-4952-8674-c7784225df1c",
   "metadata": {},
   "outputs": [
    {
     "ename": "ValueError",
     "evalue": "Graph disconnected: cannot obtain value for tensor KerasTensor(type_spec=TensorSpec(shape=(None, 20, 30), dtype=tf.float32, name='mixer_input'), name='mixer_input', description=\"created by layer 'mixer_input'\") at layer \"mixer1d_5\". The following previous layers were accessed without issue: []",
     "output_type": "error",
     "traceback": [
      "\u001b[0;31m---------------------------------------------------------------------------\u001b[0m",
      "\u001b[0;31mValueError\u001b[0m                                Traceback (most recent call last)",
      "Input \u001b[0;32mIn [56]\u001b[0m, in \u001b[0;36m<cell line: 1>\u001b[0;34m()\u001b[0m\n\u001b[0;32m----> 1\u001b[0m decoder\u001b[38;5;241m=\u001b[39m\u001b[43mtfk\u001b[49m\u001b[38;5;241;43m.\u001b[39;49m\u001b[43mModel\u001b[49m\u001b[43m(\u001b[49m\u001b[43mdecoder_input\u001b[49m\u001b[43m,\u001b[49m\u001b[43m \u001b[49m\u001b[43mmixer_output\u001b[49m\u001b[43m,\u001b[49m\u001b[43m \u001b[49m\u001b[43mname\u001b[49m\u001b[38;5;241;43m=\u001b[39;49m\u001b[38;5;124;43m\"\u001b[39;49m\u001b[38;5;124;43mdecoder\u001b[39;49m\u001b[38;5;124;43m\"\u001b[39;49m\u001b[43m)\u001b[49m \n\u001b[1;32m      2\u001b[0m decoder\u001b[38;5;241m.\u001b[39msummary()\n",
      "File \u001b[0;32m~/software/anaconda/envs/MRA/lib/python3.9/site-packages/tensorflow/python/training/tracking/base.py:517\u001b[0m, in \u001b[0;36mno_automatic_dependency_tracking.<locals>._method_wrapper\u001b[0;34m(self, *args, **kwargs)\u001b[0m\n\u001b[1;32m    515\u001b[0m \u001b[38;5;28mself\u001b[39m\u001b[38;5;241m.\u001b[39m_self_setattr_tracking \u001b[38;5;241m=\u001b[39m \u001b[38;5;28;01mFalse\u001b[39;00m  \u001b[38;5;66;03m# pylint: disable=protected-access\u001b[39;00m\n\u001b[1;32m    516\u001b[0m \u001b[38;5;28;01mtry\u001b[39;00m:\n\u001b[0;32m--> 517\u001b[0m   result \u001b[38;5;241m=\u001b[39m \u001b[43mmethod\u001b[49m\u001b[43m(\u001b[49m\u001b[38;5;28;43mself\u001b[39;49m\u001b[43m,\u001b[49m\u001b[43m \u001b[49m\u001b[38;5;241;43m*\u001b[39;49m\u001b[43margs\u001b[49m\u001b[43m,\u001b[49m\u001b[43m \u001b[49m\u001b[38;5;241;43m*\u001b[39;49m\u001b[38;5;241;43m*\u001b[39;49m\u001b[43mkwargs\u001b[49m\u001b[43m)\u001b[49m\n\u001b[1;32m    518\u001b[0m \u001b[38;5;28;01mfinally\u001b[39;00m:\n\u001b[1;32m    519\u001b[0m   \u001b[38;5;28mself\u001b[39m\u001b[38;5;241m.\u001b[39m_self_setattr_tracking \u001b[38;5;241m=\u001b[39m previous_value  \u001b[38;5;66;03m# pylint: disable=protected-access\u001b[39;00m\n",
      "File \u001b[0;32m~/software/anaconda/envs/MRA/lib/python3.9/site-packages/tensorflow/python/keras/engine/functional.py:120\u001b[0m, in \u001b[0;36mFunctional.__init__\u001b[0;34m(self, inputs, outputs, name, trainable, **kwargs)\u001b[0m\n\u001b[1;32m    118\u001b[0m generic_utils\u001b[38;5;241m.\u001b[39mvalidate_kwargs(kwargs, {})\n\u001b[1;32m    119\u001b[0m \u001b[38;5;28msuper\u001b[39m(Functional, \u001b[38;5;28mself\u001b[39m)\u001b[38;5;241m.\u001b[39m\u001b[38;5;21m__init__\u001b[39m(name\u001b[38;5;241m=\u001b[39mname, trainable\u001b[38;5;241m=\u001b[39mtrainable)\n\u001b[0;32m--> 120\u001b[0m \u001b[38;5;28;43mself\u001b[39;49m\u001b[38;5;241;43m.\u001b[39;49m\u001b[43m_init_graph_network\u001b[49m\u001b[43m(\u001b[49m\u001b[43minputs\u001b[49m\u001b[43m,\u001b[49m\u001b[43m \u001b[49m\u001b[43moutputs\u001b[49m\u001b[43m)\u001b[49m\n",
      "File \u001b[0;32m~/software/anaconda/envs/MRA/lib/python3.9/site-packages/tensorflow/python/training/tracking/base.py:517\u001b[0m, in \u001b[0;36mno_automatic_dependency_tracking.<locals>._method_wrapper\u001b[0;34m(self, *args, **kwargs)\u001b[0m\n\u001b[1;32m    515\u001b[0m \u001b[38;5;28mself\u001b[39m\u001b[38;5;241m.\u001b[39m_self_setattr_tracking \u001b[38;5;241m=\u001b[39m \u001b[38;5;28;01mFalse\u001b[39;00m  \u001b[38;5;66;03m# pylint: disable=protected-access\u001b[39;00m\n\u001b[1;32m    516\u001b[0m \u001b[38;5;28;01mtry\u001b[39;00m:\n\u001b[0;32m--> 517\u001b[0m   result \u001b[38;5;241m=\u001b[39m \u001b[43mmethod\u001b[49m\u001b[43m(\u001b[49m\u001b[38;5;28;43mself\u001b[39;49m\u001b[43m,\u001b[49m\u001b[43m \u001b[49m\u001b[38;5;241;43m*\u001b[39;49m\u001b[43margs\u001b[49m\u001b[43m,\u001b[49m\u001b[43m \u001b[49m\u001b[38;5;241;43m*\u001b[39;49m\u001b[38;5;241;43m*\u001b[39;49m\u001b[43mkwargs\u001b[49m\u001b[43m)\u001b[49m\n\u001b[1;32m    518\u001b[0m \u001b[38;5;28;01mfinally\u001b[39;00m:\n\u001b[1;32m    519\u001b[0m   \u001b[38;5;28mself\u001b[39m\u001b[38;5;241m.\u001b[39m_self_setattr_tracking \u001b[38;5;241m=\u001b[39m previous_value  \u001b[38;5;66;03m# pylint: disable=protected-access\u001b[39;00m\n",
      "File \u001b[0;32m~/software/anaconda/envs/MRA/lib/python3.9/site-packages/tensorflow/python/keras/engine/functional.py:203\u001b[0m, in \u001b[0;36mFunctional._init_graph_network\u001b[0;34m(self, inputs, outputs)\u001b[0m\n\u001b[1;32m    200\u001b[0m   \u001b[38;5;28mself\u001b[39m\u001b[38;5;241m.\u001b[39m_input_coordinates\u001b[38;5;241m.\u001b[39mappend((layer, node_index, tensor_index))\n\u001b[1;32m    202\u001b[0m \u001b[38;5;66;03m# Keep track of the network's nodes and layers.\u001b[39;00m\n\u001b[0;32m--> 203\u001b[0m nodes, nodes_by_depth, layers, _ \u001b[38;5;241m=\u001b[39m \u001b[43m_map_graph_network\u001b[49m\u001b[43m(\u001b[49m\n\u001b[1;32m    204\u001b[0m \u001b[43m    \u001b[49m\u001b[38;5;28;43mself\u001b[39;49m\u001b[38;5;241;43m.\u001b[39;49m\u001b[43minputs\u001b[49m\u001b[43m,\u001b[49m\u001b[43m \u001b[49m\u001b[38;5;28;43mself\u001b[39;49m\u001b[38;5;241;43m.\u001b[39;49m\u001b[43moutputs\u001b[49m\u001b[43m)\u001b[49m\n\u001b[1;32m    205\u001b[0m \u001b[38;5;28mself\u001b[39m\u001b[38;5;241m.\u001b[39m_network_nodes \u001b[38;5;241m=\u001b[39m nodes\n\u001b[1;32m    206\u001b[0m \u001b[38;5;28mself\u001b[39m\u001b[38;5;241m.\u001b[39m_nodes_by_depth \u001b[38;5;241m=\u001b[39m nodes_by_depth\n",
      "File \u001b[0;32m~/software/anaconda/envs/MRA/lib/python3.9/site-packages/tensorflow/python/keras/engine/functional.py:985\u001b[0m, in \u001b[0;36m_map_graph_network\u001b[0;34m(inputs, outputs)\u001b[0m\n\u001b[1;32m    983\u001b[0m \u001b[38;5;28;01mfor\u001b[39;00m x \u001b[38;5;129;01min\u001b[39;00m nest\u001b[38;5;241m.\u001b[39mflatten(node\u001b[38;5;241m.\u001b[39mkeras_inputs):\n\u001b[1;32m    984\u001b[0m   \u001b[38;5;28;01mif\u001b[39;00m \u001b[38;5;28mid\u001b[39m(x) \u001b[38;5;129;01mnot\u001b[39;00m \u001b[38;5;129;01min\u001b[39;00m computable_tensors:\n\u001b[0;32m--> 985\u001b[0m     \u001b[38;5;28;01mraise\u001b[39;00m \u001b[38;5;167;01mValueError\u001b[39;00m(\u001b[38;5;124m'\u001b[39m\u001b[38;5;124mGraph disconnected: \u001b[39m\u001b[38;5;124m'\u001b[39m\n\u001b[1;32m    986\u001b[0m                      \u001b[38;5;124m'\u001b[39m\u001b[38;5;124mcannot obtain value for tensor \u001b[39m\u001b[38;5;124m'\u001b[39m \u001b[38;5;241m+\u001b[39m \u001b[38;5;28mstr\u001b[39m(x) \u001b[38;5;241m+\u001b[39m\n\u001b[1;32m    987\u001b[0m                      \u001b[38;5;124m'\u001b[39m\u001b[38;5;124m at layer \u001b[39m\u001b[38;5;124m\"\u001b[39m\u001b[38;5;124m'\u001b[39m \u001b[38;5;241m+\u001b[39m layer\u001b[38;5;241m.\u001b[39mname \u001b[38;5;241m+\u001b[39m \u001b[38;5;124m'\u001b[39m\u001b[38;5;124m\"\u001b[39m\u001b[38;5;124m. \u001b[39m\u001b[38;5;124m'\u001b[39m\n\u001b[1;32m    988\u001b[0m                      \u001b[38;5;124m'\u001b[39m\u001b[38;5;124mThe following previous layers \u001b[39m\u001b[38;5;124m'\u001b[39m\n\u001b[1;32m    989\u001b[0m                      \u001b[38;5;124m'\u001b[39m\u001b[38;5;124mwere accessed without issue: \u001b[39m\u001b[38;5;124m'\u001b[39m \u001b[38;5;241m+\u001b[39m\n\u001b[1;32m    990\u001b[0m                      \u001b[38;5;28mstr\u001b[39m(layers_with_complete_input))\n\u001b[1;32m    991\u001b[0m \u001b[38;5;28;01mfor\u001b[39;00m x \u001b[38;5;129;01min\u001b[39;00m nest\u001b[38;5;241m.\u001b[39mflatten(node\u001b[38;5;241m.\u001b[39moutputs):\n\u001b[1;32m    992\u001b[0m   computable_tensors\u001b[38;5;241m.\u001b[39madd(\u001b[38;5;28mid\u001b[39m(x))\n",
      "\u001b[0;31mValueError\u001b[0m: Graph disconnected: cannot obtain value for tensor KerasTensor(type_spec=TensorSpec(shape=(None, 20, 30), dtype=tf.float32, name='mixer_input'), name='mixer_input', description=\"created by layer 'mixer_input'\") at layer \"mixer1d_5\". The following previous layers were accessed without issue: []"
     ]
    }
   ],
   "source": [
    "decoder=tfk.Model(decoder_input, mixer_output, name=\"decoder\") \n",
    "decoder.summary()"
   ]
  },
  {
   "cell_type": "code",
   "execution_count": null,
   "id": "83f5fd66-23d8-41db-86b9-a0f0c8aa346e",
   "metadata": {},
   "outputs": [],
   "source": [
    "model=tf.keras.Model(encoder_input, decoder(latentcat(zsym,znuisance)) , name='autoencoder_clone')\n",
    "  model.summary()\n",
    "  model.compile(optimizer='adam', loss='mse')\n",
    "  model.load_weights(fn)"
   ]
  },
  {
   "cell_type": "code",
   "execution_count": 11,
   "id": "1329e516-fb92-4730-b1e4-407457f968de",
   "metadata": {},
   "outputs": [],
   "source": [
    "a=np.array([1.0,1])"
   ]
  },
  {
   "cell_type": "code",
   "execution_count": 12,
   "id": "fda318d9-e0de-4897-aeef-c9a988db19c2",
   "metadata": {},
   "outputs": [
    {
     "data": {
      "text/plain": [
       "numpy.ndarray"
      ]
     },
     "execution_count": 12,
     "metadata": {},
     "output_type": "execute_result"
    }
   ],
   "source": [
    "type(a)"
   ]
  },
  {
   "cell_type": "code",
   "execution_count": null,
   "id": "88f3e93a-bab6-4af5-9042-0218f0e6e51a",
   "metadata": {},
   "outputs": [],
   "source": []
  }
 ],
 "metadata": {
  "kernelspec": {
   "display_name": "Python 3 (ipykernel)",
   "language": "python",
   "name": "python3"
  },
  "language_info": {
   "codemirror_mode": {
    "name": "ipython",
    "version": 3
   },
   "file_extension": ".py",
   "mimetype": "text/x-python",
   "name": "python",
   "nbconvert_exporter": "python",
   "pygments_lexer": "ipython3",
   "version": "3.9.12"
  }
 },
 "nbformat": 4,
 "nbformat_minor": 5
}
