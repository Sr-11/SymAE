{
 "cells": [
  {
   "cell_type": "code",
   "execution_count": 2,
   "id": "ef54931c-fb39-43dd-acdf-f2a7c17fad1d",
   "metadata": {},
   "outputs": [
    {
     "name": "stderr",
     "output_type": "stream",
     "text": [
      "2022-06-16 14:04:28.952033: I tensorflow/core/util/util.cc:169] oneDNN custom operations are on. You may see slightly different numerical results due to floating-point round-off errors from different computation orders. To turn them off, set the environment variable `TF_ENABLE_ONEDNN_OPTS=0`.\n"
     ]
    }
   ],
   "source": [
    "import tensorflow as tf"
   ]
  },
  {
   "cell_type": "code",
   "execution_count": 3,
   "id": "e8d833b9-20f1-4ac1-8bf8-0fbcf448e09f",
   "metadata": {},
   "outputs": [
    {
     "name": "stdout",
     "output_type": "stream",
     "text": [
      "Num GPUs Available:  2\n",
      "TensorFlow Version:  2.9.1\n"
     ]
    }
   ],
   "source": [
    "import tensorflow as tf\n",
    "import symae_core as symae\n",
    "import numpy as np\n",
    "tfk = tf.keras\n",
    "tfkl = tf.keras.layers\n",
    "tfkltd= tf.keras.layers.TimeDistributed\n",
    "N=1000\n",
    "nt=20\n",
    "d=100\n",
    "p=8\n",
    "q=22\n",
    "kernel_size=5\n",
    "filters=64\n",
    "dropout_rate=0.65"
   ]
  },
  {
   "cell_type": "code",
   "execution_count": null,
   "id": "99fcf1d0-3840-41cd-99d3-248d0eccdbbd",
   "metadata": {},
   "outputs": [],
   "source": [
    "# Build symmetric encoder\n",
    "sym_enc_input=tfk.Input(shape=(nt,d,1), dtype='float32')\n",
    "sym_enc_output=symae.SymmetricEncoder1D(kernel_size,filters,[2,2,2,2],[2,2,2,2],p)(sym_enc_input)\n",
    "sym_encoder=tfk.Model(sym_enc_input, sym_enc_output)\n",
    "sym_encoder.summary()"
   ]
  },
  {
   "cell_type": "code",
   "execution_count": null,
   "id": "783f9316-f1a8-495e-9ed1-b11f4fc48c00",
   "metadata": {},
   "outputs": [],
   "source": [
    "\n",
    "# Build nuisance encoder\n",
    "nui_enc_input=tfk.Input(shape=(nt,d,1), dtype='float32', name='sym_enc_input')\n",
    "nui_enc_output=symae.NuisanceEncoder1D(kernel_size,filters,[2,2,2],[2,2,2,2],q)(nui_enc_input)\n",
    "nui_enc_flatten=tfkl.Flatten()(nui_enc_output)\n",
    "nui_encoder=tfk.Model(nui_enc_input, nui_enc_flatten, name='nui_encoder')\n"
   ]
  },
  {
   "cell_type": "code",
   "execution_count": null,
   "id": "71b23a5b-ed0b-4a4c-b6c7-fcdaa5323538",
   "metadata": {},
   "outputs": [],
   "source": [
    "\n",
    "# Build distribute in decoder\n",
    "distribute_input = tfk.Input(shape=(p+q*nt), name='latentcode')\n",
    "distribute_output=symae.DistributeZsym(nt, p, q)(distribute_input)\n",
    "distzsym = tfk.Model(distribute_input, distribute_output, name='distzsym')\n",
    "\n",
    "#Build mixer in decoder\n",
    "mixer_input = tfk.Input(shape=(nt,p+q), name='mixer_input')\n",
    "mixer_output=symae.Mixer1D(kernel_size,filters,10,d)(mixer_input)\n",
    "mixer = tfk.Model(mixer_input, mixer_output, name='mixer') \n",
    "\n",
    "# Build encoder\n",
    "encoder_input=tfk.Input(shape=(nt,d,1), dtype='float32', name='encoder_input')\n",
    "znuisance=nui_encoder(encoder_input)\n",
    "zsym=sym_encoder(encoder_input)\n",
    "latentcat=symae.LatentCat(dropout_rate) #0.4 droupout\n",
    "\n",
    "encoder_output=latentcat(zsym,znuisance)\n",
    "encoder=tfk.Model(encoder_input, encoder_output, name=\"encoder\")\n",
    "\n",
    "# Build decoder\n",
    "decoder_input = tfk.Input(shape=(p+q*nt), name='latentcode')\n",
    "decoder_output=mixer(distzsym(decoder_input))\n",
    "decoder=tfk.Model(decoder_input,decoder_output, name=\"decoder\") \n",
    "\n",
    "#Build SymAE\n",
    "symae=tf.keras.Model(encoder_input, decoder(encoder_output) , name='autoencoder_clone')\n"
   ]
  },
  {
   "cell_type": "code",
   "execution_count": null,
   "id": "221288dc-f40a-4bce-b297-464e22fee759",
   "metadata": {},
   "outputs": [],
   "source": []
  }
 ],
 "metadata": {
  "kernelspec": {
   "display_name": "Python 3 (ipykernel)",
   "language": "python",
   "name": "python3"
  },
  "language_info": {
   "codemirror_mode": {
    "name": "ipython",
    "version": 3
   },
   "file_extension": ".py",
   "mimetype": "text/x-python",
   "name": "python",
   "nbconvert_exporter": "python",
   "pygments_lexer": "ipython3",
   "version": "3.9.12"
  }
 },
 "nbformat": 4,
 "nbformat_minor": 5
}
