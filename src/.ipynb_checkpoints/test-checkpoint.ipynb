{
 "cells": [
  {
   "cell_type": "code",
   "execution_count": 2,
   "id": "ef54931c-fb39-43dd-acdf-f2a7c17fad1d",
   "metadata": {},
   "outputs": [
    {
     "name": "stderr",
     "output_type": "stream",
     "text": [
      "2022-06-16 14:08:17.244559: I tensorflow/core/util/util.cc:169] oneDNN custom operations are on. You may see slightly different numerical results due to floating-point round-off errors from different computation orders. To turn them off, set the environment variable `TF_ENABLE_ONEDNN_OPTS=0`.\n"
     ]
    }
   ],
   "source": [
    "from fourier import fourier"
   ]
  },
  {
   "cell_type": "code",
   "execution_count": 2,
   "id": "e8d833b9-20f1-4ac1-8bf8-0fbcf448e09f",
   "metadata": {},
   "outputs": [
    {
     "name": "stderr",
     "output_type": "stream",
     "text": [
      "2022-06-16 18:43:34.911462: I tensorflow/core/util/util.cc:169] oneDNN custom operations are on. You may see slightly different numerical results due to floating-point round-off errors from different computation orders. To turn them off, set the environment variable `TF_ENABLE_ONEDNN_OPTS=0`.\n"
     ]
    },
    {
     "name": "stdout",
     "output_type": "stream",
     "text": [
      "Num GPUs Available:  2\n",
      "TensorFlow Version:  2.9.1\n"
     ]
    }
   ],
   "source": [
    "def g(n,x):\n",
    "    if n==0:\n",
    "        return math.cos(2*math.pi*x)\n",
    "    elif n==1:\n",
    "        if x<0.5:\n",
    "            return 1\n",
    "        else:\n",
    "            return 0\n",
    "    elif n==2:\n",
    "        return math.e**(-9*x**2)\n",
    "    elif n==3:\n",
    "        return math.cos(8*math.pi*x)\n",
    "    else:\n",
    "        return np.inf\n",
    "d=100\n",
    "theta = [ g(0,j/d) for j in range(d) ]"
   ]
  },
  {
   "cell_type": "code",
   "execution_count": 7,
   "id": "99fcf1d0-3840-41cd-99d3-248d0eccdbbd",
   "metadata": {},
   "outputs": [
    {
     "name": "stdout",
     "output_type": "stream",
     "text": [
      "Model: \"model_1\"\n",
      "_________________________________________________________________\n",
      " Layer (type)                Output Shape              Param #   \n",
      "=================================================================\n",
      " input_4 (InputLayer)        [(None, 20, 101, 1)]      0         \n",
      "                                                                 \n",
      "  (SymmetricEncoder1D)       (None, 8)                 53512     \n",
      "                                                                 \n",
      "=================================================================\n",
      "Total params: 53,512\n",
      "Trainable params: 53,448\n",
      "Non-trainable params: 64\n",
      "_________________________________________________________________\n"
     ]
    }
   ],
   "source": [
    "fourier(theta)"
   ]
  },
  {
   "cell_type": "code",
   "execution_count": null,
   "id": "783f9316-f1a8-495e-9ed1-b11f4fc48c00",
   "metadata": {},
   "outputs": [],
   "source": []
  },
  {
   "cell_type": "code",
   "execution_count": null,
   "id": "71b23a5b-ed0b-4a4c-b6c7-fcdaa5323538",
   "metadata": {},
   "outputs": [],
   "source": []
  },
  {
   "cell_type": "code",
   "execution_count": null,
   "id": "221288dc-f40a-4bce-b297-464e22fee759",
   "metadata": {},
   "outputs": [],
   "source": []
  },
  {
   "cell_type": "code",
   "execution_count": null,
   "id": "8f63e63c-e283-41e5-b314-be36c75afb25",
   "metadata": {},
   "outputs": [],
   "source": []
  }
 ],
 "metadata": {
  "kernelspec": {
   "display_name": "Python 3 (ipykernel)",
   "language": "python",
   "name": "python3"
  },
  "language_info": {
   "codemirror_mode": {
    "name": "ipython",
    "version": 3
   },
   "file_extension": ".py",
   "mimetype": "text/x-python",
   "name": "python",
   "nbconvert_exporter": "python",
   "pygments_lexer": "ipython3",
   "version": "3.9.12"
  }
 },
 "nbformat": 4,
 "nbformat_minor": 5
}
