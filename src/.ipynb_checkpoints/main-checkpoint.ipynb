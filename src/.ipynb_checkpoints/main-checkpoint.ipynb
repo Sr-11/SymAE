{
 "cells": [
  {
   "cell_type": "code",
   "execution_count": 5,
   "id": "5e843467-ccea-4c17-ab02-9b9bdc034a48",
   "metadata": {},
   "outputs": [],
   "source": [
    "import generate\n",
    "import symae\n",
    "import os\n",
    "os.environ['TF_XLA_FLAGS'] = '--tf_xla_enable_xla_devices'"
   ]
  },
  {
   "cell_type": "code",
   "execution_count": 6,
   "id": "63528e1b-0c04-496c-879d-75a94fc49ee3",
   "metadata": {},
   "outputs": [
    {
     "name": "stdout",
     "output_type": "stream",
     "text": [
      "Num GPUs Available:  0\n"
     ]
    }
   ],
   "source": [
    "import tensorflow as tf\n",
    "gpus = tf.config.experimental.list_physical_devices('GPU')\n",
    "print(\"Num GPUs Available: \", len(gpus))"
   ]
  },
  {
   "cell_type": "code",
   "execution_count": 3,
   "id": "a123b485-4128-4248-9530-4e624248d1ed",
   "metadata": {},
   "outputs": [],
   "source": [
    "# Ok, What's in symae?\n",
    "# Downsampler, DownsamplerDense, NuisanceEncoder, NuisanceEncoder1D, NuisanceEncoderDense1D, \n",
    "# SymmetricEncoder, SymmetricEncoder1D, SymmetricEncoderDense1D, LatentCat, DroppedLatentCat, \n",
    "# Mixer, Mixer1D, MixerDense1D, Upsampler, UpsamplerDense\n",
    "# They are all Neural Nets?"
   ]
  },
  {
   "cell_type": "code",
   "execution_count": null,
   "id": "fe923b9b-41d4-4b07-8cf4-3203f55a8fef",
   "metadata": {},
   "outputs": [],
   "source": []
  }
 ],
 "metadata": {
  "kernelspec": {
   "display_name": "Python 3 (ipykernel)",
   "language": "python",
   "name": "python3"
  },
  "language_info": {
   "codemirror_mode": {
    "name": "ipython",
    "version": 3
   },
   "file_extension": ".py",
   "mimetype": "text/x-python",
   "name": "python",
   "nbconvert_exporter": "python",
   "pygments_lexer": "ipython3",
   "version": "3.9.12"
  }
 },
 "nbformat": 4,
 "nbformat_minor": 5
}
