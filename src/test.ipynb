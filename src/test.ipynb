{
 "cells": [
  {
   "cell_type": "code",
   "execution_count": 11,
   "id": "953c8487-874b-4480-bff2-1e2ccfcebe11",
   "metadata": {},
   "outputs": [],
   "source": [
    "import os\n",
    "import re\n",
    "def findfile(start):\n",
    "    list=[]\n",
    "    for relpath, dirs, files in os.walk(start):\n",
    "        for name in files:\n",
    "            searchObj=re.search(r'_(\\d)\\.png',name)\n",
    "            if searchObj:\n",
    "                list.append(int(searchObj.group(1)))\n",
    "                full_path = os.path.join(start, relpath, name)\n",
    "                print(os.path.normpath(os.path.abspath(full_path)))\n",
    "    return list\n",
    "def findblank(list):\n",
    "    list.sort()\n",
    "    for i in range(len(list)):\n",
    "        if list[i]!=i+1:\n",
    "            return i+1\n",
    "    return len(list)+1\n",
    "def savefig(fig):\n",
    "    list=findfile('./plots')\n",
    "    print(list)\n",
    "    i=findblank(list)\n",
    "    print('There are %d figures in src/plots'%(i-1))\n",
    "    fig.savefig('./plots/result_%d.png'%i)"
   ]
  },
  {
   "cell_type": "code",
   "execution_count": 15,
   "id": "5bc8bc73-d24b-4060-9a2b-2b28f4436fbd",
   "metadata": {},
   "outputs": [
    {
     "name": "stdout",
     "output_type": "stream",
     "text": [
      ".ipynb_checkpoints\n"
     ]
    }
   ],
   "source": [
    "full_path=''\n",
    "for relpath, dirs, files in os.walk('./checkpoints'):\n",
    "    for name in dirs:\n",
    "        print(name)\n",
    "        searchObj=re.search(r'ID=.*',name)\n",
    "        if searchObj:\n",
    "            full_path = os.path.join('./checkpoints', name)\n",
    "            print(full_path)"
   ]
  },
  {
   "cell_type": "code",
   "execution_count": 8,
   "id": "55a9d6af-8afd-472c-a822-cf761f81ac7d",
   "metadata": {},
   "outputs": [],
   "source": [
    "import os,re"
   ]
  },
  {
   "cell_type": "code",
   "execution_count": 3,
   "id": "550fcf14-f330-4c6f-9090-e8c8d8abf6b4",
   "metadata": {},
   "outputs": [
    {
     "data": {
      "text/plain": [
       "354"
      ]
     },
     "execution_count": 3,
     "metadata": {},
     "output_type": "execute_result"
    }
   ],
   "source": [
    "\n",
    "        #target=r'ID=(.*),sigma=(.*),epochs=(.*),p=(.*),q=(.*),date=(.*)'\n",
    "        #ID=list_blank([tem_ID for tem_ID in find_dirs('./checkpoints',target)])"
   ]
  },
  {
   "cell_type": "code",
   "execution_count": 21,
   "id": "b4427ac7-f4bc-476a-8489-bc742cf03074",
   "metadata": {},
   "outputs": [
    {
     "name": "stdout",
     "output_type": "stream",
     "text": [
      ".ipynb_checkpoints\n"
     ]
    },
    {
     "data": {
      "text/plain": [
       "'./checkpoints/ID=1,sigma=0,epochs=10,p=8,q=22,date=06-03-2022-13:54:07'"
      ]
     },
     "execution_count": 21,
     "metadata": {},
     "output_type": "execute_result"
    }
   ],
   "source": [
    "ID=1\n",
    "for relpath, dirs, files in os.walk('./checkpoints'):\n",
    "    for name in dirs:\n",
    "        print(name)\n",
    "        searchObj=re.search(r'ID=.*',name)\n",
    "        if searchObj:\n",
    "            full_path = os.path.join('./checkpoints', name)\n",
    "            shutil.retree(full_path)\n",
    "date_time=datetime.datetime.now().strftime(\"%m-%d-%Y-%H:%M:%S\")\n",
    "file_name='ID={},sigma={},epochs={},p={},q={},date={}'.format(ID,0,10,8,22,date_time)\n",
    "'./checkpoints/'+file_name"
   ]
  },
  {
   "cell_type": "code",
   "execution_count": null,
   "id": "d2cbf537-d7ad-4366-a86f-af746d64da3f",
   "metadata": {},
   "outputs": [],
   "source": []
  },
  {
   "cell_type": "code",
   "execution_count": null,
   "id": "978f21c9-046b-46c4-9423-edd7b09f483f",
   "metadata": {},
   "outputs": [],
   "source": []
  }
 ],
 "metadata": {
  "kernelspec": {
   "display_name": "Python 3 (ipykernel)",
   "language": "python",
   "name": "python3"
  },
  "language_info": {
   "codemirror_mode": {
    "name": "ipython",
    "version": 3
   },
   "file_extension": ".py",
   "mimetype": "text/x-python",
   "name": "python",
   "nbconvert_exporter": "python",
   "pygments_lexer": "ipython3",
   "version": "3.9.12"
  }
 },
 "nbformat": 4,
 "nbformat_minor": 5
}
