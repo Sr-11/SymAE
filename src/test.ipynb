{
 "cells": [
  {
   "cell_type": "code",
   "execution_count": 6,
   "id": "ef54931c-fb39-43dd-acdf-f2a7c17fad1d",
   "metadata": {},
   "outputs": [],
   "source": [
    "from fourier import fourier\n",
    "import math\n",
    "import matplotlib.pyplot as plt"
   ]
  },
  {
   "cell_type": "code",
   "execution_count": 20,
   "id": "e8d833b9-20f1-4ac1-8bf8-0fbcf448e09f",
   "metadata": {},
   "outputs": [
    {
     "data": {
      "text/plain": [
       "[<matplotlib.lines.Line2D at 0x7fc3916ffdc0>]"
      ]
     },
     "execution_count": 20,
     "metadata": {},
     "output_type": "execute_result"
    },
    {
     "data": {
      "image/png": "[encoded data removed]",
      "text/plain": [
       "<Figure size 432x288 with 1 Axes>"
      ]
     },
     "metadata": {
      "needs_background": "light"
     },
     "output_type": "display_data"
    }
   ],
   "source": [
    "def g(n,x):\n",
    "    if n==0:\n",
    "        return math.cos(2*math.pi*x)\n",
    "    elif n==1:\n",
    "        if x<0.5:\n",
    "            return 1\n",
    "        else:\n",
    "            return 0\n",
    "    elif n==2:\n",
    "        return math.e**(-9*x**2)\n",
    "    elif n==3:\n",
    "        return math.cos(8*math.pi*x)\n",
    "    elif n==4:\n",
    "        return int(x==0)\n",
    "    else:\n",
    "        return np.inf\n",
    "d=100\n",
    "n=4\n",
    "theta = [ g(n,j/d) for j in range(d) ]\n",
    "plt.plot(range(d),abs(fourier(theta)))"
   ]
  },
  {
   "cell_type": "code",
   "execution_count": 1,
   "id": "99fcf1d0-3840-41cd-99d3-248d0eccdbbd",
   "metadata": {},
   "outputs": [],
   "source": [
    "a=[1,2,3,4,5]"
   ]
  },
  {
   "cell_type": "code",
   "execution_count": 3,
   "id": "783f9316-f1a8-495e-9ed1-b11f4fc48c00",
   "metadata": {},
   "outputs": [
    {
     "data": {
      "text/plain": [
       "[4]"
      ]
     },
     "execution_count": 3,
     "metadata": {},
     "output_type": "execute_result"
    }
   ],
   "source": [
    "a[-2:-1]"
   ]
  },
  {
   "cell_type": "code",
   "execution_count": null,
   "id": "71b23a5b-ed0b-4a4c-b6c7-fcdaa5323538",
   "metadata": {},
   "outputs": [],
   "source": []
  },
  {
   "cell_type": "code",
   "execution_count": null,
   "id": "221288dc-f40a-4bce-b297-464e22fee759",
   "metadata": {},
   "outputs": [],
   "source": []
  },
  {
   "cell_type": "code",
   "execution_count": null,
   "id": "8f63e63c-e283-41e5-b314-be36c75afb25",
   "metadata": {},
   "outputs": [],
   "source": []
  }
 ],
 "metadata": {
  "kernelspec": {
   "display_name": "Python 3 (ipykernel)",
   "language": "python",
   "name": "python3"
  },
  "language_info": {
   "codemirror_mode": {
    "name": "ipython",
    "version": 3
   },
   "file_extension": ".py",
   "mimetype": "text/x-python",
   "name": "python",
   "nbconvert_exporter": "python",
   "pygments_lexer": "ipython3",
   "version": "3.9.12"
  }
 },
 "nbformat": 4,
 "nbformat_minor": 5
}
