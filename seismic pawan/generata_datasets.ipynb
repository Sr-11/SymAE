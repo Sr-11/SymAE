{
 "cells": [
  {
   "cell_type": "code",
   "execution_count": 1,
   "metadata": {},
   "outputs": [
    {
     "data": {
      "text/plain": [
       "20-element Vector{Int64}:\n",
       "  2\n",
       "  3\n",
       "  4\n",
       "  5\n",
       "  6\n",
       "  7\n",
       "  8\n",
       "  9\n",
       " 10\n",
       " 11\n",
       " 12\n",
       " 13\n",
       " 14\n",
       " 15\n",
       " 16\n",
       " 17\n",
       " 18\n",
       " 19\n",
       " 20\n",
       " 21"
      ]
     },
     "execution_count": 1,
     "metadata": {},
     "output_type": "execute_result"
    }
   ],
   "source": [
    "using Distributed\n",
    "# nss=20\n",
    "addprocs(20)"
   ]
  },
  {
   "cell_type": "code",
   "execution_count": 2,
   "metadata": {},
   "outputs": [
    {
     "data": {
      "text/plain": [
       "20"
      ]
     },
     "execution_count": 2,
     "metadata": {},
     "output_type": "execute_result"
    }
   ],
   "source": [
    "nss=20"
   ]
  },
  {
   "cell_type": "code",
   "execution_count": 24,
   "metadata": {},
   "outputs": [
    {
     "data": {
      "text/plain": [
       "Plots.GRBackend()"
      ]
     },
     "execution_count": 24,
     "metadata": {},
     "output_type": "execute_result"
    }
   ],
   "source": [
    "using Revise\n",
    "using GeoPhyInv\n",
    "using StatsBase\n",
    "using Distributions\n",
    "using Plots\n",
    "#using Conv\n",
    "using DSP\n",
    "using HDF5\n",
    "using MLDataUtils\n",
    "using Random\n",
    "using ProgressMeter\n",
    "# pgfplotsx()\n",
    "gr()"
   ]
  },
  {
   "cell_type": "code",
   "execution_count": 25,
   "metadata": {},
   "outputs": [
    {
     "ename": "LoadError",
     "evalue": "MethodError: no method matching update!(::Medium{2}, ::Vector{Symbol}; constant_pert=-500.0)\n\u001b[0mClosest candidates are:\n\u001b[0m  update!(::Medium, ::Vector{Symbol}; rectangle, perc, randn_perc) at ~/.julia/packages/GeoPhyInv/1J1nX/src/media/addons.jl:32\u001b[91m got unsupported keyword argument \"constant_pert\"\u001b[39m\n\u001b[0m  update!(::Medium, ::AbstractVector{Symbol}, \u001b[91m::Any\u001b[39m) at ~/.julia/packages/GeoPhyInv/1J1nX/src/media/core.jl:206\u001b[91m got unsupported keyword argument \"constant_pert\"\u001b[39m\n\u001b[0m  update!(::Medium) at ~/.julia/packages/GeoPhyInv/1J1nX/src/media/core.jl:146\u001b[91m got unsupported keyword argument \"constant_pert\"\u001b[39m\n\u001b[0m  ...",
     "output_type": "error",
     "traceback": [
      "MethodError: no method matching update!(::Medium{2}, ::Vector{Symbol}; constant_pert=-500.0)\n\u001b[0mClosest candidates are:\n\u001b[0m  update!(::Medium, ::Vector{Symbol}; rectangle, perc, randn_perc) at ~/.julia/packages/GeoPhyInv/1J1nX/src/media/addons.jl:32\u001b[91m got unsupported keyword argument \"constant_pert\"\u001b[39m\n\u001b[0m  update!(::Medium, ::AbstractVector{Symbol}, \u001b[91m::Any\u001b[39m) at ~/.julia/packages/GeoPhyInv/1J1nX/src/media/core.jl:206\u001b[91m got unsupported keyword argument \"constant_pert\"\u001b[39m\n\u001b[0m  update!(::Medium) at ~/.julia/packages/GeoPhyInv/1J1nX/src/media/core.jl:146\u001b[91m got unsupported keyword argument \"constant_pert\"\u001b[39m\n\u001b[0m  ...",
      "",
      "Stacktrace:",
      " [1] kwerr(::NamedTuple{(:constant_pert,), Tuple{Float64}}, ::Function, ::Medium{2}, ::Vector{Symbol})",
      "   @ Base ./error.jl:163",
      " [2] get_mod(pert_flag::Int64)",
      "   @ Main ./In[25]:12",
      " [3] top-level scope",
      "   @ In[25]:20",
      " [4] eval",
      "   @ ./boot.jl:373 [inlined]",
      " [5] include_string(mapexpr::typeof(REPL.softscope), mod::Module, code::String, filename::String)",
      "   @ Base ./loading.jl:1196"
     ]
    }
   ],
   "source": [
    "tgrid = range(0.0,stop=1.333,length=1000); # generate a time grid\n",
    "nts=100\n",
    "vp0 = [2500., 3500.] # bounds for vp\n",
    "rho0 = [2500., 3500.] # density bounds\n",
    "mgrid = repeat([range(-1000.0,stop=1000.0,length=211)],2)\n",
    "nz,nx=length.(mgrid)\n",
    "\n",
    "function get_mod(pert_flag)\n",
    "    mod=Medium(mgrid,[:vp,:rho])\n",
    "    GeoPhyInv.update!(mod,[:vp,:rho],[vp0,rho0])\n",
    "    fill!(mod)\n",
    "    GeoPhyInv.update!(mod, [:vp,:rho], constant_pert=-500.)\n",
    "    # medium=deepcopy(medium0)  # not working, bugggy to NAN\n",
    "    if(pert_flag==1)\n",
    "        GeoPhyInv.update!(mod, [:vp,:rho], rect_loc=[-100,-100,300,300], rect_pert=1000.)\n",
    "        mod=GeoPhyInv.Medium_smooth(mod,10,10)\n",
    "    end\n",
    "    return mod\n",
    "end\n",
    "medium0=get_mod(0)\n",
    "\t\n",
    "w = ormsby(10.0, tgrid, tpeak=0.25,); \n",
    "\n",
    "ageom=AGeom(medium0.mgrid,:xwell, SSrcs(nss), Recs(100)); # load a simple acquisition using `mgrid` of the medium\n",
    "rad=rand(Uniform(800,1000),nss)\n",
    "theta=rand(Uniform(0,2*pi),nss)\n",
    "for is in 1:nss\n",
    "\tGeoPhyInv.update!(ageom[is], Srcs(1), [0,0], rad[is], fill(theta[is],2))\n",
    "end\n",
    "GeoPhyInv.update!(ageom, Recs(100), [0,0], 600, [0, 2*pi] )\n",
    "# GeoPhyInv.update!(ageom, SSrcs(20), [0,0], 0, fill(0,2))\n",
    "srcwav = SrcWav(tgrid, ageom, [:p]);\n",
    "wav = ormsby(10.0, tgrid, tpeak=0.25,); # ricker wavelet\n",
    "GeoPhyInv.update!(srcwav, [:p], wav);\n",
    "\n",
    "pa=SeisForwExpt(Fdtd(),medium=medium0, ageom=ageom, srcwav=srcwav,\n",
    "\tsnaps_flag=false,tgrid=tgrid, verbose=false, rfields=[:p]);\n"
   ]
  },
  {
   "cell_type": "code",
   "execution_count": 5,
   "metadata": {},
   "outputs": [
    {
     "ename": "LoadError",
     "evalue": "UndefVarError: medium0 not defined",
     "output_type": "error",
     "traceback": [
      "UndefVarError: medium0 not defined",
      "",
      "Stacktrace:",
      " [1] top-level scope",
      "   @ In[5]:1",
      " [2] eval",
      "   @ ./boot.jl:373 [inlined]",
      " [3] include_string(mapexpr::typeof(REPL.softscope), mod::Module, code::String, filename::String)",
      "   @ Base ./loading.jl:1196"
     ]
    }
   ],
   "source": [
    "medium0[:vp],medium0.bounds[:vp]\n"
   ]
  },
  {
   "cell_type": "code",
   "execution_count": 6,
   "metadata": {},
   "outputs": [
    {
     "ename": "LoadError",
     "evalue": "MethodError: no method matching update!(::Medium{2}, ::Vector{Symbol}; constant_pert=-500.0)\n\u001b[0mClosest candidates are:\n\u001b[0m  update!(::Medium, ::Vector{Symbol}; rectangle, perc, randn_perc) at ~/.julia/packages/GeoPhyInv/1J1nX/src/media/addons.jl:32\u001b[91m got unsupported keyword argument \"constant_pert\"\u001b[39m\n\u001b[0m  update!(::Medium, ::AbstractVector{Symbol}, \u001b[91m::Any\u001b[39m) at ~/.julia/packages/GeoPhyInv/1J1nX/src/media/core.jl:206\u001b[91m got unsupported keyword argument \"constant_pert\"\u001b[39m\n\u001b[0m  update!(::Medium) at ~/.julia/packages/GeoPhyInv/1J1nX/src/media/core.jl:146\u001b[91m got unsupported keyword argument \"constant_pert\"\u001b[39m\n\u001b[0m  ...",
     "output_type": "error",
     "traceback": [
      "MethodError: no method matching update!(::Medium{2}, ::Vector{Symbol}; constant_pert=-500.0)\n\u001b[0mClosest candidates are:\n\u001b[0m  update!(::Medium, ::Vector{Symbol}; rectangle, perc, randn_perc) at ~/.julia/packages/GeoPhyInv/1J1nX/src/media/addons.jl:32\u001b[91m got unsupported keyword argument \"constant_pert\"\u001b[39m\n\u001b[0m  update!(::Medium, ::AbstractVector{Symbol}, \u001b[91m::Any\u001b[39m) at ~/.julia/packages/GeoPhyInv/1J1nX/src/media/core.jl:206\u001b[91m got unsupported keyword argument \"constant_pert\"\u001b[39m\n\u001b[0m  update!(::Medium) at ~/.julia/packages/GeoPhyInv/1J1nX/src/media/core.jl:146\u001b[91m got unsupported keyword argument \"constant_pert\"\u001b[39m\n\u001b[0m  ...",
      "",
      "Stacktrace:",
      " [1] kwerr(::NamedTuple{(:constant_pert,), Tuple{Float64}}, ::Function, ::Medium{2}, ::Vector{Symbol})",
      "   @ Base ./error.jl:163",
      " [2] get_mod(pert_flag::Int64)",
      "   @ Main ./In[4]:12",
      " [3] top-level scope",
      "   @ In[6]:1",
      " [4] eval",
      "   @ ./boot.jl:373 [inlined]",
      " [5] include_string(mapexpr::typeof(REPL.softscope), mod::Module, code::String, filename::String)",
      "   @ Base ./loading.jl:1196"
     ]
    }
   ],
   "source": [
    "medium_pert_plot=get_mod(1)\n",
    "\n",
    "ageom2=AGeom(medium0.mgrid,:xwell, SSrcs(nss), Recs(100)); # load a simple acquisition using `mgrid` of the medium\n",
    "rad=rand(Uniform(800,1000),nss)\n",
    "theta=rand(Uniform(0,2*pi),nss)\n",
    "GeoPhyInv.update!(ageom2, Recs(100), [0,0], 600, [0, 2*pi] )\n",
    "for is in 1:nss\n",
    "\tGeoPhyInv.update!(ageom2[is], Srcs(1), [0,0], rad[is], fill(theta[is],2))\n",
    "end\n",
    "p1=heatmap(medium_pert_plot)\n",
    "scatter!(p1,ageom2, Recs())\n",
    "scatter!(p1,ageom2, SSrcs())\n",
    "p2=heatmap(medium0)\n",
    "scatter!(p2,ageom, Recs())\n",
    "scatter!(p2,ageom, SSrcs())\n",
    "plot(p2,p1, size=(1200,500))\n"
   ]
  },
  {
   "cell_type": "code",
   "execution_count": 7,
   "metadata": {},
   "outputs": [
    {
     "ename": "LoadError",
     "evalue": "UndefVarError: heatmap not defined",
     "output_type": "error",
     "traceback": [
      "UndefVarError: heatmap not defined",
      "",
      "Stacktrace:",
      " [1] top-level scope",
      "   @ In[7]:1",
      " [2] eval",
      "   @ ./boot.jl:373 [inlined]",
      " [3] include_string(mapexpr::typeof(REPL.softscope), mod::Module, code::String, filename::String)",
      "   @ Base ./loading.jl:1196"
     ]
    }
   ],
   "source": [
    "p1=heatmap(medium0, xaxis=nothing,yaxis=nothing,xlabel=\"\", ylabel=\"\", title=\"\",colorbar=nothing, c=:viridis, size=(1000,1000))\n",
    "savefig(p1,\"vp_baseline.png\")\n",
    "p2=heatmap(medium_pert_plot, xaxis=nothing,yaxis=nothing,xlabel=\"\", ylabel=\"\", title=\"\",colorbar=nothing, c=:viridis, size=(1000,1000))\n",
    "savefig(p2,\"vp_monitor.png\")"
   ]
  },
  {
   "cell_type": "code",
   "execution_count": 8,
   "metadata": {},
   "outputs": [
    {
     "data": {
      "text/plain": [
       "generate_and_store_data (generic function with 1 method)"
      ]
     },
     "execution_count": 8,
     "metadata": {},
     "output_type": "execute_result"
    }
   ],
   "source": [
    "function generate_and_store_data(pert_flag, rad, theta, wav, name)\n",
    "\t# GeoPhyInv.update!(medium, [:vp,:rh)o], randn_perc=5); # add some random noise to the medium\n",
    "\t# rad=rand(Uniform(800,1000))\n",
    "\t# theta=rand(Uniform(0,2*pi))\n",
    "\tmedium=get_mod(pert_flag)\n",
    "\tGeoPhyInv.update!(pa,medium)\n",
    "\tfor is in 1:nss\n",
    "\t\tGeoPhyInv.update!(ageom[is], Srcs(1), [0,0], rad[is], fill(theta[is],2))\n",
    "\tend\n",
    "\n",
    "\tGeoPhyInv.update!(pa,ageom)\n",
    "\n",
    "\t# p1=heatmap(medium, :vp)\n",
    "\t# scatter!(ageom, SSrcs())\n",
    "\t# scatter!(ageom, Recs())\n",
    "\t# plot(p1)\n",
    "\t# tgrid = range(0.0,stop=2.0,length=2000); # generate a time grid\n",
    "\t# wav = ormsby(10.0, tgrid, tpeak=0.25,); # ricker wavelet\n",
    "\tfor is in 1:nss\n",
    "\t\twavv=view(wav,:,is)\n",
    "\t\tGeoPhyInv.update!(srcwav[is], [:p], wavv);\n",
    "\tend\n",
    "\tGeoPhyInv.update!(pa, srcwav)\n",
    "\n",
    "\tGeoPhyInv.initialize!(pa.c)\n",
    "\tGeoPhyInv.update!(pa);\n",
    "\n",
    "\tfor is in 1:nss\n",
    "\t\t# resampling\n",
    "\t\tdata=pa[:data,is][:p]\n",
    "\t\tdatanew=zeros(250,100)\n",
    "\t\tfor i in 1:size(data,2)\n",
    "\t\t\td=view(data,:,i)\n",
    "\t\t\tdd=view(datanew,:,i)\n",
    "\t\t\tddd=resample(d,0.25)\n",
    "\t\t\tcopyto!(dd,ddd)\n",
    "\t\tend\n",
    "\t\tdatanew=datanew[51:210,:]\n",
    "\t\tds=size(datanew)\n",
    "\t\td=vec(datanew)\n",
    "\t\trescale!(d)\n",
    "\t\tdatanew=Float32.(reshape(d,ds...))\n",
    "\t\t# println(size(datanew))\n",
    "\t\t# return datanew\n",
    "\t\th5open(string(name,\".h5\"),isfile(string(name,\".h5\")) ? \"r+\" : \"w\") do file\n",
    "\t\t\tg=create_group(file, string(randn()))\n",
    "\t\t\tg[\"data\"] = datanew\n",
    "\t\t\t# g[\"wav\"] = wav[:,is]\n",
    "\t\t\tg[\"rad\"] = rad[is] \n",
    "\t\t\tg[\"angle\"] = theta[is]\n",
    "\t\t\tg[\"medium\"] = pert_flag\n",
    "\t\tend\n",
    "\tend\n",
    "end"
   ]
  },
  {
   "cell_type": "code",
   "execution_count": 9,
   "metadata": {},
   "outputs": [
    {
     "ename": "LoadError",
     "evalue": "UndefVarError: wav not defined",
     "output_type": "error",
     "traceback": [
      "UndefVarError: wav not defined",
      "",
      "Stacktrace:",
      " [1] top-level scope",
      "   @ In[9]:2",
      " [2] eval",
      "   @ ./boot.jl:373 [inlined]",
      " [3] include_string(mapexpr::typeof(REPL.softscope), mod::Module, code::String, filename::String)",
      "   @ Base ./loading.jl:1196"
     ]
    }
   ],
   "source": [
    "\n",
    "\t\tGeoPhyInv.Utils.findfreq(wav,tgrid), inv(step(tgrid)), inv(step(tgrid))*0.25*0.5\n",
    "    "
   ]
  },
  {
   "cell_type": "code",
   "execution_count": 10,
   "metadata": {},
   "outputs": [
    {
     "ename": "LoadError",
     "evalue": "LoadError: UndefVarError: @showprogress not defined\nin expression starting at In[10]:1",
     "output_type": "error",
     "traceback": [
      "LoadError: UndefVarError: @showprogress not defined\nin expression starting at In[10]:1",
      "",
      "Stacktrace:",
      " [1] top-level scope",
      "   @ :0",
      " [2] eval",
      "   @ ./boot.jl:373 [inlined]",
      " [3] include_string(mapexpr::typeof(REPL.softscope), mod::Module, code::String, filename::String)",
      "   @ Base ./loading.jl:1196"
     ]
    }
   ],
   "source": [
    "@showprogress for isamp in 1:500\n",
    "\tmed=sample([0,1])\n",
    "\trad=rand(Uniform(800,1000),nss)\n",
    "\ttheta=rand(Uniform(0,2*pi),nss)\n",
    "    wavv=[]\n",
    "    for is in 1:nss\n",
    "        a=randn(nts)\n",
    "        wav=DSP.conv(a,w)[1:length(tgrid)]\n",
    "        push!(wavv,wav)\n",
    "    end\n",
    "    wav=hcat(wavv...)\n",
    "\tgenerate_and_store_data(med, rad, theta, wav, \"train_data\")\n",
    "end"
   ]
  },
  {
   "cell_type": "code",
   "execution_count": 11,
   "metadata": {},
   "outputs": [
    {
     "ename": "LoadError",
     "evalue": "UndefVarError: sample not defined",
     "output_type": "error",
     "traceback": [
      "UndefVarError: sample not defined",
      "",
      "Stacktrace:",
      " [1] top-level scope",
      "   @ In[11]:2",
      " [2] eval",
      "   @ ./boot.jl:373 [inlined]",
      " [3] include_string(mapexpr::typeof(REPL.softscope), mod::Module, code::String, filename::String)",
      "   @ Base ./loading.jl:1196"
     ]
    }
   ],
   "source": [
    "\n",
    "\tprint(sample([1,2]))"
   ]
  },
  {
   "cell_type": "code",
   "execution_count": 12,
   "metadata": {},
   "outputs": [
    {
     "ename": "LoadError",
     "evalue": "UndefVarError: Random not defined",
     "output_type": "error",
     "traceback": [
      "UndefVarError: Random not defined",
      "",
      "Stacktrace:",
      " [1] top-level scope",
      "   @ In[12]:4",
      " [2] eval",
      "   @ ./boot.jl:373 [inlined]",
      " [3] include_string(mapexpr::typeof(REPL.softscope), mod::Module, code::String, filename::String)",
      "   @ Base ./loading.jl:1196"
     ]
    }
   ],
   "source": [
    "# Xotest=zeros(Float32,1,200,100,20,2)\n",
    "# @showprogress for itau in 1:20\n",
    "# @showprogress for isamp in 1:10\n",
    "    Random.seed!(1234);\n",
    "    rad=vcat(fill(900,4),rand(Uniform(800,1000),nss-4))\n",
    "    theta=vcat([pi/4,3*pi/4,5*pi/4,7*pi/4],rand(Uniform(0,2*pi),nss-4))\n",
    "    # rad=rand(Uniform(800,1000),nss)\n",
    "    # theta=rand(Uniform(0,2*pi),nss)\n",
    "    wavv=[]\n",
    "    for is in 1:nss\n",
    "        a=randn(nts)\n",
    "        wav=DSP.conv(a,w)[1:length(tgrid)]\n",
    "        push!(wavv,wav)\n",
    "    end\n",
    "    wav=hcat(wavv...)\n",
    "    for med in 0:1\n",
    "        name=string(\"test\",med,\"data\")\n",
    "        rm(string(name,\".h5\"), force=true)\n",
    "        generate_and_store_data(med, rad, theta, wav, string(\"test\",med,\"data\"))\n",
    "        # dd=view(Xotest,:,:,:,itau,icontent+1)\n",
    "        # copyto!(dd,d)\n",
    "    end\n",
    "# end\n",
    "\n",
    "# end"
   ]
  },
  {
   "cell_type": "code",
   "execution_count": 13,
   "metadata": {},
   "outputs": [
    {
     "ename": "LoadError",
     "evalue": "UndefVarError: h5open not defined",
     "output_type": "error",
     "traceback": [
      "UndefVarError: h5open not defined",
      "",
      "Stacktrace:",
      " [1] top-level scope",
      "   @ In[13]:4",
      " [2] eval",
      "   @ ./boot.jl:373 [inlined]",
      " [3] include_string(mapexpr::typeof(REPL.softscope), mod::Module, code::String, filename::String)",
      "   @ Base ./loading.jl:1196"
     ]
    }
   ],
   "source": [
    "d=[]\n",
    "rads1=[]\n",
    "angles1=[]\n",
    "h5open(string(\"test0data.h5\"),\"r\") do file\n",
    "    for f in file\n",
    "        push!(d,Array(f[\"data\"]))\n",
    "        push!(rads1,Array(f[\"rad\"]))\n",
    "        push!(angles1,Array(f[\"angle\"]))\n",
    "    end\n",
    "end\n",
    "I0=[findall(x->x==k,angles1)[1] for k in [pi/4,3pi/4,5pi/4,7pi/4]]\n",
    "I=sortperm(rads1)\n",
    "data0=cat(d...,dims=3)\n",
    "data0=data0[:,:,vcat(I0,filter!(a->a ∉ I0,I))]\n",
    "\n",
    "\n",
    "d=[]\n",
    "rads2=[]\n",
    "angles2=[]\n",
    "h5open(string(\"test1data.h5\"),\"r\") do file\n",
    "    for f in file\n",
    "        push!(d,Array(f[\"data\"]))\n",
    "        push!(rads2,Array(f[\"rad\"]))\n",
    "        push!(angles2,Array(f[\"angle\"]))\n",
    "    end\n",
    "end\n",
    "I0=[findall(x->x==k,angles2)[1] for k in [pi/4,3pi/4,5pi/4,7pi/4]]\n",
    "data1=cat(d...,dims=3)\n",
    "I=sortperm(rads2)\n",
    "data1=data1[:,:,vcat(I0,filter!(a->a ∉ I0,I))]\n",
    "Xotest=cat(reshape(data0,160,100,20,:), reshape(data1,160,100,20,:), dims=4)\n",
    "# Xotest=cat(data0,data1,dims=4)\n",
    "# Xotest=cat(Xotest, dims=5);"
   ]
  },
  {
   "cell_type": "code",
   "execution_count": 14,
   "metadata": {},
   "outputs": [
    {
     "ename": "LoadError",
     "evalue": "UndefVarError: Xotest not defined",
     "output_type": "error",
     "traceback": [
      "UndefVarError: Xotest not defined",
      "",
      "Stacktrace:",
      " [1] (::var\"#5#6\")(::Tuple{Int64, Int64})",
      "   @ Main ./none:0",
      " [2] iterate",
      "   @ ./generator.jl:47 [inlined]",
      " [3] collect(itr::Base.Generator{Base.Iterators.ProductIterator{Tuple{UnitRange{Int64}, UnitRange{Int64}}}, var\"#5#6\"})",
      "   @ Base ./array.jl:724",
      " [4] top-level scope",
      "   @ In[14]:1",
      " [5] eval",
      "   @ ./boot.jl:373 [inlined]",
      " [6] include_string(mapexpr::typeof(REPL.softscope), mod::Module, code::String, filename::String)",
      "   @ Base ./loading.jl:1196"
     ]
    }
   ],
   "source": [
    "plot([heatmap(Xotest[:,:,j,i]) for i in 1:2, j in 1:5]..., layout=(5,2),size=(1000,1500))"
   ]
  },
  {
   "cell_type": "code",
   "execution_count": 15,
   "metadata": {},
   "outputs": [
    {
     "ename": "LoadError",
     "evalue": "UndefVarError: Xotest not defined",
     "output_type": "error",
     "traceback": [
      "UndefVarError: Xotest not defined",
      "",
      "Stacktrace:",
      " [1] top-level scope",
      "   @ In[15]:1",
      " [2] eval",
      "   @ ./boot.jl:373 [inlined]",
      " [3] include_string(mapexpr::typeof(REPL.softscope), mod::Module, code::String, filename::String)",
      "   @ Base ./loading.jl:1196"
     ]
    }
   ],
   "source": [
    "Xotest=reshape(Xotest, 1,size(Xotest)...);\n",
    "\n",
    "h5open(string(\"../test2seismicTL_circular2.h5\"),\"w\") do file\n",
    "    file[\"data\"]=Float32.(Xotest)\n",
    "end"
   ]
  }
 ],
 "metadata": {
  "kernelspec": {
   "display_name": "Julia 1.7.3",
   "language": "julia",
   "name": "julia-1.7"
  },
  "language_info": {
   "file_extension": ".jl",
   "mimetype": "application/julia",
   "name": "julia",
   "version": "1.7.3"
  }
 },
 "nbformat": 4,
 "nbformat_minor": 4
}
