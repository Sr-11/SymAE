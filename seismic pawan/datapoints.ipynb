{
 "cells": [
  {
   "cell_type": "code",
   "execution_count": null,
   "metadata": {},
   "outputs": [],
   "source": [
    "import os, sys, time, glob, io, pprint, re, shutil\n",
    "import numpy as np\n",
    "from sklearn.metrics.pairwise import euclidean_distances\n",
    "import random\n",
    "import json\n",
    "\n",
    "import matplotlib.pyplot as plt\n",
    "import h5py\n",
    "import pandas as pd\n",
    "from datetime import datetime\n",
    "\n",
    "from scipy import signal\n",
    "from scipy import sparse\n",
    "from sklearn.metrics import mean_squared_error\n",
    "from sklearn.model_selection import train_test_split"
   ]
  },
  {
   "cell_type": "code",
   "execution_count": null,
   "metadata": {},
   "outputs": [],
   "source": [
    "train_data=h5py.File(\"train_data.h5\", 'r')\n",
    "\n",
    "train_dicts={}\n",
    "test_dicts={}\n",
    "for i in range(2):\n",
    "    a=[value for (key,value) in train_data.items() if np.array(value[\"medium\"]) == i]\n",
    "    train_dicts[i], test_dicts[i]=train_test_split(a, test_size=0.1, shuffle=True)\n",
    "    print(\"number of (train, test) instances in medium \"+str(i)+\"\\t\"+str(len(train_dicts[i])),\",\"+str(len(test_dicts[i])))\n",
    "# dattest=h5py.File(fnametest+\".h5\", 'r')\n",
    "# Xo_train=np.array(dat[\"data\"])\n"
   ]
  },
  {
   "cell_type": "code",
   "execution_count": null,
   "metadata": {},
   "outputs": [],
   "source": [
    "nsamp=6000\n",
    "ntau=20\n",
    "Xo=np.zeros([nsamp,ntau,100,160,1], np.float32)\n",
    "Xolabels=[ dict() for ii in range(nsamp)]\n",
    "\n",
    "for ii in range(nsamp):\n",
    "    skey=random.choice(range(2))\n",
    "\n",
    "    ln = train_dicts[skey]\n",
    "        \n",
    "    for kk in range(ntau):\n",
    "        jj=random.randint(0,len(ln)-1)\n",
    "        # ln=list(newDict.items())\n",
    "        Xo[ii,kk,:,:,0]=ln[jj][\"data\"]\n",
    "        Xolabels[ii][kk]={'medium' : int(np.array(ln[jj][\"medium\"]))}\n",
    "with open('../seismicTL_circular2.json', 'w') as outfile:\n",
    "    json.dump(Xolabels, outfile)\n",
    "hf = h5py.File('../seismicTL_circular2.h5', 'w')\n",
    "hf.create_dataset('data', data=Xo)\n",
    "hf.close()"
   ]
  },
  {
   "cell_type": "code",
   "execution_count": null,
   "metadata": {},
   "outputs": [],
   "source": [
    "nsamp=100\n",
    "ntau=20\n",
    "Xo=np.zeros([nsamp,ntau,100,160,1], np.float32)\n",
    "Xolabels=[ dict() for ii in range(nsamp)]\n",
    "\n",
    "for ii in range(nsamp):\n",
    "    skey=random.choice(range(2))\n",
    "\n",
    "    ln = test_dicts[skey]\n",
    "        \n",
    "    for kk in range(ntau):\n",
    "        jj=random.randint(0,len(ln)-1)\n",
    "        # ln=list(newDict.items())\n",
    "        Xo[ii,kk,:,:,0]=ln[jj][\"data\"]\n",
    "        Xolabels[ii][kk]={'medium' : int(np.array(ln[jj][\"medium\"]))}\n",
    "with open('../testseismicTL_circular2.json', 'w') as outfile:\n",
    "    json.dump(Xolabels, outfile)\n",
    "hf = h5py.File('../testseismicTL_circular2.h5', 'w')\n",
    "hf.create_dataset('data', data=Xo)\n",
    "hf.close()"
   ]
  },
  {
   "cell_type": "code",
   "execution_count": null,
   "metadata": {},
   "outputs": [],
   "source": [
    "import matplotlib.pyplot as plt\n",
    "\n",
    "plt.imshow(Xo[random.randint(0,nsamp),0,:,:,0])"
   ]
  },
  {
   "cell_type": "code",
   "execution_count": null,
   "metadata": {},
   "outputs": [],
   "source": [
    "train_data"
   ]
  },
  {
   "cell_type": "code",
   "execution_count": null,
   "metadata": {},
   "outputs": [],
   "source": []
  }
 ],
 "metadata": {
  "kernelspec": {
   "display_name": "Python 3 (ipykernel)",
   "language": "python",
   "name": "python3"
  },
  "language_info": {
   "codemirror_mode": {
    "name": "ipython",
    "version": 3
   },
   "file_extension": ".py",
   "mimetype": "text/x-python",
   "name": "python",
   "nbconvert_exporter": "python",
   "pygments_lexer": "ipython3",
   "version": "3.9.12"
  }
 },
 "nbformat": 4,
 "nbformat_minor": 4
}
