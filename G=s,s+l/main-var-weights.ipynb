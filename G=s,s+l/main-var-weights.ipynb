{
 "cells": [
  {
   "cell_type": "markdown",
   "id": "653c0a99-d178-4121-b9ce-ede762fdd228",
   "metadata": {
    "tags": []
   },
   "source": [
    "# Rank-1 Introduction"
   ]
  },
  {
   "cell_type": "markdown",
   "id": "be705430-ca48-4b06-b2e7-e45f376e4c1b",
   "metadata": {
    "tags": []
   },
   "source": [
    "# Import packages"
   ]
  },
  {
   "cell_type": "code",
   "execution_count": 1,
   "id": "79464c78-90d9-4773-9e3b-b9e4f822c9dc",
   "metadata": {},
   "outputs": [],
   "source": [
    "import re,os\n",
    "import numpy as np\n",
    "import tensorflow as tf\n",
    "import matplotlib.pyplot as plt\n",
    "from IPython.display import clear_output\n",
    "import pandas as pd\n",
    "import math\n",
    "import random\n",
    "from tqdm import trange, tqdm\n",
    "import matplotlib.colors as mcolors\n",
    "from sklearn.decomposition import PCA\n",
    "import plotly.express as px\n",
    "import plotly.graph_objects as go\n",
    "import imageio\n",
    "from matplotlib.backends.backend_agg import FigureCanvasAgg\n",
    "from matplotlib.figure import Figure\n",
    "tfk = tf.keras\n",
    "tfkl = tf.keras.layers\n",
    "tfkltd= tf.keras.layers.TimeDistributed\n",
    "clear_output()\n",
    "os.environ[\"CUDA_VISIBLE_DEVICES\"]=\"6\""
   ]
  },
  {
   "cell_type": "code",
   "execution_count": 2,
   "id": "5a9569cb-864b-4866-b919-9cf38655a7cc",
   "metadata": {},
   "outputs": [],
   "source": [
    "p = 1\n",
    "q = 2\n",
    "w = 100"
   ]
  },
  {
   "cell_type": "markdown",
   "id": "331a3efd-bbec-4b17-9959-29a0230b8c90",
   "metadata": {
    "tags": []
   },
   "source": [
    "# Generate the Dataset"
   ]
  },
  {
   "cell_type": "markdown",
   "id": "7058abe7-f44b-4ac2-9094-e3eade1dd0b3",
   "metadata": {
    "tags": []
   },
   "source": [
    "### Set parameters"
   ]
  },
  {
   "cell_type": "code",
   "execution_count": 3,
   "id": "d22a959b-8479-4d61-87fb-018bc497ac18",
   "metadata": {},
   "outputs": [],
   "source": [
    "n1 = 10\n",
    "n2 = 20\n",
    "N = n1*n2\n",
    "states = np.arange(n1, dtype=float)\n",
    "nuisances = np.arange(n2, dtype=float)"
   ]
  },
  {
   "cell_type": "markdown",
   "id": "a71de487-0b37-4ab8-afc8-a6799c01bfd0",
   "metadata": {
    "tags": []
   },
   "source": [
    "### Generate X"
   ]
  },
  {
   "cell_type": "code",
   "execution_count": 4,
   "id": "246ee958-8cc2-44f2-a17f-e4fbcc36433c",
   "metadata": {},
   "outputs": [],
   "source": [
    "X = np.empty((N,2))\n",
    "for i in range(N):\n",
    "    #s = np.random.choice(states)\n",
    "    #l = np.random.choice(nuisances)\n",
    "    s = i//n2\n",
    "    l = i%n2\n",
    "    s = states[s]\n",
    "    l = nuisances[l]\n",
    "    X[i,0] = s    \n",
    "    X[i,1] = l+s"
   ]
  },
  {
   "cell_type": "code",
   "execution_count": 5,
   "id": "3966bf73-ef51-42a4-ac79-0f4331c3eba7",
   "metadata": {},
   "outputs": [
    {
     "data": {
      "text/plain": [
       "<matplotlib.image.AxesImage at 0x7fb44a5e7e80>"
      ]
     },
     "execution_count": 5,
     "metadata": {},
     "output_type": "execute_result"
    },
    {
     "data": {
      "image/png": "[encoded data removed]",
      "text/plain": [
       "<Figure size 1152x144 with 1 Axes>"
      ]
     },
     "metadata": {
      "needs_background": "light"
     },
     "output_type": "display_data"
    }
   ],
   "source": [
    "plt.matshow(X.T)"
   ]
  },
  {
   "cell_type": "markdown",
   "id": "d06811a0-65cb-4021-86c9-ab0a3a52f03d",
   "metadata": {
    "tags": []
   },
   "source": [
    "# Set SymAE"
   ]
  },
  {
   "cell_type": "markdown",
   "id": "690debcf-bcae-47ea-9dae-78cc7ab90105",
   "metadata": {
    "tags": []
   },
   "source": [
    "### Set CENc, NEnc, Dec"
   ]
  },
  {
   "cell_type": "code",
   "execution_count": 6,
   "id": "28f9da29-6361-42d5-be5e-ca01ba728a42",
   "metadata": {},
   "outputs": [],
   "source": [
    "class CEnc(tf.keras.Model):\n",
    "    def __init__(self, p, w):\n",
    "        super(CEnc, self).__init__(name='sym_encoder')\n",
    "    def call(self, x):\n",
    "        return x[:,0:1]\n",
    "    \n",
    "# 你是在让 nuisance encoder 记住states\n",
    "class NEnc(tf.keras.Model):\n",
    "    def __init__(self, q, w):\n",
    "        super(NEnc, self).__init__(name='nui_encoder')\n",
    "        self.d1=tfkl.Dense(1, use_bias=False,\n",
    "                           kernel_initializer='zeros')\n",
    "        self.r1 = tf.keras.layers.RepeatVector(2)\n",
    "        self.f1 = tf.keras.layers.Flatten()\n",
    "    def call(self, x):\n",
    "        x=self.d1(x)\n",
    "        #x=tf.reduce_sum(x, axis=-1, keepdims=True)\n",
    "        x=self.r1(x)\n",
    "        x=self.f1(x)\n",
    "        return x\n",
    "    \n",
    "class Dec(tf.keras.Model):\n",
    "    def __init__(self, w):\n",
    "        super(Dec, self).__init__(name='dec')\n",
    "        self.d1=tfkl.Dense(w, activation='relu', use_bias=False)#tf.keras.layers.LeakyReLU())\n",
    "        self.d2=tfkl.Dense(1, use_bias=False)\n",
    "    def call(self, x):\n",
    "        x=self.d1(x)\n",
    "        #x=self.d2(x)\n",
    "        x=tf.reduce_sum(x, axis=-1, keepdims=True)/10\n",
    "        return x"
   ]
  },
  {
   "cell_type": "markdown",
   "id": "3e42028c-b175-4484-a10b-595e0f575c01",
   "metadata": {
    "tags": []
   },
   "source": [
    "### Dropout"
   ]
  },
  {
   "cell_type": "code",
   "execution_count": 7,
   "id": "b424056b-e527-4be5-ac3c-ca46107d3d85",
   "metadata": {},
   "outputs": [],
   "source": [
    "class LatentCat(tf.keras.Model):\n",
    "    def __init__(self):\n",
    "        super(LatentCat, self).__init__(name='latentcat')\n",
    "    def call(self, zsym, znui, mask=[1,1]):\n",
    "        znui = znui*mask\n",
    "        z = tfkl.concatenate([zsym, znui])\n",
    "        return z"
   ]
  },
  {
   "cell_type": "markdown",
   "id": "a71e81c4-51e1-4626-aa1d-5584e59e2cc5",
   "metadata": {
    "tags": []
   },
   "source": [
    "### model"
   ]
  },
  {
   "cell_type": "code",
   "execution_count": 8,
   "id": "565f6d94-06b3-476a-8898-0b22d2d93401",
   "metadata": {},
   "outputs": [],
   "source": [
    "class SymAE(tf.keras.Model):\n",
    "    def __init__(self, p, q, w): \n",
    "        super(SymAE, self).__init__()\n",
    "        # Build symmetric encoder\n",
    "        sym_encoder = CEnc(p, w)\n",
    "        self.sym_encoder=sym_encoder\n",
    "        \n",
    "        # Build nuisance encoder\n",
    "        nui_encoder = NEnc(q, w)\n",
    "        self.nui_encoder = nui_encoder\n",
    "        \n",
    "        #Build latentcat\n",
    "        latentcat = LatentCat()\n",
    "        self.latentcat = latentcat  \n",
    "        \n",
    "        #Build dec in decoder\n",
    "        dec = Dec(w)\n",
    "        self.dec = dec\n",
    "        \n",
    "        # Build encoder\n",
    "        encoder_input = tfk.Input(shape=(2), dtype='float32', name='encoder_input')\n",
    "        znui = nui_encoder(encoder_input); zsym = sym_encoder(encoder_input)\n",
    "        encoder_output = latentcat(zsym, znui)\n",
    "        encoder = tfk.Model(encoder_input, encoder_output, name=\"encoder\")\n",
    "        self.encoder=encoder\n",
    "        \n",
    "        # Build decoder\n",
    "        decoder_input = tfk.Input(shape=(1+q), name='latentcode')\n",
    "        decoder_output = dec(decoder_input)\n",
    "        decoder=tfk.Model(decoder_input,decoder_output, name=\"decoder\") \n",
    "        self.decoder=decoder\n",
    "        \n",
    "    def call(self, x, mask=[1,1]):\n",
    "        zsym = self.sym_encoder(x)\n",
    "        znui = self.nui_encoder(x)\n",
    "        z = self.latentcat(zsym, znui, mask)\n",
    "        x_hat = self.dec(z)\n",
    "        return x_hat\n",
    "    \n",
    "    def redatum(self, X1, X2):\n",
    "        return model.decoder(\n",
    "            model.latentcat(\n",
    "                model.sym_encoder(X1), \n",
    "                model.nui_encoder(X2)))"
   ]
  },
  {
   "cell_type": "code",
   "execution_count": null,
   "id": "f4e0de16-70cf-4fe6-90c4-dd797471d9b5",
   "metadata": {},
   "outputs": [],
   "source": []
  },
  {
   "cell_type": "markdown",
   "id": "ef994434-2a26-48a6-9afe-fdfd50d78eea",
   "metadata": {
    "tags": []
   },
   "source": [
    "### Initialize SymAE"
   ]
  },
  {
   "cell_type": "code",
   "execution_count": 9,
   "id": "34b2d7ce-0130-4236-a618-1bf22b325251",
   "metadata": {},
   "outputs": [],
   "source": [
    "model = SymAE(p,q,w)\n",
    "# Please directly modify My_Dropout to change dropout rate\n",
    "path = './p=%d,q=%d,w=%d'%(p,q,w)\n",
    "clear_output()"
   ]
  },
  {
   "cell_type": "code",
   "execution_count": 10,
   "id": "6f72a76f-04d2-4280-bfd6-dcfca905f782",
   "metadata": {},
   "outputs": [
    {
     "name": "stdout",
     "output_type": "stream",
     "text": [
      "weight exists\n"
     ]
    }
   ],
   "source": [
    "try:\n",
    "    #model.load_weights(path+'/checkpoint')\n",
    "    print(\"weight exists\")\n",
    "except:\n",
    "    print(\"weight doesn't exist\")"
   ]
  },
  {
   "cell_type": "markdown",
   "id": "6a81f827-25f5-4801-9ae7-2b81e857c0eb",
   "metadata": {
    "tags": []
   },
   "source": [
    "\n",
    "### Select optimizer"
   ]
  },
  {
   "cell_type": "code",
   "execution_count": 11,
   "id": "c25761b5-cfc5-4881-b4ae-7f6c3cab9a25",
   "metadata": {},
   "outputs": [],
   "source": [
    "mse = tf.keras.losses.MeanSquaredError()\n",
    "optimizer = tf.keras.optimizers.Adam(learning_rate=0.001)\n",
    "clear_output()"
   ]
  },
  {
   "cell_type": "markdown",
   "id": "291f5d0d-d0f3-461f-990f-6dc418e0348c",
   "metadata": {},
   "source": [
    "# Train"
   ]
  },
  {
   "cell_type": "markdown",
   "id": "807b82d3-85bc-4923-af21-62e549e5a5d1",
   "metadata": {},
   "source": [
    "### Define loss"
   ]
  },
  {
   "cell_type": "code",
   "execution_count": 12,
   "id": "ad610d5b-e413-4d4f-b169-1c5375611e1e",
   "metadata": {},
   "outputs": [],
   "source": [
    "X1 = np.empty((N,2))\n",
    "X2 = np.empty((N,2))\n",
    "for i in range(N):\n",
    "    X1[i,0] = np.random.choice(states)    \n",
    "    X1[i,1] = np.random.choice(nuisances)\n",
    "    X2[i,0] = np.random.choice(states)    \n",
    "    X2[i,1] = np.random.choice(nuisances)\n",
    "def redatum_loss():\n",
    "    redata = model.redatum(X1,X2)\n",
    "    origin = np.empty((N,2))\n",
    "    origin[:,0] = X1[:,0]\n",
    "    origin[:,1] = X2[:,1]\n",
    "    return mse(redata, origin[:,1:2])\n",
    "\n",
    "def loss_rec(model, x):\n",
    "    x_hat_1 = model(x, mask=[1,1])\n",
    "    x_hat_2 = model(x, mask=[0,1])\n",
    "    x_hat_3 = model(x, mask=[1,0])\n",
    "    y = x[:,1]\n",
    "    return mse(y, x_hat_1) + mse(y, x_hat_2) + mse(y, x_hat_3)"
   ]
  },
  {
   "cell_type": "markdown",
   "id": "f80a2fe8-450e-47c9-9771-4429fd75977b",
   "metadata": {},
   "source": [
    "### Train"
   ]
  },
  {
   "cell_type": "code",
   "execution_count": 13,
   "id": "2c87df0c-fd04-44e6-9ab3-ed49f371adbe",
   "metadata": {},
   "outputs": [],
   "source": [
    "my_list = []\n",
    "for a in np.arange(0.4,1,0.1):\n",
    "    for b in np.arange(-1,1,0.1):\n",
    "            my_list.append((a,b))\n",
    "storage = []"
   ]
  },
  {
   "cell_type": "code",
   "execution_count": 14,
   "id": "007d5574-bc6d-496e-8834-6e94ddfa66f8",
   "metadata": {},
   "outputs": [],
   "source": [
    "#my_list = [(1.0, 0.0)]\n",
    "storage = []"
   ]
  },
  {
   "cell_type": "code",
   "execution_count": 15,
   "id": "e4a7bf4f-6256-4d9d-81e7-b66a4736e521",
   "metadata": {},
   "outputs": [
    {
     "name": "stdout",
     "output_type": "stream",
     "text": [
      "0.8999999999999999 0.8999999999999995 1465\n"
     ]
    },
    {
     "ename": "FileNotFoundError",
     "evalue": "[Errno 2] No such file or directory: './p=1,q=2,w=100/no_new_a=0.9,b=0.9.npy'",
     "output_type": "error",
     "traceback": [
      "\u001b[0;31m---------------------------------------------------------------------------\u001b[0m",
      "\u001b[0;31mFileNotFoundError\u001b[0m                         Traceback (most recent call last)",
      "Input \u001b[0;32mIn [15]\u001b[0m, in \u001b[0;36m<cell line: 1>\u001b[0;34m()\u001b[0m\n\u001b[1;32m     40\u001b[0m W \u001b[38;5;241m=\u001b[39m model\u001b[38;5;241m.\u001b[39mget_weights()[\u001b[38;5;241m0\u001b[39m]\n\u001b[1;32m     41\u001b[0m \u001b[38;5;66;03m#V = model.get_weights()[1]\u001b[39;00m\n\u001b[0;32m---> 42\u001b[0m \u001b[43mnp\u001b[49m\u001b[38;5;241;43m.\u001b[39;49m\u001b[43msave\u001b[49m\u001b[43m(\u001b[49m\u001b[43mpath\u001b[49m\u001b[38;5;241;43m+\u001b[39;49m\u001b[38;5;124;43m'\u001b[39;49m\u001b[38;5;124;43m/no_new_a=\u001b[39;49m\u001b[38;5;132;43;01m%.1f\u001b[39;49;00m\u001b[38;5;124;43m,b=\u001b[39;49m\u001b[38;5;132;43;01m%.1f\u001b[39;49;00m\u001b[38;5;124;43m'\u001b[39;49m\u001b[38;5;241;43m%\u001b[39;49m\u001b[43m(\u001b[49m\u001b[43ma\u001b[49m\u001b[43m,\u001b[49m\u001b[43mb\u001b[49m\u001b[43m)\u001b[49m\u001b[43m,\u001b[49m\u001b[43m \u001b[49m\u001b[43mW\u001b[49m\u001b[43m)\u001b[49m\n\u001b[1;32m     43\u001b[0m storage\u001b[38;5;241m.\u001b[39mappend([a,b,W[\u001b[38;5;241m0\u001b[39m],W[\u001b[38;5;241m1\u001b[39m],loss])\n\u001b[1;32m     44\u001b[0m \u001b[38;5;66;03m# path = './p=%d,q=%d,w=%d/a=%.1f,b=%.1f'%(p,q,w,W[0],W[1])\u001b[39;00m\n\u001b[1;32m     45\u001b[0m \u001b[38;5;66;03m# try:\u001b[39;00m\n\u001b[1;32m     46\u001b[0m \u001b[38;5;66;03m#     os.mkdir(path)\u001b[39;00m\n\u001b[0;32m   (...)\u001b[0m\n\u001b[1;32m     49\u001b[0m \u001b[38;5;66;03m# np.save(path+'/W', W)\u001b[39;00m\n\u001b[1;32m     50\u001b[0m \u001b[38;5;66;03m# np.save(path+'/V', V)\u001b[39;00m\n",
      "File \u001b[0;32m<__array_function__ internals>:180\u001b[0m, in \u001b[0;36msave\u001b[0;34m(*args, **kwargs)\u001b[0m\n",
      "File \u001b[0;32m~/software/anaconda/envs/MRA/lib/python3.9/site-packages/numpy/lib/npyio.py:515\u001b[0m, in \u001b[0;36msave\u001b[0;34m(file, arr, allow_pickle, fix_imports)\u001b[0m\n\u001b[1;32m    513\u001b[0m     \u001b[38;5;28;01mif\u001b[39;00m \u001b[38;5;129;01mnot\u001b[39;00m file\u001b[38;5;241m.\u001b[39mendswith(\u001b[38;5;124m'\u001b[39m\u001b[38;5;124m.npy\u001b[39m\u001b[38;5;124m'\u001b[39m):\n\u001b[1;32m    514\u001b[0m         file \u001b[38;5;241m=\u001b[39m file \u001b[38;5;241m+\u001b[39m \u001b[38;5;124m'\u001b[39m\u001b[38;5;124m.npy\u001b[39m\u001b[38;5;124m'\u001b[39m\n\u001b[0;32m--> 515\u001b[0m     file_ctx \u001b[38;5;241m=\u001b[39m \u001b[38;5;28;43mopen\u001b[39;49m\u001b[43m(\u001b[49m\u001b[43mfile\u001b[49m\u001b[43m,\u001b[49m\u001b[43m \u001b[49m\u001b[38;5;124;43m\"\u001b[39;49m\u001b[38;5;124;43mwb\u001b[39;49m\u001b[38;5;124;43m\"\u001b[39;49m\u001b[43m)\u001b[49m\n\u001b[1;32m    517\u001b[0m \u001b[38;5;28;01mwith\u001b[39;00m file_ctx \u001b[38;5;28;01mas\u001b[39;00m fid:\n\u001b[1;32m    518\u001b[0m     arr \u001b[38;5;241m=\u001b[39m np\u001b[38;5;241m.\u001b[39masanyarray(arr)\n",
      "\u001b[0;31mFileNotFoundError\u001b[0m: [Errno 2] No such file or directory: './p=1,q=2,w=100/no_new_a=0.9,b=0.9.npy'"
     ]
    }
   ],
   "source": [
    "for a,b in my_list[::-1]:\n",
    "    model = SymAE(p,q,w)\n",
    "    model.nui_encoder.d1.trainable = True    \n",
    "    def loss_rec(model, x):\n",
    "        x_hat_1 = model(x, mask=[1,1])\n",
    "        x_hat_2 = model(x, mask=[0,1])\n",
    "        x_hat_3 = model(x, mask=[1,0])\n",
    "        y = x[:,1]\n",
    "        return mse(y, x_hat_1) #+ mse(y, x_hat_2) + mse(y, x_hat_3)\n",
    "    @tf.function\n",
    "    def train_step(model, X):\n",
    "        with tf.GradientTape() as tape:\n",
    "            loss = loss_rec(model, X)\n",
    "        gradients = tape.gradient(loss, model.trainable_variables)\n",
    "        optimizer.apply_gradients(zip(gradients, model.trainable_variables))\n",
    "        return loss\n",
    "    W = np.array([[a],[b]])\n",
    "    model.nui_encoder.d1.set_weights([W])\n",
    "    #try:\n",
    "    #    V = np.load('./p=%d,q=%d,w=%d/a=%.1f,b=%.1f'%(p,q,w,a,b)+'/V.npy')\n",
    "    #    model.set_weights([W, V])\n",
    "    #except:\n",
    "    #    print('new')\n",
    "    loss=0.0\n",
    "    for epoch in range(10000):\n",
    "        loss_rec = train_step(model, X)\n",
    "        loss=loss_rec.numpy()\n",
    "        clear_output(wait=True)\n",
    "        print(a,b,epoch)\n",
    "            # T = np.empty((w,3))\n",
    "            # T[:,0:3] = model.dec.d1.weights[0].numpy().T\n",
    "            # df = pd.DataFrame(T, columns=['b','c','d'])\n",
    "            # t1 = go.Scatter(x=df['c'], y=df['d'], mode='markers')\n",
    "            # fig = go.Figure(data=[t1])\n",
    "            # fig.update_layout(margin=dict(l=0, r=0, b=0, t=50))\n",
    "            # fig.update_layout(title='%f'%loss_rec)\n",
    "            # fig.show()\n",
    "        if loss_rec<0.00002:\n",
    "            break  \n",
    "    W = model.get_weights()[0]\n",
    "    #V = model.get_weights()[1]\n",
    "    np.save(path+'/no_new_a=%.1f,b=%.1f'%(a,b), W)\n",
    "    storage.append([a,b,W[0],W[1],loss])\n",
    "    # path = './p=%d,q=%d,w=%d/a=%.1f,b=%.1f'%(p,q,w,W[0],W[1])\n",
    "    # try:\n",
    "    #     os.mkdir(path)\n",
    "    # except:\n",
    "    #     None\n",
    "    # np.save(path+'/W', W)\n",
    "    # np.save(path+'/V', V)\n",
    "    print(model.nui_encoder.d1.get_weights())"
   ]
  },
  {
   "cell_type": "markdown",
   "id": "339c3ef1-6123-4d3b-8071-63c08375c3de",
   "metadata": {
    "tags": []
   },
   "source": [
    "# Contour"
   ]
  },
  {
   "cell_type": "code",
   "execution_count": null,
   "id": "b3ff7f3f-63d2-4f83-b750-e61cde2dbbd0",
   "metadata": {},
   "outputs": [],
   "source": [
    "def loss_rec1(model, x):\n",
    "    x_hat_1 = model(x, mask=[1,1])\n",
    "    x_hat_2 = model(x, mask=[0,1])\n",
    "    x_hat_3 = model(x, mask=[1,0])\n",
    "    y = x[:,1:2]\n",
    "    return mse(y, x_hat_1) + mse(y, x_hat_2) + mse(y, x_hat_3)"
   ]
  },
  {
   "cell_type": "code",
   "execution_count": null,
   "id": "73178e42-4ab5-4890-a6ba-99611847e8ad",
   "metadata": {},
   "outputs": [],
   "source": [
    "a1, b1 = 0.8, 0.4\n",
    "a2, b2 = 0.0, 0.1\n",
    "path1 = './p=%d,q=%d,w=%d/a=%.1f,b=%.1f'%(p,q,w,a1,b1)\n",
    "path2 = './p=%d,q=%d,w=%d/a=%.1f,b=%.1f'%(p,q,w,a2,b2)\n",
    "W1 = np.load(path1+'/W.npy')\n",
    "W2 = np.load(path2+'/W.npy')\n",
    "V1 = np.load(path1+'/V.npy')\n",
    "V2 = np.load(path2+'/V.npy')\n",
    "# (0,0) is a1,b1 ; (1,1) is a2,b2\n",
    "Xs = np.arange(-1,2,0.1)\n",
    "Ys = np.arange(-1,2,0.1)\n",
    "Zs = np.empty((len(Xs),len(Ys)))\n",
    "for i in trange(len(Xs)):\n",
    "    for j in range(len(Ys)):\n",
    "        W = Xs[i]*W2 + (1-Xs[i])*W1\n",
    "        V = Ys[j]*V2 + (1-Ys[j])*V1\n",
    "        model.set_weights([W, V])\n",
    "        Zs[i,j] = loss_rec1(model, X)"
   ]
  },
  {
   "cell_type": "code",
   "execution_count": null,
   "id": "c5a70e91-19fb-4760-bfe4-405836dad574",
   "metadata": {},
   "outputs": [],
   "source": [
    "levels = np.linspace(0, 200, 100)\n",
    "#levels = np.linspace(0, 1, 10)\n",
    "plt.contourf(Xs, Ys, Zs.T, levels=levels)\n",
    "plt.scatter([0,1],[0,1],linewidth=5, marker ='.', color='C3')\n",
    "plt.xlabel('W')\n",
    "plt.ylabel('V')\n",
    "plt.colorbar()"
   ]
  },
  {
   "cell_type": "markdown",
   "id": "d6ce226c-c525-41c1-97ac-7b3d5ae11ba5",
   "metadata": {
    "tags": []
   },
   "source": [
    "# PCA"
   ]
  },
  {
   "cell_type": "markdown",
   "id": "7e732d0e-7583-44b9-a405-124da1625964",
   "metadata": {},
   "source": [
    "### 5-dim gas"
   ]
  },
  {
   "cell_type": "code",
   "execution_count": null,
   "id": "99ffeaf0-4e88-4ff9-ab56-9e5fe7c917f3",
   "metadata": {},
   "outputs": [],
   "source": [
    "T = np.empty((w,3))\n",
    "T[:,0:3] = model.dec.d1.weights[0].numpy().T\n",
    "df = pd.DataFrame(T, columns=['b','c','d'])\n",
    "W = model.nui_encoder.weights[0].numpy().T"
   ]
  },
  {
   "cell_type": "code",
   "execution_count": null,
   "id": "5c04e851-77ab-459c-a562-db579096497b",
   "metadata": {},
   "outputs": [],
   "source": [
    "df = df.sort_values(by=['b'])\n",
    "df = df.reset_index(drop=True)"
   ]
  },
  {
   "cell_type": "code",
   "execution_count": null,
   "id": "6089bb92-3d4f-444b-8ba9-18916a96597e",
   "metadata": {
    "tags": []
   },
   "outputs": [],
   "source": [
    "px.scatter(df)"
   ]
  },
  {
   "cell_type": "code",
   "execution_count": null,
   "id": "14ea3d05-9adf-41a3-8883-74bf21810328",
   "metadata": {
    "tags": []
   },
   "outputs": [],
   "source": [
    "t1 = go.Scatter(x=df['c'], y=df['d'], mode='markers')\n",
    "# t2 = go.Scatter3d(x=df['a'], y=df['w1'], z=df['w2'], mode='markers')\n",
    "# t3 = go.Scatter3d(x=df['a'], y=df['w1'], z=df['w3'], mode='markers')\n",
    "fig = go.Figure(data=[t1])\n",
    "fig.update_layout(margin=dict(l=0, r=0, b=0, t=0))\n",
    "# fig.update_traces(marker={'size': 2, 'opacity':0.8})\n",
    "#fig"
   ]
  },
  {
   "cell_type": "code",
   "execution_count": null,
   "id": "748f6cbf-f26f-4f34-8636-62b39db51bba",
   "metadata": {
    "tags": []
   },
   "outputs": [],
   "source": []
  },
  {
   "cell_type": "code",
   "execution_count": null,
   "id": "4f8416a6-3df4-491e-ab78-24aaaf807705",
   "metadata": {},
   "outputs": [],
   "source": [
    "W = model.nui_encoder.weights[0].numpy().T"
   ]
  },
  {
   "cell_type": "code",
   "execution_count": null,
   "id": "88352a83-434c-430f-8210-336baaa63605",
   "metadata": {},
   "outputs": [],
   "source": [
    "W"
   ]
  },
  {
   "cell_type": "code",
   "execution_count": null,
   "id": "c59c3841-2a03-4295-83a9-75af75ab1748",
   "metadata": {},
   "outputs": [],
   "source": []
  },
  {
   "cell_type": "code",
   "execution_count": null,
   "id": "fc1c4369-3551-49b9-bb64-43b185fc8af3",
   "metadata": {},
   "outputs": [],
   "source": []
  },
  {
   "cell_type": "code",
   "execution_count": null,
   "id": "f91be62c-a068-4dcc-b082-10651c1b76cc",
   "metadata": {},
   "outputs": [],
   "source": []
  },
  {
   "cell_type": "code",
   "execution_count": null,
   "id": "9209da5c-fe26-4ff0-a094-5fb63f90d709",
   "metadata": {},
   "outputs": [],
   "source": []
  }
 ],
 "metadata": {
  "kernelspec": {
   "display_name": "Python 3 (ipykernel)",
   "language": "python",
   "name": "python3"
  },
  "language_info": {
   "codemirror_mode": {
    "name": "ipython",
    "version": 3
   },
   "file_extension": ".py",
   "mimetype": "text/x-python",
   "name": "python",
   "nbconvert_exporter": "python",
   "pygments_lexer": "ipython3",
   "version": "3.9.12"
  }
 },
 "nbformat": 4,
 "nbformat_minor": 5
}
