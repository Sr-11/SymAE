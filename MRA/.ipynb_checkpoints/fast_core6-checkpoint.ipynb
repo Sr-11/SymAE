{
 "cells": [
  {
   "cell_type": "code",
   "execution_count": null,
   "id": "a64dfd95-59cf-4dc5-a07b-403014fa140d",
   "metadata": {
    "tags": []
   },
   "outputs": [
    {
     "name": "stderr",
     "output_type": "stream",
     "text": [
      "2022-06-26 20:34:00.004865: I tensorflow/core/util/util.cc:169] oneDNN custom operations are on. You may see slightly different numerical results due to floating-point round-off errors from different computation orders. To turn them off, set the environment variable `TF_ENABLE_ONEDNN_OPTS=0`.\n"
     ]
    },
    {
     "name": "stdout",
     "output_type": "stream",
     "text": [
      "Num GPUs Available:  1\n",
      "TensorFlow Version:  2.9.1\n"
     ]
    }
   ],
   "source": [
    "import os\n",
    "os.environ[\"CUDA_VISIBLE_DEVICES\"]=\"6\"\n",
    "import numpy as np\n",
    "import tensorflow as tf\n",
    "import matplotlib.pyplot as plt\n",
    "from IPython.display import clear_output\n",
    "import pandas as pd\n",
    "import math\n",
    "from sklearn.decomposition import PCA\n",
    "import plotly.express as px\n",
    "from MRA_generate import MRA_generate\n",
    "from symae_model import SymAE\n",
    "from parameters import *\n",
    "from latent import latent\n",
    "from redatuming import redatuming\n",
    "from plot_redatuming import plot_redatuming\n",
    "def g(n,x):\n",
    "    if n==0:\n",
    "        return math.e**(-9*x**2)\n",
    "    elif n==1:\n",
    "        return int(x<0.5)\n",
    "    elif n==2:\n",
    "        if x<0.3:\n",
    "            return 3*x\n",
    "        elif x<0.6:\n",
    "            return 3*(0.6-x)\n",
    "        else:\n",
    "            return 0\n",
    "    elif n==3:\n",
    "        return math.cos(2*math.pi*x)\n",
    "    elif n==4:\n",
    "        return math.e**(-30*(x-0.5)**2)\n",
    "    else:\n",
    "        return np.inf\n",
    "fig, axs = plt.subplots(1, ne, sharex=True, sharey=True)\n",
    "for i in range(ne):\n",
    "    axs[i].plot(range(d), [g(i,x/d) for x in range(d)])\n",
    "plt.suptitle('Show the shape of all $n_\\epsilon$ = %d states'%ne)\n",
    "MRA_training = MRA_generate(d,nt,N,sigma,ne,g,replace=0)\n",
    "pca_cb = PCA(n_components=2)\n",
    "MRA_pca = MRA_generate(d,nt,1000,sigma,ne,g,replace=0)\n",
    "MRA_training.generate_default()\n",
    "MRA_pca.generate_default()\n",
    "X = MRA_training.X\n",
    "clear_output()\n",
    "N_shifts = MRA_pca.shifts.reshape(-1,1)\n",
    "N_states = np.repeat(MRA_pca.states,nt)\n",
    "image_list = []\n",
    "class CustomCallback(tf.keras.callbacks.Callback):\n",
    "    def on_epoch_end(self, epoch, logs=None):\n",
    "        print(\"For epoch {:d}, loss is {:f}.\".format(epoch, logs[\"loss\"]))\n",
    "        if epoch % 20 == 0:\n",
    "            clear_output(wait = True)\n",
    "            _,Ns = latent(model,MRA_pca)\n",
    "            N_reshaped = Ns.reshape(-1,q)\n",
    "            pca_N = N_reshaped\n",
    "            df = pd.DataFrame(pca_N, columns = ['1st','2nd'])\n",
    "            df_states = pd.DataFrame(N_states,columns=['state']).astype('object') \n",
    "            df_shifts = pd.DataFrame(N_shifts,columns=['shift'])\n",
    "            df = pd.concat([df,df_states,df_shifts],axis=1)\n",
    "            fig = px.scatter(df, x='1st', y='2nd', color='state', text='shift', title='q=%d,loss=%f'%(q,logs[\"loss\"]))\n",
    "            fig.show()\n",
    "clear_output()\n",
    "fig.show()"
   ]
  },
  {
   "cell_type": "code",
   "execution_count": null,
   "id": "3ac16f41-e627-417a-8462-5b7885091eb7",
   "metadata": {},
   "outputs": [],
   "source": [
    "model = SymAE(N,nt,d,p,q,kernel_size,filters,dropout_rate)\n",
    "model.load_weights('./checkpoint/'+'p=3,q=2')\n",
    "clear_output()"
   ]
  },
  {
   "cell_type": "code",
   "execution_count": null,
   "id": "1991b70c-6ae9-43c2-bc41-7251055642b5",
   "metadata": {},
   "outputs": [],
   "source": [
    "Adam = tf.keras.optimizers.Adam(learning_rate=0.001,beta_1=0.9,beta_2=0.999,epsilon=1e-07)\n",
    "SGD = tf.keras.optimizers.SGD(learning_rate=0.001,momentum=0.0,nesterov=False)\n",
    "model.compile(loss='mse',optimizer=Adam)\n",
    "history = model.fit(X,X,epochs=1000,verbose=0,callbacks=[CustomCallback()])"
   ]
  },
  {
   "cell_type": "code",
   "execution_count": null,
   "id": "b96e4718-a499-4624-9a8a-752408fcd9c3",
   "metadata": {},
   "outputs": [],
   "source": [
    "#model.save_weights('./checkpoint/'+'p=3,q=3,add')"
   ]
  },
  {
   "cell_type": "code",
   "execution_count": null,
   "id": "c27ccad9-8d44-43d7-bdd6-1387973fbc53",
   "metadata": {},
   "outputs": [],
   "source": [
    "def find(state,nuisance):\n",
    "    MRA_data = MRA_generate(d,nt,1,sigma,ne,g,replace=1)\n",
    "    for i in range(100):\n",
    "        MRA_data.generate_default()\n",
    "        if MRA_data.states[0] != state:\n",
    "            continue\n",
    "        for j in range(nt):\n",
    "            if MRA_data.shifts[0][j] == nuisance:\n",
    "                return MRA_data, j\n",
    "MRA1, t1 = find(1,40)\n",
    "MRA2, t2 = find(2,60)\n",
    "redatum = redatuming(model,MRA1,MRA2,t1,t2)\n",
    "clear_output()\n",
    "fig = plot_redatuming(redatum)"
   ]
  },
  {
   "cell_type": "code",
   "execution_count": null,
   "id": "0fa6a69b-48b4-4378-a7b0-1fa1ad893767",
   "metadata": {},
   "outputs": [],
   "source": [
    "dim = 3\n",
    "pca = PCA(n_components=dim)\n",
    "MRA_pca = MRA_generate(d,nt,1000,sigma,ne,g,replace=1)\n",
    "MRA_pca.generate_default()\n",
    "Cs,Ns = latent(model,MRA_pca)\n",
    "N_reshaped = Ns.reshape(-1,q)\n",
    "N_shifts = MRA_pca.shifts.reshape(-1,1)\n",
    "if dim == 3:\n",
    "    pca_N = N_reshaped\n",
    "    df = pd.DataFrame(pca_N, columns = ['1st','2nd','3rd'][0:dim])\n",
    "    df_states = pd.DataFrame(np.repeat(MRA_pca.states,nt),columns=['state']).astype('object')\n",
    "    df_shifts = pd.DataFrame(N_shifts,columns=['shift'])\n",
    "    df = pd.concat([df,df_states,df_shifts],axis=1)\n",
    "    #df = df[df['state']==0]\n",
    "    fig = px.scatter_3d(df, x='1st', y='2nd', z='3rd', color='state', text='shift')\n",
    "if dim ==2:\n",
    "    pca_N = pca.fit_transform(N_reshaped)\n",
    "    df = pd.DataFrame(pca_N, columns = ['1st','2nd','3rd'][0:dim])\n",
    "    df_states = pd.DataFrame(np.repeat(MRA_pca.states,nt),columns=['state']).astype('object')\n",
    "    df_shifts = pd.DataFrame(N_shifts,columns=['shift'])\n",
    "    df = pd.concat([df,df_states,df_shifts],axis=1)\n",
    "    fig = px.scatter(df, x='1st', y='2nd', color='state', text='shift')\n",
    "fig.show()"
   ]
  },
  {
   "cell_type": "code",
   "execution_count": null,
   "id": "26f7673c-2fb7-49e1-b9b4-bdc3a6b6c487",
   "metadata": {},
   "outputs": [],
   "source": []
  },
  {
   "cell_type": "code",
   "execution_count": null,
   "id": "51f12b72-3b57-449f-834c-b0270e170a7a",
   "metadata": {},
   "outputs": [],
   "source": []
  },
  {
   "cell_type": "code",
   "execution_count": null,
   "id": "1d5e51f5-6bdb-4364-8219-dd34eabd7604",
   "metadata": {},
   "outputs": [],
   "source": []
  },
  {
   "cell_type": "code",
   "execution_count": null,
   "id": "d6a8bdbc-5d49-44ca-b545-25fa068deb40",
   "metadata": {},
   "outputs": [],
   "source": []
  },
  {
   "cell_type": "code",
   "execution_count": null,
   "id": "71069e94-18c3-47a4-b828-93788822ba70",
   "metadata": {},
   "outputs": [],
   "source": []
  },
  {
   "cell_type": "code",
   "execution_count": null,
   "id": "e8637fbe-3ad8-4bd6-8772-b20005e90bad",
   "metadata": {},
   "outputs": [],
   "source": []
  }
 ],
 "metadata": {
  "kernelspec": {
   "display_name": "Python 3 (ipykernel)",
   "language": "python",
   "name": "python3"
  },
  "language_info": {
   "codemirror_mode": {
    "name": "ipython",
    "version": 3
   },
   "file_extension": ".py",
   "mimetype": "text/x-python",
   "name": "python",
   "nbconvert_exporter": "python",
   "pygments_lexer": "ipython3",
   "version": "3.9.12"
  }
 },
 "nbformat": 4,
 "nbformat_minor": 5
}
