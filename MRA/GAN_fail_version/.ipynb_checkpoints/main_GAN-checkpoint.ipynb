{
 "cells": [
  {
   "cell_type": "markdown",
   "id": "142c52d0-d442-4c3d-94a7-40d6eb980d3e",
   "metadata": {},
   "source": [
    "# Import packages"
   ]
  },
  {
   "cell_type": "markdown",
   "id": "be32a819-ee3d-4992-85c8-e25c20df77d6",
   "metadata": {
    "tags": []
   },
   "source": [
    "### Import python packages"
   ]
  },
  {
   "cell_type": "code",
   "execution_count": 1,
   "id": "29b6b0f5-36ce-435e-9af6-b9394bdff7fe",
   "metadata": {},
   "outputs": [],
   "source": [
    "import re,os\n",
    "os.environ[\"CUDA_VISIBLE_DEVICES\"]=\"6\"\n",
    "import numpy as np\n",
    "import tensorflow as tf\n",
    "import matplotlib.pyplot as plt\n",
    "import matplotlib.patches as mpatches\n",
    "from IPython.display import clear_output\n",
    "import pandas as pd\n",
    "import math\n",
    "import random\n",
    "from datetime import datetime\n",
    "from scipy.stats import linregress\n",
    "from sklearn.decomposition import PCA\n",
    "from tqdm import trange, tqdm\n",
    "from mpl_toolkits.mplot3d import Axes3D\n",
    "import plotly.express as px\n",
    "import plotly.graph_objects as go\n",
    "from sklearn.manifold import TSNE\n",
    "import scipy\n",
    "from scipy import interpolate\n",
    "tfk = tf.keras\n",
    "tfkl = tf.keras.layers\n",
    "tfkltd= tf.keras.layers.TimeDistributed\n",
    "clear_output()"
   ]
  },
  {
   "cell_type": "markdown",
   "id": "9de24bc6-53dd-4662-848e-172b1c5cccd6",
   "metadata": {
    "tags": []
   },
   "source": [
    "### Import custom packages"
   ]
  },
  {
   "cell_type": "code",
   "execution_count": 2,
   "id": "dd50e50c-cd4a-4bce-bbbd-52c40895575b",
   "metadata": {},
   "outputs": [
    {
     "name": "stdout",
     "output_type": "stream",
     "text": [
      "Num GPUs Available:  1\n",
      "TensorFlow Version:  2.9.1\n"
     ]
    }
   ],
   "source": [
    "from MRA_generate import MRA_generate\n",
    "from symae_model import SymAE\n",
    "from parameters import *\n",
    "from redatuming import redatuming\n",
    "from latent import latent\n",
    "from plot_training import plot_training\n",
    "from plot_redatuming import plot_redatuming\n",
    "from plot_save import plot_save\n",
    "import symae_core as symae"
   ]
  },
  {
   "cell_type": "markdown",
   "id": "1ffcb044-d886-483e-947e-54a5e9ef56d3",
   "metadata": {
    "tags": []
   },
   "source": [
    "# Train SymAE"
   ]
  },
  {
   "cell_type": "markdown",
   "id": "0a7bb053-92ed-4a2f-8ca4-2afbc4b26b72",
   "metadata": {
    "tags": []
   },
   "source": [
    "### Layers"
   ]
  },
  {
   "cell_type": "code",
   "execution_count": 153,
   "id": "7bf99139-62f2-4608-bffe-64b1cc6e4ee3",
   "metadata": {},
   "outputs": [],
   "source": [
    "sym_encoder = symae.SymmetricEncoderDense1D(p, d, [2, 2, 2]) #(N,nt,d)->(N,p)\n",
    "nui_encoder = symae.NuisanceEncoderDense1D(q, d, [2, 2, 2]) #(N,nt,d)->(N,nt,q)\n",
    "latentcat=symae.LatentCat(dropout_rate) #(N,p),(N,nt*q)->(N,p+nt*q)\n",
    "distzsym = symae.DistributeZsym(nt, p, q) #(N,p+q*nt)->(N,nt,p+q)\n",
    "mix_decoder = symae.MixerDense1D(d, p+q) #(N,nt,p+q)->(N,nt,d)\n",
    "class discriminator(tf.keras.Model): #(N,nt,p+q)->True/False\n",
    "    def __init__(self):\n",
    "        super(discriminator, self).__init__(name='')\n",
    "        self.d1 = tfkltd(tfkl.Dense(100, activation=tf.keras.layers.LeakyReLU(0.2)))\n",
    "        self.d2 = tfkltd(tfkl.Dense(100, activation=tf.keras.layers.LeakyReLU(0.2)))\n",
    "        self.d3 = tfkltd(tfkl.Dense(100, activation=tf.keras.layers.LeakyReLU(0.2)))\n",
    "        self.d4 = tfkltd(tfkl.Dense(100, activation=tf.keras.layers.LeakyReLU(0.2)))\n",
    "        self.d5 = tfkltd(tfkl.Dense(1, activation='sigmoid'))\n",
    "    def call(self, x):\n",
    "        x = self.d1(x)\n",
    "        x = self.d2(x)\n",
    "        x = self.d3(x)\n",
    "        x = self.d4(x)\n",
    "        x = self.d5(x)\n",
    "        return x\n",
    "discriminator = discriminator() #(N,nt,p+q)->True/False"
   ]
  },
  {
   "cell_type": "code",
   "execution_count": 155,
   "id": "8c29d884-cd53-4910-95d2-a18b3eb57e58",
   "metadata": {},
   "outputs": [],
   "source": [
    "sym_encoder._name = 'sym_encoder'\n",
    "nui_encoder._name = 'nui_encoder'\n",
    "latentcat._name = 'latentcat'\n",
    "distzsym._name = 'distzsym'\n",
    "mix_decoder._name = 'mix_decoder'\n",
    "discriminator._name = 'discriminator'"
   ]
  },
  {
   "cell_type": "code",
   "execution_count": 156,
   "id": "68e5c76d-1999-4806-bae7-7ca7819c6619",
   "metadata": {},
   "outputs": [],
   "source": [
    "symae_input = tfk.Input(shape=(nt,d))\n",
    "sym_out = sym_encoder(symae_input)\n",
    "sym_repeat = tfkl.RepeatVector(nt)(sym_out)\n",
    "\n",
    "nui_out = nui_encoder(symae_input)\n",
    "dec_input = tf.concat([sym_repeat, nui_out], axis=2)\n",
    "symae_output = mix_decoder(dec_input)\n",
    "\n",
    "ae = tfk.Model(symae_input,symae_output, name=\"SymAE\") \n",
    "encoder = tfk.Model(symae_input,dec_input, name=\"encoder\") "
   ]
  },
  {
   "cell_type": "code",
   "execution_count": null,
   "id": "ebd32ce1-3f16-4b51-99b8-2d837aa83b16",
   "metadata": {},
   "outputs": [],
   "source": []
  },
  {
   "cell_type": "markdown",
   "id": "8a1a48c9-eab9-4775-af0c-5b3181b52ae6",
   "metadata": {
    "tags": []
   },
   "source": [
    "### Data"
   ]
  },
  {
   "cell_type": "code",
   "execution_count": 157,
   "id": "a29c8d8a-d2a0-4517-88b8-4ce009ec05ab",
   "metadata": {},
   "outputs": [],
   "source": [
    "n_datum = 10000\n",
    "n_basis = 2\n",
    "basis = np.array([np.cos(k*2*np.pi/d*np.arange(0,d,1)) for k in range(n_basis-1)], dtype=np.float32)\n",
    "basis = np.concatenate([basis, np.array([[1]*30+[-1]*70])], axis=0)\n",
    "all_instance = np.empty((n_datum, nt, d), dtype=float)\n",
    "all_state = np.empty((n_datum, d), dtype=float)\n",
    "all_shift = np.empty((n_datum, nt), dtype=int)\n",
    "for i in range(n_datum):\n",
    "    coef = tf.random.uniform((1,n_basis), 0.9, 1)\n",
    "    all_state[i,:] = coef@basis\n",
    "    all_shift[i,:] = np.random.randint(0, d, (nt))\n",
    "    for j in range(nt):\n",
    "        shift = all_shift[i,j]\n",
    "        all_instance[i,j,:] = np.roll(all_state[i,:], shift)"
   ]
  },
  {
   "cell_type": "code",
   "execution_count": 158,
   "id": "9b268e1e-9c8b-4ea3-a907-febe1fcd3ca6",
   "metadata": {},
   "outputs": [],
   "source": [
    "n_pair = 10000\n",
    "all_state_source = np.empty((n_pair, nt, d), dtype=float)\n",
    "all_shift_source =  np.empty((n_pair, nt, d), dtype=int)\n",
    "all_redatum = np.empty((n_pair, nt, d), dtype=float)\n",
    "for k in range(n_pair):\n",
    "    i = np.random.randint(0, n_datum)\n",
    "    j = np.random.randint(0, n_datum)\n",
    "    all_state_source[k,:,:] = all_instance[i,:,:]\n",
    "    all_shift_source[k,:,:] = all_instance[j,:,:]\n",
    "    for t in range(nt):\n",
    "        all_redatum[k,t,:] = np.roll(all_state[i,:], all_shift[j,t])"
   ]
  },
  {
   "cell_type": "code",
   "execution_count": 159,
   "id": "7ecf8a26-66b6-464c-b9cc-49db119fffcb",
   "metadata": {},
   "outputs": [],
   "source": [
    "train_dataset_single = tf.data.Dataset.from_tensor_slices((all_instance,\n",
    "                                                           all_state,\n",
    "                                                           all_shift)).shuffle(512).batch(128)   "
   ]
  },
  {
   "cell_type": "code",
   "execution_count": 160,
   "id": "0b636828-abfd-46ec-a518-80a417cd06b9",
   "metadata": {},
   "outputs": [],
   "source": [
    "train_dataset_pair = tf.data.Dataset.from_tensor_slices((all_state_source,\n",
    "                                                         all_shift_source,\n",
    "                                                         all_redatum)).shuffle(512).batch(128)   "
   ]
  },
  {
   "cell_type": "code",
   "execution_count": 161,
   "id": "b31c8839-e520-4766-8619-288dacced98b",
   "metadata": {},
   "outputs": [],
   "source": [
    "train_dataset_mix = tf.data.Dataset.from_tensor_slices((all_instance,\n",
    "                                                        all_state_source,\n",
    "                                                        all_shift_source)).shuffle(512).batch(128)   "
   ]
  },
  {
   "cell_type": "code",
   "execution_count": 187,
   "id": "a9f19d64-93a4-497b-91e5-60486a388a8f",
   "metadata": {},
   "outputs": [],
   "source": [
    "n_pair = 10000\n",
    "all_state_source_fake = np.empty((n_pair, nt, d), dtype=float)\n",
    "all_shift_source_fake =  np.empty((n_pair, nt, d), dtype=int)\n",
    "all_redatum_fake = np.empty((n_pair, nt, d), dtype=float)\n",
    "for k in range(n_pair):\n",
    "    i = np.random.randint(0, n_datum)\n",
    "    j = i\n",
    "    all_state_source_fake[k,:,:] = all_instance[i,:,:]\n",
    "    all_shift_source_fake[k,:,:] = all_instance[j,:,:]\n",
    "    for t in range(nt):\n",
    "        all_redatum_fake[k,t,:] = np.roll(all_state[i,:], all_shift[j,t])\n",
    "train_dataset_pair_fake = tf.data.Dataset.from_tensor_slices((all_state_source_fake,\n",
    "                                                         all_shift_source_fake,\n",
    "                                                         all_redatum_fake)).shuffle(512).batch(128)   "
   ]
  },
  {
   "cell_type": "code",
   "execution_count": null,
   "id": "69557b9b-ec1a-425d-ae61-94a326b36b24",
   "metadata": {},
   "outputs": [],
   "source": []
  },
  {
   "cell_type": "markdown",
   "id": "e8f32979-f41f-4da9-80b1-2a91cac1d559",
   "metadata": {
    "tags": []
   },
   "source": [
    "### PCA"
   ]
  },
  {
   "cell_type": "code",
   "execution_count": 163,
   "id": "69095748-85af-4321-bc41-836941e324b7",
   "metadata": {},
   "outputs": [
    {
     "data": {
      "text/plain": [
       "Text(0.5, 0.98, 'Show the shape of all $n_{test}$ = 5 states')"
      ]
     },
     "execution_count": 163,
     "metadata": {},
     "output_type": "execute_result"
    },
    {
     "data": {
      "image/png": "[encoded data removed]",
      "text/plain": [
       "<Figure size 1440x288 with 5 Axes>"
      ]
     },
     "metadata": {
      "needs_background": "light"
     },
     "output_type": "display_data"
    }
   ],
   "source": [
    "ne_test = 5\n",
    "repeat = d//nt\n",
    "nx = ne_test * repeat\n",
    "X_test = np.empty((nx,nt,d))\n",
    "states_sub = np.empty((ne_test, d))\n",
    "coef = tf.random.uniform((ne_test,n_basis), 0.9, 1)\n",
    "states_sub = tf.linalg.matmul(coef,basis)\n",
    "thetas_test = np.repeat(states_sub, repeat, axis=0)\n",
    "ls_test = np.tile(np.reshape(np.arange(d), (repeat, nt)), (ne_test, 1))\n",
    "for i in range(nx):\n",
    "    for j in range(nt):\n",
    "        X_test[i,j,:] = np.roll(thetas_test[i,:], ls_test[i,j])\n",
    "pca_cb = PCA(n_components=2)\n",
    "df_states = pd.DataFrame(np.repeat(range(ne_test), d),columns=['state'])\n",
    "df_shifts = pd.DataFrame(ls_test.reshape(-1, 1), columns=['shift'])\n",
    "clear_output()\n",
    "fig, axs = plt.subplots(1, ne_test, sharex=True, sharey=True, figsize=(ne_test*4, 4))\n",
    "for i in range(ne_test):\n",
    "    axs[i].plot(range(d), X_test[i*repeat,0,:])\n",
    "plt.suptitle('Show the shape of all $n_{test}$ = %d states'%ne_test)"
   ]
  },
  {
   "cell_type": "code",
   "execution_count": 164,
   "id": "704741d2-90d6-45a0-ab94-2d8c10349f71",
   "metadata": {},
   "outputs": [],
   "source": [
    "loss=0\n",
    "def plot_my():\n",
    "    Ns = encoder.predict(X_test)[:, :, p:p+q]\n",
    "    N_reshaped = Ns.reshape(-1, q)\n",
    "    if q==2:\n",
    "        pca_N = N_reshaped\n",
    "    else:\n",
    "        pca_N = pca_cb.fit_transform(N_reshaped)\n",
    "    df = pd.DataFrame(pca_N, columns = ['1st','2nd'])\n",
    "    df = pd.concat([df,df_states,df_shifts],axis=1)\n",
    "    fig = px.scatter(df, x='1st', y='2nd', color='state', \n",
    "                     text='shift', title='q=%d,loss=%f'%(q,loss), \n",
    "                     color_continuous_scale=px.colors.sequential.Viridis)\n",
    "    fig.update_layout(height=500)\n",
    "    fig.show()"
   ]
  },
  {
   "cell_type": "code",
   "execution_count": null,
   "id": "d6bfe3f1-8c1b-4c82-9171-7d399c186b2a",
   "metadata": {},
   "outputs": [],
   "source": []
  },
  {
   "cell_type": "markdown",
   "id": "901651e9-642c-47b8-b5fb-da4ccf629b34",
   "metadata": {
    "tags": []
   },
   "source": [
    "### Optimizer"
   ]
  },
  {
   "cell_type": "code",
   "execution_count": 165,
   "id": "7222a911-3810-4060-af02-2876d0f09c85",
   "metadata": {},
   "outputs": [],
   "source": [
    "optimizer = tf.keras.optimizers.Adam(0.01)"
   ]
  },
  {
   "cell_type": "markdown",
   "id": "ae1658a2-65d9-4d45-8002-f858f15cc26d",
   "metadata": {},
   "source": [
    "### Loss"
   ]
  },
  {
   "cell_type": "code",
   "execution_count": 215,
   "id": "e9590316-a8e4-4a3c-9e20-0f5598bd1810",
   "metadata": {},
   "outputs": [],
   "source": [
    "mse = tf.keras.losses.MeanSquaredError()\n",
    "cross_entropy = tf.keras.losses.BinaryCrossentropy()\n",
    "def encoder_generator_loss(instance, state_source, shift_source):\n",
    "    reconstruction_loss = mse(instance, ae(instance))\n",
    "    \n",
    "    latent_code_state = encoder(state_source)\n",
    "    latent_code_shift = encoder(shift_source)\n",
    "    latent_state = latent_code_state[:, 0:p]\n",
    "    latent_shift = latent_code_shift[:, p:p+q*nt]\n",
    "    merger = tf.concat([latent_state, latent_shift], axis=1)\n",
    "    \n",
    "    fake_out = discriminator(merger)\n",
    "    adversarial_loss = cross_entropy(tf.ones_like(fake_out), fake_out)\n",
    "    \n",
    "    return reconstruction_loss, adversarial_loss\n",
    "\n",
    "def redatuming_loss(data):\n",
    "    state_instance, shift_instance, redatum_instance = data\n",
    "    latent_code_state = encoder(state_instance)\n",
    "    latent_code_shift = encoder(shift_instance)\n",
    "    latent_state = latent_code_state[:, :, 0:p]\n",
    "    latent_shift = latent_code_shift[:, :, p:p+q]\n",
    "    merger = tf.concat([latent_state, latent_shift], axis=2)\n",
    "    redatum = mix_decoder(merger)\n",
    "    synthetic = redatum_instance\n",
    "    return mse(redatum, synthetic)\n",
    "\n",
    "def discriminator_loss(instance, state_source, shift_source):\n",
    "    latent_code_real = encoder(instance)\n",
    "    latent_code_state = encoder(state_source)\n",
    "    latent_code_shift = encoder(shift_source)\n",
    "    latent_state = latent_code_state[:, 0:p]\n",
    "    latent_shift = latent_code_shift[:, p:p+q*nt]\n",
    "    merger = tf.concat([latent_state, latent_shift], axis=1)\n",
    "\n",
    "    real_out = discriminator(latent_code_real)\n",
    "    fake_out = discriminator(merger)\n",
    "    real_loss = cross_entropy(tf.ones_like(real_out), real_out)\n",
    "    fake_loss = cross_entropy(tf.zeros_like(fake_out), fake_out)\n",
    "    return real_loss + fake_loss\n",
    "'''\n",
    "@tf.function\n",
    "def train_step(data):\n",
    "    instance, state_source, shift_source = data\n",
    "    \n",
    "    with tf.GradientTape() as tape1, tf.GradientTape() as tape2:\n",
    "        rec_loss, adver_loss = encoder_generator_loss(instance, state_source, shift_source)\n",
    "        disc_loss = discriminator_loss(instance, state_source, shift_source)\n",
    "        ae_loss = rec_loss + adver_loss\n",
    "    ae_gradients = tape1.gradient(ae_loss, ae.trainable_variables)\n",
    "    disc_gradients = tape2.gradient(disc_loss, discriminator.trainable_variables)\n",
    "    optimizer.apply_gradients(zip(ae_gradients, ae.trainable_variables))\n",
    "    optimizer.apply_gradients(zip(disc_gradients, discriminator.trainable_variables))\n",
    "    return rec_loss, adver_loss, disc_loss\n",
    "'''\n",
    "@tf.function\n",
    "def train_step(data):\n",
    "    instance, state_source, shift_source = data\n",
    "    with tf.GradientTape() as tape1, tf.GradientTape() as tape2:\n",
    "        rec_loss, adver_loss = encoder_generator_loss(instance, state_source, shift_source)\n",
    "        disc_loss = discriminator_loss(instance, state_source, shift_source)\n",
    "    ae_gradients = tape1.gradient(rec_loss, ae.trainable_variables)\n",
    "    disc_gradients = tape2.gradient(disc_loss, discriminator.trainable_variables)\n",
    "    optimizer.apply_gradients(zip(ae_gradients, ae.trainable_variables))\n",
    "    optimizer.apply_gradients(zip(disc_gradients, discriminator.trainable_variables))\n",
    "\n",
    "    return rec_loss, 0.0, 0.0\n"
   ]
  },
  {
   "cell_type": "code",
   "execution_count": null,
   "id": "1a97c9cf-6b1e-45af-848e-da2ce3b7d12e",
   "metadata": {},
   "outputs": [
    {
     "name": "stdout",
     "output_type": "stream",
     "text": [
      "===== epoch 30 =====\n",
      "rec_loss:     0.009058\n",
      "adver_loss:   0.000000\n",
      "disc_loss:    0.000000\n",
      "redatum_loss: 0.093767\n"
     ]
    }
   ],
   "source": [
    "for epoch in range(10000):\n",
    "    loss1 = 0.0;\n",
    "    loss2 = 0.0;\n",
    "    loss3 = 0.0;\n",
    "    for batch, data in enumerate(train_dataset_mix):\n",
    "        loss1, loss2, loss3 = train_step(data)\n",
    "        \n",
    "    loss4 = 0.0\n",
    "    for batch, data in enumerate(train_dataset_pair):\n",
    "        if batch<10:\n",
    "            loss4 += redatuming_loss(data)\n",
    "        else:\n",
    "            break\n",
    "    loss4 /= 10\n",
    "    \n",
    "    print(\"===== epoch {:d} =====\".format(epoch))    \n",
    "    print(\"rec_loss:     {:f}\".format(loss1))\n",
    "    print(\"adver_loss:   {:f}\".format(loss2))\n",
    "    print(\"disc_loss:    {:f}\".format(loss3))        \n",
    "    print(\"redatum_loss: {:f}\".format(loss4)) \n",
    "    if epoch%1==0:\n",
    "        clear_output(wait=True)\n",
    "        #plot_my() "
   ]
  },
  {
   "cell_type": "markdown",
   "id": "f9f6c3e1-f83e-4e7f-9fae-ac422ecb0757",
   "metadata": {
    "tags": []
   },
   "source": [
    "### Save weights"
   ]
  },
  {
   "cell_type": "code",
   "execution_count": null,
   "id": "6f923375-bf69-46dd-a290-f247ecb0207e",
   "metadata": {},
   "outputs": [],
   "source": [
    "#model.save_weights('./checkpoint/'+datetime.now().strftime(\"%B%d\"))\n",
    "#model.save_weights('./checkpoint/'+'p=%d,q=%d,predata'%(p,q))\n",
    "print(\"weights saved\")"
   ]
  },
  {
   "cell_type": "code",
   "execution_count": null,
   "id": "ca5fbf56-4c23-4e13-b154-8d2c45186f97",
   "metadata": {},
   "outputs": [],
   "source": []
  },
  {
   "cell_type": "markdown",
   "id": "462e4883-c204-43d9-8418-5f9fce087660",
   "metadata": {
    "tags": []
   },
   "source": [
    "# Redatuming"
   ]
  },
  {
   "cell_type": "code",
   "execution_count": 213,
   "id": "aeb03a24-731a-4e8d-af04-37e3bb3c0c90",
   "metadata": {},
   "outputs": [],
   "source": [
    "i = np.random.randint(0,1000)\n",
    "state_instance = all_state_source_fake[i:i+1,:,:]\n",
    "shift_instance = all_shift_source_fake[i:i+1,:,:]\n",
    "redatum_instance = all_redatum_fake[i:i+1,:,:]\n",
    "latent_code_state = encoder(state_instance)\n",
    "latent_code_shift = encoder(shift_instance)\n",
    "latent_state = latent_code_state[:, :, 0:p]\n",
    "latent_shift = latent_code_shift[:, :, p:p+q]\n",
    "merger = tf.concat([latent_state, latent_shift], axis=2)\n",
    "redatum = mix_decoder(merger)\n",
    "synthetic = redatum_instance"
   ]
  },
  {
   "cell_type": "code",
   "execution_count": 214,
   "id": "de1f4247-e33f-4987-9329-7c2b20ac57ee",
   "metadata": {},
   "outputs": [
    {
     "data": {
      "text/plain": [
       "[<matplotlib.lines.Line2D at 0x7fc41f5ba520>]"
      ]
     },
     "execution_count": 214,
     "metadata": {},
     "output_type": "execute_result"
    },
    {
     "data": {
      "image/png": "[encoded data removed]",
      "text/plain": [
       "<Figure size 432x288 with 1 Axes>"
      ]
     },
     "metadata": {
      "needs_background": "light"
     },
     "output_type": "display_data"
    }
   ],
   "source": [
    "t = np.random.randint(0,nt)\n",
    "plt.plot(range(d),redatum[0,t,:])\n",
    "plt.plot(range(d),synthetic[0,t,:])"
   ]
  },
  {
   "cell_type": "code",
   "execution_count": 201,
   "id": "dcedbd55-0c90-4aea-90e6-6bea5296eb95",
   "metadata": {},
   "outputs": [
    {
     "data": {
      "image/png": "[encoded data removed]",
      "text/plain": [
       "<Figure size 432x288 with 1 Axes>"
      ]
     },
     "metadata": {
      "needs_background": "light"
     },
     "output_type": "display_data"
    }
   ],
   "source": [
    "for batch, data in enumerate(train_dataset_mix):\n",
    "    if batch ==10:\n",
    "        instance, state_source, shift_source = data\n",
    "        plt.plot(range(d),instance[0,0,:])\n",
    "        plt.plot(range(d),ae(instance)[0,0,:])\n",
    "        break\n",
    "plt.show()"
   ]
  },
  {
   "cell_type": "markdown",
   "id": "0fadff9b-6233-4afe-bd5b-2e55154338ef",
   "metadata": {
    "jp-MarkdownHeadingCollapsed": true,
    "tags": []
   },
   "source": [
    "### List many redatuming"
   ]
  },
  {
   "cell_type": "code",
   "execution_count": null,
   "id": "c59ca1d6-980f-4f53-a2e1-87a54019917e",
   "metadata": {},
   "outputs": [],
   "source": [
    "def dec(latent_code):\n",
    "    tem = latent_code[np.newaxis, np.newaxis, :]\n",
    "    tem = np.repeat(tem, nt, axis=1)\n",
    "    tem = model.mixer.predict(tem, verbose=0)\n",
    "    return tem[0,0,:]\n",
    "def enc(state, shift):\n",
    "    tem = np.array( [g(state, ((k+shift)%d)/d) for k in range(d)] )\n",
    "    tem = tem[np.newaxis, np.newaxis, :, np.newaxis]\n",
    "    tem = np.repeat(tem, nt, axis=1)\n",
    "    tem = model.encoder.predict(tem, verbose=0)\n",
    "    return tem[0][0:p+q]"
   ]
  },
  {
   "cell_type": "code",
   "execution_count": null,
   "id": "b1399151-ed42-4d13-8f7d-180fbb492d31",
   "metadata": {},
   "outputs": [],
   "source": [
    "state_source = 0\n",
    "nuisance_source = 40\n",
    "fig, axs = plt.subplots(1, d, sharex=True, sharey=True, figsize=(4*d,4), dpi=40)\n",
    "for i in trange(d):\n",
    "    coherent_code = enc(state_source, 0)[0: p]\n",
    "    nuisance_code = enc(nuisance_source, i)[p: p+q]\n",
    "    latent_code = np.concatenate([coherent_code, nuisance_code], axis=0)\n",
    "    axs[i].plot(range(d), dec(latent_code))\n",
    "    axs[i].set_title('%d'%i)\n",
    "plt.suptitle('$\\hat{X}_{s=%d \\mapsto s=%d}$'%(nuisance_source, state_source), fontsize=50)\n",
    "plt.subplots_adjust(top=0.6)\n",
    "plt.show()\n",
    "#fig.savefig('./plots/%dto%d'%(nuisance_source, state_source))"
   ]
  },
  {
   "cell_type": "markdown",
   "id": "fa27b26c-d23f-42f5-9f32-49e66bda6c42",
   "metadata": {
    "tags": []
   },
   "source": [
    "# Interpolation"
   ]
  },
  {
   "cell_type": "code",
   "execution_count": null,
   "id": "f7e56385-4c7a-43da-8358-a053cd8caad8",
   "metadata": {},
   "outputs": [],
   "source": [
    "def dec(latent_code):\n",
    "    tem = latent_code[np.newaxis, np.newaxis, :]\n",
    "    tem = np.repeat(tem, nt, axis=1)\n",
    "    tem = model.mixer.predict(tem, verbose=0)\n",
    "    return tem[0,0,:]\n",
    "def enc(state, shift):\n",
    "    tem = np.array( [g(state, ((k+shift)%d)/d) for k in range(d)] )\n",
    "    tem = tem[np.newaxis, np.newaxis, :, np.newaxis]\n",
    "    tem = np.repeat(tem, nt, axis=1)\n",
    "    tem = model.encoder.predict(tem, verbose=0)\n",
    "    return tem[0][0:p+q]"
   ]
  },
  {
   "cell_type": "markdown",
   "id": "afc0d3bb-3a8f-4cee-bad2-13ad49fa2d5f",
   "metadata": {
    "jp-MarkdownHeadingCollapsed": true,
    "tags": []
   },
   "source": [
    "### Set endpoints"
   ]
  },
  {
   "cell_type": "code",
   "execution_count": null,
   "id": "7b42bbca-f3de-4957-a8ed-65efb3e5992c",
   "metadata": {},
   "outputs": [],
   "source": [
    "state = -1\n",
    "shift1 = 0\n",
    "shift2 = 30"
   ]
  },
  {
   "cell_type": "code",
   "execution_count": null,
   "id": "e6ae32fe-abe6-4b94-9207-5ec15f105184",
   "metadata": {},
   "outputs": [],
   "source": [
    "def g(n,x):\n",
    "    if n==-1:\n",
    "        return int(x<0.5)\n",
    "    return np.exp(-math.sqrt(n+1)*(x-0.5)**2)"
   ]
  },
  {
   "cell_type": "markdown",
   "id": "802db79a-98f8-4d44-a35f-1a645536ea1a",
   "metadata": {
    "tags": []
   },
   "source": [
    "### Linear"
   ]
  },
  {
   "cell_type": "code",
   "execution_count": null,
   "id": "7d28ac42-db74-43f4-a467-b7ea66bc2f9a",
   "metadata": {},
   "outputs": [],
   "source": [
    "interpolation_number = L = 10\n",
    "interpolation = np.empty((L,d))\n",
    "for i, alpha in enumerate(range(L)):\n",
    "    alpha = alpha / L\n",
    "    code1 = enc(state, shift1)\n",
    "    code2 = enc(state, shift2)\n",
    "    code = alpha*code1 + (1-alpha)*code2\n",
    "    interpolation[i:i+1,:] = dec(code).T\n",
    "fig = plt.figure(figsize=(10,6))\n",
    "for i, alpha in enumerate(range(L)):\n",
    "    alpha = alpha / L\n",
    "    plt.plot(range(d),interpolation[i,:], color=(alpha,0,1-alpha))\n",
    "plt.grid()"
   ]
  },
  {
   "cell_type": "markdown",
   "id": "2f7e0953-26a7-47fe-8f26-7e6fe4571820",
   "metadata": {},
   "source": [
    "### Cubic Spline"
   ]
  },
  {
   "cell_type": "code",
   "execution_count": null,
   "id": "a3cc8629-baa6-466a-9990-cd0a4c9fe31e",
   "metadata": {},
   "outputs": [],
   "source": [
    "class spline():\n",
    "    def __init__(self, state):\n",
    "        self.state = state\n",
    "        self.x = np.arange(0, d, 1)\n",
    "        self.y = np.empty((q, len(self.x)))\n",
    "        self.tck = []\n",
    "        self.center = enc(state, 0)[0:p]\n",
    "        for j in trange(len(self.x)):\n",
    "            l = self.x[j]\n",
    "            latent_code = enc(state, l)\n",
    "            for i in range(q):\n",
    "                self.y[i,j] = latent_code[p+i]\n",
    "        for i in range(q):\n",
    "            self.tck.append(interpolate.splrep(self.x, self.y[i,:], per=True))\n",
    "    def call(self, shift):\n",
    "        return np.array([interpolate.splev(shift, self.tck[i], der=0) for i in range(q)])\n",
    "    def call_batch(self, shifts):\n",
    "        return np.array([[interpolate.splev(shift, self.tck[i], der=0) for i in range(q)] for shift in shifts])\n",
    "    def decode(self, shift):\n",
    "        return dec(np.hstack([self.center, self.call(shift)]))\n",
    "    def decode_batch(self, shifts):\n",
    "        return np.array([self.decode(shift) for shift in tqdm(shifts)])"
   ]
  },
  {
   "cell_type": "code",
   "execution_count": null,
   "id": "6f9b6c3c-b728-41b1-bb0f-5854e6c0d8b0",
   "metadata": {},
   "outputs": [],
   "source": [
    "spline_obj = spline(state)"
   ]
  },
  {
   "cell_type": "code",
   "execution_count": null,
   "id": "35ba1175-5715-4bb2-843e-1a3594e34684",
   "metadata": {},
   "outputs": [],
   "source": [
    "spline_obj.decode_batch([5,6]).shape"
   ]
  },
  {
   "cell_type": "code",
   "execution_count": null,
   "id": "16f7dbd7-0a7b-4083-b7c8-b9dfa035ee92",
   "metadata": {},
   "outputs": [],
   "source": [
    "plt.plot(range(d), spline_obj.decode(5))"
   ]
  },
  {
   "cell_type": "markdown",
   "id": "ad25efec-66a2-46e8-ab17-b9783c6ac220",
   "metadata": {
    "tags": []
   },
   "source": [
    "### By hand"
   ]
  },
  {
   "cell_type": "code",
   "execution_count": null,
   "id": "044d6216-d73d-494e-94c0-1043a93dbb4c",
   "metadata": {},
   "outputs": [],
   "source": [
    "code1 = enc(state, shift1)\n",
    "code2 = enc(state, shift2)\n",
    "code = 0.5*code1 + 0.5*code2 + 1.0\n",
    "interpolation = dec(code)\n",
    "fig = plt.figure(figsize=(10,6))\n",
    "plt.plot(range(d), [g(state, ((k+shift1)%d)/d) for k in range(d)], color=(1,0,0))\n",
    "plt.plot(range(d), [g(state, ((k+shift2)%d)/d) for k in range(d)], color=(0,0,1))\n",
    "plt.plot(range(d),interpolation, color=(1,0,1))\n",
    "plt.grid()"
   ]
  },
  {
   "cell_type": "markdown",
   "id": "d8caf59d-76f5-4338-89bc-60fcfc29152d",
   "metadata": {},
   "source": [
    "### PCA"
   ]
  },
  {
   "cell_type": "code",
   "execution_count": null,
   "id": "bb85891b-e64e-4d60-a9ea-52e226ba281a",
   "metadata": {},
   "outputs": [],
   "source": [
    "pca = PCA(2)\n",
    "Ns = np.empty((100,q))\n",
    "for i in trange(100):\n",
    "    shift = i\n",
    "    Ns[i,:] = enc(state, shift)[p:p+q]"
   ]
  },
  {
   "cell_type": "code",
   "execution_count": null,
   "id": "a1018ba4-bcfc-4418-bdd9-b521febc4290",
   "metadata": {},
   "outputs": [],
   "source": [
    "pca_N = pca.fit_transform(Ns)\n",
    "pca_N1 = pca.transform(code1[np.newaxis, p:p+q])\n",
    "pca_N2 = pca.transform(code2[np.newaxis, p:p+q])\n",
    "pca_N_hand = pca.transform(code[np.newaxis, p:p+q])\n",
    "pca_N_spline = pca.transform(spline_obj.call_batch(np.arange(0,100,0.1)))"
   ]
  },
  {
   "cell_type": "code",
   "execution_count": null,
   "id": "c4fa7a97-22db-4fe3-9acb-7fc8638dd18f",
   "metadata": {},
   "outputs": [],
   "source": [
    "data0 = go.Scatter(x=pca_N[:,0], y=pca_N[:,1], mode='markers', name='dataset')\n",
    "data1 = go.Scatter(x=pca_N1[:,0], y=pca_N1[:,1], mode='markers', marker=dict(color='rgb(255, 0, 0)'), name='endpoint1')\n",
    "data2 = go.Scatter(x=pca_N2[:,0], y=pca_N2[:,1], mode='markers', marker=dict(color='rgb(255, 0, 0)'), name='endpoint2')\n",
    "data_line = go.Scatter(x=[pca_N1[0,0],pca_N2[0,0]], y=[pca_N1[0,1],pca_N2[0,1]], marker=dict(color='rgb(255, 200, 0)'), name='line')\n",
    "data_hand = go.Scatter(x=pca_N_hand[:,0], y=pca_N_hand[:,1], mode='markers', marker=dict(color='rgb(150, 255, 150)'), name='hand')\n",
    "data_spline = go.Scatter(x=pca_N_spline[:,0], y=pca_N_spline[:,1], marker=dict(color='rgb(200, 50, 200)'), name='spline')\n",
    "fig = go.Figure(data=[data0,data_line,data1,data2,data_hand,data_spline])\n",
    "fig.update_layout(height=600)\n",
    "fig.show()"
   ]
  },
  {
   "cell_type": "code",
   "execution_count": null,
   "id": "edcf3f97-ea36-497b-892e-7edbe3cfb421",
   "metadata": {},
   "outputs": [],
   "source": []
  },
  {
   "cell_type": "code",
   "execution_count": null,
   "id": "0c5831b3-f3f1-4336-81f4-90e2fd25c127",
   "metadata": {},
   "outputs": [],
   "source": []
  },
  {
   "cell_type": "code",
   "execution_count": null,
   "id": "8c6299ce-b587-4029-a5be-8067d357d794",
   "metadata": {},
   "outputs": [],
   "source": [
    "pca = PCA(n_components=3)\n",
    "MRA_pca = MRA_generate(d,nt,1000,sigma,ne,g,replace=1)\n",
    "MRA_pca.generate_default()\n",
    "Cs,Ns = latent(model,MRA_pca)"
   ]
  },
  {
   "cell_type": "code",
   "execution_count": null,
   "id": "22ce11ac-2fa1-4ff3-88d0-52d3e8bdbcba",
   "metadata": {},
   "outputs": [],
   "source": [
    "pca.fit(Cs)\n",
    "pca_C = pca.fit_transform(Cs)\n",
    "df = pd.DataFrame(pca_C, columns = ['1st','2nd','3rd'])\n",
    "tem = pd.DataFrame(MRA_pca.states,columns=['state']).astype('object')\n",
    "df = pd.concat([df,tem],axis=1)\n",
    "fig = px.scatter_3d(df, x='1st', y='2nd', z='3rd', color='state')\n",
    "fig.show()"
   ]
  },
  {
   "cell_type": "code",
   "execution_count": null,
   "id": "e73668d8-3263-4e16-ae6d-a90db5374be2",
   "metadata": {},
   "outputs": [],
   "source": [
    "state = 0\n",
    "N_reshaped = Ns[MRA_pca.states==state,:].reshape(-1,q) \n",
    "N_shifts = MRA_pca.shifts[MRA_pca.states==state,:].reshape(-1,1)\n",
    "pca = PCA(n_components=3)\n",
    "pca.fit(N_reshaped)\n",
    "pca_N = pca.fit_transform(N_reshaped)\n",
    "df = pd.DataFrame(pca_N, columns = ['1st','2nd','3rd'])\n",
    "tem = pd.DataFrame(N_shifts,columns=['shift'])\n",
    "df = pd.concat([df,tem],axis=1)\n",
    "fig = px.scatter_3d(df, x='1st', y='2nd', z='3rd', color='shift')\n",
    "fig.show()"
   ]
  },
  {
   "cell_type": "markdown",
   "id": "fca22726-544a-4085-809b-e437d0077a4c",
   "metadata": {},
   "source": [
    "p-space is another name of the latent coherent space"
   ]
  },
  {
   "cell_type": "code",
   "execution_count": null,
   "id": "17db248c-9543-4c19-b522-baa4564c9ad7",
   "metadata": {},
   "outputs": [],
   "source": [
    "pca_C = pca.fit_transform(Cs)\n",
    "center = np.empty((ne,2))\n",
    "fig = plt.figure(figsize=(5,4),dpi=100)\n",
    "for i in range(ne):\n",
    "    center[i,:] = sum(pca_C[MRA_pca.states==i,:])/sum(MRA_pca.states==i)\n",
    "    plt.text(center[i,0],center[i,1],\"state=%d\"%i,fontsize=15)\n",
    "for i in trange(1000):\n",
    "    plt.scatter(pca_C[i,0],pca_C[i,1],color='C%d'%(MRA_pca.states[i]))\n",
    "plt.title('PCA of p-space',fontsize=15)\n",
    "plt.tick_params(labelsize=15)\n",
    "plt.tight_layout()"
   ]
  },
  {
   "cell_type": "code",
   "execution_count": null,
   "id": "f1364c68-422d-4fe1-8a12-fda6fec4da4c",
   "metadata": {},
   "outputs": [],
   "source": []
  },
  {
   "cell_type": "code",
   "execution_count": null,
   "id": "e5538bf4-4bda-4b69-ac35-80e3ba493ff8",
   "metadata": {},
   "outputs": [],
   "source": []
  }
 ],
 "metadata": {
  "kernelspec": {
   "display_name": "Python 3 (ipykernel)",
   "language": "python",
   "name": "python3"
  },
  "language_info": {
   "codemirror_mode": {
    "name": "ipython",
    "version": 3
   },
   "file_extension": ".py",
   "mimetype": "text/x-python",
   "name": "python",
   "nbconvert_exporter": "python",
   "pygments_lexer": "ipython3",
   "version": "3.9.12"
  }
 },
 "nbformat": 4,
 "nbformat_minor": 5
}
