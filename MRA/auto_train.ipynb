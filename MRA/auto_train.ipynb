{
 "cells": [
  {
   "cell_type": "markdown",
   "id": "505e991c-2cc3-42e1-a2ca-31b6fbb1fa5a",
   "metadata": {},
   "source": [
    "# Automatically run through different p and q"
   ]
  },
  {
   "cell_type": "markdown",
   "id": "acee26f8-c4e3-4517-9f80-6b2bd8790089",
   "metadata": {},
   "source": [
    "### import packages"
   ]
  },
  {
   "cell_type": "code",
   "execution_count": 1,
   "id": "239f3542-47df-4bbb-8fa6-cf1537e28631",
   "metadata": {},
   "outputs": [],
   "source": [
    "import re,os\n",
    "import numpy as np\n",
    "import tensorflow as tf\n",
    "import matplotlib.pyplot as plt\n",
    "import matplotlib.patches as mpatches\n",
    "from IPython.display import clear_output\n",
    "import pandas as pd\n",
    "import math\n",
    "import random\n",
    "from datetime import datetime\n",
    "from scipy.stats import linregress\n",
    "from tqdm import trange\n",
    "tfk = tf.keras\n",
    "tfkl = tf.keras.layers\n",
    "clear_output()"
   ]
  },
  {
   "cell_type": "markdown",
   "id": "661f08e9-a7ec-44b6-9d83-7516bd024d73",
   "metadata": {},
   "source": [
    "### import my files"
   ]
  },
  {
   "cell_type": "code",
   "execution_count": 1,
   "id": "322c9ad6-7e74-4719-a58f-447a0b9acf99",
   "metadata": {},
   "outputs": [
    {
     "name": "stdout",
     "output_type": "stream",
     "text": [
      "Num GPUs Available:  2\n",
      "TensorFlow Version:  2.9.1\n"
     ]
    }
   ],
   "source": [
    "from parameters import *\n",
    "from MRA_generate import MRA_generate\n",
    "from symae_model import SymAE\n",
    "from plot_training import plot_training\n",
    "from plot_redatuming import plot_redatuming\n",
    "from plot_save import plot_save\n",
    "from CustomCallback import CustomCallback\n",
    "from redatuming import redatuming\n",
    "from latent import latent "
   ]
  },
  {
   "cell_type": "markdown",
   "id": "4438d520-6e68-4dd2-8e63-7592329b652a",
   "metadata": {
    "tags": []
   },
   "source": [
    "### Generate the Dataset"
   ]
  },
  {
   "cell_type": "code",
   "execution_count": 2,
   "id": "61293a8e-1c9f-4974-9acb-796d38c33c6f",
   "metadata": {},
   "outputs": [
    {
     "name": "stdout",
     "output_type": "stream",
     "text": [
      "Numbers of States:\n"
     ]
    },
    {
     "data": {
      "text/plain": [
       "1    27\n",
       "3    26\n",
       "0    25\n",
       "2    22\n",
       "dtype: int64"
      ]
     },
     "execution_count": 2,
     "metadata": {},
     "output_type": "execute_result"
    }
   ],
   "source": [
    "def g(n,x):\n",
    "    if n==0:\n",
    "        return math.e**(-9*x**2)\n",
    "    elif n==1:\n",
    "        return int(x<0.5)\n",
    "    elif n==2:\n",
    "        if x<0.3:\n",
    "            return x\n",
    "        elif x<0.6:\n",
    "            return 0.6-x\n",
    "        else:\n",
    "            return 0\n",
    "    elif n==3:\n",
    "        return math.cos(2*math.pi*x)\n",
    "    elif n==4:\n",
    "        return math.e**(-9*(x-0.5)**2)\n",
    "    else:\n",
    "        return np.inf\n",
    "MRA_data=MRA_generate(d,nt,N,sigma,ne,g,replace=False,outer_replace=True)\n",
    "X=MRA_data.X\n",
    "print(\"Numbers of States:\")\n",
    "pd.DataFrame(MRA_data.states).value_counts()"
   ]
  },
  {
   "cell_type": "code",
   "execution_count": 3,
   "id": "375fa8ed-88f4-4001-a8f3-4db6caf407d5",
   "metadata": {},
   "outputs": [],
   "source": [
    "def find_state(state):\n",
    "    MRA_data=MRA_generate(d,nt,1,sigma,ne,g)\n",
    "    for i in range(100):\n",
    "        MRA_data.generate_default()\n",
    "        if MRA_data.states[0]==state:\n",
    "            return MRA_data\n",
    "def alter_parameters(p,q):\n",
    "    line_storage=''\n",
    "    with open('parameters.py','r+') as f:\n",
    "        for line in f.readlines():\n",
    "            if(line.find('p') == 0):\n",
    "                line = 'p=%d\\n'%p\n",
    "            if(line.find('q') == 0):\n",
    "                line = 'q=%d\\n'%q\n",
    "            line_storage += line\n",
    "    with open('parameters.py','r+') as f:\n",
    "        f.writelines(line_storage)"
   ]
  },
  {
   "cell_type": "code",
   "execution_count": 4,
   "id": "b0e7183c-c1f3-48ef-bedc-fdbc50fe1099",
   "metadata": {},
   "outputs": [],
   "source": [
    "auto_path = './pq_checkpoint/status.txt'\n",
    "auto_status = 'empty'"
   ]
  },
  {
   "cell_type": "code",
   "execution_count": 5,
   "id": "ef4510be-05a8-4a55-8c10-0575ee1349a3",
   "metadata": {},
   "outputs": [],
   "source": [
    "def everything(p,q):\n",
    "    alter_parameters(p,q)\n",
    "    model=SymAE(N,nt,d,p,q,kernel_size,filters,dropout_rate)\n",
    "    Adam=tf.keras.optimizers.Adam(learning_rate=0.001,beta_1=0.9,beta_2=0.999,epsilon=1e-07)\n",
    "    model.compile(loss='mse',optimizer=Adam)\n",
    "    try: \n",
    "        model.load_weights('./pq_checkpoint/'+'p=%d,q=%d'%(p,q))\n",
    "    except:\n",
    "        print('create '+'p=%d,q=%d'%(p,q))\n",
    "    M=500\n",
    "    epochs=range(M)\n",
    "    losses=[0.0]*M\n",
    "    slope=0.0; intercept=0.0; std_err=0.0\n",
    "    loop_time = 0\n",
    "    class CustomCallback(tf.keras.callbacks.Callback):\n",
    "        def on_epoch_end(self, epoch, logs=None):\n",
    "            clear_output(wait=True)\n",
    "            losses[epoch]=logs[\"loss\"]\n",
    "            print(\"p={:d}, q={:d}. For epoch {:d}, loss is {:f}.\".format(p,q,epoch,logs[\"loss\"]))\n",
    "            if epoch%100==0:\n",
    "                auto_status=\"p={:d}, q={:d}. model_reset_times={:d}. loop_time={:d}. For epoch {:d}, loss is {:f}.\".format(p,q,model_reset_times,loop_time,epoch,logs[\"loss\"])\n",
    "                auto_f = open(auto_path,'w')\n",
    "                print(auto_status,file=auto_f)\n",
    "                auto_f.close()\n",
    "    while True:\n",
    "        history=model.fit(X,X,epochs=M,verbose=0,callbacks=[CustomCallback()])\n",
    "        model.save_weights('./pq_checkpoint/'+'p=%d,q=%d'%(p,q))\n",
    "        loop_time += 1\n",
    "        slope, intercept, _, _, std_err = linregress(epochs, losses)\n",
    "        min_first_half = min(losses[0:M//2])\n",
    "        min_second_half = min(losses[M//2:M])\n",
    "        # Epoch-Loss\n",
    "        plt.figure(figsize=(6,4),dpi=150)\n",
    "        plt.plot(epochs,losses)\n",
    "        plt.plot(epochs,intercept+slope*np.array(epochs))\n",
    "        plt.scatter(np.argmin(losses[0:M//2]),min_first_half,c=['C2'])\n",
    "        plt.scatter(M//2+np.argmin(losses[M//2:M]),min_second_half,c=['C2'])\n",
    "        plt.xlabel('epoch')\n",
    "        plt.ylabel('loss')\n",
    "        plt.tight_layout()\n",
    "        fig = plt.gcf()\n",
    "        fig.savefig('./pq_checkpoint/p=%d,q=%d,epoch-loss.png'%(p,q))\n",
    "        # Redatuming\n",
    "        MRA1=find_state(0)\n",
    "        MRA2=find_state(3)\n",
    "        redatum=redatuming(model,MRA1,MRA2,1,p,q)\n",
    "        fig=plot_redatuming(redatum,p,q)\n",
    "        plt.tight_layout()\n",
    "        fig.savefig('./pq_checkpoint/p=%d,q=%d,cos_tri.png'%(p,q))\n",
    "        # Redatuming\n",
    "        MRA1=find_state(0)\n",
    "        MRA2=find_state(1)\n",
    "        redatum=redatuming(model,MRA1,MRA2,1,p,q)\n",
    "        fig=plot_redatuming(redatum,p,q)\n",
    "        plt.tight_layout()\n",
    "        fig.savefig('./pq_checkpoint/p=%d,q=%d,squ_tri.png'%(p,q))\n",
    "        # Termination\n",
    "        if min_second_half > min_first_half - 0.001:         \n",
    "            return True\n",
    "        if loop_time > 5 and min(losses) > 0.1 :\n",
    "            return False"
   ]
  },
  {
   "cell_type": "markdown",
   "id": "89cde397-6538-4c52-8dd5-da1d6bb05b56",
   "metadata": {},
   "source": [
    "### Main loop"
   ]
  },
  {
   "cell_type": "code",
   "execution_count": null,
   "id": "7b5e8d86-a075-4c86-879a-d9a214adcf9e",
   "metadata": {},
   "outputs": [
    {
     "name": "stdout",
     "output_type": "stream",
     "text": [
      "p=9, q=8. For epoch 320, loss is 0.037999.\n"
     ]
    }
   ],
   "source": [
    "model_reset_times=0\n",
    "for p in range(3,20,1):\n",
    "    for q in range(1,20,1):\n",
    "        print('traning p=%d q=%d\\n'%(p,q))\n",
    "        model_reset_times=0\n",
    "        flag=everything(p,q)\n",
    "        while flag==False:\n",
    "            model_reset_times+=1\n",
    "            flag=everything(p,q)\n",
    "            if model_reset_times>2: \n",
    "                break"
   ]
  },
  {
   "cell_type": "code",
   "execution_count": null,
   "id": "9f01f5c1-56f4-4f9e-ad96-968535a6cb9a",
   "metadata": {},
   "outputs": [],
   "source": []
  },
  {
   "cell_type": "code",
   "execution_count": null,
   "id": "84038710-3c67-42c5-b9c1-147397d01fbe",
   "metadata": {},
   "outputs": [],
   "source": []
  },
  {
   "cell_type": "code",
   "execution_count": null,
   "id": "e6ec92d4-b990-4d48-8f6d-894a5eaa983e",
   "metadata": {},
   "outputs": [],
   "source": []
  }
 ],
 "metadata": {
  "kernelspec": {
   "display_name": "Python 3 (ipykernel)",
   "language": "python",
   "name": "python3"
  },
  "language_info": {
   "codemirror_mode": {
    "name": "ipython",
    "version": 3
   },
   "file_extension": ".py",
   "mimetype": "text/x-python",
   "name": "python",
   "nbconvert_exporter": "python",
   "pygments_lexer": "ipython3",
   "version": "3.9.12"
  }
 },
 "nbformat": 4,
 "nbformat_minor": 5
}
