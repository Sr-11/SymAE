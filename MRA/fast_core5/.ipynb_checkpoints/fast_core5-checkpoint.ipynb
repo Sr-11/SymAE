{
 "cells": [
  {
   "cell_type": "code",
   "execution_count": null,
   "id": "415b10c9-a596-4e68-994d-bb1c7da621c1",
   "metadata": {
    "tags": []
   },
   "outputs": [
    {
     "name": "stderr",
     "output_type": "stream",
     "text": [
      "2022-06-29 18:14:32.239349: I tensorflow/core/util/util.cc:169] oneDNN custom operations are on. You may see slightly different numerical results due to floating-point round-off errors from different computation orders. To turn them off, set the environment variable `TF_ENABLE_ONEDNN_OPTS=0`.\n"
     ]
    }
   ],
   "source": [
    "import os\n",
    "os.environ[\"CUDA_VISIBLE_DEVICES\"]=\"2\"\n",
    "import numpy as np\n",
    "import tensorflow as tf\n",
    "import matplotlib.pyplot as plt\n",
    "from IPython.display import clear_output\n",
    "import pandas as pd\n",
    "import math\n",
    "from sklearn.decomposition import PCA\n",
    "import plotly.express as px\n",
    "from MRA_generate import MRA_generate\n",
    "from symae_model import SymAE\n",
    "from parameters import *\n",
    "from latent import latent\n",
    "from redatuming import redatuming\n",
    "from plot_redatuming import plot_redatuming\n",
    "def g(n,x):\n",
    "    if n==0:\n",
    "        return math.e**(-5*(x-0.5)**2)\n",
    "    elif n==1:\n",
    "        return math.e**(-10*(x-0.5)**2)\n",
    "    elif n==2:\n",
    "        if x<0.3:\n",
    "            return 3*x\n",
    "        elif x<0.6:\n",
    "            return 3*(0.6-x)\n",
    "        else:\n",
    "            return 0\n",
    "    elif n==3:\n",
    "        return int(x<0.5)\n",
    "    elif n==4:\n",
    "        return math.e**(-30*(x-0.5)**2)\n",
    "    elif n==5:\n",
    "        return math.cos(2*math.pi*x)\n",
    "    elif n==6:\n",
    "        return math.e**(-9*x**2)\n",
    "    else:\n",
    "        return np.inf\n",
    "def g(n,x):\n",
    "    return math.e**(-n/4*(x-0.5)**2)\n",
    "fig, axs = plt.subplots(1, ne, sharex=True, sharey=True)\n",
    "for i in range(ne):\n",
    "    axs[i].plot(range(d), [g(i,x/d) for x in range(d)])\n",
    "plt.suptitle('Show the shape of all $n_\\epsilon$ = %d states'%ne)\n",
    "MRA_training = MRA_generate(d,nt,N,sigma,ne,g,replace=0)\n",
    "pca_cb = PCA(n_components=2)\n",
    "MRA_pca = MRA_generate(d,nt,1000,sigma,ne,g,replace=0)\n",
    "MRA_training.generate_default()\n",
    "MRA_pca.generate_default()\n",
    "X = MRA_training.X\n",
    "clear_output()\n",
    "N_shifts = MRA_pca.shifts.reshape(-1,1)\n",
    "N_states = np.repeat(MRA_pca.states,nt)\n",
    "img_list=[]\n",
    "clear_output()\n",
    "fig.show()"
   ]
  },
  {
   "cell_type": "code",
   "execution_count": null,
   "id": "5fcc5871-e8e0-4ea3-8fad-af91962f8da4",
   "metadata": {
    "tags": []
   },
   "outputs": [],
   "source": [
    "class CustomCallback(tf.keras.callbacks.Callback):\n",
    "    def on_epoch_end(self, epoch, logs=None):\n",
    "        print(\"For epoch {:d}, loss is {:f}.\".format(epoch, logs[\"loss\"]))\n",
    "        if epoch % 10 == 0:\n",
    "            clear_output(wait = True)\n",
    "            _,Ns = latent(model,MRA_pca)\n",
    "            N_reshaped = Ns.reshape(-1,q)\n",
    "            pca_N = pca_cb.fit_transform(N_reshaped)\n",
    "            df = pd.DataFrame(pca_N, columns = ['1st','2nd'])\n",
    "            df_states = pd.DataFrame(N_states,columns=['state']).astype('object') \n",
    "            df_shifts = pd.DataFrame(N_shifts,columns=['shift'])\n",
    "            df = pd.concat([df,df_states,df_shifts],axis=1)\n",
    "            fig = px.scatter(df, x='1st', y='2nd', color='state', text='shift', title='q=%d,loss=%f'%(q,logs[\"loss\"]))\n",
    "            fig.update_layout(height=500, margin=dict(l=0, r=0, t=60, b=0))\n",
    "            #img_list.append(fig)\n",
    "            fig.show()"
   ]
  },
  {
   "cell_type": "code",
   "execution_count": null,
   "id": "4abfc9d7-2297-4cfb-a120-a0aa9b0b325a",
   "metadata": {
    "tags": []
   },
   "outputs": [],
   "source": []
  },
  {
   "cell_type": "code",
   "execution_count": null,
   "id": "3ac16f41-e627-417a-8462-5b7885091eb7",
   "metadata": {},
   "outputs": [],
   "source": [
    "model = SymAE(N,nt,d,p,q,kernel_size,filters,dropout_rate)\n",
    "#model.load_weights('./checkpoint/'+'p=3,q=3')\n",
    "#model.load_weights('./checkpoint/'+'p=3,q=10,ber,ne=3')\n",
    "#model.load_weights('./checkpoint/'+'p=3,q=15,add,nor=1')\n",
    "clear_output()"
   ]
  },
  {
   "cell_type": "code",
   "execution_count": null,
   "id": "501550a2-e85e-4502-893c-4b6560644062",
   "metadata": {},
   "outputs": [],
   "source": [
    "model.latentcat.drop.stddev = 0.0"
   ]
  },
  {
   "cell_type": "code",
   "execution_count": null,
   "id": "1991b70c-6ae9-43c2-bc41-7251055642b5",
   "metadata": {},
   "outputs": [],
   "source": [
    "Adam = tf.keras.optimizers.Adam(learning_rate=0.001,beta_1=0.9,beta_2=0.999,epsilon=1e-07)\n",
    "SGD = tf.keras.optimizers.SGD(learning_rate=0.001,momentum=0.0,nesterov=False)\n",
    "model.compile(loss='mse',optimizer=Adam)\n",
    "history = model.fit(X,X,epochs=100000,verbose=0,callbacks=[CustomCallback()])"
   ]
  },
  {
   "cell_type": "code",
   "execution_count": null,
   "id": "b96e4718-a499-4624-9a8a-752408fcd9c3",
   "metadata": {},
   "outputs": [],
   "source": [
    "#model.save_weights('./checkpoint/'+'p=3,q=15,add,nor=1,ne=2')"
   ]
  },
  {
   "cell_type": "code",
   "execution_count": null,
   "id": "c27ccad9-8d44-43d7-bdd6-1387973fbc53",
   "metadata": {},
   "outputs": [],
   "source": [
    "def find(state,nuisance):\n",
    "    MRA_data = MRA_generate(d,nt,1,sigma,ne,g,replace=1)\n",
    "    for i in range(100):\n",
    "        MRA_data.generate_default()\n",
    "        if MRA_data.states[0] != state:\n",
    "            continue\n",
    "        for j in range(nt):\n",
    "            if MRA_data.shifts[0][j] == nuisance:\n",
    "                return MRA_data, j\n",
    "MRA1, t1 = find(0,3)\n",
    "MRA2, t2 = find(1,3)\n",
    "redatum = redatuming(model,MRA1,MRA2,t1,t2)\n",
    "clear_output()\n",
    "fig = plot_redatuming(redatum)"
   ]
  },
  {
   "cell_type": "code",
   "execution_count": null,
   "id": "26f7673c-2fb7-49e1-b9b4-bdc3a6b6c487",
   "metadata": {},
   "outputs": [],
   "source": [
    "def dec(latent_code):\n",
    "    tem = latent_code[np.newaxis, np.newaxis, :]\n",
    "    tem = np.repeat(tem, nt, axis=1)\n",
    "    tem = model.mixer.predict(tem, verbose=0)\n",
    "    return tem[0,0,:,0]\n",
    "def enc(state, shift):\n",
    "    tem = np.array( [g(state, ((k+shift)%d)/d) for k in range(d)] )\n",
    "    tem = tem[np.newaxis, np.newaxis, :, np.newaxis]\n",
    "    tem = np.repeat(tem, nt, axis=1)\n",
    "    tem = model.encoder.predict(tem, verbose=0)\n",
    "    return tem[0][0:p+q]\n",
    "state_source = 0\n",
    "nuisance_source = 1\n",
    "fig, axs = plt.subplots(1, d, sharex=True, sharey=True, figsize=(4*d,4), dpi=40)\n",
    "for i in range(d):\n",
    "    coherent_code = enc(state_source, 0)[0: p]\n",
    "    nuisance_code = enc(nuisance_source, i)[p: p+q]\n",
    "    latent_code = np.concatenate([coherent_code, nuisance_code], axis=0)\n",
    "    axs[i].plot(range(d), dec(latent_code))\n",
    "    axs[i].set_title('%d'%i)\n",
    "plt.suptitle('$\\hat{X}_{s=%d \\mapsto s=%d}$'%(nuisance_source, state_source), fontsize=50)\n",
    "plt.subplots_adjust(top=0.6)\n",
    "plt.show()\n",
    "#fig.savefig('./plots/%dto%d'%(nuisance_source, state_source))"
   ]
  },
  {
   "cell_type": "code",
   "execution_count": null,
   "id": "51f12b72-3b57-449f-834c-b0270e170a7a",
   "metadata": {},
   "outputs": [],
   "source": [
    "dim = 2\n",
    "pca = PCA(n_components=dim)\n",
    "MRA_pca = MRA_generate(d,nt,1000,sigma,ne,g,replace=1)\n",
    "MRA_pca.generate_default()\n",
    "Cs,Ns = latent(model,MRA_pca)\n",
    "N_reshaped = Ns.reshape(-1,q)\n",
    "N_shifts = MRA_pca.shifts.reshape(-1,1)\n",
    "pca_N = pca.fit_transform(N_reshaped)\n",
    "pca_N = N_reshaped[:,1:3]\n",
    "if dim == 3:\n",
    "    pca_N = N_reshaped\n",
    "    df = pd.DataFrame(pca_N, columns = ['1st','2nd','3rd'][0:dim])\n",
    "    df_states = pd.DataFrame(np.repeat(MRA_pca.states,nt),columns=['state']).astype('object')\n",
    "    df_shifts = pd.DataFrame(N_shifts,columns=['shift'])\n",
    "    df = pd.concat([df,df_states,df_shifts],axis=1)\n",
    "    fig = px.scatter_3d(df, x='1st', y='2nd', z='3rd', color='state', text='shift')\n",
    "if dim ==2:\n",
    "    df = pd.DataFrame(pca_N, columns = ['1st','2nd','3rd'][0:dim])\n",
    "    df_states = pd.DataFrame(np.repeat(MRA_pca.states,nt),columns=['state']).astype('object')\n",
    "    df_shifts = pd.DataFrame(N_shifts,columns=['shift'])\n",
    "    df = pd.concat([df,df_states,df_shifts],axis=1)\n",
    "    #df = df[df['state']==0]\n",
    "    df = df[0:1000]\n",
    "    fig = px.scatter(df, x='1st', y='2nd', color='state', text='shift')\n",
    "    fig.update_layout(height=600, margin=dict(l=0, r=0, t=0, b=0))\n",
    "fig.show()"
   ]
  },
  {
   "cell_type": "code",
   "execution_count": null,
   "id": "1d5e51f5-6bdb-4364-8219-dd34eabd7604",
   "metadata": {},
   "outputs": [],
   "source": [
    "def dec(latent_code):\n",
    "    tem = latent_code[np.newaxis, np.newaxis, :]\n",
    "    tem = np.repeat(tem, nt, axis=1)\n",
    "    tem = model.mixer.predict(tem, verbose=0)\n",
    "    return tem[0,0,:,0]\n",
    "def enc(state, shift):\n",
    "    tem = np.array( [g(state, ((k+shift)%d)/d) for k in range(d)] )\n",
    "    tem = tem[np.newaxis, np.newaxis, :, np.newaxis]\n",
    "    tem = np.repeat(tem, nt, axis=1)\n",
    "    tem = model.encoder.predict(tem, verbose=0)\n",
    "    return tem[0][0:p+q]\n",
    "state_source = 0\n",
    "nuisance_source = 0\n",
    "fig, axs = plt.subplots(1, 1, sharex=True, sharey=True, figsize=(4,4), dpi=200)\n",
    "a=40\n",
    "b=0\n",
    "for i in np.arange(0,11,1):\n",
    "    alpha = 0.1*i\n",
    "    coherent_code = enc(state_source, 0)[0: p]\n",
    "    nuisance_code55 = enc(nuisance_source, a)[p: p+q]\n",
    "    nuisance_code56 = enc(nuisance_source, b)[p: p+q]\n",
    "    Cos = sum(nuisance_code56*nuisance_code55)\n",
    "    angle55 = np.arccos(Cos)*alpha\n",
    "    angle56 = np.arccos(Cos)*(1-alpha)\n",
    "    nuisance_code = np.sin(angle55)*nuisance_code55 + np.sin(angle56)*nuisance_code56\n",
    "    nuisance_code = nuisance_code / np.linalg.norm(nuisance_code)\n",
    "    latent_code = np.concatenate([coherent_code, nuisance_code], axis=0)\n",
    "    latent_code55 = np.concatenate([coherent_code, nuisance_code55], axis=0)\n",
    "    latent_code56 = np.concatenate([coherent_code, nuisance_code56], axis=0)\n",
    "    c=alpha*a+(1-alpha)*b\n",
    "    axs.plot(range(d), dec(latent_code), color=(alpha,0,1-alpha))\n",
    "    #axs.plot(range(d), [g(state_source, ((k+c)%d)/d) for k in range(d)], color=(1,0,1))\n",
    "    #axs[i].plot(range(d), dec(latent_code55), label='output %d'%a)\n",
    "    #axs[i].plot(range(d), dec(latent_code56), label='output %d'%b)\n",
    "    #axs.legend()\n",
    "plt.legend()\n",
    "plt.show()\n",
    "#fig.savefig('./plots/%dto%d'%(nuisance_source, state_source))"
   ]
  },
  {
   "cell_type": "code",
   "execution_count": null,
   "id": "fbe08f54-9c5c-46b0-9cca-7f3b2b6b9d6c",
   "metadata": {},
   "outputs": [],
   "source": []
  },
  {
   "cell_type": "code",
   "execution_count": null,
   "id": "d6a8bdbc-5d49-44ca-b545-25fa068deb40",
   "metadata": {},
   "outputs": [],
   "source": [
    "import os\n",
    "import imageio\n",
    "images = []\n",
    "for i in trange(len(img_list)):\n",
    "    fig = img_list[i]\n",
    "    with open(\"fig1.png\", \"wb\") as f:\n",
    "        f.write(scope.transform(fig, format=\"png\"))\n",
    "    images.append(imageio.imread('./fig1.png'))\n",
    "imageio.mimsave('./movie9.gif', images)"
   ]
  },
  {
   "cell_type": "code",
   "execution_count": null,
   "id": "71069e94-18c3-47a4-b828-93788822ba70",
   "metadata": {},
   "outputs": [],
   "source": []
  },
  {
   "cell_type": "code",
   "execution_count": null,
   "id": "e8637fbe-3ad8-4bd6-8772-b20005e90bad",
   "metadata": {},
   "outputs": [],
   "source": []
  },
  {
   "cell_type": "code",
   "execution_count": null,
   "id": "09f11d56-efae-4e9c-b35e-a55ef9555477",
   "metadata": {},
   "outputs": [],
   "source": []
  },
  {
   "cell_type": "code",
   "execution_count": null,
   "id": "2eada9cd-e188-4f42-9ccf-22d3bcd3a8cd",
   "metadata": {},
   "outputs": [],
   "source": []
  },
  {
   "cell_type": "code",
   "execution_count": null,
   "id": "e8b5f1f3-12c8-41ae-b648-4b0248aa3c75",
   "metadata": {},
   "outputs": [],
   "source": []
  }
 ],
 "metadata": {
  "kernelspec": {
   "display_name": "Python 3 (ipykernel)",
   "language": "python",
   "name": "python3"
  },
  "language_info": {
   "codemirror_mode": {
    "name": "ipython",
    "version": 3
   },
   "file_extension": ".py",
   "mimetype": "text/x-python",
   "name": "python",
   "nbconvert_exporter": "python",
   "pygments_lexer": "ipython3",
   "version": "3.9.12"
  }
 },
 "nbformat": 4,
 "nbformat_minor": 5
}
