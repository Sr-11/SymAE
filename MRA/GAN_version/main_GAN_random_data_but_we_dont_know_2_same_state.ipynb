{
 "cells": [
  {
   "cell_type": "markdown",
   "id": "142c52d0-d442-4c3d-94a7-40d6eb980d3e",
   "metadata": {},
   "source": [
    "# Import packages"
   ]
  },
  {
   "cell_type": "markdown",
   "id": "be32a819-ee3d-4992-85c8-e25c20df77d6",
   "metadata": {
    "tags": []
   },
   "source": [
    "### Import python packages"
   ]
  },
  {
   "cell_type": "code",
   "execution_count": 1,
   "id": "29b6b0f5-36ce-435e-9af6-b9394bdff7fe",
   "metadata": {},
   "outputs": [],
   "source": [
    "import re,os\n",
    "os.environ[\"CUDA_VISIBLE_DEVICES\"]=\"6\"\n",
    "import numpy as np\n",
    "import tensorflow as tf\n",
    "import matplotlib.pyplot as plt\n",
    "import matplotlib.patches as mpatches\n",
    "from IPython.display import clear_output\n",
    "import pandas as pd\n",
    "import math\n",
    "import random\n",
    "from datetime import datetime\n",
    "from scipy.stats import linregress\n",
    "from sklearn.decomposition import PCA\n",
    "from tqdm import trange, tqdm\n",
    "from mpl_toolkits.mplot3d import Axes3D\n",
    "import plotly.express as px\n",
    "import plotly.graph_objects as go\n",
    "from sklearn.manifold import TSNE\n",
    "import scipy\n",
    "from scipy import interpolate\n",
    "tfk = tf.keras\n",
    "tfkl = tf.keras.layers\n",
    "tfkltd= tf.keras.layers.TimeDistributed\n",
    "clear_output()"
   ]
  },
  {
   "cell_type": "markdown",
   "id": "9de24bc6-53dd-4662-848e-172b1c5cccd6",
   "metadata": {
    "tags": []
   },
   "source": [
    "### Import custom packages"
   ]
  },
  {
   "cell_type": "code",
   "execution_count": 2,
   "id": "dd50e50c-cd4a-4bce-bbbd-52c40895575b",
   "metadata": {},
   "outputs": [
    {
     "name": "stdout",
     "output_type": "stream",
     "text": [
      "Num GPUs Available:  1\n",
      "TensorFlow Version:  2.9.1\n"
     ]
    }
   ],
   "source": [
    "from MRA_generate import MRA_generate\n",
    "from symae_model import SymAE\n",
    "from parameters import *\n",
    "from redatuming import redatuming\n",
    "from latent import latent\n",
    "from plot_training import plot_training\n",
    "from plot_redatuming import plot_redatuming\n",
    "from plot_save import plot_save\n",
    "import symae_core as symae"
   ]
  },
  {
   "cell_type": "markdown",
   "id": "1ffcb044-d886-483e-947e-54a5e9ef56d3",
   "metadata": {
    "tags": []
   },
   "source": [
    "# Train SymAE"
   ]
  },
  {
   "cell_type": "markdown",
   "id": "0a7bb053-92ed-4a2f-8ca4-2afbc4b26b72",
   "metadata": {
    "tags": []
   },
   "source": [
    "### Layers"
   ]
  },
  {
   "cell_type": "code",
   "execution_count": 77,
   "id": "7bf99139-62f2-4608-bffe-64b1cc6e4ee3",
   "metadata": {},
   "outputs": [],
   "source": [
    "sym_encoder = symae.SymmetricEncoderDense1D(p, d, [2, 2, 2]) #(N,nt,d)->(N,p)\n",
    "nui_encoder = symae.NuisanceEncoderDense1D(q, d, [2, 2, 2]) #(N,nt,d)->(N,nt,q)\n",
    "latentcat=symae.LatentCat(dropout_rate) #(N,p),(N,nt*q)->(N,p+nt*q)\n",
    "distzsym = symae.DistributeZsym(nt, p, q) #(N,p+q*nt)->(N,nt,p+q)\n",
    "mix_decoder = symae.MixerDense1D(d, p+q) #(N,nt,p+q)->(N,nt,d)\n",
    "class discriminator(tf.keras.Model): #(N,nt,p+q)->True/False\n",
    "    def __init__(self):\n",
    "        super(discriminator, self).__init__(name='')\n",
    "        self.d1 = tfkltd(tfkl.Dense(100, activation=tf.keras.layers.LeakyReLU(0.2)))\n",
    "        self.d2 = tfkltd(tfkl.Dense(100, activation=tf.keras.layers.LeakyReLU(0.2)))\n",
    "        self.d3 = tfkltd(tfkl.Dense(100, activation=tf.keras.layers.LeakyReLU(0.2)))\n",
    "        self.d4 = tfkltd(tfkl.Dense(100, activation=tf.keras.layers.LeakyReLU(0.2)))\n",
    "        self.d5 = tfkltd(tfkl.Dense(1, activation='sigmoid'))\n",
    "    def call(self, x):\n",
    "        x = self.d1(x)\n",
    "        x = self.d2(x)\n",
    "        x = self.d3(x)\n",
    "        x = self.d4(x)\n",
    "        x = self.d5(x)\n",
    "        return x\n",
    "discriminator = discriminator() #(N,nt,p+q)->True/False"
   ]
  },
  {
   "cell_type": "code",
   "execution_count": 78,
   "id": "8c29d884-cd53-4910-95d2-a18b3eb57e58",
   "metadata": {},
   "outputs": [],
   "source": [
    "sym_encoder._name = 'sym_encoder'\n",
    "nui_encoder._name = 'nui_encoder'\n",
    "latentcat._name = 'latentcat'\n",
    "distzsym._name = 'distzsym'\n",
    "mix_decoder._name = 'mix_decoder'\n",
    "discriminator._name = 'discriminator'"
   ]
  },
  {
   "cell_type": "code",
   "execution_count": 79,
   "id": "68e5c76d-1999-4806-bae7-7ca7819c6619",
   "metadata": {},
   "outputs": [],
   "source": [
    "symae_input = tfk.Input(shape=(nt,d))\n",
    "sym_out = sym_encoder(symae_input)\n",
    "sym_repeat = tfkl.RepeatVector(nt)(sym_out)\n",
    "\n",
    "nui_out = nui_encoder(symae_input)\n",
    "dec_input = tf.concat([sym_repeat, nui_out], axis=2)\n",
    "symae_output = mix_decoder(dec_input)\n",
    "\n",
    "ae = tfk.Model(symae_input,symae_output, name=\"SymAE\") \n",
    "encoder = tfk.Model(symae_input,dec_input, name=\"encoder\") "
   ]
  },
  {
   "cell_type": "code",
   "execution_count": 80,
   "id": "ebd32ce1-3f16-4b51-99b8-2d837aa83b16",
   "metadata": {},
   "outputs": [
    {
     "data": {
      "text/plain": [
       "0.5768429090392192"
      ]
     },
     "execution_count": 80,
     "metadata": {},
     "output_type": "execute_result"
    }
   ],
   "source": [
    "np.random.rand()"
   ]
  },
  {
   "cell_type": "markdown",
   "id": "8a1a48c9-eab9-4775-af0c-5b3181b52ae6",
   "metadata": {
    "tags": []
   },
   "source": [
    "### Data"
   ]
  },
  {
   "cell_type": "code",
   "execution_count": 81,
   "id": "a29c8d8a-d2a0-4517-88b8-4ce009ec05ab",
   "metadata": {},
   "outputs": [],
   "source": [
    "n_datum = 10000\n",
    "n_basis = 3\n",
    "basis = np.array([np.cos(k*2*np.pi/d*np.arange(0,d,1)) for k in range(n_basis-1)], dtype=np.float32)\n",
    "basis = np.concatenate([basis, np.array([[1]*30+[-1]*70])], axis=0)\n",
    "all_instance = np.empty((n_datum, nt, d), dtype=float)\n",
    "all_state = np.empty((n_datum, d), dtype=float)\n",
    "all_shift = np.empty((n_datum, nt), dtype=int)\n",
    "for i in range(n_datum):\n",
    "    coef = np.random.rand(1,n_basis)\n",
    "    if np.random.rand()>0.5:\n",
    "        coef[0,:] = [0,1,0]\n",
    "    else:\n",
    "        coef[0,:] = [0,0,1]\n",
    "    all_state[i,:] = coef@basis\n",
    "    all_shift[i,:] = np.random.randint(0, d, (nt))\n",
    "    for j in range(nt):\n",
    "        shift = all_shift[i,j]\n",
    "        all_instance[i,j,:] = np.roll(all_state[i,:], shift)"
   ]
  },
  {
   "cell_type": "code",
   "execution_count": 82,
   "id": "9b268e1e-9c8b-4ea3-a907-febe1fcd3ca6",
   "metadata": {},
   "outputs": [],
   "source": [
    "n_pair = 10000\n",
    "all_state_source = np.empty((n_pair, nt, d), dtype=float)\n",
    "all_shift_source =  np.empty((n_pair, nt, d), dtype=int)\n",
    "all_redatum = np.empty((n_pair, nt, d), dtype=float)\n",
    "for k in range(n_pair):\n",
    "    i = np.random.randint(0, n_datum)\n",
    "    j = np.random.randint(0, n_datum)\n",
    "    all_state_source[k,:,:] = all_instance[i,:,:]\n",
    "    all_shift_source[k,:,:] = all_instance[j,:,:]\n",
    "    for t in range(nt):\n",
    "        all_redatum[k,t,:] = np.roll(all_state[i,:], all_shift[j,t])"
   ]
  },
  {
   "cell_type": "code",
   "execution_count": 83,
   "id": "7ecf8a26-66b6-464c-b9cc-49db119fffcb",
   "metadata": {},
   "outputs": [],
   "source": [
    "train_dataset_single = tf.data.Dataset.from_tensor_slices((all_instance,\n",
    "                                                           all_state,\n",
    "                                                           all_shift)).shuffle(512).batch(128)   "
   ]
  },
  {
   "cell_type": "code",
   "execution_count": 84,
   "id": "0b636828-abfd-46ec-a518-80a417cd06b9",
   "metadata": {},
   "outputs": [],
   "source": [
    "train_dataset_pair = tf.data.Dataset.from_tensor_slices((all_state_source,\n",
    "                                                         all_shift_source,\n",
    "                                                         all_redatum)).shuffle(512).batch(128)   "
   ]
  },
  {
   "cell_type": "code",
   "execution_count": 85,
   "id": "b31c8839-e520-4766-8619-288dacced98b",
   "metadata": {},
   "outputs": [],
   "source": [
    "train_dataset_mix = tf.data.Dataset.from_tensor_slices((all_instance,\n",
    "                                                        all_state_source,\n",
    "                                                        all_shift_source)).shuffle(512).batch(128)   "
   ]
  },
  {
   "cell_type": "code",
   "execution_count": 86,
   "id": "a9f19d64-93a4-497b-91e5-60486a388a8f",
   "metadata": {},
   "outputs": [],
   "source": []
  },
  {
   "cell_type": "code",
   "execution_count": null,
   "id": "69557b9b-ec1a-425d-ae61-94a326b36b24",
   "metadata": {},
   "outputs": [],
   "source": []
  },
  {
   "cell_type": "markdown",
   "id": "e8f32979-f41f-4da9-80b1-2a91cac1d559",
   "metadata": {
    "tags": []
   },
   "source": [
    "### PCA"
   ]
  },
  {
   "cell_type": "code",
   "execution_count": 87,
   "id": "69095748-85af-4321-bc41-836941e324b7",
   "metadata": {},
   "outputs": [
    {
     "data": {
      "text/plain": [
       "Text(0.5, 0.98, 'Show the shape of all $n_{test}$ = 5 states')"
      ]
     },
     "execution_count": 87,
     "metadata": {},
     "output_type": "execute_result"
    },
    {
     "data": {
      "image/png": "[encoded data removed]",
      "text/plain": [
       "<Figure size 1440x288 with 5 Axes>"
      ]
     },
     "metadata": {
      "needs_background": "light"
     },
     "output_type": "display_data"
    }
   ],
   "source": [
    "ne_test = 5\n",
    "repeat = d//nt\n",
    "nx = ne_test * repeat\n",
    "X_test = np.empty((nx,nt,d))\n",
    "states_sub = np.empty((ne_test, d))\n",
    "coef = np.random.rand(ne_test,n_basis)\n",
    "for i in range(ne_test):\n",
    "    if np.random.rand()>0.5:\n",
    "        coef[i,:] = [0,1,0]\n",
    "    else:\n",
    "        coef[i,:] = [0,0,1]\n",
    "states_sub = tf.linalg.matmul(coef,basis)\n",
    "thetas_test = np.repeat(states_sub, repeat, axis=0)\n",
    "ls_test = np.tile(np.reshape(np.arange(d), (repeat, nt)), (ne_test, 1))\n",
    "for i in range(nx):\n",
    "    for j in range(nt):\n",
    "        X_test[i,j,:] = np.roll(thetas_test[i,:], ls_test[i,j])\n",
    "pca_cb = PCA(n_components=2)\n",
    "df_states = pd.DataFrame(np.repeat(range(ne_test), d),columns=['state'])\n",
    "df_shifts = pd.DataFrame(ls_test.reshape(-1, 1), columns=['shift'])\n",
    "clear_output()\n",
    "fig, axs = plt.subplots(1, ne_test, sharex=True, sharey=True, figsize=(ne_test*4, 4))\n",
    "for i in range(ne_test):\n",
    "    axs[i].plot(range(d), X_test[i*repeat,0,:])\n",
    "plt.suptitle('Show the shape of all $n_{test}$ = %d states'%ne_test)"
   ]
  },
  {
   "cell_type": "code",
   "execution_count": 88,
   "id": "704741d2-90d6-45a0-ab94-2d8c10349f71",
   "metadata": {},
   "outputs": [],
   "source": [
    "loss=0\n",
    "def plot_my():\n",
    "    Ns = encoder.predict(X_test)[:, :, p:p+q]\n",
    "    N_reshaped = Ns.reshape(-1, q)\n",
    "    if q==2:\n",
    "        pca_N = N_reshaped\n",
    "    else:\n",
    "        pca_N = pca_cb.fit_transform(N_reshaped)\n",
    "    df = pd.DataFrame(pca_N, columns = ['1st','2nd'])\n",
    "    df = pd.concat([df,df_states,df_shifts],axis=1)\n",
    "    fig = px.scatter(df, x='1st', y='2nd', color='state', \n",
    "                     text='shift', title='q=%d,loss=%f'%(q,loss), \n",
    "                     color_continuous_scale=px.colors.sequential.Viridis)\n",
    "    fig.update_layout(height=500)\n",
    "    fig.show()"
   ]
  },
  {
   "cell_type": "markdown",
   "id": "901651e9-642c-47b8-b5fb-da4ccf629b34",
   "metadata": {
    "tags": []
   },
   "source": [
    "### Optimizer"
   ]
  },
  {
   "cell_type": "code",
   "execution_count": 89,
   "id": "7222a911-3810-4060-af02-2876d0f09c85",
   "metadata": {},
   "outputs": [],
   "source": [
    "optimizer = tf.keras.optimizers.Adam(0.01)"
   ]
  },
  {
   "cell_type": "markdown",
   "id": "ae1658a2-65d9-4d45-8002-f858f15cc26d",
   "metadata": {},
   "source": [
    "### Loss"
   ]
  },
  {
   "cell_type": "code",
   "execution_count": 90,
   "id": "e9590316-a8e4-4a3c-9e20-0f5598bd1810",
   "metadata": {},
   "outputs": [],
   "source": [
    "mse = tf.keras.losses.MeanSquaredError()\n",
    "cross_entropy = tf.keras.losses.BinaryCrossentropy()\n",
    "def encoder_generator_loss(instance, state_source, shift_source):\n",
    "    reconstruction_loss = mse(instance, ae(instance))\n",
    "    \n",
    "    latent_code_state = encoder(state_source)\n",
    "    latent_code_shift = encoder(shift_source)\n",
    "    latent_state = latent_code_state[:, 0:p]\n",
    "    latent_shift = latent_code_shift[:, p:p+q*nt]\n",
    "    merger = tf.concat([latent_state, latent_shift], axis=1)\n",
    "    \n",
    "    fake_out = discriminator(merger)\n",
    "    adversarial_loss = cross_entropy(tf.ones_like(fake_out), fake_out)\n",
    "    \n",
    "    return reconstruction_loss, adversarial_loss\n",
    "\n",
    "def redatuming_loss(data):\n",
    "    state_instance, shift_instance, redatum_instance = data\n",
    "    latent_code_state = encoder(state_instance)\n",
    "    latent_code_shift = encoder(shift_instance)\n",
    "    latent_state = latent_code_state[:, :, 0:p]\n",
    "    latent_shift = latent_code_shift[:, :, p:p+q]\n",
    "    merger = tf.concat([latent_state, latent_shift], axis=2)\n",
    "    redatum = mix_decoder(merger)\n",
    "    synthetic = redatum_instance\n",
    "    return mse(redatum, synthetic)\n",
    "\n",
    "def discriminator_loss(instance, state_source, shift_source):\n",
    "    latent_code_real = encoder(instance)\n",
    "    latent_code_state = encoder(state_source)\n",
    "    latent_code_shift = encoder(shift_source)\n",
    "    latent_state = latent_code_state[:, 0:p]\n",
    "    latent_shift = latent_code_shift[:, p:p+q*nt]\n",
    "    merger = tf.concat([latent_state, latent_shift], axis=1)\n",
    "\n",
    "    real_out = discriminator(latent_code_real)\n",
    "    fake_out = discriminator(merger)\n",
    "    real_loss = cross_entropy(tf.ones_like(real_out), real_out)\n",
    "    fake_loss = cross_entropy(tf.zeros_like(fake_out), fake_out)\n",
    "    return real_loss, fake_loss\n",
    "'''\n",
    "@tf.function\n",
    "def train_step(data):\n",
    "    instance, state_source, shift_source = data\n",
    "    \n",
    "    with tf.GradientTape() as tape1, tf.GradientTape() as tape2:\n",
    "        rec_loss, adver_loss = encoder_generator_loss(instance, state_source, shift_source)\n",
    "        disc_loss = discriminator_loss(instance, state_source, shift_source)\n",
    "        ae_loss = rec_loss + adver_loss\n",
    "    ae_gradients = tape1.gradient(ae_loss, ae.trainable_variables)\n",
    "    disc_gradients = tape2.gradient(disc_loss, discriminator.trainable_variables)\n",
    "    optimizer.apply_gradients(zip(ae_gradients, ae.trainable_variables))\n",
    "    optimizer.apply_gradients(zip(disc_gradients, discriminator.trainable_variables))\n",
    "    return rec_loss, adver_loss, disc_loss\n",
    "'''\n",
    "@tf.function\n",
    "def train_step(data):\n",
    "    instance, state_source, shift_source = data\n",
    "    with tf.GradientTape() as tape1, tf.GradientTape() as tape2:\n",
    "        rec_loss, adver_loss = encoder_generator_loss(instance, state_source, shift_source)\n",
    "        real_loss, fake_loss = discriminator_loss(instance, state_source, shift_source)\n",
    "        disc_loss = real_loss + fake_loss\n",
    "    ae_gradients = tape1.gradient(rec_loss, ae.trainable_variables)\n",
    "    disc_gradients = tape2.gradient(disc_loss, discriminator.trainable_variables)\n",
    "    optimizer.apply_gradients(zip(ae_gradients, ae.trainable_variables))\n",
    "    optimizer.apply_gradients(zip(disc_gradients, discriminator.trainable_variables))\n",
    "    \n",
    "    return rec_loss, adver_loss, real_loss, fake_loss\n"
   ]
  },
  {
   "cell_type": "code",
   "execution_count": 91,
   "id": "1a97c9cf-6b1e-45af-848e-da2ce3b7d12e",
   "metadata": {},
   "outputs": [
    {
     "name": "stdout",
     "output_type": "stream",
     "text": [
      "1/1 [==============================] - 0s 22ms/step\n"
     ]
    },
    {
     "data": {
      "application/vnd.plotly.v1+json": {
       "config": {
        "plotlyServerURL": "https://plot.ly"
       },
       "data": [
        {
         "hovertemplate": "1st=%{x}<br>2nd=%{y}<br>shift=%{text}<br>state=%{marker.color}<extra></extra>",
         "legendgroup": "",
         "marker": {
          "color": [
           0,
           0,
           0,
           0,
           0,
           0,
           0,
           0,
           0,
           0,
           0,
           0,
           0,
           0,
           0,
           0,
           0,
           0,
           0,
           0,
           0,
           0,
           0,
           0,
           0,
           0,
           0,
           0,
           0,
           0,
           0,
           0,
           0,
           0,
           0,
           0,
           0,
           0,
           0,
           0,
           0,
           0,
           0,
           0,
           0,
           0,
           0,
           0,
           0,
           0,
           0,
           0,
           0,
           0,
           0,
           0,
           0,
           0,
           0,
           0,
           0,
           0,
           0,
           0,
           0,
           0,
           0,
           0,
           0,
           0,
           0,
           0,
           0,
           0,
           0,
           0,
           0,
           0,
           0,
           0,
           0,
           0,
           0,
           0,
           0,
           0,
           0,
           0,
           0,
           0,
           0,
           0,
           0,
           0,
           0,
           0,
           0,
           0,
           0,
           0,
           1,
           1,
           1,
           1,
           1,
           1,
           1,
           1,
           1,
           1,
           1,
           1,
           1,
           1,
           1,
           1,
           1,
           1,
           1,
           1,
           1,
           1,
           1,
           1,
           1,
           1,
           1,
           1,
           1,
           1,
           1,
           1,
           1,
           1,
           1,
           1,
           1,
           1,
           1,
           1,
           1,
           1,
           1,
           1,
           1,
           1,
           1,
           1,
           1,
           1,
           1,
           1,
           1,
           1,
           1,
           1,
           1,
           1,
           1,
           1,
           1,
           1,
           1,
           1,
           1,
           1,
           1,
           1,
           1,
           1,
           1,
           1,
           1,
           1,
           1,
           1,
           1,
           1,
           1,
           1,
           1,
           1,
           1,
           1,
           1,
           1,
           1,
           1,
           1,
           1,
           1,
           1,
           1,
           1,
           1,
           1,
           1,
           1,
           1,
           1,
           2,
           2,
           2,
           2,
           2,
           2,
           2,
           2,
           2,
           2,
           2,
           2,
           2,
           2,
           2,
           2,
           2,
           2,
           2,
           2,
           2,
           2,
           2,
           2,
           2,
           2,
           2,
           2,
           2,
           2,
           2,
           2,
           2,
           2,
           2,
           2,
           2,
           2,
           2,
           2,
           2,
           2,
           2,
           2,
           2,
           2,
           2,
           2,
           2,
           2,
           2,
           2,
           2,
           2,
           2,
           2,
           2,
           2,
           2,
           2,
           2,
           2,
           2,
           2,
           2,
           2,
           2,
           2,
           2,
           2,
           2,
           2,
           2,
           2,
           2,
           2,
           2,
           2,
           2,
           2,
           2,
           2,
           2,
           2,
           2,
           2,
           2,
           2,
           2,
           2,
           2,
           2,
           2,
           2,
           2,
           2,
           2,
           2,
           2,
           2,
           3,
           3,
           3,
           3,
           3,
           3,
           3,
           3,
           3,
           3,
           3,
           3,
           3,
           3,
           3,
           3,
           3,
           3,
           3,
           3,
           3,
           3,
           3,
           3,
           3,
           3,
           3,
           3,
           3,
           3,
           3,
           3,
           3,
           3,
           3,
           3,
           3,
           3,
           3,
           3,
           3,
           3,
           3,
           3,
           3,
           3,
           3,
           3,
           3,
           3,
           3,
           3,
           3,
           3,
           3,
           3,
           3,
           3,
           3,
           3,
           3,
           3,
           3,
           3,
           3,
           3,
           3,
           3,
           3,
           3,
           3,
           3,
           3,
           3,
           3,
           3,
           3,
           3,
           3,
           3,
           3,
           3,
           3,
           3,
           3,
           3,
           3,
           3,
           3,
           3,
           3,
           3,
           3,
           3,
           3,
           3,
           3,
           3,
           3,
           3,
           4,
           4,
           4,
           4,
           4,
           4,
           4,
           4,
           4,
           4,
           4,
           4,
           4,
           4,
           4,
           4,
           4,
           4,
           4,
           4,
           4,
           4,
           4,
           4,
           4,
           4,
           4,
           4,
           4,
           4,
           4,
           4,
           4,
           4,
           4,
           4,
           4,
           4,
           4,
           4,
           4,
           4,
           4,
           4,
           4,
           4,
           4,
           4,
           4,
           4,
           4,
           4,
           4,
           4,
           4,
           4,
           4,
           4,
           4,
           4,
           4,
           4,
           4,
           4,
           4,
           4,
           4,
           4,
           4,
           4,
           4,
           4,
           4,
           4,
           4,
           4,
           4,
           4,
           4,
           4,
           4,
           4,
           4,
           4,
           4,
           4,
           4,
           4,
           4,
           4,
           4,
           4,
           4,
           4,
           4,
           4,
           4,
           4,
           4,
           4
          ],
          "coloraxis": "coloraxis",
          "symbol": "circle"
         },
         "mode": "markers+text",
         "name": "",
         "orientation": "v",
         "showlegend": false,
         "text": [
          0,
          1,
          2,
          3,
          4,
          5,
          6,
          7,
          8,
          9,
          10,
          11,
          12,
          13,
          14,
          15,
          16,
          17,
          18,
          19,
          20,
          21,
          22,
          23,
          24,
          25,
          26,
          27,
          28,
          29,
          30,
          31,
          32,
          33,
          34,
          35,
          36,
          37,
          38,
          39,
          40,
          41,
          42,
          43,
          44,
          45,
          46,
          47,
          48,
          49,
          50,
          51,
          52,
          53,
          54,
          55,
          56,
          57,
          58,
          59,
          60,
          61,
          62,
          63,
          64,
          65,
          66,
          67,
          68,
          69,
          70,
          71,
          72,
          73,
          74,
          75,
          76,
          77,
          78,
          79,
          80,
          81,
          82,
          83,
          84,
          85,
          86,
          87,
          88,
          89,
          90,
          91,
          92,
          93,
          94,
          95,
          96,
          97,
          98,
          99,
          0,
          1,
          2,
          3,
          4,
          5,
          6,
          7,
          8,
          9,
          10,
          11,
          12,
          13,
          14,
          15,
          16,
          17,
          18,
          19,
          20,
          21,
          22,
          23,
          24,
          25,
          26,
          27,
          28,
          29,
          30,
          31,
          32,
          33,
          34,
          35,
          36,
          37,
          38,
          39,
          40,
          41,
          42,
          43,
          44,
          45,
          46,
          47,
          48,
          49,
          50,
          51,
          52,
          53,
          54,
          55,
          56,
          57,
          58,
          59,
          60,
          61,
          62,
          63,
          64,
          65,
          66,
          67,
          68,
          69,
          70,
          71,
          72,
          73,
          74,
          75,
          76,
          77,
          78,
          79,
          80,
          81,
          82,
          83,
          84,
          85,
          86,
          87,
          88,
          89,
          90,
          91,
          92,
          93,
          94,
          95,
          96,
          97,
          98,
          99,
          0,
          1,
          2,
          3,
          4,
          5,
          6,
          7,
          8,
          9,
          10,
          11,
          12,
          13,
          14,
          15,
          16,
          17,
          18,
          19,
          20,
          21,
          22,
          23,
          24,
          25,
          26,
          27,
          28,
          29,
          30,
          31,
          32,
          33,
          34,
          35,
          36,
          37,
          38,
          39,
          40,
          41,
          42,
          43,
          44,
          45,
          46,
          47,
          48,
          49,
          50,
          51,
          52,
          53,
          54,
          55,
          56,
          57,
          58,
          59,
          60,
          61,
          62,
          63,
          64,
          65,
          66,
          67,
          68,
          69,
          70,
          71,
          72,
          73,
          74,
          75,
          76,
          77,
          78,
          79,
          80,
          81,
          82,
          83,
          84,
          85,
          86,
          87,
          88,
          89,
          90,
          91,
          92,
          93,
          94,
          95,
          96,
          97,
          98,
          99,
          0,
          1,
          2,
          3,
          4,
          5,
          6,
          7,
          8,
          9,
          10,
          11,
          12,
          13,
          14,
          15,
          16,
          17,
          18,
          19,
          20,
          21,
          22,
          23,
          24,
          25,
          26,
          27,
          28,
          29,
          30,
          31,
          32,
          33,
          34,
          35,
          36,
          37,
          38,
          39,
          40,
          41,
          42,
          43,
          44,
          45,
          46,
          47,
          48,
          49,
          50,
          51,
          52,
          53,
          54,
          55,
          56,
          57,
          58,
          59,
          60,
          61,
          62,
          63,
          64,
          65,
          66,
          67,
          68,
          69,
          70,
          71,
          72,
          73,
          74,
          75,
          76,
          77,
          78,
          79,
          80,
          81,
          82,
          83,
          84,
          85,
          86,
          87,
          88,
          89,
          90,
          91,
          92,
          93,
          94,
          95,
          96,
          97,
          98,
          99,
          0,
          1,
          2,
          3,
          4,
          5,
          6,
          7,
          8,
          9,
          10,
          11,
          12,
          13,
          14,
          15,
          16,
          17,
          18,
          19,
          20,
          21,
          22,
          23,
          24,
          25,
          26,
          27,
          28,
          29,
          30,
          31,
          32,
          33,
          34,
          35,
          36,
          37,
          38,
          39,
          40,
          41,
          42,
          43,
          44,
          45,
          46,
          47,
          48,
          49,
          50,
          51,
          52,
          53,
          54,
          55,
          56,
          57,
          58,
          59,
          60,
          61,
          62,
          63,
          64,
          65,
          66,
          67,
          68,
          69,
          70,
          71,
          72,
          73,
          74,
          75,
          76,
          77,
          78,
          79,
          80,
          81,
          82,
          83,
          84,
          85,
          86,
          87,
          88,
          89,
          90,
          91,
          92,
          93,
          94,
          95,
          96,
          97,
          98,
          99
         ],
         "type": "scatter",
         "x": [
          -29.315677642822266,
          -33.0663948059082,
          -34.50074768066406,
          -32.98094177246094,
          -29.259170532226562,
          -26.49343490600586,
          -27.16099739074707,
          -29.39777183532715,
          -31.441049575805664,
          -32.40544509887695,
          -30.404848098754883,
          -26.823545455932617,
          -23.570859909057617,
          -20.132036209106445,
          -16.130231857299805,
          -12.044317245483398,
          -7.981800079345703,
          -6.000541687011719,
          -6.0385260581970215,
          -6.752169609069824,
          -5.278817176818848,
          0.17379550635814667,
          7.771975517272949,
          14.382868766784668,
          24.320629119873047,
          33.301395416259766,
          37.24724578857422,
          35.284400939941406,
          31.53644371032715,
          25.241535186767578,
          18.488550186157227,
          13.990199089050293,
          11.84607982635498,
          10.063640594482422,
          6.209751605987549,
          1.2699843645095825,
          -2.2627925872802734,
          -4.422524452209473,
          -4.714573860168457,
          -4.249195575714111,
          -3.3452675342559814,
          -1.3623402118682861,
          2.652003288269043,
          6.751142978668213,
          10.874063491821289,
          15.676078796386719,
          22.825096130371094,
          32.71894454956055,
          39.563636779785156,
          39.984375,
          33.516292572021484,
          25.143674850463867,
          20.245393753051758,
          16.76604652404785,
          14.036809921264648,
          11.599933624267578,
          9.543083190917969,
          9.798892974853516,
          11.751421928405762,
          13.604554176330566,
          14.984055519104004,
          19.113842010498047,
          24.911834716796875,
          31.13494110107422,
          35.24909210205078,
          40.82810592651367,
          50.45175552368164,
          60.87266159057617,
          69.60858154296875,
          69.56398010253906,
          63.46401596069336,
          58.80299377441406,
          53.63678741455078,
          45.38113784790039,
          39.469478607177734,
          33.29335021972656,
          25.503562927246094,
          17.46531867980957,
          9.699772834777832,
          4.259219646453857,
          -0.8188987970352173,
          -4.319176197052002,
          -5.426022529602051,
          -6.661358833312988,
          -8.462955474853516,
          -10.679325103759766,
          -13.279722213745117,
          -16.456748962402344,
          -19.60283851623535,
          -23.007680892944336,
          -26.130565643310547,
          -28.93288803100586,
          -29.642087936401367,
          -27.222530364990234,
          -23.915544509887695,
          -22.928634643554688,
          -22.797847747802734,
          -23.173643112182617,
          -23.760971069335938,
          -26.030269622802734,
          -5.199372291564941,
          -5.34915828704834,
          -5.485896587371826,
          -5.607288360595703,
          -5.734380722045898,
          -5.839756965637207,
          -5.924313545227051,
          -6.015622138977051,
          -6.113279819488525,
          -6.2020344734191895,
          -6.278675079345703,
          -6.334652900695801,
          -6.382923603057861,
          -6.434959888458252,
          -6.4886393547058105,
          -6.5358076095581055,
          -6.567188739776611,
          -6.580903053283691,
          -6.585622310638428,
          -6.5752668380737305,
          -6.562943935394287,
          -6.547247409820557,
          -6.522176742553711,
          -6.485167026519775,
          -6.428224086761475,
          -6.346563339233398,
          -6.248341083526611,
          -6.131083965301514,
          -6.002870559692383,
          -5.860530853271484,
          -5.710975170135498,
          -5.559386253356934,
          -5.3968610763549805,
          -5.227050304412842,
          -5.048773288726807,
          -4.861719608306885,
          -4.667420864105225,
          -4.464015483856201,
          -4.2538533210754395,
          -4.039910793304443,
          -3.8348236083984375,
          -3.6373651027679443,
          -3.437426805496216,
          -3.225560188293457,
          -3.000563383102417,
          -2.8007984161376953,
          -2.6170175075531006,
          -2.4383184909820557,
          -2.2708539962768555,
          -2.111429452896118,
          -1.956217885017395,
          -1.8092960119247437,
          -1.6695293188095093,
          -1.5375250577926636,
          -1.408004641532898,
          -1.2835924625396729,
          -1.161178708076477,
          -1.0350879430770874,
          -0.904147744178772,
          -0.7727046608924866,
          -0.6515990495681763,
          -0.5367434620857239,
          -0.43357011675834656,
          -0.3537319600582123,
          -0.2988462746143341,
          -0.2513265311717987,
          -0.20716670155525208,
          -0.1594351977109909,
          -0.12724198400974274,
          -0.12216998636722565,
          -0.14914271235466003,
          -0.20825789868831635,
          -0.29168829321861267,
          -0.3807494342327118,
          -0.4808410406112671,
          -0.5970067977905273,
          -0.7288292646408081,
          -0.8667250871658325,
          -1.002669334411621,
          -1.1457839012145996,
          -1.2974447011947632,
          -1.4726194143295288,
          -1.6596269607543945,
          -1.852180004119873,
          -2.0516903400421143,
          -2.244940757751465,
          -2.44596004486084,
          -2.661522150039673,
          -2.8655996322631836,
          -3.05871319770813,
          -3.255765676498413,
          -3.4705026149749756,
          -3.7002289295196533,
          -3.9134113788604736,
          -4.1194915771484375,
          -4.31903076171875,
          -4.518074035644531,
          -4.714091777801514,
          -4.887042045593262,
          -5.0454206466674805,
          -5.199372291564941,
          -5.34915828704834,
          -5.485896587371826,
          -5.607288360595703,
          -5.734380722045898,
          -5.839756965637207,
          -5.924313545227051,
          -6.015622138977051,
          -6.113279819488525,
          -6.2020344734191895,
          -6.278675079345703,
          -6.334652900695801,
          -6.382923603057861,
          -6.434959888458252,
          -6.4886393547058105,
          -6.5358076095581055,
          -6.567188739776611,
          -6.580903053283691,
          -6.585622310638428,
          -6.5752668380737305,
          -6.562943935394287,
          -6.547247409820557,
          -6.522176742553711,
          -6.485167026519775,
          -6.428224086761475,
          -6.346563339233398,
          -6.248341083526611,
          -6.131083965301514,
          -6.002870559692383,
          -5.860530853271484,
          -5.710975170135498,
          -5.559386253356934,
          -5.3968610763549805,
          -5.227050304412842,
          -5.048773288726807,
          -4.861719608306885,
          -4.667420864105225,
          -4.464015483856201,
          -4.2538533210754395,
          -4.039910793304443,
          -3.8348236083984375,
          -3.6373651027679443,
          -3.437426805496216,
          -3.225560188293457,
          -3.000563383102417,
          -2.8007984161376953,
          -2.6170175075531006,
          -2.4383184909820557,
          -2.2708539962768555,
          -2.111429452896118,
          -1.956217885017395,
          -1.8092960119247437,
          -1.6695293188095093,
          -1.5375250577926636,
          -1.408004641532898,
          -1.2835924625396729,
          -1.161178708076477,
          -1.0350879430770874,
          -0.904147744178772,
          -0.7727046608924866,
          -0.6515990495681763,
          -0.5367434620857239,
          -0.43357011675834656,
          -0.3537319600582123,
          -0.2988462746143341,
          -0.2513265311717987,
          -0.20716670155525208,
          -0.1594351977109909,
          -0.12724198400974274,
          -0.12216998636722565,
          -0.14914271235466003,
          -0.20825789868831635,
          -0.29168829321861267,
          -0.3807494342327118,
          -0.4808410406112671,
          -0.5970067977905273,
          -0.7288292646408081,
          -0.8667250871658325,
          -1.002669334411621,
          -1.1457839012145996,
          -1.2974447011947632,
          -1.4726194143295288,
          -1.6596269607543945,
          -1.852180004119873,
          -2.0516903400421143,
          -2.244940757751465,
          -2.44596004486084,
          -2.661522150039673,
          -2.8655996322631836,
          -3.05871319770813,
          -3.255765676498413,
          -3.4705026149749756,
          -3.7002289295196533,
          -3.9134113788604736,
          -4.1194915771484375,
          -4.31903076171875,
          -4.518074035644531,
          -4.714091777801514,
          -4.887042045593262,
          -5.0454206466674805,
          -5.199372291564941,
          -5.34915828704834,
          -5.485896587371826,
          -5.607288360595703,
          -5.734380722045898,
          -5.839756965637207,
          -5.924313545227051,
          -6.015622138977051,
          -6.113279819488525,
          -6.2020344734191895,
          -6.278675079345703,
          -6.334652900695801,
          -6.382923603057861,
          -6.434959888458252,
          -6.4886393547058105,
          -6.5358076095581055,
          -6.567188739776611,
          -6.580903053283691,
          -6.585622310638428,
          -6.5752668380737305,
          -6.562943935394287,
          -6.547247409820557,
          -6.522176742553711,
          -6.485167026519775,
          -6.428224086761475,
          -6.346563339233398,
          -6.248341083526611,
          -6.131083965301514,
          -6.002870559692383,
          -5.860530853271484,
          -5.710975170135498,
          -5.559386253356934,
          -5.3968610763549805,
          -5.227050304412842,
          -5.048773288726807,
          -4.861719608306885,
          -4.667420864105225,
          -4.464015483856201,
          -4.2538533210754395,
          -4.039910793304443,
          -3.8348236083984375,
          -3.6373651027679443,
          -3.437426805496216,
          -3.225560188293457,
          -3.000563383102417,
          -2.8007984161376953,
          -2.6170175075531006,
          -2.4383184909820557,
          -2.2708539962768555,
          -2.111429452896118,
          -1.956217885017395,
          -1.8092960119247437,
          -1.6695293188095093,
          -1.5375250577926636,
          -1.408004641532898,
          -1.2835924625396729,
          -1.161178708076477,
          -1.0350879430770874,
          -0.904147744178772,
          -0.7727046608924866,
          -0.6515990495681763,
          -0.5367434620857239,
          -0.43357011675834656,
          -0.3537319600582123,
          -0.2988462746143341,
          -0.2513265311717987,
          -0.20716670155525208,
          -0.1594351977109909,
          -0.12724198400974274,
          -0.12216998636722565,
          -0.14914271235466003,
          -0.20825789868831635,
          -0.29168829321861267,
          -0.3807494342327118,
          -0.4808410406112671,
          -0.5970067977905273,
          -0.7288292646408081,
          -0.8667250871658325,
          -1.002669334411621,
          -1.1457839012145996,
          -1.2974447011947632,
          -1.4726194143295288,
          -1.6596269607543945,
          -1.852180004119873,
          -2.0516903400421143,
          -2.244940757751465,
          -2.44596004486084,
          -2.661522150039673,
          -2.8655996322631836,
          -3.05871319770813,
          -3.255765676498413,
          -3.4705026149749756,
          -3.7002289295196533,
          -3.9134113788604736,
          -4.1194915771484375,
          -4.31903076171875,
          -4.518074035644531,
          -4.714091777801514,
          -4.887042045593262,
          -5.0454206466674805,
          -29.315662384033203,
          -33.06639862060547,
          -34.50074005126953,
          -32.98094177246094,
          -29.259170532226562,
          -26.49343490600586,
          -27.16099739074707,
          -29.39777183532715,
          -31.441049575805664,
          -32.40544509887695,
          -30.404848098754883,
          -26.823545455932617,
          -23.570859909057617,
          -20.132036209106445,
          -16.130231857299805,
          -12.044317245483398,
          -7.981800079345703,
          -6.000541687011719,
          -6.0385260581970215,
          -6.752169609069824,
          -5.278817176818848,
          0.17379550635814667,
          7.771975517272949,
          14.382868766784668,
          24.320629119873047,
          33.301395416259766,
          37.24724578857422,
          35.284400939941406,
          31.53644371032715,
          25.241535186767578,
          18.488550186157227,
          13.990199089050293,
          11.84607982635498,
          10.063640594482422,
          6.209751605987549,
          1.2699843645095825,
          -2.2627925872802734,
          -4.422524452209473,
          -4.714573860168457,
          -4.249195575714111,
          -3.3452675342559814,
          -1.3623402118682861,
          2.652003288269043,
          6.751142978668213,
          10.874063491821289,
          15.676078796386719,
          22.825096130371094,
          32.71894454956055,
          39.563636779785156,
          39.984375,
          33.516292572021484,
          25.143674850463867,
          20.245393753051758,
          16.76604652404785,
          14.036809921264648,
          11.599933624267578,
          9.543083190917969,
          9.798892974853516,
          11.751421928405762,
          13.604554176330566,
          14.984055519104004,
          19.113842010498047,
          24.911834716796875,
          31.13494110107422,
          35.24909210205078,
          40.82810592651367,
          50.45175552368164,
          60.87266159057617,
          69.60858154296875,
          69.56398010253906,
          63.46401596069336,
          58.80299377441406,
          53.63678741455078,
          45.38113784790039,
          39.469478607177734,
          33.29335021972656,
          25.503562927246094,
          17.46531867980957,
          9.699772834777832,
          4.259219646453857,
          -0.8188987970352173,
          -4.319176197052002,
          -5.426022529602051,
          -6.661358833312988,
          -8.462955474853516,
          -10.679325103759766,
          -13.279722213745117,
          -16.456748962402344,
          -19.60283851623535,
          -23.007680892944336,
          -26.130565643310547,
          -28.93288803100586,
          -29.642087936401367,
          -27.222530364990234,
          -23.915544509887695,
          -22.928634643554688,
          -22.797847747802734,
          -23.173643112182617,
          -23.760971069335938,
          -26.030269622802734
         ],
         "xaxis": "x",
         "y": [
          -2.619753837585449,
          0.15496721863746643,
          2.4283666610717773,
          4.730982780456543,
          6.693488121032715,
          9.949872970581055,
          15.152946472167969,
          21.45010757446289,
          28.566795349121094,
          35.684242248535156,
          39.375709533691406,
          40.12075424194336,
          41.054847717285156,
          40.773189544677734,
          38.53953170776367,
          38.577301025390625,
          38.09577178955078,
          37.30447006225586,
          37.0395622253418,
          37.569122314453125,
          39.16398620605469,
          40.03691864013672,
          39.585838317871094,
          39.5090217590332,
          42.106239318847656,
          44.988948822021484,
          45.24736785888672,
          40.548118591308594,
          33.856689453125,
          26.200504302978516,
          20.84438133239746,
          18.556093215942383,
          16.695621490478516,
          14.307369232177734,
          11.068353652954102,
          7.430896759033203,
          3.9522740840911865,
          0.6387268900871277,
          -1.824038028717041,
          -4.491220951080322,
          -7.221126556396484,
          -10.186635971069336,
          -12.807604789733887,
          -14.69170093536377,
          -15.93164348602295,
          -17.008365631103516,
          -18.22270393371582,
          -21.052217483520508,
          -24.5120849609375,
          -27.142536163330078,
          -27.251644134521484,
          -27.03082847595215,
          -30.02056312561035,
          -32.76394271850586,
          -33.32878112792969,
          -33.02339172363281,
          -34.78867721557617,
          -37.36279296875,
          -37.529109954833984,
          -34.0914421081543,
          -28.578144073486328,
          -24.313154220581055,
          -22.668167114257812,
          -21.300365447998047,
          -18.182519912719727,
          -14.707579612731934,
          -11.604783058166504,
          -7.797115325927734,
          -2.109187126159668,
          5.658874988555908,
          14.515634536743164,
          20.378870010375977,
          23.464080810546875,
          26.335433959960938,
          29.12238121032715,
          30.570627212524414,
          26.78106689453125,
          20.452138900756836,
          13.393806457519531,
          8.077491760253906,
          2.7021565437316895,
          -0.6633285880088806,
          -2.4636166095733643,
          -4.189341068267822,
          -5.626481533050537,
          -6.378953456878662,
          -6.7447309494018555,
          -8.638151168823242,
          -12.035368919372559,
          -15.727724075317383,
          -18.79473304748535,
          -22.210847854614258,
          -24.154632568359375,
          -23.398204803466797,
          -20.837465286254883,
          -18.086566925048828,
          -14.383930206298828,
          -11.230304718017578,
          -8.414793968200684,
          -5.606560230255127,
          -2.70890474319458,
          -2.537759304046631,
          -2.3431615829467773,
          -2.1473214626312256,
          -1.9603590965270996,
          -1.7780239582061768,
          -1.5763072967529297,
          -1.3332856893539429,
          -1.0558918714523315,
          -0.7894851565361023,
          -0.5273271203041077,
          -0.25573334097862244,
          -6.268992001423612e-05,
          0.23834706842899323,
          0.46358487010002136,
          0.6667037010192871,
          0.8557103276252747,
          1.023409366607666,
          1.1723908185958862,
          1.2822870016098022,
          1.342739224433899,
          1.3579728603363037,
          1.3345052003860474,
          1.2847670316696167,
          1.2175166606903076,
          1.1300995349884033,
          1.0329920053482056,
          0.9238951802253723,
          0.8145537972450256,
          0.7096083760261536,
          0.6134686470031738,
          0.5131770372390747,
          0.39540883898735046,
          0.26496562361717224,
          0.12714216113090515,
          -0.017175329849123955,
          -0.16991904377937317,
          -0.333072692155838,
          -0.49818477034568787,
          -0.664719820022583,
          -0.8364359140396118,
          -1.0104260444641113,
          -1.1876006126403809,
          -1.3696861267089844,
          -1.5518075227737427,
          -1.7119866609573364,
          -1.872687816619873,
          -2.0418732166290283,
          -2.214167356491089,
          -2.38067889213562,
          -2.543186664581299,
          -2.690142869949341,
          -2.8245885372161865,
          -2.958754539489746,
          -3.095618486404419,
          -3.219172239303589,
          -3.3308792114257812,
          -3.435396671295166,
          -3.5293190479278564,
          -3.6111268997192383,
          -3.6900110244750977,
          -3.7719359397888184,
          -3.8568027019500732,
          -3.9548416137695312,
          -4.066833972930908,
          -4.17692756652832,
          -4.270559310913086,
          -4.346331596374512,
          -4.418615818023682,
          -4.495892524719238,
          -4.580574989318848,
          -4.663472652435303,
          -4.739238262176514,
          -4.795569896697998,
          -4.8416852951049805,
          -4.878728866577148,
          -4.906032562255859,
          -4.925337314605713,
          -4.937136173248291,
          -4.939198970794678,
          -4.929614067077637,
          -4.910970211029053,
          -4.889078617095947,
          -4.863558292388916,
          -4.827831745147705,
          -4.7781853675842285,
          -4.722623825073242,
          -4.6605305671691895,
          -4.565883159637451,
          -4.440554618835449,
          -4.300323486328125,
          -4.165441513061523,
          -4.034120559692383,
          -3.8959922790527344,
          -3.7439703941345215,
          -3.5834484100341797,
          -3.405092477798462,
          -3.228449821472168,
          -3.0463550090789795,
          -2.8733906745910645,
          -2.70890474319458,
          -2.537759304046631,
          -2.3431615829467773,
          -2.1473214626312256,
          -1.9603590965270996,
          -1.7780239582061768,
          -1.5763072967529297,
          -1.3332856893539429,
          -1.0558918714523315,
          -0.7894851565361023,
          -0.5273271203041077,
          -0.25573334097862244,
          -6.268992001423612e-05,
          0.23834706842899323,
          0.46358487010002136,
          0.6667037010192871,
          0.8557103276252747,
          1.023409366607666,
          1.1723908185958862,
          1.2822870016098022,
          1.342739224433899,
          1.3579728603363037,
          1.3345052003860474,
          1.2847670316696167,
          1.2175166606903076,
          1.1300995349884033,
          1.0329920053482056,
          0.9238951802253723,
          0.8145537972450256,
          0.7096083760261536,
          0.6134686470031738,
          0.5131770372390747,
          0.39540883898735046,
          0.26496562361717224,
          0.12714216113090515,
          -0.017175329849123955,
          -0.16991904377937317,
          -0.333072692155838,
          -0.49818477034568787,
          -0.664719820022583,
          -0.8364359140396118,
          -1.0104260444641113,
          -1.1876006126403809,
          -1.3696861267089844,
          -1.5518075227737427,
          -1.7119866609573364,
          -1.872687816619873,
          -2.0418732166290283,
          -2.214167356491089,
          -2.38067889213562,
          -2.543186664581299,
          -2.690142869949341,
          -2.8245885372161865,
          -2.958754539489746,
          -3.095618486404419,
          -3.219172239303589,
          -3.3308792114257812,
          -3.435396671295166,
          -3.5293190479278564,
          -3.6111268997192383,
          -3.6900110244750977,
          -3.7719359397888184,
          -3.8568027019500732,
          -3.9548416137695312,
          -4.066833972930908,
          -4.17692756652832,
          -4.270559310913086,
          -4.346331596374512,
          -4.418615818023682,
          -4.495892524719238,
          -4.580574989318848,
          -4.663472652435303,
          -4.739238262176514,
          -4.795569896697998,
          -4.8416852951049805,
          -4.878728866577148,
          -4.906032562255859,
          -4.925337314605713,
          -4.937136173248291,
          -4.939198970794678,
          -4.929614067077637,
          -4.910970211029053,
          -4.889078617095947,
          -4.863558292388916,
          -4.827831745147705,
          -4.7781853675842285,
          -4.722623825073242,
          -4.6605305671691895,
          -4.565883159637451,
          -4.440554618835449,
          -4.300323486328125,
          -4.165441513061523,
          -4.034120559692383,
          -3.8959922790527344,
          -3.7439703941345215,
          -3.5834484100341797,
          -3.405092477798462,
          -3.228449821472168,
          -3.0463550090789795,
          -2.8733906745910645,
          -2.70890474319458,
          -2.537759304046631,
          -2.3431615829467773,
          -2.1473214626312256,
          -1.9603590965270996,
          -1.7780239582061768,
          -1.5763072967529297,
          -1.3332856893539429,
          -1.0558918714523315,
          -0.7894851565361023,
          -0.5273271203041077,
          -0.25573334097862244,
          -6.268992001423612e-05,
          0.23834706842899323,
          0.46358487010002136,
          0.6667037010192871,
          0.8557103276252747,
          1.023409366607666,
          1.1723908185958862,
          1.2822870016098022,
          1.342739224433899,
          1.3579728603363037,
          1.3345052003860474,
          1.2847670316696167,
          1.2175166606903076,
          1.1300995349884033,
          1.0329920053482056,
          0.9238951802253723,
          0.8145537972450256,
          0.7096083760261536,
          0.6134686470031738,
          0.5131770372390747,
          0.39540883898735046,
          0.26496562361717224,
          0.12714216113090515,
          -0.017175329849123955,
          -0.16991904377937317,
          -0.333072692155838,
          -0.49818477034568787,
          -0.664719820022583,
          -0.8364359140396118,
          -1.0104260444641113,
          -1.1876006126403809,
          -1.3696861267089844,
          -1.5518075227737427,
          -1.7119866609573364,
          -1.872687816619873,
          -2.0418732166290283,
          -2.214167356491089,
          -2.38067889213562,
          -2.543186664581299,
          -2.690142869949341,
          -2.8245885372161865,
          -2.958754539489746,
          -3.095618486404419,
          -3.219172239303589,
          -3.3308792114257812,
          -3.435396671295166,
          -3.5293190479278564,
          -3.6111268997192383,
          -3.6900110244750977,
          -3.7719359397888184,
          -3.8568027019500732,
          -3.9548416137695312,
          -4.066833972930908,
          -4.17692756652832,
          -4.270559310913086,
          -4.346331596374512,
          -4.418615818023682,
          -4.495892524719238,
          -4.580574989318848,
          -4.663472652435303,
          -4.739238262176514,
          -4.795569896697998,
          -4.8416852951049805,
          -4.878728866577148,
          -4.906032562255859,
          -4.925337314605713,
          -4.937136173248291,
          -4.939198970794678,
          -4.929614067077637,
          -4.910970211029053,
          -4.889078617095947,
          -4.863558292388916,
          -4.827831745147705,
          -4.7781853675842285,
          -4.722623825073242,
          -4.6605305671691895,
          -4.565883159637451,
          -4.440554618835449,
          -4.300323486328125,
          -4.165441513061523,
          -4.034120559692383,
          -3.8959922790527344,
          -3.7439703941345215,
          -3.5834484100341797,
          -3.405092477798462,
          -3.228449821472168,
          -3.0463550090789795,
          -2.8733906745910645,
          -2.619746446609497,
          0.15496116876602173,
          2.428363561630249,
          4.730982780456543,
          6.693488121032715,
          9.949872970581055,
          15.152946472167969,
          21.45010757446289,
          28.566795349121094,
          35.684242248535156,
          39.375709533691406,
          40.12075424194336,
          41.054847717285156,
          40.773189544677734,
          38.53953170776367,
          38.577301025390625,
          38.09577178955078,
          37.30447006225586,
          37.0395622253418,
          37.569122314453125,
          39.16398620605469,
          40.03691864013672,
          39.585838317871094,
          39.5090217590332,
          42.106239318847656,
          44.988948822021484,
          45.24736785888672,
          40.548118591308594,
          33.856689453125,
          26.200504302978516,
          20.84438133239746,
          18.556093215942383,
          16.695621490478516,
          14.307369232177734,
          11.068353652954102,
          7.430896759033203,
          3.9522740840911865,
          0.6387268900871277,
          -1.824038028717041,
          -4.491220951080322,
          -7.221126556396484,
          -10.186635971069336,
          -12.807604789733887,
          -14.69170093536377,
          -15.93164348602295,
          -17.008365631103516,
          -18.22270393371582,
          -21.052217483520508,
          -24.5120849609375,
          -27.142536163330078,
          -27.251644134521484,
          -27.03082847595215,
          -30.02056312561035,
          -32.76394271850586,
          -33.32878112792969,
          -33.02339172363281,
          -34.78867721557617,
          -37.36279296875,
          -37.529109954833984,
          -34.0914421081543,
          -28.578144073486328,
          -24.313154220581055,
          -22.668167114257812,
          -21.300365447998047,
          -18.182519912719727,
          -14.707579612731934,
          -11.604783058166504,
          -7.797115325927734,
          -2.109187126159668,
          5.658874988555908,
          14.515634536743164,
          20.378870010375977,
          23.464080810546875,
          26.335433959960938,
          29.12238121032715,
          30.570627212524414,
          26.78106689453125,
          20.452138900756836,
          13.393806457519531,
          8.077491760253906,
          2.7021565437316895,
          -0.6633285880088806,
          -2.4636166095733643,
          -4.189341068267822,
          -5.626481533050537,
          -6.378953456878662,
          -6.7447309494018555,
          -8.638151168823242,
          -12.035368919372559,
          -15.727724075317383,
          -18.79473304748535,
          -22.210847854614258,
          -24.154632568359375,
          -23.398204803466797,
          -20.837465286254883,
          -18.086566925048828,
          -14.383930206298828,
          -11.230304718017578,
          -8.414793968200684,
          -5.606560230255127
         ],
         "yaxis": "y"
        }
       ],
       "layout": {
        "autosize": true,
        "coloraxis": {
         "colorbar": {
          "title": {
           "text": "state"
          }
         },
         "colorscale": [
          [
           0,
           "#440154"
          ],
          [
           0.1111111111111111,
           "#482878"
          ],
          [
           0.2222222222222222,
           "#3e4989"
          ],
          [
           0.3333333333333333,
           "#31688e"
          ],
          [
           0.4444444444444444,
           "#26828e"
          ],
          [
           0.5555555555555556,
           "#1f9e89"
          ],
          [
           0.6666666666666666,
           "#35b779"
          ],
          [
           0.7777777777777778,
           "#6ece58"
          ],
          [
           0.8888888888888888,
           "#b5de2b"
          ],
          [
           1,
           "#fde725"
          ]
         ]
        },
        "legend": {
         "tracegroupgap": 0
        },
        "template": {
         "data": {
          "bar": [
           {
            "error_x": {
             "color": "#2a3f5f"
            },
            "error_y": {
             "color": "#2a3f5f"
            },
            "marker": {
             "line": {
              "color": "#E5ECF6",
              "width": 0.5
             },
             "pattern": {
              "fillmode": "overlay",
              "size": 10,
              "solidity": 0.2
             }
            },
            "type": "bar"
           }
          ],
          "barpolar": [
           {
            "marker": {
             "line": {
              "color": "#E5ECF6",
              "width": 0.5
             },
             "pattern": {
              "fillmode": "overlay",
              "size": 10,
              "solidity": 0.2
             }
            },
            "type": "barpolar"
           }
          ],
          "carpet": [
           {
            "aaxis": {
             "endlinecolor": "#2a3f5f",
             "gridcolor": "white",
             "linecolor": "white",
             "minorgridcolor": "white",
             "startlinecolor": "#2a3f5f"
            },
            "baxis": {
             "endlinecolor": "#2a3f5f",
             "gridcolor": "white",
             "linecolor": "white",
             "minorgridcolor": "white",
             "startlinecolor": "#2a3f5f"
            },
            "type": "carpet"
           }
          ],
          "choropleth": [
           {
            "colorbar": {
             "outlinewidth": 0,
             "ticks": ""
            },
            "type": "choropleth"
           }
          ],
          "contour": [
           {
            "colorbar": {
             "outlinewidth": 0,
             "ticks": ""
            },
            "colorscale": [
             [
              0,
              "#0d0887"
             ],
             [
              0.1111111111111111,
              "#46039f"
             ],
             [
              0.2222222222222222,
              "#7201a8"
             ],
             [
              0.3333333333333333,
              "#9c179e"
             ],
             [
              0.4444444444444444,
              "#bd3786"
             ],
             [
              0.5555555555555556,
              "#d8576b"
             ],
             [
              0.6666666666666666,
              "#ed7953"
             ],
             [
              0.7777777777777778,
              "#fb9f3a"
             ],
             [
              0.8888888888888888,
              "#fdca26"
             ],
             [
              1,
              "#f0f921"
             ]
            ],
            "type": "contour"
           }
          ],
          "contourcarpet": [
           {
            "colorbar": {
             "outlinewidth": 0,
             "ticks": ""
            },
            "type": "contourcarpet"
           }
          ],
          "heatmap": [
           {
            "colorbar": {
             "outlinewidth": 0,
             "ticks": ""
            },
            "colorscale": [
             [
              0,
              "#0d0887"
             ],
             [
              0.1111111111111111,
              "#46039f"
             ],
             [
              0.2222222222222222,
              "#7201a8"
             ],
             [
              0.3333333333333333,
              "#9c179e"
             ],
             [
              0.4444444444444444,
              "#bd3786"
             ],
             [
              0.5555555555555556,
              "#d8576b"
             ],
             [
              0.6666666666666666,
              "#ed7953"
             ],
             [
              0.7777777777777778,
              "#fb9f3a"
             ],
             [
              0.8888888888888888,
              "#fdca26"
             ],
             [
              1,
              "#f0f921"
             ]
            ],
            "type": "heatmap"
           }
          ],
          "heatmapgl": [
           {
            "colorbar": {
             "outlinewidth": 0,
             "ticks": ""
            },
            "colorscale": [
             [
              0,
              "#0d0887"
             ],
             [
              0.1111111111111111,
              "#46039f"
             ],
             [
              0.2222222222222222,
              "#7201a8"
             ],
             [
              0.3333333333333333,
              "#9c179e"
             ],
             [
              0.4444444444444444,
              "#bd3786"
             ],
             [
              0.5555555555555556,
              "#d8576b"
             ],
             [
              0.6666666666666666,
              "#ed7953"
             ],
             [
              0.7777777777777778,
              "#fb9f3a"
             ],
             [
              0.8888888888888888,
              "#fdca26"
             ],
             [
              1,
              "#f0f921"
             ]
            ],
            "type": "heatmapgl"
           }
          ],
          "histogram": [
           {
            "marker": {
             "pattern": {
              "fillmode": "overlay",
              "size": 10,
              "solidity": 0.2
             }
            },
            "type": "histogram"
           }
          ],
          "histogram2d": [
           {
            "colorbar": {
             "outlinewidth": 0,
             "ticks": ""
            },
            "colorscale": [
             [
              0,
              "#0d0887"
             ],
             [
              0.1111111111111111,
              "#46039f"
             ],
             [
              0.2222222222222222,
              "#7201a8"
             ],
             [
              0.3333333333333333,
              "#9c179e"
             ],
             [
              0.4444444444444444,
              "#bd3786"
             ],
             [
              0.5555555555555556,
              "#d8576b"
             ],
             [
              0.6666666666666666,
              "#ed7953"
             ],
             [
              0.7777777777777778,
              "#fb9f3a"
             ],
             [
              0.8888888888888888,
              "#fdca26"
             ],
             [
              1,
              "#f0f921"
             ]
            ],
            "type": "histogram2d"
           }
          ],
          "histogram2dcontour": [
           {
            "colorbar": {
             "outlinewidth": 0,
             "ticks": ""
            },
            "colorscale": [
             [
              0,
              "#0d0887"
             ],
             [
              0.1111111111111111,
              "#46039f"
             ],
             [
              0.2222222222222222,
              "#7201a8"
             ],
             [
              0.3333333333333333,
              "#9c179e"
             ],
             [
              0.4444444444444444,
              "#bd3786"
             ],
             [
              0.5555555555555556,
              "#d8576b"
             ],
             [
              0.6666666666666666,
              "#ed7953"
             ],
             [
              0.7777777777777778,
              "#fb9f3a"
             ],
             [
              0.8888888888888888,
              "#fdca26"
             ],
             [
              1,
              "#f0f921"
             ]
            ],
            "type": "histogram2dcontour"
           }
          ],
          "mesh3d": [
           {
            "colorbar": {
             "outlinewidth": 0,
             "ticks": ""
            },
            "type": "mesh3d"
           }
          ],
          "parcoords": [
           {
            "line": {
             "colorbar": {
              "outlinewidth": 0,
              "ticks": ""
             }
            },
            "type": "parcoords"
           }
          ],
          "pie": [
           {
            "automargin": true,
            "type": "pie"
           }
          ],
          "scatter": [
           {
            "fillpattern": {
             "fillmode": "overlay",
             "size": 10,
             "solidity": 0.2
            },
            "type": "scatter"
           }
          ],
          "scatter3d": [
           {
            "line": {
             "colorbar": {
              "outlinewidth": 0,
              "ticks": ""
             }
            },
            "marker": {
             "colorbar": {
              "outlinewidth": 0,
              "ticks": ""
             }
            },
            "type": "scatter3d"
           }
          ],
          "scattercarpet": [
           {
            "marker": {
             "colorbar": {
              "outlinewidth": 0,
              "ticks": ""
             }
            },
            "type": "scattercarpet"
           }
          ],
          "scattergeo": [
           {
            "marker": {
             "colorbar": {
              "outlinewidth": 0,
              "ticks": ""
             }
            },
            "type": "scattergeo"
           }
          ],
          "scattergl": [
           {
            "marker": {
             "colorbar": {
              "outlinewidth": 0,
              "ticks": ""
             }
            },
            "type": "scattergl"
           }
          ],
          "scattermapbox": [
           {
            "marker": {
             "colorbar": {
              "outlinewidth": 0,
              "ticks": ""
             }
            },
            "type": "scattermapbox"
           }
          ],
          "scatterpolar": [
           {
            "marker": {
             "colorbar": {
              "outlinewidth": 0,
              "ticks": ""
             }
            },
            "type": "scatterpolar"
           }
          ],
          "scatterpolargl": [
           {
            "marker": {
             "colorbar": {
              "outlinewidth": 0,
              "ticks": ""
             }
            },
            "type": "scatterpolargl"
           }
          ],
          "scatterternary": [
           {
            "marker": {
             "colorbar": {
              "outlinewidth": 0,
              "ticks": ""
             }
            },
            "type": "scatterternary"
           }
          ],
          "surface": [
           {
            "colorbar": {
             "outlinewidth": 0,
             "ticks": ""
            },
            "colorscale": [
             [
              0,
              "#0d0887"
             ],
             [
              0.1111111111111111,
              "#46039f"
             ],
             [
              0.2222222222222222,
              "#7201a8"
             ],
             [
              0.3333333333333333,
              "#9c179e"
             ],
             [
              0.4444444444444444,
              "#bd3786"
             ],
             [
              0.5555555555555556,
              "#d8576b"
             ],
             [
              0.6666666666666666,
              "#ed7953"
             ],
             [
              0.7777777777777778,
              "#fb9f3a"
             ],
             [
              0.8888888888888888,
              "#fdca26"
             ],
             [
              1,
              "#f0f921"
             ]
            ],
            "type": "surface"
           }
          ],
          "table": [
           {
            "cells": {
             "fill": {
              "color": "#EBF0F8"
             },
             "line": {
              "color": "white"
             }
            },
            "header": {
             "fill": {
              "color": "#C8D4E3"
             },
             "line": {
              "color": "white"
             }
            },
            "type": "table"
           }
          ]
         },
         "layout": {
          "annotationdefaults": {
           "arrowcolor": "#2a3f5f",
           "arrowhead": 0,
           "arrowwidth": 1
          },
          "autotypenumbers": "strict",
          "coloraxis": {
           "colorbar": {
            "outlinewidth": 0,
            "ticks": ""
           }
          },
          "colorscale": {
           "diverging": [
            [
             0,
             "#8e0152"
            ],
            [
             0.1,
             "#c51b7d"
            ],
            [
             0.2,
             "#de77ae"
            ],
            [
             0.3,
             "#f1b6da"
            ],
            [
             0.4,
             "#fde0ef"
            ],
            [
             0.5,
             "#f7f7f7"
            ],
            [
             0.6,
             "#e6f5d0"
            ],
            [
             0.7,
             "#b8e186"
            ],
            [
             0.8,
             "#7fbc41"
            ],
            [
             0.9,
             "#4d9221"
            ],
            [
             1,
             "#276419"
            ]
           ],
           "sequential": [
            [
             0,
             "#0d0887"
            ],
            [
             0.1111111111111111,
             "#46039f"
            ],
            [
             0.2222222222222222,
             "#7201a8"
            ],
            [
             0.3333333333333333,
             "#9c179e"
            ],
            [
             0.4444444444444444,
             "#bd3786"
            ],
            [
             0.5555555555555556,
             "#d8576b"
            ],
            [
             0.6666666666666666,
             "#ed7953"
            ],
            [
             0.7777777777777778,
             "#fb9f3a"
            ],
            [
             0.8888888888888888,
             "#fdca26"
            ],
            [
             1,
             "#f0f921"
            ]
           ],
           "sequentialminus": [
            [
             0,
             "#0d0887"
            ],
            [
             0.1111111111111111,
             "#46039f"
            ],
            [
             0.2222222222222222,
             "#7201a8"
            ],
            [
             0.3333333333333333,
             "#9c179e"
            ],
            [
             0.4444444444444444,
             "#bd3786"
            ],
            [
             0.5555555555555556,
             "#d8576b"
            ],
            [
             0.6666666666666666,
             "#ed7953"
            ],
            [
             0.7777777777777778,
             "#fb9f3a"
            ],
            [
             0.8888888888888888,
             "#fdca26"
            ],
            [
             1,
             "#f0f921"
            ]
           ]
          },
          "colorway": [
           "#636efa",
           "#EF553B",
           "#00cc96",
           "#ab63fa",
           "#FFA15A",
           "#19d3f3",
           "#FF6692",
           "#B6E880",
           "#FF97FF",
           "#FECB52"
          ],
          "font": {
           "color": "#2a3f5f"
          },
          "geo": {
           "bgcolor": "white",
           "lakecolor": "white",
           "landcolor": "#E5ECF6",
           "showlakes": true,
           "showland": true,
           "subunitcolor": "white"
          },
          "hoverlabel": {
           "align": "left"
          },
          "hovermode": "closest",
          "mapbox": {
           "style": "light"
          },
          "paper_bgcolor": "white",
          "plot_bgcolor": "#E5ECF6",
          "polar": {
           "angularaxis": {
            "gridcolor": "white",
            "linecolor": "white",
            "ticks": ""
           },
           "bgcolor": "#E5ECF6",
           "radialaxis": {
            "gridcolor": "white",
            "linecolor": "white",
            "ticks": ""
           }
          },
          "scene": {
           "xaxis": {
            "backgroundcolor": "#E5ECF6",
            "gridcolor": "white",
            "gridwidth": 2,
            "linecolor": "white",
            "showbackground": true,
            "ticks": "",
            "zerolinecolor": "white"
           },
           "yaxis": {
            "backgroundcolor": "#E5ECF6",
            "gridcolor": "white",
            "gridwidth": 2,
            "linecolor": "white",
            "showbackground": true,
            "ticks": "",
            "zerolinecolor": "white"
           },
           "zaxis": {
            "backgroundcolor": "#E5ECF6",
            "gridcolor": "white",
            "gridwidth": 2,
            "linecolor": "white",
            "showbackground": true,
            "ticks": "",
            "zerolinecolor": "white"
           }
          },
          "shapedefaults": {
           "line": {
            "color": "#2a3f5f"
           }
          },
          "ternary": {
           "aaxis": {
            "gridcolor": "white",
            "linecolor": "white",
            "ticks": ""
           },
           "baxis": {
            "gridcolor": "white",
            "linecolor": "white",
            "ticks": ""
           },
           "bgcolor": "#E5ECF6",
           "caxis": {
            "gridcolor": "white",
            "linecolor": "white",
            "ticks": ""
           }
          },
          "title": {
           "x": 0.05
          },
          "xaxis": {
           "automargin": true,
           "gridcolor": "white",
           "linecolor": "white",
           "ticks": "",
           "title": {
            "standoff": 15
           },
           "zerolinecolor": "white",
           "zerolinewidth": 2
          },
          "yaxis": {
           "automargin": true,
           "gridcolor": "white",
           "linecolor": "white",
           "ticks": "",
           "title": {
            "standoff": 15
           },
           "zerolinecolor": "white",
           "zerolinewidth": 2
          }
         }
        },
        "title": {
         "text": "q=3,loss=0.000000"
        },
        "xaxis": {
         "anchor": "y",
         "autorange": true,
         "domain": [
          0,
          1
         ],
         "range": [
          -41.264913138696706,
          76.37274700100139
         ],
         "title": {
          "text": "1st"
         },
         "type": "linear"
        },
        "yaxis": {
         "anchor": "x",
         "autorange": true,
         "domain": [
          0,
          1
         ],
         "range": [
          -43.35740028218152,
          51.07565818623426
         ],
         "title": {
          "text": "2nd"
         },
         "type": "linear"
        }
       }
      },
      "image/png": "[encoded data removed]",
      "text/html": [
       "<div>                            <div id=\"dd359843-20e3-4c01-8178-9cd53b0c1bac\" class=\"plotly-graph-div\" style=\"height:500px; width:100%;\"></div>            <script type=\"text/javascript\">                require([\"plotly\"], function(Plotly) {                    window.PLOTLYENV=window.PLOTLYENV || {};                                    if (document.getElementById(\"dd359843-20e3-4c01-8178-9cd53b0c1bac\")) {                    Plotly.newPlot(                        \"dd359843-20e3-4c01-8178-9cd53b0c1bac\",                        [{\"hovertemplate\":\"1st=%{x}<br>2nd=%{y}<br>shift=%{text}<br>state=%{marker.color}<extra></extra>\",\"legendgroup\":\"\",\"marker\":{\"color\":[0,0,0,0,0,0,0,0,0,0,0,0,0,0,0,0,0,0,0,0,0,0,0,0,0,0,0,0,0,0,0,0,0,0,0,0,0,0,0,0,0,0,0,0,0,0,0,0,0,0,0,0,0,0,0,0,0,0,0,0,0,0,0,0,0,0,0,0,0,0,0,0,0,0,0,0,0,0,0,0,0,0,0,0,0,0,0,0,0,0,0,0,0,0,0,0,0,0,0,0,1,1,1,1,1,1,1,1,1,1,1,1,1,1,1,1,1,1,1,1,1,1,1,1,1,1,1,1,1,1,1,1,1,1,1,1,1,1,1,1,1,1,1,1,1,1,1,1,1,1,1,1,1,1,1,1,1,1,1,1,1,1,1,1,1,1,1,1,1,1,1,1,1,1,1,1,1,1,1,1,1,1,1,1,1,1,1,1,1,1,1,1,1,1,1,1,1,1,1,1,2,2,2,2,2,2,2,2,2,2,2,2,2,2,2,2,2,2,2,2,2,2,2,2,2,2,2,2,2,2,2,2,2,2,2,2,2,2,2,2,2,2,2,2,2,2,2,2,2,2,2,2,2,2,2,2,2,2,2,2,2,2,2,2,2,2,2,2,2,2,2,2,2,2,2,2,2,2,2,2,2,2,2,2,2,2,2,2,2,2,2,2,2,2,2,2,2,2,2,2,3,3,3,3,3,3,3,3,3,3,3,3,3,3,3,3,3,3,3,3,3,3,3,3,3,3,3,3,3,3,3,3,3,3,3,3,3,3,3,3,3,3,3,3,3,3,3,3,3,3,3,3,3,3,3,3,3,3,3,3,3,3,3,3,3,3,3,3,3,3,3,3,3,3,3,3,3,3,3,3,3,3,3,3,3,3,3,3,3,3,3,3,3,3,3,3,3,3,3,3,4,4,4,4,4,4,4,4,4,4,4,4,4,4,4,4,4,4,4,4,4,4,4,4,4,4,4,4,4,4,4,4,4,4,4,4,4,4,4,4,4,4,4,4,4,4,4,4,4,4,4,4,4,4,4,4,4,4,4,4,4,4,4,4,4,4,4,4,4,4,4,4,4,4,4,4,4,4,4,4,4,4,4,4,4,4,4,4,4,4,4,4,4,4,4,4,4,4,4,4],\"coloraxis\":\"coloraxis\",\"symbol\":\"circle\"},\"mode\":\"markers+text\",\"name\":\"\",\"orientation\":\"v\",\"showlegend\":false,\"text\":[0.0,1.0,2.0,3.0,4.0,5.0,6.0,7.0,8.0,9.0,10.0,11.0,12.0,13.0,14.0,15.0,16.0,17.0,18.0,19.0,20.0,21.0,22.0,23.0,24.0,25.0,26.0,27.0,28.0,29.0,30.0,31.0,32.0,33.0,34.0,35.0,36.0,37.0,38.0,39.0,40.0,41.0,42.0,43.0,44.0,45.0,46.0,47.0,48.0,49.0,50.0,51.0,52.0,53.0,54.0,55.0,56.0,57.0,58.0,59.0,60.0,61.0,62.0,63.0,64.0,65.0,66.0,67.0,68.0,69.0,70.0,71.0,72.0,73.0,74.0,75.0,76.0,77.0,78.0,79.0,80.0,81.0,82.0,83.0,84.0,85.0,86.0,87.0,88.0,89.0,90.0,91.0,92.0,93.0,94.0,95.0,96.0,97.0,98.0,99.0,0.0,1.0,2.0,3.0,4.0,5.0,6.0,7.0,8.0,9.0,10.0,11.0,12.0,13.0,14.0,15.0,16.0,17.0,18.0,19.0,20.0,21.0,22.0,23.0,24.0,25.0,26.0,27.0,28.0,29.0,30.0,31.0,32.0,33.0,34.0,35.0,36.0,37.0,38.0,39.0,40.0,41.0,42.0,43.0,44.0,45.0,46.0,47.0,48.0,49.0,50.0,51.0,52.0,53.0,54.0,55.0,56.0,57.0,58.0,59.0,60.0,61.0,62.0,63.0,64.0,65.0,66.0,67.0,68.0,69.0,70.0,71.0,72.0,73.0,74.0,75.0,76.0,77.0,78.0,79.0,80.0,81.0,82.0,83.0,84.0,85.0,86.0,87.0,88.0,89.0,90.0,91.0,92.0,93.0,94.0,95.0,96.0,97.0,98.0,99.0,0.0,1.0,2.0,3.0,4.0,5.0,6.0,7.0,8.0,9.0,10.0,11.0,12.0,13.0,14.0,15.0,16.0,17.0,18.0,19.0,20.0,21.0,22.0,23.0,24.0,25.0,26.0,27.0,28.0,29.0,30.0,31.0,32.0,33.0,34.0,35.0,36.0,37.0,38.0,39.0,40.0,41.0,42.0,43.0,44.0,45.0,46.0,47.0,48.0,49.0,50.0,51.0,52.0,53.0,54.0,55.0,56.0,57.0,58.0,59.0,60.0,61.0,62.0,63.0,64.0,65.0,66.0,67.0,68.0,69.0,70.0,71.0,72.0,73.0,74.0,75.0,76.0,77.0,78.0,79.0,80.0,81.0,82.0,83.0,84.0,85.0,86.0,87.0,88.0,89.0,90.0,91.0,92.0,93.0,94.0,95.0,96.0,97.0,98.0,99.0,0.0,1.0,2.0,3.0,4.0,5.0,6.0,7.0,8.0,9.0,10.0,11.0,12.0,13.0,14.0,15.0,16.0,17.0,18.0,19.0,20.0,21.0,22.0,23.0,24.0,25.0,26.0,27.0,28.0,29.0,30.0,31.0,32.0,33.0,34.0,35.0,36.0,37.0,38.0,39.0,40.0,41.0,42.0,43.0,44.0,45.0,46.0,47.0,48.0,49.0,50.0,51.0,52.0,53.0,54.0,55.0,56.0,57.0,58.0,59.0,60.0,61.0,62.0,63.0,64.0,65.0,66.0,67.0,68.0,69.0,70.0,71.0,72.0,73.0,74.0,75.0,76.0,77.0,78.0,79.0,80.0,81.0,82.0,83.0,84.0,85.0,86.0,87.0,88.0,89.0,90.0,91.0,92.0,93.0,94.0,95.0,96.0,97.0,98.0,99.0,0.0,1.0,2.0,3.0,4.0,5.0,6.0,7.0,8.0,9.0,10.0,11.0,12.0,13.0,14.0,15.0,16.0,17.0,18.0,19.0,20.0,21.0,22.0,23.0,24.0,25.0,26.0,27.0,28.0,29.0,30.0,31.0,32.0,33.0,34.0,35.0,36.0,37.0,38.0,39.0,40.0,41.0,42.0,43.0,44.0,45.0,46.0,47.0,48.0,49.0,50.0,51.0,52.0,53.0,54.0,55.0,56.0,57.0,58.0,59.0,60.0,61.0,62.0,63.0,64.0,65.0,66.0,67.0,68.0,69.0,70.0,71.0,72.0,73.0,74.0,75.0,76.0,77.0,78.0,79.0,80.0,81.0,82.0,83.0,84.0,85.0,86.0,87.0,88.0,89.0,90.0,91.0,92.0,93.0,94.0,95.0,96.0,97.0,98.0,99.0],\"x\":[-29.315677642822266,-33.0663948059082,-34.50074768066406,-32.98094177246094,-29.259170532226562,-26.49343490600586,-27.16099739074707,-29.39777183532715,-31.441049575805664,-32.40544509887695,-30.404848098754883,-26.823545455932617,-23.570859909057617,-20.132036209106445,-16.130231857299805,-12.044317245483398,-7.981800079345703,-6.000541687011719,-6.0385260581970215,-6.752169609069824,-5.278817176818848,0.17379550635814667,7.771975517272949,14.382868766784668,24.320629119873047,33.301395416259766,37.24724578857422,35.284400939941406,31.53644371032715,25.241535186767578,18.488550186157227,13.990199089050293,11.84607982635498,10.063640594482422,6.209751605987549,1.2699843645095825,-2.2627925872802734,-4.422524452209473,-4.714573860168457,-4.249195575714111,-3.3452675342559814,-1.3623402118682861,2.652003288269043,6.751142978668213,10.874063491821289,15.676078796386719,22.825096130371094,32.71894454956055,39.563636779785156,39.984375,33.516292572021484,25.143674850463867,20.245393753051758,16.76604652404785,14.036809921264648,11.599933624267578,9.543083190917969,9.798892974853516,11.751421928405762,13.604554176330566,14.984055519104004,19.113842010498047,24.911834716796875,31.13494110107422,35.24909210205078,40.82810592651367,50.45175552368164,60.87266159057617,69.60858154296875,69.56398010253906,63.46401596069336,58.80299377441406,53.63678741455078,45.38113784790039,39.469478607177734,33.29335021972656,25.503562927246094,17.46531867980957,9.699772834777832,4.259219646453857,-0.8188987970352173,-4.319176197052002,-5.426022529602051,-6.661358833312988,-8.462955474853516,-10.679325103759766,-13.279722213745117,-16.456748962402344,-19.60283851623535,-23.007680892944336,-26.130565643310547,-28.93288803100586,-29.642087936401367,-27.222530364990234,-23.915544509887695,-22.928634643554688,-22.797847747802734,-23.173643112182617,-23.760971069335938,-26.030269622802734,-5.199372291564941,-5.34915828704834,-5.485896587371826,-5.607288360595703,-5.734380722045898,-5.839756965637207,-5.924313545227051,-6.015622138977051,-6.113279819488525,-6.2020344734191895,-6.278675079345703,-6.334652900695801,-6.382923603057861,-6.434959888458252,-6.4886393547058105,-6.5358076095581055,-6.567188739776611,-6.580903053283691,-6.585622310638428,-6.5752668380737305,-6.562943935394287,-6.547247409820557,-6.522176742553711,-6.485167026519775,-6.428224086761475,-6.346563339233398,-6.248341083526611,-6.131083965301514,-6.002870559692383,-5.860530853271484,-5.710975170135498,-5.559386253356934,-5.3968610763549805,-5.227050304412842,-5.048773288726807,-4.861719608306885,-4.667420864105225,-4.464015483856201,-4.2538533210754395,-4.039910793304443,-3.8348236083984375,-3.6373651027679443,-3.437426805496216,-3.225560188293457,-3.000563383102417,-2.8007984161376953,-2.6170175075531006,-2.4383184909820557,-2.2708539962768555,-2.111429452896118,-1.956217885017395,-1.8092960119247437,-1.6695293188095093,-1.5375250577926636,-1.408004641532898,-1.2835924625396729,-1.161178708076477,-1.0350879430770874,-0.904147744178772,-0.7727046608924866,-0.6515990495681763,-0.5367434620857239,-0.43357011675834656,-0.3537319600582123,-0.2988462746143341,-0.2513265311717987,-0.20716670155525208,-0.1594351977109909,-0.12724198400974274,-0.12216998636722565,-0.14914271235466003,-0.20825789868831635,-0.29168829321861267,-0.3807494342327118,-0.4808410406112671,-0.5970067977905273,-0.7288292646408081,-0.8667250871658325,-1.002669334411621,-1.1457839012145996,-1.2974447011947632,-1.4726194143295288,-1.6596269607543945,-1.852180004119873,-2.0516903400421143,-2.244940757751465,-2.44596004486084,-2.661522150039673,-2.8655996322631836,-3.05871319770813,-3.255765676498413,-3.4705026149749756,-3.7002289295196533,-3.9134113788604736,-4.1194915771484375,-4.31903076171875,-4.518074035644531,-4.714091777801514,-4.887042045593262,-5.0454206466674805,-5.199372291564941,-5.34915828704834,-5.485896587371826,-5.607288360595703,-5.734380722045898,-5.839756965637207,-5.924313545227051,-6.015622138977051,-6.113279819488525,-6.2020344734191895,-6.278675079345703,-6.334652900695801,-6.382923603057861,-6.434959888458252,-6.4886393547058105,-6.5358076095581055,-6.567188739776611,-6.580903053283691,-6.585622310638428,-6.5752668380737305,-6.562943935394287,-6.547247409820557,-6.522176742553711,-6.485167026519775,-6.428224086761475,-6.346563339233398,-6.248341083526611,-6.131083965301514,-6.002870559692383,-5.860530853271484,-5.710975170135498,-5.559386253356934,-5.3968610763549805,-5.227050304412842,-5.048773288726807,-4.861719608306885,-4.667420864105225,-4.464015483856201,-4.2538533210754395,-4.039910793304443,-3.8348236083984375,-3.6373651027679443,-3.437426805496216,-3.225560188293457,-3.000563383102417,-2.8007984161376953,-2.6170175075531006,-2.4383184909820557,-2.2708539962768555,-2.111429452896118,-1.956217885017395,-1.8092960119247437,-1.6695293188095093,-1.5375250577926636,-1.408004641532898,-1.2835924625396729,-1.161178708076477,-1.0350879430770874,-0.904147744178772,-0.7727046608924866,-0.6515990495681763,-0.5367434620857239,-0.43357011675834656,-0.3537319600582123,-0.2988462746143341,-0.2513265311717987,-0.20716670155525208,-0.1594351977109909,-0.12724198400974274,-0.12216998636722565,-0.14914271235466003,-0.20825789868831635,-0.29168829321861267,-0.3807494342327118,-0.4808410406112671,-0.5970067977905273,-0.7288292646408081,-0.8667250871658325,-1.002669334411621,-1.1457839012145996,-1.2974447011947632,-1.4726194143295288,-1.6596269607543945,-1.852180004119873,-2.0516903400421143,-2.244940757751465,-2.44596004486084,-2.661522150039673,-2.8655996322631836,-3.05871319770813,-3.255765676498413,-3.4705026149749756,-3.7002289295196533,-3.9134113788604736,-4.1194915771484375,-4.31903076171875,-4.518074035644531,-4.714091777801514,-4.887042045593262,-5.0454206466674805,-5.199372291564941,-5.34915828704834,-5.485896587371826,-5.607288360595703,-5.734380722045898,-5.839756965637207,-5.924313545227051,-6.015622138977051,-6.113279819488525,-6.2020344734191895,-6.278675079345703,-6.334652900695801,-6.382923603057861,-6.434959888458252,-6.4886393547058105,-6.5358076095581055,-6.567188739776611,-6.580903053283691,-6.585622310638428,-6.5752668380737305,-6.562943935394287,-6.547247409820557,-6.522176742553711,-6.485167026519775,-6.428224086761475,-6.346563339233398,-6.248341083526611,-6.131083965301514,-6.002870559692383,-5.860530853271484,-5.710975170135498,-5.559386253356934,-5.3968610763549805,-5.227050304412842,-5.048773288726807,-4.861719608306885,-4.667420864105225,-4.464015483856201,-4.2538533210754395,-4.039910793304443,-3.8348236083984375,-3.6373651027679443,-3.437426805496216,-3.225560188293457,-3.000563383102417,-2.8007984161376953,-2.6170175075531006,-2.4383184909820557,-2.2708539962768555,-2.111429452896118,-1.956217885017395,-1.8092960119247437,-1.6695293188095093,-1.5375250577926636,-1.408004641532898,-1.2835924625396729,-1.161178708076477,-1.0350879430770874,-0.904147744178772,-0.7727046608924866,-0.6515990495681763,-0.5367434620857239,-0.43357011675834656,-0.3537319600582123,-0.2988462746143341,-0.2513265311717987,-0.20716670155525208,-0.1594351977109909,-0.12724198400974274,-0.12216998636722565,-0.14914271235466003,-0.20825789868831635,-0.29168829321861267,-0.3807494342327118,-0.4808410406112671,-0.5970067977905273,-0.7288292646408081,-0.8667250871658325,-1.002669334411621,-1.1457839012145996,-1.2974447011947632,-1.4726194143295288,-1.6596269607543945,-1.852180004119873,-2.0516903400421143,-2.244940757751465,-2.44596004486084,-2.661522150039673,-2.8655996322631836,-3.05871319770813,-3.255765676498413,-3.4705026149749756,-3.7002289295196533,-3.9134113788604736,-4.1194915771484375,-4.31903076171875,-4.518074035644531,-4.714091777801514,-4.887042045593262,-5.0454206466674805,-29.315662384033203,-33.06639862060547,-34.50074005126953,-32.98094177246094,-29.259170532226562,-26.49343490600586,-27.16099739074707,-29.39777183532715,-31.441049575805664,-32.40544509887695,-30.404848098754883,-26.823545455932617,-23.570859909057617,-20.132036209106445,-16.130231857299805,-12.044317245483398,-7.981800079345703,-6.000541687011719,-6.0385260581970215,-6.752169609069824,-5.278817176818848,0.17379550635814667,7.771975517272949,14.382868766784668,24.320629119873047,33.301395416259766,37.24724578857422,35.284400939941406,31.53644371032715,25.241535186767578,18.488550186157227,13.990199089050293,11.84607982635498,10.063640594482422,6.209751605987549,1.2699843645095825,-2.2627925872802734,-4.422524452209473,-4.714573860168457,-4.249195575714111,-3.3452675342559814,-1.3623402118682861,2.652003288269043,6.751142978668213,10.874063491821289,15.676078796386719,22.825096130371094,32.71894454956055,39.563636779785156,39.984375,33.516292572021484,25.143674850463867,20.245393753051758,16.76604652404785,14.036809921264648,11.599933624267578,9.543083190917969,9.798892974853516,11.751421928405762,13.604554176330566,14.984055519104004,19.113842010498047,24.911834716796875,31.13494110107422,35.24909210205078,40.82810592651367,50.45175552368164,60.87266159057617,69.60858154296875,69.56398010253906,63.46401596069336,58.80299377441406,53.63678741455078,45.38113784790039,39.469478607177734,33.29335021972656,25.503562927246094,17.46531867980957,9.699772834777832,4.259219646453857,-0.8188987970352173,-4.319176197052002,-5.426022529602051,-6.661358833312988,-8.462955474853516,-10.679325103759766,-13.279722213745117,-16.456748962402344,-19.60283851623535,-23.007680892944336,-26.130565643310547,-28.93288803100586,-29.642087936401367,-27.222530364990234,-23.915544509887695,-22.928634643554688,-22.797847747802734,-23.173643112182617,-23.760971069335938,-26.030269622802734],\"xaxis\":\"x\",\"y\":[-2.619753837585449,0.15496721863746643,2.4283666610717773,4.730982780456543,6.693488121032715,9.949872970581055,15.152946472167969,21.45010757446289,28.566795349121094,35.684242248535156,39.375709533691406,40.12075424194336,41.054847717285156,40.773189544677734,38.53953170776367,38.577301025390625,38.09577178955078,37.30447006225586,37.0395622253418,37.569122314453125,39.16398620605469,40.03691864013672,39.585838317871094,39.5090217590332,42.106239318847656,44.988948822021484,45.24736785888672,40.548118591308594,33.856689453125,26.200504302978516,20.84438133239746,18.556093215942383,16.695621490478516,14.307369232177734,11.068353652954102,7.430896759033203,3.9522740840911865,0.6387268900871277,-1.824038028717041,-4.491220951080322,-7.221126556396484,-10.186635971069336,-12.807604789733887,-14.69170093536377,-15.93164348602295,-17.008365631103516,-18.22270393371582,-21.052217483520508,-24.5120849609375,-27.142536163330078,-27.251644134521484,-27.03082847595215,-30.02056312561035,-32.76394271850586,-33.32878112792969,-33.02339172363281,-34.78867721557617,-37.36279296875,-37.529109954833984,-34.0914421081543,-28.578144073486328,-24.313154220581055,-22.668167114257812,-21.300365447998047,-18.182519912719727,-14.707579612731934,-11.604783058166504,-7.797115325927734,-2.109187126159668,5.658874988555908,14.515634536743164,20.378870010375977,23.464080810546875,26.335433959960938,29.12238121032715,30.570627212524414,26.78106689453125,20.452138900756836,13.393806457519531,8.077491760253906,2.7021565437316895,-0.6633285880088806,-2.4636166095733643,-4.189341068267822,-5.626481533050537,-6.378953456878662,-6.7447309494018555,-8.638151168823242,-12.035368919372559,-15.727724075317383,-18.79473304748535,-22.210847854614258,-24.154632568359375,-23.398204803466797,-20.837465286254883,-18.086566925048828,-14.383930206298828,-11.230304718017578,-8.414793968200684,-5.606560230255127,-2.70890474319458,-2.537759304046631,-2.3431615829467773,-2.1473214626312256,-1.9603590965270996,-1.7780239582061768,-1.5763072967529297,-1.3332856893539429,-1.0558918714523315,-0.7894851565361023,-0.5273271203041077,-0.25573334097862244,-6.268992001423612e-05,0.23834706842899323,0.46358487010002136,0.6667037010192871,0.8557103276252747,1.023409366607666,1.1723908185958862,1.2822870016098022,1.342739224433899,1.3579728603363037,1.3345052003860474,1.2847670316696167,1.2175166606903076,1.1300995349884033,1.0329920053482056,0.9238951802253723,0.8145537972450256,0.7096083760261536,0.6134686470031738,0.5131770372390747,0.39540883898735046,0.26496562361717224,0.12714216113090515,-0.017175329849123955,-0.16991904377937317,-0.333072692155838,-0.49818477034568787,-0.664719820022583,-0.8364359140396118,-1.0104260444641113,-1.1876006126403809,-1.3696861267089844,-1.5518075227737427,-1.7119866609573364,-1.872687816619873,-2.0418732166290283,-2.214167356491089,-2.38067889213562,-2.543186664581299,-2.690142869949341,-2.8245885372161865,-2.958754539489746,-3.095618486404419,-3.219172239303589,-3.3308792114257812,-3.435396671295166,-3.5293190479278564,-3.6111268997192383,-3.6900110244750977,-3.7719359397888184,-3.8568027019500732,-3.9548416137695312,-4.066833972930908,-4.17692756652832,-4.270559310913086,-4.346331596374512,-4.418615818023682,-4.495892524719238,-4.580574989318848,-4.663472652435303,-4.739238262176514,-4.795569896697998,-4.8416852951049805,-4.878728866577148,-4.906032562255859,-4.925337314605713,-4.937136173248291,-4.939198970794678,-4.929614067077637,-4.910970211029053,-4.889078617095947,-4.863558292388916,-4.827831745147705,-4.7781853675842285,-4.722623825073242,-4.6605305671691895,-4.565883159637451,-4.440554618835449,-4.300323486328125,-4.165441513061523,-4.034120559692383,-3.8959922790527344,-3.7439703941345215,-3.5834484100341797,-3.405092477798462,-3.228449821472168,-3.0463550090789795,-2.8733906745910645,-2.70890474319458,-2.537759304046631,-2.3431615829467773,-2.1473214626312256,-1.9603590965270996,-1.7780239582061768,-1.5763072967529297,-1.3332856893539429,-1.0558918714523315,-0.7894851565361023,-0.5273271203041077,-0.25573334097862244,-6.268992001423612e-05,0.23834706842899323,0.46358487010002136,0.6667037010192871,0.8557103276252747,1.023409366607666,1.1723908185958862,1.2822870016098022,1.342739224433899,1.3579728603363037,1.3345052003860474,1.2847670316696167,1.2175166606903076,1.1300995349884033,1.0329920053482056,0.9238951802253723,0.8145537972450256,0.7096083760261536,0.6134686470031738,0.5131770372390747,0.39540883898735046,0.26496562361717224,0.12714216113090515,-0.017175329849123955,-0.16991904377937317,-0.333072692155838,-0.49818477034568787,-0.664719820022583,-0.8364359140396118,-1.0104260444641113,-1.1876006126403809,-1.3696861267089844,-1.5518075227737427,-1.7119866609573364,-1.872687816619873,-2.0418732166290283,-2.214167356491089,-2.38067889213562,-2.543186664581299,-2.690142869949341,-2.8245885372161865,-2.958754539489746,-3.095618486404419,-3.219172239303589,-3.3308792114257812,-3.435396671295166,-3.5293190479278564,-3.6111268997192383,-3.6900110244750977,-3.7719359397888184,-3.8568027019500732,-3.9548416137695312,-4.066833972930908,-4.17692756652832,-4.270559310913086,-4.346331596374512,-4.418615818023682,-4.495892524719238,-4.580574989318848,-4.663472652435303,-4.739238262176514,-4.795569896697998,-4.8416852951049805,-4.878728866577148,-4.906032562255859,-4.925337314605713,-4.937136173248291,-4.939198970794678,-4.929614067077637,-4.910970211029053,-4.889078617095947,-4.863558292388916,-4.827831745147705,-4.7781853675842285,-4.722623825073242,-4.6605305671691895,-4.565883159637451,-4.440554618835449,-4.300323486328125,-4.165441513061523,-4.034120559692383,-3.8959922790527344,-3.7439703941345215,-3.5834484100341797,-3.405092477798462,-3.228449821472168,-3.0463550090789795,-2.8733906745910645,-2.70890474319458,-2.537759304046631,-2.3431615829467773,-2.1473214626312256,-1.9603590965270996,-1.7780239582061768,-1.5763072967529297,-1.3332856893539429,-1.0558918714523315,-0.7894851565361023,-0.5273271203041077,-0.25573334097862244,-6.268992001423612e-05,0.23834706842899323,0.46358487010002136,0.6667037010192871,0.8557103276252747,1.023409366607666,1.1723908185958862,1.2822870016098022,1.342739224433899,1.3579728603363037,1.3345052003860474,1.2847670316696167,1.2175166606903076,1.1300995349884033,1.0329920053482056,0.9238951802253723,0.8145537972450256,0.7096083760261536,0.6134686470031738,0.5131770372390747,0.39540883898735046,0.26496562361717224,0.12714216113090515,-0.017175329849123955,-0.16991904377937317,-0.333072692155838,-0.49818477034568787,-0.664719820022583,-0.8364359140396118,-1.0104260444641113,-1.1876006126403809,-1.3696861267089844,-1.5518075227737427,-1.7119866609573364,-1.872687816619873,-2.0418732166290283,-2.214167356491089,-2.38067889213562,-2.543186664581299,-2.690142869949341,-2.8245885372161865,-2.958754539489746,-3.095618486404419,-3.219172239303589,-3.3308792114257812,-3.435396671295166,-3.5293190479278564,-3.6111268997192383,-3.6900110244750977,-3.7719359397888184,-3.8568027019500732,-3.9548416137695312,-4.066833972930908,-4.17692756652832,-4.270559310913086,-4.346331596374512,-4.418615818023682,-4.495892524719238,-4.580574989318848,-4.663472652435303,-4.739238262176514,-4.795569896697998,-4.8416852951049805,-4.878728866577148,-4.906032562255859,-4.925337314605713,-4.937136173248291,-4.939198970794678,-4.929614067077637,-4.910970211029053,-4.889078617095947,-4.863558292388916,-4.827831745147705,-4.7781853675842285,-4.722623825073242,-4.6605305671691895,-4.565883159637451,-4.440554618835449,-4.300323486328125,-4.165441513061523,-4.034120559692383,-3.8959922790527344,-3.7439703941345215,-3.5834484100341797,-3.405092477798462,-3.228449821472168,-3.0463550090789795,-2.8733906745910645,-2.619746446609497,0.15496116876602173,2.428363561630249,4.730982780456543,6.693488121032715,9.949872970581055,15.152946472167969,21.45010757446289,28.566795349121094,35.684242248535156,39.375709533691406,40.12075424194336,41.054847717285156,40.773189544677734,38.53953170776367,38.577301025390625,38.09577178955078,37.30447006225586,37.0395622253418,37.569122314453125,39.16398620605469,40.03691864013672,39.585838317871094,39.5090217590332,42.106239318847656,44.988948822021484,45.24736785888672,40.548118591308594,33.856689453125,26.200504302978516,20.84438133239746,18.556093215942383,16.695621490478516,14.307369232177734,11.068353652954102,7.430896759033203,3.9522740840911865,0.6387268900871277,-1.824038028717041,-4.491220951080322,-7.221126556396484,-10.186635971069336,-12.807604789733887,-14.69170093536377,-15.93164348602295,-17.008365631103516,-18.22270393371582,-21.052217483520508,-24.5120849609375,-27.142536163330078,-27.251644134521484,-27.03082847595215,-30.02056312561035,-32.76394271850586,-33.32878112792969,-33.02339172363281,-34.78867721557617,-37.36279296875,-37.529109954833984,-34.0914421081543,-28.578144073486328,-24.313154220581055,-22.668167114257812,-21.300365447998047,-18.182519912719727,-14.707579612731934,-11.604783058166504,-7.797115325927734,-2.109187126159668,5.658874988555908,14.515634536743164,20.378870010375977,23.464080810546875,26.335433959960938,29.12238121032715,30.570627212524414,26.78106689453125,20.452138900756836,13.393806457519531,8.077491760253906,2.7021565437316895,-0.6633285880088806,-2.4636166095733643,-4.189341068267822,-5.626481533050537,-6.378953456878662,-6.7447309494018555,-8.638151168823242,-12.035368919372559,-15.727724075317383,-18.79473304748535,-22.210847854614258,-24.154632568359375,-23.398204803466797,-20.837465286254883,-18.086566925048828,-14.383930206298828,-11.230304718017578,-8.414793968200684,-5.606560230255127],\"yaxis\":\"y\",\"type\":\"scatter\"}],                        {\"template\":{\"data\":{\"histogram2dcontour\":[{\"type\":\"histogram2dcontour\",\"colorbar\":{\"outlinewidth\":0,\"ticks\":\"\"},\"colorscale\":[[0.0,\"#0d0887\"],[0.1111111111111111,\"#46039f\"],[0.2222222222222222,\"#7201a8\"],[0.3333333333333333,\"#9c179e\"],[0.4444444444444444,\"#bd3786\"],[0.5555555555555556,\"#d8576b\"],[0.6666666666666666,\"#ed7953\"],[0.7777777777777778,\"#fb9f3a\"],[0.8888888888888888,\"#fdca26\"],[1.0,\"#f0f921\"]]}],\"choropleth\":[{\"type\":\"choropleth\",\"colorbar\":{\"outlinewidth\":0,\"ticks\":\"\"}}],\"histogram2d\":[{\"type\":\"histogram2d\",\"colorbar\":{\"outlinewidth\":0,\"ticks\":\"\"},\"colorscale\":[[0.0,\"#0d0887\"],[0.1111111111111111,\"#46039f\"],[0.2222222222222222,\"#7201a8\"],[0.3333333333333333,\"#9c179e\"],[0.4444444444444444,\"#bd3786\"],[0.5555555555555556,\"#d8576b\"],[0.6666666666666666,\"#ed7953\"],[0.7777777777777778,\"#fb9f3a\"],[0.8888888888888888,\"#fdca26\"],[1.0,\"#f0f921\"]]}],\"heatmap\":[{\"type\":\"heatmap\",\"colorbar\":{\"outlinewidth\":0,\"ticks\":\"\"},\"colorscale\":[[0.0,\"#0d0887\"],[0.1111111111111111,\"#46039f\"],[0.2222222222222222,\"#7201a8\"],[0.3333333333333333,\"#9c179e\"],[0.4444444444444444,\"#bd3786\"],[0.5555555555555556,\"#d8576b\"],[0.6666666666666666,\"#ed7953\"],[0.7777777777777778,\"#fb9f3a\"],[0.8888888888888888,\"#fdca26\"],[1.0,\"#f0f921\"]]}],\"heatmapgl\":[{\"type\":\"heatmapgl\",\"colorbar\":{\"outlinewidth\":0,\"ticks\":\"\"},\"colorscale\":[[0.0,\"#0d0887\"],[0.1111111111111111,\"#46039f\"],[0.2222222222222222,\"#7201a8\"],[0.3333333333333333,\"#9c179e\"],[0.4444444444444444,\"#bd3786\"],[0.5555555555555556,\"#d8576b\"],[0.6666666666666666,\"#ed7953\"],[0.7777777777777778,\"#fb9f3a\"],[0.8888888888888888,\"#fdca26\"],[1.0,\"#f0f921\"]]}],\"contourcarpet\":[{\"type\":\"contourcarpet\",\"colorbar\":{\"outlinewidth\":0,\"ticks\":\"\"}}],\"contour\":[{\"type\":\"contour\",\"colorbar\":{\"outlinewidth\":0,\"ticks\":\"\"},\"colorscale\":[[0.0,\"#0d0887\"],[0.1111111111111111,\"#46039f\"],[0.2222222222222222,\"#7201a8\"],[0.3333333333333333,\"#9c179e\"],[0.4444444444444444,\"#bd3786\"],[0.5555555555555556,\"#d8576b\"],[0.6666666666666666,\"#ed7953\"],[0.7777777777777778,\"#fb9f3a\"],[0.8888888888888888,\"#fdca26\"],[1.0,\"#f0f921\"]]}],\"surface\":[{\"type\":\"surface\",\"colorbar\":{\"outlinewidth\":0,\"ticks\":\"\"},\"colorscale\":[[0.0,\"#0d0887\"],[0.1111111111111111,\"#46039f\"],[0.2222222222222222,\"#7201a8\"],[0.3333333333333333,\"#9c179e\"],[0.4444444444444444,\"#bd3786\"],[0.5555555555555556,\"#d8576b\"],[0.6666666666666666,\"#ed7953\"],[0.7777777777777778,\"#fb9f3a\"],[0.8888888888888888,\"#fdca26\"],[1.0,\"#f0f921\"]]}],\"mesh3d\":[{\"type\":\"mesh3d\",\"colorbar\":{\"outlinewidth\":0,\"ticks\":\"\"}}],\"scatter\":[{\"fillpattern\":{\"fillmode\":\"overlay\",\"size\":10,\"solidity\":0.2},\"type\":\"scatter\"}],\"parcoords\":[{\"type\":\"parcoords\",\"line\":{\"colorbar\":{\"outlinewidth\":0,\"ticks\":\"\"}}}],\"scatterpolargl\":[{\"type\":\"scatterpolargl\",\"marker\":{\"colorbar\":{\"outlinewidth\":0,\"ticks\":\"\"}}}],\"bar\":[{\"error_x\":{\"color\":\"#2a3f5f\"},\"error_y\":{\"color\":\"#2a3f5f\"},\"marker\":{\"line\":{\"color\":\"#E5ECF6\",\"width\":0.5},\"pattern\":{\"fillmode\":\"overlay\",\"size\":10,\"solidity\":0.2}},\"type\":\"bar\"}],\"scattergeo\":[{\"type\":\"scattergeo\",\"marker\":{\"colorbar\":{\"outlinewidth\":0,\"ticks\":\"\"}}}],\"scatterpolar\":[{\"type\":\"scatterpolar\",\"marker\":{\"colorbar\":{\"outlinewidth\":0,\"ticks\":\"\"}}}],\"histogram\":[{\"marker\":{\"pattern\":{\"fillmode\":\"overlay\",\"size\":10,\"solidity\":0.2}},\"type\":\"histogram\"}],\"scattergl\":[{\"type\":\"scattergl\",\"marker\":{\"colorbar\":{\"outlinewidth\":0,\"ticks\":\"\"}}}],\"scatter3d\":[{\"type\":\"scatter3d\",\"line\":{\"colorbar\":{\"outlinewidth\":0,\"ticks\":\"\"}},\"marker\":{\"colorbar\":{\"outlinewidth\":0,\"ticks\":\"\"}}}],\"scattermapbox\":[{\"type\":\"scattermapbox\",\"marker\":{\"colorbar\":{\"outlinewidth\":0,\"ticks\":\"\"}}}],\"scatterternary\":[{\"type\":\"scatterternary\",\"marker\":{\"colorbar\":{\"outlinewidth\":0,\"ticks\":\"\"}}}],\"scattercarpet\":[{\"type\":\"scattercarpet\",\"marker\":{\"colorbar\":{\"outlinewidth\":0,\"ticks\":\"\"}}}],\"carpet\":[{\"aaxis\":{\"endlinecolor\":\"#2a3f5f\",\"gridcolor\":\"white\",\"linecolor\":\"white\",\"minorgridcolor\":\"white\",\"startlinecolor\":\"#2a3f5f\"},\"baxis\":{\"endlinecolor\":\"#2a3f5f\",\"gridcolor\":\"white\",\"linecolor\":\"white\",\"minorgridcolor\":\"white\",\"startlinecolor\":\"#2a3f5f\"},\"type\":\"carpet\"}],\"table\":[{\"cells\":{\"fill\":{\"color\":\"#EBF0F8\"},\"line\":{\"color\":\"white\"}},\"header\":{\"fill\":{\"color\":\"#C8D4E3\"},\"line\":{\"color\":\"white\"}},\"type\":\"table\"}],\"barpolar\":[{\"marker\":{\"line\":{\"color\":\"#E5ECF6\",\"width\":0.5},\"pattern\":{\"fillmode\":\"overlay\",\"size\":10,\"solidity\":0.2}},\"type\":\"barpolar\"}],\"pie\":[{\"automargin\":true,\"type\":\"pie\"}]},\"layout\":{\"autotypenumbers\":\"strict\",\"colorway\":[\"#636efa\",\"#EF553B\",\"#00cc96\",\"#ab63fa\",\"#FFA15A\",\"#19d3f3\",\"#FF6692\",\"#B6E880\",\"#FF97FF\",\"#FECB52\"],\"font\":{\"color\":\"#2a3f5f\"},\"hovermode\":\"closest\",\"hoverlabel\":{\"align\":\"left\"},\"paper_bgcolor\":\"white\",\"plot_bgcolor\":\"#E5ECF6\",\"polar\":{\"bgcolor\":\"#E5ECF6\",\"angularaxis\":{\"gridcolor\":\"white\",\"linecolor\":\"white\",\"ticks\":\"\"},\"radialaxis\":{\"gridcolor\":\"white\",\"linecolor\":\"white\",\"ticks\":\"\"}},\"ternary\":{\"bgcolor\":\"#E5ECF6\",\"aaxis\":{\"gridcolor\":\"white\",\"linecolor\":\"white\",\"ticks\":\"\"},\"baxis\":{\"gridcolor\":\"white\",\"linecolor\":\"white\",\"ticks\":\"\"},\"caxis\":{\"gridcolor\":\"white\",\"linecolor\":\"white\",\"ticks\":\"\"}},\"coloraxis\":{\"colorbar\":{\"outlinewidth\":0,\"ticks\":\"\"}},\"colorscale\":{\"sequential\":[[0.0,\"#0d0887\"],[0.1111111111111111,\"#46039f\"],[0.2222222222222222,\"#7201a8\"],[0.3333333333333333,\"#9c179e\"],[0.4444444444444444,\"#bd3786\"],[0.5555555555555556,\"#d8576b\"],[0.6666666666666666,\"#ed7953\"],[0.7777777777777778,\"#fb9f3a\"],[0.8888888888888888,\"#fdca26\"],[1.0,\"#f0f921\"]],\"sequentialminus\":[[0.0,\"#0d0887\"],[0.1111111111111111,\"#46039f\"],[0.2222222222222222,\"#7201a8\"],[0.3333333333333333,\"#9c179e\"],[0.4444444444444444,\"#bd3786\"],[0.5555555555555556,\"#d8576b\"],[0.6666666666666666,\"#ed7953\"],[0.7777777777777778,\"#fb9f3a\"],[0.8888888888888888,\"#fdca26\"],[1.0,\"#f0f921\"]],\"diverging\":[[0,\"#8e0152\"],[0.1,\"#c51b7d\"],[0.2,\"#de77ae\"],[0.3,\"#f1b6da\"],[0.4,\"#fde0ef\"],[0.5,\"#f7f7f7\"],[0.6,\"#e6f5d0\"],[0.7,\"#b8e186\"],[0.8,\"#7fbc41\"],[0.9,\"#4d9221\"],[1,\"#276419\"]]},\"xaxis\":{\"gridcolor\":\"white\",\"linecolor\":\"white\",\"ticks\":\"\",\"title\":{\"standoff\":15},\"zerolinecolor\":\"white\",\"automargin\":true,\"zerolinewidth\":2},\"yaxis\":{\"gridcolor\":\"white\",\"linecolor\":\"white\",\"ticks\":\"\",\"title\":{\"standoff\":15},\"zerolinecolor\":\"white\",\"automargin\":true,\"zerolinewidth\":2},\"scene\":{\"xaxis\":{\"backgroundcolor\":\"#E5ECF6\",\"gridcolor\":\"white\",\"linecolor\":\"white\",\"showbackground\":true,\"ticks\":\"\",\"zerolinecolor\":\"white\",\"gridwidth\":2},\"yaxis\":{\"backgroundcolor\":\"#E5ECF6\",\"gridcolor\":\"white\",\"linecolor\":\"white\",\"showbackground\":true,\"ticks\":\"\",\"zerolinecolor\":\"white\",\"gridwidth\":2},\"zaxis\":{\"backgroundcolor\":\"#E5ECF6\",\"gridcolor\":\"white\",\"linecolor\":\"white\",\"showbackground\":true,\"ticks\":\"\",\"zerolinecolor\":\"white\",\"gridwidth\":2}},\"shapedefaults\":{\"line\":{\"color\":\"#2a3f5f\"}},\"annotationdefaults\":{\"arrowcolor\":\"#2a3f5f\",\"arrowhead\":0,\"arrowwidth\":1},\"geo\":{\"bgcolor\":\"white\",\"landcolor\":\"#E5ECF6\",\"subunitcolor\":\"white\",\"showland\":true,\"showlakes\":true,\"lakecolor\":\"white\"},\"title\":{\"x\":0.05},\"mapbox\":{\"style\":\"light\"}}},\"xaxis\":{\"anchor\":\"y\",\"domain\":[0.0,1.0],\"title\":{\"text\":\"1st\"}},\"yaxis\":{\"anchor\":\"x\",\"domain\":[0.0,1.0],\"title\":{\"text\":\"2nd\"}},\"coloraxis\":{\"colorbar\":{\"title\":{\"text\":\"state\"}},\"colorscale\":[[0.0,\"#440154\"],[0.1111111111111111,\"#482878\"],[0.2222222222222222,\"#3e4989\"],[0.3333333333333333,\"#31688e\"],[0.4444444444444444,\"#26828e\"],[0.5555555555555556,\"#1f9e89\"],[0.6666666666666666,\"#35b779\"],[0.7777777777777778,\"#6ece58\"],[0.8888888888888888,\"#b5de2b\"],[1.0,\"#fde725\"]]},\"legend\":{\"tracegroupgap\":0},\"title\":{\"text\":\"q=3,loss=0.000000\"},\"height\":500},                        {\"responsive\": true}                    ).then(function(){\n",
       "                            \n",
       "var gd = document.getElementById('dd359843-20e3-4c01-8178-9cd53b0c1bac');\n",
       "var x = new MutationObserver(function (mutations, observer) {{\n",
       "        var display = window.getComputedStyle(gd).display;\n",
       "        if (!display || display === 'none') {{\n",
       "            console.log([gd, 'removed!']);\n",
       "            Plotly.purge(gd);\n",
       "            observer.disconnect();\n",
       "        }}\n",
       "}});\n",
       "\n",
       "// Listen for the removal of the full notebook cells\n",
       "var notebookContainer = gd.closest('#notebook-container');\n",
       "if (notebookContainer) {{\n",
       "    x.observe(notebookContainer, {childList: true});\n",
       "}}\n",
       "\n",
       "// Listen for the clearing of the current output cell\n",
       "var outputEl = gd.closest('.output');\n",
       "if (outputEl) {{\n",
       "    x.observe(outputEl, {childList: true});\n",
       "}}\n",
       "\n",
       "                        })                };                });            </script>        </div>"
      ]
     },
     "metadata": {},
     "output_type": "display_data"
    },
    {
     "name": "stdout",
     "output_type": "stream",
     "text": [
      "===== epoch 21 =====\n",
      "rec_loss:     0.005593\n",
      "adver_loss:   15.424948\n",
      "disc_loss:    15.424948+-0.000000\n",
      "redatum_loss: 0.566990\n",
      "===== epoch 22 =====\n",
      "rec_loss:     0.008582\n",
      "adver_loss:   15.424948\n",
      "disc_loss:    15.424948+-0.000000\n",
      "redatum_loss: 0.593954\n"
     ]
    },
    {
     "ename": "KeyboardInterrupt",
     "evalue": "",
     "output_type": "error",
     "traceback": [
      "\u001b[0;31m---------------------------------------------------------------------------\u001b[0m",
      "\u001b[0;31mKeyboardInterrupt\u001b[0m                         Traceback (most recent call last)",
      "Input \u001b[0;32mIn [91]\u001b[0m, in \u001b[0;36m<cell line: 1>\u001b[0;34m()\u001b[0m\n\u001b[1;32m      1\u001b[0m \u001b[38;5;28;01mfor\u001b[39;00m epoch \u001b[38;5;129;01min\u001b[39;00m \u001b[38;5;28mrange\u001b[39m(\u001b[38;5;241m10000\u001b[39m):\n\u001b[1;32m      2\u001b[0m     \u001b[38;5;28;01mfor\u001b[39;00m batch, data \u001b[38;5;129;01min\u001b[39;00m \u001b[38;5;28menumerate\u001b[39m(train_dataset_mix):\n\u001b[0;32m----> 3\u001b[0m         rec_loss, adver_loss, real_loss, fake_loss \u001b[38;5;241m=\u001b[39m \u001b[43mtrain_step\u001b[49m\u001b[43m(\u001b[49m\u001b[43mdata\u001b[49m\u001b[43m)\u001b[49m\n\u001b[1;32m      5\u001b[0m     redatum_loss \u001b[38;5;241m=\u001b[39m \u001b[38;5;241m0.0\u001b[39m\n\u001b[1;32m      6\u001b[0m     \u001b[38;5;28;01mfor\u001b[39;00m batch, data \u001b[38;5;129;01min\u001b[39;00m \u001b[38;5;28menumerate\u001b[39m(train_dataset_pair):\n",
      "File \u001b[0;32m~/software/anaconda/envs/MRA/lib/python3.9/site-packages/tensorflow/python/util/traceback_utils.py:150\u001b[0m, in \u001b[0;36mfilter_traceback.<locals>.error_handler\u001b[0;34m(*args, **kwargs)\u001b[0m\n\u001b[1;32m    148\u001b[0m filtered_tb \u001b[38;5;241m=\u001b[39m \u001b[38;5;28;01mNone\u001b[39;00m\n\u001b[1;32m    149\u001b[0m \u001b[38;5;28;01mtry\u001b[39;00m:\n\u001b[0;32m--> 150\u001b[0m   \u001b[38;5;28;01mreturn\u001b[39;00m \u001b[43mfn\u001b[49m\u001b[43m(\u001b[49m\u001b[38;5;241;43m*\u001b[39;49m\u001b[43margs\u001b[49m\u001b[43m,\u001b[49m\u001b[43m \u001b[49m\u001b[38;5;241;43m*\u001b[39;49m\u001b[38;5;241;43m*\u001b[39;49m\u001b[43mkwargs\u001b[49m\u001b[43m)\u001b[49m\n\u001b[1;32m    151\u001b[0m \u001b[38;5;28;01mexcept\u001b[39;00m \u001b[38;5;167;01mException\u001b[39;00m \u001b[38;5;28;01mas\u001b[39;00m e:\n\u001b[1;32m    152\u001b[0m   filtered_tb \u001b[38;5;241m=\u001b[39m _process_traceback_frames(e\u001b[38;5;241m.\u001b[39m__traceback__)\n",
      "File \u001b[0;32m~/software/anaconda/envs/MRA/lib/python3.9/site-packages/tensorflow/python/eager/def_function.py:915\u001b[0m, in \u001b[0;36mFunction.__call__\u001b[0;34m(self, *args, **kwds)\u001b[0m\n\u001b[1;32m    912\u001b[0m compiler \u001b[38;5;241m=\u001b[39m \u001b[38;5;124m\"\u001b[39m\u001b[38;5;124mxla\u001b[39m\u001b[38;5;124m\"\u001b[39m \u001b[38;5;28;01mif\u001b[39;00m \u001b[38;5;28mself\u001b[39m\u001b[38;5;241m.\u001b[39m_jit_compile \u001b[38;5;28;01melse\u001b[39;00m \u001b[38;5;124m\"\u001b[39m\u001b[38;5;124mnonXla\u001b[39m\u001b[38;5;124m\"\u001b[39m\n\u001b[1;32m    914\u001b[0m \u001b[38;5;28;01mwith\u001b[39;00m OptionalXlaContext(\u001b[38;5;28mself\u001b[39m\u001b[38;5;241m.\u001b[39m_jit_compile):\n\u001b[0;32m--> 915\u001b[0m   result \u001b[38;5;241m=\u001b[39m \u001b[38;5;28;43mself\u001b[39;49m\u001b[38;5;241;43m.\u001b[39;49m\u001b[43m_call\u001b[49m\u001b[43m(\u001b[49m\u001b[38;5;241;43m*\u001b[39;49m\u001b[43margs\u001b[49m\u001b[43m,\u001b[49m\u001b[43m \u001b[49m\u001b[38;5;241;43m*\u001b[39;49m\u001b[38;5;241;43m*\u001b[39;49m\u001b[43mkwds\u001b[49m\u001b[43m)\u001b[49m\n\u001b[1;32m    917\u001b[0m new_tracing_count \u001b[38;5;241m=\u001b[39m \u001b[38;5;28mself\u001b[39m\u001b[38;5;241m.\u001b[39mexperimental_get_tracing_count()\n\u001b[1;32m    918\u001b[0m without_tracing \u001b[38;5;241m=\u001b[39m (tracing_count \u001b[38;5;241m==\u001b[39m new_tracing_count)\n",
      "File \u001b[0;32m~/software/anaconda/envs/MRA/lib/python3.9/site-packages/tensorflow/python/eager/def_function.py:947\u001b[0m, in \u001b[0;36mFunction._call\u001b[0;34m(self, *args, **kwds)\u001b[0m\n\u001b[1;32m    944\u001b[0m   \u001b[38;5;28mself\u001b[39m\u001b[38;5;241m.\u001b[39m_lock\u001b[38;5;241m.\u001b[39mrelease()\n\u001b[1;32m    945\u001b[0m   \u001b[38;5;66;03m# In this case we have created variables on the first call, so we run the\u001b[39;00m\n\u001b[1;32m    946\u001b[0m   \u001b[38;5;66;03m# defunned version which is guaranteed to never create variables.\u001b[39;00m\n\u001b[0;32m--> 947\u001b[0m   \u001b[38;5;28;01mreturn\u001b[39;00m \u001b[38;5;28;43mself\u001b[39;49m\u001b[38;5;241;43m.\u001b[39;49m\u001b[43m_stateless_fn\u001b[49m\u001b[43m(\u001b[49m\u001b[38;5;241;43m*\u001b[39;49m\u001b[43margs\u001b[49m\u001b[43m,\u001b[49m\u001b[43m \u001b[49m\u001b[38;5;241;43m*\u001b[39;49m\u001b[38;5;241;43m*\u001b[39;49m\u001b[43mkwds\u001b[49m\u001b[43m)\u001b[49m  \u001b[38;5;66;03m# pylint: disable=not-callable\u001b[39;00m\n\u001b[1;32m    948\u001b[0m \u001b[38;5;28;01melif\u001b[39;00m \u001b[38;5;28mself\u001b[39m\u001b[38;5;241m.\u001b[39m_stateful_fn \u001b[38;5;129;01mis\u001b[39;00m \u001b[38;5;129;01mnot\u001b[39;00m \u001b[38;5;28;01mNone\u001b[39;00m:\n\u001b[1;32m    949\u001b[0m   \u001b[38;5;66;03m# Release the lock early so that multiple threads can perform the call\u001b[39;00m\n\u001b[1;32m    950\u001b[0m   \u001b[38;5;66;03m# in parallel.\u001b[39;00m\n\u001b[1;32m    951\u001b[0m   \u001b[38;5;28mself\u001b[39m\u001b[38;5;241m.\u001b[39m_lock\u001b[38;5;241m.\u001b[39mrelease()\n",
      "File \u001b[0;32m~/software/anaconda/envs/MRA/lib/python3.9/site-packages/tensorflow/python/eager/function.py:2453\u001b[0m, in \u001b[0;36mFunction.__call__\u001b[0;34m(self, *args, **kwargs)\u001b[0m\n\u001b[1;32m   2450\u001b[0m \u001b[38;5;28;01mwith\u001b[39;00m \u001b[38;5;28mself\u001b[39m\u001b[38;5;241m.\u001b[39m_lock:\n\u001b[1;32m   2451\u001b[0m   (graph_function,\n\u001b[1;32m   2452\u001b[0m    filtered_flat_args) \u001b[38;5;241m=\u001b[39m \u001b[38;5;28mself\u001b[39m\u001b[38;5;241m.\u001b[39m_maybe_define_function(args, kwargs)\n\u001b[0;32m-> 2453\u001b[0m \u001b[38;5;28;01mreturn\u001b[39;00m \u001b[43mgraph_function\u001b[49m\u001b[38;5;241;43m.\u001b[39;49m\u001b[43m_call_flat\u001b[49m\u001b[43m(\u001b[49m\n\u001b[1;32m   2454\u001b[0m \u001b[43m    \u001b[49m\u001b[43mfiltered_flat_args\u001b[49m\u001b[43m,\u001b[49m\u001b[43m \u001b[49m\u001b[43mcaptured_inputs\u001b[49m\u001b[38;5;241;43m=\u001b[39;49m\u001b[43mgraph_function\u001b[49m\u001b[38;5;241;43m.\u001b[39;49m\u001b[43mcaptured_inputs\u001b[49m\u001b[43m)\u001b[49m\n",
      "File \u001b[0;32m~/software/anaconda/envs/MRA/lib/python3.9/site-packages/tensorflow/python/eager/function.py:1860\u001b[0m, in \u001b[0;36mConcreteFunction._call_flat\u001b[0;34m(self, args, captured_inputs, cancellation_manager)\u001b[0m\n\u001b[1;32m   1856\u001b[0m possible_gradient_type \u001b[38;5;241m=\u001b[39m gradients_util\u001b[38;5;241m.\u001b[39mPossibleTapeGradientTypes(args)\n\u001b[1;32m   1857\u001b[0m \u001b[38;5;28;01mif\u001b[39;00m (possible_gradient_type \u001b[38;5;241m==\u001b[39m gradients_util\u001b[38;5;241m.\u001b[39mPOSSIBLE_GRADIENT_TYPES_NONE\n\u001b[1;32m   1858\u001b[0m     \u001b[38;5;129;01mand\u001b[39;00m executing_eagerly):\n\u001b[1;32m   1859\u001b[0m   \u001b[38;5;66;03m# No tape is watching; skip to running the function.\u001b[39;00m\n\u001b[0;32m-> 1860\u001b[0m   \u001b[38;5;28;01mreturn\u001b[39;00m \u001b[38;5;28mself\u001b[39m\u001b[38;5;241m.\u001b[39m_build_call_outputs(\u001b[38;5;28;43mself\u001b[39;49m\u001b[38;5;241;43m.\u001b[39;49m\u001b[43m_inference_function\u001b[49m\u001b[38;5;241;43m.\u001b[39;49m\u001b[43mcall\u001b[49m\u001b[43m(\u001b[49m\n\u001b[1;32m   1861\u001b[0m \u001b[43m      \u001b[49m\u001b[43mctx\u001b[49m\u001b[43m,\u001b[49m\u001b[43m \u001b[49m\u001b[43margs\u001b[49m\u001b[43m,\u001b[49m\u001b[43m \u001b[49m\u001b[43mcancellation_manager\u001b[49m\u001b[38;5;241;43m=\u001b[39;49m\u001b[43mcancellation_manager\u001b[49m\u001b[43m)\u001b[49m)\n\u001b[1;32m   1862\u001b[0m forward_backward \u001b[38;5;241m=\u001b[39m \u001b[38;5;28mself\u001b[39m\u001b[38;5;241m.\u001b[39m_select_forward_and_backward_functions(\n\u001b[1;32m   1863\u001b[0m     args,\n\u001b[1;32m   1864\u001b[0m     possible_gradient_type,\n\u001b[1;32m   1865\u001b[0m     executing_eagerly)\n\u001b[1;32m   1866\u001b[0m forward_function, args_with_tangents \u001b[38;5;241m=\u001b[39m forward_backward\u001b[38;5;241m.\u001b[39mforward()\n",
      "File \u001b[0;32m~/software/anaconda/envs/MRA/lib/python3.9/site-packages/tensorflow/python/eager/function.py:497\u001b[0m, in \u001b[0;36m_EagerDefinedFunction.call\u001b[0;34m(self, ctx, args, cancellation_manager)\u001b[0m\n\u001b[1;32m    495\u001b[0m \u001b[38;5;28;01mwith\u001b[39;00m _InterpolateFunctionError(\u001b[38;5;28mself\u001b[39m):\n\u001b[1;32m    496\u001b[0m   \u001b[38;5;28;01mif\u001b[39;00m cancellation_manager \u001b[38;5;129;01mis\u001b[39;00m \u001b[38;5;28;01mNone\u001b[39;00m:\n\u001b[0;32m--> 497\u001b[0m     outputs \u001b[38;5;241m=\u001b[39m \u001b[43mexecute\u001b[49m\u001b[38;5;241;43m.\u001b[39;49m\u001b[43mexecute\u001b[49m\u001b[43m(\u001b[49m\n\u001b[1;32m    498\u001b[0m \u001b[43m        \u001b[49m\u001b[38;5;28;43mstr\u001b[39;49m\u001b[43m(\u001b[49m\u001b[38;5;28;43mself\u001b[39;49m\u001b[38;5;241;43m.\u001b[39;49m\u001b[43msignature\u001b[49m\u001b[38;5;241;43m.\u001b[39;49m\u001b[43mname\u001b[49m\u001b[43m)\u001b[49m\u001b[43m,\u001b[49m\n\u001b[1;32m    499\u001b[0m \u001b[43m        \u001b[49m\u001b[43mnum_outputs\u001b[49m\u001b[38;5;241;43m=\u001b[39;49m\u001b[38;5;28;43mself\u001b[39;49m\u001b[38;5;241;43m.\u001b[39;49m\u001b[43m_num_outputs\u001b[49m\u001b[43m,\u001b[49m\n\u001b[1;32m    500\u001b[0m \u001b[43m        \u001b[49m\u001b[43minputs\u001b[49m\u001b[38;5;241;43m=\u001b[39;49m\u001b[43margs\u001b[49m\u001b[43m,\u001b[49m\n\u001b[1;32m    501\u001b[0m \u001b[43m        \u001b[49m\u001b[43mattrs\u001b[49m\u001b[38;5;241;43m=\u001b[39;49m\u001b[43mattrs\u001b[49m\u001b[43m,\u001b[49m\n\u001b[1;32m    502\u001b[0m \u001b[43m        \u001b[49m\u001b[43mctx\u001b[49m\u001b[38;5;241;43m=\u001b[39;49m\u001b[43mctx\u001b[49m\u001b[43m)\u001b[49m\n\u001b[1;32m    503\u001b[0m   \u001b[38;5;28;01melse\u001b[39;00m:\n\u001b[1;32m    504\u001b[0m     outputs \u001b[38;5;241m=\u001b[39m execute\u001b[38;5;241m.\u001b[39mexecute_with_cancellation(\n\u001b[1;32m    505\u001b[0m         \u001b[38;5;28mstr\u001b[39m(\u001b[38;5;28mself\u001b[39m\u001b[38;5;241m.\u001b[39msignature\u001b[38;5;241m.\u001b[39mname),\n\u001b[1;32m    506\u001b[0m         num_outputs\u001b[38;5;241m=\u001b[39m\u001b[38;5;28mself\u001b[39m\u001b[38;5;241m.\u001b[39m_num_outputs,\n\u001b[0;32m   (...)\u001b[0m\n\u001b[1;32m    509\u001b[0m         ctx\u001b[38;5;241m=\u001b[39mctx,\n\u001b[1;32m    510\u001b[0m         cancellation_manager\u001b[38;5;241m=\u001b[39mcancellation_manager)\n",
      "File \u001b[0;32m~/software/anaconda/envs/MRA/lib/python3.9/site-packages/tensorflow/python/eager/execute.py:54\u001b[0m, in \u001b[0;36mquick_execute\u001b[0;34m(op_name, num_outputs, inputs, attrs, ctx, name)\u001b[0m\n\u001b[1;32m     52\u001b[0m \u001b[38;5;28;01mtry\u001b[39;00m:\n\u001b[1;32m     53\u001b[0m   ctx\u001b[38;5;241m.\u001b[39mensure_initialized()\n\u001b[0;32m---> 54\u001b[0m   tensors \u001b[38;5;241m=\u001b[39m \u001b[43mpywrap_tfe\u001b[49m\u001b[38;5;241;43m.\u001b[39;49m\u001b[43mTFE_Py_Execute\u001b[49m\u001b[43m(\u001b[49m\u001b[43mctx\u001b[49m\u001b[38;5;241;43m.\u001b[39;49m\u001b[43m_handle\u001b[49m\u001b[43m,\u001b[49m\u001b[43m \u001b[49m\u001b[43mdevice_name\u001b[49m\u001b[43m,\u001b[49m\u001b[43m \u001b[49m\u001b[43mop_name\u001b[49m\u001b[43m,\u001b[49m\n\u001b[1;32m     55\u001b[0m \u001b[43m                                      \u001b[49m\u001b[43minputs\u001b[49m\u001b[43m,\u001b[49m\u001b[43m \u001b[49m\u001b[43mattrs\u001b[49m\u001b[43m,\u001b[49m\u001b[43m \u001b[49m\u001b[43mnum_outputs\u001b[49m\u001b[43m)\u001b[49m\n\u001b[1;32m     56\u001b[0m \u001b[38;5;28;01mexcept\u001b[39;00m core\u001b[38;5;241m.\u001b[39m_NotOkStatusException \u001b[38;5;28;01mas\u001b[39;00m e:\n\u001b[1;32m     57\u001b[0m   \u001b[38;5;28;01mif\u001b[39;00m name \u001b[38;5;129;01mis\u001b[39;00m \u001b[38;5;129;01mnot\u001b[39;00m \u001b[38;5;28;01mNone\u001b[39;00m:\n",
      "\u001b[0;31mKeyboardInterrupt\u001b[0m: "
     ]
    }
   ],
   "source": [
    "for epoch in range(10000):\n",
    "    for batch, data in enumerate(train_dataset_mix):\n",
    "        rec_loss, adver_loss, real_loss, fake_loss = train_step(data)\n",
    "        \n",
    "    redatum_loss = 0.0\n",
    "    for batch, data in enumerate(train_dataset_pair):\n",
    "        if batch<10:\n",
    "            redatum_loss += redatuming_loss(data)\n",
    "        else:\n",
    "            break\n",
    "    redatum_loss /= 10\n",
    "    \n",
    "    print(\"===== epoch {:d} =====\".format(epoch))    \n",
    "    print(\"rec_loss:     {:f}\".format(rec_loss))\n",
    "    print(\"adver_loss:   {:f}\".format(adver_loss))\n",
    "    print(\"disc_loss:    {:f}+{:f}\".format(real_loss, fake_loss))        \n",
    "    print(\"redatum_loss: {:f}\".format(redatum_loss)) \n",
    "    if epoch%10==0:\n",
    "        clear_output(wait=True)\n",
    "        plot_my() "
   ]
  },
  {
   "cell_type": "markdown",
   "id": "f9f6c3e1-f83e-4e7f-9fae-ac422ecb0757",
   "metadata": {
    "tags": []
   },
   "source": [
    "### Save weights"
   ]
  },
  {
   "cell_type": "code",
   "execution_count": null,
   "id": "6f923375-bf69-46dd-a290-f247ecb0207e",
   "metadata": {},
   "outputs": [],
   "source": [
    "#model.save_weights('./checkpoint/'+datetime.now().strftime(\"%B%d\"))\n",
    "#model.save_weights('./checkpoint/'+'p=%d,q=%d,predata'%(p,q))\n",
    "print(\"weights saved\")"
   ]
  },
  {
   "cell_type": "code",
   "execution_count": null,
   "id": "ca5fbf56-4c23-4e13-b154-8d2c45186f97",
   "metadata": {},
   "outputs": [],
   "source": []
  },
  {
   "cell_type": "markdown",
   "id": "462e4883-c204-43d9-8418-5f9fce087660",
   "metadata": {
    "tags": []
   },
   "source": [
    "# Redatuming"
   ]
  },
  {
   "cell_type": "code",
   "execution_count": 54,
   "id": "aeb03a24-731a-4e8d-af04-37e3bb3c0c90",
   "metadata": {},
   "outputs": [],
   "source": [
    "i = np.random.randint(0,1000)\n",
    "state_instance = all_state_source[i:i+1,:,:]\n",
    "shift_instance = all_shift_source[i:i+1,:,:]\n",
    "redatum_instance = all_redatum[i:i+1,:,:]\n",
    "latent_code_state = encoder(state_instance)\n",
    "latent_code_shift = encoder(shift_instance)\n",
    "latent_state = latent_code_state[:, :, 0:p]\n",
    "latent_shift = latent_code_shift[:, :, p:p+q]\n",
    "merger = tf.concat([latent_state, latent_shift], axis=2)\n",
    "redatum = mix_decoder(merger)\n",
    "synthetic = redatum_instance"
   ]
  },
  {
   "cell_type": "code",
   "execution_count": 55,
   "id": "de1f4247-e33f-4987-9329-7c2b20ac57ee",
   "metadata": {},
   "outputs": [
    {
     "data": {
      "text/plain": [
       "[<matplotlib.lines.Line2D at 0x7efd846d2a90>]"
      ]
     },
     "execution_count": 55,
     "metadata": {},
     "output_type": "execute_result"
    },
    {
     "data": {
      "image/png": "[encoded data removed]",
      "text/plain": [
       "<Figure size 432x288 with 1 Axes>"
      ]
     },
     "metadata": {
      "needs_background": "light"
     },
     "output_type": "display_data"
    }
   ],
   "source": [
    "t = np.random.randint(0,nt)\n",
    "plt.plot(range(d),redatum[0,t,:])\n",
    "plt.plot(range(d),synthetic[0,t,:])"
   ]
  },
  {
   "cell_type": "code",
   "execution_count": 43,
   "id": "dcedbd55-0c90-4aea-90e6-6bea5296eb95",
   "metadata": {},
   "outputs": [
    {
     "data": {
      "image/png": "[encoded data removed]",
      "text/plain": [
       "<Figure size 432x288 with 1 Axes>"
      ]
     },
     "metadata": {
      "needs_background": "light"
     },
     "output_type": "display_data"
    }
   ],
   "source": [
    "for batch, data in enumerate(train_dataset_mix):\n",
    "    if batch ==10:\n",
    "        instance, state_source, shift_source = data\n",
    "        plt.plot(range(d),instance[0,0,:])\n",
    "        plt.plot(range(d),ae(instance)[0,0,:])\n",
    "        break\n",
    "plt.show()"
   ]
  },
  {
   "cell_type": "markdown",
   "id": "0fadff9b-6233-4afe-bd5b-2e55154338ef",
   "metadata": {
    "jp-MarkdownHeadingCollapsed": true,
    "tags": []
   },
   "source": [
    "### List many redatuming"
   ]
  },
  {
   "cell_type": "code",
   "execution_count": null,
   "id": "c59ca1d6-980f-4f53-a2e1-87a54019917e",
   "metadata": {},
   "outputs": [],
   "source": [
    "def dec(latent_code):\n",
    "    tem = latent_code[np.newaxis, np.newaxis, :]\n",
    "    tem = np.repeat(tem, nt, axis=1)\n",
    "    tem = model.mixer.predict(tem, verbose=0)\n",
    "    return tem[0,0,:]\n",
    "def enc(state, shift):\n",
    "    tem = np.array( [g(state, ((k+shift)%d)/d) for k in range(d)] )\n",
    "    tem = tem[np.newaxis, np.newaxis, :, np.newaxis]\n",
    "    tem = np.repeat(tem, nt, axis=1)\n",
    "    tem = model.encoder.predict(tem, verbose=0)\n",
    "    return tem[0][0:p+q]"
   ]
  },
  {
   "cell_type": "code",
   "execution_count": null,
   "id": "b1399151-ed42-4d13-8f7d-180fbb492d31",
   "metadata": {},
   "outputs": [],
   "source": [
    "state_source = 0\n",
    "nuisance_source = 40\n",
    "fig, axs = plt.subplots(1, d, sharex=True, sharey=True, figsize=(4*d,4), dpi=40)\n",
    "for i in trange(d):\n",
    "    coherent_code = enc(state_source, 0)[0: p]\n",
    "    nuisance_code = enc(nuisance_source, i)[p: p+q]\n",
    "    latent_code = np.concatenate([coherent_code, nuisance_code], axis=0)\n",
    "    axs[i].plot(range(d), dec(latent_code))\n",
    "    axs[i].set_title('%d'%i)\n",
    "plt.suptitle('$\\hat{X}_{s=%d \\mapsto s=%d}$'%(nuisance_source, state_source), fontsize=50)\n",
    "plt.subplots_adjust(top=0.6)\n",
    "plt.show()\n",
    "#fig.savefig('./plots/%dto%d'%(nuisance_source, state_source))"
   ]
  },
  {
   "cell_type": "markdown",
   "id": "fa27b26c-d23f-42f5-9f32-49e66bda6c42",
   "metadata": {
    "tags": []
   },
   "source": [
    "# Interpolation"
   ]
  },
  {
   "cell_type": "code",
   "execution_count": null,
   "id": "f7e56385-4c7a-43da-8358-a053cd8caad8",
   "metadata": {},
   "outputs": [],
   "source": [
    "def dec(latent_code):\n",
    "    tem = latent_code[np.newaxis, np.newaxis, :]\n",
    "    tem = np.repeat(tem, nt, axis=1)\n",
    "    tem = model.mixer.predict(tem, verbose=0)\n",
    "    return tem[0,0,:]\n",
    "def enc(state, shift):\n",
    "    tem = np.array( [g(state, ((k+shift)%d)/d) for k in range(d)] )\n",
    "    tem = tem[np.newaxis, np.newaxis, :, np.newaxis]\n",
    "    tem = np.repeat(tem, nt, axis=1)\n",
    "    tem = model.encoder.predict(tem, verbose=0)\n",
    "    return tem[0][0:p+q]"
   ]
  },
  {
   "cell_type": "markdown",
   "id": "afc0d3bb-3a8f-4cee-bad2-13ad49fa2d5f",
   "metadata": {
    "jp-MarkdownHeadingCollapsed": true,
    "tags": []
   },
   "source": [
    "### Set endpoints"
   ]
  },
  {
   "cell_type": "code",
   "execution_count": null,
   "id": "7b42bbca-f3de-4957-a8ed-65efb3e5992c",
   "metadata": {},
   "outputs": [],
   "source": [
    "state = -1\n",
    "shift1 = 0\n",
    "shift2 = 30"
   ]
  },
  {
   "cell_type": "code",
   "execution_count": null,
   "id": "e6ae32fe-abe6-4b94-9207-5ec15f105184",
   "metadata": {},
   "outputs": [],
   "source": [
    "def g(n,x):\n",
    "    if n==-1:\n",
    "        return int(x<0.5)\n",
    "    return np.exp(-math.sqrt(n+1)*(x-0.5)**2)"
   ]
  },
  {
   "cell_type": "markdown",
   "id": "802db79a-98f8-4d44-a35f-1a645536ea1a",
   "metadata": {
    "tags": []
   },
   "source": [
    "### Linear"
   ]
  },
  {
   "cell_type": "code",
   "execution_count": null,
   "id": "7d28ac42-db74-43f4-a467-b7ea66bc2f9a",
   "metadata": {},
   "outputs": [],
   "source": [
    "interpolation_number = L = 10\n",
    "interpolation = np.empty((L,d))\n",
    "for i, alpha in enumerate(range(L)):\n",
    "    alpha = alpha / L\n",
    "    code1 = enc(state, shift1)\n",
    "    code2 = enc(state, shift2)\n",
    "    code = alpha*code1 + (1-alpha)*code2\n",
    "    interpolation[i:i+1,:] = dec(code).T\n",
    "fig = plt.figure(figsize=(10,6))\n",
    "for i, alpha in enumerate(range(L)):\n",
    "    alpha = alpha / L\n",
    "    plt.plot(range(d),interpolation[i,:], color=(alpha,0,1-alpha))\n",
    "plt.grid()"
   ]
  },
  {
   "cell_type": "markdown",
   "id": "2f7e0953-26a7-47fe-8f26-7e6fe4571820",
   "metadata": {},
   "source": [
    "### Cubic Spline"
   ]
  },
  {
   "cell_type": "code",
   "execution_count": null,
   "id": "a3cc8629-baa6-466a-9990-cd0a4c9fe31e",
   "metadata": {},
   "outputs": [],
   "source": [
    "class spline():\n",
    "    def __init__(self, state):\n",
    "        self.state = state\n",
    "        self.x = np.arange(0, d, 1)\n",
    "        self.y = np.empty((q, len(self.x)))\n",
    "        self.tck = []\n",
    "        self.center = enc(state, 0)[0:p]\n",
    "        for j in trange(len(self.x)):\n",
    "            l = self.x[j]\n",
    "            latent_code = enc(state, l)\n",
    "            for i in range(q):\n",
    "                self.y[i,j] = latent_code[p+i]\n",
    "        for i in range(q):\n",
    "            self.tck.append(interpolate.splrep(self.x, self.y[i,:], per=True))\n",
    "    def call(self, shift):\n",
    "        return np.array([interpolate.splev(shift, self.tck[i], der=0) for i in range(q)])\n",
    "    def call_batch(self, shifts):\n",
    "        return np.array([[interpolate.splev(shift, self.tck[i], der=0) for i in range(q)] for shift in shifts])\n",
    "    def decode(self, shift):\n",
    "        return dec(np.hstack([self.center, self.call(shift)]))\n",
    "    def decode_batch(self, shifts):\n",
    "        return np.array([self.decode(shift) for shift in tqdm(shifts)])"
   ]
  },
  {
   "cell_type": "code",
   "execution_count": null,
   "id": "6f9b6c3c-b728-41b1-bb0f-5854e6c0d8b0",
   "metadata": {},
   "outputs": [],
   "source": [
    "spline_obj = spline(state)"
   ]
  },
  {
   "cell_type": "code",
   "execution_count": null,
   "id": "35ba1175-5715-4bb2-843e-1a3594e34684",
   "metadata": {},
   "outputs": [],
   "source": [
    "spline_obj.decode_batch([5,6]).shape"
   ]
  },
  {
   "cell_type": "code",
   "execution_count": null,
   "id": "16f7dbd7-0a7b-4083-b7c8-b9dfa035ee92",
   "metadata": {},
   "outputs": [],
   "source": [
    "plt.plot(range(d), spline_obj.decode(5))"
   ]
  },
  {
   "cell_type": "markdown",
   "id": "ad25efec-66a2-46e8-ab17-b9783c6ac220",
   "metadata": {
    "tags": []
   },
   "source": [
    "### By hand"
   ]
  },
  {
   "cell_type": "code",
   "execution_count": null,
   "id": "044d6216-d73d-494e-94c0-1043a93dbb4c",
   "metadata": {},
   "outputs": [],
   "source": [
    "code1 = enc(state, shift1)\n",
    "code2 = enc(state, shift2)\n",
    "code = 0.5*code1 + 0.5*code2 + 1.0\n",
    "interpolation = dec(code)\n",
    "fig = plt.figure(figsize=(10,6))\n",
    "plt.plot(range(d), [g(state, ((k+shift1)%d)/d) for k in range(d)], color=(1,0,0))\n",
    "plt.plot(range(d), [g(state, ((k+shift2)%d)/d) for k in range(d)], color=(0,0,1))\n",
    "plt.plot(range(d),interpolation, color=(1,0,1))\n",
    "plt.grid()"
   ]
  },
  {
   "cell_type": "markdown",
   "id": "d8caf59d-76f5-4338-89bc-60fcfc29152d",
   "metadata": {},
   "source": [
    "### PCA"
   ]
  },
  {
   "cell_type": "code",
   "execution_count": null,
   "id": "bb85891b-e64e-4d60-a9ea-52e226ba281a",
   "metadata": {},
   "outputs": [],
   "source": [
    "pca = PCA(2)\n",
    "Ns = np.empty((100,q))\n",
    "for i in trange(100):\n",
    "    shift = i\n",
    "    Ns[i,:] = enc(state, shift)[p:p+q]"
   ]
  },
  {
   "cell_type": "code",
   "execution_count": null,
   "id": "a1018ba4-bcfc-4418-bdd9-b521febc4290",
   "metadata": {},
   "outputs": [],
   "source": [
    "pca_N = pca.fit_transform(Ns)\n",
    "pca_N1 = pca.transform(code1[np.newaxis, p:p+q])\n",
    "pca_N2 = pca.transform(code2[np.newaxis, p:p+q])\n",
    "pca_N_hand = pca.transform(code[np.newaxis, p:p+q])\n",
    "pca_N_spline = pca.transform(spline_obj.call_batch(np.arange(0,100,0.1)))"
   ]
  },
  {
   "cell_type": "code",
   "execution_count": null,
   "id": "c4fa7a97-22db-4fe3-9acb-7fc8638dd18f",
   "metadata": {},
   "outputs": [],
   "source": [
    "data0 = go.Scatter(x=pca_N[:,0], y=pca_N[:,1], mode='markers', name='dataset')\n",
    "data1 = go.Scatter(x=pca_N1[:,0], y=pca_N1[:,1], mode='markers', marker=dict(color='rgb(255, 0, 0)'), name='endpoint1')\n",
    "data2 = go.Scatter(x=pca_N2[:,0], y=pca_N2[:,1], mode='markers', marker=dict(color='rgb(255, 0, 0)'), name='endpoint2')\n",
    "data_line = go.Scatter(x=[pca_N1[0,0],pca_N2[0,0]], y=[pca_N1[0,1],pca_N2[0,1]], marker=dict(color='rgb(255, 200, 0)'), name='line')\n",
    "data_hand = go.Scatter(x=pca_N_hand[:,0], y=pca_N_hand[:,1], mode='markers', marker=dict(color='rgb(150, 255, 150)'), name='hand')\n",
    "data_spline = go.Scatter(x=pca_N_spline[:,0], y=pca_N_spline[:,1], marker=dict(color='rgb(200, 50, 200)'), name='spline')\n",
    "fig = go.Figure(data=[data0,data_line,data1,data2,data_hand,data_spline])\n",
    "fig.update_layout(height=600)\n",
    "fig.show()"
   ]
  },
  {
   "cell_type": "code",
   "execution_count": null,
   "id": "edcf3f97-ea36-497b-892e-7edbe3cfb421",
   "metadata": {},
   "outputs": [],
   "source": []
  },
  {
   "cell_type": "code",
   "execution_count": null,
   "id": "0c5831b3-f3f1-4336-81f4-90e2fd25c127",
   "metadata": {},
   "outputs": [],
   "source": []
  },
  {
   "cell_type": "code",
   "execution_count": null,
   "id": "8c6299ce-b587-4029-a5be-8067d357d794",
   "metadata": {},
   "outputs": [],
   "source": [
    "pca = PCA(n_components=3)\n",
    "MRA_pca = MRA_generate(d,nt,1000,sigma,ne,g,replace=1)\n",
    "MRA_pca.generate_default()\n",
    "Cs,Ns = latent(model,MRA_pca)"
   ]
  },
  {
   "cell_type": "code",
   "execution_count": null,
   "id": "22ce11ac-2fa1-4ff3-88d0-52d3e8bdbcba",
   "metadata": {},
   "outputs": [],
   "source": [
    "pca.fit(Cs)\n",
    "pca_C = pca.fit_transform(Cs)\n",
    "df = pd.DataFrame(pca_C, columns = ['1st','2nd','3rd'])\n",
    "tem = pd.DataFrame(MRA_pca.states,columns=['state']).astype('object')\n",
    "df = pd.concat([df,tem],axis=1)\n",
    "fig = px.scatter_3d(df, x='1st', y='2nd', z='3rd', color='state')\n",
    "fig.show()"
   ]
  },
  {
   "cell_type": "code",
   "execution_count": null,
   "id": "e73668d8-3263-4e16-ae6d-a90db5374be2",
   "metadata": {},
   "outputs": [],
   "source": [
    "state = 0\n",
    "N_reshaped = Ns[MRA_pca.states==state,:].reshape(-1,q) \n",
    "N_shifts = MRA_pca.shifts[MRA_pca.states==state,:].reshape(-1,1)\n",
    "pca = PCA(n_components=3)\n",
    "pca.fit(N_reshaped)\n",
    "pca_N = pca.fit_transform(N_reshaped)\n",
    "df = pd.DataFrame(pca_N, columns = ['1st','2nd','3rd'])\n",
    "tem = pd.DataFrame(N_shifts,columns=['shift'])\n",
    "df = pd.concat([df,tem],axis=1)\n",
    "fig = px.scatter_3d(df, x='1st', y='2nd', z='3rd', color='shift')\n",
    "fig.show()"
   ]
  },
  {
   "cell_type": "markdown",
   "id": "fca22726-544a-4085-809b-e437d0077a4c",
   "metadata": {},
   "source": [
    "p-space is another name of the latent coherent space"
   ]
  },
  {
   "cell_type": "code",
   "execution_count": null,
   "id": "17db248c-9543-4c19-b522-baa4564c9ad7",
   "metadata": {},
   "outputs": [],
   "source": [
    "pca_C = pca.fit_transform(Cs)\n",
    "center = np.empty((ne,2))\n",
    "fig = plt.figure(figsize=(5,4),dpi=100)\n",
    "for i in range(ne):\n",
    "    center[i,:] = sum(pca_C[MRA_pca.states==i,:])/sum(MRA_pca.states==i)\n",
    "    plt.text(center[i,0],center[i,1],\"state=%d\"%i,fontsize=15)\n",
    "for i in trange(1000):\n",
    "    plt.scatter(pca_C[i,0],pca_C[i,1],color='C%d'%(MRA_pca.states[i]))\n",
    "plt.title('PCA of p-space',fontsize=15)\n",
    "plt.tick_params(labelsize=15)\n",
    "plt.tight_layout()"
   ]
  },
  {
   "cell_type": "code",
   "execution_count": null,
   "id": "f1364c68-422d-4fe1-8a12-fda6fec4da4c",
   "metadata": {},
   "outputs": [],
   "source": []
  },
  {
   "cell_type": "code",
   "execution_count": null,
   "id": "e5538bf4-4bda-4b69-ac35-80e3ba493ff8",
   "metadata": {},
   "outputs": [],
   "source": []
  }
 ],
 "metadata": {
  "kernelspec": {
   "display_name": "Python 3 (ipykernel)",
   "language": "python",
   "name": "python3"
  },
  "language_info": {
   "codemirror_mode": {
    "name": "ipython",
    "version": 3
   },
   "file_extension": ".py",
   "mimetype": "text/x-python",
   "name": "python",
   "nbconvert_exporter": "python",
   "pygments_lexer": "ipython3",
   "version": "3.9.12"
  }
 },
 "nbformat": 4,
 "nbformat_minor": 5
}
