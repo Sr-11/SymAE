{
 "cells": [
  {
   "cell_type": "code",
   "execution_count": 1,
   "id": "7ec303d6-c580-4b51-8068-336500ad4988",
   "metadata": {
    "tags": []
   },
   "outputs": [
    {
     "data": {
      "image/png": "[encoded data removed]",
      "text/plain": [
       "<Figure size 5040x72 with 70 Axes>"
      ]
     },
     "metadata": {
      "needs_background": "light"
     },
     "output_type": "display_data"
    }
   ],
   "source": [
    "import os\n",
    "os.environ[\"CUDA_VISIBLE_DEVICES\"]=\"3\"\n",
    "import numpy as np\n",
    "import tensorflow as tf\n",
    "import matplotlib.pyplot as plt\n",
    "from IPython.display import clear_output\n",
    "import pandas as pd\n",
    "import math\n",
    "from sklearn.decomposition import PCA\n",
    "import plotly.express as px\n",
    "from MRA_generate import MRA_generate\n",
    "from symae_model import SymAE\n",
    "from parameters import *\n",
    "from latent import latent\n",
    "from redatuming import redatuming\n",
    "from plot_redatuming import plot_redatuming\n",
    "def f(n,x):\n",
    "    if n==0:\n",
    "        return math.e**(-5*(x-0.5)**2)\n",
    "    elif n==1:\n",
    "        return math.e**(-15*(x-0.5)**2)\n",
    "    elif n==2:\n",
    "        if x<0.3:\n",
    "            return 3*x\n",
    "        elif x<0.6:\n",
    "            return 3*(0.6-x)\n",
    "        else:\n",
    "            return 0\n",
    "    elif n==3:\n",
    "        return int(x<0.5)\n",
    "    elif n==4:\n",
    "        return int(x<0.1)\n",
    "    elif n==5:\n",
    "        return math.cos(2*math.pi*x)\n",
    "    elif n==6:\n",
    "        return math.e**(-9*x**2)\n",
    "    else:\n",
    "        return np.inf\n",
    "def g(n,x):\n",
    "    s = n//10\n",
    "    a = (n%10)/10\n",
    "    if s<=5:\n",
    "        return (1-a)*f(s,x)+a*f(s+1,x)\n",
    "    if s==6:\n",
    "        return (1-a)*f(4,x)+a*f(0,x)\n",
    "def g(n,x):\n",
    "    if n==1:\n",
    "        return int(x<0.5)\n",
    "    elif n==2:\n",
    "        return math.e**(-9*(x)**2)\n",
    "    elif n==0:\n",
    "        return math.cos(2*math.pi*x)\n",
    "fig, axs = plt.subplots(1, ne, sharex=True, sharey=True, figsize=(ne,1))\n",
    "for i in range(ne):\n",
    "    axs[i].plot(range(d), [g(i,x/d) for x in range(d)])\n",
    "plt.suptitle('Show the shape of all $n_\\epsilon$ = %d states'%ne)\n",
    "MRA_training = MRA_generate(d,nt,N,sigma,ne,g,replace=0)\n",
    "pca_cb = PCA(n_components=2)\n",
    "MRA_pca = MRA_generate(d,nt,1000,sigma,ne,g,replace=0)\n",
    "MRA_training.generate_default()\n",
    "MRA_pca.generate_default()\n",
    "X = MRA_training.X\n",
    "clear_output()\n",
    "N_shifts = MRA_pca.shifts.reshape(-1,1)\n",
    "N_states = np.repeat(MRA_pca.states,nt)"
   ]
  },
  {
   "cell_type": "code",
   "execution_count": 2,
   "id": "dcf70677-2523-4616-a455-d15788a777b1",
   "metadata": {
    "tags": []
   },
   "outputs": [],
   "source": [
    "image_list = []\n",
    "class CustomCallback(tf.keras.callbacks.Callback):\n",
    "    def on_epoch_end(self, epoch, logs=None):\n",
    "        print(\"For epoch {:d}, loss is {:f}.\".format(epoch, logs[\"loss\"]))\n",
    "        if epoch % 10 == 0:\n",
    "            clear_output(wait = True)\n",
    "            _,Ns = latent(model,MRA_pca)\n",
    "            N_reshaped = Ns.reshape(-1,q)\n",
    "            pca_N = pca_cb.fit_transform(N_reshaped)\n",
    "            df = pd.DataFrame(pca_N, columns = ['1st','2nd'])\n",
    "            df_states = pd.DataFrame(N_states,columns=['state']).astype('object') \n",
    "            df_shifts = pd.DataFrame(N_shifts,columns=['shift'])\n",
    "            df = pd.concat([df,df_states,df_shifts],axis=1)\n",
    "            fig = px.scatter(df, x='1st', y='2nd', color='state', text='shift', title='q=%d,loss=%f'%(q,logs[\"loss\"]))\n",
    "            fig.update_layout(height=400)\n",
    "            fig.show()\n",
    "clear_output()\n",
    "fig.show()"
   ]
  },
  {
   "cell_type": "code",
   "execution_count": null,
   "id": "ddb4fec9-7efd-47e7-b36a-61b3c8e5f39a",
   "metadata": {
    "tags": []
   },
   "outputs": [],
   "source": []
  },
  {
   "cell_type": "code",
   "execution_count": 3,
   "id": "3ac16f41-e627-417a-8462-5b7885091eb7",
   "metadata": {},
   "outputs": [],
   "source": [
    "model = SymAE(N,nt,d,p,q,kernel_size,filters,dropout_rate)\n",
    "#model.load_weights('../checkpoint/'+'p=10,q=20')\n",
    "#model.load_weights('./checkpoint/'+'p=3,q=40,ber,ne=2')\n",
    "clear_output()"
   ]
  },
  {
   "cell_type": "code",
   "execution_count": 4,
   "id": "f9dfdcd3-3641-443b-9216-87388841429e",
   "metadata": {},
   "outputs": [],
   "source": [
    "#model.latentcat.drop.stddev = 2\n",
    "model.latentcat.drop.rate = 0.5"
   ]
  },
  {
   "cell_type": "code",
   "execution_count": 5,
   "id": "1991b70c-6ae9-43c2-bc41-7251055642b5",
   "metadata": {},
   "outputs": [
    {
     "ename": "ValueError",
     "evalue": "Input X contains NaN.\nPCA does not accept missing values encoded as NaN natively. For supervised learning, you might want to consider sklearn.ensemble.HistGradientBoostingClassifier and Regressor which accept missing values encoded as NaNs natively. Alternatively, it is possible to preprocess the data, for instance by using an imputer transformer in a pipeline or drop samples with missing values. See https://scikit-learn.org/stable/modules/impute.html You can find a list of all estimators that handle NaN values at the following page: https://scikit-learn.org/stable/modules/impute.html#estimators-that-handle-nan-values",
     "output_type": "error",
     "traceback": [
      "\u001b[0;31m---------------------------------------------------------------------------\u001b[0m",
      "\u001b[0;31mValueError\u001b[0m                                Traceback (most recent call last)",
      "Input \u001b[0;32mIn [5]\u001b[0m, in \u001b[0;36m<cell line: 4>\u001b[0;34m()\u001b[0m\n\u001b[1;32m      2\u001b[0m SGD \u001b[38;5;241m=\u001b[39m tf\u001b[38;5;241m.\u001b[39mkeras\u001b[38;5;241m.\u001b[39moptimizers\u001b[38;5;241m.\u001b[39mSGD(learning_rate\u001b[38;5;241m=\u001b[39m\u001b[38;5;241m0.01\u001b[39m,momentum\u001b[38;5;241m=\u001b[39m\u001b[38;5;241m0.0\u001b[39m,nesterov\u001b[38;5;241m=\u001b[39m\u001b[38;5;28;01mFalse\u001b[39;00m)\n\u001b[1;32m      3\u001b[0m model\u001b[38;5;241m.\u001b[39mcompile(loss\u001b[38;5;241m=\u001b[39m\u001b[38;5;124m'\u001b[39m\u001b[38;5;124mmse\u001b[39m\u001b[38;5;124m'\u001b[39m,optimizer\u001b[38;5;241m=\u001b[39mAdam)\n\u001b[0;32m----> 4\u001b[0m history \u001b[38;5;241m=\u001b[39m \u001b[43mmodel\u001b[49m\u001b[38;5;241;43m.\u001b[39;49m\u001b[43mfit\u001b[49m\u001b[43m(\u001b[49m\u001b[43mX\u001b[49m\u001b[43m,\u001b[49m\u001b[43mX\u001b[49m\u001b[43m,\u001b[49m\u001b[43mepochs\u001b[49m\u001b[38;5;241;43m=\u001b[39;49m\u001b[38;5;241;43m100000\u001b[39;49m\u001b[43m,\u001b[49m\u001b[43mverbose\u001b[49m\u001b[38;5;241;43m=\u001b[39;49m\u001b[38;5;241;43m0\u001b[39;49m\u001b[43m,\u001b[49m\u001b[43mcallbacks\u001b[49m\u001b[38;5;241;43m=\u001b[39;49m\u001b[43m[\u001b[49m\u001b[43mCustomCallback\u001b[49m\u001b[43m(\u001b[49m\u001b[43m)\u001b[49m\u001b[43m]\u001b[49m\u001b[43m)\u001b[49m\n",
      "File \u001b[0;32m~/software/anaconda/envs/MRA/lib/python3.9/site-packages/keras/utils/traceback_utils.py:67\u001b[0m, in \u001b[0;36mfilter_traceback.<locals>.error_handler\u001b[0;34m(*args, **kwargs)\u001b[0m\n\u001b[1;32m     65\u001b[0m \u001b[38;5;28;01mexcept\u001b[39;00m \u001b[38;5;167;01mException\u001b[39;00m \u001b[38;5;28;01mas\u001b[39;00m e:  \u001b[38;5;66;03m# pylint: disable=broad-except\u001b[39;00m\n\u001b[1;32m     66\u001b[0m   filtered_tb \u001b[38;5;241m=\u001b[39m _process_traceback_frames(e\u001b[38;5;241m.\u001b[39m__traceback__)\n\u001b[0;32m---> 67\u001b[0m   \u001b[38;5;28;01mraise\u001b[39;00m e\u001b[38;5;241m.\u001b[39mwith_traceback(filtered_tb) \u001b[38;5;28;01mfrom\u001b[39;00m \u001b[38;5;28mNone\u001b[39m\n\u001b[1;32m     68\u001b[0m \u001b[38;5;28;01mfinally\u001b[39;00m:\n\u001b[1;32m     69\u001b[0m   \u001b[38;5;28;01mdel\u001b[39;00m filtered_tb\n",
      "Input \u001b[0;32mIn [2]\u001b[0m, in \u001b[0;36mCustomCallback.on_epoch_end\u001b[0;34m(self, epoch, logs)\u001b[0m\n\u001b[1;32m      7\u001b[0m _,Ns \u001b[38;5;241m=\u001b[39m latent(model,MRA_pca)\n\u001b[1;32m      8\u001b[0m N_reshaped \u001b[38;5;241m=\u001b[39m Ns\u001b[38;5;241m.\u001b[39mreshape(\u001b[38;5;241m-\u001b[39m\u001b[38;5;241m1\u001b[39m,q)\n\u001b[0;32m----> 9\u001b[0m pca_N \u001b[38;5;241m=\u001b[39m \u001b[43mpca_cb\u001b[49m\u001b[38;5;241;43m.\u001b[39;49m\u001b[43mfit_transform\u001b[49m\u001b[43m(\u001b[49m\u001b[43mN_reshaped\u001b[49m\u001b[43m)\u001b[49m\n\u001b[1;32m     10\u001b[0m df \u001b[38;5;241m=\u001b[39m pd\u001b[38;5;241m.\u001b[39mDataFrame(pca_N, columns \u001b[38;5;241m=\u001b[39m [\u001b[38;5;124m'\u001b[39m\u001b[38;5;124m1st\u001b[39m\u001b[38;5;124m'\u001b[39m,\u001b[38;5;124m'\u001b[39m\u001b[38;5;124m2nd\u001b[39m\u001b[38;5;124m'\u001b[39m])\n\u001b[1;32m     11\u001b[0m df_states \u001b[38;5;241m=\u001b[39m pd\u001b[38;5;241m.\u001b[39mDataFrame(N_states,columns\u001b[38;5;241m=\u001b[39m[\u001b[38;5;124m'\u001b[39m\u001b[38;5;124mstate\u001b[39m\u001b[38;5;124m'\u001b[39m])\u001b[38;5;241m.\u001b[39mastype(\u001b[38;5;124m'\u001b[39m\u001b[38;5;124mobject\u001b[39m\u001b[38;5;124m'\u001b[39m) \n",
      "File \u001b[0;32m~/software/anaconda/envs/MRA/lib/python3.9/site-packages/sklearn/decomposition/_pca.py:433\u001b[0m, in \u001b[0;36mPCA.fit_transform\u001b[0;34m(self, X, y)\u001b[0m\n\u001b[1;32m    411\u001b[0m \u001b[38;5;28;01mdef\u001b[39;00m \u001b[38;5;21mfit_transform\u001b[39m(\u001b[38;5;28mself\u001b[39m, X, y\u001b[38;5;241m=\u001b[39m\u001b[38;5;28;01mNone\u001b[39;00m):\n\u001b[1;32m    412\u001b[0m     \u001b[38;5;124;03m\"\"\"Fit the model with X and apply the dimensionality reduction on X.\u001b[39;00m\n\u001b[1;32m    413\u001b[0m \n\u001b[1;32m    414\u001b[0m \u001b[38;5;124;03m    Parameters\u001b[39;00m\n\u001b[0;32m   (...)\u001b[0m\n\u001b[1;32m    431\u001b[0m \u001b[38;5;124;03m    C-ordered array, use 'np.ascontiguousarray'.\u001b[39;00m\n\u001b[1;32m    432\u001b[0m \u001b[38;5;124;03m    \"\"\"\u001b[39;00m\n\u001b[0;32m--> 433\u001b[0m     U, S, Vt \u001b[38;5;241m=\u001b[39m \u001b[38;5;28;43mself\u001b[39;49m\u001b[38;5;241;43m.\u001b[39;49m\u001b[43m_fit\u001b[49m\u001b[43m(\u001b[49m\u001b[43mX\u001b[49m\u001b[43m)\u001b[49m\n\u001b[1;32m    434\u001b[0m     U \u001b[38;5;241m=\u001b[39m U[:, : \u001b[38;5;28mself\u001b[39m\u001b[38;5;241m.\u001b[39mn_components_]\n\u001b[1;32m    436\u001b[0m     \u001b[38;5;28;01mif\u001b[39;00m \u001b[38;5;28mself\u001b[39m\u001b[38;5;241m.\u001b[39mwhiten:\n\u001b[1;32m    437\u001b[0m         \u001b[38;5;66;03m# X_new = X * V / S * sqrt(n_samples) = U * sqrt(n_samples)\u001b[39;00m\n",
      "File \u001b[0;32m~/software/anaconda/envs/MRA/lib/python3.9/site-packages/sklearn/decomposition/_pca.py:456\u001b[0m, in \u001b[0;36mPCA._fit\u001b[0;34m(self, X)\u001b[0m\n\u001b[1;32m    450\u001b[0m \u001b[38;5;28;01mif\u001b[39;00m issparse(X):\n\u001b[1;32m    451\u001b[0m     \u001b[38;5;28;01mraise\u001b[39;00m \u001b[38;5;167;01mTypeError\u001b[39;00m(\n\u001b[1;32m    452\u001b[0m         \u001b[38;5;124m\"\u001b[39m\u001b[38;5;124mPCA does not support sparse input. See \u001b[39m\u001b[38;5;124m\"\u001b[39m\n\u001b[1;32m    453\u001b[0m         \u001b[38;5;124m\"\u001b[39m\u001b[38;5;124mTruncatedSVD for a possible alternative.\u001b[39m\u001b[38;5;124m\"\u001b[39m\n\u001b[1;32m    454\u001b[0m     )\n\u001b[0;32m--> 456\u001b[0m X \u001b[38;5;241m=\u001b[39m \u001b[38;5;28;43mself\u001b[39;49m\u001b[38;5;241;43m.\u001b[39;49m\u001b[43m_validate_data\u001b[49m\u001b[43m(\u001b[49m\n\u001b[1;32m    457\u001b[0m \u001b[43m    \u001b[49m\u001b[43mX\u001b[49m\u001b[43m,\u001b[49m\u001b[43m \u001b[49m\u001b[43mdtype\u001b[49m\u001b[38;5;241;43m=\u001b[39;49m\u001b[43m[\u001b[49m\u001b[43mnp\u001b[49m\u001b[38;5;241;43m.\u001b[39;49m\u001b[43mfloat64\u001b[49m\u001b[43m,\u001b[49m\u001b[43m \u001b[49m\u001b[43mnp\u001b[49m\u001b[38;5;241;43m.\u001b[39;49m\u001b[43mfloat32\u001b[49m\u001b[43m]\u001b[49m\u001b[43m,\u001b[49m\u001b[43m \u001b[49m\u001b[43mensure_2d\u001b[49m\u001b[38;5;241;43m=\u001b[39;49m\u001b[38;5;28;43;01mTrue\u001b[39;49;00m\u001b[43m,\u001b[49m\u001b[43m \u001b[49m\u001b[43mcopy\u001b[49m\u001b[38;5;241;43m=\u001b[39;49m\u001b[38;5;28;43mself\u001b[39;49m\u001b[38;5;241;43m.\u001b[39;49m\u001b[43mcopy\u001b[49m\n\u001b[1;32m    458\u001b[0m \u001b[43m\u001b[49m\u001b[43m)\u001b[49m\n\u001b[1;32m    460\u001b[0m \u001b[38;5;66;03m# Handle n_components==None\u001b[39;00m\n\u001b[1;32m    461\u001b[0m \u001b[38;5;28;01mif\u001b[39;00m \u001b[38;5;28mself\u001b[39m\u001b[38;5;241m.\u001b[39mn_components \u001b[38;5;129;01mis\u001b[39;00m \u001b[38;5;28;01mNone\u001b[39;00m:\n",
      "File \u001b[0;32m~/software/anaconda/envs/MRA/lib/python3.9/site-packages/sklearn/base.py:577\u001b[0m, in \u001b[0;36mBaseEstimator._validate_data\u001b[0;34m(self, X, y, reset, validate_separately, **check_params)\u001b[0m\n\u001b[1;32m    575\u001b[0m     \u001b[38;5;28;01mraise\u001b[39;00m \u001b[38;5;167;01mValueError\u001b[39;00m(\u001b[38;5;124m\"\u001b[39m\u001b[38;5;124mValidation should be done on X, y or both.\u001b[39m\u001b[38;5;124m\"\u001b[39m)\n\u001b[1;32m    576\u001b[0m \u001b[38;5;28;01melif\u001b[39;00m \u001b[38;5;129;01mnot\u001b[39;00m no_val_X \u001b[38;5;129;01mand\u001b[39;00m no_val_y:\n\u001b[0;32m--> 577\u001b[0m     X \u001b[38;5;241m=\u001b[39m \u001b[43mcheck_array\u001b[49m\u001b[43m(\u001b[49m\u001b[43mX\u001b[49m\u001b[43m,\u001b[49m\u001b[43m \u001b[49m\u001b[43minput_name\u001b[49m\u001b[38;5;241;43m=\u001b[39;49m\u001b[38;5;124;43m\"\u001b[39;49m\u001b[38;5;124;43mX\u001b[39;49m\u001b[38;5;124;43m\"\u001b[39;49m\u001b[43m,\u001b[49m\u001b[43m \u001b[49m\u001b[38;5;241;43m*\u001b[39;49m\u001b[38;5;241;43m*\u001b[39;49m\u001b[43mcheck_params\u001b[49m\u001b[43m)\u001b[49m\n\u001b[1;32m    578\u001b[0m     out \u001b[38;5;241m=\u001b[39m X\n\u001b[1;32m    579\u001b[0m \u001b[38;5;28;01melif\u001b[39;00m no_val_X \u001b[38;5;129;01mand\u001b[39;00m \u001b[38;5;129;01mnot\u001b[39;00m no_val_y:\n",
      "File \u001b[0;32m~/software/anaconda/envs/MRA/lib/python3.9/site-packages/sklearn/utils/validation.py:899\u001b[0m, in \u001b[0;36mcheck_array\u001b[0;34m(array, accept_sparse, accept_large_sparse, dtype, order, copy, force_all_finite, ensure_2d, allow_nd, ensure_min_samples, ensure_min_features, estimator, input_name)\u001b[0m\n\u001b[1;32m    893\u001b[0m         \u001b[38;5;28;01mraise\u001b[39;00m \u001b[38;5;167;01mValueError\u001b[39;00m(\n\u001b[1;32m    894\u001b[0m             \u001b[38;5;124m\"\u001b[39m\u001b[38;5;124mFound array with dim \u001b[39m\u001b[38;5;132;01m%d\u001b[39;00m\u001b[38;5;124m. \u001b[39m\u001b[38;5;132;01m%s\u001b[39;00m\u001b[38;5;124m expected <= 2.\u001b[39m\u001b[38;5;124m\"\u001b[39m\n\u001b[1;32m    895\u001b[0m             \u001b[38;5;241m%\u001b[39m (array\u001b[38;5;241m.\u001b[39mndim, estimator_name)\n\u001b[1;32m    896\u001b[0m         )\n\u001b[1;32m    898\u001b[0m     \u001b[38;5;28;01mif\u001b[39;00m force_all_finite:\n\u001b[0;32m--> 899\u001b[0m         \u001b[43m_assert_all_finite\u001b[49m\u001b[43m(\u001b[49m\n\u001b[1;32m    900\u001b[0m \u001b[43m            \u001b[49m\u001b[43marray\u001b[49m\u001b[43m,\u001b[49m\n\u001b[1;32m    901\u001b[0m \u001b[43m            \u001b[49m\u001b[43minput_name\u001b[49m\u001b[38;5;241;43m=\u001b[39;49m\u001b[43minput_name\u001b[49m\u001b[43m,\u001b[49m\n\u001b[1;32m    902\u001b[0m \u001b[43m            \u001b[49m\u001b[43mestimator_name\u001b[49m\u001b[38;5;241;43m=\u001b[39;49m\u001b[43mestimator_name\u001b[49m\u001b[43m,\u001b[49m\n\u001b[1;32m    903\u001b[0m \u001b[43m            \u001b[49m\u001b[43mallow_nan\u001b[49m\u001b[38;5;241;43m=\u001b[39;49m\u001b[43mforce_all_finite\u001b[49m\u001b[43m \u001b[49m\u001b[38;5;241;43m==\u001b[39;49m\u001b[43m \u001b[49m\u001b[38;5;124;43m\"\u001b[39;49m\u001b[38;5;124;43mallow-nan\u001b[39;49m\u001b[38;5;124;43m\"\u001b[39;49m\u001b[43m,\u001b[49m\n\u001b[1;32m    904\u001b[0m \u001b[43m        \u001b[49m\u001b[43m)\u001b[49m\n\u001b[1;32m    906\u001b[0m \u001b[38;5;28;01mif\u001b[39;00m ensure_min_samples \u001b[38;5;241m>\u001b[39m \u001b[38;5;241m0\u001b[39m:\n\u001b[1;32m    907\u001b[0m     n_samples \u001b[38;5;241m=\u001b[39m _num_samples(array)\n",
      "File \u001b[0;32m~/software/anaconda/envs/MRA/lib/python3.9/site-packages/sklearn/utils/validation.py:146\u001b[0m, in \u001b[0;36m_assert_all_finite\u001b[0;34m(X, allow_nan, msg_dtype, estimator_name, input_name)\u001b[0m\n\u001b[1;32m    124\u001b[0m         \u001b[38;5;28;01mif\u001b[39;00m (\n\u001b[1;32m    125\u001b[0m             \u001b[38;5;129;01mnot\u001b[39;00m allow_nan\n\u001b[1;32m    126\u001b[0m             \u001b[38;5;129;01mand\u001b[39;00m estimator_name\n\u001b[0;32m   (...)\u001b[0m\n\u001b[1;32m    130\u001b[0m             \u001b[38;5;66;03m# Improve the error message on how to handle missing values in\u001b[39;00m\n\u001b[1;32m    131\u001b[0m             \u001b[38;5;66;03m# scikit-learn.\u001b[39;00m\n\u001b[1;32m    132\u001b[0m             msg_err \u001b[38;5;241m+\u001b[39m\u001b[38;5;241m=\u001b[39m (\n\u001b[1;32m    133\u001b[0m                 \u001b[38;5;124mf\u001b[39m\u001b[38;5;124m\"\u001b[39m\u001b[38;5;130;01m\\n\u001b[39;00m\u001b[38;5;132;01m{\u001b[39;00mestimator_name\u001b[38;5;132;01m}\u001b[39;00m\u001b[38;5;124m does not accept missing values\u001b[39m\u001b[38;5;124m\"\u001b[39m\n\u001b[1;32m    134\u001b[0m                 \u001b[38;5;124m\"\u001b[39m\u001b[38;5;124m encoded as NaN natively. For supervised learning, you might want\u001b[39m\u001b[38;5;124m\"\u001b[39m\n\u001b[0;32m   (...)\u001b[0m\n\u001b[1;32m    144\u001b[0m                 \u001b[38;5;124m\"\u001b[39m\u001b[38;5;124m#estimators-that-handle-nan-values\u001b[39m\u001b[38;5;124m\"\u001b[39m\n\u001b[1;32m    145\u001b[0m             )\n\u001b[0;32m--> 146\u001b[0m         \u001b[38;5;28;01mraise\u001b[39;00m \u001b[38;5;167;01mValueError\u001b[39;00m(msg_err)\n\u001b[1;32m    148\u001b[0m \u001b[38;5;66;03m# for object dtype data, we only check for NaNs (GH-13254)\u001b[39;00m\n\u001b[1;32m    149\u001b[0m \u001b[38;5;28;01melif\u001b[39;00m X\u001b[38;5;241m.\u001b[39mdtype \u001b[38;5;241m==\u001b[39m np\u001b[38;5;241m.\u001b[39mdtype(\u001b[38;5;124m\"\u001b[39m\u001b[38;5;124mobject\u001b[39m\u001b[38;5;124m\"\u001b[39m) \u001b[38;5;129;01mand\u001b[39;00m \u001b[38;5;129;01mnot\u001b[39;00m allow_nan:\n",
      "\u001b[0;31mValueError\u001b[0m: Input X contains NaN.\nPCA does not accept missing values encoded as NaN natively. For supervised learning, you might want to consider sklearn.ensemble.HistGradientBoostingClassifier and Regressor which accept missing values encoded as NaNs natively. Alternatively, it is possible to preprocess the data, for instance by using an imputer transformer in a pipeline or drop samples with missing values. See https://scikit-learn.org/stable/modules/impute.html You can find a list of all estimators that handle NaN values at the following page: https://scikit-learn.org/stable/modules/impute.html#estimators-that-handle-nan-values"
     ]
    }
   ],
   "source": [
    "Adam = tf.keras.optimizers.Adam(learning_rate=0.01,beta_1=0.9,beta_2=0.999,epsilon=1e-07)\n",
    "SGD = tf.keras.optimizers.SGD(learning_rate=0.01,momentum=0.0,nesterov=False)\n",
    "model.compile(loss='mse',optimizer=Adam)\n",
    "history = model.fit(X,X,epochs=100000,verbose=0,callbacks=[CustomCallback()])"
   ]
  },
  {
   "cell_type": "code",
   "execution_count": null,
   "id": "b96e4718-a499-4624-9a8a-752408fcd9c3",
   "metadata": {},
   "outputs": [],
   "source": [
    "model.save_weights('./checkpoint/'+'p=3,q=20,ber,ne=3')"
   ]
  },
  {
   "cell_type": "code",
   "execution_count": null,
   "id": "c27ccad9-8d44-43d7-bdd6-1387973fbc53",
   "metadata": {},
   "outputs": [],
   "source": [
    "def find(state,nuisance):\n",
    "    MRA_data = MRA_generate(d,nt,1,sigma,ne,g,replace=1)\n",
    "    for i in range(100):\n",
    "        MRA_data.generate_default()\n",
    "        if MRA_data.states[0] != state:\n",
    "            continue\n",
    "        for j in range(nt):\n",
    "            if MRA_data.shifts[0][j] == nuisance:\n",
    "                return MRA_data, j\n",
    "MRA1, t1 = find(1,40)\n",
    "MRA2, t2 = find(0,84)\n",
    "redatum = redatuming(model,MRA1,MRA2,t1,t2)\n",
    "clear_output()\n",
    "fig = plot_redatuming(redatum)"
   ]
  },
  {
   "cell_type": "code",
   "execution_count": null,
   "id": "0fa6a69b-48b4-4378-a7b0-1fa1ad893767",
   "metadata": {},
   "outputs": [],
   "source": []
  },
  {
   "cell_type": "code",
   "execution_count": null,
   "id": "26f7673c-2fb7-49e1-b9b4-bdc3a6b6c487",
   "metadata": {},
   "outputs": [],
   "source": [
    "def dec(latent_code):\n",
    "    tem = latent_code[np.newaxis, np.newaxis, :]\n",
    "    tem = np.repeat(tem, nt, axis=1)\n",
    "    tem = model.mixer.predict(tem, verbose=0)\n",
    "    return tem[0,0,:,0]\n",
    "def enc(state, shift):\n",
    "    tem = np.array( [g(state, ((k+shift)%d)/d) for k in range(d)] )\n",
    "    tem = tem[np.newaxis, np.newaxis, :, np.newaxis]\n",
    "    tem = np.repeat(tem, nt, axis=1)\n",
    "    tem = model.encoder.predict(tem, verbose=0)\n",
    "    return tem[0][0:p+q]\n",
    "state_source = 0\n",
    "nuisance_source = 1\n",
    "fig, axs = plt.subplots(1, d, sharex=True, sharey=True, figsize=(4*d,4), dpi=40)\n",
    "for i in range(d):\n",
    "    coherent_code = enc(state_source, 0)[0: p]\n",
    "    nuisance_code = enc(nuisance_source, i)[p: p+q]\n",
    "    latent_code = np.concatenate([coherent_code, nuisance_code], axis=0)\n",
    "    axs[i].plot(range(d), dec(latent_code))\n",
    "    axs[i].set_title('%d'%i)\n",
    "plt.suptitle('$\\hat{X}_{s=%d \\mapsto s=%d}$'%(nuisance_source, state_source), fontsize=50)\n",
    "plt.subplots_adjust(top=0.6)\n",
    "plt.show()\n",
    "#fig.savefig('./plots/%dto%d'%(nuisance_source, state_source))"
   ]
  },
  {
   "cell_type": "code",
   "execution_count": null,
   "id": "51f12b72-3b57-449f-834c-b0270e170a7a",
   "metadata": {},
   "outputs": [],
   "source": [
    "dim = 2\n",
    "pca = PCA(n_components=dim)\n",
    "MRA_pca = MRA_generate(d,nt,1000,sigma,ne,g,replace=1)\n",
    "MRA_pca.generate_default()\n",
    "Cs,Ns = latent(model,MRA_pca)\n",
    "N_reshaped = Ns.reshape(-1,q)\n",
    "N_shifts = MRA_pca.shifts.reshape(-1,1)\n",
    "if dim == 3:\n",
    "    pca_N = N_reshaped\n",
    "    df = pd.DataFrame(pca_N, columns = ['1st','2nd','3rd'][0:dim])\n",
    "    df_states = pd.DataFrame(np.repeat(MRA_pca.states,nt),columns=['state']).astype('object')\n",
    "    df_shifts = pd.DataFrame(N_shifts,columns=['shift'])\n",
    "    df = pd.concat([df,df_states,df_shifts],axis=1)\n",
    "   \n",
    "    fig = px.scatter_3d(df, x='1st', y='2nd', z='3rd', color='state', text='shift')\n",
    "if dim ==2:\n",
    "    pca_N = pca.fit_transform(N_reshaped)\n",
    "    df = pd.DataFrame(pca_N, columns = ['1st','2nd','3rd'][0:dim])\n",
    "    df_states = pd.DataFrame(np.repeat(MRA_pca.states,nt),columns=['state']).astype('object')\n",
    "    df_shifts = pd.DataFrame(N_shifts,columns=['shift'])\n",
    "    df = pd.concat([df,df_states,df_shifts],axis=1)\n",
    "    #df = df[df['state']==0]\n",
    "    df = df[0:1000]\n",
    "    fig = px.scatter(df, x='1st', y='2nd', color='state', text='shift')\n",
    "    fig.update_layout(height=600, margin=dict(l=0, r=0, t=0, b=0))\n",
    "fig.show()"
   ]
  },
  {
   "cell_type": "code",
   "execution_count": null,
   "id": "1d5e51f5-6bdb-4364-8219-dd34eabd7604",
   "metadata": {},
   "outputs": [],
   "source": []
  },
  {
   "cell_type": "code",
   "execution_count": null,
   "id": "d6a8bdbc-5d49-44ca-b545-25fa068deb40",
   "metadata": {},
   "outputs": [],
   "source": []
  },
  {
   "cell_type": "code",
   "execution_count": null,
   "id": "71069e94-18c3-47a4-b828-93788822ba70",
   "metadata": {},
   "outputs": [],
   "source": []
  },
  {
   "cell_type": "code",
   "execution_count": null,
   "id": "e8637fbe-3ad8-4bd6-8772-b20005e90bad",
   "metadata": {},
   "outputs": [],
   "source": []
  }
 ],
 "metadata": {
  "kernelspec": {
   "display_name": "Python 3 (ipykernel)",
   "language": "python",
   "name": "python3"
  },
  "language_info": {
   "codemirror_mode": {
    "name": "ipython",
    "version": 3
   },
   "file_extension": ".py",
   "mimetype": "text/x-python",
   "name": "python",
   "nbconvert_exporter": "python",
   "pygments_lexer": "ipython3",
   "version": "3.9.12"
  }
 },
 "nbformat": 4,
 "nbformat_minor": 5
}
