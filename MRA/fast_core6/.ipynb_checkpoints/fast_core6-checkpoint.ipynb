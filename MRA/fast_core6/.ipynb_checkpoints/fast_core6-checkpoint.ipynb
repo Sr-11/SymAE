{
 "cells": [
  {
   "cell_type": "code",
   "execution_count": null,
   "id": "7ec303d6-c580-4b51-8068-336500ad4988",
   "metadata": {
    "tags": []
   },
   "outputs": [
    {
     "name": "stderr",
     "output_type": "stream",
     "text": [
      "/tmp/ipykernel_2398270/3079886328.py:38: RuntimeWarning: invalid value encountered in double_scalars\n",
      "  return (1-a)*f(s,x)+a*f(s+1,x)\n"
     ]
    }
   ],
   "source": [
    "import os\n",
    "os.environ[\"CUDA_VISIBLE_DEVICES\"]=\"5\"\n",
    "import numpy as np\n",
    "import tensorflow as tf\n",
    "import matplotlib.pyplot as plt\n",
    "from IPython.display import clear_output\n",
    "import pandas as pd\n",
    "import math\n",
    "from sklearn.decomposition import PCA\n",
    "import plotly.express as px\n",
    "from MRA_generate import MRA_generate\n",
    "from symae_model import SymAE\n",
    "from parameters import *\n",
    "from latent import latent\n",
    "from redatuming import redatuming\n",
    "from plot_redatuming import plot_redatuming\n",
    "from distance import rho\n",
    "def f(n,x):\n",
    "    if n==0:\n",
    "        return math.e**(-5*(x-0.5)**2)\n",
    "    elif n==1:\n",
    "        if x<0.3:\n",
    "            return 3*x\n",
    "        elif x<0.6:\n",
    "            return 3*(0.6-x)\n",
    "        else:\n",
    "            return 0\n",
    "    elif n==2:\n",
    "        return math.cos(2*math.pi*x)\n",
    "    elif n==3:\n",
    "        return int(x<0.5)\n",
    "    else:\n",
    "        return np.inf\n",
    "def g(n,x):\n",
    "    s = n//10\n",
    "    a = (n%10)/10\n",
    "    if s<=2:\n",
    "        return (1-a)*f(s,x)+a*f(s+1,x)\n",
    "    if s==3:\n",
    "        return (1-a)*f(5,x)+a*f(0,x)\n",
    "fig, axs = plt.subplots(1, ne, sharex=True, sharey=True, figsize=(ne,1))\n",
    "for i in range(ne):\n",
    "    axs[i].plot(range(d), [g(i,x/d) for x in range(d)])\n",
    "plt.suptitle('Show the shape of all $n_\\epsilon$ = %d states'%ne)\n",
    "MRA_training = MRA_generate(d,nt,N,sigma,ne,g,replace=0)\n",
    "pca_cb = PCA(n_components=2)\n",
    "MRA_pca = MRA_generate(d,nt,1000,sigma,ne,g,replace=0)\n",
    "MRA_training.generate_default()\n",
    "MRA_pca.generate_default()\n",
    "X = MRA_training.X\n",
    "clear_output()\n",
    "N_shifts = MRA_pca.shifts.reshape(-1,1)\n",
    "N_states = np.repeat(MRA_pca.states,nt)"
   ]
  },
  {
   "cell_type": "code",
   "execution_count": 2,
   "id": "dcf70677-2523-4616-a455-d15788a777b1",
   "metadata": {
    "tags": []
   },
   "outputs": [],
   "source": [
    "image_list = []\n",
    "class CustomCallback(tf.keras.callbacks.Callback):\n",
    "    def on_epoch_end(self, epoch, logs=None):\n",
    "        print(\"For epoch {:d}, loss is {:f}.\".format(epoch, logs[\"loss\"]))\n",
    "        if epoch % 10 == 0:\n",
    "            clear_output(wait = True)\n",
    "            _,Ns = latent(model,MRA_pca)\n",
    "            N_reshaped = Ns.reshape(-1,q)\n",
    "            pca_N = pca_cb.fit_transform(N_reshaped)\n",
    "            df = pd.DataFrame(pca_N, columns = ['1st','2nd'])\n",
    "            df_states = pd.DataFrame(N_states,columns=['state']).astype('object') \n",
    "            df_shifts = pd.DataFrame(N_shifts,columns=['shift'])\n",
    "            df = pd.concat([df,df_states,df_shifts],axis=1)\n",
    "            fig = px.scatter(df, x='1st', y='2nd', color='state', text='shift', title='q=%d,loss=%f'%(q,logs[\"loss\"]))\n",
    "            fig.update_layout(height=400)\n",
    "            fig.show()\n",
    "clear_output()\n",
    "fig.show()"
   ]
  },
  {
   "cell_type": "code",
   "execution_count": null,
   "id": "ddb4fec9-7efd-47e7-b36a-61b3c8e5f39a",
   "metadata": {
    "tags": []
   },
   "outputs": [],
   "source": []
  },
  {
   "cell_type": "code",
   "execution_count": 3,
   "id": "3ac16f41-e627-417a-8462-5b7885091eb7",
   "metadata": {},
   "outputs": [],
   "source": [
    "model = SymAE(N,nt,d,p,q,kernel_size,filters,dropout_rate)\n",
    "#model.load_weights('../checkpoint/'+'p=10,q=20')\n",
    "#model.load_weights('./checkpoint/'+'p=3,q=40,ber,ne=2')\n",
    "model.load_weights('./checkpoint/'+'p=3,q=40,ber,ne=30')\n",
    "clear_output()"
   ]
  },
  {
   "cell_type": "code",
   "execution_count": 4,
   "id": "f9dfdcd3-3641-443b-9216-87388841429e",
   "metadata": {},
   "outputs": [],
   "source": [
    "model.latentcat.drop.stddev = 0.1\n",
    "model.latentcat.drop.rate = 0.5"
   ]
  },
  {
   "cell_type": "code",
   "execution_count": 5,
   "id": "1991b70c-6ae9-43c2-bc41-7251055642b5",
   "metadata": {},
   "outputs": [
    {
     "name": "stderr",
     "output_type": "stream",
     "text": [
      "\n",
      "KeyboardInterrupt\n",
      "\n"
     ]
    }
   ],
   "source": [
    "Adam = tf.keras.optimizers.Adam(learning_rate=0.0001,beta_1=0.9,beta_2=0.999,epsilon=1e-07)\n",
    "SGD = tf.keras.optimizers.SGD(learning_rate=0.01,momentum=0.0,nesterov=False)\n",
    "model.compile(loss='mse',optimizer=Adam)\n",
    "history = model.fit(X,X,epochs=100000,verbose=0,callbacks=[CustomCallback()])"
   ]
  },
  {
   "cell_type": "code",
   "execution_count": null,
   "id": "b96e4718-a499-4624-9a8a-752408fcd9c3",
   "metadata": {},
   "outputs": [],
   "source": [
    "model.save_weights('./checkpoint/'+'p=3,q=40,ber,ne=30')"
   ]
  },
  {
   "cell_type": "code",
   "execution_count": null,
   "id": "c27ccad9-8d44-43d7-bdd6-1387973fbc53",
   "metadata": {},
   "outputs": [],
   "source": [
    "def find(state,nuisance):\n",
    "    MRA_data = MRA_generate(d,nt,1,sigma,ne,g,replace=1)\n",
    "    for i in range(1000):\n",
    "        MRA_data.generate_default()\n",
    "        if MRA_data.states[0] != state:\n",
    "            continue\n",
    "        for j in range(nt):\n",
    "            if MRA_data.shifts[0][j] == nuisance:\n",
    "                return MRA_data, j\n",
    "MRA1, t1 = find(9,40)\n",
    "MRA2, t2 = find(19,84)\n",
    "redatum = redatuming(model,MRA1,MRA2,t1,t2)\n",
    "clear_output()\n",
    "fig = plot_redatuming(redatum)"
   ]
  },
  {
   "cell_type": "code",
   "execution_count": null,
   "id": "6be1350e-a154-46e5-b388-a87481ff7df6",
   "metadata": {},
   "outputs": [],
   "source": []
  },
  {
   "cell_type": "code",
   "execution_count": null,
   "id": "0fa6a69b-48b4-4378-a7b0-1fa1ad893767",
   "metadata": {},
   "outputs": [],
   "source": []
  },
  {
   "cell_type": "code",
   "execution_count": null,
   "id": "26f7673c-2fb7-49e1-b9b4-bdc3a6b6c487",
   "metadata": {},
   "outputs": [],
   "source": [
    "def dec(latent_code):\n",
    "    tem = latent_code[np.newaxis, np.newaxis, :]\n",
    "    tem = np.repeat(tem, nt, axis=1)\n",
    "    tem = model.mixer.predict(tem, verbose=0)\n",
    "    return tem[0,0,:,0]\n",
    "def enc(state, shift):\n",
    "    tem = np.array( [g(state, ((k+shift)%d)/d) for k in range(d)] )\n",
    "    tem = tem[np.newaxis, np.newaxis, :, np.newaxis]\n",
    "    tem = np.repeat(tem, nt, axis=1)\n",
    "    tem = model.encoder.predict(tem, verbose=0)\n",
    "    return tem[0][0:p+q]\n",
    "state_source = 19\n",
    "nuisance_source = 29\n",
    "fig, axs = plt.subplots(1, d, sharex=True, sharey=True, figsize=(4*d,4), dpi=40)\n",
    "for i in range(1):\n",
    "    coherent_code = enc(state_source, 0)[0: p]\n",
    "    nuisance_code = enc(nuisance_source, i)[p: p+q]\n",
    "    latent_code = np.concatenate([coherent_code, nuisance_code], axis=0)\n",
    "    axs[i].plot(range(d), dec(latent_code))\n",
    "    axs[i].set_title('%d'%i)\n",
    "    if i==0:\n",
    "        print(rho(dec(latent_code), [g(state_source,x/d) for x in range(d)])[1])\n",
    "plt.suptitle('$\\hat{X}_{s=%d \\mapsto s=%d}$'%(nuisance_source, state_source), fontsize=50)\n",
    "plt.subplots_adjust(top=0.6)\n",
    "plt.show()\n",
    "#fig.savefig('./plots/%dto%d'%(nuisance_source, state_source))"
   ]
  },
  {
   "cell_type": "code",
   "execution_count": null,
   "id": "592db6b8-aedb-4d63-a47b-df25048e5344",
   "metadata": {},
   "outputs": [],
   "source": []
  },
  {
   "cell_type": "code",
   "execution_count": null,
   "id": "51f12b72-3b57-449f-834c-b0270e170a7a",
   "metadata": {},
   "outputs": [],
   "source": [
    "dim = 2\n",
    "pca = PCA(n_components=dim)\n",
    "MRA_pca = MRA_generate(d,nt,1000,sigma,ne,g,replace=1)\n",
    "MRA_pca.generate_default()\n",
    "Cs,Ns = latent(model,MRA_pca)\n",
    "N_reshaped = Ns.reshape(-1,q)\n",
    "N_shifts = MRA_pca.shifts.reshape(-1,1)\n",
    "if dim == 3:\n",
    "    pca_N = N_reshaped\n",
    "    df = pd.DataFrame(pca_N, columns = ['1st','2nd','3rd'][0:dim])\n",
    "    df_states = pd.DataFrame(np.repeat(MRA_pca.states,nt),columns=['state']).astype('object')\n",
    "    df_shifts = pd.DataFrame(N_shifts,columns=['shift'])\n",
    "    df = pd.concat([df,df_states,df_shifts],axis=1)\n",
    "   \n",
    "    fig = px.scatter_3d(df, x='1st', y='2nd', z='3rd', color='state', text='shift')\n",
    "if dim ==2:\n",
    "    pca_N = pca.fit_transform(N_reshaped)\n",
    "    df = pd.DataFrame(pca_N, columns = ['1st','2nd','3rd'][0:dim])\n",
    "    df_states = pd.DataFrame(np.repeat(MRA_pca.states,nt),columns=['state']).astype('object')\n",
    "    df_shifts = pd.DataFrame(N_shifts,columns=['shift'])\n",
    "    df = pd.concat([df,df_states,df_shifts],axis=1)\n",
    "    #df = df[df['state']==0]\n",
    "    df = df[0:1000]\n",
    "    fig = px.scatter(df, x='1st', y='2nd', color='state', text='shift')\n",
    "    fig.update_layout(height=600, margin=dict(l=0, r=0, t=0, b=0))\n",
    "fig.show()"
   ]
  },
  {
   "cell_type": "code",
   "execution_count": null,
   "id": "1d5e51f5-6bdb-4364-8219-dd34eabd7604",
   "metadata": {},
   "outputs": [],
   "source": []
  },
  {
   "cell_type": "code",
   "execution_count": null,
   "id": "d6a8bdbc-5d49-44ca-b545-25fa068deb40",
   "metadata": {},
   "outputs": [],
   "source": []
  },
  {
   "cell_type": "code",
   "execution_count": null,
   "id": "71069e94-18c3-47a4-b828-93788822ba70",
   "metadata": {},
   "outputs": [],
   "source": []
  },
  {
   "cell_type": "markdown",
   "id": "fe1907f9-8194-4046-a734-e887983762e5",
   "metadata": {},
   "source": [
    "### "
   ]
  }
 ],
 "metadata": {
  "kernelspec": {
   "display_name": "Python 3 (ipykernel)",
   "language": "python",
   "name": "python3"
  },
  "language_info": {
   "codemirror_mode": {
    "name": "ipython",
    "version": 3
   },
   "file_extension": ".py",
   "mimetype": "text/x-python",
   "name": "python",
   "nbconvert_exporter": "python",
   "pygments_lexer": "ipython3",
   "version": "3.9.12"
  }
 },
 "nbformat": 4,
 "nbformat_minor": 5
}
