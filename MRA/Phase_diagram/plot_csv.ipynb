{
 "cells": [
  {
   "cell_type": "code",
   "execution_count": 1,
   "id": "077a5522-847c-454a-9d2a-063c4545ecd7",
   "metadata": {},
   "outputs": [],
   "source": [
    "import numpy as np\n",
    "import matplotlib.pyplot as plt\n",
    "import pandas as pd"
   ]
  },
  {
   "cell_type": "code",
   "execution_count": 2,
   "id": "0ef3bbd0-9cb2-478a-9dbd-89aae27e055a",
   "metadata": {},
   "outputs": [
    {
     "data": {
      "text/html": [
       "<div>\n",
       "<style scoped>\n",
       "    .dataframe tbody tr th:only-of-type {\n",
       "        vertical-align: middle;\n",
       "    }\n",
       "\n",
       "    .dataframe tbody tr th {\n",
       "        vertical-align: top;\n",
       "    }\n",
       "\n",
       "    .dataframe thead th {\n",
       "        text-align: right;\n",
       "    }\n",
       "</style>\n",
       "<table border=\"1\" class=\"dataframe\">\n",
       "  <thead>\n",
       "    <tr style=\"text-align: right;\">\n",
       "      <th></th>\n",
       "      <th>Unnamed: 0</th>\n",
       "      <th>nx</th>\n",
       "      <th>nt</th>\n",
       "      <th>p</th>\n",
       "      <th>q</th>\n",
       "      <th>r</th>\n",
       "      <th>loss</th>\n",
       "      <th>roll_redatum_loss</th>\n",
       "    </tr>\n",
       "  </thead>\n",
       "  <tbody>\n",
       "    <tr>\n",
       "      <th>0</th>\n",
       "      <td>0</td>\n",
       "      <td>80</td>\n",
       "      <td>15</td>\n",
       "      <td>2</td>\n",
       "      <td>20</td>\n",
       "      <td>0.5</td>\n",
       "      <td>0.025163</td>\n",
       "      <td>0.021152</td>\n",
       "    </tr>\n",
       "  </tbody>\n",
       "</table>\n",
       "</div>"
      ],
      "text/plain": [
       "   Unnamed: 0  nx  nt  p   q    r      loss  roll_redatum_loss\n",
       "0           0  80  15  2  20  0.5  0.025163           0.021152"
      ]
     },
     "execution_count": 2,
     "metadata": {},
     "output_type": "execute_result"
    }
   ],
   "source": [
    "df = pd.read_csv('phase_dataframe.csv')\n",
    "df"
   ]
  },
  {
   "cell_type": "code",
   "execution_count": 3,
   "id": "2f21b367-d950-4bf0-b8e5-14b1a3a18b4b",
   "metadata": {},
   "outputs": [
    {
     "data": {
      "text/plain": [
       "(array([15, 16, 17, 18, 19]), array([20, 21, 22, 23]))"
      ]
     },
     "execution_count": 3,
     "metadata": {},
     "output_type": "execute_result"
    }
   ],
   "source": [
    "X = np.arange(15,20,1)\n",
    "Y = np.arange(20,24,1)\n",
    "X,Y"
   ]
  },
  {
   "cell_type": "code",
   "execution_count": 4,
   "id": "8012f145-886f-4855-91dd-dc4332a05b93",
   "metadata": {},
   "outputs": [
    {
     "name": "stdout",
     "output_type": "stream",
     "text": [
      "not exists\n",
      "not exists\n",
      "not exists\n",
      "not exists\n",
      "not exists\n",
      "not exists\n",
      "not exists\n",
      "not exists\n",
      "not exists\n",
      "not exists\n",
      "not exists\n",
      "not exists\n",
      "not exists\n",
      "not exists\n",
      "not exists\n",
      "not exists\n"
     ]
    }
   ],
   "source": [
    "Z = np.empty((len(X),len(Y)))\n",
    "for i in range(Z.shape[0]):\n",
    "    for j in range(Z.shape[1]):     \n",
    "        try:\n",
    "            filtered_rows = df.loc[(df['nt']==X[i]) & (df['q']==Y[i])]\n",
    "            Z[i,j] = filtered_rows.iloc[0]['roll_redatum_loss']\n",
    "        except:\n",
    "            print(\"not exists\")\n",
    "        #print(Z[i,j])"
   ]
  },
  {
   "cell_type": "code",
   "execution_count": 5,
   "id": "7a7b555e-832d-444a-a5de-208906f4036f",
   "metadata": {},
   "outputs": [
    {
     "data": {
      "image/png": "[encoded data removed]",
      "text/plain": [
       "<Figure size 360x288 with 2 Axes>"
      ]
     },
     "metadata": {
      "needs_background": "light"
     },
     "output_type": "display_data"
    }
   ],
   "source": [
    "fig = plt.matshow(Z.T,cmap='gray') \n",
    "plt.xlabel(r'$ n_\\tau $')\n",
    "plt.ylabel(r'$ q $')\n",
    "xticks = np.arange(0,5,2)\n",
    "xtick_labels = ['%.1f'%X[i] for i in xticks]\n",
    "yticks = np.arange(0,4,2)\n",
    "ytick_labels = ['%.1f'%Y[i] for i in yticks]\n",
    "plt.xticks(xticks, xtick_labels)\n",
    "plt.yticks(yticks, ytick_labels)\n",
    "plt.gca().xaxis.tick_bottom()\n",
    "#plt.title(r'$\\alpha_\\infty$')\n",
    "plt.colorbar()\n",
    "plt.savefig('trade-off.pdf', format='pdf', bbox_inches='tight')"
   ]
  },
  {
   "cell_type": "code",
   "execution_count": null,
   "id": "a2e1d9f8-4501-4270-ac06-a56797fd26c1",
   "metadata": {},
   "outputs": [],
   "source": []
  },
  {
   "cell_type": "code",
   "execution_count": null,
   "id": "86900351-28df-420b-b119-68ea506cc061",
   "metadata": {},
   "outputs": [],
   "source": []
  }
 ],
 "metadata": {
  "kernelspec": {
   "display_name": "Python 3 (ipykernel)",
   "language": "python",
   "name": "python3"
  },
  "language_info": {
   "codemirror_mode": {
    "name": "ipython",
    "version": 3
   },
   "file_extension": ".py",
   "mimetype": "text/x-python",
   "name": "python",
   "nbconvert_exporter": "python",
   "pygments_lexer": "ipython3",
   "version": "3.9.12"
  }
 },
 "nbformat": 4,
 "nbformat_minor": 5
}
