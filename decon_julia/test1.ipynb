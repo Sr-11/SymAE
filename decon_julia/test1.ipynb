{
 "cells": [
  {
   "cell_type": "code",
   "execution_count": 1,
   "id": "c33021ce-668e-459a-accc-e61506b15b3d",
   "metadata": {},
   "outputs": [
    {
     "name": "stderr",
     "output_type": "stream",
     "text": [
      "2022-07-25 15:20:46.779532: I tensorflow/core/util/util.cc:169] oneDNN custom operations are on. You may see slightly different numerical results due to floating-point round-off errors from different computation orders. To turn them off, set the environment variable `TF_ENABLE_ONEDNN_OPTS=0`.\n"
     ]
    },
    {
     "name": "stdout",
     "output_type": "stream",
     "text": [
      "Num GPUs Available:  1\n",
      "2.9.1\n"
     ]
    }
   ],
   "source": [
    "import io\n",
    "import os\n",
    "from datetime import datetime\n",
    "import time\n",
    "import random\n",
    "import numpy as np\n",
    "import glob\n",
    "import sklearn\n",
    "import matplotlib.pyplot as plt\n",
    "import matplotlib.gridspec as gridspec\n",
    "# import tikzplotlib\n",
    "import wiggle\n",
    "import PIL\n",
    "import json\n",
    "import imageio\n",
    "import pydot\n",
    "import graphviz\n",
    "import h5py\n",
    "from pathlib import Path\n",
    "\n",
    "\n",
    "\n",
    "plt.rcParams['figure.figsize'] = [15, 2]\n",
    "\n",
    "import random\n",
    "from scipy import signal\n",
    "from scipy.sparse import random\n",
    "from sklearn.metrics import mean_squared_error\n",
    "\n",
    "import tensorflow as tf\n",
    "from tensorflow.keras import mixed_precision\n",
    "\n",
    "tf.config.optimizer.set_jit(True)\n",
    "tfk = tf.keras\n",
    "tfkl = tf.keras.layers\n",
    "tfkltd= tf.keras.layers.TimeDistributed\n",
    "\n",
    "import os \n",
    "os.environ[\"CUDA_DEVICE_ORDER\"]=\"PCI_BUS_ID\"\n",
    "os.environ[\"CUDA_VISIBLE_DEVICES\"]=\"5\"\n",
    "\n",
    "gpus = tf.config.experimental.list_physical_devices('GPU')\n",
    "print(\"Num GPUs Available: \", len(gpus))\n",
    "\n",
    "print(tf.__version__)\n",
    "\n",
    "from plotly.subplots import make_subplots\n",
    "import plotly.graph_objects as go\n",
    "import plotly.express as px\n",
    "\n",
    "import gc\n",
    "plt.style.use(\"ggplot\")\n",
    "\n",
    "\n",
    "def report(model, name):\n",
    "    model.summary(line_length=150)"
   ]
  },
  {
   "cell_type": "code",
   "execution_count": 2,
   "id": "3bde52a6-dfef-4a0b-8c0c-61c59251744f",
   "metadata": {},
   "outputs": [],
   "source": [
    "nt=800"
   ]
  },
  {
   "cell_type": "code",
   "execution_count": 3,
   "id": "04b0d226-b5db-46ad-995e-559dcd69f99c",
   "metadata": {},
   "outputs": [],
   "source": [
    "def conv_with_path(s, nsamp, nt, style='spike'):\n",
    "    d=np.zeros((nsamp,nt))\n",
    "    pp=np.zeros((nsamp, nt))\n",
    "    \n",
    "    \n",
    "    for i in range(nsamp):\n",
    "            if style=='spike':\n",
    "                p=np.zeros((nt))\n",
    "                p[np.random.randint(200,600)]=np.random.choice((-1, 1))\n",
    "                # p[np.random.randint(200,600)]=-0.75\n",
    "                # p[np.random.randint(200,600)]=0.75\n",
    "                # p[np.random.randint(200,600)]=-0.8\n",
    "                # np.random.randn() \n",
    "            else:\n",
    "                p=np.array(random(nt, 1, density=0.05).A)[:,0]\n",
    "                p[0:200] = 0.0\n",
    "                p[600:nt] = 0.0\n",
    "                # p[200:600] = np.random.randn(400)\n",
    "            pp[i, :]=p\n",
    "            d1=signal.convolve(p,s,'same') #convolution(source*path)\n",
    "            d[i,:]=d1/np.std(d1) #normailised data\n",
    "    return d, pp"
   ]
  },
  {
   "cell_type": "code",
   "execution_count": 4,
   "id": "8a7278bd-f4fa-46ea-94de-d3c82a5a07b5",
   "metadata": {},
   "outputs": [],
   "source": [
    "nsamp=1000\n",
    "dsyn1=np.zeros((nsamp,nt))\n",
    "dsyn2=np.zeros((nsamp,nt))\n",
    "\n",
    "# S1=np.random.randn(np.random.randint(100,200)) #define random source\n",
    "# window=signal.ricker(100, 10)\n",
    "# s1 = np.convolve(window, S1, mode='valid')\n",
    "s1=np.diff(signal.windows.bartlett(51))\n",
    "s1=signal.windows.bartlett(51)\n",
    "# s1=signal.windows.cosine(51)\n",
    "\n",
    "# S2=np.random.randn(np.random.randint(100,200)) #define random source\n",
    "# window=signal.ricker(200, 10)\n",
    "# s2 = np.convolve(window, S2, mode='valid')\n",
    "s2=window=signal.ricker(200, 10)\n",
    "# s2=window=signal.boxcar(80)\n",
    "\n",
    "dsyn1, p1=conv_with_path(s1, nsamp, nt)\n",
    "dsyn2, p2=conv_with_path(s2, nsamp, nt)\n",
    "\n",
    "# s3=signal.windows.bartlett(51)\n",
    "s3 = np.diff(signal.windows.bartlett(51))\n",
    "s3 = [1.,0]\n",
    "dsyn_mix_half1, pmix_half1=conv_with_path(s1, nsamp//2, nt)\n",
    "dsyn_mix_half2, pmix_half2=conv_with_path(s2, nsamp//2, nt)\n",
    "\n",
    "dsyn_mix=np.concatenate([dsyn_mix_half1, dsyn_mix_half2])\n",
    "pmix=np.concatenate([pmix_half1, pmix_half2])\n",
    "\n",
    "# dsyn_mix, pmix = conv_with_path(s3, nsamp, nt, 'spike')\n",
    "dsyn1_test, p1test=conv_with_path(s1, 100, nt)\n",
    "dsyn2_test, p2test=conv_with_path(s2, 100, nt)\n",
    "dsyn_mix_test, pmixtest = conv_with_path([1, 0], 100, nt, 'spike')\n",
    "\n"
   ]
  },
  {
   "cell_type": "code",
   "execution_count": 5,
   "id": "e104b61a-e698-499a-a061-9e29ad3f4760",
   "metadata": {},
   "outputs": [
    {
     "data": {
      "text/plain": [
       "[<matplotlib.lines.Line2D at 0x7f0512a31c40>]"
      ]
     },
     "execution_count": 5,
     "metadata": {},
     "output_type": "execute_result"
    },
    {
     "data": {
      "image/png": "[encoded data removed]",
      "text/plain": [
       "<Figure size 1080x144 with 1 Axes>"
      ]
     },
     "metadata": {},
     "output_type": "display_data"
    }
   ],
   "source": [
    "plt.plot(p1[0])"
   ]
  },
  {
   "cell_type": "code",
   "execution_count": 6,
   "id": "a6c31443-adbd-4f4f-a3b8-d204e6a02c4b",
   "metadata": {},
   "outputs": [
    {
     "data": {
      "text/plain": [
       "(1000, 800)"
      ]
     },
     "execution_count": 6,
     "metadata": {},
     "output_type": "execute_result"
    }
   ],
   "source": [
    "# plt.plot(p)\n",
    "# np.random.choice([s1, s2]).shape\n",
    "dsyn_mix.shape"
   ]
  },
  {
   "cell_type": "code",
   "execution_count": 7,
   "id": "63d7924e-4799-48de-94dd-eb0c7817ffd7",
   "metadata": {},
   "outputs": [
    {
     "data": {
      "text/plain": [
       "<matplotlib.legend.Legend at 0x7f05121e7e20>"
      ]
     },
     "execution_count": 7,
     "metadata": {},
     "output_type": "execute_result"
    },
    {
     "data": {
      "image/png": "[encoded data removed]",
      "text/plain": [
       "<Figure size 1080x144 with 1 Axes>"
      ]
     },
     "metadata": {},
     "output_type": "display_data"
    }
   ],
   "source": [
    "plt.plot(np.pad(s1, (0,nt-len(s1))), label='source 1')\n",
    "plt.plot(np.pad(s2, (0,nt-len(s2))), label='source 2')\n",
    "plt.plot(np.pad(s3, (0,nt-len(s3))), label='source 3')\n",
    "plt.legend()"
   ]
  },
  {
   "cell_type": "code",
   "execution_count": 8,
   "id": "86d8e83e-79cc-48e9-a0de-c2bc2ff06486",
   "metadata": {},
   "outputs": [
    {
     "data": {
      "text/plain": [
       "2"
      ]
     },
     "execution_count": 8,
     "metadata": {},
     "output_type": "execute_result"
    }
   ],
   "source": [
    "train_data=[]\n",
    "train_data.append(dsyn1)\n",
    "train_data.append(dsyn2)\n",
    "# train_data.append(dsyn_mix)\n",
    "test_data=[]\n",
    "test_data.append(dsyn1_test)\n",
    "test_data.append(dsyn2_test)\n",
    "# test_data.append(dsyn_mix_test)\n",
    "len(train_data)"
   ]
  },
  {
   "cell_type": "code",
   "execution_count": 9,
   "id": "d7255625-91f4-47aa-a698-4ebc0ee37972",
   "metadata": {},
   "outputs": [
    {
     "name": "stdout",
     "output_type": "stream",
     "text": [
      "762\n"
     ]
    },
    {
     "data": {
      "image/png": "[encoded data removed]",
      "text/plain": [
       "<Figure size 1080x144 with 1 Axes>"
      ]
     },
     "metadata": {},
     "output_type": "display_data"
    }
   ],
   "source": [
    "i=np.random.randint(0,nsamp)\n",
    "plt.plot(dsyn1[i,:], label='data in state 1');\n",
    "plt.plot(dsyn2[i,:], label='data in state 2');\n",
    "plt.plot(dsyn_mix[i,:], label='data in state 3');\n",
    "plt.legend()\n",
    "print(i)"
   ]
  },
  {
   "cell_type": "code",
   "execution_count": 10,
   "id": "a439ca75-811a-4ba9-9668-c75ae98d4b7f",
   "metadata": {},
   "outputs": [
    {
     "name": "stdout",
     "output_type": "stream",
     "text": [
      "(TensorSpec(shape=(None, 20, 800), dtype=tf.float32, name=None), TensorSpec(shape=(None, 20, 800), dtype=tf.float32, name=None))\n",
      "(TensorSpec(shape=(None, 20, 800), dtype=tf.float32, name=None), TensorSpec(shape=(None, 20, 800), dtype=tf.float32, name=None))\n"
     ]
    },
    {
     "name": "stderr",
     "output_type": "stream",
     "text": [
      "2022-07-25 15:20:55.648254: I tensorflow/core/platform/cpu_feature_guard.cc:193] This TensorFlow binary is optimized with oneAPI Deep Neural Network Library (oneDNN) to use the following CPU instructions in performance-critical operations:  AVX2 AVX512F AVX512_VNNI FMA\n",
      "To enable them in other operations, rebuild TensorFlow with the appropriate compiler flags.\n",
      "2022-07-25 15:20:56.261018: I tensorflow/core/common_runtime/gpu/gpu_device.cc:1532] Created device /job:localhost/replica:0/task:0/device:GPU:0 with 13931 MB memory:  -> device: 0, name: NVIDIA RTX A4000, pci bus id: 0000:89:00.0, compute capability: 8.6\n"
     ]
    }
   ],
   "source": [
    "batch_size=8\n",
    "ninstance=20\n",
    "\n",
    "weights_train=np.array([ds.shape[0] for ds in train_data]).astype(np.float32)\n",
    "Xo_train=tf.data.Dataset.sample_from_datasets([tf.data.Dataset.from_tensor_slices((ds.astype(np.float32), ds.astype(np.float32))).repeat().shuffle(500).batch(ninstance, drop_remainder=True) for ds in train_data], weights=weights_train).repeat().batch(batch_size)\n",
    "# Xo_train=tf.data.Dataset.sample_from_datasets([tf.data.Dataset.from_tensor_slices((ds.astype(np.float32), ds.astype(np.float32))).repeat().shuffle(2000).batch(ninstance, drop_remainder=True) for ds in train_data]).repeat().batch(batch_size)\n",
    "print(Xo_train.element_spec)\n",
    "Xo_train = Xo_train.prefetch(tf.data.experimental.AUTOTUNE)\n",
    "\n",
    "Xo_perf=tf.data.Dataset.sample_from_datasets([tf.data.Dataset.from_tensor_slices((ds.astype(np.float32), ds.astype(np.float32))).repeat().batch(ninstance, drop_remainder=True) for ds in train_data], weights=weights_train).repeat().batch(batch_size)\n",
    "\n",
    "\n",
    "\n",
    "Xo_test=tf.data.Dataset.sample_from_datasets([tf.data.Dataset.from_tensor_slices((ds.astype(np.float32), ds.astype(np.float32))).repeat().shuffle(ninstance).batch(ninstance, drop_remainder=True) for ds in test_data]).repeat().batch(batch_size)\n",
    "print(Xo_test.element_spec)\n",
    "Xo_test = Xo_test.prefetch(tf.data.experimental.AUTOTUNE)"
   ]
  },
  {
   "cell_type": "code",
   "execution_count": 11,
   "id": "6ffb521f-3b9c-4e1d-a8ae-94fc2f5ad9ea",
   "metadata": {},
   "outputs": [],
   "source": [
    "\n",
    "# run for nzi in \n",
    "class SymAE(tf.keras.Model):\n",
    "  def __init__(self, nt, nz0, nzi, ninstance):\n",
    "    super(SymAE, self).__init__()\n",
    "    self.symencoder=tfk.Sequential()\n",
    "    self.symencoder.add(tfkl.Dense(700,activation='elu'))\n",
    "    self.symencoder.add(tfkl.Dense(500,activation='elu'))\n",
    "    self.symencoder.add(tfkl.Lambda(lambda x: tf.math.reduce_mean(x, axis=1)))\n",
    "    self.symencoder.add(tfkl.Dense(400,activation='elu'))\n",
    "    self.symencoder.add(tfkl.BatchNormalization())\n",
    "    self.symencoder.add(tfkl.Dense(nz0))\n",
    "    \n",
    "\n",
    "    self.nencoder=tfk.Sequential()\n",
    "    self.nencoder.add(tfkl.Dense(700,activation='elu'))\n",
    "    self.nencoder.add(tfkl.Dense(500,activation='elu'))\n",
    "    self.nencoder.add(tfkl.Dense(400,activation='elu'))\n",
    "    self.symencoder.add(tfkl.BatchNormalization())\n",
    "    self.nencoder.add(tfkl.Dense(nzi))\n",
    "    self.drop=tfkl.Dropout(0.5)\n",
    "    \n",
    "    self.decoder=tfk.Sequential()\n",
    "    self.decoder.add(tfkl.Dense(300,activation='elu'))\n",
    "    self.decoder.add(tfkl.Dense(400,activation='elu'))\n",
    "    self.decoder.add(tfkl.Dense(600,activation='elu'))\n",
    "    self.decoder.add(tfkl.Dense(nt))\n",
    "\n",
    "    self.repeatzsym=tfk.Sequential()\n",
    "    self.repeatzsym.add(tfkl.RepeatVector(ninstance))\n",
    "\n",
    "  def call(self, input_tensor, training=False):\n",
    "    zsym=self.symencoder(input_tensor)\n",
    "    zsymr=self.repeatzsym(zsym)\n",
    "\n",
    "    zn=self.nencoder(input_tensor)\n",
    "    zn=self.drop(zn, training=training)\n",
    "    \n",
    "    lcode=tfkl.concatenate([zsymr, zn], axis=2)\n",
    "    xhat = self.decoder(lcode)\n",
    "    return xhat"
   ]
  },
  {
   "cell_type": "code",
   "execution_count": 12,
   "id": "a454ce4a-eaf0-4f9a-a7d5-b389217fcd2f",
   "metadata": {},
   "outputs": [],
   "source": [
    "\n",
    "class SymAEconv(tf.keras.Model):\n",
    "  def __init__(self, nt, nz0, nzi, ninstance, k1=10):\n",
    "    super(SymAEconv, self).__init__()\n",
    "    self.symencoder=tfk.Sequential()\n",
    "    self.symencoder.add(tfkltd(tfkl.Reshape(target_shape=(-1,1))))\n",
    "    self.symencoder.add(tfkltd(tfkl.Conv1D(64,(k1),padding='same',activation='elu')))\n",
    "    self.symencoder.add(tfkltd(tfkl.Conv1D(64,(k1),padding='same',activation='elu')))\n",
    "    self.symencoder.add(tfkltd(tfkl.MaxPool1D(pool_size=(2))))\n",
    "    self.symencoder.add(tfkltd(tfkl.Conv1D(64,(k1),padding='same',activation='elu')))\n",
    "    self.symencoder.add(tfkltd(tfkl.Conv1D(64,(k1),padding='same',activation='elu')))\n",
    "    self.symencoder.add(tfkltd(tfkl.MaxPool1D(pool_size=(2))))\n",
    "    self.symencoder.add(tfkl.Lambda(lambda x: tf.math.reduce_mean(x, axis=1)))\n",
    "\n",
    "\n",
    "    self.symencoder.add(tfkl.Conv1D(32,(k1),padding='same',activation='elu'))\n",
    "    self.symencoder.add(tfkl.MaxPool1D(pool_size=(2)))\n",
    "    self.symencoder.add(tfkl.Conv1D(1,(k1),padding='same',activation='elu'))\n",
    "    self.symencoder.add(tfkl.BatchNormalization())\n",
    "    self.symencoder.add(tfkl.Activation('elu'))\n",
    "    self.symencoder.add(tfkl.MaxPool1D(pool_size=(4)))\n",
    "    self.symencoder.add(tfkl.Flatten())\n",
    "    self.symencoder.add(tfkl.Dense(nz0))\n",
    "\n",
    "    \n",
    "\n",
    "    self.nencoder=tfk.Sequential()\n",
    "    self.nencoder.add(tfkltd(tfkl.Reshape(target_shape=(-1,1))))\n",
    "    self.nencoder.add(tfkltd(tfkl.Conv1D(64,(k1),padding='same',activation='elu')))\n",
    "    self.nencoder.add(tfkltd(tfkl.Conv1D(64,(k1),padding='same',activation='elu')))\n",
    "    self.nencoder.add(tfkltd(tfkl.MaxPool1D(pool_size=(2))))\n",
    "    self.nencoder.add(tfkltd(tfkl.Conv1D(64,(k1),padding='same',activation='elu')))\n",
    "    self.nencoder.add(tfkltd(tfkl.Conv1D(32,(k1),padding='same',activation='elu')))\n",
    "    self.nencoder.add(tfkltd(tfkl.MaxPool1D(pool_size=(2))))\n",
    "    self.nencoder.add(tfkltd(tfkl.Conv1D(32,(k1),padding='same',activation='elu')))\n",
    "    self.nencoder.add(tfkltd(tfkl.Conv1D(32,(k1),padding='same',activation='elu')))\n",
    "    self.nencoder.add(tfkltd(tfkl.MaxPool1D(pool_size=(2))))\n",
    "    self.nencoder.add(tfkltd(tfkl.Conv1D(8,(k1),padding='same',activation='elu')))\n",
    "    self.nencoder.add(tfkltd(tfkl.Conv1D(1,(k1),padding='same')))\n",
    "    self.nencoder.add(tfkltd(tfkl.BatchNormalization()))\n",
    "    self.nencoder.add(tfkltd(tfkl.Activation('elu')))\n",
    "    self.nencoder.add(tfkltd(tfkl.MaxPool1D(pool_size=(2))))\n",
    "    self.nencoder.add(tfkltd(tfkl.Flatten()))\n",
    "    self.nencoder.add(tfkltd(tfkl.Dense(nzi)))\n",
    "\n",
    "    self.drop=tfkl.Dropout(0.8)\n",
    "\n",
    "    self.decoder=tfk.Sequential()\n",
    "\n",
    "    self.decoder.add(tfkltd(tfkl.Dense(units=((nt//2)*1),activation='elu')))\n",
    "    self.decoder.add(tfkltd(tfkl.Reshape(target_shape=(-1,1))))\n",
    "    self.decoder.add(tfkltd(tfkl.Conv1D(64,(k1),padding='same',activation='elu')))\n",
    "    self.decoder.add(tfkltd(tfkl.UpSampling1D(size=(2))))\n",
    "    self.decoder.add(tfkltd(tfkl.Conv1D(64,(k1),padding='same',activation='elu')))\n",
    "    self.decoder.add(tfkltd(tfkl.Conv1D(64,(k1),padding='same')))\n",
    "    self.decoder.add(tfkltd(tfkl.BatchNormalization()))\n",
    "    self.decoder.add(tfkltd(tfkl.Activation('elu')))\n",
    "    self.decoder.add(tfkltd(tfkl.Conv1D(64,(k1),padding='same',activation='elu')))\n",
    "    self.decoder.add(tfkltd(tfkl.Conv1D(64,(k1),padding='same',activation='elu')))\n",
    "    self.decoder.add(tfkltd(tfkl.Conv1D(1,(k1),padding='same')))\n",
    "    self.decoder.add(tfkl.Lambda(lambda x: tf.squeeze(x, axis=3)))\n",
    "\n",
    "    self.repeatzsym=tfk.Sequential()\n",
    "    self.repeatzsym.add(tfkl.RepeatVector(ninstance))\n",
    "\n",
    "\n",
    "  def call(self, input_tensor, training=False):\n",
    "    zsym=self.symencoder(input_tensor)\n",
    "    zsymr=self.repeatzsym(zsym)\n",
    "\n",
    "    zn=self.nencoder(input_tensor)\n",
    "    zn=self.drop(zn, training=training)\n",
    "    \n",
    "    lcode=tfkl.concatenate([zsymr, zn], axis=2)\n",
    "    xhat = self.decoder(lcode)\n",
    "    return xhat\n",
    "\n",
    "  def model(self, x):\n",
    "    return tfk.Model(inputs=x, outputs=self.call(x))"
   ]
  },
  {
   "cell_type": "markdown",
   "id": "178714b8-1b52-4b23-b0ee-cc1837c0fe89",
   "metadata": {},
   "source": [
    "* First mute the dropout, then try to estimate q such that we have reasolnable data reconsturction\n",
    "* Then trun dropout on with alpha as 0.5 and the new q is 2* q_old \n"
   ]
  },
  {
   "cell_type": "code",
   "execution_count": 13,
   "id": "f09c92aa-5275-4219-9926-b93f8aac1cc2",
   "metadata": {},
   "outputs": [
    {
     "name": "stdout",
     "output_type": "stream",
     "text": [
      "Model: \"sequential\"\n",
      "_________________________________________________________________\n",
      " Layer (type)                Output Shape              Param #   \n",
      "=================================================================\n",
      " time_distributed (TimeDistr  (None, None, 800, 1)     0         \n",
      " ibuted)                                                         \n",
      "                                                                 \n",
      " time_distributed_1 (TimeDis  (None, None, 800, 64)    704       \n",
      " tributed)                                                       \n",
      "                                                                 \n",
      " time_distributed_2 (TimeDis  (None, None, 800, 64)    41024     \n",
      " tributed)                                                       \n",
      "                                                                 \n",
      " time_distributed_3 (TimeDis  (None, None, 400, 64)    0         \n",
      " tributed)                                                       \n",
      "                                                                 \n",
      " time_distributed_4 (TimeDis  (None, None, 400, 64)    41024     \n",
      " tributed)                                                       \n",
      "                                                                 \n",
      " time_distributed_5 (TimeDis  (None, None, 400, 64)    41024     \n",
      " tributed)                                                       \n",
      "                                                                 \n",
      " time_distributed_6 (TimeDis  (None, None, 200, 64)    0         \n",
      " tributed)                                                       \n",
      "                                                                 \n",
      " lambda (Lambda)             (None, 200, 64)           0         \n",
      "                                                                 \n",
      " conv1d_4 (Conv1D)           (None, 200, 32)           20512     \n",
      "                                                                 \n",
      " max_pooling1d_2 (MaxPooling  (None, 100, 32)          0         \n",
      " 1D)                                                             \n",
      "                                                                 \n",
      " conv1d_5 (Conv1D)           (None, 100, 1)            321       \n",
      "                                                                 \n",
      " batch_normalization (BatchN  (None, 100, 1)           4         \n",
      " ormalization)                                                   \n",
      "                                                                 \n",
      " activation (Activation)     (None, 100, 1)            0         \n",
      "                                                                 \n",
      " max_pooling1d_3 (MaxPooling  (None, 25, 1)            0         \n",
      " 1D)                                                             \n",
      "                                                                 \n",
      " flatten (Flatten)           (None, 25)                0         \n",
      "                                                                 \n",
      " dense (Dense)               (None, 10)                260       \n",
      "                                                                 \n",
      "=================================================================\n",
      "Total params: 144,873\n",
      "Trainable params: 144,871\n",
      "Non-trainable params: 2\n",
      "_________________________________________________________________\n",
      "Model: \"sequential_1\"\n",
      "_________________________________________________________________\n",
      " Layer (type)                Output Shape              Param #   \n",
      "=================================================================\n",
      " time_distributed_7 (TimeDis  (None, None, 800, 1)     0         \n",
      " tributed)                                                       \n",
      "                                                                 \n",
      " time_distributed_8 (TimeDis  (None, None, 800, 64)    704       \n",
      " tributed)                                                       \n",
      "                                                                 \n",
      " time_distributed_9 (TimeDis  (None, None, 800, 64)    41024     \n",
      " tributed)                                                       \n",
      "                                                                 \n",
      " time_distributed_10 (TimeDi  (None, None, 400, 64)    0         \n",
      " stributed)                                                      \n",
      "                                                                 \n",
      " time_distributed_11 (TimeDi  (None, None, 400, 64)    41024     \n",
      " stributed)                                                      \n",
      "                                                                 \n",
      " time_distributed_12 (TimeDi  (None, None, 400, 32)    20512     \n",
      " stributed)                                                      \n",
      "                                                                 \n",
      " time_distributed_13 (TimeDi  (None, None, 200, 32)    0         \n",
      " stributed)                                                      \n",
      "                                                                 \n",
      " time_distributed_14 (TimeDi  (None, None, 200, 32)    10272     \n",
      " stributed)                                                      \n",
      "                                                                 \n",
      " time_distributed_15 (TimeDi  (None, None, 200, 32)    10272     \n",
      " stributed)                                                      \n",
      "                                                                 \n",
      " time_distributed_16 (TimeDi  (None, None, 100, 32)    0         \n",
      " stributed)                                                      \n",
      "                                                                 \n",
      " time_distributed_17 (TimeDi  (None, None, 100, 8)     2568      \n",
      " stributed)                                                      \n",
      "                                                                 \n",
      " time_distributed_18 (TimeDi  (None, None, 100, 1)     81        \n",
      " stributed)                                                      \n",
      "                                                                 \n",
      " time_distributed_19 (TimeDi  (None, None, 100, 1)     4         \n",
      " stributed)                                                      \n",
      "                                                                 \n",
      " time_distributed_20 (TimeDi  (None, None, 100, 1)     0         \n",
      " stributed)                                                      \n",
      "                                                                 \n",
      " time_distributed_21 (TimeDi  (None, None, 50, 1)      0         \n",
      " stributed)                                                      \n",
      "                                                                 \n",
      " time_distributed_22 (TimeDi  (None, None, 50)         0         \n",
      " stributed)                                                      \n",
      "                                                                 \n",
      " time_distributed_23 (TimeDi  (None, None, 15)         765       \n",
      " stributed)                                                      \n",
      "                                                                 \n",
      "=================================================================\n",
      "Total params: 127,226\n",
      "Trainable params: 127,224\n",
      "Non-trainable params: 2\n",
      "_________________________________________________________________\n",
      "Model: \"sequential_2\"\n",
      "_________________________________________________________________\n",
      " Layer (type)                Output Shape              Param #   \n",
      "=================================================================\n",
      " time_distributed_24 (TimeDi  (None, None, 400)        10400     \n",
      " stributed)                                                      \n",
      "                                                                 \n",
      " time_distributed_25 (TimeDi  (None, None, 400, 1)     0         \n",
      " stributed)                                                      \n",
      "                                                                 \n",
      " time_distributed_26 (TimeDi  (None, None, 400, 64)    704       \n",
      " stributed)                                                      \n",
      "                                                                 \n",
      " time_distributed_27 (TimeDi  (None, None, 800, 64)    0         \n",
      " stributed)                                                      \n",
      "                                                                 \n",
      " time_distributed_28 (TimeDi  (None, None, 800, 64)    41024     \n",
      " stributed)                                                      \n",
      "                                                                 \n",
      " time_distributed_29 (TimeDi  (None, None, 800, 64)    41024     \n",
      " stributed)                                                      \n",
      "                                                                 \n",
      " time_distributed_30 (TimeDi  (None, None, 800, 64)    256       \n",
      " stributed)                                                      \n",
      "                                                                 \n",
      " time_distributed_31 (TimeDi  (None, None, 800, 64)    0         \n",
      " stributed)                                                      \n",
      "                                                                 \n",
      " time_distributed_32 (TimeDi  (None, None, 800, 64)    41024     \n",
      " stributed)                                                      \n",
      "                                                                 \n",
      " time_distributed_33 (TimeDi  (None, None, 800, 64)    41024     \n",
      " stributed)                                                      \n",
      "                                                                 \n",
      " time_distributed_34 (TimeDi  (None, None, 800, 1)     641       \n",
      " stributed)                                                      \n",
      "                                                                 \n",
      " lambda_1 (Lambda)           (None, None, 800)         0         \n",
      "                                                                 \n",
      "=================================================================\n",
      "Total params: 176,097\n",
      "Trainable params: 175,969\n",
      "Non-trainable params: 128\n",
      "_________________________________________________________________\n"
     ]
    }
   ],
   "source": [
    "# nzi=600\n",
    "nzi=15\n",
    "\n",
    "nz0=10\n",
    "# model=SymAE(nt, nz0, nzi, ninstance)\n",
    "model=SymAEconv(nt, nz0, nzi, ninstance)\n",
    "model.symencoder.build((None,None,nt))\n",
    "model.nencoder.build((None,None,nt))\n",
    "model.decoder.build((None,None,nz0+nzi))\n",
    "model.symencoder.summary()\n",
    "model.nencoder.summary()\n",
    "model.decoder.summary()\n",
    "model.compile(optimizer='adam', loss='mse')"
   ]
  },
  {
   "cell_type": "code",
   "execution_count": 14,
   "id": "03faf7e5-9abc-4295-b4c2-1cfd0aa66886",
   "metadata": {},
   "outputs": [
    {
     "name": "stdout",
     "output_type": "stream",
     "text": [
      "Epoch 1/1000\n"
     ]
    },
    {
     "name": "stderr",
     "output_type": "stream",
     "text": [
      "2022-07-25 15:20:57.514592: W tensorflow/compiler/jit/mark_for_compilation_pass.cc:1750] (One-time warning): Not using XLA:CPU for cluster.\n",
      "\n",
      "If you want XLA:CPU, do one of the following:\n",
      "\n",
      " - set the TF_XLA_FLAGS to include \"--tf_xla_cpu_global_jit\", or\n",
      " - set cpu_global_jit to true on this session's OptimizerOptions, or\n",
      " - use experimental_jit_scope, or\n",
      " - use tf.function(jit_compile=True).\n",
      "\n",
      "To confirm that XLA is active, pass --vmodule=xla_compilation_cache=1 (as a\n",
      "proper command-line flag, not via TF_XLA_FLAGS).\n",
      "2022-07-25 15:21:01.425072: I tensorflow/compiler/xla/service/service.cc:170] XLA service 0x7f036401a8a0 initialized for platform CUDA (this does not guarantee that XLA will be used). Devices:\n",
      "2022-07-25 15:21:01.425124: I tensorflow/compiler/xla/service/service.cc:178]   StreamExecutor device (0): NVIDIA RTX A4000, Compute Capability 8.6\n",
      "2022-07-25 15:21:01.442697: I tensorflow/compiler/mlir/tensorflow/utils/dump_mlir_util.cc:263] disabling MLIR crash reproducer, set env var `MLIR_CRASH_REPRODUCER_DIRECTORY` to enable.\n",
      "2022-07-25 15:21:02.415604: I tensorflow/stream_executor/cuda/cuda_dnn.cc:384] Loaded cuDNN version 8302\n",
      "2022-07-25 15:21:03.993133: W tensorflow/stream_executor/gpu/asm_compiler.cc:111] *** WARNING *** You are using ptxas 10.1.243, which is older than 11.1. ptxas before 11.1 is known to miscompile XLA code, leading to incorrect results or invalid-address errors.\n",
      "\n",
      "You may not need to update to CUDA 11.1; cherry-picking the ptxas binary is often sufficient.\n",
      "2022-07-25 15:21:03.997065: W tensorflow/stream_executor/gpu/asm_compiler.cc:230] Falling back to the CUDA driver for PTX compilation; ptxas does not support CC 8.6\n",
      "2022-07-25 15:21:03.997078: W tensorflow/stream_executor/gpu/asm_compiler.cc:233] Used ptxas at ptxas\n",
      "2022-07-25 15:21:03.997131: W tensorflow/stream_executor/gpu/redzone_allocator.cc:314] UNIMPLEMENTED: ptxas ptxas too old. Falling back to the driver to compile.\n",
      "Relying on driver to perform ptx compilation. \n",
      "Modify $PATH to customize ptxas location.\n",
      "This message will be only logged once.\n",
      "2022-07-25 15:21:04.008159: W tensorflow/stream_executor/gpu/asm_compiler.cc:111] *** WARNING *** You are using ptxas 10.1.243, which is older than 11.1. ptxas before 11.1 is known to miscompile XLA code, leading to incorrect results or invalid-address errors.\n",
      "\n",
      "You may not need to update to CUDA 11.1; cherry-picking the ptxas binary is often sufficient.\n",
      "2022-07-25 15:21:04.010487: W tensorflow/compiler/xla/service/gpu/buffer_comparator.cc:640] UNIMPLEMENTED: ptxas ptxas too old. Falling back to the driver to compile.\n",
      "Relying on driver to perform ptx compilation. \n",
      "Setting XLA_FLAGS=--xla_gpu_cuda_data_dir=/path/to/cuda  or modifying $PATH can be used to set the location of ptxas\n",
      "This message will only be logged once.\n",
      "2022-07-25 15:21:05.588810: I tensorflow/stream_executor/cuda/cuda_dnn.cc:5025] Disabling cuDNN frontend for the following convolution:\n",
      "  input: {count: 160 feature_map_count: 8 spatial: 1 109  value_min: 0.000000 value_max: 0.000000 layout: BatchDepthYX}\n",
      "  filter: {output_feature_map_count: 1 input_feature_map_count: 8 layout: OutputInputYX shape: 1 10 }\n",
      "  {zero_padding: 0 0  pad_alignment: default filter_strides: 1 1  dilation_rates: 1 1 }\n",
      "  ... because it uses an identity activation.\n",
      "2022-07-25 15:21:06.446563: W tensorflow/stream_executor/gpu/asm_compiler.cc:111] *** WARNING *** You are using ptxas 10.1.243, which is older than 11.1. ptxas before 11.1 is known to miscompile XLA code, leading to incorrect results or invalid-address errors.\n",
      "\n",
      "You may not need to update to CUDA 11.1; cherry-picking the ptxas binary is often sufficient.\n",
      "2022-07-25 15:21:06.454192: I tensorflow/compiler/jit/xla_compilation_cache.cc:478] Compiled cluster using XLA!  This line is logged at most once for the lifetime of the process.\n",
      "2022-07-25 15:21:13.178460: I tensorflow/stream_executor/cuda/cuda_dnn.cc:5025] Disabling cuDNN frontend for the following convolution:\n",
      "  input: {count: 8 feature_map_count: 32 spatial: 1 109  value_min: 0.000000 value_max: 0.000000 layout: BatchDepthYX}\n",
      "  filter: {output_feature_map_count: 1 input_feature_map_count: 32 layout: OutputInputYX shape: 1 10 }\n",
      "  {zero_padding: 0 0  pad_alignment: default filter_strides: 1 1  dilation_rates: 1 1 }\n",
      "  ... because it uses an identity activation.\n",
      "2022-07-25 15:21:13.202039: I tensorflow/stream_executor/cuda/cuda_dnn.cc:5025] Disabling cuDNN frontend for the following convolution:\n",
      "  input: {count: 160 feature_map_count: 64 spatial: 1 809  value_min: 0.000000 value_max: 0.000000 layout: BatchDepthYX}\n",
      "  filter: {output_feature_map_count: 1 input_feature_map_count: 64 layout: OutputInputYX shape: 1 10 }\n",
      "  {zero_padding: 0 0  pad_alignment: default filter_strides: 1 1  dilation_rates: 1 1 }\n",
      "  ... because it uses an identity activation.\n",
      "2022-07-25 15:21:25.755986: W tensorflow/stream_executor/gpu/asm_compiler.cc:111] *** WARNING *** You are using ptxas 10.1.243, which is older than 11.1. ptxas before 11.1 is known to miscompile XLA code, leading to incorrect results or invalid-address errors.\n",
      "\n",
      "You may not need to update to CUDA 11.1; cherry-picking the ptxas binary is often sufficient.\n"
     ]
    },
    {
     "name": "stdout",
     "output_type": "stream",
     "text": [
      "  3/200 [..............................] - ETA: 13s - loss: 2.3136  "
     ]
    },
    {
     "name": "stderr",
     "output_type": "stream",
     "text": [
      "2022-07-25 15:21:27.683954: W tensorflow/stream_executor/gpu/asm_compiler.cc:111] *** WARNING *** You are using ptxas 10.1.243, which is older than 11.1. ptxas before 11.1 is known to miscompile XLA code, leading to incorrect results or invalid-address errors.\n",
      "\n",
      "You may not need to update to CUDA 11.1; cherry-picking the ptxas binary is often sufficient.\n"
     ]
    },
    {
     "name": "stdout",
     "output_type": "stream",
     "text": [
      "200/200 [==============================] - ETA: 0s - loss: 0.9806"
     ]
    },
    {
     "name": "stderr",
     "output_type": "stream",
     "text": [
      "2022-07-25 15:21:41.247375: W tensorflow/stream_executor/gpu/asm_compiler.cc:111] *** WARNING *** You are using ptxas 10.1.243, which is older than 11.1. ptxas before 11.1 is known to miscompile XLA code, leading to incorrect results or invalid-address errors.\n",
      "\n",
      "You may not need to update to CUDA 11.1; cherry-picking the ptxas binary is often sufficient.\n"
     ]
    },
    {
     "name": "stdout",
     "output_type": "stream",
     "text": [
      "200/200 [==============================] - 44s 70ms/step - loss: 0.9806 - val_loss: 0.9229\n",
      "Epoch 2/1000\n",
      "  2/200 [..............................] - ETA: 12s - loss: 0.8335"
     ]
    },
    {
     "name": "stderr",
     "output_type": "stream",
     "text": [
      "2022-07-25 15:21:41.710552: W tensorflow/stream_executor/gpu/asm_compiler.cc:111] *** WARNING *** You are using ptxas 10.1.243, which is older than 11.1. ptxas before 11.1 is known to miscompile XLA code, leading to incorrect results or invalid-address errors.\n",
      "\n",
      "You may not need to update to CUDA 11.1; cherry-picking the ptxas binary is often sufficient.\n"
     ]
    },
    {
     "name": "stdout",
     "output_type": "stream",
     "text": [
      "200/200 [==============================] - 12s 61ms/step - loss: 0.8030 - val_loss: 0.6018\n",
      "Epoch 3/1000\n",
      "200/200 [==============================] - 12s 61ms/step - loss: 0.7407 - val_loss: 0.6414\n",
      "Epoch 4/1000\n",
      "200/200 [==============================] - 12s 61ms/step - loss: 0.7238 - val_loss: 0.6224\n",
      "Epoch 5/1000\n",
      "200/200 [==============================] - 12s 61ms/step - loss: 0.6993 - val_loss: 0.4128\n",
      "Epoch 6/1000\n",
      "200/200 [==============================] - 12s 61ms/step - loss: 0.6898 - val_loss: 0.7032\n",
      "Epoch 7/1000\n",
      "200/200 [==============================] - 12s 61ms/step - loss: 0.6718 - val_loss: 0.4378\n",
      "Epoch 8/1000\n",
      "200/200 [==============================] - 12s 61ms/step - loss: 0.6680 - val_loss: 0.4582\n",
      "Epoch 9/1000\n",
      "200/200 [==============================] - 12s 61ms/step - loss: 0.6410 - val_loss: 0.6468\n",
      "Epoch 10/1000\n",
      " 15/200 [=>............................] - ETA: 11s - loss: 0.6159"
     ]
    },
    {
     "ename": "KeyboardInterrupt",
     "evalue": "",
     "output_type": "error",
     "traceback": [
      "\u001b[0;31m---------------------------------------------------------------------------\u001b[0m",
      "\u001b[0;31mKeyboardInterrupt\u001b[0m                         Traceback (most recent call last)",
      "Input \u001b[0;32mIn [14]\u001b[0m, in \u001b[0;36m<cell line: 2>\u001b[0;34m()\u001b[0m\n\u001b[1;32m      1\u001b[0m nepoch\u001b[38;5;241m=\u001b[39m\u001b[38;5;241m1000\u001b[39m\n\u001b[0;32m----> 2\u001b[0m history\u001b[38;5;241m=\u001b[39m\u001b[43mmodel\u001b[49m\u001b[38;5;241;43m.\u001b[39;49m\u001b[43mfit\u001b[49m\u001b[43m(\u001b[49m\u001b[43mXo_train\u001b[49m\u001b[43m,\u001b[49m\u001b[43m \u001b[49m\u001b[43mepochs\u001b[49m\u001b[38;5;241;43m=\u001b[39;49m\u001b[43mnepoch\u001b[49m\u001b[43m,\u001b[49m\u001b[43m \u001b[49m\u001b[43mvalidation_data\u001b[49m\u001b[38;5;241;43m=\u001b[39;49m\u001b[43mXo_test\u001b[49m\u001b[43m,\u001b[49m\u001b[43m \u001b[49m\u001b[43msteps_per_epoch\u001b[49m\u001b[38;5;241;43m=\u001b[39;49m\u001b[38;5;241;43m200\u001b[39;49m\u001b[43m,\u001b[49m\u001b[43m \u001b[49m\u001b[43mvalidation_steps\u001b[49m\u001b[38;5;241;43m=\u001b[39;49m\u001b[38;5;241;43m1\u001b[39;49m\u001b[43m)\u001b[49m\n",
      "File \u001b[0;32m~/software/anaconda/envs/MRA/lib/python3.9/site-packages/keras/utils/traceback_utils.py:64\u001b[0m, in \u001b[0;36mfilter_traceback.<locals>.error_handler\u001b[0;34m(*args, **kwargs)\u001b[0m\n\u001b[1;32m     62\u001b[0m filtered_tb \u001b[38;5;241m=\u001b[39m \u001b[38;5;28;01mNone\u001b[39;00m\n\u001b[1;32m     63\u001b[0m \u001b[38;5;28;01mtry\u001b[39;00m:\n\u001b[0;32m---> 64\u001b[0m   \u001b[38;5;28;01mreturn\u001b[39;00m \u001b[43mfn\u001b[49m\u001b[43m(\u001b[49m\u001b[38;5;241;43m*\u001b[39;49m\u001b[43margs\u001b[49m\u001b[43m,\u001b[49m\u001b[43m \u001b[49m\u001b[38;5;241;43m*\u001b[39;49m\u001b[38;5;241;43m*\u001b[39;49m\u001b[43mkwargs\u001b[49m\u001b[43m)\u001b[49m\n\u001b[1;32m     65\u001b[0m \u001b[38;5;28;01mexcept\u001b[39;00m \u001b[38;5;167;01mException\u001b[39;00m \u001b[38;5;28;01mas\u001b[39;00m e:  \u001b[38;5;66;03m# pylint: disable=broad-except\u001b[39;00m\n\u001b[1;32m     66\u001b[0m   filtered_tb \u001b[38;5;241m=\u001b[39m _process_traceback_frames(e\u001b[38;5;241m.\u001b[39m__traceback__)\n",
      "File \u001b[0;32m~/software/anaconda/envs/MRA/lib/python3.9/site-packages/keras/engine/training.py:1409\u001b[0m, in \u001b[0;36mModel.fit\u001b[0;34m(self, x, y, batch_size, epochs, verbose, callbacks, validation_split, validation_data, shuffle, class_weight, sample_weight, initial_epoch, steps_per_epoch, validation_steps, validation_batch_size, validation_freq, max_queue_size, workers, use_multiprocessing)\u001b[0m\n\u001b[1;32m   1402\u001b[0m \u001b[38;5;28;01mwith\u001b[39;00m tf\u001b[38;5;241m.\u001b[39mprofiler\u001b[38;5;241m.\u001b[39mexperimental\u001b[38;5;241m.\u001b[39mTrace(\n\u001b[1;32m   1403\u001b[0m     \u001b[38;5;124m'\u001b[39m\u001b[38;5;124mtrain\u001b[39m\u001b[38;5;124m'\u001b[39m,\n\u001b[1;32m   1404\u001b[0m     epoch_num\u001b[38;5;241m=\u001b[39mepoch,\n\u001b[1;32m   1405\u001b[0m     step_num\u001b[38;5;241m=\u001b[39mstep,\n\u001b[1;32m   1406\u001b[0m     batch_size\u001b[38;5;241m=\u001b[39mbatch_size,\n\u001b[1;32m   1407\u001b[0m     _r\u001b[38;5;241m=\u001b[39m\u001b[38;5;241m1\u001b[39m):\n\u001b[1;32m   1408\u001b[0m   callbacks\u001b[38;5;241m.\u001b[39mon_train_batch_begin(step)\n\u001b[0;32m-> 1409\u001b[0m   tmp_logs \u001b[38;5;241m=\u001b[39m \u001b[38;5;28;43mself\u001b[39;49m\u001b[38;5;241;43m.\u001b[39;49m\u001b[43mtrain_function\u001b[49m\u001b[43m(\u001b[49m\u001b[43miterator\u001b[49m\u001b[43m)\u001b[49m\n\u001b[1;32m   1410\u001b[0m   \u001b[38;5;28;01mif\u001b[39;00m data_handler\u001b[38;5;241m.\u001b[39mshould_sync:\n\u001b[1;32m   1411\u001b[0m     context\u001b[38;5;241m.\u001b[39masync_wait()\n",
      "File \u001b[0;32m~/software/anaconda/envs/MRA/lib/python3.9/site-packages/tensorflow/python/util/traceback_utils.py:150\u001b[0m, in \u001b[0;36mfilter_traceback.<locals>.error_handler\u001b[0;34m(*args, **kwargs)\u001b[0m\n\u001b[1;32m    148\u001b[0m filtered_tb \u001b[38;5;241m=\u001b[39m \u001b[38;5;28;01mNone\u001b[39;00m\n\u001b[1;32m    149\u001b[0m \u001b[38;5;28;01mtry\u001b[39;00m:\n\u001b[0;32m--> 150\u001b[0m   \u001b[38;5;28;01mreturn\u001b[39;00m \u001b[43mfn\u001b[49m\u001b[43m(\u001b[49m\u001b[38;5;241;43m*\u001b[39;49m\u001b[43margs\u001b[49m\u001b[43m,\u001b[49m\u001b[43m \u001b[49m\u001b[38;5;241;43m*\u001b[39;49m\u001b[38;5;241;43m*\u001b[39;49m\u001b[43mkwargs\u001b[49m\u001b[43m)\u001b[49m\n\u001b[1;32m    151\u001b[0m \u001b[38;5;28;01mexcept\u001b[39;00m \u001b[38;5;167;01mException\u001b[39;00m \u001b[38;5;28;01mas\u001b[39;00m e:\n\u001b[1;32m    152\u001b[0m   filtered_tb \u001b[38;5;241m=\u001b[39m _process_traceback_frames(e\u001b[38;5;241m.\u001b[39m__traceback__)\n",
      "File \u001b[0;32m~/software/anaconda/envs/MRA/lib/python3.9/site-packages/tensorflow/python/eager/def_function.py:915\u001b[0m, in \u001b[0;36mFunction.__call__\u001b[0;34m(self, *args, **kwds)\u001b[0m\n\u001b[1;32m    912\u001b[0m compiler \u001b[38;5;241m=\u001b[39m \u001b[38;5;124m\"\u001b[39m\u001b[38;5;124mxla\u001b[39m\u001b[38;5;124m\"\u001b[39m \u001b[38;5;28;01mif\u001b[39;00m \u001b[38;5;28mself\u001b[39m\u001b[38;5;241m.\u001b[39m_jit_compile \u001b[38;5;28;01melse\u001b[39;00m \u001b[38;5;124m\"\u001b[39m\u001b[38;5;124mnonXla\u001b[39m\u001b[38;5;124m\"\u001b[39m\n\u001b[1;32m    914\u001b[0m \u001b[38;5;28;01mwith\u001b[39;00m OptionalXlaContext(\u001b[38;5;28mself\u001b[39m\u001b[38;5;241m.\u001b[39m_jit_compile):\n\u001b[0;32m--> 915\u001b[0m   result \u001b[38;5;241m=\u001b[39m \u001b[38;5;28;43mself\u001b[39;49m\u001b[38;5;241;43m.\u001b[39;49m\u001b[43m_call\u001b[49m\u001b[43m(\u001b[49m\u001b[38;5;241;43m*\u001b[39;49m\u001b[43margs\u001b[49m\u001b[43m,\u001b[49m\u001b[43m \u001b[49m\u001b[38;5;241;43m*\u001b[39;49m\u001b[38;5;241;43m*\u001b[39;49m\u001b[43mkwds\u001b[49m\u001b[43m)\u001b[49m\n\u001b[1;32m    917\u001b[0m new_tracing_count \u001b[38;5;241m=\u001b[39m \u001b[38;5;28mself\u001b[39m\u001b[38;5;241m.\u001b[39mexperimental_get_tracing_count()\n\u001b[1;32m    918\u001b[0m without_tracing \u001b[38;5;241m=\u001b[39m (tracing_count \u001b[38;5;241m==\u001b[39m new_tracing_count)\n",
      "File \u001b[0;32m~/software/anaconda/envs/MRA/lib/python3.9/site-packages/tensorflow/python/eager/def_function.py:947\u001b[0m, in \u001b[0;36mFunction._call\u001b[0;34m(self, *args, **kwds)\u001b[0m\n\u001b[1;32m    944\u001b[0m   \u001b[38;5;28mself\u001b[39m\u001b[38;5;241m.\u001b[39m_lock\u001b[38;5;241m.\u001b[39mrelease()\n\u001b[1;32m    945\u001b[0m   \u001b[38;5;66;03m# In this case we have created variables on the first call, so we run the\u001b[39;00m\n\u001b[1;32m    946\u001b[0m   \u001b[38;5;66;03m# defunned version which is guaranteed to never create variables.\u001b[39;00m\n\u001b[0;32m--> 947\u001b[0m   \u001b[38;5;28;01mreturn\u001b[39;00m \u001b[38;5;28;43mself\u001b[39;49m\u001b[38;5;241;43m.\u001b[39;49m\u001b[43m_stateless_fn\u001b[49m\u001b[43m(\u001b[49m\u001b[38;5;241;43m*\u001b[39;49m\u001b[43margs\u001b[49m\u001b[43m,\u001b[49m\u001b[43m \u001b[49m\u001b[38;5;241;43m*\u001b[39;49m\u001b[38;5;241;43m*\u001b[39;49m\u001b[43mkwds\u001b[49m\u001b[43m)\u001b[49m  \u001b[38;5;66;03m# pylint: disable=not-callable\u001b[39;00m\n\u001b[1;32m    948\u001b[0m \u001b[38;5;28;01melif\u001b[39;00m \u001b[38;5;28mself\u001b[39m\u001b[38;5;241m.\u001b[39m_stateful_fn \u001b[38;5;129;01mis\u001b[39;00m \u001b[38;5;129;01mnot\u001b[39;00m \u001b[38;5;28;01mNone\u001b[39;00m:\n\u001b[1;32m    949\u001b[0m   \u001b[38;5;66;03m# Release the lock early so that multiple threads can perform the call\u001b[39;00m\n\u001b[1;32m    950\u001b[0m   \u001b[38;5;66;03m# in parallel.\u001b[39;00m\n\u001b[1;32m    951\u001b[0m   \u001b[38;5;28mself\u001b[39m\u001b[38;5;241m.\u001b[39m_lock\u001b[38;5;241m.\u001b[39mrelease()\n",
      "File \u001b[0;32m~/software/anaconda/envs/MRA/lib/python3.9/site-packages/tensorflow/python/eager/function.py:2453\u001b[0m, in \u001b[0;36mFunction.__call__\u001b[0;34m(self, *args, **kwargs)\u001b[0m\n\u001b[1;32m   2450\u001b[0m \u001b[38;5;28;01mwith\u001b[39;00m \u001b[38;5;28mself\u001b[39m\u001b[38;5;241m.\u001b[39m_lock:\n\u001b[1;32m   2451\u001b[0m   (graph_function,\n\u001b[1;32m   2452\u001b[0m    filtered_flat_args) \u001b[38;5;241m=\u001b[39m \u001b[38;5;28mself\u001b[39m\u001b[38;5;241m.\u001b[39m_maybe_define_function(args, kwargs)\n\u001b[0;32m-> 2453\u001b[0m \u001b[38;5;28;01mreturn\u001b[39;00m \u001b[43mgraph_function\u001b[49m\u001b[38;5;241;43m.\u001b[39;49m\u001b[43m_call_flat\u001b[49m\u001b[43m(\u001b[49m\n\u001b[1;32m   2454\u001b[0m \u001b[43m    \u001b[49m\u001b[43mfiltered_flat_args\u001b[49m\u001b[43m,\u001b[49m\u001b[43m \u001b[49m\u001b[43mcaptured_inputs\u001b[49m\u001b[38;5;241;43m=\u001b[39;49m\u001b[43mgraph_function\u001b[49m\u001b[38;5;241;43m.\u001b[39;49m\u001b[43mcaptured_inputs\u001b[49m\u001b[43m)\u001b[49m\n",
      "File \u001b[0;32m~/software/anaconda/envs/MRA/lib/python3.9/site-packages/tensorflow/python/eager/function.py:1860\u001b[0m, in \u001b[0;36mConcreteFunction._call_flat\u001b[0;34m(self, args, captured_inputs, cancellation_manager)\u001b[0m\n\u001b[1;32m   1856\u001b[0m possible_gradient_type \u001b[38;5;241m=\u001b[39m gradients_util\u001b[38;5;241m.\u001b[39mPossibleTapeGradientTypes(args)\n\u001b[1;32m   1857\u001b[0m \u001b[38;5;28;01mif\u001b[39;00m (possible_gradient_type \u001b[38;5;241m==\u001b[39m gradients_util\u001b[38;5;241m.\u001b[39mPOSSIBLE_GRADIENT_TYPES_NONE\n\u001b[1;32m   1858\u001b[0m     \u001b[38;5;129;01mand\u001b[39;00m executing_eagerly):\n\u001b[1;32m   1859\u001b[0m   \u001b[38;5;66;03m# No tape is watching; skip to running the function.\u001b[39;00m\n\u001b[0;32m-> 1860\u001b[0m   \u001b[38;5;28;01mreturn\u001b[39;00m \u001b[38;5;28mself\u001b[39m\u001b[38;5;241m.\u001b[39m_build_call_outputs(\u001b[38;5;28;43mself\u001b[39;49m\u001b[38;5;241;43m.\u001b[39;49m\u001b[43m_inference_function\u001b[49m\u001b[38;5;241;43m.\u001b[39;49m\u001b[43mcall\u001b[49m\u001b[43m(\u001b[49m\n\u001b[1;32m   1861\u001b[0m \u001b[43m      \u001b[49m\u001b[43mctx\u001b[49m\u001b[43m,\u001b[49m\u001b[43m \u001b[49m\u001b[43margs\u001b[49m\u001b[43m,\u001b[49m\u001b[43m \u001b[49m\u001b[43mcancellation_manager\u001b[49m\u001b[38;5;241;43m=\u001b[39;49m\u001b[43mcancellation_manager\u001b[49m\u001b[43m)\u001b[49m)\n\u001b[1;32m   1862\u001b[0m forward_backward \u001b[38;5;241m=\u001b[39m \u001b[38;5;28mself\u001b[39m\u001b[38;5;241m.\u001b[39m_select_forward_and_backward_functions(\n\u001b[1;32m   1863\u001b[0m     args,\n\u001b[1;32m   1864\u001b[0m     possible_gradient_type,\n\u001b[1;32m   1865\u001b[0m     executing_eagerly)\n\u001b[1;32m   1866\u001b[0m forward_function, args_with_tangents \u001b[38;5;241m=\u001b[39m forward_backward\u001b[38;5;241m.\u001b[39mforward()\n",
      "File \u001b[0;32m~/software/anaconda/envs/MRA/lib/python3.9/site-packages/tensorflow/python/eager/function.py:497\u001b[0m, in \u001b[0;36m_EagerDefinedFunction.call\u001b[0;34m(self, ctx, args, cancellation_manager)\u001b[0m\n\u001b[1;32m    495\u001b[0m \u001b[38;5;28;01mwith\u001b[39;00m _InterpolateFunctionError(\u001b[38;5;28mself\u001b[39m):\n\u001b[1;32m    496\u001b[0m   \u001b[38;5;28;01mif\u001b[39;00m cancellation_manager \u001b[38;5;129;01mis\u001b[39;00m \u001b[38;5;28;01mNone\u001b[39;00m:\n\u001b[0;32m--> 497\u001b[0m     outputs \u001b[38;5;241m=\u001b[39m \u001b[43mexecute\u001b[49m\u001b[38;5;241;43m.\u001b[39;49m\u001b[43mexecute\u001b[49m\u001b[43m(\u001b[49m\n\u001b[1;32m    498\u001b[0m \u001b[43m        \u001b[49m\u001b[38;5;28;43mstr\u001b[39;49m\u001b[43m(\u001b[49m\u001b[38;5;28;43mself\u001b[39;49m\u001b[38;5;241;43m.\u001b[39;49m\u001b[43msignature\u001b[49m\u001b[38;5;241;43m.\u001b[39;49m\u001b[43mname\u001b[49m\u001b[43m)\u001b[49m\u001b[43m,\u001b[49m\n\u001b[1;32m    499\u001b[0m \u001b[43m        \u001b[49m\u001b[43mnum_outputs\u001b[49m\u001b[38;5;241;43m=\u001b[39;49m\u001b[38;5;28;43mself\u001b[39;49m\u001b[38;5;241;43m.\u001b[39;49m\u001b[43m_num_outputs\u001b[49m\u001b[43m,\u001b[49m\n\u001b[1;32m    500\u001b[0m \u001b[43m        \u001b[49m\u001b[43minputs\u001b[49m\u001b[38;5;241;43m=\u001b[39;49m\u001b[43margs\u001b[49m\u001b[43m,\u001b[49m\n\u001b[1;32m    501\u001b[0m \u001b[43m        \u001b[49m\u001b[43mattrs\u001b[49m\u001b[38;5;241;43m=\u001b[39;49m\u001b[43mattrs\u001b[49m\u001b[43m,\u001b[49m\n\u001b[1;32m    502\u001b[0m \u001b[43m        \u001b[49m\u001b[43mctx\u001b[49m\u001b[38;5;241;43m=\u001b[39;49m\u001b[43mctx\u001b[49m\u001b[43m)\u001b[49m\n\u001b[1;32m    503\u001b[0m   \u001b[38;5;28;01melse\u001b[39;00m:\n\u001b[1;32m    504\u001b[0m     outputs \u001b[38;5;241m=\u001b[39m execute\u001b[38;5;241m.\u001b[39mexecute_with_cancellation(\n\u001b[1;32m    505\u001b[0m         \u001b[38;5;28mstr\u001b[39m(\u001b[38;5;28mself\u001b[39m\u001b[38;5;241m.\u001b[39msignature\u001b[38;5;241m.\u001b[39mname),\n\u001b[1;32m    506\u001b[0m         num_outputs\u001b[38;5;241m=\u001b[39m\u001b[38;5;28mself\u001b[39m\u001b[38;5;241m.\u001b[39m_num_outputs,\n\u001b[0;32m   (...)\u001b[0m\n\u001b[1;32m    509\u001b[0m         ctx\u001b[38;5;241m=\u001b[39mctx,\n\u001b[1;32m    510\u001b[0m         cancellation_manager\u001b[38;5;241m=\u001b[39mcancellation_manager)\n",
      "File \u001b[0;32m~/software/anaconda/envs/MRA/lib/python3.9/site-packages/tensorflow/python/eager/execute.py:54\u001b[0m, in \u001b[0;36mquick_execute\u001b[0;34m(op_name, num_outputs, inputs, attrs, ctx, name)\u001b[0m\n\u001b[1;32m     52\u001b[0m \u001b[38;5;28;01mtry\u001b[39;00m:\n\u001b[1;32m     53\u001b[0m   ctx\u001b[38;5;241m.\u001b[39mensure_initialized()\n\u001b[0;32m---> 54\u001b[0m   tensors \u001b[38;5;241m=\u001b[39m \u001b[43mpywrap_tfe\u001b[49m\u001b[38;5;241;43m.\u001b[39;49m\u001b[43mTFE_Py_Execute\u001b[49m\u001b[43m(\u001b[49m\u001b[43mctx\u001b[49m\u001b[38;5;241;43m.\u001b[39;49m\u001b[43m_handle\u001b[49m\u001b[43m,\u001b[49m\u001b[43m \u001b[49m\u001b[43mdevice_name\u001b[49m\u001b[43m,\u001b[49m\u001b[43m \u001b[49m\u001b[43mop_name\u001b[49m\u001b[43m,\u001b[49m\n\u001b[1;32m     55\u001b[0m \u001b[43m                                      \u001b[49m\u001b[43minputs\u001b[49m\u001b[43m,\u001b[49m\u001b[43m \u001b[49m\u001b[43mattrs\u001b[49m\u001b[43m,\u001b[49m\u001b[43m \u001b[49m\u001b[43mnum_outputs\u001b[49m\u001b[43m)\u001b[49m\n\u001b[1;32m     56\u001b[0m \u001b[38;5;28;01mexcept\u001b[39;00m core\u001b[38;5;241m.\u001b[39m_NotOkStatusException \u001b[38;5;28;01mas\u001b[39;00m e:\n\u001b[1;32m     57\u001b[0m   \u001b[38;5;28;01mif\u001b[39;00m name \u001b[38;5;129;01mis\u001b[39;00m \u001b[38;5;129;01mnot\u001b[39;00m \u001b[38;5;28;01mNone\u001b[39;00m:\n",
      "\u001b[0;31mKeyboardInterrupt\u001b[0m: "
     ]
    }
   ],
   "source": [
    "nepoch=1000\n",
    "history=model.fit(Xo_train, epochs=nepoch, validation_data=Xo_test, steps_per_epoch=200, validation_steps=1)"
   ]
  },
  {
   "cell_type": "code",
   "execution_count": 16,
   "id": "23889f9c-de6d-43a3-aae0-01a841be5dc0",
   "metadata": {},
   "outputs": [
    {
     "ename": "NameError",
     "evalue": "name 'z0mix' is not defined",
     "output_type": "error",
     "traceback": [
      "\u001b[0;31m---------------------------------------------------------------------------\u001b[0m",
      "\u001b[0;31mNameError\u001b[0m                                 Traceback (most recent call last)",
      "Input \u001b[0;32mIn [16]\u001b[0m, in \u001b[0;36m<cell line: 7>\u001b[0;34m()\u001b[0m\n\u001b[1;32m      5\u001b[0m plt\u001b[38;5;241m.\u001b[39mplot(z01[\u001b[38;5;241m0\u001b[39m])\n\u001b[1;32m      6\u001b[0m plt\u001b[38;5;241m.\u001b[39mplot(z02[\u001b[38;5;241m0\u001b[39m])\n\u001b[0;32m----> 7\u001b[0m plt\u001b[38;5;241m.\u001b[39mplot(\u001b[43mz0mix\u001b[49m[\u001b[38;5;241m0\u001b[39m])\n",
      "\u001b[0;31mNameError\u001b[0m: name 'z0mix' is not defined"
     ]
    },
    {
     "data": {
      "image/png": "[encoded data removed]",
      "text/plain": [
       "<Figure size 1080x144 with 1 Axes>"
      ]
     },
     "metadata": {},
     "output_type": "display_data"
    }
   ],
   "source": [
    "# z01=model.symencoder.predict(np.array([dsyn1,]), batch_size=1)\n",
    "z01=model.symencoder(np.array([dsyn1,]))\n",
    "z02=model.symencoder(np.array([dsyn2,]))\n",
    "# z0mix=model.symencoder(np.array([dsyn_mix,]))\n",
    "plt.plot(z01[0])\n",
    "plt.plot(z02[0])\n",
    "plt.plot(z0mix[0])"
   ]
  },
  {
   "cell_type": "code",
   "execution_count": 17,
   "id": "8c46d804-428c-41b7-a61b-42712025d108",
   "metadata": {},
   "outputs": [],
   "source": [
    "def fuse(z, W):\n",
    "    Grepeat = np.array([np.repeat(z, W.shape[1], axis=0)])\n",
    "    Z = np.concatenate((Grepeat, W), axis=2)\n",
    "    return model.decoder(Z)[0].numpy()\n",
    "    "
   ]
  },
  {
   "cell_type": "code",
   "execution_count": 18,
   "id": "402375a0-6e4c-4b34-97e0-8d96eaf49308",
   "metadata": {},
   "outputs": [],
   "source": [
    "W1=model.nencoder(np.array([dsyn1]));\n",
    "W2=model.nencoder(np.array([dsyn2]));\n",
    "# Wmix=model.nencoder(dsyn_mix);"
   ]
  },
  {
   "cell_type": "code",
   "execution_count": 19,
   "id": "3598f7ea-2bf0-42ea-8b3a-4546a8de5bde",
   "metadata": {},
   "outputs": [],
   "source": [
    "# check reconstruction\n",
    "dsyn1hat = fuse(z01, W1)\n",
    "dsyn2hat = fuse(z02, W2)\n",
    "# dsynmixhat = fuse(z0mix, Wmix)"
   ]
  },
  {
   "cell_type": "code",
   "execution_count": 20,
   "id": "1b0d893e-3de2-4ea2-a7dc-8a2885778225",
   "metadata": {},
   "outputs": [],
   "source": [
    "# virtual; redatum source 2 to state 1\n",
    "dsyn21=signal.convolve(p1,s2.reshape(1,-1),'same') #convolution(source*path)\n",
    "dsyn21=dsyn21/np.std(dsyn21, axis=1, keepdims=True) #normailised data\n",
    "dsyn21hat = fuse(z02, W1)\n",
    "\n",
    "dsyn21hat=dsyn21hat/np.std(dsyn21hat, axis=1, keepdims=True) #normailised data\n",
    "\n",
    "# dsyn1mixhat = fuse(z0mix, W1)"
   ]
  },
  {
   "cell_type": "code",
   "execution_count": 21,
   "id": "e2ad8935-dcf7-43fa-81c6-f0c88f7f7980",
   "metadata": {},
   "outputs": [],
   "source": [
    "dsyn12hat = fuse(z01, W2)\n",
    "dsyn12=signal.convolve(p2,s1.reshape(1,-1),'same') #convolution(source*path)\n",
    "dsyn12=dsyn12/np.std(dsyn12, axis=1, keepdims=True) #normailised data\n",
    "dsyn12hat=dsyn12hat/np.std(dsyn12hat, axis=1, keepdims=True) #normailised data\n",
    "\n",
    "# dsyn2mixhat = fuse(z0mix, W2)"
   ]
  },
  {
   "cell_type": "code",
   "execution_count": 22,
   "id": "d1699629-7a40-4485-8a60-d31e661e8b61",
   "metadata": {},
   "outputs": [],
   "source": [
    "\n",
    "# # virtual; redatum sources 1 and 2 to state 3\n",
    "# Grepeat = np.repeat(z01, len(Wmix), axis=0)\n",
    "# Z = np.concatenate((Grepeat, Wmix), axis=1)\n",
    "# dsyn1mixhat = model.decoder(Z)  # virtual trace\n",
    "\n",
    "# Grepeat = np.repeat(z02, len(Wmix), axis=0)\n",
    "# Z = np.concatenate((Grepeat, Wmix), axis=1)\n",
    "# dsyn2mixhat = model.decoder(Z)  # virtual trace"
   ]
  },
  {
   "cell_type": "code",
   "execution_count": 23,
   "id": "5d0a1eca-4cea-43dc-a344-3961ccba2cb6",
   "metadata": {},
   "outputs": [
    {
     "data": {
      "text/plain": [
       "(1000, 800)"
      ]
     },
     "execution_count": 23,
     "metadata": {},
     "output_type": "execute_result"
    }
   ],
   "source": [
    "dsyn21hat.shape"
   ]
  },
  {
   "cell_type": "code",
   "execution_count": 24,
   "id": "c0d051e9-842e-44c0-b67b-bfbc3173346f",
   "metadata": {},
   "outputs": [
    {
     "name": "stdout",
     "output_type": "stream",
     "text": [
      "1.4834883 1.4488984\n"
     ]
    }
   ],
   "source": [
    "# redatuming mse\n",
    "\n",
    "mse = tf.keras.losses.MeanSquaredError()\n",
    "print(mse(dsyn12, dsyn12hat).numpy(), mse(dsyn21, dsyn21hat).numpy())"
   ]
  },
  {
   "cell_type": "code",
   "execution_count": 25,
   "id": "3ec219c5-57af-428b-ba17-bf94542bd80d",
   "metadata": {},
   "outputs": [
    {
     "name": "stdout",
     "output_type": "stream",
     "text": [
      "1.4834883 1.4488984\n"
     ]
    }
   ],
   "source": [
    "# redatuming mse\n",
    "print(mse(dsyn12, dsyn12hat).numpy(), mse(dsyn21, dsyn21hat).numpy())"
   ]
  },
  {
   "cell_type": "code",
   "execution_count": 26,
   "id": "8a80cd91-fbcd-4f91-9643-6e5e5aab3a17",
   "metadata": {},
   "outputs": [
    {
     "name": "stdout",
     "output_type": "stream",
     "text": [
      "1.4834883 1.4488984\n"
     ]
    }
   ],
   "source": [
    "# redatuming mse\n",
    "print(mse(dsyn12, dsyn12hat).numpy(), mse(dsyn21, dsyn21hat).numpy())"
   ]
  },
  {
   "cell_type": "code",
   "execution_count": 27,
   "id": "a9c65d50-6e75-49b8-ae98-81371f72183f",
   "metadata": {},
   "outputs": [],
   "source": [
    "i=np.random.randint(nsamp)"
   ]
  },
  {
   "cell_type": "code",
   "execution_count": 28,
   "id": "7032544b-8de9-43b6-b49e-e59c66e5f68f",
   "metadata": {},
   "outputs": [
    {
     "data": {
      "text/plain": [
       "<matplotlib.legend.Legend at 0x7f040012c4f0>"
      ]
     },
     "execution_count": 28,
     "metadata": {},
     "output_type": "execute_result"
    },
    {
     "data": {
      "image/png": "[encoded data removed]",
      "text/plain": [
       "<Figure size 1080x144 with 1 Axes>"
      ]
     },
     "metadata": {},
     "output_type": "display_data"
    }
   ],
   "source": [
    "plt.plot(dsyn1[i], label='$x_{1}$', linestyle='dashed', linewidth=4)\n",
    "plt.plot(dsyn1hat[i], label='$\\hat{x}_1$', linewidth=2, )\n",
    "plt.plot(dsyn21hat[i], label='$\\hat{x}_{1\\longrightarrow 2}$', linewidth=2  )\n",
    "plt.plot(dsyn21[i], label='${x}_{1 \\longrightarrow 2}$', linewidth=2  )\n",
    "# plt.plot(dsyn1mixhat[i], label='$\\hat{x}_{mix \\longrightarrow 1}$', linewidth=2  )\n",
    "plt.title(\"redatuming mse: \"+ str(mse(dsyn21hat[i], dsyn21[i]).numpy()))\n",
    "plt.legend()"
   ]
  },
  {
   "cell_type": "code",
   "execution_count": 29,
   "id": "fa6b2989-f55a-41b3-a7b7-40cee2c84fed",
   "metadata": {},
   "outputs": [
    {
     "data": {
      "text/plain": [
       "<matplotlib.legend.Legend at 0x7f03e8782d90>"
      ]
     },
     "execution_count": 29,
     "metadata": {},
     "output_type": "execute_result"
    },
    {
     "data": {
      "image/png": "[encoded data removed]",
      "text/plain": [
       "<Figure size 1080x144 with 1 Axes>"
      ]
     },
     "metadata": {},
     "output_type": "display_data"
    }
   ],
   "source": [
    "plt.plot(dsyn2[i], label='$x_{2}$', linestyle='dashed', linewidth=4)\n",
    "plt.plot(dsyn2hat[i], label='$\\hat{x}_2$', linewidth=2, )\n",
    "plt.plot(dsyn12hat[i], label='$\\hat{x}_{2\\longrightarrow 1}$', linewidth=2  )\n",
    "plt.plot(dsyn12[i], label='${x}_{2\\longrightarrow 1}$', linewidth=2  )\n",
    "# plt.plot(dsyn2mixhat[i], label='$\\hat{x}_{mix\\longrightarrow 2}$', linewidth=2  )\n",
    "plt.title(\"redatuming mse: \"+ str(mse(dsyn12hat[i], dsyn12[i]).numpy()))\n",
    "plt.legend()"
   ]
  },
  {
   "cell_type": "code",
   "execution_count": null,
   "id": "5641baf4-e6eb-4d47-bd0a-dbf1c7c4565c",
   "metadata": {},
   "outputs": [],
   "source": []
  },
  {
   "cell_type": "code",
   "execution_count": null,
   "id": "bf9d5969-b01b-457d-90eb-50b954a6ef91",
   "metadata": {},
   "outputs": [],
   "source": []
  },
  {
   "cell_type": "code",
   "execution_count": null,
   "id": "a575d0e5-6a87-433f-90c1-891c10a65b24",
   "metadata": {},
   "outputs": [],
   "source": [
    "plt.plot(p1[i], label=\"nuisance in state 1\")\n",
    "plt.plot(p2[i], label=\"nuisance in state 2\")\n",
    "plt.plot(dsyn_mix[i], label=\"nuisance in state 2\")\n",
    "plt.legend()"
   ]
  },
  {
   "cell_type": "code",
   "execution_count": null,
   "id": "52c61ffb-fbfd-478f-905e-8d837fb5cda2",
   "metadata": {},
   "outputs": [],
   "source": [
    "plt.plot(dsyn1[i], label='$x_{1}$', linestyle='dashed', linewidth=4)\n",
    "plt.plot(dsyn1mixhat[i], label='$\\hat{x}_1$', linewidth=2, )\n",
    "plt.plot(dsyn2mixhat[i], label='$\\hat{x}_{1\\longrightarrow 2}$', linewidth=2  )\n",
    "# plt.plot(dsyn1mixhat[i], label='$\\hat{x}_{mix \\longrightarrow 1}$', linewidth=2  )\n",
    "plt.legend()\n"
   ]
  },
  {
   "cell_type": "code",
   "execution_count": null,
   "id": "1b290f6b-ed02-476d-a60d-f35413f21530",
   "metadata": {},
   "outputs": [],
   "source": [
    "# i=np.random.randint(nsamp)\n",
    "s1out=[]\n",
    "for i in range(nsamp):\n",
    "    ii=np.nonzero(pmix[i])[0][0]\n",
    "    s1out.append(np.roll(dsyn1mixhat[i], nt//2-ii) / dsyn_mix[i, ii])\n",
    "s1out=np.mean((np.array(s1out)), axis=0)\n",
    "s1out[nt//2]=0.0\n",
    "plt.plot(s1out)\n"
   ]
  },
  {
   "cell_type": "code",
   "execution_count": null,
   "id": "8abf18df-a52b-4835-b114-d9743307de93",
   "metadata": {},
   "outputs": [],
   "source": [
    "\n",
    "s2out=[]\n",
    "for i in range(nsamp):\n",
    "    ii=np.nonzero(pmix[i])[0][0]\n",
    "    s2out.append(np.roll(dsyn2mixhat[i], nt//2-ii) / dsyn_mix[i, ii])\n",
    "s2out=np.mean((np.array(s2out)), axis=0)\n",
    "s2out[nt//2]=0.0\n",
    "plt.plot(s2out)"
   ]
  },
  {
   "cell_type": "markdown",
   "id": "ec1478c1-197c-4b68-bdb3-f38a78b1f2d4",
   "metadata": {},
   "source": [
    "* When we go to state 3; we are supposed \n",
    "* States 1 and 2 are the measurements; State 3 is a synthetic state, where we used an impulsive source/\n",
    "* Redatuming to state 3 means deconvolution --> towards superresolution and resolving\n",
    "* Assumption are convolutional model. Note that its hard to compress third state. I had to increase q just because of state 3; "
   ]
  },
  {
   "cell_type": "code",
   "execution_count": null,
   "id": "80baa6e8-bb75-4a4c-9b0b-33ba1aabb725",
   "metadata": {},
   "outputs": [],
   "source": [
    "plt.plot(dsyn_mix[i], label='$x_{mix}$', linestyle='dashed', linewidth=4)\n",
    "plt.plot(dsynmixhat[i], label='$\\hat{x}_{mix}$', linewidth=2, )\n",
    "plt.legend()"
   ]
  },
  {
   "cell_type": "code",
   "execution_count": null,
   "id": "c83ac026-de1b-47ce-a328-74028249306e",
   "metadata": {},
   "outputs": [],
   "source": [
    "for i in range(100):\n",
    "    plt.plot(np.array(model.symencoder(np.array([dsyn1[i:i+1,:],]))).T)"
   ]
  },
  {
   "cell_type": "code",
   "execution_count": null,
   "id": "89a68c1c-5701-48d0-a806-e188189126a7",
   "metadata": {},
   "outputs": [],
   "source": [
    "\n",
    "\n",
    "plt.plot(np.array(model.symencoder(np.array([dsyn1[1:4,:],]))).T)"
   ]
  },
  {
   "cell_type": "code",
   "execution_count": null,
   "id": "687067b1-a051-4e0a-93f0-4be0320b39ce",
   "metadata": {},
   "outputs": [],
   "source": []
  },
  {
   "cell_type": "code",
   "execution_count": null,
   "id": "f104bd65-8fc8-40ea-ba83-1f9fd0ca78dd",
   "metadata": {},
   "outputs": [],
   "source": []
  }
 ],
 "metadata": {
  "kernelspec": {
   "display_name": "Python 3 (ipykernel)",
   "language": "python",
   "name": "python3"
  },
  "language_info": {
   "codemirror_mode": {
    "name": "ipython",
    "version": 3
   },
   "file_extension": ".py",
   "mimetype": "text/x-python",
   "name": "python",
   "nbconvert_exporter": "python",
   "pygments_lexer": "ipython3",
   "version": "3.9.12"
  }
 },
 "nbformat": 4,
 "nbformat_minor": 5
}
