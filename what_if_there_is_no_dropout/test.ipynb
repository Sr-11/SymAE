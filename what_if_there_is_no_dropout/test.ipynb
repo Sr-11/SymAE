{
 "cells": [
  {
   "cell_type": "code",
   "execution_count": 14,
   "id": "ef54931c-fb39-43dd-acdf-f2a7c17fad1d",
   "metadata": {},
   "outputs": [],
   "source": [
    "from datetime import datetime\n",
    "now = datetime.now()\n",
    "t = now.strftime(\"%B%d\")"
   ]
  },
  {
   "cell_type": "code",
   "execution_count": 15,
   "id": "3199bfc9-8dbf-4271-ac6e-93a46bad09b0",
   "metadata": {},
   "outputs": [
    {
     "data": {
      "text/plain": [
       "'June10'"
      ]
     },
     "execution_count": 15,
     "metadata": {},
     "output_type": "execute_result"
    }
   ],
   "source": [
    "t"
   ]
  },
  {
   "cell_type": "code",
   "execution_count": 4,
   "id": "e8d833b9-20f1-4ac1-8bf8-0fbcf448e09f",
   "metadata": {},
   "outputs": [
    {
     "data": {
      "text/plain": [
       "6"
      ]
     },
     "execution_count": 4,
     "metadata": {},
     "output_type": "execute_result"
    }
   ],
   "source": [
    "today.month"
   ]
  },
  {
   "cell_type": "code",
   "execution_count": 5,
   "id": "99fcf1d0-3840-41cd-99d3-248d0eccdbbd",
   "metadata": {},
   "outputs": [
    {
     "data": {
      "text/plain": [
       "10"
      ]
     },
     "execution_count": 5,
     "metadata": {},
     "output_type": "execute_result"
    }
   ],
   "source": [
    "today.day"
   ]
  },
  {
   "cell_type": "code",
   "execution_count": 16,
   "id": "71b23a5b-ed0b-4a4c-b6c7-fcdaa5323538",
   "metadata": {},
   "outputs": [
    {
     "data": {
      "text/plain": [
       "'11'"
      ]
     },
     "execution_count": 16,
     "metadata": {},
     "output_type": "execute_result"
    }
   ],
   "source": [
    "'1'+'1'"
   ]
  },
  {
   "cell_type": "code",
   "execution_count": null,
   "id": "221288dc-f40a-4bce-b297-464e22fee759",
   "metadata": {},
   "outputs": [],
   "source": []
  }
 ],
 "metadata": {
  "kernelspec": {
   "display_name": "Python 3 (ipykernel)",
   "language": "python",
   "name": "python3"
  },
  "language_info": {
   "codemirror_mode": {
    "name": "ipython",
    "version": 3
   },
   "file_extension": ".py",
   "mimetype": "text/x-python",
   "name": "python",
   "nbconvert_exporter": "python",
   "pygments_lexer": "ipython3",
   "version": "3.9.12"
  }
 },
 "nbformat": 4,
 "nbformat_minor": 5
}
