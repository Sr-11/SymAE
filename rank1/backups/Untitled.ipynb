{
 "cells": [
  {
   "cell_type": "code",
   "execution_count": null,
   "id": "c1a68fb5-7645-41c2-95fd-7ee2dbbb115f",
   "metadata": {},
   "outputs": [],
   "source": [
    "def CEnc(Array_1D_len_nt,j=-1):\n",
    "    return model.sym_encoder.predict(Array_1D_len_nt[np.newaxis, :, np.newaxis],verbose=0)[0,:]\n",
    "def NEnc(Array_1D_len_nt,j):\n",
    "    return model.nui_encoder.predict(Array_1D_len_nt[np.newaxis, :, np.newaxis],verbose=0)[0,j*q : (j+1)*q]"
   ]
  }
 ],
 "metadata": {
  "kernelspec": {
   "display_name": "Python 3 (ipykernel)",
   "language": "python",
   "name": "python3"
  },
  "language_info": {
   "name": ""
  }
 },
 "nbformat": 4,
 "nbformat_minor": 5
}
