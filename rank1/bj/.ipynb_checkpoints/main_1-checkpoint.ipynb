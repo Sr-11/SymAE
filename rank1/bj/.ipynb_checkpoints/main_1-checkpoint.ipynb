{
 "cells": [
  {
   "cell_type": "markdown",
   "id": "653c0a99-d178-4121-b9ce-ede762fdd228",
   "metadata": {
    "tags": []
   },
   "source": [
    "# Rank-1 Introduction"
   ]
  },
  {
   "cell_type": "markdown",
   "id": "be705430-ca48-4b06-b2e7-e45f376e4c1b",
   "metadata": {
    "tags": []
   },
   "source": [
    "# Import packages"
   ]
  },
  {
   "cell_type": "markdown",
   "id": "d8e44961-2ccf-4ece-91c8-3ea6d55ae695",
   "metadata": {
    "tags": []
   },
   "source": [
    "### Import python packages"
   ]
  },
  {
   "cell_type": "code",
   "execution_count": 1,
   "id": "79464c78-90d9-4773-9e3b-b9e4f822c9dc",
   "metadata": {},
   "outputs": [],
   "source": [
    "import re, os\n",
    "import numpy as np\n",
    "import tensorflow as tf\n",
    "import matplotlib.pyplot as plt\n",
    "from IPython.display import clear_output\n",
    "import pandas as pd\n",
    "import math\n",
    "import random\n",
    "from tqdm import trange\n",
    "import matplotlib.colors as mcolors\n",
    "from sklearn.decomposition import PCA\n",
    "import plotly.express as px\n",
    "import plotly.graph_objects as go\n",
    "tfk = tf.keras\n",
    "tfkl = tf.keras.layers\n",
    "tfkltd= tf.keras.layers.TimeDistributed\n",
    "clear_output()\n",
    "os.environ[\"CUDA_VISIBLE_DEVICES\"] = \"6\""
   ]
  },
  {
   "cell_type": "markdown",
   "id": "3f89dd1f-f051-49f8-9098-7ce140285bf1",
   "metadata": {
    "tags": []
   },
   "source": [
    "### Import custom packages"
   ]
  },
  {
   "cell_type": "code",
   "execution_count": 2,
   "id": "ec2f6e4f-a152-4ccf-8a01-4bcdd632fcbd",
   "metadata": {},
   "outputs": [],
   "source": [
    "from generate import generate\n",
    "from plot_training import plot_training"
   ]
  },
  {
   "cell_type": "markdown",
   "id": "331a3efd-bbec-4b17-9959-29a0230b8c90",
   "metadata": {
    "tags": []
   },
   "source": [
    "# Generate the Dataset"
   ]
  },
  {
   "cell_type": "markdown",
   "id": "7058abe7-f44b-4ac2-9094-e3eade1dd0b3",
   "metadata": {
    "tags": []
   },
   "source": [
    "### Set parameters"
   ]
  },
  {
   "cell_type": "code",
   "execution_count": 3,
   "id": "d22a959b-8479-4d61-87fb-018bc497ac18",
   "metadata": {},
   "outputs": [],
   "source": [
    "n1 = 10    #n1 etats uniques\n",
    "n2 = 100    #n2 nuisances uniques\n",
    "nx = 20  # nombre de etats (pas uniques) dans la matrice X\n",
    "nt = 45  # n_tau, c'est le nombre de blocs pris d'une colonne de D\n",
    "p = 2   # dimension de l'espace latent coherent\n",
    "q = 10  # dimension de l'espace latent nuisant\n",
    "dropout_rate = 0  # le dropout pour l'encodeur nuisant\n",
    "states = np.exp(np.arange(n1)/5)   # liste des n1 etats (ex. (1,2))\n",
    "nuisances = np.exp(np.arange(n2)/n2/5)  # liste des n2 nuisances (ex. (1,2))"
   ]
  },
  {
   "cell_type": "markdown",
   "id": "a71de487-0b37-4ab8-afc8-a6799c01bfd0",
   "metadata": {
    "tags": []
   },
   "source": [
    "### Generate X"
   ]
  },
  {
   "cell_type": "code",
   "execution_count": 4,
   "id": "246ee958-8cc2-44f2-a17f-e4fbcc36433c",
   "metadata": {},
   "outputs": [],
   "source": [
    "data = generate(states,nuisances,nx,nt,replace=0)\n",
    "X = data.X\n",
    "X_states = data.X_states\n",
    "X_nuisances = data.X_nuisances"
   ]
  },
  {
   "cell_type": "markdown",
   "id": "edb73e1e-f4b3-45ae-a67a-58cb4af0c857",
   "metadata": {
    "tags": []
   },
   "source": [
    "### What blocks in D is selected by X?"
   ]
  },
  {
   "cell_type": "code",
   "execution_count": 5,
   "id": "d1b6c4f6-3e72-4489-a487-7fcac4782ab7",
   "metadata": {},
   "outputs": [
    {
     "data": {
      "image/png": "[encoded data removed]",
      "text/plain": [
       "<Figure size 1008x144 with 1 Axes>"
      ]
     },
     "metadata": {
      "needs_background": "light"
     },
     "output_type": "display_data"
    }
   ],
   "source": [
    "waiting_samples = data.waiting_samples\n",
    "\n",
    "D_selected = np.ones((n1,n2))\n",
    "for i in range(n1):\n",
    "    for j in range(n2):\n",
    "        D_selected[i][waiting_samples[i]] = 0    \n",
    "\n",
    "plt.figure(figsize=(14, 2))\n",
    "plt.matshow(data.selected_times, fignum=1, cmap=plt.get_cmap('binary_r'))\n",
    "plt.xlabel('nuisances')\n",
    "plt.ylabel('states')\n",
    "plt.xticks(range(n2))\n",
    "plt.yticks(range(n1))\n",
    "plt.gca().set_xticks([x - 0.5 for x in plt.gca().get_xticks()][1:], labels=['']*(n2-1), minor=True)\n",
    "plt.gca().set_yticks([y - 0.5 for y in plt.gca().get_yticks()][1:], labels=['']*(n1-1), minor=True)\n",
    "plt.grid(which='minor')\n",
    "plt.gca().xaxis.set_ticklabels([])\n",
    "plt.gca().yaxis.set_ticklabels([])\n",
    "#plt.title('How many times has each block in D been selected')\n",
    "#plt.colorbar(location='bottom')\n",
    "plt.show()"
   ]
  },
  {
   "cell_type": "markdown",
   "id": "d06811a0-65cb-4021-86c9-ab0a3a52f03d",
   "metadata": {
    "tags": []
   },
   "source": [
    "# Set SymAE"
   ]
  },
  {
   "cell_type": "markdown",
   "id": "690debcf-bcae-47ea-9dae-78cc7ab90105",
   "metadata": {
    "tags": []
   },
   "source": [
    "### Set layers"
   ]
  },
  {
   "cell_type": "code",
   "execution_count": 6,
   "id": "28f9da29-6361-42d5-be5e-ca01ba728a42",
   "metadata": {},
   "outputs": [],
   "source": [
    "class SymmetricEncoderDense0D(tf.keras.Model):\n",
    "    def __init__(self, p, nt):\n",
    "        super(SymmetricEncoderDense0D, self).__init__(name='')\n",
    "        \n",
    "        # CEnc(X_i) = w5*w4*Relu(w3*sum_t w2*Relu(w1*X_i[t]))\n",
    "        # where wk is the weight matrix of self.dk, for k in [5]\n",
    "        \n",
    "        self.nt_out = p\n",
    "        self.nt_in = nt\n",
    "        self.d1 = tfkltd(tfkl.Dense(10000, activation = tf.keras.layers.LeakyReLU()))\n",
    "        #self.d2 = tfkltd(tfkl.Dense(10000, activation = None))\n",
    "        #self.d3 = tfkl.Dense(10000, activation = tf.keras.layers.LeakyReLU())\n",
    "        self.d4 = tfkl.Dense(10000, activation = tf.keras.layers.LeakyReLU())\n",
    "        self.d5 = tfkl.Dense(p)\n",
    "        \n",
    "    def call(self, x, training=False):\n",
    "        # input: x, ligne de taille nt de la matrice X.\n",
    "        \n",
    "        x = self.d1(x)\n",
    "        #x = self.d2(x)\n",
    "        x = tf.math.reduce_mean(x, axis=1)\n",
    "        #x = self.d3(x)\n",
    "        x = self.d4(x)\n",
    "        x = self.d5(x)\n",
    "        return x\n",
    "\n",
    "    \n",
    "# 你是在让 nuisance encoder 记住states\n",
    "class NuisanceEncoderDense0D(tf.keras.Model):\n",
    "    def __init__(self, q, nt):\n",
    "        super(NuisanceEncoderDense0D, self).__init__(name='nui_encoder')\n",
    "        self.d1 = tfkl.Dense(10000, activation=tf.keras.layers.LeakyReLU())\n",
    "        #self.d2 = tfkl.Dense(10000, activation=tf.keras.layers.LeakyReLU())\n",
    "        #self.d3 = tfkl.Dense(10000, activation=tf.keras.layers.LeakyReLU())\n",
    "        self.d4 = tfkl.Dense(q)\n",
    "        \n",
    "    def call(self, x, training=False):\n",
    "        x=self.d1(x)\n",
    "        #x=self.d2(x)\n",
    "        #x=self.d3(x)\n",
    "        x=self.d4(x)\n",
    "        return x\n",
    "    \n",
    "class DistributeZsym(tf.keras.Model):\n",
    "    def __init__(self, ntau, nz0, nzi):\n",
    "        super(DistributeZsym, self).__init__(name='dist')\n",
    "        self.nz0=nz0\n",
    "        self.nzi=nzi\n",
    "        self.ntau=ntau\n",
    "        self.ri=tfkl.Reshape(target_shape=(ntau,nzi))\n",
    "        self.repeat=tfkl.RepeatVector(ntau)\n",
    "        \n",
    "    def call(self, z, training=False):\n",
    "        z0,zi=tf.split(z,[self.nz0, self.ntau*self.nzi],axis=1)\n",
    "        zi=self.ri(zi)\n",
    "        z0=self.repeat(z0)\n",
    "        out=tfkl.concatenate([z0, zi],axis=2)\n",
    "        return out\n",
    "\n",
    "\n",
    "class MixerDense0D(tf.keras.Model):\n",
    "    # C'est le petit dec je pense. Qui va de Rp+q a R, donc dec(C_i, N_i[t])\n",
    "    \n",
    "    def __init__(self, n_out = 1, n_in = p+q):\n",
    "        \n",
    "        # ok. c'est le decodeur en qq sorte. On va \"mixer\" (i.e., concatener)\n",
    "        # l'encodeur coherent à l'encodeur nuisant\n",
    "        \n",
    "        super(MixerDense0D, self).__init__(name='')\n",
    "        self.d1 = tfkl.Dense(10000, activation = tf.keras.layers.LeakyReLU())\n",
    "        #self.d1 = tfkl.Dense(4*(n_in), activation = tf.keras.layers.ReLU(), use_bias = False)\n",
    "        #self.d2 = tfkl.Dense(n_in, activation = tf.keras.layers.ReLU(), use_bias = False)\n",
    "        #self.d3 = tfkl.Dense(5000, activation = tf.keras.layers.LeakyReLU())\n",
    "        #self.d4 = tfkl.Dense(1000, activation = tf.keras.layers.LeakyReLU())\n",
    "        #self.d5 = tfkl.Dense(1, activation = tf.keras.layers.ReLU(), use_bias = False)\n",
    "        self.d6 = tfkl.Dense(1, activation=None)\n",
    "        \n",
    "    def call(self, z, training = False):\n",
    "        # z c'est la var latente. donc de dim p+q en principe.\n",
    "        x = self.d1(z)\n",
    "        #x = self.d2(x)\n",
    "        #x = self.d3(x)\n",
    "        #x = self.d4(x)\n",
    "        #x = self.d5(x)\n",
    "        x = self.d6(x)\n",
    "        return x"
   ]
  },
  {
   "cell_type": "code",
   "execution_count": 7,
   "id": "72a8b991-282c-4927-83d8-82f289bab0b7",
   "metadata": {},
   "outputs": [],
   "source": [
    "class LatentCat(tf.keras.Model):\n",
    "    def __init__(self, alpha=1.0):\n",
    "        super(LatentCat, self).__init__(name='latentcat')\n",
    "        self.drop = tfkl.Dropout(alpha)\n",
    "        \n",
    "    def call(self, zsym, znuisance, training=False):\n",
    "        znuisance = self.drop(znuisance, training=training)\n",
    "        znuisance = tfkl.Flatten()(znuisance)\n",
    "        z = tfkl.concatenate([zsym, znuisance])\n",
    "        return z"
   ]
  },
  {
   "cell_type": "markdown",
   "id": "a71e81c4-51e1-4626-aa1d-5584e59e2cc5",
   "metadata": {
    "tags": []
   },
   "source": [
    "### model"
   ]
  },
  {
   "cell_type": "code",
   "execution_count": 8,
   "id": "565f6d94-06b3-476a-8898-0b22d2d93401",
   "metadata": {},
   "outputs": [],
   "source": [
    "class SymAE(tf.keras.Model):\n",
    "    \n",
    "    def __init__(self, N, nt, p, q, dropout_rate): \n",
    "        super(SymAE, self).__init__()\n",
    "        \n",
    "        # Build symmetric encoder\n",
    "        sym_encoder = SymmetricEncoderDense0D(p,nt)\n",
    "        self.sym_encoder=sym_encoder\n",
    "        \n",
    "        # Build nuisance encoder\n",
    "        nui_encoder = NuisanceEncoderDense0D(q,nt)\n",
    "        self.nui_encoder = nui_encoder\n",
    "        \n",
    "        #Build latentcat\n",
    "        latentcat = LatentCat(alpha=dropout_rate)\n",
    "        self.latentcat = latentcat\n",
    "        \n",
    "        # Build distribute in decoder\n",
    "        distzsym = DistributeZsym(nt, p, q)\n",
    "        self.distzsym = distzsym\n",
    "        \n",
    "        #Build mixer in decoder\n",
    "        mixer = MixerDense0D(1,p+q)\n",
    "        self.mixer = mixer\n",
    "        \n",
    "        # Build encoder\n",
    "        encoder_input = tfk.Input(shape=(nt,1), dtype='float32', name='encoder_input')\n",
    "        znuisance = nui_encoder(encoder_input)\n",
    "        zsym = sym_encoder(encoder_input)\n",
    "        encoder_output=latentcat(zsym,znuisance)\n",
    "        encoder=tfk.Model(encoder_input, encoder_output, name=\"encoder\")\n",
    "        self.encoder=encoder\n",
    "        \n",
    "        # Build decoder\n",
    "        decoder_input = tfk.Input(shape=(p+q*nt), name='latentcode')\n",
    "        decoder_output=mixer(distzsym(decoder_input))\n",
    "        decoder=tfk.Model(decoder_input,decoder_output, name=\"decoder\") \n",
    "        self.decoder=decoder\n",
    "        \n",
    "    def call(self, input_tensor, training=False):\n",
    "        return self.decoder(self.encoder(input_tensor))"
   ]
  },
  {
   "cell_type": "markdown",
   "id": "ef994434-2a26-48a6-9afe-fdfd50d78eea",
   "metadata": {
    "tags": []
   },
   "source": [
    "### Initialize SymAE"
   ]
  },
  {
   "cell_type": "code",
   "execution_count": 9,
   "id": "f88526f1-9463-4e85-bf1b-cb0cbad1ea28",
   "metadata": {},
   "outputs": [
    {
     "name": "stdout",
     "output_type": "stream",
     "text": [
      "weight exists\n"
     ]
    }
   ],
   "source": [
    "model = SymAE(nx, nt, p, q, 0.5)\n",
    "clear_output()\n",
    "try:\n",
    "    model.load_weights('./checkpoint/'+'p=%d,q=%d'%(p,q))\n",
    "    print(\"weight exists\")\n",
    "except:\n",
    "    print(\"weight doesn't exist\")"
   ]
  },
  {
   "cell_type": "code",
   "execution_count": 10,
   "id": "9992c7e7-1c7e-4082-ae45-529e8ee0aac5",
   "metadata": {},
   "outputs": [],
   "source": [
    "model.latentcat.drop.rate = 0."
   ]
  },
  {
   "cell_type": "markdown",
   "id": "6a81f827-25f5-4801-9ae7-2b81e857c0eb",
   "metadata": {
    "tags": []
   },
   "source": [
    "### Select optimizer"
   ]
  },
  {
   "cell_type": "code",
   "execution_count": 11,
   "id": "c25761b5-cfc5-4881-b4ae-7f6c3cab9a25",
   "metadata": {},
   "outputs": [],
   "source": [
    "Adam = tf.keras.optimizers.Adam(learning_rate=1e-3)\n",
    "model.compile(loss='mse', optimizer=Adam)\n",
    "clear_output()"
   ]
  },
  {
   "cell_type": "code",
   "execution_count": 12,
   "id": "31dcfa5e-a3d0-4828-8319-6eae09671606",
   "metadata": {},
   "outputs": [],
   "source": [
    "mse = tf.keras.losses.MeanSquaredError()\n",
    "optimizer = tf.keras.optimizers.Adam(learning_rate=1e-3)"
   ]
  },
  {
   "cell_type": "code",
   "execution_count": 13,
   "id": "d5d87da5-0adf-4aeb-bbf2-eaa0887828c5",
   "metadata": {},
   "outputs": [],
   "source": [
    "M = 10000\n",
    "epochs = range(M)\n",
    "losses = [np.nan]*M\n",
    "redata = [np.nan]*M\n",
    "sample_size = 20\n",
    "redatum_list = list(zip(np.random.randint(0,nx,sample_size),np.random.randint(0,nx,sample_size)))"
   ]
  },
  {
   "cell_type": "markdown",
   "id": "291f5d0d-d0f3-461f-990f-6dc418e0348c",
   "metadata": {
    "tags": []
   },
   "source": [
    "# Train"
   ]
  },
  {
   "cell_type": "markdown",
   "id": "807b82d3-85bc-4923-af21-62e549e5a5d1",
   "metadata": {},
   "source": [
    "### From scratch"
   ]
  },
  {
   "cell_type": "code",
   "execution_count": 14,
   "id": "ad610d5b-e413-4d4f-b169-1c5375611e1e",
   "metadata": {},
   "outputs": [],
   "source": [
    "@tf.function\n",
    "def redatum(X1, X2):\n",
    "    return model.decoder(model.latentcat(model.sym_encoder(X1), model.nui_encoder(X2)))\n",
    "@tf.function\n",
    "def redatum_loss(X):\n",
    "    s = []\n",
    "    for (i1,i2) in redatum_list:\n",
    "        X1 = X[i1:i1+1]\n",
    "        X2 = X[i2:i2+1]\n",
    "        s.append(mse(redatum(X1,X2), states[X_states[i1]]+nuisances[X_nuisances[i2,:]]))\n",
    "    return sum(s)/sample_size\n",
    "\n",
    "@tf.function\n",
    "def reconstruction_loss(model, x, training=False):\n",
    "    x_hat = model(x, training=True)\n",
    "    return mse(x, x_hat)\n",
    "\n",
    "def norm(x, ord=2, axis=-1):\n",
    "    if ord==1:\n",
    "        return tf.math.abs(x,axis=axis)\n",
    "    elif ord==2:\n",
    "        return tf.sqrt(tf.reduce_sum(tf.square(x), axis=axis) + 1.0e-12)\n",
    "    \n",
    "@tf.function\n",
    "def set_distance(s1, s2):\n",
    "    '''WARNING: this layer rely on broadcasting'''\n",
    "    s1_ = tf.expand_dims(s1, 0)\n",
    "    s1__ = tf.expand_dims(s1, 1)\n",
    "    s2_ = tf.expand_dims(s2, 0)\n",
    "    s2__ = tf.expand_dims(s2, 1)\n",
    "    s12 = tf.reduce_mean(norm(s1_-s2__, axis=-1))\n",
    "    s11 = tf.reduce_mean(norm(s1_-s1__, axis=-1))\n",
    "    s22 = tf.reduce_mean(norm(s2_-s2__, axis=-1))\n",
    "    s = s12-s11/2-s22/2\n",
    "    return s\n",
    "\n",
    "@tf.function\n",
    "def mutual_info_penalty(model, x, training=False):\n",
    "    coherent_code = model.sym_encoder(x, training=False)\n",
    "    nuisance_code = model.nui_encoder(x, training=False)\n",
    "    #tf.print(coherent_code.shape,nuisance_code.shape)\n",
    "    all_points = tf.reshape(nuisance_code,[-1,q])\n",
    "    std = tf.math.reduce_std(all_points, 0)\n",
    "    s = 0.0\n",
    "    for i in trange(nx):\n",
    "        s += set_distance(all_points/std, all_points[i*nt:(i+1)*nt,:]/std)\n",
    "    return s\n",
    "\n",
    "@tf.function\n",
    "def train_step(model, x, training=True):\n",
    "    with tf.GradientTape() as tape:\n",
    "        loss_rec = reconstruction_loss(model, x, training)\n",
    "        loss_cor = mutual_info_penalty(model, x, training)\n",
    "        loss = loss_rec #+ 5000*loss_cor\n",
    "        \n",
    "    gradients = tape.gradient(loss, model.trainable_variables)\n",
    "    optimizer.apply_gradients(zip(gradients, model.trainable_variables))\n",
    "    return loss_rec, loss_cor"
   ]
  },
  {
   "cell_type": "code",
   "execution_count": 15,
   "id": "e4a7bf4f-6256-4d9d-81e7-b66a4736e521",
   "metadata": {},
   "outputs": [
    {
     "name": "stdout",
     "output_type": "stream",
     "text": [
      "For epoch 99, reconstruction loss is 0.000040, correlation loss is 15.762069.\n"
     ]
    }
   ],
   "source": [
    "for epoch in range(100):\n",
    "    loss_rec, loss_cor = train_step(model, X)\n",
    "    print(\"For epoch {:d}, reconstruction loss is {:f}, correlation loss is {:f}.\"\n",
    "          .format(epoch, loss_rec, loss_cor))\n",
    "    losses[epoch]=loss_rec\n",
    "    redata[epoch]=redatum_loss(X)\n",
    "    clear_output(wait=True)"
   ]
  },
  {
   "cell_type": "markdown",
   "id": "77191ac5-c4d1-4aa5-8514-3c26a7bf01f7",
   "metadata": {
    "tags": []
   },
   "source": [
    "### Plot"
   ]
  },
  {
   "cell_type": "code",
   "execution_count": 16,
   "id": "cce78d71-0761-4400-9cfd-c2e964124118",
   "metadata": {},
   "outputs": [],
   "source": [
    "k = 0"
   ]
  },
  {
   "cell_type": "markdown",
   "id": "339c3ef1-6123-4d3b-8071-63c08375c3de",
   "metadata": {
    "tags": []
   },
   "source": [
    "### Loss-epoch graph"
   ]
  },
  {
   "cell_type": "code",
   "execution_count": 17,
   "id": "b524add1-6c48-42dd-bb86-59dad136ba9b",
   "metadata": {},
   "outputs": [
    {
     "data": {
      "image/png": "[encoded data removed]",
      "text/plain": [
       "<Figure size 432x288 with 2 Axes>"
      ]
     },
     "metadata": {
      "needs_background": "light"
     },
     "output_type": "display_data"
    }
   ],
   "source": [
    "fig, ax1 = plt.subplots()\n",
    "ax2 = ax1.twinx()\n",
    "ax1.plot(epochs,losses,'C0')\n",
    "ax2.plot(epochs,redata,'C1')\n",
    "ax1.set_xlabel('epoch')\n",
    "ax1.set_ylabel('loss', color='C0')\n",
    "ax2.set_ylabel('redatum loss', color='C1')\n",
    "plt.show()"
   ]
  },
  {
   "cell_type": "markdown",
   "id": "20516808-4ee3-48c4-aeb8-07b94b35f70c",
   "metadata": {
    "tags": []
   },
   "source": [
    "### Save weights"
   ]
  },
  {
   "cell_type": "code",
   "execution_count": 18,
   "id": "a187e4f4-629d-4b71-93fc-a980a3d2a1fb",
   "metadata": {},
   "outputs": [
    {
     "name": "stdout",
     "output_type": "stream",
     "text": [
      "weights saved\n"
     ]
    }
   ],
   "source": [
    "import datetime\n",
    "#model.save_weights('./checkpoint/'+datetime.now().strftime(\"%B%d\"))\n",
    "model.save_weights('./checkpoint/p=%d,q=%d'%(p,q))\n",
    "print(\"weights saved\")"
   ]
  },
  {
   "cell_type": "markdown",
   "id": "ceee184d-2805-4ee6-9b70-14cf842cbeef",
   "metadata": {
    "tags": []
   },
   "source": [
    "# Visualize training loss"
   ]
  },
  {
   "cell_type": "markdown",
   "id": "5601987e-cc5d-481b-8fa7-9f5ce90e06d8",
   "metadata": {
    "tags": []
   },
   "source": [
    "### Creat a dict mapping from subscripts of D to subscripts of X"
   ]
  },
  {
   "cell_type": "markdown",
   "id": "0e980e0d-abfe-426d-bbe4-28e4848954fb",
   "metadata": {},
   "source": [
    "This map is the inverse of X_states and X_nuisances"
   ]
  },
  {
   "cell_type": "code",
   "execution_count": 19,
   "id": "6dd5260a-adda-498d-aa78-fafe05a457bd",
   "metadata": {
    "tags": []
   },
   "outputs": [],
   "source": [
    "subscript_map = {}\n",
    "for i in range(nx):\n",
    "    for j in range(nt):\n",
    "        subscript_map[(X_states[i],X_nuisances[i,j])] = (i,j)"
   ]
  },
  {
   "cell_type": "markdown",
   "id": "f9d0f6dd-1351-43fa-967f-9a6feab99383",
   "metadata": {
    "tags": []
   },
   "source": [
    "### Plot D and SymAE(X)"
   ]
  },
  {
   "cell_type": "code",
   "execution_count": 24,
   "id": "49da7f28-8575-4bc3-a2c7-660c4cdabd94",
   "metadata": {},
   "outputs": [
    {
     "name": "stdout",
     "output_type": "stream",
     "text": [
      "1/1 [==============================] - 0s 30ms/step\n"
     ]
    },
    {
     "data": {
      "image/png": "[encoded data removed]",
      "text/plain": [
       "<Figure size 432x288 with 3 Axes>"
      ]
     },
     "metadata": {
      "needs_background": "light"
     },
     "output_type": "display_data"
    }
   ],
   "source": [
    "D = data.D\n",
    "X_hat = model.predict(X)[:,:,0]\n",
    "X_converted_max = np.empty((n1,n2))\n",
    "X_converted_max.fill(-np.inf)\n",
    "X_converted_min = np.empty((n1,n2))\n",
    "X_converted_min.fill(np.inf)\n",
    "for i in range(nx):\n",
    "    for j in range(nt):\n",
    "        i_D = X_states[i]\n",
    "        j_D = X_nuisances[i,j]\n",
    "        X_converted_max[i_D,j_D] = max(X_hat[i,j],X_converted_max[i_D,j_D])\n",
    "        X_converted_min[i_D,j_D] = min(X_hat[i,j],X_converted_max[i_D,j_D])\n",
    "        \n",
    "def plot_reconstruct(D,X_converted):\n",
    "    fig, axs = plt.subplots(2, 1, sharex=True, sharey=True, figsize=(6,4))\n",
    "    norm = mcolors.Normalize(vmin=np.amin(D), vmax=np.amax(D))\n",
    "    pcm = axs[0].matshow(D, norm = norm)\n",
    "    axs[0].set_xlabel('nuisances')\n",
    "    axs[0].set_ylabel('states')\n",
    "    axs[0].set_xticks(range(n2))\n",
    "    axs[0].set_yticks(range(n1))\n",
    "    axs[0].set_title('D')\n",
    "    pcm = axs[1].matshow(X_converted, norm = norm)\n",
    "    axs[1].set_xlabel('nuisances')\n",
    "    axs[1].set_ylabel('states')\n",
    "    axs[1].set_xticks(range(n2))\n",
    "    axs[1].set_yticks(range(n1))\n",
    "    axs[1].set_title('$\\hat{X}$')\n",
    "    plt.gca().xaxis.set_ticklabels([])\n",
    "    plt.gca().yaxis.set_ticklabels([])\n",
    "    fig.colorbar(pcm,ax=axs, location='right')\n",
    "    return fig\n",
    "\n",
    "\n",
    "fig = plot_reconstruct(D, X_converted_max)\n",
    "fig.suptitle('Training loss', fontsize=15)\n",
    "plt.show()\n",
    "#fig = plot_reconstruct(D,X_converted_min)\n",
    "#fig.suptitle('Training loss X_min',fontsize=15)\n",
    "#plt.show()\n",
    "#plt.colorbar(orientation=\"horizontal\")"
   ]
  },
  {
   "cell_type": "markdown",
   "id": "2c980610-94b7-48b3-861a-3fb6e9297220",
   "metadata": {
    "tags": []
   },
   "source": [
    "# Visualize performance of redatuming"
   ]
  },
  {
   "cell_type": "markdown",
   "id": "2581475e-6a1b-4a60-adb9-299aac033294",
   "metadata": {},
   "source": [
    "### Evaluate latent code"
   ]
  },
  {
   "cell_type": "code",
   "execution_count": 21,
   "id": "cb22b999-76e5-42b2-bb93-3eb7b580724b",
   "metadata": {},
   "outputs": [
    {
     "name": "stdout",
     "output_type": "stream",
     "text": [
      "(10, 2)\n",
      "(10, 45, 10)\n"
     ]
    }
   ],
   "source": [
    "Cs = model.sym_encoder.predict(X, verbose=0)\n",
    "Ns = model.nui_encoder.predict(X, verbose=0)\n",
    "print(Cs.shape)\n",
    "print(Ns.shape)"
   ]
  },
  {
   "cell_type": "markdown",
   "id": "fd57f4ee-c9bc-485d-96fb-10f3293edc67",
   "metadata": {},
   "source": [
    "### Creat a dict, mapping from coordinates of missing blocks (in D) to coordinates i, i', j (in X)"
   ]
  },
  {
   "cell_type": "code",
   "execution_count": 22,
   "id": "279ee0d7-65ec-4efa-9bea-dff4ca7f1ee8",
   "metadata": {},
   "outputs": [
    {
     "ename": "ValueError",
     "evalue": "a must be greater than 0 unless no samples are taken",
     "output_type": "error",
     "traceback": [
      "\u001b[0;31m---------------------------------------------------------------------------\u001b[0m",
      "\u001b[0;31mValueError\u001b[0m                                Traceback (most recent call last)",
      "Input \u001b[0;32mIn [22]\u001b[0m, in \u001b[0;36m<cell line: 2>\u001b[0;34m()\u001b[0m\n\u001b[1;32m      4\u001b[0m state_candidates \u001b[38;5;241m=\u001b[39m np\u001b[38;5;241m.\u001b[39margwhere(X_states\u001b[38;5;241m==\u001b[39mi_D) \n\u001b[1;32m      5\u001b[0m nuisance_candidates \u001b[38;5;241m=\u001b[39m np\u001b[38;5;241m.\u001b[39margwhere(X_nuisances\u001b[38;5;241m==\u001b[39mj_D) \n\u001b[0;32m----> 6\u001b[0m i_s, \u001b[38;5;241m=\u001b[39m state_candidates[\u001b[43mnp\u001b[49m\u001b[38;5;241;43m.\u001b[39;49m\u001b[43mrandom\u001b[49m\u001b[38;5;241;43m.\u001b[39;49m\u001b[43mchoice\u001b[49m\u001b[43m(\u001b[49m\u001b[43mstate_candidates\u001b[49m\u001b[38;5;241;43m.\u001b[39;49m\u001b[43mshape\u001b[49m\u001b[43m[\u001b[49m\u001b[38;5;241;43m0\u001b[39;49m\u001b[43m]\u001b[49m\u001b[43m)\u001b[49m]\n\u001b[1;32m      7\u001b[0m i_n, j_n \u001b[38;5;241m=\u001b[39m nuisance_candidates[np\u001b[38;5;241m.\u001b[39mrandom\u001b[38;5;241m.\u001b[39mchoice(nuisance_candidates\u001b[38;5;241m.\u001b[39mshape[\u001b[38;5;241m0\u001b[39m])]\n\u001b[1;32m      8\u001b[0m missing_map[i_D,j_D] \u001b[38;5;241m=\u001b[39m (i_n,i_s,j_n)\n",
      "File \u001b[0;32mmtrand.pyx:909\u001b[0m, in \u001b[0;36mnumpy.random.mtrand.RandomState.choice\u001b[0;34m()\u001b[0m\n",
      "\u001b[0;31mValueError\u001b[0m: a must be greater than 0 unless no samples are taken"
     ]
    }
   ],
   "source": [
    "missing_map = {}\n",
    "for i_D in range(n1):\n",
    "    for j_D in range(n2):\n",
    "        state_candidates = np.argwhere(X_states==i_D) \n",
    "        nuisance_candidates = np.argwhere(X_nuisances==j_D) \n",
    "        i_s, = state_candidates[np.random.choice(state_candidates.shape[0])]\n",
    "        i_n, j_n = nuisance_candidates[np.random.choice(nuisance_candidates.shape[0])]\n",
    "        missing_map[i_D,j_D] = (i_n,i_s,j_n)\n",
    "for i_D in range(n1):\n",
    "    for j_D in range(n2):\n",
    "        i, i_prime, j = missing_map[i_D,j_D] \n",
    "        assert X_states[i_prime] == i_D\n",
    "        assert X_nuisances[i,j] == j_D"
   ]
  },
  {
   "cell_type": "markdown",
   "id": "9cac48a5-5783-4e98-b9c4-6769e887e1f8",
   "metadata": {},
   "source": [
    "### Define a function dec"
   ]
  },
  {
   "cell_type": "code",
   "execution_count": null,
   "id": "25700135-114d-4e8a-9421-93c1abc1d8f5",
   "metadata": {},
   "outputs": [],
   "source": [
    "def dec(latent_code):\n",
    "    tem = latent_code[np.newaxis, np.newaxis, :]\n",
    "    tem = np.repeat(tem, 1, axis=1)\n",
    "    tem = model.mixer.predict(tem, verbose=0)\n",
    "    return tem[0,0,0]"
   ]
  },
  {
   "cell_type": "markdown",
   "id": "b8803785-5cf0-40f8-8cf6-f85f737b71e0",
   "metadata": {},
   "source": [
    "### Fill out X_redatum"
   ]
  },
  {
   "cell_type": "markdown",
   "id": "a2abbb23-c73a-4043-8087-d9ef5def6376",
   "metadata": {},
   "source": [
    "Then we evaluate $\\hat{X}_{i_n \\to i_s}[j_n]$ and put it at X_redatum[i_D,j_D].  \n",
    "In the code below, i=i_n, i_prime=i_s, j=j_n.  "
   ]
  },
  {
   "cell_type": "code",
   "execution_count": null,
   "id": "dc3396df-5679-4a7c-aa3f-0c66d8dc5c39",
   "metadata": {},
   "outputs": [],
   "source": [
    "from tqdm import tqdm\n",
    "X_redatum = np.copy(X_converted_max)\n",
    "coherent_i_prime = np.empty((1,p))\n",
    "nuisance_i_j = np.empty((1,q*nt))\n",
    "for (i_D, j_D) in tqdm(missing_map.keys()):\n",
    "    i, i_prime, j = missing_map[i_D, j_D]\n",
    "    coherent_i_prime = Cs[i_prime, :]\n",
    "    nuisance_i_j = Ns[i,j]\n",
    "    merger = np.concatenate([coherent_i_prime,nuisance_i_j])\n",
    "    X_redatum[i_D,j_D] = dec(merger)  \n",
    "clear_output()"
   ]
  },
  {
   "cell_type": "markdown",
   "id": "d08f5495-9f58-4291-9041-b4bdbd7ee277",
   "metadata": {},
   "source": [
    "### Plot"
   ]
  },
  {
   "cell_type": "code",
   "execution_count": null,
   "id": "7158842a-93b6-4b1b-9bd8-f1a81dc0a24b",
   "metadata": {},
   "outputs": [],
   "source": [
    "fig = plot_reconstruct(D, X_redatum)\n",
    "fig.suptitle('Redatuming', fontsize=15)\n",
    "plt.show()"
   ]
  },
  {
   "cell_type": "code",
   "execution_count": null,
   "id": "d534baa6-e8b8-4f4f-8139-976ded1b47b0",
   "metadata": {},
   "outputs": [],
   "source": [
    "X.shape"
   ]
  },
  {
   "cell_type": "code",
   "execution_count": null,
   "id": "76827e6e-5a26-414d-b8a3-cc355a387b63",
   "metadata": {},
   "outputs": [],
   "source": [
    "mse(model(X,training=True),X)"
   ]
  },
  {
   "cell_type": "code",
   "execution_count": null,
   "id": "7bd09eed-412c-451b-881e-edf572d481e1",
   "metadata": {},
   "outputs": [],
   "source": []
  },
  {
   "cell_type": "code",
   "execution_count": null,
   "id": "0e248933-59a1-4d42-becb-c94228a5efdf",
   "metadata": {},
   "outputs": [],
   "source": []
  },
  {
   "cell_type": "code",
   "execution_count": null,
   "id": "880a0f2e-f527-4a4a-8138-6e10e39c34b4",
   "metadata": {},
   "outputs": [],
   "source": []
  }
 ],
 "metadata": {
  "kernelspec": {
   "display_name": "Python 3 (ipykernel)",
   "language": "python",
   "name": "python3"
  },
  "language_info": {
   "codemirror_mode": {
    "name": "ipython",
    "version": 3
   },
   "file_extension": ".py",
   "mimetype": "text/x-python",
   "name": "python",
   "nbconvert_exporter": "python",
   "pygments_lexer": "ipython3",
   "version": "3.9.12"
  }
 },
 "nbformat": 4,
 "nbformat_minor": 5
}
