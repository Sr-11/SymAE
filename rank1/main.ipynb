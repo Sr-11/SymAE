{
 "cells": [
  {
   "cell_type": "code",
   "execution_count": 1,
   "id": "7d088ea4-53aa-489e-8ac7-02f8576fb9f5",
   "metadata": {},
   "outputs": [
    {
     "name": "stdout",
     "output_type": "stream",
     "text": [
      "Num GPUs Available:  2\n",
      "TensorFlow Version:  2.9.1\n"
     ]
    }
   ],
   "source": [
    "# import packages\n",
    "import re,os\n",
    "import numpy as np\n",
    "import tensorflow as tf\n",
    "import matplotlib.pyplot as plt\n",
    "import matplotlib.patches as mpatches\n",
    "from IPython.display import clear_output\n",
    "import pandas as pd\n",
    "import math\n",
    "import random\n",
    "from datetime import datetime\n",
    "from tqdm import trange\n",
    "tfk = tf.keras\n",
    "tfkl = tf.keras.layers\n",
    "clear_output()\n",
    "# import my files\n",
    "from symae_model import SymAE\n",
    "from plot_save import plot_save\n",
    "from generate import generate\n",
    "from plot_training import plot_training\n",
    "from redatuming import redatuming\n",
    "from plot_redatuming import plot_redatuming"
   ]
  },
  {
   "cell_type": "code",
   "execution_count": 2,
   "id": "d22a959b-8479-4d61-87fb-018bc497ac18",
   "metadata": {},
   "outputs": [],
   "source": [
    "# Generate the Dataset\n",
    "n1 = 3 #ne\n",
    "n2 = 100\n",
    "nx = 1000\n",
    "nt = 20\n",
    "p = 1\n",
    "q = 10\n",
    "dropout_rate = 0\n",
    "states = np.arange(n1)+1\n",
    "nuisances = np.arange(n2)+1"
   ]
  },
  {
   "cell_type": "code",
   "execution_count": 3,
   "id": "246ee958-8cc2-44f2-a17f-e4fbcc36433c",
   "metadata": {},
   "outputs": [],
   "source": [
    "data = generate(states,nuisances,nx,nt,outer_replace=True)\n",
    "X = data.X\n",
    "X_states = data.X_states\n",
    "X_nuisances = data.X_nuisances"
   ]
  },
  {
   "cell_type": "code",
   "execution_count": 4,
   "id": "f88526f1-9463-4e85-bf1b-cb0cbad1ea28",
   "metadata": {},
   "outputs": [
    {
     "name": "stderr",
     "output_type": "stream",
     "text": [
      "2022-06-20 12:58:49.257925: I tensorflow/core/platform/cpu_feature_guard.cc:193] This TensorFlow binary is optimized with oneAPI Deep Neural Network Library (oneDNN) to use the following CPU instructions in performance-critical operations:  AVX2 AVX512F AVX512_VNNI FMA\n",
      "To enable them in other operations, rebuild TensorFlow with the appropriate compiler flags.\n",
      "2022-06-20 12:58:50.381911: I tensorflow/core/common_runtime/gpu/gpu_device.cc:1532] Created device /job:localhost/replica:0/task:0/device:GPU:0 with 14254 MB memory:  -> device: 0, name: NVIDIA RTX A4000, pci bus id: 0000:b1:00.0, compute capability: 8.6\n",
      "2022-06-20 12:58:50.382752: I tensorflow/core/common_runtime/gpu/gpu_device.cc:1532] Created device /job:localhost/replica:0/task:0/device:GPU:1 with 14254 MB memory:  -> device: 1, name: NVIDIA RTX A4000, pci bus id: 0000:b2:00.0, compute capability: 8.6\n"
     ]
    },
    {
     "ename": "ValueError",
     "evalue": "Received incompatible tensor with shape (4,) when attempting to restore variable with shape (11,) and name decoder/layer_with_weights-0/layer_with_weights-0/bn/beta/.ATTRIBUTES/VARIABLE_VALUE.",
     "output_type": "error",
     "traceback": [
      "\u001b[0;31m---------------------------------------------------------------------------\u001b[0m",
      "\u001b[0;31mValueError\u001b[0m                                Traceback (most recent call last)",
      "Input \u001b[0;32mIn [4]\u001b[0m, in \u001b[0;36m<cell line: 3>\u001b[0;34m()\u001b[0m\n\u001b[1;32m      1\u001b[0m \u001b[38;5;66;03m# Initialize SymAE\u001b[39;00m\n\u001b[1;32m      2\u001b[0m model \u001b[38;5;241m=\u001b[39m SymAE(nx,nt,p,q,dropout_rate)\n\u001b[0;32m----> 3\u001b[0m \u001b[43mmodel\u001b[49m\u001b[38;5;241;43m.\u001b[39;49m\u001b[43mload_weights\u001b[49m\u001b[43m(\u001b[49m\u001b[38;5;124;43m'\u001b[39;49m\u001b[38;5;124;43m./checkpoints/\u001b[39;49m\u001b[38;5;124;43m'\u001b[39;49m\u001b[38;5;241;43m+\u001b[39;49m\u001b[43mdatetime\u001b[49m\u001b[38;5;241;43m.\u001b[39;49m\u001b[43mnow\u001b[49m\u001b[43m(\u001b[49m\u001b[43m)\u001b[49m\u001b[38;5;241;43m.\u001b[39;49m\u001b[43mstrftime\u001b[49m\u001b[43m(\u001b[49m\u001b[38;5;124;43m\"\u001b[39;49m\u001b[38;5;124;43m%\u001b[39;49m\u001b[38;5;124;43mB\u001b[39;49m\u001b[38;5;132;43;01m%d\u001b[39;49;00m\u001b[38;5;124;43m\"\u001b[39;49m\u001b[43m)\u001b[49m\u001b[43m)\u001b[49m\n\u001b[1;32m      4\u001b[0m \u001b[38;5;66;03m#model.load_weights('./checkpoints/'+'June16')\u001b[39;00m\n\u001b[1;32m      5\u001b[0m clear_output()\n",
      "File \u001b[0;32m~/software/anaconda/envs/MRA/lib/python3.9/site-packages/keras/utils/traceback_utils.py:67\u001b[0m, in \u001b[0;36mfilter_traceback.<locals>.error_handler\u001b[0;34m(*args, **kwargs)\u001b[0m\n\u001b[1;32m     65\u001b[0m \u001b[38;5;28;01mexcept\u001b[39;00m \u001b[38;5;167;01mException\u001b[39;00m \u001b[38;5;28;01mas\u001b[39;00m e:  \u001b[38;5;66;03m# pylint: disable=broad-except\u001b[39;00m\n\u001b[1;32m     66\u001b[0m   filtered_tb \u001b[38;5;241m=\u001b[39m _process_traceback_frames(e\u001b[38;5;241m.\u001b[39m__traceback__)\n\u001b[0;32m---> 67\u001b[0m   \u001b[38;5;28;01mraise\u001b[39;00m e\u001b[38;5;241m.\u001b[39mwith_traceback(filtered_tb) \u001b[38;5;28;01mfrom\u001b[39;00m \u001b[38;5;28mNone\u001b[39m\n\u001b[1;32m     68\u001b[0m \u001b[38;5;28;01mfinally\u001b[39;00m:\n\u001b[1;32m     69\u001b[0m   \u001b[38;5;28;01mdel\u001b[39;00m filtered_tb\n",
      "File \u001b[0;32m~/software/anaconda/envs/MRA/lib/python3.9/site-packages/tensorflow/python/training/saving/saveable_object_util.py:133\u001b[0m, in \u001b[0;36mResourceVariableSaveable.restore\u001b[0;34m(self, restored_tensors, restored_shapes)\u001b[0m\n\u001b[1;32m    130\u001b[0m   assigned_variable \u001b[38;5;241m=\u001b[39m resource_variable_ops\u001b[38;5;241m.\u001b[39mshape_safe_assign_variable_handle(\n\u001b[1;32m    131\u001b[0m       \u001b[38;5;28mself\u001b[39m\u001b[38;5;241m.\u001b[39mhandle_op, \u001b[38;5;28mself\u001b[39m\u001b[38;5;241m.\u001b[39m_var_shape, restored_tensor)\n\u001b[1;32m    132\u001b[0m \u001b[38;5;28;01mexcept\u001b[39;00m \u001b[38;5;167;01mValueError\u001b[39;00m \u001b[38;5;28;01mas\u001b[39;00m e:\n\u001b[0;32m--> 133\u001b[0m   \u001b[38;5;28;01mraise\u001b[39;00m \u001b[38;5;167;01mValueError\u001b[39;00m(\n\u001b[1;32m    134\u001b[0m       \u001b[38;5;124mf\u001b[39m\u001b[38;5;124m\"\u001b[39m\u001b[38;5;124mReceived incompatible tensor with shape \u001b[39m\u001b[38;5;132;01m{\u001b[39;00mrestored_tensor\u001b[38;5;241m.\u001b[39mshape\u001b[38;5;132;01m}\u001b[39;00m\u001b[38;5;124m \u001b[39m\u001b[38;5;124m\"\u001b[39m\n\u001b[1;32m    135\u001b[0m       \u001b[38;5;124mf\u001b[39m\u001b[38;5;124m\"\u001b[39m\u001b[38;5;124mwhen attempting to restore variable with shape \u001b[39m\u001b[38;5;132;01m{\u001b[39;00m\u001b[38;5;28mself\u001b[39m\u001b[38;5;241m.\u001b[39m_var_shape\u001b[38;5;132;01m}\u001b[39;00m\u001b[38;5;124m \u001b[39m\u001b[38;5;124m\"\u001b[39m\n\u001b[1;32m    136\u001b[0m       \u001b[38;5;124mf\u001b[39m\u001b[38;5;124m\"\u001b[39m\u001b[38;5;124mand name \u001b[39m\u001b[38;5;132;01m{\u001b[39;00m\u001b[38;5;28mself\u001b[39m\u001b[38;5;241m.\u001b[39mname\u001b[38;5;132;01m}\u001b[39;00m\u001b[38;5;124m.\u001b[39m\u001b[38;5;124m\"\u001b[39m) \u001b[38;5;28;01mfrom\u001b[39;00m \u001b[38;5;21;01me\u001b[39;00m\n\u001b[1;32m    137\u001b[0m \u001b[38;5;28;01mreturn\u001b[39;00m assigned_variable\n",
      "\u001b[0;31mValueError\u001b[0m: Received incompatible tensor with shape (4,) when attempting to restore variable with shape (11,) and name decoder/layer_with_weights-0/layer_with_weights-0/bn/beta/.ATTRIBUTES/VARIABLE_VALUE."
     ]
    }
   ],
   "source": [
    "# Initialize SymAE\n",
    "model = SymAE(nx,nt,p,q,dropout_rate)\n",
    "model.load_weights('./checkpoints/'+datetime.now().strftime(\"%B%d\"))\n",
    "#model.load_weights('./checkpoints/'+'June16')\n",
    "clear_output()"
   ]
  },
  {
   "cell_type": "code",
   "execution_count": null,
   "id": "c25761b5-cfc5-4881-b4ae-7f6c3cab9a25",
   "metadata": {},
   "outputs": [],
   "source": [
    "Adam = tf.keras.optimizers.Adam(learning_rate=0.001,beta_1=0.9,beta_2=0.999,epsilon=1e-07)\n",
    "model.compile(loss='mse',optimizer=Adam)"
   ]
  },
  {
   "cell_type": "code",
   "execution_count": null,
   "id": "3c1e2ea7-0804-47cd-b307-f03917fdd658",
   "metadata": {},
   "outputs": [],
   "source": [
    "# Train the NeuralNet\n",
    "M=1000\n",
    "epochs=range(M)\n",
    "losses=[0.0]*M\n",
    "class CustomCallback(tf.keras.callbacks.Callback):\n",
    "    def on_epoch_end(self, epoch, logs=None):\n",
    "        clear_output(wait=True)\n",
    "        losses[epoch]=logs[\"loss\"]\n",
    "        print(\"For epoch {:d}, loss is {:f}.\".format(epoch, logs[\"loss\"]))\n",
    "history=model.fit(X,X,epochs=M,verbose=0,callbacks=[CustomCallback()])"
   ]
  },
  {
   "cell_type": "code",
   "execution_count": null,
   "id": "b524add1-6c48-42dd-bb86-59dad136ba9b",
   "metadata": {},
   "outputs": [],
   "source": [
    "plt.plot(epochs,losses)\n",
    "plt.xlabel('epoch')\n",
    "plt.ylabel('loss')\n",
    "plt.show()"
   ]
  },
  {
   "cell_type": "code",
   "execution_count": null,
   "id": "a187e4f4-629d-4b71-93fc-a980a3d2a1fb",
   "metadata": {},
   "outputs": [],
   "source": [
    "# Save weights\n",
    "model.save_weights('./checkpoints/'+datetime.now().strftime(\"%B%d\"))\n",
    "print(\"weights saved\")"
   ]
  },
  {
   "cell_type": "code",
   "execution_count": null,
   "id": "1142a313-123b-4bde-99c4-506242945e77",
   "metadata": {},
   "outputs": [],
   "source": [
    "# Plot the result\n",
    "Y = model.predict(X)\n",
    "i = 0\n",
    "fig = plot_training(X,Y,i)\n",
    "plt.title('i=%d, state=%d'%(0,X_states[0]))"
   ]
  },
  {
   "cell_type": "code",
   "execution_count": null,
   "id": "c21c9740-bcc3-4e91-b96c-c96397a852e4",
   "metadata": {},
   "outputs": [],
   "source": [
    "# Save plot\n",
    "plot_save(fig,ID=-1)"
   ]
  },
  {
   "cell_type": "code",
   "execution_count": null,
   "id": "0d73106f-5bf3-499d-86a7-1241e5e48e3a",
   "metadata": {},
   "outputs": [],
   "source": [
    "X_states[0:5]"
   ]
  },
  {
   "cell_type": "code",
   "execution_count": null,
   "id": "dcedbd55-0c90-4aea-90e6-6bea5296eb95",
   "metadata": {},
   "outputs": [],
   "source": [
    "# Redatuming\n",
    "Z, Z_hat = redatuming(model,data)"
   ]
  },
  {
   "cell_type": "code",
   "execution_count": null,
   "id": "0a57cac9-dea9-4f30-a79c-6251769c8819",
   "metadata": {},
   "outputs": [],
   "source": [
    "i = 0\n",
    "i_prime = 1\n",
    "fig = plot_redatuming(Z,Z_hat,X_states,i,i_prime)"
   ]
  },
  {
   "cell_type": "code",
   "execution_count": null,
   "id": "3d749d48-5f42-4b20-9ab1-30ccda80848e",
   "metadata": {},
   "outputs": [],
   "source": [
    "# Save plot\n",
    "plot_save(fig,ID=-1)"
   ]
  },
  {
   "cell_type": "code",
   "execution_count": null,
   "id": "02c38189-6efd-48cc-a7b4-b97e30e6ad9b",
   "metadata": {},
   "outputs": [],
   "source": [
    "def CEnc(Array_1D_len_nt,j=-1):\n",
    "    return model.sym_encoder.predict(Array_1D_len_nt[np.newaxis, :, np.newaxis],verbose=0)[0,:]\n",
    "def NEnc(Array_1D_len_nt,j):\n",
    "    return model.nui_encoder.predict(Array_1D_len_nt[np.newaxis, :, np.newaxis],verbose=0)[0,j*q : (j+1)*q]"
   ]
  },
  {
   "cell_type": "code",
   "execution_count": null,
   "id": "80f3bcb6-8021-418d-a842-067fa3f0c80f",
   "metadata": {},
   "outputs": [],
   "source": []
  },
  {
   "cell_type": "code",
   "execution_count": null,
   "id": "4f8416a6-3df4-491e-ab78-24aaaf807705",
   "metadata": {},
   "outputs": [],
   "source": []
  },
  {
   "cell_type": "code",
   "execution_count": null,
   "id": "88352a83-434c-430f-8210-336baaa63605",
   "metadata": {},
   "outputs": [],
   "source": []
  },
  {
   "cell_type": "code",
   "execution_count": null,
   "id": "c59c3841-2a03-4295-83a9-75af75ab1748",
   "metadata": {},
   "outputs": [],
   "source": []
  },
  {
   "cell_type": "code",
   "execution_count": null,
   "id": "fc1c4369-3551-49b9-bb64-43b185fc8af3",
   "metadata": {},
   "outputs": [],
   "source": []
  },
  {
   "cell_type": "code",
   "execution_count": null,
   "id": "f5cdab89-6f81-4070-a0c3-94faf8ba3b53",
   "metadata": {},
   "outputs": [],
   "source": []
  }
 ],
 "metadata": {
  "kernelspec": {
   "display_name": "Python 3 (ipykernel)",
   "language": "python",
   "name": "python3"
  },
  "language_info": {
   "codemirror_mode": {
    "name": "ipython",
    "version": 3
   },
   "file_extension": ".py",
   "mimetype": "text/x-python",
   "name": "python",
   "nbconvert_exporter": "python",
   "pygments_lexer": "ipython3",
   "version": "3.9.12"
  }
 },
 "nbformat": 4,
 "nbformat_minor": 5
}
