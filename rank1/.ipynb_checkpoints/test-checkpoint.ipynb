{
 "cells": [
  {
   "cell_type": "code",
   "execution_count": 1,
   "id": "ef54931c-fb39-43dd-acdf-f2a7c17fad1d",
   "metadata": {},
   "outputs": [
    {
     "name": "stderr",
     "output_type": "stream",
     "text": [
      "2022-06-16 15:02:05.202282: I tensorflow/core/util/util.cc:169] oneDNN custom operations are on. You may see slightly different numerical results due to floating-point round-off errors from different computation orders. To turn them off, set the environment variable `TF_ENABLE_ONEDNN_OPTS=0`.\n"
     ]
    },
    {
     "name": "stdout",
     "output_type": "stream",
     "text": [
      "Num GPUs Available:  2\n",
      "TensorFlow Version:  2.9.1\n"
     ]
    }
   ],
   "source": [
    "import tensorflow as tf\n",
    "import symae_core as symae\n",
    "tfk = tf.keras\n",
    "tfkl = tf.keras.layers\n",
    "tfkltd= tf.keras.layers.TimeDistributed\n",
    "d=1\n",
    "n1=100\n",
    "n2=100\n",
    "N=1000\n",
    "nt=20\n",
    "p=8\n",
    "q=22\n",
    "dropout_rate=0.5"
   ]
  },
  {
   "cell_type": "code",
   "execution_count": 2,
   "id": "3199bfc9-8dbf-4271-ac6e-93a46bad09b0",
   "metadata": {},
   "outputs": [
    {
     "ename": "ValueError",
     "evalue": "Exception encountered when calling layer \"\" (type SymmetricEncoderDense0D).\n\nin user code:\n\n    File \"/math/home/eruisun/github/SymAE/rank1/symae_core.py\", line 342, in call  *\n        x=self.d7(x)\n    File \"/math/home/eruisun/software/anaconda/envs/MRA/lib/python3.9/site-packages/keras/utils/traceback_utils.py\", line 67, in error_handler  **\n        raise e.with_traceback(filtered_tb) from None\n    File \"/math/home/eruisun/software/anaconda/envs/MRA/lib/python3.9/site-packages/keras/engine/input_spec.py\", line 228, in assert_input_compatibility\n        raise ValueError(f'Input {input_index} of layer \"{layer_name}\" '\n\n    ValueError: Input 0 of layer \"dense_16\" is incompatible with the layer: expected min_ndim=2, found ndim=1. Full shape received: (None,)\n\n\nCall arguments received by layer \"\" (type SymmetricEncoderDense0D):\n  • input_tensor=tf.Tensor(shape=(None, 20), dtype=float32)\n  • training=False",
     "output_type": "error",
     "traceback": [
      "\u001b[0;31m---------------------------------------------------------------------------\u001b[0m",
      "\u001b[0;31mValueError\u001b[0m                                Traceback (most recent call last)",
      "Input \u001b[0;32mIn [11]\u001b[0m, in \u001b[0;36m<cell line: 3>\u001b[0;34m()\u001b[0m\n\u001b[1;32m      1\u001b[0m \u001b[38;5;66;03m# Build symmetric encoder\u001b[39;00m\n\u001b[1;32m      2\u001b[0m sym_enc_input\u001b[38;5;241m=\u001b[39mtfk\u001b[38;5;241m.\u001b[39mInput(shape\u001b[38;5;241m=\u001b[39m(nt))\n\u001b[0;32m----> 3\u001b[0m sym_enc_output\u001b[38;5;241m=\u001b[39m\u001b[43msymae\u001b[49m\u001b[38;5;241;43m.\u001b[39;49m\u001b[43mSymmetricEncoderDense0D\u001b[49m\u001b[43m(\u001b[49m\u001b[43mp\u001b[49m\u001b[43m,\u001b[49m\u001b[43mnt\u001b[49m\u001b[43m)\u001b[49m\u001b[43m(\u001b[49m\u001b[43msym_enc_input\u001b[49m\u001b[43m)\u001b[49m\n\u001b[1;32m      4\u001b[0m sym_encoder\u001b[38;5;241m=\u001b[39mtfk\u001b[38;5;241m.\u001b[39mModel(sym_enc_input, sym_enc_output, name\u001b[38;5;241m=\u001b[39m\u001b[38;5;124m'\u001b[39m\u001b[38;5;124msym_encoder\u001b[39m\u001b[38;5;124m'\u001b[39m)\n\u001b[1;32m      5\u001b[0m sym_encoder\u001b[38;5;241m.\u001b[39msummary()\n",
      "File \u001b[0;32m~/software/anaconda/envs/MRA/lib/python3.9/site-packages/keras/utils/traceback_utils.py:67\u001b[0m, in \u001b[0;36mfilter_traceback.<locals>.error_handler\u001b[0;34m(*args, **kwargs)\u001b[0m\n\u001b[1;32m     65\u001b[0m \u001b[38;5;28;01mexcept\u001b[39;00m \u001b[38;5;167;01mException\u001b[39;00m \u001b[38;5;28;01mas\u001b[39;00m e:  \u001b[38;5;66;03m# pylint: disable=broad-except\u001b[39;00m\n\u001b[1;32m     66\u001b[0m   filtered_tb \u001b[38;5;241m=\u001b[39m _process_traceback_frames(e\u001b[38;5;241m.\u001b[39m__traceback__)\n\u001b[0;32m---> 67\u001b[0m   \u001b[38;5;28;01mraise\u001b[39;00m e\u001b[38;5;241m.\u001b[39mwith_traceback(filtered_tb) \u001b[38;5;28;01mfrom\u001b[39;00m \u001b[38;5;28mNone\u001b[39m\n\u001b[1;32m     68\u001b[0m \u001b[38;5;28;01mfinally\u001b[39;00m:\n\u001b[1;32m     69\u001b[0m   \u001b[38;5;28;01mdel\u001b[39;00m filtered_tb\n",
      "File \u001b[0;32m/tmp/__autograph_generated_file4q_f9dry.py:14\u001b[0m, in \u001b[0;36mouter_factory.<locals>.inner_factory.<locals>.tf__call\u001b[0;34m(self, input_tensor, training)\u001b[0m\n\u001b[1;32m     12\u001b[0m x \u001b[38;5;241m=\u001b[39m ag__\u001b[38;5;241m.\u001b[39mconverted_call(ag__\u001b[38;5;241m.\u001b[39mld(\u001b[38;5;28mself\u001b[39m)\u001b[38;5;241m.\u001b[39md4, (ag__\u001b[38;5;241m.\u001b[39mld(x),), \u001b[38;5;28;01mNone\u001b[39;00m, fscope)\n\u001b[1;32m     13\u001b[0m x \u001b[38;5;241m=\u001b[39m ag__\u001b[38;5;241m.\u001b[39mconverted_call(ag__\u001b[38;5;241m.\u001b[39mld(tf)\u001b[38;5;241m.\u001b[39mmath\u001b[38;5;241m.\u001b[39mreduce_mean, (ag__\u001b[38;5;241m.\u001b[39mld(x),), \u001b[38;5;28mdict\u001b[39m(axis\u001b[38;5;241m=\u001b[39m\u001b[38;5;241m1\u001b[39m), fscope)\n\u001b[0;32m---> 14\u001b[0m x \u001b[38;5;241m=\u001b[39m ag__\u001b[38;5;241m.\u001b[39mconverted_call(ag__\u001b[38;5;241m.\u001b[39mld(\u001b[38;5;28mself\u001b[39m)\u001b[38;5;241m.\u001b[39md7, (ag__\u001b[38;5;241m.\u001b[39mld(x),), \u001b[38;5;28;01mNone\u001b[39;00m, fscope)\n\u001b[1;32m     15\u001b[0m x \u001b[38;5;241m=\u001b[39m ag__\u001b[38;5;241m.\u001b[39mconverted_call(ag__\u001b[38;5;241m.\u001b[39mld(\u001b[38;5;28mself\u001b[39m)\u001b[38;5;241m.\u001b[39mbn, (ag__\u001b[38;5;241m.\u001b[39mld(x),), \u001b[38;5;28mdict\u001b[39m(training\u001b[38;5;241m=\u001b[39mag__\u001b[38;5;241m.\u001b[39mld(training)), fscope)\n\u001b[1;32m     16\u001b[0m x \u001b[38;5;241m=\u001b[39m ag__\u001b[38;5;241m.\u001b[39mconverted_call(ag__\u001b[38;5;241m.\u001b[39mld(\u001b[38;5;28mself\u001b[39m)\u001b[38;5;241m.\u001b[39ma, (ag__\u001b[38;5;241m.\u001b[39mld(x),), \u001b[38;5;28;01mNone\u001b[39;00m, fscope)\n",
      "\u001b[0;31mValueError\u001b[0m: Exception encountered when calling layer \"\" (type SymmetricEncoderDense0D).\n\nin user code:\n\n    File \"/math/home/eruisun/github/SymAE/rank1/symae_core.py\", line 342, in call  *\n        x=self.d7(x)\n    File \"/math/home/eruisun/software/anaconda/envs/MRA/lib/python3.9/site-packages/keras/utils/traceback_utils.py\", line 67, in error_handler  **\n        raise e.with_traceback(filtered_tb) from None\n    File \"/math/home/eruisun/software/anaconda/envs/MRA/lib/python3.9/site-packages/keras/engine/input_spec.py\", line 228, in assert_input_compatibility\n        raise ValueError(f'Input {input_index} of layer \"{layer_name}\" '\n\n    ValueError: Input 0 of layer \"dense_16\" is incompatible with the layer: expected min_ndim=2, found ndim=1. Full shape received: (None,)\n\n\nCall arguments received by layer \"\" (type SymmetricEncoderDense0D):\n  • input_tensor=tf.Tensor(shape=(None, 20), dtype=float32)\n  • training=False"
     ]
    }
   ],
   "source": [
    "# Build symmetric encoder\n",
    "sym_enc_input=tfk.Input(shape=(nt,1))\n",
    "sym_enc_output=symae.SymmetricEncoderDense0D(p,nt)(sym_enc_input)\n",
    "sym_encoder=tfk.Model(sym_enc_input, sym_enc_output, name='sym_encoder')\n",
    "sym_encoder.summary()"
   ]
  },
  {
   "cell_type": "code",
   "execution_count": 3,
   "id": "e8d833b9-20f1-4ac1-8bf8-0fbcf448e09f",
   "metadata": {},
   "outputs": [
    {
     "name": "stdout",
     "output_type": "stream",
     "text": [
      "Model: \"nui_encoder\"\n",
      "_________________________________________________________________\n",
      " Layer (type)                Output Shape              Param #   \n",
      "=================================================================\n",
      " sym_enc_input (InputLayer)  [(None, 20, 1)]           0         \n",
      "                                                                 \n",
      "  (NuisanceEncoderDense0D)   (None, 20, 22)            522       \n",
      "                                                                 \n",
      " flatten (Flatten)           (None, 440)               0         \n",
      "                                                                 \n",
      "=================================================================\n",
      "Total params: 522\n",
      "Trainable params: 502\n",
      "Non-trainable params: 20\n",
      "_________________________________________________________________\n"
     ]
    }
   ],
   "source": [
    "# Build nuisance encoder\n",
    "nui_enc_input=tfk.Input(shape=(nt,1), dtype='float32', name='sym_enc_input')\n",
    "nui_enc_output=symae.NuisanceEncoderDense0D(q,nt)(nui_enc_input)\n",
    "nui_enc_flatten=tfkl.Flatten()(nui_enc_output)\n",
    "nui_encoder=tfk.Model(nui_enc_input, nui_enc_flatten, name='nui_encoder')\n",
    "nui_encoder.summary()"
   ]
  },
  {
   "cell_type": "code",
   "execution_count": 4,
   "id": "99fcf1d0-3840-41cd-99d3-248d0eccdbbd",
   "metadata": {},
   "outputs": [
    {
     "name": "stdout",
     "output_type": "stream",
     "text": [
      "Model: \"distzsym\"\n",
      "_________________________________________________________________\n",
      " Layer (type)                Output Shape              Param #   \n",
      "=================================================================\n",
      " latentcode (InputLayer)     [(None, 448)]             0         \n",
      "                                                                 \n",
      "  (DistributeZsym)           (None, 20, 30)            0         \n",
      "                                                                 \n",
      "=================================================================\n",
      "Total params: 0\n",
      "Trainable params: 0\n",
      "Non-trainable params: 0\n",
      "_________________________________________________________________\n"
     ]
    }
   ],
   "source": [
    "# Build distribute in decoder\n",
    "distribute_input = tfk.Input(shape=(p+q*nt), name='latentcode')\n",
    "distribute_output=symae.DistributeZsym(nt, p, q)(distribute_input)\n",
    "distzsym = tfk.Model(distribute_input, distribute_output, name='distzsym')\n",
    "distzsym.summary()"
   ]
  },
  {
   "cell_type": "code",
   "execution_count": 5,
   "id": "71b23a5b-ed0b-4a4c-b6c7-fcdaa5323538",
   "metadata": {},
   "outputs": [
    {
     "name": "stdout",
     "output_type": "stream",
     "text": [
      "Model: \"mixer\"\n",
      "_________________________________________________________________\n",
      " Layer (type)                Output Shape              Param #   \n",
      "=================================================================\n",
      " mixer_input (InputLayer)    [(None, 20, 30)]          0         \n",
      "                                                                 \n",
      "  (MixerDense0D)             (None, 20, 1)             1021      \n",
      "                                                                 \n",
      "=================================================================\n",
      "Total params: 1,021\n",
      "Trainable params: 991\n",
      "Non-trainable params: 30\n",
      "_________________________________________________________________\n"
     ]
    }
   ],
   "source": [
    "#Build mixer in decoder\n",
    "mixer_input = tfk.Input(shape=(nt,p+q), name='mixer_input')\n",
    "mixer_output=symae.MixerDense0D(1,p+q)(mixer_input)\n",
    "mixer = tfk.Model(mixer_input, mixer_output, name='mixer') \n",
    "mixer.summary()"
   ]
  },
  {
   "cell_type": "code",
   "execution_count": 6,
   "id": "221288dc-f40a-4bce-b297-464e22fee759",
   "metadata": {},
   "outputs": [],
   "source": [
    "# Build encoder\n",
    "encoder_input=tfk.Input(shape=(nt,1), dtype='float32', name='encoder_input')\n",
    "znuisance=nui_encoder(encoder_input)\n",
    "zsym=sym_encoder(encoder_input)\n",
    "latentcat=symae.LatentCat(dropout_rate) #0.4 droupout\n",
    "encoder_output=latentcat(zsym,znuisance)\n",
    "encoder=tfk.Model(encoder_input, encoder_output, name=\"encoder\")\n",
    "\n",
    "# Build decoder\n",
    "decoder_input = tfk.Input(shape=(p+q*nt), name='latentcode')\n",
    "decoder_output=mixer(distzsym(decoder_input))\n",
    "decoder=tfk.Model(decoder_input,decoder_output, name=\"decoder\") \n",
    "\n",
    "#Build SymAE\n",
    "model=tf.keras.Model(encoder_input, decoder(encoder_output) , name='autoencoder_clone')"
   ]
  },
  {
   "cell_type": "code",
   "execution_count": 7,
   "id": "71c3251d-52e1-4da0-a4a1-fd7012997086",
   "metadata": {},
   "outputs": [],
   "source": [
    "# Generate the Dataset\n",
    "import numpy as np\n",
    "d=1\n",
    "n1=100\n",
    "n2=100\n",
    "nx=10\n",
    "nt=20\n",
    "p=8\n",
    "q=22\n",
    "states=np.arange(n1)\n",
    "nuisances=np.arange(n2)\n",
    "X=np.empty((nx,nt), dtype = float, order = 'C')\n",
    "D=np.tensordot(states,nuisances,0)\n",
    "for i in range(nx):\n",
    "    e=np.random.choice(range(n1))\n",
    "    c=np.random.choice(range(n2),replace=False,size=nt)\n",
    "    for t in range(nt):\n",
    "        X[i,t]=D[e,c[t]]    "
   ]
  },
  {
   "cell_type": "code",
   "execution_count": 8,
   "id": "9713161e-9fda-4b02-aded-c35d52754deb",
   "metadata": {},
   "outputs": [
    {
     "name": "stdout",
     "output_type": "stream",
     "text": [
      "Model: \"autoencoder_clone\"\n",
      "__________________________________________________________________________________________________\n",
      " Layer (type)                   Output Shape         Param #     Connected to                     \n",
      "==================================================================================================\n",
      " encoder_input (InputLayer)     [(None, 20, 1)]      0           []                               \n",
      "                                                                                                  \n",
      " sym_encoder (Functional)       (None, 8)            478         ['encoder_input[0][0]']          \n",
      "                                                                                                  \n",
      " nui_encoder (Functional)       (None, 440)          522         ['encoder_input[0][0]']          \n",
      "                                                                                                  \n",
      "  (LatentCat)                   (None, 448)          0           ['sym_encoder[0][0]',            \n",
      "                                                                  'nui_encoder[0][0]']            \n",
      "                                                                                                  \n",
      " decoder (Functional)           (None, 20, 1)        1021        ['[0][0]']                       \n",
      "                                                                                                  \n",
      "==================================================================================================\n",
      "Total params: 2,021\n",
      "Trainable params: 1,951\n",
      "Non-trainable params: 70\n",
      "__________________________________________________________________________________________________\n"
     ]
    }
   ],
   "source": [
    "Adam=tf.keras.optimizers.Adam(learning_rate=0.001,beta_1=0.9,beta_2=0.999,epsilon=1e-07)\n",
    "SGD=tf.keras.optimizers.SGD(learning_rate=0.1,momentum=0.9,nesterov=True)\n",
    "model.compile(loss='mse',optimizer=Adam)\n",
    "model.summary()"
   ]
  },
  {
   "cell_type": "code",
   "execution_count": 10,
   "id": "e88f8cb2-9045-459d-9e59-1c35c6a79062",
   "metadata": {},
   "outputs": [
    {
     "name": "stdout",
     "output_type": "stream",
     "text": [
      "Epoch 1/50\n",
      "1/1 [==============================] - 0s 21ms/step - loss: 11005411.0000\n",
      "Epoch 2/50\n",
      "1/1 [==============================] - 0s 14ms/step - loss: 11005044.0000\n",
      "Epoch 3/50\n",
      "1/1 [==============================] - 0s 17ms/step - loss: 11004698.0000\n",
      "Epoch 4/50\n",
      "1/1 [==============================] - 0s 14ms/step - loss: 11004856.0000\n",
      "Epoch 5/50\n",
      "1/1 [==============================] - 0s 17ms/step - loss: 11004397.0000\n",
      "Epoch 6/50\n",
      "1/1 [==============================] - 0s 15ms/step - loss: 11004053.0000\n",
      "Epoch 7/50\n",
      "1/1 [==============================] - 0s 15ms/step - loss: 11004113.0000\n",
      "Epoch 8/50\n",
      "1/1 [==============================] - 0s 16ms/step - loss: 11003610.0000\n",
      "Epoch 9/50\n",
      "1/1 [==============================] - 0s 14ms/step - loss: 11003494.0000\n",
      "Epoch 10/50\n",
      "1/1 [==============================] - 0s 14ms/step - loss: 11003059.0000\n",
      "Epoch 11/50\n",
      "1/1 [==============================] - 0s 14ms/step - loss: 11002998.0000\n",
      "Epoch 12/50\n",
      "1/1 [==============================] - 0s 15ms/step - loss: 11002946.0000\n",
      "Epoch 13/50\n",
      "1/1 [==============================] - 0s 16ms/step - loss: 11002793.0000\n",
      "Epoch 14/50\n",
      "1/1 [==============================] - 0s 14ms/step - loss: 11002447.0000\n",
      "Epoch 15/50\n",
      "1/1 [==============================] - 0s 16ms/step - loss: 11002390.0000\n",
      "Epoch 16/50\n",
      "1/1 [==============================] - 0s 18ms/step - loss: 11002237.0000\n",
      "Epoch 17/50\n",
      "1/1 [==============================] - 0s 17ms/step - loss: 11002087.0000\n",
      "Epoch 18/50\n",
      "1/1 [==============================] - 0s 15ms/step - loss: 11001797.0000\n",
      "Epoch 19/50\n",
      "1/1 [==============================] - 0s 16ms/step - loss: 11001710.0000\n",
      "Epoch 20/50\n",
      "1/1 [==============================] - 0s 16ms/step - loss: 11001633.0000\n",
      "Epoch 21/50\n",
      "1/1 [==============================] - 0s 14ms/step - loss: 11001483.0000\n",
      "Epoch 22/50\n",
      "1/1 [==============================] - 0s 15ms/step - loss: 11001293.0000\n",
      "Epoch 23/50\n",
      "1/1 [==============================] - 0s 16ms/step - loss: 11001127.0000\n",
      "Epoch 24/50\n",
      "1/1 [==============================] - 0s 15ms/step - loss: 11000828.0000\n",
      "Epoch 25/50\n",
      "1/1 [==============================] - 0s 14ms/step - loss: 11000505.0000\n",
      "Epoch 26/50\n",
      "1/1 [==============================] - 0s 14ms/step - loss: 11000528.0000\n",
      "Epoch 27/50\n",
      "1/1 [==============================] - 0s 16ms/step - loss: 11000349.0000\n",
      "Epoch 28/50\n",
      "1/1 [==============================] - 0s 15ms/step - loss: 11000081.0000\n",
      "Epoch 29/50\n",
      "1/1 [==============================] - 0s 16ms/step - loss: 11000409.0000\n",
      "Epoch 30/50\n",
      "1/1 [==============================] - 0s 14ms/step - loss: 11000178.0000\n",
      "Epoch 31/50\n",
      "1/1 [==============================] - 0s 14ms/step - loss: 10999835.0000\n",
      "Epoch 32/50\n",
      "1/1 [==============================] - 0s 19ms/step - loss: 10999752.0000\n",
      "Epoch 33/50\n",
      "1/1 [==============================] - 0s 16ms/step - loss: 10999811.0000\n",
      "Epoch 34/50\n",
      "1/1 [==============================] - 0s 14ms/step - loss: 10999580.0000\n",
      "Epoch 35/50\n",
      "1/1 [==============================] - 0s 15ms/step - loss: 10999483.0000\n",
      "Epoch 36/50\n",
      "1/1 [==============================] - 0s 16ms/step - loss: 10999106.0000\n",
      "Epoch 37/50\n",
      "1/1 [==============================] - 0s 16ms/step - loss: 10999210.0000\n",
      "Epoch 38/50\n",
      "1/1 [==============================] - 0s 15ms/step - loss: 10998846.0000\n",
      "Epoch 39/50\n",
      "1/1 [==============================] - 0s 15ms/step - loss: 10998813.0000\n",
      "Epoch 40/50\n",
      "1/1 [==============================] - 0s 14ms/step - loss: 10998786.0000\n",
      "Epoch 41/50\n",
      "1/1 [==============================] - 0s 15ms/step - loss: 10998687.0000\n",
      "Epoch 42/50\n",
      "1/1 [==============================] - 0s 14ms/step - loss: 10998374.0000\n",
      "Epoch 43/50\n",
      "1/1 [==============================] - 0s 13ms/step - loss: 10998073.0000\n",
      "Epoch 44/50\n",
      "1/1 [==============================] - 0s 14ms/step - loss: 10998123.0000\n",
      "Epoch 45/50\n",
      "1/1 [==============================] - 0s 15ms/step - loss: 10997715.0000\n",
      "Epoch 46/50\n",
      "1/1 [==============================] - 0s 18ms/step - loss: 10997698.0000\n",
      "Epoch 47/50\n",
      "1/1 [==============================] - 0s 17ms/step - loss: 10997542.0000\n",
      "Epoch 48/50\n",
      "1/1 [==============================] - 0s 14ms/step - loss: 10997400.0000\n",
      "Epoch 49/50\n",
      "1/1 [==============================] - 0s 16ms/step - loss: 10997264.0000\n",
      "Epoch 50/50\n",
      "1/1 [==============================] - 0s 16ms/step - loss: 10997139.0000\n"
     ]
    }
   ],
   "source": [
    "# Train the NeuralNet\n",
    "M=50\n",
    "epochs=range(M)\n",
    "losses=[0.0]*M\n",
    "class CustomCallback(tf.keras.callbacks.Callback):\n",
    "    def on_epoch_end(self, epoch, logs=None):\n",
    "        clear_output(wait=True)\n",
    "        losses[epoch]=logs[\"loss\"]\n",
    "        print(\"For epoch {:d}, loss is {:f}.\".format(epoch, logs[\"loss\"]))\n",
    "history=model.fit(X,X,epochs=M,verbose=1)"
   ]
  },
  {
   "cell_type": "code",
   "execution_count": null,
   "id": "91569a39-5ee8-4cd0-89f1-1f84220db435",
   "metadata": {},
   "outputs": [],
   "source": []
  }
 ],
 "metadata": {
  "kernelspec": {
   "display_name": "Python 3 (ipykernel)",
   "language": "python",
   "name": "python3"
  },
  "language_info": {
   "codemirror_mode": {
    "name": "ipython",
    "version": 3
   },
   "file_extension": ".py",
   "mimetype": "text/x-python",
   "name": "python",
   "nbconvert_exporter": "python",
   "pygments_lexer": "ipython3",
   "version": "3.9.12"
  }
 },
 "nbformat": 4,
 "nbformat_minor": 5
}
