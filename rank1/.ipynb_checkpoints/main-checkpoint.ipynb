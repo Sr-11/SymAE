{
 "cells": [
  {
   "cell_type": "markdown",
   "id": "653c0a99-d178-4121-b9ce-ede762fdd228",
   "metadata": {
    "tags": []
   },
   "source": [
    "# Import packages"
   ]
  },
  {
   "cell_type": "markdown",
   "id": "d8e44961-2ccf-4ece-91c8-3ea6d55ae695",
   "metadata": {
    "tags": []
   },
   "source": [
    "### Import python packages"
   ]
  },
  {
   "cell_type": "code",
   "execution_count": 1,
   "id": "79464c78-90d9-4773-9e3b-b9e4f822c9dc",
   "metadata": {},
   "outputs": [],
   "source": [
    "import re,os\n",
    "import numpy as np\n",
    "import tensorflow as tf\n",
    "import matplotlib.pyplot as plt\n",
    "import matplotlib.patches as mpatches\n",
    "from IPython.display import clear_output\n",
    "import pandas as pd\n",
    "import math\n",
    "import random\n",
    "from datetime import datetime\n",
    "from tqdm import trange\n",
    "import matplotlib.colors as mcolors\n",
    "from sklearn.decomposition import PCA\n",
    "import plotly.express as px\n",
    "\n",
    "tfk = tf.keras\n",
    "tfkl = tf.keras.layers\n",
    "clear_output()"
   ]
  },
  {
   "cell_type": "markdown",
   "id": "3f89dd1f-f051-49f8-9098-7ce140285bf1",
   "metadata": {
    "tags": []
   },
   "source": [
    "### Import custom packages"
   ]
  },
  {
   "cell_type": "code",
   "execution_count": 2,
   "id": "ec2f6e4f-a152-4ccf-8a01-4bcdd632fcbd",
   "metadata": {},
   "outputs": [
    {
     "name": "stdout",
     "output_type": "stream",
     "text": [
      "Num GPUs Available:  2\n",
      "TensorFlow Version:  2.9.1\n"
     ]
    }
   ],
   "source": [
    "from symae_model import SymAE\n",
    "from plot_save import plot_save\n",
    "from generate import generate\n",
    "from plot_training import plot_training\n",
    "from redatuming import redatuming\n",
    "from plot_redatuming import plot_redatuming\n",
    "from latent import latent"
   ]
  },
  {
   "cell_type": "markdown",
   "id": "331a3efd-bbec-4b17-9959-29a0230b8c90",
   "metadata": {
    "tags": []
   },
   "source": [
    "# Generate the Dataset"
   ]
  },
  {
   "cell_type": "markdown",
   "id": "7058abe7-f44b-4ac2-9094-e3eade1dd0b3",
   "metadata": {
    "tags": []
   },
   "source": [
    "### Set parameters"
   ]
  },
  {
   "cell_type": "markdown",
   "id": "71868df9-0acd-4873-b045-61975e4bdfb3",
   "metadata": {
    "tags": []
   },
   "source": [
    "n1 = $n_\\varepsilon$  \n",
    "n2 = number of nuisances  \n",
    "nx = $n_X$  \n",
    "nt = $n_\\tau$   \n",
    "states = all states I will use  \n",
    "nuisances = all nuisances I will use  \n",
    "\n",
    "If replace==0, without replacement everywhere. Must nx*nt <= n1*n2.  \n",
    "If replace==1, X[i,:] have different nuisances, but each block in D can appear multiple times in X.  \n",
    "If replace==2, with replacement everywhere."
   ]
  },
  {
   "cell_type": "code",
   "execution_count": 10,
   "id": "d22a959b-8479-4d61-87fb-018bc497ac18",
   "metadata": {},
   "outputs": [],
   "source": [
    "n1 = 10 \n",
    "n2 = 10\n",
    "nx = 200\n",
    "nt = 10\n",
    "p = 5\n",
    "q = 15\n",
    "dropout_rate = 0.5\n",
    "replace = 1\n",
    "states = np.arange(n1)+1\n",
    "nuisances = np.arange(n2)+1"
   ]
  },
  {
   "cell_type": "markdown",
   "id": "a71de487-0b37-4ab8-afc8-a6799c01bfd0",
   "metadata": {
    "tags": []
   },
   "source": [
    "### Generate X"
   ]
  },
  {
   "cell_type": "code",
   "execution_count": 11,
   "id": "246ee958-8cc2-44f2-a17f-e4fbcc36433c",
   "metadata": {},
   "outputs": [
    {
     "name": "stdout",
     "output_type": "stream",
     "text": [
      "X is larger than D\n"
     ]
    }
   ],
   "source": [
    "if nx*nt > n1*n2:\n",
    "    print('X is larger than D')\n",
    "data = generate(states,nuisances,nx,nt,replace=replace)\n",
    "X = data.X\n",
    "X_states = data.X_states\n",
    "X_nuisances = data.X_nuisances"
   ]
  },
  {
   "cell_type": "code",
   "execution_count": 13,
   "id": "9cb60927-a3ef-4d2f-8670-2719afea05e8",
   "metadata": {},
   "outputs": [
    {
     "data": {
      "text/plain": [
       "[[0, 1, 2, 3, 4, 5, 6, 7, 8, 9],\n",
       " [0, 1, 2, 3, 4, 5, 6, 7, 8, 9],\n",
       " [0, 1, 2, 3, 4, 5, 6, 7, 8, 9],\n",
       " [0, 1, 2, 3, 4, 5, 6, 7, 8, 9],\n",
       " [0, 1, 2, 3, 4, 5, 6, 7, 8, 9],\n",
       " [0, 1, 2, 3, 4, 5, 6, 7, 8, 9],\n",
       " [0, 1, 2, 3, 4, 5, 6, 7, 8, 9],\n",
       " [0, 1, 2, 3, 4, 5, 6, 7, 8, 9],\n",
       " [0, 1, 2, 3, 4, 5, 6, 7, 8, 9],\n",
       " [0, 1, 2, 3, 4, 5, 6, 7, 8, 9]]"
      ]
     },
     "execution_count": 13,
     "metadata": {},
     "output_type": "execute_result"
    }
   ],
   "source": [
    "data.waiting_samples"
   ]
  },
  {
   "cell_type": "markdown",
   "id": "edb73e1e-f4b3-45ae-a67a-58cb4af0c857",
   "metadata": {
    "tags": []
   },
   "source": [
    "### What blocks in D is selected by X?"
   ]
  },
  {
   "cell_type": "code",
   "execution_count": null,
   "id": "d1b6c4f6-3e72-4489-a487-7fcac4782ab7",
   "metadata": {},
   "outputs": [],
   "source": [
    "waiting_samples = data.waiting_samples\n",
    "D_selected = np.ones((n1,n2))\n",
    "for i in range(n1):\n",
    "    for j in range(n2):\n",
    "        D_selected[i][waiting_samples[i]] = 0    \n",
    "plt.figure(figsize=(5,5),dpi=100)\n",
    "plt.matshow(D_selected.T, fignum=1)\n",
    "purple_patch = mpatches.Patch(color='purple', label='out X')\n",
    "yellow_patch = mpatches.Patch(color='yellow', label='in X')\n",
    "plt.legend(handles=[purple_patch,yellow_patch])\n",
    "plt.ylabel('nuisances')\n",
    "plt.xlabel('states')\n",
    "plt.xticks(range(n1))\n",
    "plt.yticks(range(n2))\n",
    "plt.gca().set_xticks([x - 0.5 for x in plt.gca().get_xticks()][1:], minor='true')\n",
    "plt.gca().set_yticks([y - 0.5 for y in plt.gca().get_yticks()][1:], minor='true')\n",
    "plt.grid(which='minor')\n",
    "plt.show()"
   ]
  },
  {
   "cell_type": "code",
   "execution_count": null,
   "id": "498bc279-aa1c-4c88-92bf-28d3f8312cc8",
   "metadata": {},
   "outputs": [],
   "source": []
  },
  {
   "cell_type": "markdown",
   "id": "d06811a0-65cb-4021-86c9-ab0a3a52f03d",
   "metadata": {
    "tags": []
   },
   "source": [
    "# Train SymAE"
   ]
  },
  {
   "cell_type": "markdown",
   "id": "ef994434-2a26-48a6-9afe-fdfd50d78eea",
   "metadata": {
    "tags": []
   },
   "source": [
    "### Initialize SymAE"
   ]
  },
  {
   "cell_type": "code",
   "execution_count": null,
   "id": "f88526f1-9463-4e85-bf1b-cb0cbad1ea28",
   "metadata": {},
   "outputs": [],
   "source": [
    "model = SymAE(nx,nt,p,q,dropout_rate)\n",
    "model.load_weights('./checkpoint/'+datetime.now().strftime(\"%B%d\"))\n",
    "#model.load_weights('./checkpoint/'+'June21')\n",
    "clear_output()"
   ]
  },
  {
   "cell_type": "markdown",
   "id": "6a81f827-25f5-4801-9ae7-2b81e857c0eb",
   "metadata": {
    "tags": []
   },
   "source": [
    "### Select optimizer"
   ]
  },
  {
   "cell_type": "code",
   "execution_count": null,
   "id": "c25761b5-cfc5-4881-b4ae-7f6c3cab9a25",
   "metadata": {},
   "outputs": [],
   "source": [
    "Adam = tf.keras.optimizers.Adam(learning_rate=0.0001,beta_1=0.9,beta_2=0.999,epsilon=1e-07)\n",
    "model.compile(loss='mse',optimizer=Adam)"
   ]
  },
  {
   "cell_type": "markdown",
   "id": "2458dc2f-8272-4eec-a5d9-b4c9586aac4e",
   "metadata": {
    "tags": []
   },
   "source": [
    "### Train the NeuralNet"
   ]
  },
  {
   "cell_type": "code",
   "execution_count": null,
   "id": "3c1e2ea7-0804-47cd-b307-f03917fdd658",
   "metadata": {},
   "outputs": [],
   "source": [
    "M=1000\n",
    "epochs=range(M)\n",
    "losses=[0.0]*M\n",
    "class CustomCallback(tf.keras.callbacks.Callback):\n",
    "    def on_epoch_end(self, epoch, logs=None):\n",
    "        clear_output(wait=True)\n",
    "        losses[epoch]=logs[\"loss\"]\n",
    "        print(\"For epoch {:d}, loss is {:f}.\".format(epoch, logs[\"loss\"]))\n",
    "history=model.fit(X,X,epochs=M,verbose=0,callbacks=[CustomCallback()])"
   ]
  },
  {
   "cell_type": "markdown",
   "id": "339c3ef1-6123-4d3b-8071-63c08375c3de",
   "metadata": {
    "tags": []
   },
   "source": [
    "### Loss-epoch graph"
   ]
  },
  {
   "cell_type": "code",
   "execution_count": null,
   "id": "b524add1-6c48-42dd-bb86-59dad136ba9b",
   "metadata": {},
   "outputs": [],
   "source": [
    "plt.plot(epochs,losses)\n",
    "plt.xlabel('epoch')\n",
    "plt.ylabel('loss')\n",
    "plt.show()"
   ]
  },
  {
   "cell_type": "markdown",
   "id": "20516808-4ee3-48c4-aeb8-07b94b35f70c",
   "metadata": {
    "tags": []
   },
   "source": [
    "### Save weights"
   ]
  },
  {
   "cell_type": "code",
   "execution_count": null,
   "id": "a187e4f4-629d-4b71-93fc-a980a3d2a1fb",
   "metadata": {},
   "outputs": [],
   "source": [
    "# Save weights\n",
    "model.save_weights('./checkpoint/'+datetime.now().strftime(\"%B%d\"))\n",
    "print(\"weights saved\")"
   ]
  },
  {
   "cell_type": "markdown",
   "id": "ceee184d-2805-4ee6-9b70-14cf842cbeef",
   "metadata": {
    "tags": []
   },
   "source": [
    "# Matplot training loss"
   ]
  },
  {
   "cell_type": "markdown",
   "id": "5601987e-cc5d-481b-8fa7-9f5ce90e06d8",
   "metadata": {
    "tags": []
   },
   "source": [
    "### Creat a dict mapping from subscripts of D to subscripts of X"
   ]
  },
  {
   "cell_type": "code",
   "execution_count": null,
   "id": "6dd5260a-adda-498d-aa78-fafe05a457bd",
   "metadata": {},
   "outputs": [],
   "source": [
    "subscript_map = {}\n",
    "for i in range(nx):\n",
    "    for j in range(nt):\n",
    "        subscript_map[(X_states[i],X_nuisances[i,j])] = (i,j)"
   ]
  },
  {
   "cell_type": "markdown",
   "id": "f9d0f6dd-1351-43fa-967f-9a6feab99383",
   "metadata": {
    "tags": []
   },
   "source": [
    "### Plot D and SymAE(X)"
   ]
  },
  {
   "cell_type": "code",
   "execution_count": null,
   "id": "49da7f28-8575-4bc3-a2c7-660c4cdabd94",
   "metadata": {},
   "outputs": [],
   "source": [
    "D = data.D\n",
    "X_hat = model.predict(X)[:,:,0]\n",
    "X_converted = np.empty((n1,n2))\n",
    "X_converted.fill(np.inf)\n",
    "for i in range(nx):\n",
    "    for j in range(nt):\n",
    "        i_D = X_states[i]\n",
    "        j_D = X_nuisances[i,j]\n",
    "        X_converted[i_D,j_D] = X_hat[i,j]\n",
    "def plot_reconstruct(D,X_converted):\n",
    "    fig, axs = plt.subplots(1, 2, sharex=True, sharey=True, figsize=(10,5))\n",
    "    norm = mcolors.Normalize(vmin=np.amin(D), vmax=np.amax(D))\n",
    "    pcm = axs[0].matshow(D.T, norm = norm)\n",
    "    axs[0].set_ylabel('nuisances')\n",
    "    axs[0].set_xlabel('states')\n",
    "    axs[0].set_xticks(range(n1))\n",
    "    axs[0].set_yticks(range(n2))\n",
    "    axs[0].set_title('D')\n",
    "    pcm = axs[1].matshow(X_converted.T, norm = norm)\n",
    "    axs[1].set_ylabel('nuisances')\n",
    "    axs[1].set_xlabel('states')\n",
    "    axs[1].set_xticks(range(n1))\n",
    "    axs[1].set_yticks(range(n2))\n",
    "    axs[1].set_title('$\\hat{X}$')\n",
    "    fig.colorbar(pcm,ax=axs)\n",
    "    return fig\n",
    "fig = plot_reconstruct(D,X_converted)\n",
    "fig.suptitle('Training loss',fontsize=15)\n",
    "plt.show()"
   ]
  },
  {
   "cell_type": "markdown",
   "id": "2c980610-94b7-48b3-861a-3fb6e9297220",
   "metadata": {
    "tags": []
   },
   "source": [
    "# Performance of reconstructing D"
   ]
  },
  {
   "cell_type": "markdown",
   "id": "2581475e-6a1b-4a60-adb9-299aac033294",
   "metadata": {},
   "source": [
    "### Evaluate latent code"
   ]
  },
  {
   "cell_type": "code",
   "execution_count": null,
   "id": "cb22b999-76e5-42b2-bb93-3eb7b580724b",
   "metadata": {},
   "outputs": [],
   "source": [
    "Cs = model.sym_encoder.predict(X, verbose=0)\n",
    "Ns = model.nui_encoder.predict(X, verbose=0)\n",
    "print(Cs.shape)\n",
    "print(Ns.shape)\n",
    "print(X_states.shape)\n",
    "print(X_nuisances.shape)"
   ]
  },
  {
   "cell_type": "markdown",
   "id": "fd57f4ee-c9bc-485d-96fb-10f3293edc67",
   "metadata": {},
   "source": [
    "### Creat a dict, mapping from coordinates of missing blocks (in D) to coordinates i, i', j (in X)"
   ]
  },
  {
   "cell_type": "code",
   "execution_count": null,
   "id": "279ee0d7-65ec-4efa-9bea-dff4ca7f1ee8",
   "metadata": {},
   "outputs": [],
   "source": [
    "flag = True \n",
    "#If flag==True, then do redatuming for all blocks\n",
    "#If flag==False, then do redatuming only for blank blocks\n",
    "missing_map = {}\n",
    "for i_D in range(n1):\n",
    "    for j_D in range(n2):\n",
    "        if X_converted[i_D,j_D] == np.inf or flag:\n",
    "            state_candidates = np.argwhere(X_states==i_D)\n",
    "            nuisance_candidates = np.argwhere(X_nuisances==j_D)\n",
    "            try:\n",
    "                i_s, = state_candidates[np.random.choice(state_candidates.shape[0])]\n",
    "                i_n, j_n = nuisance_candidates[np.random.choice(nuisance_candidates.shape[0])]\n",
    "                missing_map[i_D,j_D] = (i_n,i_s,j_n)\n",
    "            except:\n",
    "                print('all blank')\n",
    "for i_D in range(n1):\n",
    "    for j_D in range(n2):\n",
    "        i, i_prime, j = missing_map[i_D,j_D] \n",
    "        assert X_states[i_prime] == i_D\n",
    "        assert X_nuisances[i,j] == j_D"
   ]
  },
  {
   "cell_type": "code",
   "execution_count": null,
   "id": "d64a8be9-a37f-4b36-a5ee-528263a90545",
   "metadata": {},
   "outputs": [],
   "source": []
  },
  {
   "cell_type": "markdown",
   "id": "b8803785-5cf0-40f8-8cf6-f85f737b71e0",
   "metadata": {},
   "source": [
    "### Fill out X_converted"
   ]
  },
  {
   "cell_type": "code",
   "execution_count": null,
   "id": "dc3396df-5679-4a7c-aa3f-0c66d8dc5c39",
   "metadata": {},
   "outputs": [],
   "source": [
    "def dec(latent_code):\n",
    "    tem = latent_code[np.newaxis, np.newaxis, :]\n",
    "    tem = np.repeat(tem, nt, axis=1)\n",
    "    tem = model.mixer.predict(tem, verbose=0)\n",
    "    return tem[0,0,0]\n",
    "    \n",
    "X_redatum = np.copy(X_converted)\n",
    "coherent_i_prime = np.empty((1,p))\n",
    "nuisance_i_j = np.empty((1,q*nt))\n",
    "for (i_D,j_D) in missing_map.keys():\n",
    "    i,i_prime,j = missing_map[i_D,j_D]\n",
    "    coherent_i_prime=Cs[i_prime,:]\n",
    "    nuisance_i_j=Ns[i,j*q:(j+1)*q]\n",
    "    merger = np.concatenate([coherent_i_prime,nuisance_i_j])\n",
    "    X_redatum[i_D,j_D] = dec(merger)"
   ]
  },
  {
   "cell_type": "code",
   "execution_count": null,
   "id": "171c1718-916d-4e9f-9321-a8e341da85f2",
   "metadata": {},
   "outputs": [],
   "source": []
  },
  {
   "cell_type": "markdown",
   "id": "d08f5495-9f58-4291-9041-b4bdbd7ee277",
   "metadata": {},
   "source": [
    "### Plot"
   ]
  },
  {
   "cell_type": "code",
   "execution_count": null,
   "id": "7158842a-93b6-4b1b-9bd8-f1a81dc0a24b",
   "metadata": {},
   "outputs": [],
   "source": [
    "fig = plot_reconstruct(D,X_redatum)\n",
    "fig.suptitle('Redatuming',fontsize=15)\n",
    "plt.show()"
   ]
  },
  {
   "cell_type": "markdown",
   "id": "d6ce226c-c525-41c1-97ac-7b3d5ae11ba5",
   "metadata": {},
   "source": [
    "# PCA"
   ]
  },
  {
   "cell_type": "markdown",
   "id": "89ffa857-8b3d-4694-97c9-99b2af67906a",
   "metadata": {},
   "source": [
    "### p-space"
   ]
  },
  {
   "cell_type": "code",
   "execution_count": null,
   "id": "34bd3e8f-02a8-4ac8-897f-2902ca79b4f6",
   "metadata": {},
   "outputs": [],
   "source": [
    "pca = PCA(n_components=2)\n",
    "Cs,Ns = latent(model,X)\n",
    "pca_C = pca.fit_transform(Cs)\n",
    "df = pd.DataFrame(pca_C, columns = ['1st','2nd'])\n",
    "tem = pd.DataFrame(X_states,columns=['state'])\n",
    "df = pd.concat([df,tem],axis=1)\n",
    "df.sort_values('state',inplace=True)\n",
    "fig = px.scatter(df, x='1st', y='2nd', color='state')\n",
    "fig.update_layout(title_text='p space PCA')\n",
    "fig.show()"
   ]
  },
  {
   "cell_type": "markdown",
   "id": "a9a562b1-28ee-48da-ab85-d5da707dadd2",
   "metadata": {},
   "source": [
    "### q space"
   ]
  },
  {
   "cell_type": "code",
   "execution_count": null,
   "id": "3a137aaf-614c-426a-a85d-3b7b0bd97e55",
   "metadata": {},
   "outputs": [],
   "source": [
    "pca = PCA(n_components=3)\n",
    "Cs,Ns = latent(model,X)\n",
    "pca_N = pca.fit_transform(Ns.reshape(-1,q))\n",
    "df = pd.DataFrame(pca_N, columns = ['1st','2nd','3rd'])\n",
    "tem = pd.DataFrame(X_nuisances.reshape(-1,1),columns=['nuisance'])\n",
    "df = pd.concat([df,tem],axis=1)\n",
    "\n",
    "tem = pd.DataFrame(np.repeat(X_states,nt,axis=0),columns=['state'])\n",
    "df = pd.concat([df,tem],axis=1)\n",
    "\n",
    "df.sort_values('state',inplace=True)\n",
    "\n",
    "fig = px.scatter_3d(df, x='1st', y='2nd', z='3rd', color='nuisance', text=\"state\")\n",
    "fig.update_layout(title_text='q space PCA')\n",
    "fig.update_traces(textposition='top center')\n",
    "fig.show()"
   ]
  },
  {
   "cell_type": "code",
   "execution_count": null,
   "id": "99ffeaf0-4e88-4ff9-ab56-9e5fe7c917f3",
   "metadata": {},
   "outputs": [],
   "source": []
  },
  {
   "cell_type": "markdown",
   "id": "9e6d68c9-41ab-452a-b39e-ba86e7c7d0e8",
   "metadata": {
    "tags": []
   },
   "source": [
    "# Others (not using)"
   ]
  },
  {
   "cell_type": "markdown",
   "id": "dbeb6d4d-1177-4b8b-bda6-48873dff5245",
   "metadata": {},
   "source": [
    "### Plot the result"
   ]
  },
  {
   "cell_type": "code",
   "execution_count": null,
   "id": "1142a313-123b-4bde-99c4-506242945e77",
   "metadata": {},
   "outputs": [],
   "source": [
    "Y = model.predict(X)\n",
    "i = 0\n",
    "fig = plot_training(X,Y,i)\n",
    "plt.title('i=%d, state=%d'%(0,X_states[0]))"
   ]
  },
  {
   "cell_type": "markdown",
   "id": "a33222ee-df8b-4067-b977-95601fa336cd",
   "metadata": {},
   "source": [
    "### Save plot"
   ]
  },
  {
   "cell_type": "code",
   "execution_count": null,
   "id": "c21c9740-bcc3-4e91-b96c-c96397a852e4",
   "metadata": {},
   "outputs": [],
   "source": [
    "plot_save(fig,ID=-1)"
   ]
  },
  {
   "cell_type": "markdown",
   "id": "72a6604e-cd5f-4e0f-b90d-551ca58952ab",
   "metadata": {},
   "source": [
    "## Readtuming"
   ]
  },
  {
   "cell_type": "markdown",
   "id": "e1a1d391-71ab-430d-b959-9a9b8a12e02a",
   "metadata": {},
   "source": [
    "### Z_hat[i,i',j] is $\\hat{X}_{i \\to i'}[j]$. Z is what we expect Z_hat to be\n"
   ]
  },
  {
   "cell_type": "code",
   "execution_count": null,
   "id": "dcedbd55-0c90-4aea-90e6-6bea5296eb95",
   "metadata": {},
   "outputs": [],
   "source": [
    "Z, Z_hat = redatuming(model,data)"
   ]
  },
  {
   "cell_type": "markdown",
   "id": "b315935e-f9af-4f47-85dd-741d1a21e843",
   "metadata": {},
   "source": [
    "### Plot redatuming for specific i and i'"
   ]
  },
  {
   "cell_type": "code",
   "execution_count": null,
   "id": "0a57cac9-dea9-4f30-a79c-6251769c8819",
   "metadata": {},
   "outputs": [],
   "source": [
    "i = 0\n",
    "i_prime = 1\n",
    "fig = plot_redatuming(Z,Z_hat,X_states,i,i_prime)"
   ]
  },
  {
   "cell_type": "markdown",
   "id": "dafcbd6d-dc08-46ba-8433-9c0464109f44",
   "metadata": {},
   "source": [
    "### Save plot"
   ]
  },
  {
   "cell_type": "code",
   "execution_count": null,
   "id": "3d749d48-5f42-4b20-9ab1-30ccda80848e",
   "metadata": {},
   "outputs": [],
   "source": [
    "plot_save(fig,ID=-1)"
   ]
  },
  {
   "cell_type": "code",
   "execution_count": null,
   "id": "02c38189-6efd-48cc-a7b4-b97e30e6ad9b",
   "metadata": {},
   "outputs": [],
   "source": []
  },
  {
   "cell_type": "code",
   "execution_count": null,
   "id": "80f3bcb6-8021-418d-a842-067fa3f0c80f",
   "metadata": {},
   "outputs": [],
   "source": []
  },
  {
   "cell_type": "code",
   "execution_count": null,
   "id": "4f8416a6-3df4-491e-ab78-24aaaf807705",
   "metadata": {},
   "outputs": [],
   "source": []
  },
  {
   "cell_type": "code",
   "execution_count": null,
   "id": "88352a83-434c-430f-8210-336baaa63605",
   "metadata": {},
   "outputs": [],
   "source": []
  },
  {
   "cell_type": "code",
   "execution_count": null,
   "id": "c59c3841-2a03-4295-83a9-75af75ab1748",
   "metadata": {},
   "outputs": [],
   "source": []
  },
  {
   "cell_type": "code",
   "execution_count": null,
   "id": "fc1c4369-3551-49b9-bb64-43b185fc8af3",
   "metadata": {},
   "outputs": [],
   "source": []
  },
  {
   "cell_type": "code",
   "execution_count": null,
   "id": "f5cdab89-6f81-4070-a0c3-94faf8ba3b53",
   "metadata": {},
   "outputs": [],
   "source": []
  }
 ],
 "metadata": {
  "kernelspec": {
   "display_name": "Python 3 (ipykernel)",
   "language": "python",
   "name": "python3"
  },
  "language_info": {
   "codemirror_mode": {
    "name": "ipython",
    "version": 3
   },
   "file_extension": ".py",
   "mimetype": "text/x-python",
   "name": "python",
   "nbconvert_exporter": "python",
   "pygments_lexer": "ipython3",
   "version": "3.9.12"
  }
 },
 "nbformat": 4,
 "nbformat_minor": 5
}
