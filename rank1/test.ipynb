{
 "cells": [
  {
   "cell_type": "code",
   "execution_count": 1,
   "id": "ef54931c-fb39-43dd-acdf-f2a7c17fad1d",
   "metadata": {},
   "outputs": [],
   "source": [
    "import numpy as np"
   ]
  },
  {
   "cell_type": "code",
   "execution_count": 16,
   "id": "3199bfc9-8dbf-4271-ac6e-93a46bad09b0",
   "metadata": {},
   "outputs": [],
   "source": [
    "a=np.random.rand(10,1)\n",
    "b=np.random.rand(10,1)"
   ]
  },
  {
   "cell_type": "code",
   "execution_count": 17,
   "id": "e8d833b9-20f1-4ac1-8bf8-0fbcf448e09f",
   "metadata": {},
   "outputs": [
    {
     "data": {
      "text/plain": [
       "array([[0.64363576, 0.65009754, 0.61756021, 0.18317342, 0.34559324,\n",
       "        0.15330469, 0.63728903, 0.44204631, 0.41180086, 0.26802663],\n",
       "       [0.41960297, 0.42381558, 0.40260364, 0.11941554, 0.22530126,\n",
       "        0.09994333, 0.41546537, 0.28818154, 0.26846374, 0.17473356],\n",
       "       [0.48608712, 0.49096719, 0.46639432, 0.13833638, 0.2609992 ,\n",
       "        0.11577889, 0.48129393, 0.33384257, 0.31100058, 0.20241929],\n",
       "       [0.54542745, 0.55090326, 0.52333059, 0.15522414, 0.29286135,\n",
       "        0.1299129 , 0.54004912, 0.37459726, 0.34896677, 0.22713014],\n",
       "       [0.67842602, 0.68523708, 0.65094101, 0.19307444, 0.36427349,\n",
       "        0.16159123, 0.67173623, 0.46594011, 0.43405981, 0.28251419],\n",
       "       [0.66429812, 0.67096734, 0.63738547, 0.18905376, 0.35668767,\n",
       "        0.15822616, 0.65774764, 0.45623713, 0.42502072, 0.27663097],\n",
       "       [0.32531207, 0.32857804, 0.31213273, 0.09258113, 0.17467278,\n",
       "        0.07748461, 0.32210424, 0.22342295, 0.20813602, 0.13546838],\n",
       "       [0.49829375, 0.50329637, 0.47810642, 0.14181028, 0.26755342,\n",
       "        0.11868633, 0.4933802 , 0.34222603, 0.31881043, 0.20750244],\n",
       "       [0.54566053, 0.55113869, 0.52355424, 0.15529048, 0.2929865 ,\n",
       "        0.12996841, 0.54027991, 0.37475734, 0.3491159 , 0.2272272 ],\n",
       "       [0.57078261, 0.57651298, 0.54765855, 0.16244001, 0.30647553,\n",
       "        0.13595213, 0.56515426, 0.39201107, 0.36518911, 0.23768868]])"
      ]
     },
     "execution_count": 17,
     "metadata": {},
     "output_type": "execute_result"
    }
   ],
   "source": [
    "a*b.T"
   ]
  },
  {
   "cell_type": "code",
   "execution_count": 16,
   "id": "99fcf1d0-3840-41cd-99d3-248d0eccdbbd",
   "metadata": {},
   "outputs": [
    {
     "data": {
      "text/plain": [
       "inf"
      ]
     },
     "execution_count": 16,
     "metadata": {},
     "output_type": "execute_result"
    }
   ],
   "source": [
    "np.inf"
   ]
  },
  {
   "cell_type": "code",
   "execution_count": null,
   "id": "71b23a5b-ed0b-4a4c-b6c7-fcdaa5323538",
   "metadata": {},
   "outputs": [],
   "source": []
  }
 ],
 "metadata": {
  "kernelspec": {
   "display_name": "Python 3 (ipykernel)",
   "language": "python",
   "name": "python3"
  },
  "language_info": {
   "codemirror_mode": {
    "name": "ipython",
    "version": 3
   },
   "file_extension": ".py",
   "mimetype": "text/x-python",
   "name": "python",
   "nbconvert_exporter": "python",
   "pygments_lexer": "ipython3",
   "version": "3.9.12"
  }
 },
 "nbformat": 4,
 "nbformat_minor": 5
}
