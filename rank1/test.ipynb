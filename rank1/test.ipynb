{
 "cells": [
  {
   "cell_type": "code",
   "execution_count": 1,
   "id": "ef54931c-fb39-43dd-acdf-f2a7c17fad1d",
   "metadata": {},
   "outputs": [
    {
     "name": "stderr",
     "output_type": "stream",
     "text": [
      "2022-06-16 15:50:03.033697: I tensorflow/core/util/util.cc:169] oneDNN custom operations are on. You may see slightly different numerical results due to floating-point round-off errors from different computation orders. To turn them off, set the environment variable `TF_ENABLE_ONEDNN_OPTS=0`.\n"
     ]
    },
    {
     "name": "stdout",
     "output_type": "stream",
     "text": [
      "Num GPUs Available:  2\n",
      "TensorFlow Version:  2.9.1\n"
     ]
    }
   ],
   "source": [
    "import tensorflow as tf\n",
    "import symae_core as symae\n",
    "tfk = tf.keras\n",
    "tfkl = tf.keras.layers\n",
    "tfkltd= tf.keras.layers.TimeDistributed\n",
    "d=1\n",
    "n1=100\n",
    "n2=100\n",
    "N=1000\n",
    "nt=20\n",
    "p=8\n",
    "q=22\n",
    "dropout_rate=0.5"
   ]
  },
  {
   "cell_type": "code",
   "execution_count": 2,
   "id": "3199bfc9-8dbf-4271-ac6e-93a46bad09b0",
   "metadata": {},
   "outputs": [
    {
     "name": "stderr",
     "output_type": "stream",
     "text": [
      "2022-06-16 15:50:10.835520: I tensorflow/core/platform/cpu_feature_guard.cc:193] This TensorFlow binary is optimized with oneAPI Deep Neural Network Library (oneDNN) to use the following CPU instructions in performance-critical operations:  AVX2 AVX512F AVX512_VNNI FMA\n",
      "To enable them in other operations, rebuild TensorFlow with the appropriate compiler flags.\n",
      "2022-06-16 15:50:12.224482: I tensorflow/core/common_runtime/gpu/gpu_device.cc:1532] Created device /job:localhost/replica:0/task:0/device:GPU:0 with 714 MB memory:  -> device: 0, name: NVIDIA RTX A4000, pci bus id: 0000:b1:00.0, compute capability: 8.6\n",
      "2022-06-16 15:50:12.225389: I tensorflow/core/common_runtime/gpu/gpu_device.cc:1532] Created device /job:localhost/replica:0/task:0/device:GPU:1 with 13931 MB memory:  -> device: 1, name: NVIDIA RTX A4000, pci bus id: 0000:b2:00.0, compute capability: 8.6\n"
     ]
    },
    {
     "name": "stdout",
     "output_type": "stream",
     "text": [
      "Model: \"sym_encoder\"\n",
      "_________________________________________________________________\n",
      " Layer (type)                Output Shape              Param #   \n",
      "=================================================================\n",
      " input_1 (InputLayer)        [(None, 20, 1)]           0         \n",
      "                                                                 \n",
      "  (SymmetricEncoderDense0D)  (None, 8)                 478       \n",
      "                                                                 \n",
      "=================================================================\n",
      "Total params: 478\n",
      "Trainable params: 458\n",
      "Non-trainable params: 20\n",
      "_________________________________________________________________\n"
     ]
    }
   ],
   "source": [
    "# Build symmetric encoder\n",
    "sym_enc_input=tfk.Input(shape=(nt,1))\n",
    "sym_enc_output=symae.SymmetricEncoderDense0D(p,nt)(sym_enc_input)\n",
    "sym_encoder=tfk.Model(sym_enc_input, sym_enc_output, name='sym_encoder')\n",
    "sym_encoder.summary()"
   ]
  },
  {
   "cell_type": "code",
   "execution_count": 3,
   "id": "e8d833b9-20f1-4ac1-8bf8-0fbcf448e09f",
   "metadata": {},
   "outputs": [
    {
     "name": "stdout",
     "output_type": "stream",
     "text": [
      "Model: \"nui_encoder\"\n",
      "_________________________________________________________________\n",
      " Layer (type)                Output Shape              Param #   \n",
      "=================================================================\n",
      " sym_enc_input (InputLayer)  [(None, 20, 1)]           0         \n",
      "                                                                 \n",
      "  (NuisanceEncoderDense0D)   (None, 20, 22)            522       \n",
      "                                                                 \n",
      " flatten (Flatten)           (None, 440)               0         \n",
      "                                                                 \n",
      "=================================================================\n",
      "Total params: 522\n",
      "Trainable params: 502\n",
      "Non-trainable params: 20\n",
      "_________________________________________________________________\n"
     ]
    }
   ],
   "source": [
    "# Build nuisance encoder\n",
    "nui_enc_input=tfk.Input(shape=(nt,1), dtype='float32', name='sym_enc_input')\n",
    "nui_enc_output=symae.NuisanceEncoderDense0D(q,nt)(nui_enc_input)\n",
    "nui_enc_flatten=tfkl.Flatten()(nui_enc_output)\n",
    "nui_encoder=tfk.Model(nui_enc_input, nui_enc_flatten, name='nui_encoder')\n",
    "nui_encoder.summary()"
   ]
  },
  {
   "cell_type": "code",
   "execution_count": 4,
   "id": "99fcf1d0-3840-41cd-99d3-248d0eccdbbd",
   "metadata": {},
   "outputs": [
    {
     "name": "stdout",
     "output_type": "stream",
     "text": [
      "Model: \"distzsym\"\n",
      "_________________________________________________________________\n",
      " Layer (type)                Output Shape              Param #   \n",
      "=================================================================\n",
      " latentcode (InputLayer)     [(None, 448)]             0         \n",
      "                                                                 \n",
      "  (DistributeZsym)           (None, 20, 30)            0         \n",
      "                                                                 \n",
      "=================================================================\n",
      "Total params: 0\n",
      "Trainable params: 0\n",
      "Non-trainable params: 0\n",
      "_________________________________________________________________\n"
     ]
    }
   ],
   "source": [
    "# Build distribute in decoder\n",
    "distribute_input = tfk.Input(shape=(p+q*nt), name='latentcode')\n",
    "distribute_output=symae.DistributeZsym(nt, p, q)(distribute_input)\n",
    "distzsym = tfk.Model(distribute_input, distribute_output, name='distzsym')\n",
    "distzsym.summary()"
   ]
  },
  {
   "cell_type": "code",
   "execution_count": 5,
   "id": "71b23a5b-ed0b-4a4c-b6c7-fcdaa5323538",
   "metadata": {},
   "outputs": [
    {
     "name": "stdout",
     "output_type": "stream",
     "text": [
      "Model: \"mixer\"\n",
      "_________________________________________________________________\n",
      " Layer (type)                Output Shape              Param #   \n",
      "=================================================================\n",
      " mixer_input (InputLayer)    [(None, 20, 30)]          0         \n",
      "                                                                 \n",
      "  (MixerDense0D)             (None, 20, 1)             1021      \n",
      "                                                                 \n",
      "=================================================================\n",
      "Total params: 1,021\n",
      "Trainable params: 991\n",
      "Non-trainable params: 30\n",
      "_________________________________________________________________\n"
     ]
    }
   ],
   "source": [
    "#Build mixer in decoder\n",
    "mixer_input = tfk.Input(shape=(nt,p+q), name='mixer_input')\n",
    "mixer_output=symae.MixerDense0D(1,p+q)(mixer_input)\n",
    "mixer = tfk.Model(mixer_input, mixer_output, name='mixer') \n",
    "mixer.summary()"
   ]
  },
  {
   "cell_type": "code",
   "execution_count": 6,
   "id": "221288dc-f40a-4bce-b297-464e22fee759",
   "metadata": {},
   "outputs": [],
   "source": [
    "# Build encoder\n",
    "encoder_input=tfk.Input(shape=(nt,1), dtype='float32', name='encoder_input')\n",
    "znuisance=nui_encoder(encoder_input)\n",
    "zsym=sym_encoder(encoder_input)\n",
    "latentcat=symae.LatentCat(dropout_rate) #0.4 droupout\n",
    "encoder_output=latentcat(zsym,znuisance)\n",
    "encoder=tfk.Model(encoder_input, encoder_output, name=\"encoder\")\n",
    "\n",
    "# Build decoder\n",
    "decoder_input = tfk.Input(shape=(p+q*nt), name='latentcode')\n",
    "decoder_output=mixer(distzsym(decoder_input))\n",
    "decoder=tfk.Model(decoder_input,decoder_output, name=\"decoder\") \n",
    "\n",
    "#Build SymAE\n",
    "model=tf.keras.Model(encoder_input, decoder(encoder_output) , name='autoencoder_clone')"
   ]
  },
  {
   "cell_type": "code",
   "execution_count": 7,
   "id": "71c3251d-52e1-4da0-a4a1-fd7012997086",
   "metadata": {},
   "outputs": [],
   "source": [
    "# Generate the Dataset\n",
    "import numpy as np\n",
    "d=1\n",
    "n1=100\n",
    "n2=100\n",
    "nx=10\n",
    "nt=20\n",
    "p=8\n",
    "q=22\n",
    "states=np.arange(n1)\n",
    "nuisances=np.arange(n2)\n",
    "X=np.empty((nx,nt), dtype = float, order = 'C')\n",
    "D=np.tensordot(states,nuisances,0)\n",
    "for i in range(nx):\n",
    "    e=np.random.choice(range(n1))\n",
    "    c=np.random.choice(range(n2),replace=False,size=nt)\n",
    "    for t in range(nt):\n",
    "        X[i,t]=D[e,c[t]]    "
   ]
  },
  {
   "cell_type": "code",
   "execution_count": 8,
   "id": "9713161e-9fda-4b02-aded-c35d52754deb",
   "metadata": {},
   "outputs": [
    {
     "name": "stdout",
     "output_type": "stream",
     "text": [
      "Model: \"autoencoder_clone\"\n",
      "__________________________________________________________________________________________________\n",
      " Layer (type)                   Output Shape         Param #     Connected to                     \n",
      "==================================================================================================\n",
      " encoder_input (InputLayer)     [(None, 20, 1)]      0           []                               \n",
      "                                                                                                  \n",
      " sym_encoder (Functional)       (None, 8)            478         ['encoder_input[0][0]']          \n",
      "                                                                                                  \n",
      " nui_encoder (Functional)       (None, 440)          522         ['encoder_input[0][0]']          \n",
      "                                                                                                  \n",
      "  (LatentCat)                   (None, 448)          0           ['sym_encoder[0][0]',            \n",
      "                                                                  'nui_encoder[0][0]']            \n",
      "                                                                                                  \n",
      " decoder (Functional)           (None, 20, 1)        1021        ['[0][0]']                       \n",
      "                                                                                                  \n",
      "==================================================================================================\n",
      "Total params: 2,021\n",
      "Trainable params: 1,951\n",
      "Non-trainable params: 70\n",
      "__________________________________________________________________________________________________\n"
     ]
    }
   ],
   "source": [
    "Adam=tf.keras.optimizers.Adam(learning_rate=0.001,beta_1=0.9,beta_2=0.999,epsilon=1e-07)\n",
    "SGD=tf.keras.optimizers.SGD(learning_rate=0.1,momentum=0.9,nesterov=True)\n",
    "model.compile(loss='mse',optimizer=Adam)\n",
    "model.summary()"
   ]
  },
  {
   "cell_type": "code",
   "execution_count": 9,
   "id": "e88f8cb2-9045-459d-9e59-1c35c6a79062",
   "metadata": {},
   "outputs": [
    {
     "name": "stderr",
     "output_type": "stream",
     "text": [
      "2022-06-16 15:50:16.242676: E tensorflow/stream_executor/cuda/cuda_blas.cc:232] failed to create cublas handle: CUBLAS_STATUS_NOT_INITIALIZED\n",
      "2022-06-16 15:50:16.242724: E tensorflow/stream_executor/cuda/cuda_blas.cc:234] Failure to initialize cublas may be due to OOM (cublas needs some free memory when you initialize it, and your deep-learning framework may have preallocated more than its fair share), or may be because this binary was not built with support for the GPU in your machine.\n",
      "2022-06-16 15:50:16.242765: W tensorflow/core/framework/op_kernel.cc:1745] OP_REQUIRES failed at matmul_op_impl.h:438 : INTERNAL: Attempting to perform BLAS operation using StreamExecutor without BLAS support\n",
      "2022-06-16 15:50:16.246341: E tensorflow/stream_executor/cuda/cuda_blas.cc:232] failed to create cublas handle: CUBLAS_STATUS_NOT_INITIALIZED\n",
      "2022-06-16 15:50:16.246367: E tensorflow/stream_executor/cuda/cuda_blas.cc:234] Failure to initialize cublas may be due to OOM (cublas needs some free memory when you initialize it, and your deep-learning framework may have preallocated more than its fair share), or may be because this binary was not built with support for the GPU in your machine.\n",
      "2022-06-16 15:50:16.246381: W tensorflow/core/framework/op_kernel.cc:1745] OP_REQUIRES failed at matmul_op_impl.h:438 : INTERNAL: Attempting to perform BLAS operation using StreamExecutor without BLAS support\n"
     ]
    },
    {
     "ename": "InternalError",
     "evalue": "Graph execution error:\n\nDetected at node 'autoencoder_clone/sym_encoder//dense/Tensordot/MatMul' defined at (most recent call last):\n    File \"/math/home/eruisun/software/anaconda/envs/MRA/lib/python3.9/runpy.py\", line 197, in _run_module_as_main\n      return _run_code(code, main_globals, None,\n    File \"/math/home/eruisun/software/anaconda/envs/MRA/lib/python3.9/runpy.py\", line 87, in _run_code\n      exec(code, run_globals)\n    File \"/math/home/eruisun/software/anaconda/envs/MRA/lib/python3.9/site-packages/ipykernel_launcher.py\", line 16, in <module>\n      app.launch_new_instance()\n    File \"/math/home/eruisun/software/anaconda/envs/MRA/lib/python3.9/site-packages/traitlets/config/application.py\", line 846, in launch_instance\n      app.start()\n    File \"/math/home/eruisun/software/anaconda/envs/MRA/lib/python3.9/site-packages/ipykernel/kernelapp.py\", line 677, in start\n      self.io_loop.start()\n    File \"/math/home/eruisun/software/anaconda/envs/MRA/lib/python3.9/site-packages/tornado/platform/asyncio.py\", line 199, in start\n      self.asyncio_loop.run_forever()\n    File \"/math/home/eruisun/software/anaconda/envs/MRA/lib/python3.9/asyncio/base_events.py\", line 601, in run_forever\n      self._run_once()\n    File \"/math/home/eruisun/software/anaconda/envs/MRA/lib/python3.9/asyncio/base_events.py\", line 1905, in _run_once\n      handle._run()\n    File \"/math/home/eruisun/software/anaconda/envs/MRA/lib/python3.9/asyncio/events.py\", line 80, in _run\n      self._context.run(self._callback, *self._args)\n    File \"/math/home/eruisun/software/anaconda/envs/MRA/lib/python3.9/site-packages/ipykernel/kernelbase.py\", line 471, in dispatch_queue\n      await self.process_one()\n    File \"/math/home/eruisun/software/anaconda/envs/MRA/lib/python3.9/site-packages/ipykernel/kernelbase.py\", line 460, in process_one\n      await dispatch(*args)\n    File \"/math/home/eruisun/software/anaconda/envs/MRA/lib/python3.9/site-packages/ipykernel/kernelbase.py\", line 367, in dispatch_shell\n      await result\n    File \"/math/home/eruisun/software/anaconda/envs/MRA/lib/python3.9/site-packages/ipykernel/kernelbase.py\", line 662, in execute_request\n      reply_content = await reply_content\n    File \"/math/home/eruisun/software/anaconda/envs/MRA/lib/python3.9/site-packages/ipykernel/ipkernel.py\", line 360, in do_execute\n      res = shell.run_cell(code, store_history=store_history, silent=silent)\n    File \"/math/home/eruisun/software/anaconda/envs/MRA/lib/python3.9/site-packages/ipykernel/zmqshell.py\", line 532, in run_cell\n      return super().run_cell(*args, **kwargs)\n    File \"/math/home/eruisun/software/anaconda/envs/MRA/lib/python3.9/site-packages/IPython/core/interactiveshell.py\", line 2880, in run_cell\n      result = self._run_cell(\n    File \"/math/home/eruisun/software/anaconda/envs/MRA/lib/python3.9/site-packages/IPython/core/interactiveshell.py\", line 2935, in _run_cell\n      return runner(coro)\n    File \"/math/home/eruisun/software/anaconda/envs/MRA/lib/python3.9/site-packages/IPython/core/async_helpers.py\", line 129, in _pseudo_sync_runner\n      coro.send(None)\n    File \"/math/home/eruisun/software/anaconda/envs/MRA/lib/python3.9/site-packages/IPython/core/interactiveshell.py\", line 3134, in run_cell_async\n      has_raised = await self.run_ast_nodes(code_ast.body, cell_name,\n    File \"/math/home/eruisun/software/anaconda/envs/MRA/lib/python3.9/site-packages/IPython/core/interactiveshell.py\", line 3337, in run_ast_nodes\n      if await self.run_code(code, result, async_=asy):\n    File \"/math/home/eruisun/software/anaconda/envs/MRA/lib/python3.9/site-packages/IPython/core/interactiveshell.py\", line 3397, in run_code\n      exec(code_obj, self.user_global_ns, self.user_ns)\n    File \"/tmp/ipykernel_767250/578872121.py\", line 10, in <cell line: 10>\n      history=model.fit(X,X,epochs=M,verbose=0,callbacks=[CustomCallback()])\n    File \"/math/home/eruisun/software/anaconda/envs/MRA/lib/python3.9/site-packages/keras/utils/traceback_utils.py\", line 64, in error_handler\n      return fn(*args, **kwargs)\n    File \"/math/home/eruisun/software/anaconda/envs/MRA/lib/python3.9/site-packages/keras/engine/training.py\", line 1409, in fit\n      tmp_logs = self.train_function(iterator)\n    File \"/math/home/eruisun/software/anaconda/envs/MRA/lib/python3.9/site-packages/keras/engine/training.py\", line 1051, in train_function\n      return step_function(self, iterator)\n    File \"/math/home/eruisun/software/anaconda/envs/MRA/lib/python3.9/site-packages/keras/engine/training.py\", line 1040, in step_function\n      outputs = model.distribute_strategy.run(run_step, args=(data,))\n    File \"/math/home/eruisun/software/anaconda/envs/MRA/lib/python3.9/site-packages/keras/engine/training.py\", line 1030, in run_step\n      outputs = model.train_step(data)\n    File \"/math/home/eruisun/software/anaconda/envs/MRA/lib/python3.9/site-packages/keras/engine/training.py\", line 889, in train_step\n      y_pred = self(x, training=True)\n    File \"/math/home/eruisun/software/anaconda/envs/MRA/lib/python3.9/site-packages/keras/utils/traceback_utils.py\", line 64, in error_handler\n      return fn(*args, **kwargs)\n    File \"/math/home/eruisun/software/anaconda/envs/MRA/lib/python3.9/site-packages/keras/engine/training.py\", line 490, in __call__\n      return super().__call__(*args, **kwargs)\n    File \"/math/home/eruisun/software/anaconda/envs/MRA/lib/python3.9/site-packages/keras/utils/traceback_utils.py\", line 64, in error_handler\n      return fn(*args, **kwargs)\n    File \"/math/home/eruisun/software/anaconda/envs/MRA/lib/python3.9/site-packages/keras/engine/base_layer.py\", line 1014, in __call__\n      outputs = call_fn(inputs, *args, **kwargs)\n    File \"/math/home/eruisun/software/anaconda/envs/MRA/lib/python3.9/site-packages/keras/utils/traceback_utils.py\", line 92, in error_handler\n      return fn(*args, **kwargs)\n    File \"/math/home/eruisun/software/anaconda/envs/MRA/lib/python3.9/site-packages/keras/engine/functional.py\", line 458, in call\n      return self._run_internal_graph(\n    File \"/math/home/eruisun/software/anaconda/envs/MRA/lib/python3.9/site-packages/keras/engine/functional.py\", line 596, in _run_internal_graph\n      outputs = node.layer(*args, **kwargs)\n    File \"/math/home/eruisun/software/anaconda/envs/MRA/lib/python3.9/site-packages/keras/utils/traceback_utils.py\", line 64, in error_handler\n      return fn(*args, **kwargs)\n    File \"/math/home/eruisun/software/anaconda/envs/MRA/lib/python3.9/site-packages/keras/engine/training.py\", line 490, in __call__\n      return super().__call__(*args, **kwargs)\n    File \"/math/home/eruisun/software/anaconda/envs/MRA/lib/python3.9/site-packages/keras/utils/traceback_utils.py\", line 64, in error_handler\n      return fn(*args, **kwargs)\n    File \"/math/home/eruisun/software/anaconda/envs/MRA/lib/python3.9/site-packages/keras/engine/base_layer.py\", line 1014, in __call__\n      outputs = call_fn(inputs, *args, **kwargs)\n    File \"/math/home/eruisun/software/anaconda/envs/MRA/lib/python3.9/site-packages/keras/utils/traceback_utils.py\", line 92, in error_handler\n      return fn(*args, **kwargs)\n    File \"/math/home/eruisun/software/anaconda/envs/MRA/lib/python3.9/site-packages/keras/engine/functional.py\", line 458, in call\n      return self._run_internal_graph(\n    File \"/math/home/eruisun/software/anaconda/envs/MRA/lib/python3.9/site-packages/keras/engine/functional.py\", line 596, in _run_internal_graph\n      outputs = node.layer(*args, **kwargs)\n    File \"/math/home/eruisun/software/anaconda/envs/MRA/lib/python3.9/site-packages/keras/utils/traceback_utils.py\", line 64, in error_handler\n      return fn(*args, **kwargs)\n    File \"/math/home/eruisun/software/anaconda/envs/MRA/lib/python3.9/site-packages/keras/engine/training.py\", line 490, in __call__\n      return super().__call__(*args, **kwargs)\n    File \"/math/home/eruisun/software/anaconda/envs/MRA/lib/python3.9/site-packages/keras/utils/traceback_utils.py\", line 64, in error_handler\n      return fn(*args, **kwargs)\n    File \"/math/home/eruisun/software/anaconda/envs/MRA/lib/python3.9/site-packages/keras/engine/base_layer.py\", line 1014, in __call__\n      outputs = call_fn(inputs, *args, **kwargs)\n    File \"/math/home/eruisun/software/anaconda/envs/MRA/lib/python3.9/site-packages/keras/utils/traceback_utils.py\", line 92, in error_handler\n      return fn(*args, **kwargs)\n    File \"/math/home/eruisun/github/SymAE/rank1/symae_core.py\", line 338, in call\n      x=self.d1(input_tensor)\n    File \"/math/home/eruisun/software/anaconda/envs/MRA/lib/python3.9/site-packages/keras/utils/traceback_utils.py\", line 64, in error_handler\n      return fn(*args, **kwargs)\n    File \"/math/home/eruisun/software/anaconda/envs/MRA/lib/python3.9/site-packages/keras/engine/base_layer.py\", line 1014, in __call__\n      outputs = call_fn(inputs, *args, **kwargs)\n    File \"/math/home/eruisun/software/anaconda/envs/MRA/lib/python3.9/site-packages/keras/utils/traceback_utils.py\", line 92, in error_handler\n      return fn(*args, **kwargs)\n    File \"/math/home/eruisun/software/anaconda/envs/MRA/lib/python3.9/site-packages/keras/layers/core/dense.py\", line 224, in call\n      outputs = tf.tensordot(inputs, self.kernel, [[rank - 1], [0]])\nNode: 'autoencoder_clone/sym_encoder//dense/Tensordot/MatMul'\nAttempting to perform BLAS operation using StreamExecutor without BLAS support\n\t [[{{node autoencoder_clone/sym_encoder//dense/Tensordot/MatMul}}]] [Op:__inference_train_function_3959]",
     "output_type": "error",
     "traceback": [
      "\u001b[0;31m---------------------------------------------------------------------------\u001b[0m",
      "\u001b[0;31mInternalError\u001b[0m                             Traceback (most recent call last)",
      "Input \u001b[0;32mIn [9]\u001b[0m, in \u001b[0;36m<cell line: 10>\u001b[0;34m()\u001b[0m\n\u001b[1;32m      8\u001b[0m         losses[epoch]\u001b[38;5;241m=\u001b[39mlogs[\u001b[38;5;124m\"\u001b[39m\u001b[38;5;124mloss\u001b[39m\u001b[38;5;124m\"\u001b[39m]\n\u001b[1;32m      9\u001b[0m         \u001b[38;5;28mprint\u001b[39m(\u001b[38;5;124m\"\u001b[39m\u001b[38;5;124mFor epoch \u001b[39m\u001b[38;5;132;01m{:d}\u001b[39;00m\u001b[38;5;124m, loss is \u001b[39m\u001b[38;5;132;01m{:f}\u001b[39;00m\u001b[38;5;124m.\u001b[39m\u001b[38;5;124m\"\u001b[39m\u001b[38;5;241m.\u001b[39mformat(epoch, logs[\u001b[38;5;124m\"\u001b[39m\u001b[38;5;124mloss\u001b[39m\u001b[38;5;124m\"\u001b[39m]))\n\u001b[0;32m---> 10\u001b[0m history\u001b[38;5;241m=\u001b[39m\u001b[43mmodel\u001b[49m\u001b[38;5;241;43m.\u001b[39;49m\u001b[43mfit\u001b[49m\u001b[43m(\u001b[49m\u001b[43mX\u001b[49m\u001b[43m,\u001b[49m\u001b[43mX\u001b[49m\u001b[43m,\u001b[49m\u001b[43mepochs\u001b[49m\u001b[38;5;241;43m=\u001b[39;49m\u001b[43mM\u001b[49m\u001b[43m,\u001b[49m\u001b[43mverbose\u001b[49m\u001b[38;5;241;43m=\u001b[39;49m\u001b[38;5;241;43m0\u001b[39;49m\u001b[43m,\u001b[49m\u001b[43mcallbacks\u001b[49m\u001b[38;5;241;43m=\u001b[39;49m\u001b[43m[\u001b[49m\u001b[43mCustomCallback\u001b[49m\u001b[43m(\u001b[49m\u001b[43m)\u001b[49m\u001b[43m]\u001b[49m\u001b[43m)\u001b[49m\n",
      "File \u001b[0;32m~/software/anaconda/envs/MRA/lib/python3.9/site-packages/keras/utils/traceback_utils.py:67\u001b[0m, in \u001b[0;36mfilter_traceback.<locals>.error_handler\u001b[0;34m(*args, **kwargs)\u001b[0m\n\u001b[1;32m     65\u001b[0m \u001b[38;5;28;01mexcept\u001b[39;00m \u001b[38;5;167;01mException\u001b[39;00m \u001b[38;5;28;01mas\u001b[39;00m e:  \u001b[38;5;66;03m# pylint: disable=broad-except\u001b[39;00m\n\u001b[1;32m     66\u001b[0m   filtered_tb \u001b[38;5;241m=\u001b[39m _process_traceback_frames(e\u001b[38;5;241m.\u001b[39m__traceback__)\n\u001b[0;32m---> 67\u001b[0m   \u001b[38;5;28;01mraise\u001b[39;00m e\u001b[38;5;241m.\u001b[39mwith_traceback(filtered_tb) \u001b[38;5;28;01mfrom\u001b[39;00m \u001b[38;5;28mNone\u001b[39m\n\u001b[1;32m     68\u001b[0m \u001b[38;5;28;01mfinally\u001b[39;00m:\n\u001b[1;32m     69\u001b[0m   \u001b[38;5;28;01mdel\u001b[39;00m filtered_tb\n",
      "File \u001b[0;32m~/software/anaconda/envs/MRA/lib/python3.9/site-packages/tensorflow/python/eager/execute.py:54\u001b[0m, in \u001b[0;36mquick_execute\u001b[0;34m(op_name, num_outputs, inputs, attrs, ctx, name)\u001b[0m\n\u001b[1;32m     52\u001b[0m \u001b[38;5;28;01mtry\u001b[39;00m:\n\u001b[1;32m     53\u001b[0m   ctx\u001b[38;5;241m.\u001b[39mensure_initialized()\n\u001b[0;32m---> 54\u001b[0m   tensors \u001b[38;5;241m=\u001b[39m pywrap_tfe\u001b[38;5;241m.\u001b[39mTFE_Py_Execute(ctx\u001b[38;5;241m.\u001b[39m_handle, device_name, op_name,\n\u001b[1;32m     55\u001b[0m                                       inputs, attrs, num_outputs)\n\u001b[1;32m     56\u001b[0m \u001b[38;5;28;01mexcept\u001b[39;00m core\u001b[38;5;241m.\u001b[39m_NotOkStatusException \u001b[38;5;28;01mas\u001b[39;00m e:\n\u001b[1;32m     57\u001b[0m   \u001b[38;5;28;01mif\u001b[39;00m name \u001b[38;5;129;01mis\u001b[39;00m \u001b[38;5;129;01mnot\u001b[39;00m \u001b[38;5;28;01mNone\u001b[39;00m:\n",
      "\u001b[0;31mInternalError\u001b[0m: Graph execution error:\n\nDetected at node 'autoencoder_clone/sym_encoder//dense/Tensordot/MatMul' defined at (most recent call last):\n    File \"/math/home/eruisun/software/anaconda/envs/MRA/lib/python3.9/runpy.py\", line 197, in _run_module_as_main\n      return _run_code(code, main_globals, None,\n    File \"/math/home/eruisun/software/anaconda/envs/MRA/lib/python3.9/runpy.py\", line 87, in _run_code\n      exec(code, run_globals)\n    File \"/math/home/eruisun/software/anaconda/envs/MRA/lib/python3.9/site-packages/ipykernel_launcher.py\", line 16, in <module>\n      app.launch_new_instance()\n    File \"/math/home/eruisun/software/anaconda/envs/MRA/lib/python3.9/site-packages/traitlets/config/application.py\", line 846, in launch_instance\n      app.start()\n    File \"/math/home/eruisun/software/anaconda/envs/MRA/lib/python3.9/site-packages/ipykernel/kernelapp.py\", line 677, in start\n      self.io_loop.start()\n    File \"/math/home/eruisun/software/anaconda/envs/MRA/lib/python3.9/site-packages/tornado/platform/asyncio.py\", line 199, in start\n      self.asyncio_loop.run_forever()\n    File \"/math/home/eruisun/software/anaconda/envs/MRA/lib/python3.9/asyncio/base_events.py\", line 601, in run_forever\n      self._run_once()\n    File \"/math/home/eruisun/software/anaconda/envs/MRA/lib/python3.9/asyncio/base_events.py\", line 1905, in _run_once\n      handle._run()\n    File \"/math/home/eruisun/software/anaconda/envs/MRA/lib/python3.9/asyncio/events.py\", line 80, in _run\n      self._context.run(self._callback, *self._args)\n    File \"/math/home/eruisun/software/anaconda/envs/MRA/lib/python3.9/site-packages/ipykernel/kernelbase.py\", line 471, in dispatch_queue\n      await self.process_one()\n    File \"/math/home/eruisun/software/anaconda/envs/MRA/lib/python3.9/site-packages/ipykernel/kernelbase.py\", line 460, in process_one\n      await dispatch(*args)\n    File \"/math/home/eruisun/software/anaconda/envs/MRA/lib/python3.9/site-packages/ipykernel/kernelbase.py\", line 367, in dispatch_shell\n      await result\n    File \"/math/home/eruisun/software/anaconda/envs/MRA/lib/python3.9/site-packages/ipykernel/kernelbase.py\", line 662, in execute_request\n      reply_content = await reply_content\n    File \"/math/home/eruisun/software/anaconda/envs/MRA/lib/python3.9/site-packages/ipykernel/ipkernel.py\", line 360, in do_execute\n      res = shell.run_cell(code, store_history=store_history, silent=silent)\n    File \"/math/home/eruisun/software/anaconda/envs/MRA/lib/python3.9/site-packages/ipykernel/zmqshell.py\", line 532, in run_cell\n      return super().run_cell(*args, **kwargs)\n    File \"/math/home/eruisun/software/anaconda/envs/MRA/lib/python3.9/site-packages/IPython/core/interactiveshell.py\", line 2880, in run_cell\n      result = self._run_cell(\n    File \"/math/home/eruisun/software/anaconda/envs/MRA/lib/python3.9/site-packages/IPython/core/interactiveshell.py\", line 2935, in _run_cell\n      return runner(coro)\n    File \"/math/home/eruisun/software/anaconda/envs/MRA/lib/python3.9/site-packages/IPython/core/async_helpers.py\", line 129, in _pseudo_sync_runner\n      coro.send(None)\n    File \"/math/home/eruisun/software/anaconda/envs/MRA/lib/python3.9/site-packages/IPython/core/interactiveshell.py\", line 3134, in run_cell_async\n      has_raised = await self.run_ast_nodes(code_ast.body, cell_name,\n    File \"/math/home/eruisun/software/anaconda/envs/MRA/lib/python3.9/site-packages/IPython/core/interactiveshell.py\", line 3337, in run_ast_nodes\n      if await self.run_code(code, result, async_=asy):\n    File \"/math/home/eruisun/software/anaconda/envs/MRA/lib/python3.9/site-packages/IPython/core/interactiveshell.py\", line 3397, in run_code\n      exec(code_obj, self.user_global_ns, self.user_ns)\n    File \"/tmp/ipykernel_767250/578872121.py\", line 10, in <cell line: 10>\n      history=model.fit(X,X,epochs=M,verbose=0,callbacks=[CustomCallback()])\n    File \"/math/home/eruisun/software/anaconda/envs/MRA/lib/python3.9/site-packages/keras/utils/traceback_utils.py\", line 64, in error_handler\n      return fn(*args, **kwargs)\n    File \"/math/home/eruisun/software/anaconda/envs/MRA/lib/python3.9/site-packages/keras/engine/training.py\", line 1409, in fit\n      tmp_logs = self.train_function(iterator)\n    File \"/math/home/eruisun/software/anaconda/envs/MRA/lib/python3.9/site-packages/keras/engine/training.py\", line 1051, in train_function\n      return step_function(self, iterator)\n    File \"/math/home/eruisun/software/anaconda/envs/MRA/lib/python3.9/site-packages/keras/engine/training.py\", line 1040, in step_function\n      outputs = model.distribute_strategy.run(run_step, args=(data,))\n    File \"/math/home/eruisun/software/anaconda/envs/MRA/lib/python3.9/site-packages/keras/engine/training.py\", line 1030, in run_step\n      outputs = model.train_step(data)\n    File \"/math/home/eruisun/software/anaconda/envs/MRA/lib/python3.9/site-packages/keras/engine/training.py\", line 889, in train_step\n      y_pred = self(x, training=True)\n    File \"/math/home/eruisun/software/anaconda/envs/MRA/lib/python3.9/site-packages/keras/utils/traceback_utils.py\", line 64, in error_handler\n      return fn(*args, **kwargs)\n    File \"/math/home/eruisun/software/anaconda/envs/MRA/lib/python3.9/site-packages/keras/engine/training.py\", line 490, in __call__\n      return super().__call__(*args, **kwargs)\n    File \"/math/home/eruisun/software/anaconda/envs/MRA/lib/python3.9/site-packages/keras/utils/traceback_utils.py\", line 64, in error_handler\n      return fn(*args, **kwargs)\n    File \"/math/home/eruisun/software/anaconda/envs/MRA/lib/python3.9/site-packages/keras/engine/base_layer.py\", line 1014, in __call__\n      outputs = call_fn(inputs, *args, **kwargs)\n    File \"/math/home/eruisun/software/anaconda/envs/MRA/lib/python3.9/site-packages/keras/utils/traceback_utils.py\", line 92, in error_handler\n      return fn(*args, **kwargs)\n    File \"/math/home/eruisun/software/anaconda/envs/MRA/lib/python3.9/site-packages/keras/engine/functional.py\", line 458, in call\n      return self._run_internal_graph(\n    File \"/math/home/eruisun/software/anaconda/envs/MRA/lib/python3.9/site-packages/keras/engine/functional.py\", line 596, in _run_internal_graph\n      outputs = node.layer(*args, **kwargs)\n    File \"/math/home/eruisun/software/anaconda/envs/MRA/lib/python3.9/site-packages/keras/utils/traceback_utils.py\", line 64, in error_handler\n      return fn(*args, **kwargs)\n    File \"/math/home/eruisun/software/anaconda/envs/MRA/lib/python3.9/site-packages/keras/engine/training.py\", line 490, in __call__\n      return super().__call__(*args, **kwargs)\n    File \"/math/home/eruisun/software/anaconda/envs/MRA/lib/python3.9/site-packages/keras/utils/traceback_utils.py\", line 64, in error_handler\n      return fn(*args, **kwargs)\n    File \"/math/home/eruisun/software/anaconda/envs/MRA/lib/python3.9/site-packages/keras/engine/base_layer.py\", line 1014, in __call__\n      outputs = call_fn(inputs, *args, **kwargs)\n    File \"/math/home/eruisun/software/anaconda/envs/MRA/lib/python3.9/site-packages/keras/utils/traceback_utils.py\", line 92, in error_handler\n      return fn(*args, **kwargs)\n    File \"/math/home/eruisun/software/anaconda/envs/MRA/lib/python3.9/site-packages/keras/engine/functional.py\", line 458, in call\n      return self._run_internal_graph(\n    File \"/math/home/eruisun/software/anaconda/envs/MRA/lib/python3.9/site-packages/keras/engine/functional.py\", line 596, in _run_internal_graph\n      outputs = node.layer(*args, **kwargs)\n    File \"/math/home/eruisun/software/anaconda/envs/MRA/lib/python3.9/site-packages/keras/utils/traceback_utils.py\", line 64, in error_handler\n      return fn(*args, **kwargs)\n    File \"/math/home/eruisun/software/anaconda/envs/MRA/lib/python3.9/site-packages/keras/engine/training.py\", line 490, in __call__\n      return super().__call__(*args, **kwargs)\n    File \"/math/home/eruisun/software/anaconda/envs/MRA/lib/python3.9/site-packages/keras/utils/traceback_utils.py\", line 64, in error_handler\n      return fn(*args, **kwargs)\n    File \"/math/home/eruisun/software/anaconda/envs/MRA/lib/python3.9/site-packages/keras/engine/base_layer.py\", line 1014, in __call__\n      outputs = call_fn(inputs, *args, **kwargs)\n    File \"/math/home/eruisun/software/anaconda/envs/MRA/lib/python3.9/site-packages/keras/utils/traceback_utils.py\", line 92, in error_handler\n      return fn(*args, **kwargs)\n    File \"/math/home/eruisun/github/SymAE/rank1/symae_core.py\", line 338, in call\n      x=self.d1(input_tensor)\n    File \"/math/home/eruisun/software/anaconda/envs/MRA/lib/python3.9/site-packages/keras/utils/traceback_utils.py\", line 64, in error_handler\n      return fn(*args, **kwargs)\n    File \"/math/home/eruisun/software/anaconda/envs/MRA/lib/python3.9/site-packages/keras/engine/base_layer.py\", line 1014, in __call__\n      outputs = call_fn(inputs, *args, **kwargs)\n    File \"/math/home/eruisun/software/anaconda/envs/MRA/lib/python3.9/site-packages/keras/utils/traceback_utils.py\", line 92, in error_handler\n      return fn(*args, **kwargs)\n    File \"/math/home/eruisun/software/anaconda/envs/MRA/lib/python3.9/site-packages/keras/layers/core/dense.py\", line 224, in call\n      outputs = tf.tensordot(inputs, self.kernel, [[rank - 1], [0]])\nNode: 'autoencoder_clone/sym_encoder//dense/Tensordot/MatMul'\nAttempting to perform BLAS operation using StreamExecutor without BLAS support\n\t [[{{node autoencoder_clone/sym_encoder//dense/Tensordot/MatMul}}]] [Op:__inference_train_function_3959]"
     ]
    }
   ],
   "source": [
    "# Train the NeuralNet\n",
    "M=50\n",
    "epochs=range(M)\n",
    "losses=[0.0]*M\n",
    "class CustomCallback(tf.keras.callbacks.Callback):\n",
    "    def on_epoch_end(self, epoch, logs=None):\n",
    "        clear_output(wait=True)\n",
    "        losses[epoch]=logs[\"loss\"]\n",
    "        print(\"For epoch {:d}, loss is {:f}.\".format(epoch, logs[\"loss\"]))\n",
    "history=model.fit(X,X,epochs=M,verbose=0,callbacks=[CustomCallback()])"
   ]
  },
  {
   "cell_type": "code",
   "execution_count": null,
   "id": "91569a39-5ee8-4cd0-89f1-1f84220db435",
   "metadata": {},
   "outputs": [],
   "source": []
  }
 ],
 "metadata": {
  "kernelspec": {
   "display_name": "Python 3 (ipykernel)",
   "language": "python",
   "name": "python3"
  },
  "language_info": {
   "codemirror_mode": {
    "name": "ipython",
    "version": 3
   },
   "file_extension": ".py",
   "mimetype": "text/x-python",
   "name": "python",
   "nbconvert_exporter": "python",
   "pygments_lexer": "ipython3",
   "version": "3.9.12"
  }
 },
 "nbformat": 4,
 "nbformat_minor": 5
}
