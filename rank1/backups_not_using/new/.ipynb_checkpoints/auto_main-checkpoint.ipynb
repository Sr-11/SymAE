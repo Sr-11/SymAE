{
 "cells": [
  {
   "cell_type": "code",
   "execution_count": 1,
   "id": "5b14cb9b-e4b1-46ec-8d0b-cd7c8a207fa0",
   "metadata": {},
   "outputs": [],
   "source": [
    "import re,os\n",
    "import numpy as np\n",
    "import tensorflow as tf\n",
    "import matplotlib.pyplot as plt\n",
    "import matplotlib.patches as mpatches\n",
    "from IPython.display import clear_output\n",
    "import pandas as pd\n",
    "import math\n",
    "import random\n",
    "from datetime import datetime\n",
    "from tqdm import trange\n",
    "import matplotlib.colors as mcolors\n",
    "from sklearn.decomposition import PCA\n",
    "import plotly.express as px\n",
    "import plotly.graph_objects as go\n",
    "from ipywidgets import widgets\n",
    "import plotly.graph_objects as go\n",
    "tfk = tf.keras\n",
    "tfkl = tf.keras.layers\n",
    "tfkltd= tf.keras.layers.TimeDistributed\n",
    "clear_output()\n",
    "os.environ[\"CUDA_VISIBLE_DEVICES\"]=\"7\""
   ]
  },
  {
   "cell_type": "code",
   "execution_count": 2,
   "id": "5fe610b4-f201-4cdf-804b-78bbee5f320b",
   "metadata": {},
   "outputs": [
    {
     "name": "stdout",
     "output_type": "stream",
     "text": [
      "Num GPUs Available:  2\n",
      "TensorFlow Version:  2.9.1\n"
     ]
    }
   ],
   "source": [
    "from generate import generate\n",
    "from latent import latent\n",
    "from plot_training import plot_training\n",
    "from plot_save import plot_save\n",
    "import symae_core as symae"
   ]
  },
  {
   "cell_type": "code",
   "execution_count": 3,
   "id": "220adf5c-214c-4fb5-8f9d-4eaa0d9e8bd8",
   "metadata": {},
   "outputs": [],
   "source": [
    "n1 = 2\n",
    "n2 = 2\n",
    "nx = 10\n",
    "nt = 2\n",
    "p = 1\n",
    "q = 10\n",
    "dropout_rate = 0.0\n",
    "states = np.arange(n1)+1.0\n",
    "nuisances = np.arange(n2)+1.0"
   ]
  },
  {
   "cell_type": "code",
   "execution_count": 4,
   "id": "ea365f93-c50d-4a66-92c0-1d9fe3b005eb",
   "metadata": {},
   "outputs": [],
   "source": [
    "data = generate(states,nuisances,nx,nt,replace=2)\n",
    "X = data.X\n",
    "X_states = data.X_states\n",
    "X_nuisances = data.X_nuisances"
   ]
  },
  {
   "cell_type": "code",
   "execution_count": 5,
   "id": "9060bbab-2831-49e3-b540-95c57b554db0",
   "metadata": {},
   "outputs": [],
   "source": [
    "class SymmetricEncoderDense0D(tf.keras.Model):\n",
    "    def __init__(self, p, nt):\n",
    "        super(SymmetricEncoderDense0D, self).__init__(name='')\n",
    "        self.nt_out=p\n",
    "        self.nt_in=nt\n",
    "        self.d1=tfkltd(tfkl.Dense(4,activation=tf.keras.layers.LeakyReLU()))\n",
    "        self.d2=tfkltd(tfkl.Dense(16,activation=tf.keras.layers.LeakyReLU()))\n",
    "        self.d3=tfkl.Dense(16,activation=tf.keras.layers.LeakyReLU())\n",
    "        self.d4=tfkl.Dense(4,activation=tf.keras.layers.LeakyReLU())\n",
    "        self.d5=tfkl.Dense(p)\n",
    "    def call(self, x, training=False):\n",
    "        x=self.d1(x)\n",
    "        x=self.d2(x)\n",
    "        x=tf.math.reduce_mean(x,axis=1)\n",
    "        x=self.d3(x)\n",
    "        x=self.d4(x)\n",
    "        x=self.d5(x)\n",
    "        return x\n",
    "# 你是在让 nuisance encoder 记住states\n",
    "class NuisanceEncoderDense0D(tf.keras.Model):\n",
    "    def __init__(self, q, nt):\n",
    "        super(NuisanceEncoderDense0D, self).__init__(name='')\n",
    "        self.d1=tfkl.Dense(4,activation=tf.keras.layers.LeakyReLU())\n",
    "        self.d2=tfkl.Dense(16,activation=tf.keras.layers.LeakyReLU())\n",
    "        self.d3=tfkl.Dense(64,activation=tf.keras.layers.LeakyReLU())\n",
    "        self.d4=tfkl.Dense(16,activation=tf.keras.layers.LeakyReLU())\n",
    "        self.d5=tfkl.Dense(4,activation=tf.keras.layers.LeakyReLU())\n",
    "        self.d6=tfkl.Dense(q)\n",
    "    def call(self, input_tensor, training=False):\n",
    "        x=self.d1(input_tensor)\n",
    "        x=self.d2(x)\n",
    "        x=self.d3(x)\n",
    "        x=self.d4(x)\n",
    "        x=self.d5(x)\n",
    "        x=self.d6(x)\n",
    "        return x\n",
    "class DistributeZsym(tf.keras.Model):\n",
    "    def __init__(self, ntau, nz0, nzi):\n",
    "        super(DistributeZsym, self).__init__(name='')\n",
    "        self.nz0=nz0\n",
    "        self.nzi=nzi\n",
    "        self.ntau=ntau\n",
    "        self.ri=tfkl.Reshape(target_shape=(ntau,nzi))\n",
    "        self.repeat=tfkl.RepeatVector(ntau)\n",
    "    def call(self, z, training=False):\n",
    "        z0,zi=tf.split(z,[self.nz0, self.ntau*self.nzi],axis=1)\n",
    "        zi=self.ri(zi)\n",
    "        z0=self.repeat(z0)\n",
    "        out=tfkl.concatenate([z0, zi],axis=2)\n",
    "        return out\n",
    "class MixerDense0D(tf.keras.Model):\n",
    "    def __init__(self, n_out=1, n_in=p+q):\n",
    "        super(MixerDense0D, self).__init__(name='')\n",
    "        self.d1=tfkl.Dense(4*(n_in),activation=tf.keras.layers.LeakyReLU())\n",
    "        self.d2=tfkl.Dense(n_in,activation=tf.keras.layers.LeakyReLU())\n",
    "        self.d3=tfkl.Dense(4,activation=tf.keras.layers.LeakyReLU())\n",
    "        self.d4=tfkl.Dense(2,activation=tf.keras.layers.LeakyReLU())\n",
    "        self.d5=tfkl.Dense(1,activation=tf.keras.layers.LeakyReLU())\n",
    "        self.d6=tfkl.Dense(1)\n",
    "    def call(self, z, training=False):\n",
    "        x=self.d1(z)\n",
    "        x=self.d2(x)\n",
    "        x=self.d3(x)\n",
    "        x=self.d4(x)\n",
    "        x=self.d5(x)\n",
    "        x=self.d6(x)\n",
    "        return x"
   ]
  },
  {
   "cell_type": "code",
   "execution_count": 6,
   "id": "3d264dd2-5989-4605-a66d-57480dc56e70",
   "metadata": {},
   "outputs": [],
   "source": [
    "class LatentCat(tf.keras.Model):\n",
    "    def __init__(self, alpha=1.0):\n",
    "        super(LatentCat, self).__init__(name='')\n",
    "        self.drop = tfkl.Dropout(alpha)\n",
    "        #self.drop = tfkl.GaussianDropout(alpha)\n",
    "        #self.my_drop = My_Dropout(int((1-alpha)*q))\n",
    "    def call(self, zsym, znuisance, training=False):\n",
    "        #tf.print(training)\n",
    "        znuisance = self.drop(znuisance, training=training)\n",
    "        znuisance = tfkl.Flatten()(znuisance)\n",
    "        z = tfkl.concatenate([zsym, znuisance])\n",
    "        return z"
   ]
  },
  {
   "cell_type": "code",
   "execution_count": 7,
   "id": "32335964-1027-4d15-9402-4a3555734037",
   "metadata": {},
   "outputs": [],
   "source": [
    "class SymAE(tf.keras.Model):\n",
    "    def __init__(self, N, nt, p, q, dropout_rate): \n",
    "        super(SymAE, self).__init__()\n",
    "        # Build symmetric encoder\n",
    "        sym_encoder = SymmetricEncoderDense0D(p,nt)\n",
    "        sym_encoder._name = 'sym_encoder'\n",
    "        self.sym_encoder=sym_encoder\n",
    "        # Build nuisance encoder\n",
    "        nui_encoder = NuisanceEncoderDense0D(q,nt)\n",
    "        nui_encoder._name = 'nui_encoder'\n",
    "        self.nui_encoder = nui_encoder\n",
    "        #Build latentcat\n",
    "        latentcat = LatentCat(alpha=dropout_rate)\n",
    "        latentcat._name = 'latentcat'\n",
    "        self.latentcat = latentcat  \n",
    "        # Build distribute in decoder\n",
    "        distzsym = DistributeZsym(nt, p, q)\n",
    "        distzsym._name = 'dist'\n",
    "        self.distzsym = distzsym\n",
    "        #Build mixer in decoder\n",
    "        mixer = MixerDense0D(1,p+q)\n",
    "        mixer._name = 'mixer'\n",
    "        self.mixer = mixer\n",
    "        # Build encoder\n",
    "        encoder_input = tfk.Input(shape=(nt,1), dtype='float32', name='encoder_input')\n",
    "        znuisance = nui_encoder(encoder_input)\n",
    "        zsym = sym_encoder(encoder_input)\n",
    "        encoder_output=latentcat(zsym,znuisance)\n",
    "        encoder=tfk.Model(encoder_input, encoder_output, name=\"encoder\")\n",
    "        self.encoder=encoder\n",
    "        # Build decoder\n",
    "        decoder_input = tfk.Input(shape=(p+q*nt), name='latentcode')\n",
    "        decoder_output=mixer(distzsym(decoder_input))\n",
    "        decoder=tfk.Model(decoder_input,decoder_output, name=\"decoder\") \n",
    "        self.decoder=decoder\n",
    "    def call(self, input_tensor, training=False):\n",
    "        return self.decoder(self.encoder(input_tensor))"
   ]
  },
  {
   "cell_type": "code",
   "execution_count": 8,
   "id": "9e02e10c-c2b2-4f8a-b9b2-0073af4821e9",
   "metadata": {},
   "outputs": [],
   "source": [
    "Adam = tf.keras.optimizers.Adam(learning_rate=0.001,beta_1=0.9,beta_2=0.999,epsilon=1e-07)\n",
    "mse = tf.keras.losses.MeanSquaredError()\n",
    "def redatum(X1, X2):\n",
    "    return model.decoder(model.latentcat(model.sym_encoder(X1), model.nui_encoder(X2)))"
   ]
  },
  {
   "cell_type": "code",
   "execution_count": 16,
   "id": "511e8139-f356-4a3b-9820-3592ce5c7740",
   "metadata": {},
   "outputs": [
    {
     "name": "stdout",
     "output_type": "stream",
     "text": [
      "For epoch 9999, loss is 0.000557.\n",
      "Redatuming loss 1.302884.\n"
     ]
    },
    {
     "data": {
      "image/png": "[encoded data removed]",
      "text/plain": [
       "<Figure size 432x288 with 2 Axes>"
      ]
     },
     "metadata": {
      "needs_background": "light"
     },
     "output_type": "display_data"
    }
   ],
   "source": [
    "for q in range(2,50):\n",
    "    model = SymAE(nx,nt,p,q,0.5)\n",
    "    model.compile(loss='mse',optimizer=Adam)\n",
    "    M=10000\n",
    "    epochs=range(M)\n",
    "    losses=[np.nan]*M\n",
    "    redata=[np.nan]*M\n",
    "    sample_size = 10\n",
    "    redatum_list = list(zip(np.random.randint(0,nx,sample_size),np.random.randint(0,nx,sample_size)))\n",
    "    @tf.function\n",
    "    def redatum_loss(X):\n",
    "        s = []\n",
    "        for (i1,i2) in redatum_list:\n",
    "            X1 = X[i1:i1+1]\n",
    "            X2 = X[i2:i2+1]\n",
    "            s.append(mse(redatum(X1,X2), states[X_states[i1]]*nuisances[X_nuisances[i2,:]]))\n",
    "        #tf.print(redatum(X1,X2))\n",
    "        return sum(s)/sample_size\n",
    "    class CustomCallback(tf.keras.callbacks.Callback):\n",
    "        def on_epoch_end(self, epoch, logs=None):\n",
    "            clear_output(wait=True)\n",
    "            losses[epoch]=logs[\"loss\"]\n",
    "            redata[epoch] = redatum_loss(X)\n",
    "            print(\"For epoch {:d}, loss is {:f}.\".format(epoch, logs[\"loss\"]))\n",
    "            print(\"Redatuming loss {:f}.\".format(redata[epoch]))\n",
    "    history=model.fit(X,X,epochs=M,verbose=0,callbacks=[CustomCallback()])\n",
    "    fig, ax1 = plt.subplots()\n",
    "    ax2 = ax1.twinx()\n",
    "    ax1.plot(epochs,losses,'C0')\n",
    "    ax2.plot(epochs,redata,'C1')\n",
    "    ax1.set_xlabel('epoch')\n",
    "    ax1.set_ylabel('loss', color='C0')\n",
    "    ax2.set_ylabel('redatum loss', color='C1')\n",
    "    plt.show()\n",
    "    fig.savefig('./q=%d,redatum_loss=%f.jpg'%(q,min(redata)))"
   ]
  },
  {
   "cell_type": "code",
   "execution_count": 45,
   "id": "c3f14de0-e10d-4242-9e12-1cd5d68d0c7f",
   "metadata": {},
   "outputs": [],
   "source": [
    "import os\n",
    "pic=[]\n",
    "qs=[]\n",
    "ls=[]\n",
    "for file in os.listdir(\"./\"):\n",
    "    if file.endswith(\".jpg\"):\n",
    "        pic.append(file)\n",
    "        matchObj = re.match(\"q=(.*),redatum_loss=(.*).jpg\", pic[-1], flags=0)\n",
    "        qs.append(int(matchObj[1]))  \n",
    "        ls.append(float(matchObj[2]))"
   ]
  },
  {
   "cell_type": "code",
   "execution_count": 46,
   "id": "fd165040-4fff-4b35-b537-d756d60a074b",
   "metadata": {},
   "outputs": [
    {
     "data": {
      "text/plain": [
       "[<matplotlib.lines.Line2D at 0x7f206c3b1820>]"
      ]
     },
     "execution_count": 46,
     "metadata": {},
     "output_type": "execute_result"
    },
    {
     "data": {
      "image/png": "[encoded data removed]",
      "text/plain": [
       "<Figure size 432x288 with 1 Axes>"
      ]
     },
     "metadata": {
      "needs_background": "light"
     },
     "output_type": "display_data"
    }
   ],
   "source": [
    "plt.plot(qs,ls)"
   ]
  },
  {
   "cell_type": "code",
   "execution_count": 43,
   "id": "386753ae-88e3-4814-8144-d10ff13cb7f1",
   "metadata": {},
   "outputs": [
    {
     "data": {
      "text/plain": [
       "0.32155"
      ]
     },
     "execution_count": 43,
     "metadata": {},
     "output_type": "execute_result"
    }
   ],
   "source": []
  },
  {
   "cell_type": "code",
   "execution_count": null,
   "id": "088c9492-6862-41e6-9ae7-f9c02f7e3385",
   "metadata": {},
   "outputs": [],
   "source": []
  }
 ],
 "metadata": {
  "kernelspec": {
   "display_name": "Python 3 (ipykernel)",
   "language": "python",
   "name": "python3"
  },
  "language_info": {
   "codemirror_mode": {
    "name": "ipython",
    "version": 3
   },
   "file_extension": ".py",
   "mimetype": "text/x-python",
   "name": "python",
   "nbconvert_exporter": "python",
   "pygments_lexer": "ipython3",
   "version": "3.9.12"
  }
 },
 "nbformat": 4,
 "nbformat_minor": 5
}
