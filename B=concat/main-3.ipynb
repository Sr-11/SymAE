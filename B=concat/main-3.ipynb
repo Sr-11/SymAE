{
 "cells": [
  {
   "cell_type": "markdown",
   "id": "653c0a99-d178-4121-b9ce-ede762fdd228",
   "metadata": {
    "tags": []
   },
   "source": [
    "# Rank-1 Introduction"
   ]
  },
  {
   "cell_type": "markdown",
   "id": "be705430-ca48-4b06-b2e7-e45f376e4c1b",
   "metadata": {
    "tags": []
   },
   "source": [
    "# Import packages"
   ]
  },
  {
   "cell_type": "code",
   "execution_count": 1,
   "id": "79464c78-90d9-4773-9e3b-b9e4f822c9dc",
   "metadata": {},
   "outputs": [],
   "source": [
    "import re,os\n",
    "import numpy as np\n",
    "import tensorflow as tf\n",
    "import matplotlib.pyplot as plt\n",
    "from IPython.display import clear_output\n",
    "import pandas as pd\n",
    "import math\n",
    "import random\n",
    "from tqdm import trange, tqdm\n",
    "import matplotlib.colors as mcolors\n",
    "from sklearn.decomposition import PCA\n",
    "import plotly.express as px\n",
    "import plotly.graph_objects as go\n",
    "import imageio\n",
    "from matplotlib.backends.backend_agg import FigureCanvasAgg\n",
    "from matplotlib.figure import Figure\n",
    "tfk = tf.keras\n",
    "tfkl = tf.keras.layers\n",
    "tfkltd= tf.keras.layers.TimeDistributed\n",
    "clear_output()\n",
    "os.environ[\"CUDA_VISIBLE_DEVICES\"]=\"7\""
   ]
  },
  {
   "cell_type": "code",
   "execution_count": 2,
   "id": "5a9569cb-864b-4866-b919-9cf38655a7cc",
   "metadata": {},
   "outputs": [],
   "source": [
    "p = 1\n",
    "q = 3\n",
    "w = 10000"
   ]
  },
  {
   "cell_type": "markdown",
   "id": "331a3efd-bbec-4b17-9959-29a0230b8c90",
   "metadata": {
    "tags": []
   },
   "source": [
    "# Generate the Dataset"
   ]
  },
  {
   "cell_type": "markdown",
   "id": "7058abe7-f44b-4ac2-9094-e3eade1dd0b3",
   "metadata": {
    "tags": []
   },
   "source": [
    "### Set parameters"
   ]
  },
  {
   "cell_type": "code",
   "execution_count": 3,
   "id": "d22a959b-8479-4d61-87fb-018bc497ac18",
   "metadata": {},
   "outputs": [],
   "source": [
    "n1 = 10\n",
    "n2 = 100\n",
    "N = n1*n2\n",
    "states = np.arange(n1, dtype=float)-5\n",
    "nuisances = np.empty((n2,2))\n",
    "for i in range(n2):\n",
    "    nuisances[i,:]=[i//10-5, i%10-5]"
   ]
  },
  {
   "cell_type": "markdown",
   "id": "a71de487-0b37-4ab8-afc8-a6799c01bfd0",
   "metadata": {
    "tags": []
   },
   "source": [
    "### Generate X"
   ]
  },
  {
   "cell_type": "code",
   "execution_count": null,
   "id": "b023e3ac-7beb-416f-b26d-463c3b31cf8f",
   "metadata": {},
   "outputs": [],
   "source": []
  },
  {
   "cell_type": "code",
   "execution_count": 4,
   "id": "246ee958-8cc2-44f2-a17f-e4fbcc36433c",
   "metadata": {},
   "outputs": [],
   "source": [
    "X = np.empty((N,3))\n",
    "for i in range(N):\n",
    "    s = states[i//n2]\n",
    "    l = nuisances[i%n2]\n",
    "    X[i,0] = s    \n",
    "    X[i,1:3] = l"
   ]
  },
  {
   "cell_type": "code",
   "execution_count": 5,
   "id": "3966bf73-ef51-42a4-ac79-0f4331c3eba7",
   "metadata": {},
   "outputs": [
    {
     "data": {
      "image/png": "[encoded data removed]",
      "text/plain": [
       "<Figure size 10000x30 with 1 Axes>"
      ]
     },
     "metadata": {
      "needs_background": "light"
     },
     "output_type": "display_data"
    }
   ],
   "source": [
    "fig2 = plt.figure(figsize = (N,3), dpi=10)\n",
    "ax3 = fig2.add_subplot(111)\n",
    "ax3.imshow(X.T, interpolation='none')\n",
    "plt.show()"
   ]
  },
  {
   "cell_type": "markdown",
   "id": "d06811a0-65cb-4021-86c9-ab0a3a52f03d",
   "metadata": {
    "tags": []
   },
   "source": [
    "# Set SymAE"
   ]
  },
  {
   "cell_type": "markdown",
   "id": "690debcf-bcae-47ea-9dae-78cc7ab90105",
   "metadata": {
    "tags": []
   },
   "source": [
    "### Set CENc, NEnc, Dec"
   ]
  },
  {
   "cell_type": "code",
   "execution_count": 6,
   "id": "28f9da29-6361-42d5-be5e-ca01ba728a42",
   "metadata": {},
   "outputs": [],
   "source": [
    "class CEnc(tf.keras.Model):\n",
    "    def __init__(self, p, w):\n",
    "        super(CEnc, self).__init__(name='sym_encoder')\n",
    "    def call(self, x):\n",
    "        return x[:,0:1]\n",
    "    \n",
    "# 你是在让 nuisance encoder 记住states\n",
    "class NEnc(tf.keras.Model):\n",
    "    def __init__(self, q, w):\n",
    "        super(NEnc, self).__init__(name='nui_encoder')\n",
    "        self.d2=tfkl.Dense(q, use_bias=False,\n",
    "                           kernel_initializer='zeros')\n",
    "    def call(self, x):\n",
    "        x=self.d2(x)\n",
    "        return x\n",
    "    \n",
    "class Dec(tf.keras.Model):\n",
    "    def __init__(self, w):\n",
    "        super(Dec, self).__init__(name='dec')\n",
    "        self.d1=tfkl.Dense(w, activation='relu')#tf.keras.layers.LeakyReLU())\n",
    "        self.d2=tfkl.Dense(3, use_bias=False)\n",
    "    def call(self, x):\n",
    "        x=self.d1(x)\n",
    "        x=self.d2(x)\n",
    "        return x"
   ]
  },
  {
   "cell_type": "markdown",
   "id": "3e42028c-b175-4484-a10b-595e0f575c01",
   "metadata": {
    "tags": []
   },
   "source": [
    "### Dropout"
   ]
  },
  {
   "cell_type": "code",
   "execution_count": 7,
   "id": "b424056b-e527-4be5-ac3c-ca46107d3d85",
   "metadata": {},
   "outputs": [],
   "source": [
    "class LatentCat(tf.keras.Model):\n",
    "    def __init__(self):\n",
    "        super(LatentCat, self).__init__(name='latentcat')\n",
    "    def call(self, zsym, znui, mask=[1,1,1]):\n",
    "        znui = znui*mask\n",
    "        z = tfkl.concatenate([zsym, znui])\n",
    "        return z"
   ]
  },
  {
   "cell_type": "markdown",
   "id": "a71e81c4-51e1-4626-aa1d-5584e59e2cc5",
   "metadata": {
    "tags": []
   },
   "source": [
    "### model"
   ]
  },
  {
   "cell_type": "code",
   "execution_count": 8,
   "id": "565f6d94-06b3-476a-8898-0b22d2d93401",
   "metadata": {},
   "outputs": [],
   "source": [
    "class SymAE(tf.keras.Model):\n",
    "    def __init__(self, p, q, w): \n",
    "        super(SymAE, self).__init__()\n",
    "        # Build symmetric encoder\n",
    "        sym_encoder = CEnc(p, w)\n",
    "        self.sym_encoder=sym_encoder\n",
    "        \n",
    "        # Build nuisance encoder\n",
    "        nui_encoder = NEnc(q, w)\n",
    "        self.nui_encoder = nui_encoder\n",
    "        \n",
    "        #Build latentcat\n",
    "        latentcat = LatentCat()\n",
    "        self.latentcat = latentcat  \n",
    "        \n",
    "        #Build dec in decoder\n",
    "        dec = Dec(w)\n",
    "        self.dec = dec\n",
    "        \n",
    "        # Build encoder\n",
    "        encoder_input = tfk.Input(shape=(3), dtype='float32', name='encoder_input')\n",
    "        znui = nui_encoder(encoder_input); zsym = sym_encoder(encoder_input)\n",
    "        encoder_output = latentcat(zsym, znui)\n",
    "        encoder = tfk.Model(encoder_input, encoder_output, name=\"encoder\")\n",
    "        self.encoder=encoder\n",
    "        \n",
    "        # Build decoder\n",
    "        decoder_input = tfk.Input(shape=(1+q), name='latentcode')\n",
    "        decoder_output = dec(decoder_input)\n",
    "        decoder=tfk.Model(decoder_input,decoder_output, name=\"decoder\") \n",
    "        self.decoder=decoder\n",
    "        \n",
    "    def call(self, x, mask=[1,1,1]):\n",
    "        zsym = self.sym_encoder(x)\n",
    "        znui = self.nui_encoder(x)\n",
    "        z = self.latentcat(zsym, znui, mask)\n",
    "        x_hat = self.dec(z)\n",
    "        return x_hat\n",
    "    \n",
    "    def redatum(self, X1, X2):\n",
    "        return model.decoder(\n",
    "            model.latentcat(\n",
    "                model.sym_encoder(X1), \n",
    "                model.nui_encoder(X2)))"
   ]
  },
  {
   "cell_type": "markdown",
   "id": "ef994434-2a26-48a6-9afe-fdfd50d78eea",
   "metadata": {
    "tags": []
   },
   "source": [
    "### Initialize SymAE"
   ]
  },
  {
   "cell_type": "code",
   "execution_count": 9,
   "id": "34b2d7ce-0130-4236-a618-1bf22b325251",
   "metadata": {},
   "outputs": [],
   "source": [
    "model = SymAE(p,q,w)\n",
    "# Please directly modify My_Dropout to change dropout rate\n",
    "path = './p=%d,q=%d,w=%d'%(p,q,w)\n",
    "clear_output()"
   ]
  },
  {
   "cell_type": "code",
   "execution_count": 10,
   "id": "6f72a76f-04d2-4280-bfd6-dcfca905f782",
   "metadata": {},
   "outputs": [
    {
     "name": "stdout",
     "output_type": "stream",
     "text": [
      "weight exists\n"
     ]
    }
   ],
   "source": [
    "try:\n",
    "    #model.load_weights(path+'/checkpoint')\n",
    "    print(\"weight exists\")\n",
    "except:\n",
    "    print(\"weight doesn't exist\")"
   ]
  },
  {
   "cell_type": "markdown",
   "id": "6a81f827-25f5-4801-9ae7-2b81e857c0eb",
   "metadata": {
    "tags": []
   },
   "source": [
    "\n",
    "### Select optimizer"
   ]
  },
  {
   "cell_type": "code",
   "execution_count": 11,
   "id": "c25761b5-cfc5-4881-b4ae-7f6c3cab9a25",
   "metadata": {},
   "outputs": [],
   "source": [
    "mse = tf.keras.losses.MeanSquaredError()\n",
    "optimizer = tf.keras.optimizers.Adam(learning_rate=0.001,beta_1=0.9,beta_2=0.999,epsilon=1e-07)\n",
    "clear_output()"
   ]
  },
  {
   "cell_type": "markdown",
   "id": "291f5d0d-d0f3-461f-990f-6dc418e0348c",
   "metadata": {},
   "source": [
    "# Train"
   ]
  },
  {
   "cell_type": "markdown",
   "id": "807b82d3-85bc-4923-af21-62e549e5a5d1",
   "metadata": {},
   "source": [
    "### Define loss"
   ]
  },
  {
   "cell_type": "code",
   "execution_count": 12,
   "id": "ad610d5b-e413-4d4f-b169-1c5375611e1e",
   "metadata": {},
   "outputs": [],
   "source": [
    "X1 = np.empty((N,3))\n",
    "X2 = np.empty((N,3))\n",
    "for i in range(N):\n",
    "    X1[i,0] = np.random.choice(states)    \n",
    "    X1[i,1:3] = nuisances[np.random.randint(n2)]\n",
    "    X2[i,0] = np.random.choice(states)    \n",
    "    X2[i,1:3] = nuisances[np.random.randint(n2)]\n",
    "def redatum_loss():\n",
    "    redata = model.redatum(X1,X2)\n",
    "    origin = np.empty((N,3))\n",
    "    origin[:,0] = X1[:,0]\n",
    "    origin[:,1:3] = X2[:,1:3]\n",
    "    return mse(redata, origin)\n",
    "\n",
    "def loss_rec(model, x):\n",
    "    x_hat_1 = model(x, mask=[1,1,1])\n",
    "    x_hat_2 = model(x, mask=[0,1,1])\n",
    "    x_hat_3 = model(x, mask=[1,0,1])\n",
    "    x_hat_4 = model(x, mask=[1,1,0])\n",
    "    y = x\n",
    "    return mse(y, x_hat_1) + mse(y, x_hat_2) + mse(y, x_hat_3) + mse(y, x_hat_4) \n",
    "\n",
    "@tf.function\n",
    "def train_step(model, X):\n",
    "    with tf.GradientTape() as tape:\n",
    "        loss = loss_rec(model, X)\n",
    "    gradients = tape.gradient(loss, model.trainable_variables)\n",
    "    optimizer.apply_gradients(zip(gradients, model.trainable_variables))\n",
    "    return loss"
   ]
  },
  {
   "cell_type": "markdown",
   "id": "f80a2fe8-450e-47c9-9771-4429fd75977b",
   "metadata": {},
   "source": [
    "### Train"
   ]
  },
  {
   "cell_type": "code",
   "execution_count": 19,
   "id": "e4a7bf4f-6256-4d9d-81e7-b66a4736e521",
   "metadata": {},
   "outputs": [
    {
     "name": "stderr",
     "output_type": "stream",
     "text": [
      "\n",
      "KeyboardInterrupt\n",
      "\n"
     ]
    }
   ],
   "source": [
    "losses=[]\n",
    "redata=[]\n",
    "model.save_weights(path+'/checkpoint')\n",
    "writer = imageio.get_writer(path+'/NEnc.gif', fps=20)\n",
    "for epoch in range(10000):\n",
    "    loss_rec = train_step(model, X)\n",
    "    losses.append(loss_rec)\n",
    "    redata.append(redatum_loss())\n",
    "    if epoch%1==0:\n",
    "        print(\"loss:%f, redatum:%f\"%(losses[-1],redata[-1]))\n",
    "    clear_output(wait=True)\n",
    "writer.close()  "
   ]
  },
  {
   "cell_type": "markdown",
   "id": "20516808-4ee3-48c4-aeb8-07b94b35f70c",
   "metadata": {
    "tags": []
   },
   "source": [
    "### Save weights"
   ]
  },
  {
   "cell_type": "code",
   "execution_count": 20,
   "id": "a187e4f4-629d-4b71-93fc-a980a3d2a1fb",
   "metadata": {},
   "outputs": [
    {
     "name": "stdout",
     "output_type": "stream",
     "text": [
      "weights saved\n"
     ]
    }
   ],
   "source": [
    "#model.save_weights('./checkpoint/'+datetime.now().strftime(\"%B%d\"))\n",
    "model.save_weights(path+'/checkpoint')\n",
    "print(\"weights saved\")"
   ]
  },
  {
   "cell_type": "markdown",
   "id": "339c3ef1-6123-4d3b-8071-63c08375c3de",
   "metadata": {
    "tags": []
   },
   "source": [
    "### Loss-epoch graph"
   ]
  },
  {
   "cell_type": "code",
   "execution_count": 21,
   "id": "b524add1-6c48-42dd-bb86-59dad136ba9b",
   "metadata": {},
   "outputs": [
    {
     "data": {
      "image/png": "[encoded data removed]",
      "text/plain": [
       "<Figure size 432x288 with 2 Axes>"
      ]
     },
     "metadata": {
      "needs_background": "light"
     },
     "output_type": "display_data"
    }
   ],
   "source": [
    "fig, ax1 = plt.subplots()\n",
    "ax2 = ax1.twinx()\n",
    "ax1.plot(range(len(losses)),losses,'C0')\n",
    "ax2.plot(range(len(redata)),redata,'C1')\n",
    "ax1.set_xlabel('epoch')\n",
    "ax1.set_ylabel('loss', color='C0')\n",
    "ax2.set_ylabel('redatum loss', color='C1')\n",
    "plt.savefig(path+'/train.pdf', format='pdf', bbox_inches='tight')\n",
    "plt.show()"
   ]
  },
  {
   "cell_type": "markdown",
   "id": "ceee184d-2805-4ee6-9b70-14cf842cbeef",
   "metadata": {
    "tags": []
   },
   "source": [
    "# Visualize training loss"
   ]
  },
  {
   "cell_type": "markdown",
   "id": "f9d0f6dd-1351-43fa-967f-9a6feab99383",
   "metadata": {
    "tags": []
   },
   "source": [
    "### Plot D and SymAE(X)"
   ]
  },
  {
   "cell_type": "code",
   "execution_count": 22,
   "id": "49da7f28-8575-4bc3-a2c7-660c4cdabd94",
   "metadata": {},
   "outputs": [
    {
     "data": {
      "text/plain": [
       "<matplotlib.image.AxesImage at 0x7f69704b12b0>"
      ]
     },
     "execution_count": 22,
     "metadata": {},
     "output_type": "execute_result"
    },
    {
     "data": {
      "image/png": "[encoded data removed]",
      "text/plain": [
       "<Figure size 1440x144 with 2 Axes>"
      ]
     },
     "metadata": {
      "needs_background": "light"
     },
     "output_type": "display_data"
    }
   ],
   "source": [
    "fig, axs = plt.subplots(2, 1, sharex=True, sharey=True, figsize=(20,2))\n",
    "axs[0].matshow(X.T)\n",
    "axs[1].matshow(model(X).numpy().T)"
   ]
  },
  {
   "cell_type": "code",
   "execution_count": null,
   "id": "716780a5-dc28-44b4-a587-23ccc8b7e8e8",
   "metadata": {},
   "outputs": [],
   "source": []
  },
  {
   "cell_type": "markdown",
   "id": "f4ee609a-6682-43ce-95e0-09b3b172828d",
   "metadata": {},
   "source": [
    "### Redatuming"
   ]
  },
  {
   "cell_type": "code",
   "execution_count": 23,
   "id": "02c38189-6efd-48cc-a7b4-b97e30e6ad9b",
   "metadata": {},
   "outputs": [],
   "source": [
    "X_hat = np.copy(X)\n",
    "for i in range(N):\n",
    "    i1 = (i//n2)*n2 + np.random.randint(n2)\n",
    "    i2 = np.random.randint(n1)*n2 + i%n2\n",
    "    X1 = X[i1:i1+1]\n",
    "    X2 = X[i2:i2+1]\n",
    "    X_hat[i] = model.redatum(X1,X2)"
   ]
  },
  {
   "cell_type": "code",
   "execution_count": 24,
   "id": "80f3bcb6-8021-418d-a842-067fa3f0c80f",
   "metadata": {},
   "outputs": [
    {
     "data": {
      "text/plain": [
       "<matplotlib.image.AxesImage at 0x7f68dc1c9ac0>"
      ]
     },
     "execution_count": 24,
     "metadata": {},
     "output_type": "execute_result"
    },
    {
     "data": {
      "image/png": "[encoded data removed]",
      "text/plain": [
       "<Figure size 1440x144 with 2 Axes>"
      ]
     },
     "metadata": {
      "needs_background": "light"
     },
     "output_type": "display_data"
    }
   ],
   "source": [
    "fig, axs = plt.subplots(2, 1, sharex=True, sharey=True, figsize=(20,2))\n",
    "axs[0].matshow(X.T)\n",
    "axs[1].matshow(X_hat.T)"
   ]
  },
  {
   "cell_type": "code",
   "execution_count": null,
   "id": "4f8416a6-3df4-491e-ab78-24aaaf807705",
   "metadata": {},
   "outputs": [],
   "source": []
  },
  {
   "cell_type": "code",
   "execution_count": null,
   "id": "88352a83-434c-430f-8210-336baaa63605",
   "metadata": {},
   "outputs": [],
   "source": []
  },
  {
   "cell_type": "code",
   "execution_count": null,
   "id": "c59c3841-2a03-4295-83a9-75af75ab1748",
   "metadata": {},
   "outputs": [],
   "source": []
  },
  {
   "cell_type": "code",
   "execution_count": null,
   "id": "fc1c4369-3551-49b9-bb64-43b185fc8af3",
   "metadata": {},
   "outputs": [],
   "source": []
  }
 ],
 "metadata": {
  "kernelspec": {
   "display_name": "Python 3 (ipykernel)",
   "language": "python",
   "name": "python3"
  },
  "language_info": {
   "codemirror_mode": {
    "name": "ipython",
    "version": 3
   },
   "file_extension": ".py",
   "mimetype": "text/x-python",
   "name": "python",
   "nbconvert_exporter": "python",
   "pygments_lexer": "ipython3",
   "version": "3.9.12"
  }
 },
 "nbformat": 4,
 "nbformat_minor": 5
}
