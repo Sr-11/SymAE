{
 "cells": [
  {
   "cell_type": "code",
   "execution_count": 1,
   "id": "528ac99e-7a2d-4b6d-948a-7dc0398a9d4d",
   "metadata": {},
   "outputs": [],
   "source": [
    "import numpy as np\n",
    "import matplotlib.pyplot as plt"
   ]
  },
  {
   "cell_type": "code",
   "execution_count": 2,
   "id": "cd69cc28-915f-42c9-99fc-ad98a54893b1",
   "metadata": {},
   "outputs": [],
   "source": [
    "Z = np.empty((20,20))"
   ]
  },
  {
   "cell_type": "code",
   "execution_count": 8,
   "id": "6aa4b92e-8356-44bd-a991-8ba4e2206e90",
   "metadata": {
    "tags": []
   },
   "outputs": [],
   "source": [
    "for i in range(20):\n",
    "    for j in range(20):\n",
    "        a = -1+0.1*i\n",
    "        b = -1+0.1*j\n",
    "        if b!=0.0 and a!=0.0:\n",
    "            W = np.load('./sgd,p=1,q=2,w=100/a=%.1f,b=%.1f.npy'%(a,b))            \n",
    "        elif b==0.0 and a!=0.0:\n",
    "            W = np.load('./sgd,p=1,q=2,w=100/a=%.1f,b=-%.1f.npy'%(a,b))      \n",
    "        elif b!=0.0 and a==0.0:\n",
    "            W = np.load('./sgd,p=1,q=2,w=100/a=-%.1f,b=%.1f.npy'%(a,b))      \n",
    "        elif b==0.0 and a==0.0:\n",
    "            W = np.load('./sgd,p=1,q=2,w=100/a=-%.1f,b=-%.1f.npy'%(a,b))      \n",
    "        \n",
    "        Z[i,j]= W[0]\n",
    "        #print(Z[i,j])"
   ]
  },
  {
   "cell_type": "code",
   "execution_count": null,
   "id": "c5d170a3-aa8d-40e4-a1ac-ec545bf24164",
   "metadata": {},
   "outputs": [],
   "source": []
  },
  {
   "cell_type": "code",
   "execution_count": 9,
   "id": "80ff7612-3302-4041-8b87-712d99ef5c0f",
   "metadata": {},
   "outputs": [
    {
     "data": {
      "image/png": "[encoded data removed]",
      "text/plain": [
       "<Figure size 288x288 with 2 Axes>"
      ]
     },
     "metadata": {
      "needs_background": "light"
     },
     "output_type": "display_data"
    }
   ],
   "source": [
    "X = np.arange(-1.0,1.0,0.1)\n",
    "fig = plt.matshow(Z.T)\n",
    "plt.xlabel(r'$ \\alpha_0 $')\n",
    "plt.ylabel(r'$ \\beta_0 $')\n",
    "xticks = np.arange(0,20,5)\n",
    "xtick_labels = ['%.1f'%X[i] for i in xticks]\n",
    "plt.xticks(xticks, xtick_labels)\n",
    "plt.yticks(xticks, xtick_labels)\n",
    "plt.gca().xaxis.tick_bottom()\n",
    "plt.title(r'$\\alpha_\\infty$')\n",
    "plt.colorbar()\n",
    "plt.savefig('waa.pdf', format='pdf', bbox_inches='tight')"
   ]
  },
  {
   "cell_type": "code",
   "execution_count": 5,
   "id": "17b3383a-8a00-48e6-b35b-70f00355d516",
   "metadata": {},
   "outputs": [
    {
     "ename": "SyntaxError",
     "evalue": "invalid syntax (2439461554.py, line 1)",
     "output_type": "error",
     "traceback": [
      "\u001b[0;36m  Input \u001b[0;32mIn [5]\u001b[0;36m\u001b[0m\n\u001b[0;31m    123好吧\u001b[0m\n\u001b[0m       ^\u001b[0m\n\u001b[0;31mSyntaxError\u001b[0m\u001b[0;31m:\u001b[0m invalid syntax\n"
     ]
    }
   ],
   "source": [
    "123好吧"
   ]
  },
  {
   "cell_type": "code",
   "execution_count": null,
   "id": "e8b4347e-ab55-48e1-ae10-efb5492b7fba",
   "metadata": {},
   "outputs": [],
   "source": [
    "Z = np.zeros((40,40))"
   ]
  },
  {
   "cell_type": "code",
   "execution_count": null,
   "id": "95484a18-75ee-44d8-91a8-2d9c9260f062",
   "metadata": {
    "tags": []
   },
   "outputs": [],
   "source": [
    "for i in range(40):\n",
    "    for j in range(40):\n",
    "        try:\n",
    "            a = -2+0.1*i\n",
    "            b = -2+0.1*j\n",
    "            if b!=0.0 and a!=0.0:\n",
    "                W = np.load('./sgd,p=1,q=2,w=100/new_a=%.1f,b=%.1f.npy'%(a,b))            \n",
    "            elif b==0.0 and a!=0.0:\n",
    "                try:\n",
    "                    W = np.load('./sgd,p=1,q=2,w=100/new_a=%.1f,b=-%.1f.npy'%(a,b))  \n",
    "                except:\n",
    "                    W = np.load('./sgd,p=1,q=2,w=100/new_a=%.1f,b=%.1f.npy'%(a,b))      \n",
    "            elif b!=0.0 and a==0.0:\n",
    "                try:\n",
    "                    W = np.load('./sgd,p=1,q=2,w=100/new_a=-%.1f,b=%.1f.npy'%(a,b))\n",
    "                except:\n",
    "                    W = np.load('./sgd,p=1,q=2,w=100/new_a=%.1f,b=%.1f.npy'%(a,b))      \n",
    "            elif b==0.0 and a==0.0:\n",
    "                try:\n",
    "                    W = np.load('./sgd,p=1,q=2,w=100/new_a=-%.1f,b=-%.1f.npy'%(a,b))   \n",
    "                except:\n",
    "                    try:\n",
    "                        W = np.load('./sgd,p=1,q=2,w=100/new_a=%.1f,b=-%.1f.npy'%(a,b))\n",
    "                    except:\n",
    "                        try:\n",
    "                            W = np.load('./sgd,p=1,q=2,w=100/new_a=-%.1f,b=%.1f.npy'%(a,b))      \n",
    "                        except:\n",
    "                            W = np.load('./sgd,p=1,q=2,w=100/new_a=%.1f,b=%.1f.npy'%(a,b))      \n",
    "\n",
    "            Z[i,j]= np.abs(W[0]/W[1])\n",
    "            #print(Z[i,j])\n",
    "        except:\n",
    "            continue"
   ]
  },
  {
   "cell_type": "code",
   "execution_count": null,
   "id": "400bbed1-a3c7-49e0-a91d-7abd2f43fc6c",
   "metadata": {},
   "outputs": [],
   "source": [
    "X = np.arange(-2.0,2.0,0.1)\n",
    "plt.contourf(X,X,Z,levels=np.arange(0,2,0.01))\n",
    "plt.xlabel('$a_0$')\n",
    "plt.ylabel('$b_0$')\n",
    "plt.colorbar()"
   ]
  },
  {
   "cell_type": "code",
   "execution_count": null,
   "id": "103be922-ed89-475c-abc1-68a6fc7b6f11",
   "metadata": {},
   "outputs": [],
   "source": []
  },
  {
   "cell_type": "code",
   "execution_count": null,
   "id": "09fc897f-c149-4d63-9169-46fa54b0800e",
   "metadata": {},
   "outputs": [],
   "source": []
  },
  {
   "cell_type": "code",
   "execution_count": null,
   "id": "75681204-8250-4255-9838-930c588fd754",
   "metadata": {},
   "outputs": [],
   "source": []
  }
 ],
 "metadata": {
  "kernelspec": {
   "display_name": "Python 3 (ipykernel)",
   "language": "python",
   "name": "python3"
  },
  "language_info": {
   "codemirror_mode": {
    "name": "ipython",
    "version": 3
   },
   "file_extension": ".py",
   "mimetype": "text/x-python",
   "name": "python",
   "nbconvert_exporter": "python",
   "pygments_lexer": "ipython3",
   "version": "3.9.12"
  }
 },
 "nbformat": 4,
 "nbformat_minor": 5
}
